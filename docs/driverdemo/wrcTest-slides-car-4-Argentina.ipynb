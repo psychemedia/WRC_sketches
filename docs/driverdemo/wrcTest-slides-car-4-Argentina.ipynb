{
 "cells": [
  {
   "cell_type": "markdown",
   "metadata": {
    "slideshow": {
     "slide_type": "slide"
    }
   },
   "source": [
    "# WRC Rally - Argentina, 2017"
   ]
  },
  {
   "cell_type": "markdown",
   "metadata": {},
   "source": [
    "## Driver Analysis - Argentina"
   ]
  },
  {
   "cell_type": "markdown",
   "metadata": {
    "slideshow": {
     "slide_type": "slide"
    }
   },
   "source": [
    "# Day 1 (27/04/2017)\n",
    "## Section 1 (Evening)"
   ]
  },
  {
   "cell_type": "markdown",
   "metadata": {
    "slideshow": {
     "slide_type": "slide"
    }
   },
   "source": [
    "## SS1 - stage sector delta time (seconds) compared to H. PADDON stage sector time"
   ]
  },
  {
   "cell_type": "markdown",
   "metadata": {},
   "source": [
    "![](./chart_stage_sector_delta4_SS1.png)"
   ]
  },
  {
   "cell_type": "markdown",
   "metadata": {},
   "source": [
    "*This chart allows you to compare the __on stage__ performance of each driver. It displays the \"sector time\" of each driver (the time between each split point along the stage), rebased relative to car 4.*"
   ]
  },
  {
   "cell_type": "markdown",
   "metadata": {
    "slideshow": {
     "slide_type": "subslide"
    }
   },
   "source": [
    "## SS1 - stage sector time (seconds)"
   ]
  },
  {
   "cell_type": "markdown",
   "metadata": {},
   "source": [
    "<table border=\"1\" class=\"dataframe\">\n",
    "  <thead>\n",
    "    <tr style=\"text-align: right;\">\n",
    "      <th></th>\n",
    "      <th>carNo</th>\n",
    "      <th>driverName</th>\n",
    "      <th>time_stageTime</th>\n",
    "    </tr>\n",
    "    <tr>\n",
    "      <th>start</th>\n",
    "      <th></th>\n",
    "      <th></th>\n",
    "      <th></th>\n",
    "    </tr>\n",
    "  </thead>\n",
    "  <tbody>\n",
    "    <tr>\n",
    "      <th>20</th>\n",
    "      <td>1</td>\n",
    "      <td>S. OGIER</td>\n",
    "      <td>00:01:53.800000</td>\n",
    "    </tr>\n",
    "    <tr>\n",
    "      <th>12</th>\n",
    "      <td>3</td>\n",
    "      <td>E. EVANS</td>\n",
    "      <td>00:01:54.700000</td>\n",
    "    </tr>\n",
    "    <tr>\n",
    "      <th>15</th>\n",
    "      <td>6</td>\n",
    "      <td>D. SORDO</td>\n",
    "      <td>00:01:54.700000</td>\n",
    "    </tr>\n",
    "    <tr>\n",
    "      <th>18</th>\n",
    "      <td>5</td>\n",
    "      <td>T. NEUVILLE</td>\n",
    "      <td>00:01:55.400000</td>\n",
    "    </tr>\n",
    "    <tr>\n",
    "      <th>19</th>\n",
    "      <td>10</td>\n",
    "      <td>J. LATVALA</td>\n",
    "      <td>00:01:55.900000</td>\n",
    "    </tr>\n",
    "    <tr>\n",
    "      <th>10</th>\n",
    "      <td>14</td>\n",
    "      <td>M. OSTBERG</td>\n",
    "      <td>00:01:56.200000</td>\n",
    "    </tr>\n",
    "    <tr>\n",
    "      <th>13</th>\n",
    "      <td>4</td>\n",
    "      <td>H. PADDON</td>\n",
    "      <td>00:01:56.300000</td>\n",
    "    </tr>\n",
    "    <tr>\n",
    "      <th>17</th>\n",
    "      <td>7</td>\n",
    "      <td>K. MEEKE</td>\n",
    "      <td>00:01:56.500000</td>\n",
    "    </tr>\n",
    "    <tr>\n",
    "      <th>16</th>\n",
    "      <td>2</td>\n",
    "      <td>O. TANAK</td>\n",
    "      <td>00:01:56.900000</td>\n",
    "    </tr>\n",
    "    <tr>\n",
    "      <th>11</th>\n",
    "      <td>11</td>\n",
    "      <td>J. HANNINEN</td>\n",
    "      <td>00:01:57.600000</td>\n",
    "    </tr>\n",
    "  </tbody>\n",
    "</table>"
   ]
  },
  {
   "cell_type": "markdown",
   "metadata": {
    "slideshow": {
     "slide_type": "subslide"
    }
   },
   "source": [
    "## SS1 - stage split delta time (seconds) compared to H. PADDON"
   ]
  },
  {
   "cell_type": "markdown",
   "metadata": {},
   "source": [
    "![](./split_delta_driver4_SS1.png)"
   ]
  },
  {
   "cell_type": "markdown",
   "metadata": {},
   "source": [
    "*This chart allows you to compare the __on stage__ performance of each driver, with split times rebased relative to car 4 on stage.*"
   ]
  },
  {
   "cell_type": "markdown",
   "metadata": {
    "slideshow": {
     "slide_type": "slide"
    }
   },
   "source": [
    "# Day 2 (28/04/2017)\n",
    "## Section 2 (Morning)"
   ]
  },
  {
   "cell_type": "markdown",
   "metadata": {
    "slideshow": {
     "slide_type": "slide"
    }
   },
   "source": [
    "## SS2 - stage sector delta time (seconds) compared to H. PADDON stage sector time"
   ]
  },
  {
   "cell_type": "markdown",
   "metadata": {},
   "source": [
    "![](./chart_stage_sector_delta4_SS2.png)"
   ]
  },
  {
   "cell_type": "markdown",
   "metadata": {},
   "source": [
    "*This chart allows you to compare the __on stage__ performance of each driver. It displays the \"sector time\" of each driver (the time between each split point along the stage), rebased relative to car 4.*"
   ]
  },
  {
   "cell_type": "markdown",
   "metadata": {
    "slideshow": {
     "slide_type": "subslide"
    }
   },
   "source": [
    "## SS2 - stage sector time (seconds)"
   ]
  },
  {
   "cell_type": "markdown",
   "metadata": {},
   "source": [
    "<table border=\"1\" class=\"dataframe\">\n",
    "  <thead>\n",
    "    <tr style=\"text-align: right;\">\n",
    "      <th></th>\n",
    "      <th>carNo</th>\n",
    "      <th>driverName</th>\n",
    "      <th>sector_1</th>\n",
    "      <th>sector_2</th>\n",
    "      <th>sector_3</th>\n",
    "      <th>time_stageTime</th>\n",
    "    </tr>\n",
    "    <tr>\n",
    "      <th>start</th>\n",
    "      <th></th>\n",
    "      <th></th>\n",
    "      <th></th>\n",
    "      <th></th>\n",
    "      <th></th>\n",
    "      <th></th>\n",
    "    </tr>\n",
    "  </thead>\n",
    "  <tbody>\n",
    "    <tr>\n",
    "      <th>9</th>\n",
    "      <td>3</td>\n",
    "      <td>E. EVANS</td>\n",
    "      <td>00:02:51.200000</td>\n",
    "      <td>00:05:51.100000</td>\n",
    "      <td>00:04:00</td>\n",
    "      <td>00:12:42.300000</td>\n",
    "    </tr>\n",
    "    <tr>\n",
    "      <th>7</th>\n",
    "      <td>7</td>\n",
    "      <td>K. MEEKE</td>\n",
    "      <td>00:02:55</td>\n",
    "      <td>00:05:51.500000</td>\n",
    "      <td>00:04:00.400000</td>\n",
    "      <td>00:12:46.900000</td>\n",
    "    </tr>\n",
    "    <tr>\n",
    "      <th>5</th>\n",
    "      <td>6</td>\n",
    "      <td>D. SORDO</td>\n",
    "      <td>00:02:54.700000</td>\n",
    "      <td>00:05:53.500000</td>\n",
    "      <td>00:04:01</td>\n",
    "      <td>00:12:49.200000</td>\n",
    "    </tr>\n",
    "    <tr>\n",
    "      <th>2</th>\n",
    "      <td>10</td>\n",
    "      <td>J. LATVALA</td>\n",
    "      <td>00:02:55</td>\n",
    "      <td>00:05:56.200000</td>\n",
    "      <td>00:04:03.100000</td>\n",
    "      <td>00:12:54.300000</td>\n",
    "    </tr>\n",
    "    <tr>\n",
    "      <th>3</th>\n",
    "      <td>5</td>\n",
    "      <td>T. NEUVILLE</td>\n",
    "      <td>00:02:55.500000</td>\n",
    "      <td>00:05:58.400000</td>\n",
    "      <td>00:04:02.800000</td>\n",
    "      <td>00:12:56.700000</td>\n",
    "    </tr>\n",
    "    <tr>\n",
    "      <th>11</th>\n",
    "      <td>14</td>\n",
    "      <td>M. OSTBERG</td>\n",
    "      <td>00:02:55.100000</td>\n",
    "      <td>00:05:58.600000</td>\n",
    "      <td>00:04:03.900000</td>\n",
    "      <td>00:12:57.600000</td>\n",
    "    </tr>\n",
    "    <tr>\n",
    "      <th>1</th>\n",
    "      <td>1</td>\n",
    "      <td>S. OGIER</td>\n",
    "      <td>00:02:54.100000</td>\n",
    "      <td>00:06:01.300000</td>\n",
    "      <td>00:04:04.800000</td>\n",
    "      <td>00:13:00.200000</td>\n",
    "    </tr>\n",
    "    <tr>\n",
    "      <th>6</th>\n",
    "      <td>8</td>\n",
    "      <td>C. BREEN</td>\n",
    "      <td>00:02:58.500000</td>\n",
    "      <td>00:05:58.300000</td>\n",
    "      <td>00:04:05.300000</td>\n",
    "      <td>00:13:02.100000</td>\n",
    "    </tr>\n",
    "    <tr>\n",
    "      <th>4</th>\n",
    "      <td>2</td>\n",
    "      <td>O. TANAK</td>\n",
    "      <td>00:02:55.300000</td>\n",
    "      <td>00:06:02.500000</td>\n",
    "      <td>00:04:07.400000</td>\n",
    "      <td>00:13:05.200000</td>\n",
    "    </tr>\n",
    "    <tr>\n",
    "      <th>12</th>\n",
    "      <td>37</td>\n",
    "      <td>L. BERTELLI</td>\n",
    "      <td>00:02:59.300000</td>\n",
    "      <td>00:06:07</td>\n",
    "      <td>00:04:21.400000</td>\n",
    "      <td>00:13:27.700000</td>\n",
    "    </tr>\n",
    "  </tbody>\n",
    "</table>"
   ]
  },
  {
   "cell_type": "markdown",
   "metadata": {
    "slideshow": {
     "slide_type": "subslide"
    }
   },
   "source": [
    "## SS2 - stage split delta time (seconds) compared to H. PADDON"
   ]
  },
  {
   "cell_type": "markdown",
   "metadata": {},
   "source": [
    "![](./split_delta_driver4_SS2.png)"
   ]
  },
  {
   "cell_type": "markdown",
   "metadata": {},
   "source": [
    "*This chart allows you to compare the __on stage__ performance of each driver, with split times rebased relative to car 4 on stage.*"
   ]
  },
  {
   "cell_type": "markdown",
   "metadata": {
    "slideshow": {
     "slide_type": "slide"
    }
   },
   "source": [
    "## SS3 - stage sector delta time (seconds) compared to H. PADDON stage sector time"
   ]
  },
  {
   "cell_type": "markdown",
   "metadata": {},
   "source": [
    "![](./chart_stage_sector_delta4_SS3.png)"
   ]
  },
  {
   "cell_type": "markdown",
   "metadata": {},
   "source": [
    "*This chart allows you to compare the __on stage__ performance of each driver. It displays the \"sector time\" of each driver (the time between each split point along the stage), rebased relative to car 4.*"
   ]
  },
  {
   "cell_type": "markdown",
   "metadata": {
    "slideshow": {
     "slide_type": "subslide"
    }
   },
   "source": [
    "## SS3 - stage sector time (seconds)"
   ]
  },
  {
   "cell_type": "markdown",
   "metadata": {},
   "source": [
    "<table border=\"1\" class=\"dataframe\">\n",
    "  <thead>\n",
    "    <tr style=\"text-align: right;\">\n",
    "      <th></th>\n",
    "      <th>carNo</th>\n",
    "      <th>driverName</th>\n",
    "      <th>sector_1</th>\n",
    "      <th>sector_2</th>\n",
    "      <th>sector_3</th>\n",
    "      <th>time_stageTime</th>\n",
    "    </tr>\n",
    "    <tr>\n",
    "      <th>start</th>\n",
    "      <th></th>\n",
    "      <th></th>\n",
    "      <th></th>\n",
    "      <th></th>\n",
    "      <th></th>\n",
    "      <th></th>\n",
    "    </tr>\n",
    "  </thead>\n",
    "  <tbody>\n",
    "    <tr>\n",
    "      <th>9</th>\n",
    "      <td>3</td>\n",
    "      <td>E. EVANS</td>\n",
    "      <td>00:04:05</td>\n",
    "      <td>00:02:39.500000</td>\n",
    "      <td>00:03:34.300000</td>\n",
    "      <td>00:10:18.800000</td>\n",
    "    </tr>\n",
    "    <tr>\n",
    "      <th>7</th>\n",
    "      <td>7</td>\n",
    "      <td>K. MEEKE</td>\n",
    "      <td>00:04:08</td>\n",
    "      <td>00:02:40.900000</td>\n",
    "      <td>00:03:32.200000</td>\n",
    "      <td>00:10:21.100000</td>\n",
    "    </tr>\n",
    "    <tr>\n",
    "      <th>4</th>\n",
    "      <td>2</td>\n",
    "      <td>O. TANAK</td>\n",
    "      <td>00:04:07.300000</td>\n",
    "      <td>00:02:38.900000</td>\n",
    "      <td>00:03:35.300000</td>\n",
    "      <td>00:10:21.500000</td>\n",
    "    </tr>\n",
    "    <tr>\n",
    "      <th>1</th>\n",
    "      <td>1</td>\n",
    "      <td>S. OGIER</td>\n",
    "      <td>00:04:08</td>\n",
    "      <td>00:02:41.100000</td>\n",
    "      <td>00:03:36.800000</td>\n",
    "      <td>00:10:25.900000</td>\n",
    "    </tr>\n",
    "    <tr>\n",
    "      <th>11</th>\n",
    "      <td>14</td>\n",
    "      <td>M. OSTBERG</td>\n",
    "      <td>00:04:08.500000</td>\n",
    "      <td>00:02:42.400000</td>\n",
    "      <td>00:03:35.100000</td>\n",
    "      <td>00:10:26</td>\n",
    "    </tr>\n",
    "    <tr>\n",
    "      <th>2</th>\n",
    "      <td>10</td>\n",
    "      <td>J. LATVALA</td>\n",
    "      <td>00:04:10.600000</td>\n",
    "      <td>00:02:39.900000</td>\n",
    "      <td>00:03:35.900000</td>\n",
    "      <td>00:10:26.400000</td>\n",
    "    </tr>\n",
    "    <tr>\n",
    "      <th>8</th>\n",
    "      <td>4</td>\n",
    "      <td>H. PADDON</td>\n",
    "      <td>00:04:08.600000</td>\n",
    "      <td>00:02:42.600000</td>\n",
    "      <td>00:03:36.400000</td>\n",
    "      <td>00:10:27.600000</td>\n",
    "    </tr>\n",
    "    <tr>\n",
    "      <th>3</th>\n",
    "      <td>5</td>\n",
    "      <td>T. NEUVILLE</td>\n",
    "      <td>00:04:11.300000</td>\n",
    "      <td>00:02:42.700000</td>\n",
    "      <td>00:03:34.800000</td>\n",
    "      <td>00:10:28.800000</td>\n",
    "    </tr>\n",
    "    <tr>\n",
    "      <th>6</th>\n",
    "      <td>8</td>\n",
    "      <td>C. BREEN</td>\n",
    "      <td>00:04:12.300000</td>\n",
    "      <td>00:02:44.400000</td>\n",
    "      <td>00:03:36</td>\n",
    "      <td>00:10:32.700000</td>\n",
    "    </tr>\n",
    "    <tr>\n",
    "      <th>12</th>\n",
    "      <td>37</td>\n",
    "      <td>L. BERTELLI</td>\n",
    "      <td>00:04:18.600000</td>\n",
    "      <td>00:02:54</td>\n",
    "      <td>00:03:46.100000</td>\n",
    "      <td>00:10:58.700000</td>\n",
    "    </tr>\n",
    "  </tbody>\n",
    "</table>"
   ]
  },
  {
   "cell_type": "markdown",
   "metadata": {
    "slideshow": {
     "slide_type": "subslide"
    }
   },
   "source": [
    "## SS3 - stage split delta time (seconds) compared to H. PADDON"
   ]
  },
  {
   "cell_type": "markdown",
   "metadata": {},
   "source": [
    "![](./split_delta_driver4_SS3.png)"
   ]
  },
  {
   "cell_type": "markdown",
   "metadata": {},
   "source": [
    "*This chart allows you to compare the __on stage__ performance of each driver, with split times rebased relative to car 4 on stage.*"
   ]
  },
  {
   "cell_type": "markdown",
   "metadata": {
    "slideshow": {
     "slide_type": "slide"
    }
   },
   "source": [
    "## SS4 - stage sector delta time (seconds) compared to H. PADDON stage sector time"
   ]
  },
  {
   "cell_type": "markdown",
   "metadata": {},
   "source": [
    "![](./chart_stage_sector_delta4_SS4.png)"
   ]
  },
  {
   "cell_type": "markdown",
   "metadata": {},
   "source": [
    "*This chart allows you to compare the __on stage__ performance of each driver. It displays the \"sector time\" of each driver (the time between each split point along the stage), rebased relative to car 4.*"
   ]
  },
  {
   "cell_type": "markdown",
   "metadata": {
    "slideshow": {
     "slide_type": "subslide"
    }
   },
   "source": [
    "## SS4 - stage sector time (seconds)"
   ]
  },
  {
   "cell_type": "markdown",
   "metadata": {},
   "source": [
    "<table border=\"1\" class=\"dataframe\">\n",
    "  <thead>\n",
    "    <tr style=\"text-align: right;\">\n",
    "      <th></th>\n",
    "      <th>carNo</th>\n",
    "      <th>driverName</th>\n",
    "      <th>sector_1</th>\n",
    "      <th>sector_2</th>\n",
    "      <th>sector_3</th>\n",
    "      <th>time_stageTime</th>\n",
    "    </tr>\n",
    "    <tr>\n",
    "      <th>start</th>\n",
    "      <th></th>\n",
    "      <th></th>\n",
    "      <th></th>\n",
    "      <th></th>\n",
    "      <th></th>\n",
    "      <th></th>\n",
    "    </tr>\n",
    "  </thead>\n",
    "  <tbody>\n",
    "    <tr>\n",
    "      <th>9</th>\n",
    "      <td>3</td>\n",
    "      <td>E. EVANS</td>\n",
    "      <td>00:03:53.500000</td>\n",
    "      <td>00:05:09.900000</td>\n",
    "      <td>00:04:41.400000</td>\n",
    "      <td>00:13:44.800000</td>\n",
    "    </tr>\n",
    "    <tr>\n",
    "      <th>2</th>\n",
    "      <td>10</td>\n",
    "      <td>J. LATVALA</td>\n",
    "      <td>NaT</td>\n",
    "      <td>NaT</td>\n",
    "      <td>NaT</td>\n",
    "      <td>00:13:47.600000</td>\n",
    "    </tr>\n",
    "    <tr>\n",
    "      <th>4</th>\n",
    "      <td>2</td>\n",
    "      <td>O. TANAK</td>\n",
    "      <td>00:03:57.400000</td>\n",
    "      <td>00:05:09</td>\n",
    "      <td>00:04:44</td>\n",
    "      <td>00:13:50.400000</td>\n",
    "    </tr>\n",
    "    <tr>\n",
    "      <th>11</th>\n",
    "      <td>14</td>\n",
    "      <td>M. OSTBERG</td>\n",
    "      <td>00:03:58.300000</td>\n",
    "      <td>00:05:10.300000</td>\n",
    "      <td>00:04:44.400000</td>\n",
    "      <td>00:13:53</td>\n",
    "    </tr>\n",
    "    <tr>\n",
    "      <th>5</th>\n",
    "      <td>6</td>\n",
    "      <td>D. SORDO</td>\n",
    "      <td>00:03:57.600000</td>\n",
    "      <td>00:05:11.700000</td>\n",
    "      <td>00:04:44.600000</td>\n",
    "      <td>00:13:53.900000</td>\n",
    "    </tr>\n",
    "    <tr>\n",
    "      <th>1</th>\n",
    "      <td>1</td>\n",
    "      <td>S. OGIER</td>\n",
    "      <td>00:04:00.200000</td>\n",
    "      <td>00:05:10.500000</td>\n",
    "      <td>00:04:45.700000</td>\n",
    "      <td>00:13:56.400000</td>\n",
    "    </tr>\n",
    "    <tr>\n",
    "      <th>8</th>\n",
    "      <td>4</td>\n",
    "      <td>H. PADDON</td>\n",
    "      <td>00:03:56</td>\n",
    "      <td>00:05:14</td>\n",
    "      <td>00:04:47.200000</td>\n",
    "      <td>00:13:57.200000</td>\n",
    "    </tr>\n",
    "    <tr>\n",
    "      <th>3</th>\n",
    "      <td>5</td>\n",
    "      <td>T. NEUVILLE</td>\n",
    "      <td>00:03:58.700000</td>\n",
    "      <td>00:05:14.400000</td>\n",
    "      <td>00:04:54.600000</td>\n",
    "      <td>00:14:07.700000</td>\n",
    "    </tr>\n",
    "    <tr>\n",
    "      <th>12</th>\n",
    "      <td>37</td>\n",
    "      <td>L. BERTELLI</td>\n",
    "      <td>00:04:06.600000</td>\n",
    "      <td>00:05:22</td>\n",
    "      <td>00:04:51</td>\n",
    "      <td>00:14:19.600000</td>\n",
    "    </tr>\n",
    "    <tr>\n",
    "      <th>14</th>\n",
    "      <td>31</td>\n",
    "      <td>P. TIDEMAND</td>\n",
    "      <td>00:04:13.800000</td>\n",
    "      <td>00:05:29.400000</td>\n",
    "      <td>00:04:57.800000</td>\n",
    "      <td>00:14:41</td>\n",
    "    </tr>\n",
    "  </tbody>\n",
    "</table>"
   ]
  },
  {
   "cell_type": "markdown",
   "metadata": {
    "slideshow": {
     "slide_type": "subslide"
    }
   },
   "source": [
    "## SS4 - stage split delta time (seconds) compared to H. PADDON"
   ]
  },
  {
   "cell_type": "markdown",
   "metadata": {},
   "source": [
    "![](./split_delta_driver4_SS4.png)"
   ]
  },
  {
   "cell_type": "markdown",
   "metadata": {},
   "source": [
    "*This chart allows you to compare the __on stage__ performance of each driver, with split times rebased relative to car 4 on stage.*"
   ]
  },
  {
   "cell_type": "markdown",
   "metadata": {
    "slideshow": {
     "slide_type": "slide"
    }
   },
   "source": [
    "## SS5 - stage sector delta time (seconds) compared to H. PADDON stage sector time"
   ]
  },
  {
   "cell_type": "markdown",
   "metadata": {},
   "source": [
    "![](./chart_stage_sector_delta4_SS5.png)"
   ]
  },
  {
   "cell_type": "markdown",
   "metadata": {},
   "source": [
    "*This chart allows you to compare the __on stage__ performance of each driver. It displays the \"sector time\" of each driver (the time between each split point along the stage), rebased relative to car 4.*"
   ]
  },
  {
   "cell_type": "markdown",
   "metadata": {
    "slideshow": {
     "slide_type": "subslide"
    }
   },
   "source": [
    "## SS5 - stage sector time (seconds)"
   ]
  },
  {
   "cell_type": "markdown",
   "metadata": {},
   "source": [
    "<table border=\"1\" class=\"dataframe\">\n",
    "  <thead>\n",
    "    <tr style=\"text-align: right;\">\n",
    "      <th></th>\n",
    "      <th>carNo</th>\n",
    "      <th>driverName</th>\n",
    "      <th>time_stageTime</th>\n",
    "    </tr>\n",
    "    <tr>\n",
    "      <th>start</th>\n",
    "      <th></th>\n",
    "      <th></th>\n",
    "      <th></th>\n",
    "    </tr>\n",
    "  </thead>\n",
    "  <tbody>\n",
    "    <tr>\n",
    "      <th>8</th>\n",
    "      <td>3</td>\n",
    "      <td>E. EVANS</td>\n",
    "      <td>00:04:43.500000</td>\n",
    "    </tr>\n",
    "    <tr>\n",
    "      <th>4</th>\n",
    "      <td>5</td>\n",
    "      <td>T. NEUVILLE</td>\n",
    "      <td>00:04:45.700000</td>\n",
    "    </tr>\n",
    "    <tr>\n",
    "      <th>10</th>\n",
    "      <td>14</td>\n",
    "      <td>M. OSTBERG</td>\n",
    "      <td>00:04:46.900000</td>\n",
    "    </tr>\n",
    "    <tr>\n",
    "      <th>6</th>\n",
    "      <td>6</td>\n",
    "      <td>D. SORDO</td>\n",
    "      <td>00:04:47.600000</td>\n",
    "    </tr>\n",
    "    <tr>\n",
    "      <th>1</th>\n",
    "      <td>1</td>\n",
    "      <td>S. OGIER</td>\n",
    "      <td>00:04:49.500000</td>\n",
    "    </tr>\n",
    "    <tr>\n",
    "      <th>3</th>\n",
    "      <td>2</td>\n",
    "      <td>O. TANAK</td>\n",
    "      <td>00:04:49.900000</td>\n",
    "    </tr>\n",
    "    <tr>\n",
    "      <th>2</th>\n",
    "      <td>10</td>\n",
    "      <td>J. LATVALA</td>\n",
    "      <td>00:04:50</td>\n",
    "    </tr>\n",
    "    <tr>\n",
    "      <th>5</th>\n",
    "      <td>4</td>\n",
    "      <td>H. PADDON</td>\n",
    "      <td>00:04:51.500000</td>\n",
    "    </tr>\n",
    "    <tr>\n",
    "      <th>9</th>\n",
    "      <td>37</td>\n",
    "      <td>L. BERTELLI</td>\n",
    "      <td>00:04:54.200000</td>\n",
    "    </tr>\n",
    "    <tr>\n",
    "      <th>11</th>\n",
    "      <td>31</td>\n",
    "      <td>P. TIDEMAND</td>\n",
    "      <td>00:04:55.900000</td>\n",
    "    </tr>\n",
    "  </tbody>\n",
    "</table>"
   ]
  },
  {
   "cell_type": "markdown",
   "metadata": {
    "slideshow": {
     "slide_type": "subslide"
    }
   },
   "source": [
    "## SS5 - stage split delta time (seconds) compared to H. PADDON"
   ]
  },
  {
   "cell_type": "markdown",
   "metadata": {},
   "source": [
    "![](./split_delta_driver4_SS5.png)"
   ]
  },
  {
   "cell_type": "markdown",
   "metadata": {},
   "source": [
    "*This chart allows you to compare the __on stage__ performance of each driver, with split times rebased relative to car 4 on stage.*"
   ]
  },
  {
   "cell_type": "markdown",
   "metadata": {
    "slideshow": {
     "slide_type": "slide"
    }
   },
   "source": [
    "# Day 4 (28/04/2017)\n",
    "## Section 3 (Afternoon/Evening)"
   ]
  },
  {
   "cell_type": "markdown",
   "metadata": {
    "slideshow": {
     "slide_type": "slide"
    }
   },
   "source": [
    "## SS6 - stage sector delta time (seconds) compared to H. PADDON stage sector time"
   ]
  },
  {
   "cell_type": "markdown",
   "metadata": {},
   "source": [
    "![](./chart_stage_sector_delta4_SS6.png)"
   ]
  },
  {
   "cell_type": "markdown",
   "metadata": {},
   "source": [
    "*This chart allows you to compare the __on stage__ performance of each driver. It displays the \"sector time\" of each driver (the time between each split point along the stage), rebased relative to car 4.*"
   ]
  },
  {
   "cell_type": "markdown",
   "metadata": {
    "slideshow": {
     "slide_type": "subslide"
    }
   },
   "source": [
    "## SS6 - stage sector time (seconds)"
   ]
  },
  {
   "cell_type": "markdown",
   "metadata": {},
   "source": [
    "<table border=\"1\" class=\"dataframe\">\n",
    "  <thead>\n",
    "    <tr style=\"text-align: right;\">\n",
    "      <th></th>\n",
    "      <th>carNo</th>\n",
    "      <th>driverName</th>\n",
    "      <th>sector_1</th>\n",
    "      <th>sector_2</th>\n",
    "      <th>sector_3</th>\n",
    "      <th>time_stageTime</th>\n",
    "    </tr>\n",
    "    <tr>\n",
    "      <th>start</th>\n",
    "      <th></th>\n",
    "      <th></th>\n",
    "      <th></th>\n",
    "      <th></th>\n",
    "      <th></th>\n",
    "      <th></th>\n",
    "    </tr>\n",
    "  </thead>\n",
    "  <tbody>\n",
    "    <tr>\n",
    "      <th>7</th>\n",
    "      <td>3</td>\n",
    "      <td>E. EVANS</td>\n",
    "      <td>00:02:51.700000</td>\n",
    "      <td>00:05:46.300000</td>\n",
    "      <td>00:03:57.900000</td>\n",
    "      <td>00:12:35.900000</td>\n",
    "    </tr>\n",
    "    <tr>\n",
    "      <th>3</th>\n",
    "      <td>5</td>\n",
    "      <td>T. NEUVILLE</td>\n",
    "      <td>00:02:53.700000</td>\n",
    "      <td>00:05:53.800000</td>\n",
    "      <td>00:03:57.100000</td>\n",
    "      <td>00:12:44.600000</td>\n",
    "    </tr>\n",
    "    <tr>\n",
    "      <th>9</th>\n",
    "      <td>14</td>\n",
    "      <td>M. OSTBERG</td>\n",
    "      <td>00:02:51.600000</td>\n",
    "      <td>00:05:55.100000</td>\n",
    "      <td>00:04:01.200000</td>\n",
    "      <td>00:12:47.900000</td>\n",
    "    </tr>\n",
    "    <tr>\n",
    "      <th>5</th>\n",
    "      <td>6</td>\n",
    "      <td>D. SORDO</td>\n",
    "      <td>00:02:56.400000</td>\n",
    "      <td>00:05:52.800000</td>\n",
    "      <td>00:03:59.600000</td>\n",
    "      <td>00:12:48.800000</td>\n",
    "    </tr>\n",
    "    <tr>\n",
    "      <th>1</th>\n",
    "      <td>1</td>\n",
    "      <td>S. OGIER</td>\n",
    "      <td>00:02:54.300000</td>\n",
    "      <td>00:05:58.100000</td>\n",
    "      <td>00:04:00</td>\n",
    "      <td>00:12:52.400000</td>\n",
    "    </tr>\n",
    "    <tr>\n",
    "      <th>4</th>\n",
    "      <td>2</td>\n",
    "      <td>O. TANAK</td>\n",
    "      <td>00:02:53.600000</td>\n",
    "      <td>00:05:57.500000</td>\n",
    "      <td>00:04:04.100000</td>\n",
    "      <td>00:12:55.200000</td>\n",
    "    </tr>\n",
    "    <tr>\n",
    "      <th>6</th>\n",
    "      <td>4</td>\n",
    "      <td>H. PADDON</td>\n",
    "      <td>00:02:52.800000</td>\n",
    "      <td>00:05:58.500000</td>\n",
    "      <td>00:04:04.200000</td>\n",
    "      <td>00:12:55.500000</td>\n",
    "    </tr>\n",
    "    <tr>\n",
    "      <th>2</th>\n",
    "      <td>10</td>\n",
    "      <td>J. LATVALA</td>\n",
    "      <td>00:02:59.600000</td>\n",
    "      <td>00:05:57.300000</td>\n",
    "      <td>00:04:02.800000</td>\n",
    "      <td>00:12:59.700000</td>\n",
    "    </tr>\n",
    "    <tr>\n",
    "      <th>8</th>\n",
    "      <td>11</td>\n",
    "      <td>J. HANNINEN</td>\n",
    "      <td>00:02:57.200000</td>\n",
    "      <td>00:06:09.700000</td>\n",
    "      <td>00:04:08.100000</td>\n",
    "      <td>00:13:15</td>\n",
    "    </tr>\n",
    "    <tr>\n",
    "      <th>10</th>\n",
    "      <td>37</td>\n",
    "      <td>L. BERTELLI</td>\n",
    "      <td>00:02:59.100000</td>\n",
    "      <td>00:06:07.100000</td>\n",
    "      <td>00:04:12.800000</td>\n",
    "      <td>00:13:19</td>\n",
    "    </tr>\n",
    "  </tbody>\n",
    "</table>"
   ]
  },
  {
   "cell_type": "markdown",
   "metadata": {
    "slideshow": {
     "slide_type": "subslide"
    }
   },
   "source": [
    "## SS6 - stage split delta time (seconds) compared to H. PADDON"
   ]
  },
  {
   "cell_type": "markdown",
   "metadata": {},
   "source": [
    "![](./split_delta_driver4_SS6.png)"
   ]
  },
  {
   "cell_type": "markdown",
   "metadata": {},
   "source": [
    "*This chart allows you to compare the __on stage__ performance of each driver, with split times rebased relative to car 4 on stage.*"
   ]
  },
  {
   "cell_type": "markdown",
   "metadata": {
    "slideshow": {
     "slide_type": "slide"
    }
   },
   "source": [
    "## SS7 - stage sector delta time (seconds) compared to H. PADDON stage sector time"
   ]
  },
  {
   "cell_type": "markdown",
   "metadata": {},
   "source": [
    "![](./chart_stage_sector_delta4_SS7.png)"
   ]
  },
  {
   "cell_type": "markdown",
   "metadata": {},
   "source": [
    "*This chart allows you to compare the __on stage__ performance of each driver. It displays the \"sector time\" of each driver (the time between each split point along the stage), rebased relative to car 4.*"
   ]
  },
  {
   "cell_type": "markdown",
   "metadata": {
    "slideshow": {
     "slide_type": "subslide"
    }
   },
   "source": [
    "## SS7 - stage sector time (seconds)"
   ]
  },
  {
   "cell_type": "markdown",
   "metadata": {},
   "source": [
    "<table border=\"1\" class=\"dataframe\">\n",
    "  <thead>\n",
    "    <tr style=\"text-align: right;\">\n",
    "      <th></th>\n",
    "      <th>carNo</th>\n",
    "      <th>driverName</th>\n",
    "      <th>sector_1</th>\n",
    "      <th>sector_2</th>\n",
    "      <th>sector_3</th>\n",
    "      <th>time_stageTime</th>\n",
    "    </tr>\n",
    "    <tr>\n",
    "      <th>start</th>\n",
    "      <th></th>\n",
    "      <th></th>\n",
    "      <th></th>\n",
    "      <th></th>\n",
    "      <th></th>\n",
    "      <th></th>\n",
    "    </tr>\n",
    "  </thead>\n",
    "  <tbody>\n",
    "    <tr>\n",
    "      <th>7</th>\n",
    "      <td>3</td>\n",
    "      <td>E. EVANS</td>\n",
    "      <td>00:04:08.500000</td>\n",
    "      <td>00:02:39.200000</td>\n",
    "      <td>00:03:33.400000</td>\n",
    "      <td>00:10:21.100000</td>\n",
    "    </tr>\n",
    "    <tr>\n",
    "      <th>6</th>\n",
    "      <td>4</td>\n",
    "      <td>H. PADDON</td>\n",
    "      <td>00:04:09.200000</td>\n",
    "      <td>00:02:38.100000</td>\n",
    "      <td>00:03:33.800000</td>\n",
    "      <td>00:10:21.100000</td>\n",
    "    </tr>\n",
    "    <tr>\n",
    "      <th>9</th>\n",
    "      <td>14</td>\n",
    "      <td>M. OSTBERG</td>\n",
    "      <td>00:04:07</td>\n",
    "      <td>00:02:40.500000</td>\n",
    "      <td>00:03:33.700000</td>\n",
    "      <td>00:10:21.200000</td>\n",
    "    </tr>\n",
    "    <tr>\n",
    "      <th>4</th>\n",
    "      <td>2</td>\n",
    "      <td>O. TANAK</td>\n",
    "      <td>00:04:07.500000</td>\n",
    "      <td>00:02:39.800000</td>\n",
    "      <td>00:03:34.100000</td>\n",
    "      <td>00:10:21.400000</td>\n",
    "    </tr>\n",
    "    <tr>\n",
    "      <th>3</th>\n",
    "      <td>5</td>\n",
    "      <td>T. NEUVILLE</td>\n",
    "      <td>00:04:09.300000</td>\n",
    "      <td>00:02:40</td>\n",
    "      <td>00:03:32.400000</td>\n",
    "      <td>00:10:21.700000</td>\n",
    "    </tr>\n",
    "    <tr>\n",
    "      <th>1</th>\n",
    "      <td>1</td>\n",
    "      <td>S. OGIER</td>\n",
    "      <td>00:04:09.300000</td>\n",
    "      <td>00:02:41.800000</td>\n",
    "      <td>00:03:32.400000</td>\n",
    "      <td>00:10:23.500000</td>\n",
    "    </tr>\n",
    "    <tr>\n",
    "      <th>2</th>\n",
    "      <td>10</td>\n",
    "      <td>J. LATVALA</td>\n",
    "      <td>00:04:08.300000</td>\n",
    "      <td>00:02:40.600000</td>\n",
    "      <td>00:03:35.200000</td>\n",
    "      <td>00:10:24.100000</td>\n",
    "    </tr>\n",
    "    <tr>\n",
    "      <th>5</th>\n",
    "      <td>6</td>\n",
    "      <td>D. SORDO</td>\n",
    "      <td>00:04:07.700000</td>\n",
    "      <td>00:02:41.600000</td>\n",
    "      <td>00:03:36.600000</td>\n",
    "      <td>00:10:25.900000</td>\n",
    "    </tr>\n",
    "    <tr>\n",
    "      <th>8</th>\n",
    "      <td>11</td>\n",
    "      <td>J. HANNINEN</td>\n",
    "      <td>00:04:13.400000</td>\n",
    "      <td>00:02:45.400000</td>\n",
    "      <td>00:03:38.900000</td>\n",
    "      <td>00:10:37.700000</td>\n",
    "    </tr>\n",
    "    <tr>\n",
    "      <th>10</th>\n",
    "      <td>37</td>\n",
    "      <td>L. BERTELLI</td>\n",
    "      <td>00:04:16.700000</td>\n",
    "      <td>00:02:49.700000</td>\n",
    "      <td>00:03:43.800000</td>\n",
    "      <td>00:10:50.200000</td>\n",
    "    </tr>\n",
    "  </tbody>\n",
    "</table>"
   ]
  },
  {
   "cell_type": "markdown",
   "metadata": {
    "slideshow": {
     "slide_type": "subslide"
    }
   },
   "source": [
    "## SS7 - stage split delta time (seconds) compared to H. PADDON"
   ]
  },
  {
   "cell_type": "markdown",
   "metadata": {},
   "source": [
    "![](./split_delta_driver4_SS7.png)"
   ]
  },
  {
   "cell_type": "markdown",
   "metadata": {},
   "source": [
    "*This chart allows you to compare the __on stage__ performance of each driver, with split times rebased relative to car 4 on stage.*"
   ]
  },
  {
   "cell_type": "markdown",
   "metadata": {
    "slideshow": {
     "slide_type": "slide"
    }
   },
   "source": [
    "## SS8 - stage sector delta time (seconds) compared to H. PADDON stage sector time"
   ]
  },
  {
   "cell_type": "markdown",
   "metadata": {},
   "source": [
    "![](./chart_stage_sector_delta4_SS8.png)"
   ]
  },
  {
   "cell_type": "markdown",
   "metadata": {},
   "source": [
    "*This chart allows you to compare the __on stage__ performance of each driver. It displays the \"sector time\" of each driver (the time between each split point along the stage), rebased relative to car 4.*"
   ]
  },
  {
   "cell_type": "markdown",
   "metadata": {
    "slideshow": {
     "slide_type": "subslide"
    }
   },
   "source": [
    "## SS8 - stage sector time (seconds)"
   ]
  },
  {
   "cell_type": "markdown",
   "metadata": {},
   "source": [
    "<table border=\"1\" class=\"dataframe\">\n",
    "  <thead>\n",
    "    <tr style=\"text-align: right;\">\n",
    "      <th></th>\n",
    "      <th>carNo</th>\n",
    "      <th>driverName</th>\n",
    "      <th>sector_1</th>\n",
    "      <th>sector_2</th>\n",
    "      <th>sector_3</th>\n",
    "      <th>time_stageTime</th>\n",
    "    </tr>\n",
    "    <tr>\n",
    "      <th>start</th>\n",
    "      <th></th>\n",
    "      <th></th>\n",
    "      <th></th>\n",
    "      <th></th>\n",
    "      <th></th>\n",
    "      <th></th>\n",
    "    </tr>\n",
    "  </thead>\n",
    "  <tbody>\n",
    "    <tr>\n",
    "      <th>6</th>\n",
    "      <td>4</td>\n",
    "      <td>H. PADDON</td>\n",
    "      <td>00:03:54.400000</td>\n",
    "      <td>00:05:07.300000</td>\n",
    "      <td>00:04:37.300000</td>\n",
    "      <td>00:13:39</td>\n",
    "    </tr>\n",
    "    <tr>\n",
    "      <th>7</th>\n",
    "      <td>3</td>\n",
    "      <td>E. EVANS</td>\n",
    "      <td>00:03:54.400000</td>\n",
    "      <td>00:05:07</td>\n",
    "      <td>00:04:41.600000</td>\n",
    "      <td>00:13:43</td>\n",
    "    </tr>\n",
    "    <tr>\n",
    "      <th>3</th>\n",
    "      <td>5</td>\n",
    "      <td>T. NEUVILLE</td>\n",
    "      <td>00:03:55.600000</td>\n",
    "      <td>00:05:10.600000</td>\n",
    "      <td>00:04:39.900000</td>\n",
    "      <td>00:13:46.100000</td>\n",
    "    </tr>\n",
    "    <tr>\n",
    "      <th>5</th>\n",
    "      <td>6</td>\n",
    "      <td>D. SORDO</td>\n",
    "      <td>00:03:53.700000</td>\n",
    "      <td>00:05:12.400000</td>\n",
    "      <td>00:04:41.900000</td>\n",
    "      <td>00:13:48</td>\n",
    "    </tr>\n",
    "    <tr>\n",
    "      <th>9</th>\n",
    "      <td>14</td>\n",
    "      <td>M. OSTBERG</td>\n",
    "      <td>00:03:54.400000</td>\n",
    "      <td>00:05:12.600000</td>\n",
    "      <td>00:04:41.100000</td>\n",
    "      <td>00:13:48.100000</td>\n",
    "    </tr>\n",
    "    <tr>\n",
    "      <th>1</th>\n",
    "      <td>1</td>\n",
    "      <td>S. OGIER</td>\n",
    "      <td>00:03:57.500000</td>\n",
    "      <td>00:05:10.100000</td>\n",
    "      <td>00:04:42</td>\n",
    "      <td>00:13:49.600000</td>\n",
    "    </tr>\n",
    "    <tr>\n",
    "      <th>4</th>\n",
    "      <td>2</td>\n",
    "      <td>O. TANAK</td>\n",
    "      <td>00:03:54.400000</td>\n",
    "      <td>00:05:09.800000</td>\n",
    "      <td>00:04:48.500000</td>\n",
    "      <td>00:13:52.700000</td>\n",
    "    </tr>\n",
    "    <tr>\n",
    "      <th>8</th>\n",
    "      <td>11</td>\n",
    "      <td>J. HANNINEN</td>\n",
    "      <td>00:03:57.200000</td>\n",
    "      <td>00:05:13.200000</td>\n",
    "      <td>00:04:46.200000</td>\n",
    "      <td>00:13:56.600000</td>\n",
    "    </tr>\n",
    "    <tr>\n",
    "      <th>10</th>\n",
    "      <td>37</td>\n",
    "      <td>L. BERTELLI</td>\n",
    "      <td>00:04:03.200000</td>\n",
    "      <td>00:05:23.800000</td>\n",
    "      <td>00:04:50.600000</td>\n",
    "      <td>00:14:17.600000</td>\n",
    "    </tr>\n",
    "    <tr>\n",
    "      <th>2</th>\n",
    "      <td>10</td>\n",
    "      <td>J. LATVALA</td>\n",
    "      <td>00:03:56.900000</td>\n",
    "      <td>00:05:13.800000</td>\n",
    "      <td>00:05:06.900000</td>\n",
    "      <td>00:14:17.600000</td>\n",
    "    </tr>\n",
    "  </tbody>\n",
    "</table>"
   ]
  },
  {
   "cell_type": "markdown",
   "metadata": {
    "slideshow": {
     "slide_type": "subslide"
    }
   },
   "source": [
    "## SS8 - stage split delta time (seconds) compared to H. PADDON"
   ]
  },
  {
   "cell_type": "markdown",
   "metadata": {},
   "source": [
    "![](./split_delta_driver4_SS8.png)"
   ]
  },
  {
   "cell_type": "markdown",
   "metadata": {},
   "source": [
    "*This chart allows you to compare the __on stage__ performance of each driver, with split times rebased relative to car 4 on stage.*"
   ]
  },
  {
   "cell_type": "markdown",
   "metadata": {
    "slideshow": {
     "slide_type": "slide"
    }
   },
   "source": [
    "## SS9 - stage sector delta time (seconds) compared to H. PADDON stage sector time"
   ]
  },
  {
   "cell_type": "markdown",
   "metadata": {},
   "source": [
    "![](./chart_stage_sector_delta4_SS9.png)"
   ]
  },
  {
   "cell_type": "markdown",
   "metadata": {},
   "source": [
    "*This chart allows you to compare the __on stage__ performance of each driver. It displays the \"sector time\" of each driver (the time between each split point along the stage), rebased relative to car 4.*"
   ]
  },
  {
   "cell_type": "markdown",
   "metadata": {
    "slideshow": {
     "slide_type": "subslide"
    }
   },
   "source": [
    "## SS9 - stage sector time (seconds)"
   ]
  },
  {
   "cell_type": "markdown",
   "metadata": {},
   "source": [
    "<table border=\"1\" class=\"dataframe\">\n",
    "  <thead>\n",
    "    <tr style=\"text-align: right;\">\n",
    "      <th></th>\n",
    "      <th>carNo</th>\n",
    "      <th>driverName</th>\n",
    "      <th>time_stageTime</th>\n",
    "    </tr>\n",
    "    <tr>\n",
    "      <th>start</th>\n",
    "      <th></th>\n",
    "      <th></th>\n",
    "      <th></th>\n",
    "    </tr>\n",
    "  </thead>\n",
    "  <tbody>\n",
    "    <tr>\n",
    "      <th>3</th>\n",
    "      <td>5</td>\n",
    "      <td>T. NEUVILLE</td>\n",
    "      <td>00:04:49.400000</td>\n",
    "    </tr>\n",
    "    <tr>\n",
    "      <th>2</th>\n",
    "      <td>10</td>\n",
    "      <td>J. LATVALA</td>\n",
    "      <td>00:04:49.700000</td>\n",
    "    </tr>\n",
    "    <tr>\n",
    "      <th>1</th>\n",
    "      <td>1</td>\n",
    "      <td>S. OGIER</td>\n",
    "      <td>00:04:50.800000</td>\n",
    "    </tr>\n",
    "    <tr>\n",
    "      <th>7</th>\n",
    "      <td>3</td>\n",
    "      <td>E. EVANS</td>\n",
    "      <td>00:04:51.300000</td>\n",
    "    </tr>\n",
    "    <tr>\n",
    "      <th>5</th>\n",
    "      <td>6</td>\n",
    "      <td>D. SORDO</td>\n",
    "      <td>00:04:51.700000</td>\n",
    "    </tr>\n",
    "    <tr>\n",
    "      <th>4</th>\n",
    "      <td>2</td>\n",
    "      <td>O. TANAK</td>\n",
    "      <td>00:04:53.500000</td>\n",
    "    </tr>\n",
    "    <tr>\n",
    "      <th>9</th>\n",
    "      <td>14</td>\n",
    "      <td>M. OSTBERG</td>\n",
    "      <td>00:04:54.200000</td>\n",
    "    </tr>\n",
    "    <tr>\n",
    "      <th>6</th>\n",
    "      <td>4</td>\n",
    "      <td>H. PADDON</td>\n",
    "      <td>00:04:55.700000</td>\n",
    "    </tr>\n",
    "    <tr>\n",
    "      <th>8</th>\n",
    "      <td>11</td>\n",
    "      <td>J. HANNINEN</td>\n",
    "      <td>00:04:59.600000</td>\n",
    "    </tr>\n",
    "    <tr>\n",
    "      <th>11</th>\n",
    "      <td>31</td>\n",
    "      <td>P. TIDEMAND</td>\n",
    "      <td>00:05:02.300000</td>\n",
    "    </tr>\n",
    "  </tbody>\n",
    "</table>"
   ]
  },
  {
   "cell_type": "markdown",
   "metadata": {
    "slideshow": {
     "slide_type": "subslide"
    }
   },
   "source": [
    "## SS9 - stage split delta time (seconds) compared to H. PADDON"
   ]
  },
  {
   "cell_type": "markdown",
   "metadata": {},
   "source": [
    "![](./split_delta_driver4_SS9.png)"
   ]
  },
  {
   "cell_type": "markdown",
   "metadata": {},
   "source": [
    "*This chart allows you to compare the __on stage__ performance of each driver, with split times rebased relative to car 4 on stage.*"
   ]
  },
  {
   "cell_type": "markdown",
   "metadata": {
    "slideshow": {
     "slide_type": "slide"
    }
   },
   "source": [
    "# Day 3 (29/04/2017)\n",
    "## Section 4 (Morning)"
   ]
  },
  {
   "cell_type": "markdown",
   "metadata": {
    "slideshow": {
     "slide_type": "slide"
    }
   },
   "source": [
    "## SS10 - stage sector delta time (seconds) compared to H. PADDON stage sector time"
   ]
  },
  {
   "cell_type": "markdown",
   "metadata": {},
   "source": [
    "![](./chart_stage_sector_delta4_SS10.png)"
   ]
  },
  {
   "cell_type": "markdown",
   "metadata": {},
   "source": [
    "*This chart allows you to compare the __on stage__ performance of each driver. It displays the \"sector time\" of each driver (the time between each split point along the stage), rebased relative to car 4.*"
   ]
  },
  {
   "cell_type": "markdown",
   "metadata": {
    "slideshow": {
     "slide_type": "subslide"
    }
   },
   "source": [
    "## SS10 - stage sector time (seconds)"
   ]
  },
  {
   "cell_type": "markdown",
   "metadata": {},
   "source": [
    "<table border=\"1\" class=\"dataframe\">\n",
    "  <thead>\n",
    "    <tr style=\"text-align: right;\">\n",
    "      <th></th>\n",
    "      <th>carNo</th>\n",
    "      <th>driverName</th>\n",
    "      <th>sector_1</th>\n",
    "      <th>sector_2</th>\n",
    "      <th>sector_3</th>\n",
    "      <th>time_stageTime</th>\n",
    "    </tr>\n",
    "    <tr>\n",
    "      <th>start</th>\n",
    "      <th></th>\n",
    "      <th></th>\n",
    "      <th></th>\n",
    "      <th></th>\n",
    "      <th></th>\n",
    "      <th></th>\n",
    "    </tr>\n",
    "  </thead>\n",
    "  <tbody>\n",
    "    <tr>\n",
    "      <th>10</th>\n",
    "      <td>3</td>\n",
    "      <td>E. EVANS</td>\n",
    "      <td>00:05:10.300000</td>\n",
    "      <td>00:03:28.600000</td>\n",
    "      <td>00:02:21.300000</td>\n",
    "      <td>00:11:00.200000</td>\n",
    "    </tr>\n",
    "    <tr>\n",
    "      <th>8</th>\n",
    "      <td>5</td>\n",
    "      <td>T. NEUVILLE</td>\n",
    "      <td>00:05:06.300000</td>\n",
    "      <td>00:03:31.800000</td>\n",
    "      <td>00:02:22.900000</td>\n",
    "      <td>00:11:01</td>\n",
    "    </tr>\n",
    "    <tr>\n",
    "      <th>11</th>\n",
    "      <td>7</td>\n",
    "      <td>K. MEEKE</td>\n",
    "      <td>00:05:07.500000</td>\n",
    "      <td>00:03:33.600000</td>\n",
    "      <td>00:02:21.200000</td>\n",
    "      <td>00:11:02.300000</td>\n",
    "    </tr>\n",
    "    <tr>\n",
    "      <th>6</th>\n",
    "      <td>2</td>\n",
    "      <td>O. TANAK</td>\n",
    "      <td>00:05:11.600000</td>\n",
    "      <td>00:03:30</td>\n",
    "      <td>00:02:21.300000</td>\n",
    "      <td>00:11:02.900000</td>\n",
    "    </tr>\n",
    "    <tr>\n",
    "      <th>5</th>\n",
    "      <td>10</td>\n",
    "      <td>J. LATVALA</td>\n",
    "      <td>00:05:09.800000</td>\n",
    "      <td>00:03:34.300000</td>\n",
    "      <td>00:02:21.600000</td>\n",
    "      <td>00:11:05.700000</td>\n",
    "    </tr>\n",
    "    <tr>\n",
    "      <th>7</th>\n",
    "      <td>1</td>\n",
    "      <td>S. OGIER</td>\n",
    "      <td>00:05:12.300000</td>\n",
    "      <td>00:03:32</td>\n",
    "      <td>00:02:21.700000</td>\n",
    "      <td>00:11:06</td>\n",
    "    </tr>\n",
    "    <tr>\n",
    "      <th>4</th>\n",
    "      <td>4</td>\n",
    "      <td>H. PADDON</td>\n",
    "      <td>00:05:12.500000</td>\n",
    "      <td>00:03:33.600000</td>\n",
    "      <td>00:02:22.400000</td>\n",
    "      <td>00:11:08.500000</td>\n",
    "    </tr>\n",
    "    <tr>\n",
    "      <th>9</th>\n",
    "      <td>14</td>\n",
    "      <td>M. OSTBERG</td>\n",
    "      <td>00:05:09.300000</td>\n",
    "      <td>00:03:34.900000</td>\n",
    "      <td>00:02:24.600000</td>\n",
    "      <td>00:11:08.800000</td>\n",
    "    </tr>\n",
    "    <tr>\n",
    "      <th>1</th>\n",
    "      <td>6</td>\n",
    "      <td>D. SORDO</td>\n",
    "      <td>00:05:18.900000</td>\n",
    "      <td>00:03:36.600000</td>\n",
    "      <td>00:02:22.900000</td>\n",
    "      <td>00:11:18.400000</td>\n",
    "    </tr>\n",
    "    <tr>\n",
    "      <th>2</th>\n",
    "      <td>11</td>\n",
    "      <td>J. HANNINEN</td>\n",
    "      <td>00:05:21.500000</td>\n",
    "      <td>00:03:34.900000</td>\n",
    "      <td>00:02:24.800000</td>\n",
    "      <td>00:11:21.200000</td>\n",
    "    </tr>\n",
    "  </tbody>\n",
    "</table>"
   ]
  },
  {
   "cell_type": "markdown",
   "metadata": {
    "slideshow": {
     "slide_type": "subslide"
    }
   },
   "source": [
    "## SS10 - stage split delta time (seconds) compared to H. PADDON"
   ]
  },
  {
   "cell_type": "markdown",
   "metadata": {},
   "source": [
    "![](./split_delta_driver4_SS10.png)"
   ]
  },
  {
   "cell_type": "markdown",
   "metadata": {},
   "source": [
    "*This chart allows you to compare the __on stage__ performance of each driver, with split times rebased relative to car 4 on stage.*"
   ]
  },
  {
   "cell_type": "markdown",
   "metadata": {
    "slideshow": {
     "slide_type": "slide"
    }
   },
   "source": [
    "## SS11 - stage sector delta time (seconds) compared to H. PADDON stage sector time"
   ]
  },
  {
   "cell_type": "markdown",
   "metadata": {},
   "source": [
    "![](./chart_stage_sector_delta4_SS11.png)"
   ]
  },
  {
   "cell_type": "markdown",
   "metadata": {},
   "source": [
    "*This chart allows you to compare the __on stage__ performance of each driver. It displays the \"sector time\" of each driver (the time between each split point along the stage), rebased relative to car 4.*"
   ]
  },
  {
   "cell_type": "markdown",
   "metadata": {
    "slideshow": {
     "slide_type": "subslide"
    }
   },
   "source": [
    "## SS11 - stage sector time (seconds)"
   ]
  },
  {
   "cell_type": "markdown",
   "metadata": {},
   "source": [
    "<table border=\"1\" class=\"dataframe\">\n",
    "  <thead>\n",
    "    <tr style=\"text-align: right;\">\n",
    "      <th></th>\n",
    "      <th>carNo</th>\n",
    "      <th>driverName</th>\n",
    "      <th>sector_1</th>\n",
    "      <th>sector_2</th>\n",
    "      <th>sector_3</th>\n",
    "      <th>sector_4</th>\n",
    "      <th>sector_5</th>\n",
    "      <th>time_stageTime</th>\n",
    "    </tr>\n",
    "    <tr>\n",
    "      <th>start</th>\n",
    "      <th></th>\n",
    "      <th></th>\n",
    "      <th></th>\n",
    "      <th></th>\n",
    "      <th></th>\n",
    "      <th></th>\n",
    "      <th></th>\n",
    "      <th></th>\n",
    "    </tr>\n",
    "  </thead>\n",
    "  <tbody>\n",
    "    <tr>\n",
    "      <th>11</th>\n",
    "      <td>7</td>\n",
    "      <td>K. MEEKE</td>\n",
    "      <td>NaT</td>\n",
    "      <td>NaT</td>\n",
    "      <td>NaT</td>\n",
    "      <td>NaT</td>\n",
    "      <td>NaT</td>\n",
    "      <td>00:20:01.600000</td>\n",
    "    </tr>\n",
    "    <tr>\n",
    "      <th>8</th>\n",
    "      <td>5</td>\n",
    "      <td>T. NEUVILLE</td>\n",
    "      <td>NaT</td>\n",
    "      <td>NaT</td>\n",
    "      <td>NaT</td>\n",
    "      <td>NaT</td>\n",
    "      <td>NaT</td>\n",
    "      <td>00:20:02.200000</td>\n",
    "    </tr>\n",
    "    <tr>\n",
    "      <th>6</th>\n",
    "      <td>2</td>\n",
    "      <td>O. TANAK</td>\n",
    "      <td>00:04:35.600000</td>\n",
    "      <td>00:03:47.300000</td>\n",
    "      <td>00:03:57.100000</td>\n",
    "      <td>00:03:32.100000</td>\n",
    "      <td>00:04:11</td>\n",
    "      <td>00:20:03.100000</td>\n",
    "    </tr>\n",
    "    <tr>\n",
    "      <th>4</th>\n",
    "      <td>4</td>\n",
    "      <td>H. PADDON</td>\n",
    "      <td>00:04:38.500000</td>\n",
    "      <td>00:03:52.300000</td>\n",
    "      <td>00:03:54.300000</td>\n",
    "      <td>00:03:32.200000</td>\n",
    "      <td>00:04:08.800000</td>\n",
    "      <td>00:20:06.100000</td>\n",
    "    </tr>\n",
    "    <tr>\n",
    "      <th>7</th>\n",
    "      <td>1</td>\n",
    "      <td>S. OGIER</td>\n",
    "      <td>NaT</td>\n",
    "      <td>NaT</td>\n",
    "      <td>NaT</td>\n",
    "      <td>NaT</td>\n",
    "      <td>NaT</td>\n",
    "      <td>00:20:07.300000</td>\n",
    "    </tr>\n",
    "    <tr>\n",
    "      <th>10</th>\n",
    "      <td>3</td>\n",
    "      <td>E. EVANS</td>\n",
    "      <td>00:04:37.700000</td>\n",
    "      <td>00:03:49.500000</td>\n",
    "      <td>00:03:54.400000</td>\n",
    "      <td>00:03:34.200000</td>\n",
    "      <td>00:04:12</td>\n",
    "      <td>00:20:07.800000</td>\n",
    "    </tr>\n",
    "    <tr>\n",
    "      <th>5</th>\n",
    "      <td>10</td>\n",
    "      <td>J. LATVALA</td>\n",
    "      <td>00:04:38.600000</td>\n",
    "      <td>00:03:49.800000</td>\n",
    "      <td>00:03:54.200000</td>\n",
    "      <td>00:03:33.500000</td>\n",
    "      <td>00:04:12.900000</td>\n",
    "      <td>00:20:09</td>\n",
    "    </tr>\n",
    "    <tr>\n",
    "      <th>9</th>\n",
    "      <td>14</td>\n",
    "      <td>M. OSTBERG</td>\n",
    "      <td>NaT</td>\n",
    "      <td>NaT</td>\n",
    "      <td>NaT</td>\n",
    "      <td>NaT</td>\n",
    "      <td>NaT</td>\n",
    "      <td>00:20:09.400000</td>\n",
    "    </tr>\n",
    "    <tr>\n",
    "      <th>1</th>\n",
    "      <td>6</td>\n",
    "      <td>D. SORDO</td>\n",
    "      <td>00:04:42.600000</td>\n",
    "      <td>00:03:55</td>\n",
    "      <td>00:04:00</td>\n",
    "      <td>00:03:35.900000</td>\n",
    "      <td>00:04:14.400000</td>\n",
    "      <td>00:20:27.900000</td>\n",
    "    </tr>\n",
    "    <tr>\n",
    "      <th>2</th>\n",
    "      <td>11</td>\n",
    "      <td>J. HANNINEN</td>\n",
    "      <td>00:04:49.300000</td>\n",
    "      <td>00:03:58.300000</td>\n",
    "      <td>00:04:03.800000</td>\n",
    "      <td>00:03:39.600000</td>\n",
    "      <td>00:04:28.300000</td>\n",
    "      <td>00:20:59.300000</td>\n",
    "    </tr>\n",
    "  </tbody>\n",
    "</table>"
   ]
  },
  {
   "cell_type": "markdown",
   "metadata": {
    "slideshow": {
     "slide_type": "subslide"
    }
   },
   "source": [
    "## SS11 - stage split delta time (seconds) compared to H. PADDON"
   ]
  },
  {
   "cell_type": "markdown",
   "metadata": {},
   "source": [
    "![](./split_delta_driver4_SS11.png)"
   ]
  },
  {
   "cell_type": "markdown",
   "metadata": {},
   "source": [
    "*This chart allows you to compare the __on stage__ performance of each driver, with split times rebased relative to car 4 on stage.*"
   ]
  },
  {
   "cell_type": "markdown",
   "metadata": {
    "slideshow": {
     "slide_type": "slide"
    }
   },
   "source": [
    "## SS12 - stage sector delta time (seconds) compared to H. PADDON stage sector time"
   ]
  },
  {
   "cell_type": "markdown",
   "metadata": {},
   "source": [
    "![](./chart_stage_sector_delta4_SS12.png)"
   ]
  },
  {
   "cell_type": "markdown",
   "metadata": {},
   "source": [
    "*This chart allows you to compare the __on stage__ performance of each driver. It displays the \"sector time\" of each driver (the time between each split point along the stage), rebased relative to car 4.*"
   ]
  },
  {
   "cell_type": "markdown",
   "metadata": {
    "slideshow": {
     "slide_type": "subslide"
    }
   },
   "source": [
    "## SS12 - stage sector time (seconds)"
   ]
  },
  {
   "cell_type": "markdown",
   "metadata": {},
   "source": [
    "<table border=\"1\" class=\"dataframe\">\n",
    "  <thead>\n",
    "    <tr style=\"text-align: right;\">\n",
    "      <th></th>\n",
    "      <th>carNo</th>\n",
    "      <th>driverName</th>\n",
    "      <th>sector_1</th>\n",
    "      <th>sector_2</th>\n",
    "      <th>sector_3</th>\n",
    "      <th>time_stageTime</th>\n",
    "    </tr>\n",
    "    <tr>\n",
    "      <th>start</th>\n",
    "      <th></th>\n",
    "      <th></th>\n",
    "      <th></th>\n",
    "      <th></th>\n",
    "      <th></th>\n",
    "      <th></th>\n",
    "    </tr>\n",
    "  </thead>\n",
    "  <tbody>\n",
    "    <tr>\n",
    "      <th>11</th>\n",
    "      <td>7</td>\n",
    "      <td>K. MEEKE</td>\n",
    "      <td>00:04:23.500000</td>\n",
    "      <td>NaT</td>\n",
    "      <td>NaT</td>\n",
    "      <td>00:13:18.200000</td>\n",
    "    </tr>\n",
    "    <tr>\n",
    "      <th>9</th>\n",
    "      <td>14</td>\n",
    "      <td>M. OSTBERG</td>\n",
    "      <td>00:04:25.500000</td>\n",
    "      <td>00:06:03.300000</td>\n",
    "      <td>00:02:50.500000</td>\n",
    "      <td>00:13:19.300000</td>\n",
    "    </tr>\n",
    "    <tr>\n",
    "      <th>6</th>\n",
    "      <td>2</td>\n",
    "      <td>O. TANAK</td>\n",
    "      <td>00:04:28.100000</td>\n",
    "      <td>00:06:01.900000</td>\n",
    "      <td>00:02:50</td>\n",
    "      <td>00:13:20</td>\n",
    "    </tr>\n",
    "    <tr>\n",
    "      <th>8</th>\n",
    "      <td>5</td>\n",
    "      <td>T. NEUVILLE</td>\n",
    "      <td>00:04:27.600000</td>\n",
    "      <td>00:06:03.100000</td>\n",
    "      <td>00:02:49.700000</td>\n",
    "      <td>00:13:20.400000</td>\n",
    "    </tr>\n",
    "    <tr>\n",
    "      <th>5</th>\n",
    "      <td>10</td>\n",
    "      <td>J. LATVALA</td>\n",
    "      <td>00:04:29.100000</td>\n",
    "      <td>NaT</td>\n",
    "      <td>NaT</td>\n",
    "      <td>00:13:21.300000</td>\n",
    "    </tr>\n",
    "    <tr>\n",
    "      <th>4</th>\n",
    "      <td>4</td>\n",
    "      <td>H. PADDON</td>\n",
    "      <td>00:04:30.300000</td>\n",
    "      <td>00:06:05.700000</td>\n",
    "      <td>00:02:49.900000</td>\n",
    "      <td>00:13:25.900000</td>\n",
    "    </tr>\n",
    "    <tr>\n",
    "      <th>7</th>\n",
    "      <td>1</td>\n",
    "      <td>S. OGIER</td>\n",
    "      <td>00:04:36</td>\n",
    "      <td>00:06:05.100000</td>\n",
    "      <td>00:02:50.700000</td>\n",
    "      <td>00:13:31.800000</td>\n",
    "    </tr>\n",
    "    <tr>\n",
    "      <th>10</th>\n",
    "      <td>3</td>\n",
    "      <td>E. EVANS</td>\n",
    "      <td>00:04:26.200000</td>\n",
    "      <td>00:06:06.300000</td>\n",
    "      <td>00:02:59.700000</td>\n",
    "      <td>00:13:32.200000</td>\n",
    "    </tr>\n",
    "    <tr>\n",
    "      <th>1</th>\n",
    "      <td>6</td>\n",
    "      <td>D. SORDO</td>\n",
    "      <td>00:04:35.300000</td>\n",
    "      <td>00:06:07.600000</td>\n",
    "      <td>00:02:54</td>\n",
    "      <td>00:13:36.900000</td>\n",
    "    </tr>\n",
    "    <tr>\n",
    "      <th>3</th>\n",
    "      <td>37</td>\n",
    "      <td>L. BERTELLI</td>\n",
    "      <td>00:04:39.500000</td>\n",
    "      <td>00:06:17.700000</td>\n",
    "      <td>00:02:57.600000</td>\n",
    "      <td>00:13:54.800000</td>\n",
    "    </tr>\n",
    "  </tbody>\n",
    "</table>"
   ]
  },
  {
   "cell_type": "markdown",
   "metadata": {
    "slideshow": {
     "slide_type": "subslide"
    }
   },
   "source": [
    "## SS12 - stage split delta time (seconds) compared to H. PADDON"
   ]
  },
  {
   "cell_type": "markdown",
   "metadata": {},
   "source": [
    "![](./split_delta_driver4_SS12.png)"
   ]
  },
  {
   "cell_type": "markdown",
   "metadata": {},
   "source": [
    "*This chart allows you to compare the __on stage__ performance of each driver, with split times rebased relative to car 4 on stage.*"
   ]
  }
 ],
 "metadata": {},
 "nbformat": 4,
 "nbformat_minor": 2
}
