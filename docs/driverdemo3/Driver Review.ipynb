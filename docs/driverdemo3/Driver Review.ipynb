{
 "cells": [
  {
   "cell_type": "markdown",
   "metadata": {
    "deletable": true,
    "editable": true
   },
   "source": [
    "# Driver Review Notebook\n",
    "\n",
    "Generate reports for a particular driver."
   ]
  },
  {
   "cell_type": "code",
   "execution_count": 14,
   "metadata": {
    "collapsed": false
   },
   "outputs": [
    {
     "name": "stdout",
     "output_type": "stream",
     "text": [
      "Processing /Users/ajh59/Dropbox/WRC/wrcX\n",
      "Installing collected packages: wrcX\n",
      "  Found existing installation: wrcX 0.1\n",
      "    Uninstalling wrcX-0.1:\n",
      "      Successfully uninstalled wrcX-0.1\n",
      "  Running setup.py install for wrcX ... \u001b[?25l-\b \b\\\b \bdone\n",
      "\u001b[?25hSuccessfully installed wrcX-0.1\n"
     ]
    }
   ],
   "source": [
    "!pip3 install --upgrade --force-reinstall ."
   ]
  },
  {
   "cell_type": "code",
   "execution_count": 1,
   "metadata": {
    "collapsed": true,
    "deletable": true,
    "editable": true
   },
   "outputs": [],
   "source": [
    "rally=\"Portugal\"\n",
    "wrcwebnum=226\n",
    "wrcstages=17\n",
    "year=2017\n",
    "year,rallyid,rally,maxstages=(year,wrcwebnum,rally,wrcstages) \n",
    "\n",
    "rallydet=(year,wrcwebnum,rally)\n",
    "YEAR,THISRALLY=(year,wrcwebnum)\n",
    "first_stage=1\n",
    "stages=list(range(first_stage,maxstages+1))"
   ]
  },
  {
   "cell_type": "code",
   "execution_count": 3,
   "metadata": {
    "collapsed": false,
    "deletable": true,
    "editable": true,
    "scrolled": false
   },
   "outputs": [
    {
     "name": "stdout",
     "output_type": "stream",
     "text": [
      "('Used cache for http://www.wrc.com/live-ticker/daten/2017/226/entry.226.html:', False)\n",
      "('Used cache for http://www.wrc.com/live-ticker/daten/2017/226/itinerary.226.all.html:', False)\n",
      "('Used cache for http://www.wrc.com/live-ticker/daten/2017/226/retirements.226.all.html:', False)\n",
      "('Used cache for http://www.wrc.com/live-ticker/daten/2017/226/penalties.226.all.html:', False)\n",
      "('Used cache for http://www.wrc.com/live-ticker/daten/2017/226/stage.226.1.overall.all.html:', False)\n",
      "('Used cache for http://www.wrc.com/live-ticker/daten/2017/226/stage.226.2.overall.all.html:', False)\n",
      "('Used cache for http://www.wrc.com/live-ticker/daten/2017/226/stage.226.3.overall.all.html:', False)\n",
      "('Used cache for http://www.wrc.com/live-ticker/daten/2017/226/stage.226.4.overall.all.html:', False)\n",
      "('Used cache for http://www.wrc.com/live-ticker/daten/2017/226/stage.226.5.overall.all.html:', False)\n",
      "('Used cache for http://www.wrc.com/live-ticker/daten/2017/226/stage.226.6.overall.all.html:', False)\n",
      "('Used cache for http://www.wrc.com/live-ticker/daten/2017/226/stage.226.7.overall.all.html:', False)\n",
      "('Used cache for http://www.wrc.com/live-ticker/daten/2017/226/stage.226.8.overall.all.html:', False)\n",
      "('Used cache for http://www.wrc.com/live-ticker/daten/2017/226/stage.226.9.overall.all.html:', False)\n",
      "('Used cache for http://www.wrc.com/live-ticker/daten/2017/226/stage.226.10.overall.all.html:', False)\n",
      "('Used cache for http://www.wrc.com/live-ticker/daten/2017/226/stage.226.11.overall.all.html:', False)\n",
      "('Used cache for http://www.wrc.com/live-ticker/daten/2017/226/stage.226.12.overall.all.html:', False)\n",
      "('Used cache for http://www.wrc.com/live-ticker/daten/2017/226/stage.226.13.overall.all.html:', False)\n",
      "('Used cache for http://www.wrc.com/live-ticker/daten/2017/226/stage.226.14.overall.all.html:', False)\n",
      "('Used cache for http://www.wrc.com/live-ticker/daten/2017/226/stage.226.15.overall.all.html:', False)\n",
      "('Used cache for http://www.wrc.com/live-ticker/daten/2017/226/stage.226.1.all.html:', False)\n",
      "('Used cache for http://www.wrc.com/live-ticker/daten/2017/226/stage.226.2.all.html:', False)\n",
      "('Used cache for http://www.wrc.com/live-ticker/daten/2017/226/stage.226.3.all.html:', False)\n",
      "('Used cache for http://www.wrc.com/live-ticker/daten/2017/226/stage.226.4.all.html:', False)\n",
      "('Used cache for http://www.wrc.com/live-ticker/daten/2017/226/stage.226.5.all.html:', False)\n",
      "('Used cache for http://www.wrc.com/live-ticker/daten/2017/226/stage.226.6.all.html:', False)\n",
      "('Used cache for http://www.wrc.com/live-ticker/daten/2017/226/stage.226.7.all.html:', False)\n",
      "('Used cache for http://www.wrc.com/live-ticker/daten/2017/226/stage.226.8.all.html:', False)\n",
      "('Used cache for http://www.wrc.com/live-ticker/daten/2017/226/stage.226.9.all.html:', False)\n",
      "('Used cache for http://www.wrc.com/live-ticker/daten/2017/226/stage.226.10.all.html:', False)\n",
      "('Used cache for http://www.wrc.com/live-ticker/daten/2017/226/stage.226.11.all.html:', False)\n",
      "('Used cache for http://www.wrc.com/live-ticker/daten/2017/226/stage.226.12.all.html:', False)\n",
      "('Used cache for http://www.wrc.com/live-ticker/daten/2017/226/stage.226.13.all.html:', False)\n",
      "('Used cache for http://www.wrc.com/live-ticker/daten/2017/226/stage.226.14.all.html:', False)\n",
      "('Used cache for http://www.wrc.com/live-ticker/daten/2017/226/stage.226.15.all.html:', False)\n",
      "('Used cache for http://www.wrc.com/live-ticker/daten/2017/226/split.226.1.html:', False)\n",
      "('Used cache for http://www.wrc.com/live-ticker/daten/2017/226/split.226.2.html:', False)\n",
      "('Used cache for http://www.wrc.com/live-ticker/daten/2017/226/split.226.3.html:', False)\n",
      "('Used cache for http://www.wrc.com/live-ticker/daten/2017/226/split.226.4.html:', False)\n",
      "('Used cache for http://www.wrc.com/live-ticker/daten/2017/226/split.226.5.html:', False)\n",
      "('Used cache for http://www.wrc.com/live-ticker/daten/2017/226/split.226.6.html:', False)\n",
      "('Used cache for http://www.wrc.com/live-ticker/daten/2017/226/split.226.7.html:', False)\n",
      "('Used cache for http://www.wrc.com/live-ticker/daten/2017/226/split.226.8.html:', False)\n",
      "('Used cache for http://www.wrc.com/live-ticker/daten/2017/226/split.226.9.html:', False)\n",
      "('Used cache for http://www.wrc.com/live-ticker/daten/2017/226/split.226.10.html:', False)\n",
      "('Used cache for http://www.wrc.com/live-ticker/daten/2017/226/split.226.11.html:', False)\n",
      "('Used cache for http://www.wrc.com/live-ticker/daten/2017/226/split.226.12.html:', False)\n",
      "('Used cache for http://www.wrc.com/live-ticker/daten/2017/226/split.226.13.html:', False)\n",
      "('Used cache for http://www.wrc.com/live-ticker/daten/2017/226/split.226.14.html:', False)\n",
      "('Used cache for http://www.wrc.com/live-ticker/daten/2017/226/split.226.15.html:', False)\n",
      "('Used cache for http://www.wrc.com/live-ticker/daten/2017/226/split.226.1.html:', False)\n",
      "('Used cache for http://www.wrc.com/live-ticker/daten/2017/226/split.226.2.html:', False)\n",
      "('Used cache for http://www.wrc.com/live-ticker/daten/2017/226/split.226.3.html:', False)\n",
      "('Used cache for http://www.wrc.com/live-ticker/daten/2017/226/split.226.4.html:', False)\n",
      "('Used cache for http://www.wrc.com/live-ticker/daten/2017/226/split.226.5.html:', False)\n",
      "('Used cache for http://www.wrc.com/live-ticker/daten/2017/226/split.226.6.html:', False)\n",
      "('Used cache for http://www.wrc.com/live-ticker/daten/2017/226/split.226.7.html:', False)\n",
      "('Used cache for http://www.wrc.com/live-ticker/daten/2017/226/split.226.8.html:', False)\n",
      "('Used cache for http://www.wrc.com/live-ticker/daten/2017/226/split.226.9.html:', False)\n",
      "('Used cache for http://www.wrc.com/live-ticker/daten/2017/226/split.226.10.html:', False)\n",
      "('Used cache for http://www.wrc.com/live-ticker/daten/2017/226/split.226.11.html:', False)\n",
      "('Used cache for http://www.wrc.com/live-ticker/daten/2017/226/split.226.12.html:', False)\n",
      "('Used cache for http://www.wrc.com/live-ticker/daten/2017/226/split.226.13.html:', False)\n",
      "('Used cache for http://www.wrc.com/live-ticker/daten/2017/226/split.226.14.html:', False)\n",
      "('Used cache for http://www.wrc.com/live-ticker/daten/2017/226/split.226.15.html:', False)\n"
     ]
    }
   ],
   "source": [
    "import wrcX\n",
    "wrcX.init({'year':year,'rallyid':rallyid},forceReload=True)"
   ]
  },
  {
   "cell_type": "code",
   "execution_count": 4,
   "metadata": {
    "collapsed": true,
    "deletable": true,
    "editable": true
   },
   "outputs": [],
   "source": [
    "import nbformat as nb\n",
    "import nbformat.v4.nbbase as nb4\n",
    "\n",
    "import os\n",
    "\n",
    "import wrcX.core.data as d\n",
    "from wrcX.reports.utils import _limitToGroupClass, driverFromCar\n",
    "from wrcX.reports.overallSlides import addSlideComponent, add_fig"
   ]
  },
  {
   "cell_type": "code",
   "execution_count": null,
   "metadata": {
    "collapsed": false,
    "deletable": true,
    "editable": true
   },
   "outputs": [],
   "source": [
    "def carReport(rallydet,carNum,groupClass='RC1'):\n",
    "    imgpath='images/test{}_{}'.format(rallydet[0],rallydet[1])\n",
    "    \n",
    "    driver=driverFromCar(d.df_entry,carNum)\n",
    "    if not os.path.exists(imgpath):\n",
    "        os.makedirs(imgpath)\n",
    "    \n",
    "    test=nb4.new_notebook()\n",
    "    \n",
    "    addSlideComponent(test,'# WRC Rally - {}, {}'.format(rallydet[2],rallydet[0]),'slide')\n",
    "    addSlideComponent(test,'## Driver Analysis - {} ({})'.format(driver,carNum))\n",
    "    \n",
    "    for key,day in d.df_stagedesc[d.df_stagedesc['stage'].str.startswith('SS')].groupby('day'):\n",
    "        for key2,section in day.groupby('section'):\n",
    "            txt='# Day {} ({})\\n'.format(key,'/'.join(day['date'].dt.strftime('%d/%m/%Y').unique())) + \\\n",
    "                '## Section {} ({})'.format(key2,'/'.join(section['partofday'].unique()))\n",
    "            addSlideComponent(test,txt,'slide')\n",
    "\n",
    "            #Within each section are stage rows\n",
    "            for key,row in section.iterrows():\n",
    "                if d.df_stagedesc.ix[key]['stagenum']> wrcX.core.stagesuptoandincluding : break\n",
    "                \n",
    "                ddf_sectors=d.df_splitSectorTimes_all[row['stagenum']-int(wrcX.core.first_stage)]\n",
    "                df_splitTimes=d.df_splitTimes_all[row['stagenum']-int(wrcX.core.first_stage)]\n",
    "                \n",
    "                addSlideComponent(test,'## {} - stage sector delta time (seconds) compared to {} stage sector time'.format(row['stage'],driver),'slide')\n",
    "                fig=wrcX.chart_stage_sector_delta(year,rallyid,d.df_entry,df_splitTimes,ddf_sectors,\n",
    "                                                  rebase=carNum,ylim=[-50,50],keyHighlight=str(carNum))\n",
    "                txt=add_fig(fig,'chart_stage_sector_delta{}_{}'.format(carNum,row['stage']))\n",
    "                addSlideComponent(test,txt)\n",
    "                txt1='*This chart allows you to compare the __on stage__ performance of each driver. It displays the \"sector time\" of each driver (the time between each split point along the stage), rebased relative to car {}.*'.format(carNum)\n",
    "                addSlideComponent(test,txt1)\n",
    "                \n",
    "                addSlideComponent(test,'## {} - stage sector time (seconds)'.format(row['stage']),'subslide')\n",
    "                xcols=[c for c in ddf_sectors.columns if c.startswith('sector')]\n",
    "                if len(xcols)==1: xcols=[]\n",
    "                tcols=['start','carNo','driverName']+xcols+['time_stageTime']\n",
    "                pretxt=ddf_sectors.sort_values('time_stageTime')[tcols][:10]\n",
    "                pretxt['start']=pretxt['start'].astype(int)\n",
    "                txt=pretxt.set_index('start').to_html()\n",
    "                addSlideComponent(test,txt)\n",
    "                \n",
    "                addSlideComponent(test,'## {} - stage split delta time (seconds) compared to {}'.format(row['stage'],driver),'subslide')\n",
    "                fig=wrcX.chart_stage_delta_s(year,rallyid,d.df_entry,df_splitTimes,\n",
    "                                             rebase=carNum,ylim=[-50,50],keyHighlight=driver)\n",
    "                txt=add_fig(fig,'split_delta_driver{}_{}'.format(carNum,row['stage']))\n",
    "                addSlideComponent(test,txt)\n",
    "                txt1='*This chart allows you to compare the __on stage__ performance of each driver, with split times rebased relative to car {} on stage.*'.format(carNum)\n",
    "                #txt1=txt1+'\\n*The leader within the stage at each split point is highlighted.*'\n",
    "                addSlideComponent(test,txt1)\n",
    "\n",
    "                \n",
    "            \n",
    "                nbf='wrcTest-slides-car-{}-{}.ipynb'.format(carNum,rallydet[2])\n",
    "                nb.write(test,nbf)\n",
    "                \n",
    "carNum=8#4\n",
    "carReport(rallydet,carNum)"
   ]
  },
  {
   "cell_type": "code",
   "execution_count": null,
   "metadata": {
    "collapsed": false,
    "deletable": true,
    "editable": true
   },
   "outputs": [],
   "source": [
    "nbf='wrcTest-slides-car-{}-{}.ipynb'.format(carNum,rallydet[2])\n",
    "!jupyter nbconvert $nbf --to slides --post serve"
   ]
  },
  {
   "cell_type": "code",
   "execution_count": null,
   "metadata": {
    "collapsed": true,
    "deletable": true,
    "editable": true
   },
   "outputs": [],
   "source": []
  }
 ],
 "metadata": {
  "kernelspec": {
   "display_name": "Python 3",
   "language": "python",
   "name": "python3"
  },
  "language_info": {
   "codemirror_mode": {
    "name": "ipython",
    "version": 3
   },
   "file_extension": ".py",
   "mimetype": "text/x-python",
   "name": "python",
   "nbconvert_exporter": "python",
   "pygments_lexer": "ipython3",
   "version": "3.5.1"
  }
 },
 "nbformat": 4,
 "nbformat_minor": 2
}
