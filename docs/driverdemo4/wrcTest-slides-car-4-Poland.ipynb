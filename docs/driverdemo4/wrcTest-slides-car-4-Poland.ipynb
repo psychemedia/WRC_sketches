{
 "cells": [
  {
   "cell_type": "markdown",
   "metadata": {
    "slideshow": {
     "slide_type": "slide"
    }
   },
   "source": [
    "# WRC Rally - Poland, 2017"
   ]
  },
  {
   "cell_type": "markdown",
   "metadata": {},
   "source": [
    "## Driver Analysis - H. PADDON (4)"
   ]
  },
  {
   "cell_type": "markdown",
   "metadata": {
    "slideshow": {
     "slide_type": "slide"
    }
   },
   "source": [
    "# Day 1 (29/06/2017)\n",
    "## Section 1 (Evening)"
   ]
  },
  {
   "cell_type": "markdown",
   "metadata": {
    "slideshow": {
     "slide_type": "slide"
    }
   },
   "source": [
    "## SS1 - stage sector delta time (seconds) compared to H. PADDON stage sector time"
   ]
  },
  {
   "cell_type": "markdown",
   "metadata": {},
   "source": [
    "![](./chart_stage_sector_delta4_SS1.png)"
   ]
  },
  {
   "cell_type": "markdown",
   "metadata": {},
   "source": [
    "*This chart allows you to compare the __on stage__ performance of each driver. It displays the \"sector time\" of each driver (the time between each split point along the stage), rebased relative to car 4.*"
   ]
  },
  {
   "cell_type": "markdown",
   "metadata": {
    "slideshow": {
     "slide_type": "subslide"
    }
   },
   "source": [
    "## SS1 - stage sector time (seconds)"
   ]
  },
  {
   "cell_type": "markdown",
   "metadata": {},
   "source": [
    "<table border=\"1\" class=\"dataframe\">\n",
    "  <thead>\n",
    "    <tr style=\"text-align: right;\">\n",
    "      <th></th>\n",
    "      <th>carNo</th>\n",
    "      <th>driverName</th>\n",
    "      <th>time_stageTime</th>\n",
    "    </tr>\n",
    "    <tr>\n",
    "      <th>start</th>\n",
    "      <th></th>\n",
    "      <th></th>\n",
    "      <th></th>\n",
    "    </tr>\n",
    "  </thead>\n",
    "  <tbody>\n",
    "    <tr>\n",
    "      <th>30</th>\n",
    "      <td>3</td>\n",
    "      <td>E. EVANS</td>\n",
    "      <td>00:01:44.400000</td>\n",
    "    </tr>\n",
    "    <tr>\n",
    "      <th>34</th>\n",
    "      <td>5</td>\n",
    "      <td>T. NEUVILLE</td>\n",
    "      <td>00:01:45.200000</td>\n",
    "    </tr>\n",
    "    <tr>\n",
    "      <th>33</th>\n",
    "      <td>1</td>\n",
    "      <td>S. OGIER</td>\n",
    "      <td>00:01:45.300000</td>\n",
    "    </tr>\n",
    "    <tr>\n",
    "      <th>32</th>\n",
    "      <td>10</td>\n",
    "      <td>J. LATVALA</td>\n",
    "      <td>00:01:45.700000</td>\n",
    "    </tr>\n",
    "    <tr>\n",
    "      <th>31</th>\n",
    "      <td>2</td>\n",
    "      <td>O. TANAK</td>\n",
    "      <td>00:01:45.800000</td>\n",
    "    </tr>\n",
    "    <tr>\n",
    "      <th>21</th>\n",
    "      <td>9</td>\n",
    "      <td>S. LEFEBVRE</td>\n",
    "      <td>00:01:45.900000</td>\n",
    "    </tr>\n",
    "    <tr>\n",
    "      <th>25</th>\n",
    "      <td>12</td>\n",
    "      <td>E. LAPPI</td>\n",
    "      <td>00:01:45.900000</td>\n",
    "    </tr>\n",
    "    <tr>\n",
    "      <th>28</th>\n",
    "      <td>4</td>\n",
    "      <td>H. PADDON</td>\n",
    "      <td>00:01:45.900000</td>\n",
    "    </tr>\n",
    "    <tr>\n",
    "      <th>23</th>\n",
    "      <td>7</td>\n",
    "      <td>A. MIKKELSEN</td>\n",
    "      <td>00:01:46</td>\n",
    "    </tr>\n",
    "    <tr>\n",
    "      <th>26</th>\n",
    "      <td>11</td>\n",
    "      <td>J. HÄNNINEN</td>\n",
    "      <td>00:01:46.200000</td>\n",
    "    </tr>\n",
    "  </tbody>\n",
    "</table>"
   ]
  },
  {
   "cell_type": "markdown",
   "metadata": {
    "slideshow": {
     "slide_type": "subslide"
    }
   },
   "source": [
    "## SS1 - stage split delta time (seconds) compared to H. PADDON"
   ]
  },
  {
   "cell_type": "markdown",
   "metadata": {},
   "source": [
    "![](./split_delta_driver4_SS1.png)"
   ]
  },
  {
   "cell_type": "markdown",
   "metadata": {},
   "source": [
    "*This chart allows you to compare the __on stage__ performance of each driver, with split times rebased relative to car 4 on stage.*"
   ]
  },
  {
   "cell_type": "markdown",
   "metadata": {
    "slideshow": {
     "slide_type": "slide"
    }
   },
   "source": [
    "# Day 2 (30/06/2017)\n",
    "## Section 2 (Morning)"
   ]
  },
  {
   "cell_type": "markdown",
   "metadata": {
    "slideshow": {
     "slide_type": "slide"
    }
   },
   "source": [
    "## SS2 - stage sector delta time (seconds) compared to H. PADDON stage sector time"
   ]
  },
  {
   "cell_type": "markdown",
   "metadata": {},
   "source": [
    "![](./chart_stage_sector_delta4_SS2.png)"
   ]
  },
  {
   "cell_type": "markdown",
   "metadata": {},
   "source": [
    "*This chart allows you to compare the __on stage__ performance of each driver. It displays the \"sector time\" of each driver (the time between each split point along the stage), rebased relative to car 4.*"
   ]
  },
  {
   "cell_type": "markdown",
   "metadata": {
    "slideshow": {
     "slide_type": "subslide"
    }
   },
   "source": [
    "## SS2 - stage sector time (seconds)"
   ]
  },
  {
   "cell_type": "markdown",
   "metadata": {},
   "source": [
    "<table border=\"1\" class=\"dataframe\">\n",
    "  <thead>\n",
    "    <tr style=\"text-align: right;\">\n",
    "      <th></th>\n",
    "      <th>carNo</th>\n",
    "      <th>driverName</th>\n",
    "      <th>sector_1</th>\n",
    "      <th>sector_2</th>\n",
    "      <th>time_stageTime</th>\n",
    "    </tr>\n",
    "    <tr>\n",
    "      <th>start</th>\n",
    "      <th></th>\n",
    "      <th></th>\n",
    "      <th></th>\n",
    "      <th></th>\n",
    "      <th></th>\n",
    "    </tr>\n",
    "  </thead>\n",
    "  <tbody>\n",
    "    <tr>\n",
    "      <th>2</th>\n",
    "      <td>5</td>\n",
    "      <td>T. NEUVILLE</td>\n",
    "      <td>00:01:52.400000</td>\n",
    "      <td>00:01:30.500000</td>\n",
    "      <td>00:03:22.900000</td>\n",
    "    </tr>\n",
    "    <tr>\n",
    "      <th>4</th>\n",
    "      <td>10</td>\n",
    "      <td>J. LATVALA</td>\n",
    "      <td>00:01:53.400000</td>\n",
    "      <td>00:01:29.700000</td>\n",
    "      <td>00:03:23.100000</td>\n",
    "    </tr>\n",
    "    <tr>\n",
    "      <th>1</th>\n",
    "      <td>1</td>\n",
    "      <td>S. OGIER</td>\n",
    "      <td>00:01:51.600000</td>\n",
    "      <td>00:01:32.700000</td>\n",
    "      <td>00:03:24.300000</td>\n",
    "    </tr>\n",
    "    <tr>\n",
    "      <th>3</th>\n",
    "      <td>2</td>\n",
    "      <td>O. TANAK</td>\n",
    "      <td>00:01:53.400000</td>\n",
    "      <td>00:01:31.100000</td>\n",
    "      <td>00:03:24.500000</td>\n",
    "    </tr>\n",
    "    <tr>\n",
    "      <th>10</th>\n",
    "      <td>12</td>\n",
    "      <td>E. LAPPI</td>\n",
    "      <td>00:01:56.300000</td>\n",
    "      <td>00:01:31.400000</td>\n",
    "      <td>00:03:27.700000</td>\n",
    "    </tr>\n",
    "    <tr>\n",
    "      <th>9</th>\n",
    "      <td>11</td>\n",
    "      <td>J. HÄNNINEN</td>\n",
    "      <td>00:01:53.600000</td>\n",
    "      <td>00:01:35.900000</td>\n",
    "      <td>00:03:29.500000</td>\n",
    "    </tr>\n",
    "    <tr>\n",
    "      <th>13</th>\n",
    "      <td>9</td>\n",
    "      <td>S. LEFEBVRE</td>\n",
    "      <td>00:01:56.700000</td>\n",
    "      <td>00:01:34.500000</td>\n",
    "      <td>00:03:31.200000</td>\n",
    "    </tr>\n",
    "    <tr>\n",
    "      <th>8</th>\n",
    "      <td>4</td>\n",
    "      <td>H. PADDON</td>\n",
    "      <td>00:01:56.500000</td>\n",
    "      <td>00:01:34.700000</td>\n",
    "      <td>00:03:31.200000</td>\n",
    "    </tr>\n",
    "    <tr>\n",
    "      <th>11</th>\n",
    "      <td>7</td>\n",
    "      <td>A. MIKKELSEN</td>\n",
    "      <td>00:01:56.600000</td>\n",
    "      <td>00:01:35.500000</td>\n",
    "      <td>00:03:32.100000</td>\n",
    "    </tr>\n",
    "    <tr>\n",
    "      <th>14</th>\n",
    "      <td>15</td>\n",
    "      <td>T. SUNINEN</td>\n",
    "      <td>00:01:59.700000</td>\n",
    "      <td>00:01:33.100000</td>\n",
    "      <td>00:03:32.800000</td>\n",
    "    </tr>\n",
    "  </tbody>\n",
    "</table>"
   ]
  },
  {
   "cell_type": "markdown",
   "metadata": {
    "slideshow": {
     "slide_type": "subslide"
    }
   },
   "source": [
    "## SS2 - stage split delta time (seconds) compared to H. PADDON"
   ]
  },
  {
   "cell_type": "markdown",
   "metadata": {},
   "source": [
    "![](./split_delta_driver4_SS2.png)"
   ]
  },
  {
   "cell_type": "markdown",
   "metadata": {},
   "source": [
    "*This chart allows you to compare the __on stage__ performance of each driver, with split times rebased relative to car 4 on stage.*"
   ]
  },
  {
   "cell_type": "markdown",
   "metadata": {
    "slideshow": {
     "slide_type": "slide"
    }
   },
   "source": [
    "## SS3 - stage sector delta time (seconds) compared to H. PADDON stage sector time"
   ]
  },
  {
   "cell_type": "markdown",
   "metadata": {},
   "source": [
    "![](./chart_stage_sector_delta4_SS3.png)"
   ]
  },
  {
   "cell_type": "markdown",
   "metadata": {},
   "source": [
    "*This chart allows you to compare the __on stage__ performance of each driver. It displays the \"sector time\" of each driver (the time between each split point along the stage), rebased relative to car 4.*"
   ]
  },
  {
   "cell_type": "markdown",
   "metadata": {
    "slideshow": {
     "slide_type": "subslide"
    }
   },
   "source": [
    "## SS3 - stage sector time (seconds)"
   ]
  },
  {
   "cell_type": "markdown",
   "metadata": {},
   "source": [
    "<table border=\"1\" class=\"dataframe\">\n",
    "  <thead>\n",
    "    <tr style=\"text-align: right;\">\n",
    "      <th></th>\n",
    "      <th>carNo</th>\n",
    "      <th>driverName</th>\n",
    "      <th>sector_1</th>\n",
    "      <th>sector_2</th>\n",
    "      <th>sector_3</th>\n",
    "      <th>time_stageTime</th>\n",
    "    </tr>\n",
    "    <tr>\n",
    "      <th>start</th>\n",
    "      <th></th>\n",
    "      <th></th>\n",
    "      <th></th>\n",
    "      <th></th>\n",
    "      <th></th>\n",
    "      <th></th>\n",
    "    </tr>\n",
    "  </thead>\n",
    "  <tbody>\n",
    "    <tr>\n",
    "      <th>4</th>\n",
    "      <td>10</td>\n",
    "      <td>J. LATVALA</td>\n",
    "      <td>00:02:30.500000</td>\n",
    "      <td>00:02:30.800000</td>\n",
    "      <td>00:02:31.700000</td>\n",
    "      <td>00:07:33</td>\n",
    "    </tr>\n",
    "    <tr>\n",
    "      <th>3</th>\n",
    "      <td>2</td>\n",
    "      <td>O. TANAK</td>\n",
    "      <td>00:02:30.800000</td>\n",
    "      <td>00:02:31.200000</td>\n",
    "      <td>00:02:31.900000</td>\n",
    "      <td>00:07:33.900000</td>\n",
    "    </tr>\n",
    "    <tr>\n",
    "      <th>1</th>\n",
    "      <td>1</td>\n",
    "      <td>S. OGIER</td>\n",
    "      <td>00:02:29.900000</td>\n",
    "      <td>00:02:32.500000</td>\n",
    "      <td>00:02:31.900000</td>\n",
    "      <td>00:07:34.300000</td>\n",
    "    </tr>\n",
    "    <tr>\n",
    "      <th>2</th>\n",
    "      <td>5</td>\n",
    "      <td>T. NEUVILLE</td>\n",
    "      <td>00:02:31.300000</td>\n",
    "      <td>00:02:32.500000</td>\n",
    "      <td>00:02:32.300000</td>\n",
    "      <td>00:07:36.100000</td>\n",
    "    </tr>\n",
    "    <tr>\n",
    "      <th>10</th>\n",
    "      <td>12</td>\n",
    "      <td>E. LAPPI</td>\n",
    "      <td>00:02:31.500000</td>\n",
    "      <td>00:02:35.800000</td>\n",
    "      <td>00:02:33.500000</td>\n",
    "      <td>00:07:40.800000</td>\n",
    "    </tr>\n",
    "    <tr>\n",
    "      <th>5</th>\n",
    "      <td>6</td>\n",
    "      <td>D. SORDO</td>\n",
    "      <td>00:02:31.100000</td>\n",
    "      <td>00:02:34.600000</td>\n",
    "      <td>00:02:36.500000</td>\n",
    "      <td>00:07:42.200000</td>\n",
    "    </tr>\n",
    "    <tr>\n",
    "      <th>9</th>\n",
    "      <td>11</td>\n",
    "      <td>J. HÄNNINEN</td>\n",
    "      <td>00:02:33.600000</td>\n",
    "      <td>00:02:37.800000</td>\n",
    "      <td>00:02:35.200000</td>\n",
    "      <td>00:07:46.600000</td>\n",
    "    </tr>\n",
    "    <tr>\n",
    "      <th>8</th>\n",
    "      <td>4</td>\n",
    "      <td>H. PADDON</td>\n",
    "      <td>00:02:32.900000</td>\n",
    "      <td>00:02:38.600000</td>\n",
    "      <td>00:02:36.900000</td>\n",
    "      <td>00:07:48.400000</td>\n",
    "    </tr>\n",
    "    <tr>\n",
    "      <th>14</th>\n",
    "      <td>15</td>\n",
    "      <td>T. SUNINEN</td>\n",
    "      <td>00:02:35.600000</td>\n",
    "      <td>00:02:39.400000</td>\n",
    "      <td>00:02:35.900000</td>\n",
    "      <td>00:07:50.900000</td>\n",
    "    </tr>\n",
    "    <tr>\n",
    "      <th>6</th>\n",
    "      <td>3</td>\n",
    "      <td>E. EVANS</td>\n",
    "      <td>00:02:35.600000</td>\n",
    "      <td>00:02:40.700000</td>\n",
    "      <td>00:02:37.600000</td>\n",
    "      <td>00:07:53.900000</td>\n",
    "    </tr>\n",
    "  </tbody>\n",
    "</table>"
   ]
  },
  {
   "cell_type": "markdown",
   "metadata": {
    "slideshow": {
     "slide_type": "subslide"
    }
   },
   "source": [
    "## SS3 - stage split delta time (seconds) compared to H. PADDON"
   ]
  },
  {
   "cell_type": "markdown",
   "metadata": {},
   "source": [
    "![](./split_delta_driver4_SS3.png)"
   ]
  },
  {
   "cell_type": "markdown",
   "metadata": {},
   "source": [
    "*This chart allows you to compare the __on stage__ performance of each driver, with split times rebased relative to car 4 on stage.*"
   ]
  },
  {
   "cell_type": "markdown",
   "metadata": {
    "slideshow": {
     "slide_type": "slide"
    }
   },
   "source": [
    "## SS4 - stage sector delta time (seconds) compared to H. PADDON stage sector time"
   ]
  },
  {
   "cell_type": "markdown",
   "metadata": {},
   "source": [
    "![](./chart_stage_sector_delta4_SS4.png)"
   ]
  },
  {
   "cell_type": "markdown",
   "metadata": {},
   "source": [
    "*This chart allows you to compare the __on stage__ performance of each driver. It displays the \"sector time\" of each driver (the time between each split point along the stage), rebased relative to car 4.*"
   ]
  },
  {
   "cell_type": "markdown",
   "metadata": {
    "slideshow": {
     "slide_type": "subslide"
    }
   },
   "source": [
    "## SS4 - stage sector time (seconds)"
   ]
  },
  {
   "cell_type": "markdown",
   "metadata": {},
   "source": [
    "<table border=\"1\" class=\"dataframe\">\n",
    "  <thead>\n",
    "    <tr style=\"text-align: right;\">\n",
    "      <th></th>\n",
    "      <th>carNo</th>\n",
    "      <th>driverName</th>\n",
    "      <th>sector_1</th>\n",
    "      <th>sector_2</th>\n",
    "      <th>sector_3</th>\n",
    "      <th>time_stageTime</th>\n",
    "    </tr>\n",
    "    <tr>\n",
    "      <th>start</th>\n",
    "      <th></th>\n",
    "      <th></th>\n",
    "      <th></th>\n",
    "      <th></th>\n",
    "      <th></th>\n",
    "      <th></th>\n",
    "    </tr>\n",
    "  </thead>\n",
    "  <tbody>\n",
    "    <tr>\n",
    "      <th>4</th>\n",
    "      <td>10</td>\n",
    "      <td>J. LATVALA</td>\n",
    "      <td>00:03:50.200000</td>\n",
    "      <td>00:03:27.300000</td>\n",
    "      <td>00:02:29.800000</td>\n",
    "      <td>00:09:47.300000</td>\n",
    "    </tr>\n",
    "    <tr>\n",
    "      <th>3</th>\n",
    "      <td>2</td>\n",
    "      <td>O. TANAK</td>\n",
    "      <td>00:03:52</td>\n",
    "      <td>00:03:26.400000</td>\n",
    "      <td>00:02:30.200000</td>\n",
    "      <td>00:09:48.600000</td>\n",
    "    </tr>\n",
    "    <tr>\n",
    "      <th>1</th>\n",
    "      <td>1</td>\n",
    "      <td>S. OGIER</td>\n",
    "      <td>00:03:56.200000</td>\n",
    "      <td>00:03:21.600000</td>\n",
    "      <td>00:02:32.500000</td>\n",
    "      <td>00:09:50.300000</td>\n",
    "    </tr>\n",
    "    <tr>\n",
    "      <th>2</th>\n",
    "      <td>5</td>\n",
    "      <td>T. NEUVILLE</td>\n",
    "      <td>00:03:53</td>\n",
    "      <td>00:03:27.400000</td>\n",
    "      <td>00:02:30.900000</td>\n",
    "      <td>00:09:51.300000</td>\n",
    "    </tr>\n",
    "    <tr>\n",
    "      <th>5</th>\n",
    "      <td>6</td>\n",
    "      <td>D. SORDO</td>\n",
    "      <td>00:03:54</td>\n",
    "      <td>00:03:32.500000</td>\n",
    "      <td>00:02:33.400000</td>\n",
    "      <td>00:09:59.900000</td>\n",
    "    </tr>\n",
    "    <tr>\n",
    "      <th>8</th>\n",
    "      <td>4</td>\n",
    "      <td>H. PADDON</td>\n",
    "      <td>00:03:56</td>\n",
    "      <td>00:03:32.300000</td>\n",
    "      <td>00:02:33</td>\n",
    "      <td>00:10:01.300000</td>\n",
    "    </tr>\n",
    "    <tr>\n",
    "      <th>9</th>\n",
    "      <td>11</td>\n",
    "      <td>J. HÄNNINEN</td>\n",
    "      <td>00:03:58.400000</td>\n",
    "      <td>00:03:31.100000</td>\n",
    "      <td>00:02:34.300000</td>\n",
    "      <td>00:10:03.800000</td>\n",
    "    </tr>\n",
    "    <tr>\n",
    "      <th>6</th>\n",
    "      <td>3</td>\n",
    "      <td>E. EVANS</td>\n",
    "      <td>00:03:58.600000</td>\n",
    "      <td>00:03:33.100000</td>\n",
    "      <td>00:02:35.900000</td>\n",
    "      <td>00:10:07.600000</td>\n",
    "    </tr>\n",
    "    <tr>\n",
    "      <th>13</th>\n",
    "      <td>9</td>\n",
    "      <td>S. LEFEBVRE</td>\n",
    "      <td>00:03:58.800000</td>\n",
    "      <td>00:03:31.300000</td>\n",
    "      <td>00:02:38.600000</td>\n",
    "      <td>00:10:08.700000</td>\n",
    "    </tr>\n",
    "    <tr>\n",
    "      <th>12</th>\n",
    "      <td>14</td>\n",
    "      <td>M. OSTBERG</td>\n",
    "      <td>00:03:59.500000</td>\n",
    "      <td>00:03:33.700000</td>\n",
    "      <td>00:02:38.100000</td>\n",
    "      <td>00:10:11.300000</td>\n",
    "    </tr>\n",
    "  </tbody>\n",
    "</table>"
   ]
  },
  {
   "cell_type": "markdown",
   "metadata": {
    "slideshow": {
     "slide_type": "subslide"
    }
   },
   "source": [
    "## SS4 - stage split delta time (seconds) compared to H. PADDON"
   ]
  },
  {
   "cell_type": "markdown",
   "metadata": {},
   "source": [
    "![](./split_delta_driver4_SS4.png)"
   ]
  },
  {
   "cell_type": "markdown",
   "metadata": {},
   "source": [
    "*This chart allows you to compare the __on stage__ performance of each driver, with split times rebased relative to car 4 on stage.*"
   ]
  },
  {
   "cell_type": "markdown",
   "metadata": {
    "slideshow": {
     "slide_type": "slide"
    }
   },
   "source": [
    "## SS5 - stage sector delta time (seconds) compared to H. PADDON stage sector time"
   ]
  },
  {
   "cell_type": "markdown",
   "metadata": {},
   "source": [
    "![](./chart_stage_sector_delta4_SS5.png)"
   ]
  },
  {
   "cell_type": "markdown",
   "metadata": {},
   "source": [
    "*This chart allows you to compare the __on stage__ performance of each driver. It displays the \"sector time\" of each driver (the time between each split point along the stage), rebased relative to car 4.*"
   ]
  },
  {
   "cell_type": "markdown",
   "metadata": {
    "slideshow": {
     "slide_type": "subslide"
    }
   },
   "source": [
    "## SS5 - stage sector time (seconds)"
   ]
  },
  {
   "cell_type": "markdown",
   "metadata": {},
   "source": [
    "<table border=\"1\" class=\"dataframe\">\n",
    "  <thead>\n",
    "    <tr style=\"text-align: right;\">\n",
    "      <th></th>\n",
    "      <th>carNo</th>\n",
    "      <th>driverName</th>\n",
    "      <th>sector_1</th>\n",
    "      <th>sector_2</th>\n",
    "      <th>time_stageTime</th>\n",
    "    </tr>\n",
    "    <tr>\n",
    "      <th>start</th>\n",
    "      <th></th>\n",
    "      <th></th>\n",
    "      <th></th>\n",
    "      <th></th>\n",
    "      <th></th>\n",
    "    </tr>\n",
    "  </thead>\n",
    "  <tbody>\n",
    "    <tr>\n",
    "      <th>2</th>\n",
    "      <td>5</td>\n",
    "      <td>T. NEUVILLE</td>\n",
    "      <td>00:03:42.200000</td>\n",
    "      <td>00:03:12.600000</td>\n",
    "      <td>00:06:54.800000</td>\n",
    "    </tr>\n",
    "    <tr>\n",
    "      <th>4</th>\n",
    "      <td>10</td>\n",
    "      <td>J. LATVALA</td>\n",
    "      <td>00:03:41.800000</td>\n",
    "      <td>00:03:14.900000</td>\n",
    "      <td>00:06:56.700000</td>\n",
    "    </tr>\n",
    "    <tr>\n",
    "      <th>3</th>\n",
    "      <td>2</td>\n",
    "      <td>O. TANAK</td>\n",
    "      <td>00:03:43.500000</td>\n",
    "      <td>00:03:14.500000</td>\n",
    "      <td>00:06:58</td>\n",
    "    </tr>\n",
    "    <tr>\n",
    "      <th>1</th>\n",
    "      <td>1</td>\n",
    "      <td>S. OGIER</td>\n",
    "      <td>00:03:44.900000</td>\n",
    "      <td>00:03:14</td>\n",
    "      <td>00:06:58.900000</td>\n",
    "    </tr>\n",
    "    <tr>\n",
    "      <th>8</th>\n",
    "      <td>4</td>\n",
    "      <td>H. PADDON</td>\n",
    "      <td>00:03:41.700000</td>\n",
    "      <td>00:03:20.900000</td>\n",
    "      <td>00:07:02.600000</td>\n",
    "    </tr>\n",
    "    <tr>\n",
    "      <th>5</th>\n",
    "      <td>6</td>\n",
    "      <td>D. SORDO</td>\n",
    "      <td>00:03:48.100000</td>\n",
    "      <td>00:03:22.100000</td>\n",
    "      <td>00:07:10.200000</td>\n",
    "    </tr>\n",
    "    <tr>\n",
    "      <th>9</th>\n",
    "      <td>11</td>\n",
    "      <td>J. HÄNNINEN</td>\n",
    "      <td>00:03:47.400000</td>\n",
    "      <td>00:03:23.400000</td>\n",
    "      <td>00:07:10.800000</td>\n",
    "    </tr>\n",
    "    <tr>\n",
    "      <th>13</th>\n",
    "      <td>15</td>\n",
    "      <td>T. SUNINEN</td>\n",
    "      <td>00:03:49.600000</td>\n",
    "      <td>00:03:24.800000</td>\n",
    "      <td>00:07:14.400000</td>\n",
    "    </tr>\n",
    "    <tr>\n",
    "      <th>6</th>\n",
    "      <td>3</td>\n",
    "      <td>E. EVANS</td>\n",
    "      <td>00:03:53.300000</td>\n",
    "      <td>00:03:22</td>\n",
    "      <td>00:07:15.300000</td>\n",
    "    </tr>\n",
    "    <tr>\n",
    "      <th>11</th>\n",
    "      <td>14</td>\n",
    "      <td>M. OSTBERG</td>\n",
    "      <td>00:03:50.400000</td>\n",
    "      <td>00:03:28.600000</td>\n",
    "      <td>00:07:19</td>\n",
    "    </tr>\n",
    "  </tbody>\n",
    "</table>"
   ]
  },
  {
   "cell_type": "markdown",
   "metadata": {
    "slideshow": {
     "slide_type": "subslide"
    }
   },
   "source": [
    "## SS5 - stage split delta time (seconds) compared to H. PADDON"
   ]
  },
  {
   "cell_type": "markdown",
   "metadata": {},
   "source": [
    "![](./split_delta_driver4_SS5.png)"
   ]
  },
  {
   "cell_type": "markdown",
   "metadata": {},
   "source": [
    "*This chart allows you to compare the __on stage__ performance of each driver, with split times rebased relative to car 4 on stage.*"
   ]
  },
  {
   "cell_type": "markdown",
   "metadata": {
    "slideshow": {
     "slide_type": "slide"
    }
   },
   "source": [
    "# Day 9 (30/06/2017)\n",
    "## Section 3 (Afternoon/Evening)"
   ]
  },
  {
   "cell_type": "markdown",
   "metadata": {
    "slideshow": {
     "slide_type": "slide"
    }
   },
   "source": [
    "## SS7 - stage sector delta time (seconds) compared to H. PADDON stage sector time"
   ]
  },
  {
   "cell_type": "markdown",
   "metadata": {},
   "source": [
    "![](./chart_stage_sector_delta4_SS7.png)"
   ]
  },
  {
   "cell_type": "markdown",
   "metadata": {},
   "source": [
    "*This chart allows you to compare the __on stage__ performance of each driver. It displays the \"sector time\" of each driver (the time between each split point along the stage), rebased relative to car 4.*"
   ]
  },
  {
   "cell_type": "markdown",
   "metadata": {
    "slideshow": {
     "slide_type": "subslide"
    }
   },
   "source": [
    "## SS7 - stage sector time (seconds)"
   ]
  },
  {
   "cell_type": "markdown",
   "metadata": {},
   "source": [
    "<table border=\"1\" class=\"dataframe\">\n",
    "  <thead>\n",
    "    <tr style=\"text-align: right;\">\n",
    "      <th></th>\n",
    "      <th>carNo</th>\n",
    "      <th>driverName</th>\n",
    "      <th>sector_1</th>\n",
    "      <th>sector_2</th>\n",
    "      <th>sector_3</th>\n",
    "      <th>time_stageTime</th>\n",
    "    </tr>\n",
    "    <tr>\n",
    "      <th>start</th>\n",
    "      <th></th>\n",
    "      <th></th>\n",
    "      <th></th>\n",
    "      <th></th>\n",
    "      <th></th>\n",
    "      <th></th>\n",
    "    </tr>\n",
    "  </thead>\n",
    "  <tbody>\n",
    "    <tr>\n",
    "      <th>13</th>\n",
    "      <td>15</td>\n",
    "      <td>T. SUNINEN</td>\n",
    "      <td>00:02:34.900000</td>\n",
    "      <td>00:02:36.800000</td>\n",
    "      <td>00:02:36.200000</td>\n",
    "      <td>00:07:47.900000</td>\n",
    "    </tr>\n",
    "    <tr>\n",
    "      <th>7</th>\n",
    "      <td>4</td>\n",
    "      <td>H. PADDON</td>\n",
    "      <td>00:02:33.500000</td>\n",
    "      <td>00:02:39.500000</td>\n",
    "      <td>00:02:35.600000</td>\n",
    "      <td>00:07:48.600000</td>\n",
    "    </tr>\n",
    "    <tr>\n",
    "      <th>3</th>\n",
    "      <td>2</td>\n",
    "      <td>O. TANAK</td>\n",
    "      <td>00:02:34</td>\n",
    "      <td>00:02:38.800000</td>\n",
    "      <td>00:02:36.300000</td>\n",
    "      <td>00:07:49.100000</td>\n",
    "    </tr>\n",
    "    <tr>\n",
    "      <th>10</th>\n",
    "      <td>7</td>\n",
    "      <td>A. MIKKELSEN</td>\n",
    "      <td>00:02:35.700000</td>\n",
    "      <td>00:02:39.900000</td>\n",
    "      <td>00:02:34.600000</td>\n",
    "      <td>00:07:50.200000</td>\n",
    "    </tr>\n",
    "    <tr>\n",
    "      <th>4</th>\n",
    "      <td>10</td>\n",
    "      <td>J. LATVALA</td>\n",
    "      <td>00:02:34.100000</td>\n",
    "      <td>00:02:40.800000</td>\n",
    "      <td>00:02:36.900000</td>\n",
    "      <td>00:07:51.800000</td>\n",
    "    </tr>\n",
    "    <tr>\n",
    "      <th>11</th>\n",
    "      <td>14</td>\n",
    "      <td>M. OSTBERG</td>\n",
    "      <td>00:02:33.500000</td>\n",
    "      <td>00:02:40.300000</td>\n",
    "      <td>00:02:38.400000</td>\n",
    "      <td>00:07:52.200000</td>\n",
    "    </tr>\n",
    "    <tr>\n",
    "      <th>8</th>\n",
    "      <td>11</td>\n",
    "      <td>J. HÄNNINEN</td>\n",
    "      <td>00:02:36.600000</td>\n",
    "      <td>00:02:40.400000</td>\n",
    "      <td>00:02:36.500000</td>\n",
    "      <td>00:07:53.500000</td>\n",
    "    </tr>\n",
    "    <tr>\n",
    "      <th>2</th>\n",
    "      <td>5</td>\n",
    "      <td>T. NEUVILLE</td>\n",
    "      <td>00:02:34.200000</td>\n",
    "      <td>00:02:42.600000</td>\n",
    "      <td>00:02:38.400000</td>\n",
    "      <td>00:07:55.200000</td>\n",
    "    </tr>\n",
    "    <tr>\n",
    "      <th>5</th>\n",
    "      <td>6</td>\n",
    "      <td>D. SORDO</td>\n",
    "      <td>00:02:33.900000</td>\n",
    "      <td>00:02:46.500000</td>\n",
    "      <td>00:02:39</td>\n",
    "      <td>00:07:59.400000</td>\n",
    "    </tr>\n",
    "    <tr>\n",
    "      <th>12</th>\n",
    "      <td>9</td>\n",
    "      <td>S. LEFEBVRE</td>\n",
    "      <td>00:02:36.700000</td>\n",
    "      <td>00:02:41.900000</td>\n",
    "      <td>00:02:43.300000</td>\n",
    "      <td>00:08:01.900000</td>\n",
    "    </tr>\n",
    "  </tbody>\n",
    "</table>"
   ]
  },
  {
   "cell_type": "markdown",
   "metadata": {
    "slideshow": {
     "slide_type": "subslide"
    }
   },
   "source": [
    "## SS7 - stage split delta time (seconds) compared to H. PADDON"
   ]
  },
  {
   "cell_type": "markdown",
   "metadata": {},
   "source": [
    "![](./split_delta_driver4_SS7.png)"
   ]
  },
  {
   "cell_type": "markdown",
   "metadata": {},
   "source": [
    "*This chart allows you to compare the __on stage__ performance of each driver, with split times rebased relative to car 4 on stage.*"
   ]
  },
  {
   "cell_type": "markdown",
   "metadata": {
    "slideshow": {
     "slide_type": "slide"
    }
   },
   "source": [
    "## SS8 - stage sector delta time (seconds) compared to H. PADDON stage sector time"
   ]
  },
  {
   "cell_type": "markdown",
   "metadata": {},
   "source": [
    "![](./chart_stage_sector_delta4_SS8.png)"
   ]
  },
  {
   "cell_type": "markdown",
   "metadata": {},
   "source": [
    "*This chart allows you to compare the __on stage__ performance of each driver. It displays the \"sector time\" of each driver (the time between each split point along the stage), rebased relative to car 4.*"
   ]
  },
  {
   "cell_type": "markdown",
   "metadata": {
    "slideshow": {
     "slide_type": "subslide"
    }
   },
   "source": [
    "## SS8 - stage sector time (seconds)"
   ]
  },
  {
   "cell_type": "markdown",
   "metadata": {},
   "source": [
    "<table border=\"1\" class=\"dataframe\">\n",
    "  <thead>\n",
    "    <tr style=\"text-align: right;\">\n",
    "      <th></th>\n",
    "      <th>carNo</th>\n",
    "      <th>driverName</th>\n",
    "      <th>sector_1</th>\n",
    "      <th>sector_2</th>\n",
    "      <th>sector_3</th>\n",
    "      <th>time_stageTime</th>\n",
    "    </tr>\n",
    "    <tr>\n",
    "      <th>start</th>\n",
    "      <th></th>\n",
    "      <th></th>\n",
    "      <th></th>\n",
    "      <th></th>\n",
    "      <th></th>\n",
    "      <th></th>\n",
    "    </tr>\n",
    "  </thead>\n",
    "  <tbody>\n",
    "    <tr>\n",
    "      <th>2</th>\n",
    "      <td>5</td>\n",
    "      <td>T. NEUVILLE</td>\n",
    "      <td>00:03:58.600000</td>\n",
    "      <td>00:03:29.200000</td>\n",
    "      <td>00:02:35.500000</td>\n",
    "      <td>00:10:03.300000</td>\n",
    "    </tr>\n",
    "    <tr>\n",
    "      <th>5</th>\n",
    "      <td>6</td>\n",
    "      <td>D. SORDO</td>\n",
    "      <td>00:03:57.100000</td>\n",
    "      <td>00:03:31.600000</td>\n",
    "      <td>00:02:35.800000</td>\n",
    "      <td>00:10:04.500000</td>\n",
    "    </tr>\n",
    "    <tr>\n",
    "      <th>13</th>\n",
    "      <td>15</td>\n",
    "      <td>T. SUNINEN</td>\n",
    "      <td>00:03:53.800000</td>\n",
    "      <td>00:03:34.900000</td>\n",
    "      <td>00:02:38</td>\n",
    "      <td>00:10:06.700000</td>\n",
    "    </tr>\n",
    "    <tr>\n",
    "      <th>7</th>\n",
    "      <td>4</td>\n",
    "      <td>H. PADDON</td>\n",
    "      <td>00:03:58.200000</td>\n",
    "      <td>00:03:31.400000</td>\n",
    "      <td>00:02:37.600000</td>\n",
    "      <td>00:10:07.200000</td>\n",
    "    </tr>\n",
    "    <tr>\n",
    "      <th>3</th>\n",
    "      <td>2</td>\n",
    "      <td>O. TANAK</td>\n",
    "      <td>00:03:58.200000</td>\n",
    "      <td>00:03:30.900000</td>\n",
    "      <td>00:02:38.100000</td>\n",
    "      <td>00:10:07.200000</td>\n",
    "    </tr>\n",
    "    <tr>\n",
    "      <th>10</th>\n",
    "      <td>7</td>\n",
    "      <td>A. MIKKELSEN</td>\n",
    "      <td>00:03:55.300000</td>\n",
    "      <td>00:03:34.600000</td>\n",
    "      <td>00:02:38.600000</td>\n",
    "      <td>00:10:08.500000</td>\n",
    "    </tr>\n",
    "    <tr>\n",
    "      <th>12</th>\n",
    "      <td>9</td>\n",
    "      <td>S. LEFEBVRE</td>\n",
    "      <td>00:03:58.300000</td>\n",
    "      <td>00:03:31.300000</td>\n",
    "      <td>00:02:39.700000</td>\n",
    "      <td>00:10:09.300000</td>\n",
    "    </tr>\n",
    "    <tr>\n",
    "      <th>4</th>\n",
    "      <td>10</td>\n",
    "      <td>J. LATVALA</td>\n",
    "      <td>00:04:04.800000</td>\n",
    "      <td>00:03:27.700000</td>\n",
    "      <td>00:02:38</td>\n",
    "      <td>00:10:10.500000</td>\n",
    "    </tr>\n",
    "    <tr>\n",
    "      <th>11</th>\n",
    "      <td>14</td>\n",
    "      <td>M. OSTBERG</td>\n",
    "      <td>00:04:00.800000</td>\n",
    "      <td>00:03:34.500000</td>\n",
    "      <td>00:02:39.500000</td>\n",
    "      <td>00:10:14.800000</td>\n",
    "    </tr>\n",
    "    <tr>\n",
    "      <th>1</th>\n",
    "      <td>1</td>\n",
    "      <td>S. OGIER</td>\n",
    "      <td>00:04:05.300000</td>\n",
    "      <td>00:03:31.700000</td>\n",
    "      <td>00:02:39.800000</td>\n",
    "      <td>00:10:16.800000</td>\n",
    "    </tr>\n",
    "  </tbody>\n",
    "</table>"
   ]
  },
  {
   "cell_type": "markdown",
   "metadata": {
    "slideshow": {
     "slide_type": "subslide"
    }
   },
   "source": [
    "## SS8 - stage split delta time (seconds) compared to H. PADDON"
   ]
  },
  {
   "cell_type": "markdown",
   "metadata": {},
   "source": [
    "![](./split_delta_driver4_SS8.png)"
   ]
  },
  {
   "cell_type": "markdown",
   "metadata": {},
   "source": [
    "*This chart allows you to compare the __on stage__ performance of each driver, with split times rebased relative to car 4 on stage.*"
   ]
  },
  {
   "cell_type": "markdown",
   "metadata": {
    "slideshow": {
     "slide_type": "slide"
    }
   },
   "source": [
    "## SS9 - stage sector delta time (seconds) compared to H. PADDON stage sector time"
   ]
  },
  {
   "cell_type": "markdown",
   "metadata": {},
   "source": [
    "![](./chart_stage_sector_delta4_SS9.png)"
   ]
  },
  {
   "cell_type": "markdown",
   "metadata": {},
   "source": [
    "*This chart allows you to compare the __on stage__ performance of each driver. It displays the \"sector time\" of each driver (the time between each split point along the stage), rebased relative to car 4.*"
   ]
  },
  {
   "cell_type": "markdown",
   "metadata": {
    "slideshow": {
     "slide_type": "subslide"
    }
   },
   "source": [
    "## SS9 - stage sector time (seconds)"
   ]
  },
  {
   "cell_type": "markdown",
   "metadata": {},
   "source": [
    "<table border=\"1\" class=\"dataframe\">\n",
    "  <thead>\n",
    "    <tr style=\"text-align: right;\">\n",
    "      <th></th>\n",
    "      <th>carNo</th>\n",
    "      <th>driverName</th>\n",
    "      <th>sector_1</th>\n",
    "      <th>sector_2</th>\n",
    "      <th>time_stageTime</th>\n",
    "    </tr>\n",
    "    <tr>\n",
    "      <th>start</th>\n",
    "      <th></th>\n",
    "      <th></th>\n",
    "      <th></th>\n",
    "      <th></th>\n",
    "      <th></th>\n",
    "    </tr>\n",
    "  </thead>\n",
    "  <tbody>\n",
    "    <tr>\n",
    "      <th>2</th>\n",
    "      <td>5</td>\n",
    "      <td>T. NEUVILLE</td>\n",
    "      <td>00:03:46.200000</td>\n",
    "      <td>00:03:21.200000</td>\n",
    "      <td>00:07:07.400000</td>\n",
    "    </tr>\n",
    "    <tr>\n",
    "      <th>7</th>\n",
    "      <td>4</td>\n",
    "      <td>H. PADDON</td>\n",
    "      <td>00:03:46.600000</td>\n",
    "      <td>00:03:22.300000</td>\n",
    "      <td>00:07:08.900000</td>\n",
    "    </tr>\n",
    "    <tr>\n",
    "      <th>3</th>\n",
    "      <td>2</td>\n",
    "      <td>O. TANAK</td>\n",
    "      <td>00:03:48.500000</td>\n",
    "      <td>00:03:22.100000</td>\n",
    "      <td>00:07:10.600000</td>\n",
    "    </tr>\n",
    "    <tr>\n",
    "      <th>5</th>\n",
    "      <td>6</td>\n",
    "      <td>D. SORDO</td>\n",
    "      <td>00:03:48.500000</td>\n",
    "      <td>00:03:23.300000</td>\n",
    "      <td>00:07:11.800000</td>\n",
    "    </tr>\n",
    "    <tr>\n",
    "      <th>4</th>\n",
    "      <td>10</td>\n",
    "      <td>J. LATVALA</td>\n",
    "      <td>00:03:49.100000</td>\n",
    "      <td>00:03:24.400000</td>\n",
    "      <td>00:07:13.500000</td>\n",
    "    </tr>\n",
    "    <tr>\n",
    "      <th>13</th>\n",
    "      <td>15</td>\n",
    "      <td>T. SUNINEN</td>\n",
    "      <td>00:03:46.300000</td>\n",
    "      <td>00:03:27.200000</td>\n",
    "      <td>00:07:13.500000</td>\n",
    "    </tr>\n",
    "    <tr>\n",
    "      <th>10</th>\n",
    "      <td>7</td>\n",
    "      <td>A. MIKKELSEN</td>\n",
    "      <td>00:03:50.700000</td>\n",
    "      <td>00:03:24.400000</td>\n",
    "      <td>00:07:15.100000</td>\n",
    "    </tr>\n",
    "    <tr>\n",
    "      <th>1</th>\n",
    "      <td>1</td>\n",
    "      <td>S. OGIER</td>\n",
    "      <td>00:03:51.200000</td>\n",
    "      <td>00:03:24.800000</td>\n",
    "      <td>00:07:16</td>\n",
    "    </tr>\n",
    "    <tr>\n",
    "      <th>11</th>\n",
    "      <td>14</td>\n",
    "      <td>M. OSTBERG</td>\n",
    "      <td>00:03:50.900000</td>\n",
    "      <td>00:03:26</td>\n",
    "      <td>00:07:16.900000</td>\n",
    "    </tr>\n",
    "    <tr>\n",
    "      <th>12</th>\n",
    "      <td>9</td>\n",
    "      <td>S. LEFEBVRE</td>\n",
    "      <td>00:03:50.100000</td>\n",
    "      <td>00:03:27.200000</td>\n",
    "      <td>00:07:17.300000</td>\n",
    "    </tr>\n",
    "  </tbody>\n",
    "</table>"
   ]
  },
  {
   "cell_type": "markdown",
   "metadata": {
    "slideshow": {
     "slide_type": "subslide"
    }
   },
   "source": [
    "## SS9 - stage split delta time (seconds) compared to H. PADDON"
   ]
  },
  {
   "cell_type": "markdown",
   "metadata": {},
   "source": [
    "![](./split_delta_driver4_SS9.png)"
   ]
  },
  {
   "cell_type": "markdown",
   "metadata": {},
   "source": [
    "*This chart allows you to compare the __on stage__ performance of each driver, with split times rebased relative to car 4 on stage.*"
   ]
  },
  {
   "cell_type": "markdown",
   "metadata": {
    "slideshow": {
     "slide_type": "slide"
    }
   },
   "source": [
    "## SS10 - stage sector delta time (seconds) compared to H. PADDON stage sector time"
   ]
  },
  {
   "cell_type": "markdown",
   "metadata": {},
   "source": [
    "![](./chart_stage_sector_delta4_SS10.png)"
   ]
  },
  {
   "cell_type": "markdown",
   "metadata": {},
   "source": [
    "*This chart allows you to compare the __on stage__ performance of each driver. It displays the \"sector time\" of each driver (the time between each split point along the stage), rebased relative to car 4.*"
   ]
  },
  {
   "cell_type": "markdown",
   "metadata": {
    "slideshow": {
     "slide_type": "subslide"
    }
   },
   "source": [
    "## SS10 - stage sector time (seconds)"
   ]
  },
  {
   "cell_type": "markdown",
   "metadata": {},
   "source": [
    "<table border=\"1\" class=\"dataframe\">\n",
    "  <thead>\n",
    "    <tr style=\"text-align: right;\">\n",
    "      <th></th>\n",
    "      <th>carNo</th>\n",
    "      <th>driverName</th>\n",
    "      <th>time_stageTime</th>\n",
    "    </tr>\n",
    "    <tr>\n",
    "      <th>start</th>\n",
    "      <th></th>\n",
    "      <th></th>\n",
    "      <th></th>\n",
    "    </tr>\n",
    "  </thead>\n",
    "  <tbody>\n",
    "    <tr>\n",
    "      <th>5</th>\n",
    "      <td>3</td>\n",
    "      <td>E. EVANS</td>\n",
    "      <td>00:01:44.300000</td>\n",
    "    </tr>\n",
    "    <tr>\n",
    "      <th>3</th>\n",
    "      <td>2</td>\n",
    "      <td>O. TANAK</td>\n",
    "      <td>00:01:44.800000</td>\n",
    "    </tr>\n",
    "    <tr>\n",
    "      <th>2</th>\n",
    "      <td>5</td>\n",
    "      <td>T. NEUVILLE</td>\n",
    "      <td>00:01:45</td>\n",
    "    </tr>\n",
    "    <tr>\n",
    "      <th>10</th>\n",
    "      <td>7</td>\n",
    "      <td>A. MIKKELSEN</td>\n",
    "      <td>00:01:45.400000</td>\n",
    "    </tr>\n",
    "    <tr>\n",
    "      <th>6</th>\n",
    "      <td>6</td>\n",
    "      <td>D. SORDO</td>\n",
    "      <td>00:01:45.700000</td>\n",
    "    </tr>\n",
    "    <tr>\n",
    "      <th>11</th>\n",
    "      <td>9</td>\n",
    "      <td>S. LEFEBVRE</td>\n",
    "      <td>00:01:45.800000</td>\n",
    "    </tr>\n",
    "    <tr>\n",
    "      <th>1</th>\n",
    "      <td>1</td>\n",
    "      <td>S. OGIER</td>\n",
    "      <td>00:01:46.200000</td>\n",
    "    </tr>\n",
    "    <tr>\n",
    "      <th>4</th>\n",
    "      <td>10</td>\n",
    "      <td>J. LATVALA</td>\n",
    "      <td>00:01:46.200000</td>\n",
    "    </tr>\n",
    "    <tr>\n",
    "      <th>9</th>\n",
    "      <td>8</td>\n",
    "      <td>C. BREEN</td>\n",
    "      <td>00:01:46.600000</td>\n",
    "    </tr>\n",
    "    <tr>\n",
    "      <th>13</th>\n",
    "      <td>15</td>\n",
    "      <td>T. SUNINEN</td>\n",
    "      <td>00:01:46.700000</td>\n",
    "    </tr>\n",
    "  </tbody>\n",
    "</table>"
   ]
  },
  {
   "cell_type": "markdown",
   "metadata": {
    "slideshow": {
     "slide_type": "subslide"
    }
   },
   "source": [
    "## SS10 - stage split delta time (seconds) compared to H. PADDON"
   ]
  },
  {
   "cell_type": "markdown",
   "metadata": {},
   "source": [
    "![](./split_delta_driver4_SS10.png)"
   ]
  },
  {
   "cell_type": "markdown",
   "metadata": {},
   "source": [
    "*This chart allows you to compare the __on stage__ performance of each driver, with split times rebased relative to car 4 on stage.*"
   ]
  },
  {
   "cell_type": "markdown",
   "metadata": {
    "slideshow": {
     "slide_type": "slide"
    }
   },
   "source": [
    "# Day 3 (01/07/2017)\n",
    "## Section 4 (Morning)"
   ]
  },
  {
   "cell_type": "markdown",
   "metadata": {
    "slideshow": {
     "slide_type": "slide"
    }
   },
   "source": [
    "## SS11 - stage sector delta time (seconds) compared to H. PADDON stage sector time"
   ]
  },
  {
   "cell_type": "markdown",
   "metadata": {},
   "source": [
    "![](./chart_stage_sector_delta4_SS11.png)"
   ]
  },
  {
   "cell_type": "markdown",
   "metadata": {},
   "source": [
    "*This chart allows you to compare the __on stage__ performance of each driver. It displays the \"sector time\" of each driver (the time between each split point along the stage), rebased relative to car 4.*"
   ]
  },
  {
   "cell_type": "markdown",
   "metadata": {
    "slideshow": {
     "slide_type": "subslide"
    }
   },
   "source": [
    "## SS11 - stage sector time (seconds)"
   ]
  },
  {
   "cell_type": "markdown",
   "metadata": {},
   "source": [
    "<table border=\"1\" class=\"dataframe\">\n",
    "  <thead>\n",
    "    <tr style=\"text-align: right;\">\n",
    "      <th></th>\n",
    "      <th>carNo</th>\n",
    "      <th>driverName</th>\n",
    "      <th>sector_1</th>\n",
    "      <th>sector_2</th>\n",
    "      <th>sector_3</th>\n",
    "      <th>time_stageTime</th>\n",
    "    </tr>\n",
    "    <tr>\n",
    "      <th>start</th>\n",
    "      <th></th>\n",
    "      <th></th>\n",
    "      <th></th>\n",
    "      <th></th>\n",
    "      <th></th>\n",
    "      <th></th>\n",
    "    </tr>\n",
    "  </thead>\n",
    "  <tbody>\n",
    "    <tr>\n",
    "      <th>11</th>\n",
    "      <td>10</td>\n",
    "      <td>J. LATVALA</td>\n",
    "      <td>00:03:14.500000</td>\n",
    "      <td>00:02:40.100000</td>\n",
    "      <td>00:02:07.600000</td>\n",
    "      <td>00:08:02.200000</td>\n",
    "    </tr>\n",
    "    <tr>\n",
    "      <th>13</th>\n",
    "      <td>5</td>\n",
    "      <td>T. NEUVILLE</td>\n",
    "      <td>00:03:13</td>\n",
    "      <td>00:02:39.600000</td>\n",
    "      <td>00:02:10.400000</td>\n",
    "      <td>00:08:03</td>\n",
    "    </tr>\n",
    "    <tr>\n",
    "      <th>12</th>\n",
    "      <td>2</td>\n",
    "      <td>O. TANAK</td>\n",
    "      <td>00:03:15.400000</td>\n",
    "      <td>00:02:42.400000</td>\n",
    "      <td>00:02:06.500000</td>\n",
    "      <td>00:08:04.300000</td>\n",
    "    </tr>\n",
    "    <tr>\n",
    "      <th>9</th>\n",
    "      <td>4</td>\n",
    "      <td>H. PADDON</td>\n",
    "      <td>00:03:13.900000</td>\n",
    "      <td>00:02:39.900000</td>\n",
    "      <td>00:02:10.900000</td>\n",
    "      <td>00:08:04.700000</td>\n",
    "    </tr>\n",
    "    <tr>\n",
    "      <th>10</th>\n",
    "      <td>1</td>\n",
    "      <td>S. OGIER</td>\n",
    "      <td>00:03:16.800000</td>\n",
    "      <td>00:02:43</td>\n",
    "      <td>00:02:08.300000</td>\n",
    "      <td>00:08:08.100000</td>\n",
    "    </tr>\n",
    "    <tr>\n",
    "      <th>2</th>\n",
    "      <td>7</td>\n",
    "      <td>A. MIKKELSEN</td>\n",
    "      <td>00:03:13.300000</td>\n",
    "      <td>00:02:45.600000</td>\n",
    "      <td>00:02:09.900000</td>\n",
    "      <td>00:08:08.800000</td>\n",
    "    </tr>\n",
    "    <tr>\n",
    "      <th>1</th>\n",
    "      <td>8</td>\n",
    "      <td>C. BREEN</td>\n",
    "      <td>00:03:16</td>\n",
    "      <td>00:02:41.500000</td>\n",
    "      <td>00:02:11.300000</td>\n",
    "      <td>00:08:08.800000</td>\n",
    "    </tr>\n",
    "    <tr>\n",
    "      <th>7</th>\n",
    "      <td>15</td>\n",
    "      <td>T. SUNINEN</td>\n",
    "      <td>00:03:18</td>\n",
    "      <td>00:02:45.700000</td>\n",
    "      <td>00:02:09.300000</td>\n",
    "      <td>00:08:13</td>\n",
    "    </tr>\n",
    "    <tr>\n",
    "      <th>6</th>\n",
    "      <td>11</td>\n",
    "      <td>J. HÄNNINEN</td>\n",
    "      <td>00:03:19.300000</td>\n",
    "      <td>00:02:44.900000</td>\n",
    "      <td>00:02:10</td>\n",
    "      <td>00:08:14.200000</td>\n",
    "    </tr>\n",
    "    <tr>\n",
    "      <th>8</th>\n",
    "      <td>6</td>\n",
    "      <td>D. SORDO</td>\n",
    "      <td>00:03:17.500000</td>\n",
    "      <td>00:02:41.800000</td>\n",
    "      <td>00:02:15.600000</td>\n",
    "      <td>00:08:14.900000</td>\n",
    "    </tr>\n",
    "  </tbody>\n",
    "</table>"
   ]
  },
  {
   "cell_type": "markdown",
   "metadata": {
    "slideshow": {
     "slide_type": "subslide"
    }
   },
   "source": [
    "## SS11 - stage split delta time (seconds) compared to H. PADDON"
   ]
  },
  {
   "cell_type": "markdown",
   "metadata": {},
   "source": [
    "![](./split_delta_driver4_SS11.png)"
   ]
  },
  {
   "cell_type": "markdown",
   "metadata": {},
   "source": [
    "*This chart allows you to compare the __on stage__ performance of each driver, with split times rebased relative to car 4 on stage.*"
   ]
  },
  {
   "cell_type": "markdown",
   "metadata": {
    "slideshow": {
     "slide_type": "slide"
    }
   },
   "source": [
    "## SS12 - stage sector delta time (seconds) compared to H. PADDON stage sector time"
   ]
  },
  {
   "cell_type": "markdown",
   "metadata": {},
   "source": [
    "![](./chart_stage_sector_delta4_SS12.png)"
   ]
  },
  {
   "cell_type": "markdown",
   "metadata": {},
   "source": [
    "*This chart allows you to compare the __on stage__ performance of each driver. It displays the \"sector time\" of each driver (the time between each split point along the stage), rebased relative to car 4.*"
   ]
  },
  {
   "cell_type": "markdown",
   "metadata": {
    "slideshow": {
     "slide_type": "subslide"
    }
   },
   "source": [
    "## SS12 - stage sector time (seconds)"
   ]
  },
  {
   "cell_type": "markdown",
   "metadata": {},
   "source": [
    "<table border=\"1\" class=\"dataframe\">\n",
    "  <thead>\n",
    "    <tr style=\"text-align: right;\">\n",
    "      <th></th>\n",
    "      <th>carNo</th>\n",
    "      <th>driverName</th>\n",
    "      <th>sector_1</th>\n",
    "      <th>sector_2</th>\n",
    "      <th>sector_3</th>\n",
    "      <th>sector_4</th>\n",
    "      <th>time_stageTime</th>\n",
    "    </tr>\n",
    "    <tr>\n",
    "      <th>start</th>\n",
    "      <th></th>\n",
    "      <th></th>\n",
    "      <th></th>\n",
    "      <th></th>\n",
    "      <th></th>\n",
    "      <th></th>\n",
    "      <th></th>\n",
    "    </tr>\n",
    "  </thead>\n",
    "  <tbody>\n",
    "    <tr>\n",
    "      <th>12</th>\n",
    "      <td>2</td>\n",
    "      <td>O. TANAK</td>\n",
    "      <td>00:03:07.400000</td>\n",
    "      <td>00:02:36.900000</td>\n",
    "      <td>00:03:36.600000</td>\n",
    "      <td>00:01:18.900000</td>\n",
    "      <td>00:10:39.800000</td>\n",
    "    </tr>\n",
    "    <tr>\n",
    "      <th>9</th>\n",
    "      <td>4</td>\n",
    "      <td>H. PADDON</td>\n",
    "      <td>00:03:07.100000</td>\n",
    "      <td>00:02:37.500000</td>\n",
    "      <td>00:03:38.900000</td>\n",
    "      <td>00:01:19.300000</td>\n",
    "      <td>00:10:42.800000</td>\n",
    "    </tr>\n",
    "    <tr>\n",
    "      <th>11</th>\n",
    "      <td>10</td>\n",
    "      <td>J. LATVALA</td>\n",
    "      <td>00:03:09.500000</td>\n",
    "      <td>00:02:38.400000</td>\n",
    "      <td>00:03:36</td>\n",
    "      <td>00:01:19.900000</td>\n",
    "      <td>00:10:43.800000</td>\n",
    "    </tr>\n",
    "    <tr>\n",
    "      <th>13</th>\n",
    "      <td>5</td>\n",
    "      <td>T. NEUVILLE</td>\n",
    "      <td>00:03:10.900000</td>\n",
    "      <td>00:02:39.500000</td>\n",
    "      <td>00:03:35.600000</td>\n",
    "      <td>00:01:19.900000</td>\n",
    "      <td>00:10:45.900000</td>\n",
    "    </tr>\n",
    "    <tr>\n",
    "      <th>8</th>\n",
    "      <td>6</td>\n",
    "      <td>D. SORDO</td>\n",
    "      <td>00:03:11.100000</td>\n",
    "      <td>00:02:40.400000</td>\n",
    "      <td>00:03:38.100000</td>\n",
    "      <td>00:01:21.100000</td>\n",
    "      <td>00:10:50.700000</td>\n",
    "    </tr>\n",
    "    <tr>\n",
    "      <th>4</th>\n",
    "      <td>14</td>\n",
    "      <td>M. OSTBERG</td>\n",
    "      <td>00:03:10.500000</td>\n",
    "      <td>00:02:43.100000</td>\n",
    "      <td>00:03:40.100000</td>\n",
    "      <td>00:01:19</td>\n",
    "      <td>00:10:52.700000</td>\n",
    "    </tr>\n",
    "    <tr>\n",
    "      <th>1</th>\n",
    "      <td>8</td>\n",
    "      <td>C. BREEN</td>\n",
    "      <td>00:03:13.700000</td>\n",
    "      <td>00:02:41.800000</td>\n",
    "      <td>00:03:39.300000</td>\n",
    "      <td>00:01:19.700000</td>\n",
    "      <td>00:10:54.500000</td>\n",
    "    </tr>\n",
    "    <tr>\n",
    "      <th>7</th>\n",
    "      <td>15</td>\n",
    "      <td>T. SUNINEN</td>\n",
    "      <td>00:03:14.600000</td>\n",
    "      <td>00:02:42.500000</td>\n",
    "      <td>00:03:39.300000</td>\n",
    "      <td>00:01:20.100000</td>\n",
    "      <td>00:10:56.500000</td>\n",
    "    </tr>\n",
    "    <tr>\n",
    "      <th>5</th>\n",
    "      <td>9</td>\n",
    "      <td>S. LEFEBVRE</td>\n",
    "      <td>00:03:13.300000</td>\n",
    "      <td>00:02:43.100000</td>\n",
    "      <td>00:03:40.300000</td>\n",
    "      <td>00:01:20</td>\n",
    "      <td>00:10:56.700000</td>\n",
    "    </tr>\n",
    "    <tr>\n",
    "      <th>3</th>\n",
    "      <td>3</td>\n",
    "      <td>E. EVANS</td>\n",
    "      <td>00:03:13.500000</td>\n",
    "      <td>00:02:41.800000</td>\n",
    "      <td>00:03:42.100000</td>\n",
    "      <td>00:01:19.700000</td>\n",
    "      <td>00:10:57.100000</td>\n",
    "    </tr>\n",
    "  </tbody>\n",
    "</table>"
   ]
  },
  {
   "cell_type": "markdown",
   "metadata": {
    "slideshow": {
     "slide_type": "subslide"
    }
   },
   "source": [
    "## SS12 - stage split delta time (seconds) compared to H. PADDON"
   ]
  },
  {
   "cell_type": "markdown",
   "metadata": {},
   "source": [
    "![](./split_delta_driver4_SS12.png)"
   ]
  },
  {
   "cell_type": "markdown",
   "metadata": {},
   "source": [
    "*This chart allows you to compare the __on stage__ performance of each driver, with split times rebased relative to car 4 on stage.*"
   ]
  },
  {
   "cell_type": "markdown",
   "metadata": {
    "slideshow": {
     "slide_type": "slide"
    }
   },
   "source": [
    "## SS13 - stage sector delta time (seconds) compared to H. PADDON stage sector time"
   ]
  },
  {
   "cell_type": "markdown",
   "metadata": {},
   "source": [
    "![](./chart_stage_sector_delta4_SS13.png)"
   ]
  },
  {
   "cell_type": "markdown",
   "metadata": {},
   "source": [
    "*This chart allows you to compare the __on stage__ performance of each driver. It displays the \"sector time\" of each driver (the time between each split point along the stage), rebased relative to car 4.*"
   ]
  },
  {
   "cell_type": "markdown",
   "metadata": {
    "slideshow": {
     "slide_type": "subslide"
    }
   },
   "source": [
    "## SS13 - stage sector time (seconds)"
   ]
  },
  {
   "cell_type": "markdown",
   "metadata": {},
   "source": [
    "<table border=\"1\" class=\"dataframe\">\n",
    "  <thead>\n",
    "    <tr style=\"text-align: right;\">\n",
    "      <th></th>\n",
    "      <th>carNo</th>\n",
    "      <th>driverName</th>\n",
    "      <th>sector_1</th>\n",
    "      <th>sector_2</th>\n",
    "      <th>time_stageTime</th>\n",
    "    </tr>\n",
    "    <tr>\n",
    "      <th>start</th>\n",
    "      <th></th>\n",
    "      <th></th>\n",
    "      <th></th>\n",
    "      <th></th>\n",
    "      <th></th>\n",
    "    </tr>\n",
    "  </thead>\n",
    "  <tbody>\n",
    "    <tr>\n",
    "      <th>9</th>\n",
    "      <td>4</td>\n",
    "      <td>H. PADDON</td>\n",
    "      <td>00:03:53.900000</td>\n",
    "      <td>00:03:30.200000</td>\n",
    "      <td>00:07:24.100000</td>\n",
    "    </tr>\n",
    "    <tr>\n",
    "      <th>13</th>\n",
    "      <td>5</td>\n",
    "      <td>T. NEUVILLE</td>\n",
    "      <td>00:03:55.800000</td>\n",
    "      <td>00:03:29.700000</td>\n",
    "      <td>00:07:25.500000</td>\n",
    "    </tr>\n",
    "    <tr>\n",
    "      <th>12</th>\n",
    "      <td>2</td>\n",
    "      <td>O. TANAK</td>\n",
    "      <td>00:03:56.900000</td>\n",
    "      <td>00:03:29</td>\n",
    "      <td>00:07:25.900000</td>\n",
    "    </tr>\n",
    "    <tr>\n",
    "      <th>5</th>\n",
    "      <td>9</td>\n",
    "      <td>S. LEFEBVRE</td>\n",
    "      <td>00:03:55.400000</td>\n",
    "      <td>00:03:30.600000</td>\n",
    "      <td>00:07:26</td>\n",
    "    </tr>\n",
    "    <tr>\n",
    "      <th>2</th>\n",
    "      <td>7</td>\n",
    "      <td>A. MIKKELSEN</td>\n",
    "      <td>00:03:55.200000</td>\n",
    "      <td>00:03:31.500000</td>\n",
    "      <td>00:07:26.700000</td>\n",
    "    </tr>\n",
    "    <tr>\n",
    "      <th>3</th>\n",
    "      <td>3</td>\n",
    "      <td>E. EVANS</td>\n",
    "      <td>00:03:54.900000</td>\n",
    "      <td>00:03:33.100000</td>\n",
    "      <td>00:07:28</td>\n",
    "    </tr>\n",
    "    <tr>\n",
    "      <th>11</th>\n",
    "      <td>10</td>\n",
    "      <td>J. LATVALA</td>\n",
    "      <td>00:03:56.700000</td>\n",
    "      <td>00:03:31.400000</td>\n",
    "      <td>00:07:28.100000</td>\n",
    "    </tr>\n",
    "    <tr>\n",
    "      <th>4</th>\n",
    "      <td>14</td>\n",
    "      <td>M. OSTBERG</td>\n",
    "      <td>00:03:55.800000</td>\n",
    "      <td>00:03:33.500000</td>\n",
    "      <td>00:07:29.300000</td>\n",
    "    </tr>\n",
    "    <tr>\n",
    "      <th>1</th>\n",
    "      <td>8</td>\n",
    "      <td>C. BREEN</td>\n",
    "      <td>00:03:57.200000</td>\n",
    "      <td>00:03:33.100000</td>\n",
    "      <td>00:07:30.300000</td>\n",
    "    </tr>\n",
    "    <tr>\n",
    "      <th>8</th>\n",
    "      <td>6</td>\n",
    "      <td>D. SORDO</td>\n",
    "      <td>00:03:56.700000</td>\n",
    "      <td>00:03:34.200000</td>\n",
    "      <td>00:07:30.900000</td>\n",
    "    </tr>\n",
    "  </tbody>\n",
    "</table>"
   ]
  },
  {
   "cell_type": "markdown",
   "metadata": {
    "slideshow": {
     "slide_type": "subslide"
    }
   },
   "source": [
    "## SS13 - stage split delta time (seconds) compared to H. PADDON"
   ]
  },
  {
   "cell_type": "markdown",
   "metadata": {},
   "source": [
    "![](./split_delta_driver4_SS13.png)"
   ]
  },
  {
   "cell_type": "markdown",
   "metadata": {},
   "source": [
    "*This chart allows you to compare the __on stage__ performance of each driver, with split times rebased relative to car 4 on stage.*"
   ]
  },
  {
   "cell_type": "markdown",
   "metadata": {
    "slideshow": {
     "slide_type": "slide"
    }
   },
   "source": [
    "## SS14 - stage sector delta time (seconds) compared to H. PADDON stage sector time"
   ]
  },
  {
   "cell_type": "markdown",
   "metadata": {},
   "source": [
    "![](./chart_stage_sector_delta4_SS14.png)"
   ]
  },
  {
   "cell_type": "markdown",
   "metadata": {},
   "source": [
    "*This chart allows you to compare the __on stage__ performance of each driver. It displays the \"sector time\" of each driver (the time between each split point along the stage), rebased relative to car 4.*"
   ]
  },
  {
   "cell_type": "markdown",
   "metadata": {
    "slideshow": {
     "slide_type": "subslide"
    }
   },
   "source": [
    "## SS14 - stage sector time (seconds)"
   ]
  },
  {
   "cell_type": "markdown",
   "metadata": {},
   "source": [
    "<table border=\"1\" class=\"dataframe\">\n",
    "  <thead>\n",
    "    <tr style=\"text-align: right;\">\n",
    "      <th></th>\n",
    "      <th>carNo</th>\n",
    "      <th>driverName</th>\n",
    "      <th>sector_1</th>\n",
    "      <th>sector_2</th>\n",
    "      <th>sector_3</th>\n",
    "      <th>time_stageTime</th>\n",
    "    </tr>\n",
    "    <tr>\n",
    "      <th>start</th>\n",
    "      <th></th>\n",
    "      <th></th>\n",
    "      <th></th>\n",
    "      <th></th>\n",
    "      <th></th>\n",
    "      <th></th>\n",
    "    </tr>\n",
    "  </thead>\n",
    "  <tbody>\n",
    "    <tr>\n",
    "      <th>13</th>\n",
    "      <td>5</td>\n",
    "      <td>T. NEUVILLE</td>\n",
    "      <td>00:03:27.700000</td>\n",
    "      <td>00:03:11.900000</td>\n",
    "      <td>00:03:28.900000</td>\n",
    "      <td>00:10:08.500000</td>\n",
    "    </tr>\n",
    "    <tr>\n",
    "      <th>11</th>\n",
    "      <td>10</td>\n",
    "      <td>J. LATVALA</td>\n",
    "      <td>00:03:30</td>\n",
    "      <td>00:03:11.900000</td>\n",
    "      <td>00:03:29.800000</td>\n",
    "      <td>00:10:11.700000</td>\n",
    "    </tr>\n",
    "    <tr>\n",
    "      <th>12</th>\n",
    "      <td>2</td>\n",
    "      <td>O. TANAK</td>\n",
    "      <td>00:03:31</td>\n",
    "      <td>00:03:12.600000</td>\n",
    "      <td>00:03:29.300000</td>\n",
    "      <td>00:10:12.900000</td>\n",
    "    </tr>\n",
    "    <tr>\n",
    "      <th>9</th>\n",
    "      <td>4</td>\n",
    "      <td>H. PADDON</td>\n",
    "      <td>00:03:29.700000</td>\n",
    "      <td>00:03:13.800000</td>\n",
    "      <td>00:03:31</td>\n",
    "      <td>00:10:14.500000</td>\n",
    "    </tr>\n",
    "    <tr>\n",
    "      <th>5</th>\n",
    "      <td>9</td>\n",
    "      <td>S. LEFEBVRE</td>\n",
    "      <td>00:03:29.500000</td>\n",
    "      <td>00:03:16.900000</td>\n",
    "      <td>00:03:35</td>\n",
    "      <td>00:10:21.400000</td>\n",
    "    </tr>\n",
    "    <tr>\n",
    "      <th>7</th>\n",
    "      <td>15</td>\n",
    "      <td>T. SUNINEN</td>\n",
    "      <td>00:03:31.300000</td>\n",
    "      <td>00:03:16.100000</td>\n",
    "      <td>00:03:35.100000</td>\n",
    "      <td>00:10:22.500000</td>\n",
    "    </tr>\n",
    "    <tr>\n",
    "      <th>2</th>\n",
    "      <td>7</td>\n",
    "      <td>A. MIKKELSEN</td>\n",
    "      <td>00:03:30.100000</td>\n",
    "      <td>00:03:15.900000</td>\n",
    "      <td>00:03:36.800000</td>\n",
    "      <td>00:10:22.800000</td>\n",
    "    </tr>\n",
    "    <tr>\n",
    "      <th>8</th>\n",
    "      <td>6</td>\n",
    "      <td>D. SORDO</td>\n",
    "      <td>00:03:33.800000</td>\n",
    "      <td>00:03:18.700000</td>\n",
    "      <td>00:03:32.600000</td>\n",
    "      <td>00:10:25.100000</td>\n",
    "    </tr>\n",
    "    <tr>\n",
    "      <th>4</th>\n",
    "      <td>14</td>\n",
    "      <td>M. OSTBERG</td>\n",
    "      <td>00:03:32.300000</td>\n",
    "      <td>00:03:18.700000</td>\n",
    "      <td>00:03:34.300000</td>\n",
    "      <td>00:10:25.300000</td>\n",
    "    </tr>\n",
    "    <tr>\n",
    "      <th>10</th>\n",
    "      <td>1</td>\n",
    "      <td>S. OGIER</td>\n",
    "      <td>00:03:32.700000</td>\n",
    "      <td>00:03:17.700000</td>\n",
    "      <td>00:03:35.900000</td>\n",
    "      <td>00:10:26.300000</td>\n",
    "    </tr>\n",
    "  </tbody>\n",
    "</table>"
   ]
  },
  {
   "cell_type": "markdown",
   "metadata": {
    "slideshow": {
     "slide_type": "subslide"
    }
   },
   "source": [
    "## SS14 - stage split delta time (seconds) compared to H. PADDON"
   ]
  },
  {
   "cell_type": "markdown",
   "metadata": {},
   "source": [
    "![](./split_delta_driver4_SS14.png)"
   ]
  },
  {
   "cell_type": "markdown",
   "metadata": {},
   "source": [
    "*This chart allows you to compare the __on stage__ performance of each driver, with split times rebased relative to car 4 on stage.*"
   ]
  },
  {
   "cell_type": "markdown",
   "metadata": {
    "slideshow": {
     "slide_type": "slide"
    }
   },
   "source": [
    "# Day 16 (01/07/2017)\n",
    "## Section 5 (Afternoon/Evening)"
   ]
  },
  {
   "cell_type": "markdown",
   "metadata": {
    "slideshow": {
     "slide_type": "slide"
    }
   },
   "source": [
    "## SS15 - stage sector delta time (seconds) compared to H. PADDON stage sector time"
   ]
  },
  {
   "cell_type": "markdown",
   "metadata": {},
   "source": [
    "![](./chart_stage_sector_delta4_SS15.png)"
   ]
  },
  {
   "cell_type": "markdown",
   "metadata": {},
   "source": [
    "*This chart allows you to compare the __on stage__ performance of each driver. It displays the \"sector time\" of each driver (the time between each split point along the stage), rebased relative to car 4.*"
   ]
  },
  {
   "cell_type": "markdown",
   "metadata": {
    "slideshow": {
     "slide_type": "subslide"
    }
   },
   "source": [
    "## SS15 - stage sector time (seconds)"
   ]
  },
  {
   "cell_type": "markdown",
   "metadata": {},
   "source": [
    "<table border=\"1\" class=\"dataframe\">\n",
    "  <thead>\n",
    "    <tr style=\"text-align: right;\">\n",
    "      <th></th>\n",
    "      <th>carNo</th>\n",
    "      <th>driverName</th>\n",
    "      <th>sector_1</th>\n",
    "      <th>sector_2</th>\n",
    "      <th>sector_3</th>\n",
    "      <th>time_stageTime</th>\n",
    "    </tr>\n",
    "    <tr>\n",
    "      <th>start</th>\n",
    "      <th></th>\n",
    "      <th></th>\n",
    "      <th></th>\n",
    "      <th></th>\n",
    "      <th></th>\n",
    "      <th></th>\n",
    "    </tr>\n",
    "  </thead>\n",
    "  <tbody>\n",
    "    <tr>\n",
    "      <th>13</th>\n",
    "      <td>5</td>\n",
    "      <td>T. NEUVILLE</td>\n",
    "      <td>00:03:06.900000</td>\n",
    "      <td>00:02:38.100000</td>\n",
    "      <td>00:02:02.900000</td>\n",
    "      <td>00:07:47.900000</td>\n",
    "    </tr>\n",
    "    <tr>\n",
    "      <th>12</th>\n",
    "      <td>2</td>\n",
    "      <td>O. TANAK</td>\n",
    "      <td>00:03:09</td>\n",
    "      <td>00:02:38.900000</td>\n",
    "      <td>00:02:01.700000</td>\n",
    "      <td>00:07:49.600000</td>\n",
    "    </tr>\n",
    "    <tr>\n",
    "      <th>11</th>\n",
    "      <td>10</td>\n",
    "      <td>J. LATVALA</td>\n",
    "      <td>00:03:10.100000</td>\n",
    "      <td>00:02:38</td>\n",
    "      <td>00:02:03.600000</td>\n",
    "      <td>00:07:51.700000</td>\n",
    "    </tr>\n",
    "    <tr>\n",
    "      <th>9</th>\n",
    "      <td>4</td>\n",
    "      <td>H. PADDON</td>\n",
    "      <td>00:03:10</td>\n",
    "      <td>00:02:38</td>\n",
    "      <td>00:02:04.900000</td>\n",
    "      <td>00:07:52.900000</td>\n",
    "    </tr>\n",
    "    <tr>\n",
    "      <th>10</th>\n",
    "      <td>1</td>\n",
    "      <td>S. OGIER</td>\n",
    "      <td>00:03:11.900000</td>\n",
    "      <td>00:02:39.100000</td>\n",
    "      <td>00:02:02.900000</td>\n",
    "      <td>00:07:53.900000</td>\n",
    "    </tr>\n",
    "    <tr>\n",
    "      <th>7</th>\n",
    "      <td>15</td>\n",
    "      <td>T. SUNINEN</td>\n",
    "      <td>00:03:09.700000</td>\n",
    "      <td>00:02:42.100000</td>\n",
    "      <td>00:02:03.800000</td>\n",
    "      <td>00:07:55.600000</td>\n",
    "    </tr>\n",
    "    <tr>\n",
    "      <th>5</th>\n",
    "      <td>9</td>\n",
    "      <td>S. LEFEBVRE</td>\n",
    "      <td>00:03:11</td>\n",
    "      <td>00:02:40.100000</td>\n",
    "      <td>00:02:06.800000</td>\n",
    "      <td>00:07:57.900000</td>\n",
    "    </tr>\n",
    "    <tr>\n",
    "      <th>1</th>\n",
    "      <td>8</td>\n",
    "      <td>C. BREEN</td>\n",
    "      <td>00:03:13.100000</td>\n",
    "      <td>00:02:41.600000</td>\n",
    "      <td>00:02:05.100000</td>\n",
    "      <td>00:07:59.800000</td>\n",
    "    </tr>\n",
    "    <tr>\n",
    "      <th>8</th>\n",
    "      <td>6</td>\n",
    "      <td>D. SORDO</td>\n",
    "      <td>00:03:12</td>\n",
    "      <td>00:02:40.200000</td>\n",
    "      <td>00:02:08.200000</td>\n",
    "      <td>00:08:00.400000</td>\n",
    "    </tr>\n",
    "    <tr>\n",
    "      <th>2</th>\n",
    "      <td>7</td>\n",
    "      <td>A. MIKKELSEN</td>\n",
    "      <td>00:03:12.100000</td>\n",
    "      <td>00:02:41.900000</td>\n",
    "      <td>00:02:07.300000</td>\n",
    "      <td>00:08:01.300000</td>\n",
    "    </tr>\n",
    "  </tbody>\n",
    "</table>"
   ]
  },
  {
   "cell_type": "markdown",
   "metadata": {
    "slideshow": {
     "slide_type": "subslide"
    }
   },
   "source": [
    "## SS15 - stage split delta time (seconds) compared to H. PADDON"
   ]
  },
  {
   "cell_type": "markdown",
   "metadata": {},
   "source": [
    "![](./split_delta_driver4_SS15.png)"
   ]
  },
  {
   "cell_type": "markdown",
   "metadata": {},
   "source": [
    "*This chart allows you to compare the __on stage__ performance of each driver, with split times rebased relative to car 4 on stage.*"
   ]
  },
  {
   "cell_type": "markdown",
   "metadata": {
    "slideshow": {
     "slide_type": "slide"
    }
   },
   "source": [
    "## SS16 - stage sector delta time (seconds) compared to H. PADDON stage sector time"
   ]
  },
  {
   "cell_type": "markdown",
   "metadata": {},
   "source": [
    "![](./chart_stage_sector_delta4_SS16.png)"
   ]
  },
  {
   "cell_type": "markdown",
   "metadata": {},
   "source": [
    "*This chart allows you to compare the __on stage__ performance of each driver. It displays the \"sector time\" of each driver (the time between each split point along the stage), rebased relative to car 4.*"
   ]
  },
  {
   "cell_type": "markdown",
   "metadata": {
    "slideshow": {
     "slide_type": "subslide"
    }
   },
   "source": [
    "## SS16 - stage sector time (seconds)"
   ]
  },
  {
   "cell_type": "markdown",
   "metadata": {},
   "source": [
    "<table border=\"1\" class=\"dataframe\">\n",
    "  <thead>\n",
    "    <tr style=\"text-align: right;\">\n",
    "      <th></th>\n",
    "      <th>carNo</th>\n",
    "      <th>driverName</th>\n",
    "      <th>sector_1</th>\n",
    "      <th>sector_2</th>\n",
    "      <th>sector_3</th>\n",
    "      <th>sector_4</th>\n",
    "      <th>time_stageTime</th>\n",
    "    </tr>\n",
    "    <tr>\n",
    "      <th>start</th>\n",
    "      <th></th>\n",
    "      <th></th>\n",
    "      <th></th>\n",
    "      <th></th>\n",
    "      <th></th>\n",
    "      <th></th>\n",
    "      <th></th>\n",
    "    </tr>\n",
    "  </thead>\n",
    "  <tbody>\n",
    "    <tr>\n",
    "      <th>9</th>\n",
    "      <td>4</td>\n",
    "      <td>H. PADDON</td>\n",
    "      <td>00:03:02.100000</td>\n",
    "      <td>00:02:31.800000</td>\n",
    "      <td>00:03:29.500000</td>\n",
    "      <td>00:01:20</td>\n",
    "      <td>00:10:23.400000</td>\n",
    "    </tr>\n",
    "    <tr>\n",
    "      <th>10</th>\n",
    "      <td>1</td>\n",
    "      <td>S. OGIER</td>\n",
    "      <td>00:03:04.400000</td>\n",
    "      <td>00:02:35.900000</td>\n",
    "      <td>00:03:27.100000</td>\n",
    "      <td>00:01:18.700000</td>\n",
    "      <td>00:10:26.100000</td>\n",
    "    </tr>\n",
    "    <tr>\n",
    "      <th>8</th>\n",
    "      <td>6</td>\n",
    "      <td>D. SORDO</td>\n",
    "      <td>00:03:05.100000</td>\n",
    "      <td>00:02:36</td>\n",
    "      <td>00:03:28.500000</td>\n",
    "      <td>00:01:18.600000</td>\n",
    "      <td>00:10:28.200000</td>\n",
    "    </tr>\n",
    "    <tr>\n",
    "      <th>12</th>\n",
    "      <td>2</td>\n",
    "      <td>O. TANAK</td>\n",
    "      <td>00:03:02</td>\n",
    "      <td>00:02:34.500000</td>\n",
    "      <td>00:03:32.400000</td>\n",
    "      <td>00:01:20</td>\n",
    "      <td>00:10:28.900000</td>\n",
    "    </tr>\n",
    "    <tr>\n",
    "      <th>2</th>\n",
    "      <td>7</td>\n",
    "      <td>A. MIKKELSEN</td>\n",
    "      <td>00:03:06.800000</td>\n",
    "      <td>00:02:37.100000</td>\n",
    "      <td>00:03:29.200000</td>\n",
    "      <td>00:01:19.800000</td>\n",
    "      <td>00:10:32.900000</td>\n",
    "    </tr>\n",
    "    <tr>\n",
    "      <th>7</th>\n",
    "      <td>15</td>\n",
    "      <td>T. SUNINEN</td>\n",
    "      <td>00:03:06.100000</td>\n",
    "      <td>00:02:36.100000</td>\n",
    "      <td>00:03:32.900000</td>\n",
    "      <td>00:01:18.600000</td>\n",
    "      <td>00:10:33.700000</td>\n",
    "    </tr>\n",
    "    <tr>\n",
    "      <th>5</th>\n",
    "      <td>9</td>\n",
    "      <td>S. LEFEBVRE</td>\n",
    "      <td>00:03:06.600000</td>\n",
    "      <td>00:02:39.800000</td>\n",
    "      <td>00:03:28</td>\n",
    "      <td>00:01:20</td>\n",
    "      <td>00:10:34.400000</td>\n",
    "    </tr>\n",
    "    <tr>\n",
    "      <th>3</th>\n",
    "      <td>3</td>\n",
    "      <td>E. EVANS</td>\n",
    "      <td>00:03:07.800000</td>\n",
    "      <td>00:02:38.200000</td>\n",
    "      <td>00:03:28.300000</td>\n",
    "      <td>00:01:20.800000</td>\n",
    "      <td>00:10:35.100000</td>\n",
    "    </tr>\n",
    "    <tr>\n",
    "      <th>4</th>\n",
    "      <td>14</td>\n",
    "      <td>M. OSTBERG</td>\n",
    "      <td>00:03:06.500000</td>\n",
    "      <td>00:02:37.100000</td>\n",
    "      <td>00:03:32.800000</td>\n",
    "      <td>00:01:19.300000</td>\n",
    "      <td>00:10:35.700000</td>\n",
    "    </tr>\n",
    "    <tr>\n",
    "      <th>1</th>\n",
    "      <td>8</td>\n",
    "      <td>C. BREEN</td>\n",
    "      <td>00:03:07.300000</td>\n",
    "      <td>00:02:39.500000</td>\n",
    "      <td>00:03:34.200000</td>\n",
    "      <td>00:01:19.600000</td>\n",
    "      <td>00:10:40.600000</td>\n",
    "    </tr>\n",
    "  </tbody>\n",
    "</table>"
   ]
  },
  {
   "cell_type": "markdown",
   "metadata": {
    "slideshow": {
     "slide_type": "subslide"
    }
   },
   "source": [
    "## SS16 - stage split delta time (seconds) compared to H. PADDON"
   ]
  },
  {
   "cell_type": "markdown",
   "metadata": {},
   "source": [
    "![](./split_delta_driver4_SS16.png)"
   ]
  },
  {
   "cell_type": "markdown",
   "metadata": {},
   "source": [
    "*This chart allows you to compare the __on stage__ performance of each driver, with split times rebased relative to car 4 on stage.*"
   ]
  },
  {
   "cell_type": "markdown",
   "metadata": {
    "slideshow": {
     "slide_type": "slide"
    }
   },
   "source": [
    "## SS17 - stage sector delta time (seconds) compared to H. PADDON stage sector time"
   ]
  },
  {
   "cell_type": "markdown",
   "metadata": {},
   "source": [
    "![](./chart_stage_sector_delta4_SS17.png)"
   ]
  },
  {
   "cell_type": "markdown",
   "metadata": {},
   "source": [
    "*This chart allows you to compare the __on stage__ performance of each driver. It displays the \"sector time\" of each driver (the time between each split point along the stage), rebased relative to car 4.*"
   ]
  },
  {
   "cell_type": "markdown",
   "metadata": {
    "slideshow": {
     "slide_type": "subslide"
    }
   },
   "source": [
    "## SS17 - stage sector time (seconds)"
   ]
  },
  {
   "cell_type": "markdown",
   "metadata": {},
   "source": [
    "<table border=\"1\" class=\"dataframe\">\n",
    "  <thead>\n",
    "    <tr style=\"text-align: right;\">\n",
    "      <th></th>\n",
    "      <th>carNo</th>\n",
    "      <th>driverName</th>\n",
    "      <th>sector_1</th>\n",
    "      <th>sector_2</th>\n",
    "      <th>time_stageTime</th>\n",
    "    </tr>\n",
    "    <tr>\n",
    "      <th>start</th>\n",
    "      <th></th>\n",
    "      <th></th>\n",
    "      <th></th>\n",
    "      <th></th>\n",
    "      <th></th>\n",
    "    </tr>\n",
    "  </thead>\n",
    "  <tbody>\n",
    "    <tr>\n",
    "      <th>9</th>\n",
    "      <td>4</td>\n",
    "      <td>H. PADDON</td>\n",
    "      <td>00:03:55.900000</td>\n",
    "      <td>00:03:24.900000</td>\n",
    "      <td>00:07:20.800000</td>\n",
    "    </tr>\n",
    "    <tr>\n",
    "      <th>12</th>\n",
    "      <td>5</td>\n",
    "      <td>T. NEUVILLE</td>\n",
    "      <td>00:03:54.900000</td>\n",
    "      <td>00:03:26.400000</td>\n",
    "      <td>00:07:21.300000</td>\n",
    "    </tr>\n",
    "    <tr>\n",
    "      <th>5</th>\n",
    "      <td>9</td>\n",
    "      <td>S. LEFEBVRE</td>\n",
    "      <td>00:03:56.100000</td>\n",
    "      <td>00:03:27.900000</td>\n",
    "      <td>00:07:24</td>\n",
    "    </tr>\n",
    "    <tr>\n",
    "      <th>3</th>\n",
    "      <td>3</td>\n",
    "      <td>E. EVANS</td>\n",
    "      <td>00:03:57</td>\n",
    "      <td>00:03:28.400000</td>\n",
    "      <td>00:07:25.400000</td>\n",
    "    </tr>\n",
    "    <tr>\n",
    "      <th>4</th>\n",
    "      <td>14</td>\n",
    "      <td>M. OSTBERG</td>\n",
    "      <td>00:03:54.800000</td>\n",
    "      <td>00:03:31</td>\n",
    "      <td>00:07:25.800000</td>\n",
    "    </tr>\n",
    "    <tr>\n",
    "      <th>10</th>\n",
    "      <td>1</td>\n",
    "      <td>S. OGIER</td>\n",
    "      <td>00:03:58</td>\n",
    "      <td>00:03:28.500000</td>\n",
    "      <td>00:07:26.500000</td>\n",
    "    </tr>\n",
    "    <tr>\n",
    "      <th>7</th>\n",
    "      <td>15</td>\n",
    "      <td>T. SUNINEN</td>\n",
    "      <td>00:03:56.500000</td>\n",
    "      <td>00:03:31.100000</td>\n",
    "      <td>00:07:27.600000</td>\n",
    "    </tr>\n",
    "    <tr>\n",
    "      <th>2</th>\n",
    "      <td>7</td>\n",
    "      <td>A. MIKKELSEN</td>\n",
    "      <td>00:03:57.100000</td>\n",
    "      <td>00:03:31.600000</td>\n",
    "      <td>00:07:28.700000</td>\n",
    "    </tr>\n",
    "    <tr>\n",
    "      <th>1</th>\n",
    "      <td>8</td>\n",
    "      <td>C. BREEN</td>\n",
    "      <td>00:03:58.400000</td>\n",
    "      <td>00:03:30.700000</td>\n",
    "      <td>00:07:29.100000</td>\n",
    "    </tr>\n",
    "    <tr>\n",
    "      <th>11</th>\n",
    "      <td>2</td>\n",
    "      <td>O. TANAK</td>\n",
    "      <td>00:04:00</td>\n",
    "      <td>00:03:29.600000</td>\n",
    "      <td>00:07:29.600000</td>\n",
    "    </tr>\n",
    "  </tbody>\n",
    "</table>"
   ]
  },
  {
   "cell_type": "markdown",
   "metadata": {
    "slideshow": {
     "slide_type": "subslide"
    }
   },
   "source": [
    "## SS17 - stage split delta time (seconds) compared to H. PADDON"
   ]
  },
  {
   "cell_type": "markdown",
   "metadata": {},
   "source": [
    "![](./split_delta_driver4_SS17.png)"
   ]
  },
  {
   "cell_type": "markdown",
   "metadata": {},
   "source": [
    "*This chart allows you to compare the __on stage__ performance of each driver, with split times rebased relative to car 4 on stage.*"
   ]
  },
  {
   "cell_type": "markdown",
   "metadata": {
    "slideshow": {
     "slide_type": "slide"
    }
   },
   "source": [
    "## SS18 - stage sector delta time (seconds) compared to H. PADDON stage sector time"
   ]
  },
  {
   "cell_type": "markdown",
   "metadata": {},
   "source": [
    "![](./chart_stage_sector_delta4_SS18.png)"
   ]
  },
  {
   "cell_type": "markdown",
   "metadata": {},
   "source": [
    "*This chart allows you to compare the __on stage__ performance of each driver. It displays the \"sector time\" of each driver (the time between each split point along the stage), rebased relative to car 4.*"
   ]
  },
  {
   "cell_type": "markdown",
   "metadata": {
    "slideshow": {
     "slide_type": "subslide"
    }
   },
   "source": [
    "## SS18 - stage sector time (seconds)"
   ]
  },
  {
   "cell_type": "markdown",
   "metadata": {},
   "source": [
    "<table border=\"1\" class=\"dataframe\">\n",
    "  <thead>\n",
    "    <tr style=\"text-align: right;\">\n",
    "      <th></th>\n",
    "      <th>carNo</th>\n",
    "      <th>driverName</th>\n",
    "      <th>sector_1</th>\n",
    "      <th>sector_2</th>\n",
    "      <th>sector_3</th>\n",
    "      <th>time_stageTime</th>\n",
    "    </tr>\n",
    "    <tr>\n",
    "      <th>start</th>\n",
    "      <th></th>\n",
    "      <th></th>\n",
    "      <th></th>\n",
    "      <th></th>\n",
    "      <th></th>\n",
    "      <th></th>\n",
    "    </tr>\n",
    "  </thead>\n",
    "  <tbody>\n",
    "    <tr>\n",
    "      <th>12</th>\n",
    "      <td>5</td>\n",
    "      <td>T. NEUVILLE</td>\n",
    "      <td>00:03:23.400000</td>\n",
    "      <td>00:03:10.300000</td>\n",
    "      <td>00:03:28.400000</td>\n",
    "      <td>00:10:02.100000</td>\n",
    "    </tr>\n",
    "    <tr>\n",
    "      <th>9</th>\n",
    "      <td>4</td>\n",
    "      <td>H. PADDON</td>\n",
    "      <td>00:03:24.200000</td>\n",
    "      <td>00:03:10.900000</td>\n",
    "      <td>00:03:27.500000</td>\n",
    "      <td>00:10:02.600000</td>\n",
    "    </tr>\n",
    "    <tr>\n",
    "      <th>5</th>\n",
    "      <td>9</td>\n",
    "      <td>S. LEFEBVRE</td>\n",
    "      <td>00:03:25.300000</td>\n",
    "      <td>00:03:09.200000</td>\n",
    "      <td>00:03:30.300000</td>\n",
    "      <td>00:10:04.800000</td>\n",
    "    </tr>\n",
    "    <tr>\n",
    "      <th>10</th>\n",
    "      <td>1</td>\n",
    "      <td>S. OGIER</td>\n",
    "      <td>00:03:26.600000</td>\n",
    "      <td>00:03:10.800000</td>\n",
    "      <td>00:03:28.100000</td>\n",
    "      <td>00:10:05.500000</td>\n",
    "    </tr>\n",
    "    <tr>\n",
    "      <th>2</th>\n",
    "      <td>7</td>\n",
    "      <td>A. MIKKELSEN</td>\n",
    "      <td>00:03:25.900000</td>\n",
    "      <td>00:03:10.200000</td>\n",
    "      <td>00:03:29.500000</td>\n",
    "      <td>00:10:05.600000</td>\n",
    "    </tr>\n",
    "    <tr>\n",
    "      <th>4</th>\n",
    "      <td>14</td>\n",
    "      <td>M. OSTBERG</td>\n",
    "      <td>00:03:27.100000</td>\n",
    "      <td>00:03:11.700000</td>\n",
    "      <td>00:03:30.400000</td>\n",
    "      <td>00:10:09.200000</td>\n",
    "    </tr>\n",
    "    <tr>\n",
    "      <th>1</th>\n",
    "      <td>8</td>\n",
    "      <td>C. BREEN</td>\n",
    "      <td>00:03:28.100000</td>\n",
    "      <td>00:03:11.900000</td>\n",
    "      <td>00:03:29.400000</td>\n",
    "      <td>00:10:09.400000</td>\n",
    "    </tr>\n",
    "    <tr>\n",
    "      <th>7</th>\n",
    "      <td>15</td>\n",
    "      <td>T. SUNINEN</td>\n",
    "      <td>00:03:26.800000</td>\n",
    "      <td>00:03:12</td>\n",
    "      <td>00:03:31.100000</td>\n",
    "      <td>00:10:09.900000</td>\n",
    "    </tr>\n",
    "    <tr>\n",
    "      <th>11</th>\n",
    "      <td>2</td>\n",
    "      <td>O. TANAK</td>\n",
    "      <td>00:03:27</td>\n",
    "      <td>00:03:12.900000</td>\n",
    "      <td>00:03:30.800000</td>\n",
    "      <td>00:10:10.700000</td>\n",
    "    </tr>\n",
    "    <tr>\n",
    "      <th>8</th>\n",
    "      <td>6</td>\n",
    "      <td>D. SORDO</td>\n",
    "      <td>00:03:26.900000</td>\n",
    "      <td>00:03:13.200000</td>\n",
    "      <td>00:03:31.200000</td>\n",
    "      <td>00:10:11.300000</td>\n",
    "    </tr>\n",
    "  </tbody>\n",
    "</table>"
   ]
  },
  {
   "cell_type": "markdown",
   "metadata": {
    "slideshow": {
     "slide_type": "subslide"
    }
   },
   "source": [
    "## SS18 - stage split delta time (seconds) compared to H. PADDON"
   ]
  },
  {
   "cell_type": "markdown",
   "metadata": {},
   "source": [
    "![](./split_delta_driver4_SS18.png)"
   ]
  },
  {
   "cell_type": "markdown",
   "metadata": {},
   "source": [
    "*This chart allows you to compare the __on stage__ performance of each driver, with split times rebased relative to car 4 on stage.*"
   ]
  },
  {
   "cell_type": "markdown",
   "metadata": {
    "slideshow": {
     "slide_type": "slide"
    }
   },
   "source": [
    "## SS19 - stage sector delta time (seconds) compared to H. PADDON stage sector time"
   ]
  },
  {
   "cell_type": "markdown",
   "metadata": {},
   "source": [
    "![](./chart_stage_sector_delta4_SS19.png)"
   ]
  },
  {
   "cell_type": "markdown",
   "metadata": {},
   "source": [
    "*This chart allows you to compare the __on stage__ performance of each driver. It displays the \"sector time\" of each driver (the time between each split point along the stage), rebased relative to car 4.*"
   ]
  },
  {
   "cell_type": "markdown",
   "metadata": {
    "slideshow": {
     "slide_type": "subslide"
    }
   },
   "source": [
    "## SS19 - stage sector time (seconds)"
   ]
  },
  {
   "cell_type": "markdown",
   "metadata": {},
   "source": [
    "<table border=\"1\" class=\"dataframe\">\n",
    "  <thead>\n",
    "    <tr style=\"text-align: right;\">\n",
    "      <th></th>\n",
    "      <th>carNo</th>\n",
    "      <th>driverName</th>\n",
    "      <th>time_stageTime</th>\n",
    "    </tr>\n",
    "    <tr>\n",
    "      <th>start</th>\n",
    "      <th></th>\n",
    "      <th></th>\n",
    "      <th></th>\n",
    "    </tr>\n",
    "  </thead>\n",
    "  <tbody>\n",
    "    <tr>\n",
    "      <th>3</th>\n",
    "      <td>3</td>\n",
    "      <td>E. EVANS</td>\n",
    "      <td>00:01:44.400000</td>\n",
    "    </tr>\n",
    "    <tr>\n",
    "      <th>11</th>\n",
    "      <td>5</td>\n",
    "      <td>T. NEUVILLE</td>\n",
    "      <td>00:01:44.600000</td>\n",
    "    </tr>\n",
    "    <tr>\n",
    "      <th>1</th>\n",
    "      <td>7</td>\n",
    "      <td>A. MIKKELSEN</td>\n",
    "      <td>00:01:44.800000</td>\n",
    "    </tr>\n",
    "    <tr>\n",
    "      <th>4</th>\n",
    "      <td>14</td>\n",
    "      <td>M. OSTBERG</td>\n",
    "      <td>00:01:45</td>\n",
    "    </tr>\n",
    "    <tr>\n",
    "      <th>9</th>\n",
    "      <td>1</td>\n",
    "      <td>S. OGIER</td>\n",
    "      <td>00:01:45</td>\n",
    "    </tr>\n",
    "    <tr>\n",
    "      <th>10</th>\n",
    "      <td>4</td>\n",
    "      <td>H. PADDON</td>\n",
    "      <td>00:01:45.200000</td>\n",
    "    </tr>\n",
    "    <tr>\n",
    "      <th>12</th>\n",
    "      <td>2</td>\n",
    "      <td>O. TANAK</td>\n",
    "      <td>00:01:45.200000</td>\n",
    "    </tr>\n",
    "    <tr>\n",
    "      <th>8</th>\n",
    "      <td>6</td>\n",
    "      <td>D. SORDO</td>\n",
    "      <td>00:01:45.500000</td>\n",
    "    </tr>\n",
    "    <tr>\n",
    "      <th>2</th>\n",
    "      <td>8</td>\n",
    "      <td>C. BREEN</td>\n",
    "      <td>00:01:45.600000</td>\n",
    "    </tr>\n",
    "    <tr>\n",
    "      <th>5</th>\n",
    "      <td>9</td>\n",
    "      <td>S. LEFEBVRE</td>\n",
    "      <td>00:01:45.700000</td>\n",
    "    </tr>\n",
    "  </tbody>\n",
    "</table>"
   ]
  },
  {
   "cell_type": "markdown",
   "metadata": {
    "slideshow": {
     "slide_type": "subslide"
    }
   },
   "source": [
    "## SS19 - stage split delta time (seconds) compared to H. PADDON"
   ]
  },
  {
   "cell_type": "markdown",
   "metadata": {},
   "source": [
    "![](./split_delta_driver4_SS19.png)"
   ]
  },
  {
   "cell_type": "markdown",
   "metadata": {},
   "source": [
    "*This chart allows you to compare the __on stage__ performance of each driver, with split times rebased relative to car 4 on stage.*"
   ]
  },
  {
   "cell_type": "markdown",
   "metadata": {
    "slideshow": {
     "slide_type": "slide"
    }
   },
   "source": [
    "# Day 4 (02/07/2017)\n",
    "## Section 6 (Morning)"
   ]
  },
  {
   "cell_type": "markdown",
   "metadata": {
    "slideshow": {
     "slide_type": "slide"
    }
   },
   "source": [
    "## SS20 - stage sector delta time (seconds) compared to H. PADDON stage sector time"
   ]
  },
  {
   "cell_type": "markdown",
   "metadata": {},
   "source": [
    "![](./chart_stage_sector_delta4_SS20.png)"
   ]
  },
  {
   "cell_type": "markdown",
   "metadata": {},
   "source": [
    "*This chart allows you to compare the __on stage__ performance of each driver. It displays the \"sector time\" of each driver (the time between each split point along the stage), rebased relative to car 4.*"
   ]
  },
  {
   "cell_type": "markdown",
   "metadata": {
    "slideshow": {
     "slide_type": "subslide"
    }
   },
   "source": [
    "## SS20 - stage sector time (seconds)"
   ]
  },
  {
   "cell_type": "markdown",
   "metadata": {},
   "source": [
    "<table border=\"1\" class=\"dataframe\">\n",
    "  <thead>\n",
    "    <tr style=\"text-align: right;\">\n",
    "      <th></th>\n",
    "      <th>carNo</th>\n",
    "      <th>driverName</th>\n",
    "      <th>sector_1</th>\n",
    "      <th>sector_2</th>\n",
    "      <th>time_stageTime</th>\n",
    "    </tr>\n",
    "    <tr>\n",
    "      <th>start</th>\n",
    "      <th></th>\n",
    "      <th></th>\n",
    "      <th></th>\n",
    "      <th></th>\n",
    "      <th></th>\n",
    "    </tr>\n",
    "  </thead>\n",
    "  <tbody>\n",
    "    <tr>\n",
    "      <th>11</th>\n",
    "      <td>2</td>\n",
    "      <td>O. TANAK</td>\n",
    "      <td>00:03:42.700000</td>\n",
    "      <td>00:02:27.600000</td>\n",
    "      <td>00:06:10.300000</td>\n",
    "    </tr>\n",
    "    <tr>\n",
    "      <th>12</th>\n",
    "      <td>5</td>\n",
    "      <td>T. NEUVILLE</td>\n",
    "      <td>00:03:45.600000</td>\n",
    "      <td>00:02:29.600000</td>\n",
    "      <td>00:06:15.200000</td>\n",
    "    </tr>\n",
    "    <tr>\n",
    "      <th>13</th>\n",
    "      <td>10</td>\n",
    "      <td>J. LATVALA</td>\n",
    "      <td>00:03:54.200000</td>\n",
    "      <td>00:02:29.400000</td>\n",
    "      <td>00:06:23.600000</td>\n",
    "    </tr>\n",
    "    <tr>\n",
    "      <th>7</th>\n",
    "      <td>15</td>\n",
    "      <td>T. SUNINEN</td>\n",
    "      <td>00:03:55.400000</td>\n",
    "      <td>00:02:30.500000</td>\n",
    "      <td>00:06:25.900000</td>\n",
    "    </tr>\n",
    "    <tr>\n",
    "      <th>9</th>\n",
    "      <td>1</td>\n",
    "      <td>S. OGIER</td>\n",
    "      <td>00:03:55.700000</td>\n",
    "      <td>00:02:31.800000</td>\n",
    "      <td>00:06:27.500000</td>\n",
    "    </tr>\n",
    "    <tr>\n",
    "      <th>10</th>\n",
    "      <td>4</td>\n",
    "      <td>H. PADDON</td>\n",
    "      <td>00:03:56.800000</td>\n",
    "      <td>00:02:33.400000</td>\n",
    "      <td>00:06:30.200000</td>\n",
    "    </tr>\n",
    "    <tr>\n",
    "      <th>8</th>\n",
    "      <td>6</td>\n",
    "      <td>D. SORDO</td>\n",
    "      <td>00:03:57.200000</td>\n",
    "      <td>00:02:36.200000</td>\n",
    "      <td>00:06:33.400000</td>\n",
    "    </tr>\n",
    "    <tr>\n",
    "      <th>3</th>\n",
    "      <td>7</td>\n",
    "      <td>A. MIKKELSEN</td>\n",
    "      <td>00:03:58.900000</td>\n",
    "      <td>00:02:34.800000</td>\n",
    "      <td>00:06:33.700000</td>\n",
    "    </tr>\n",
    "    <tr>\n",
    "      <th>5</th>\n",
    "      <td>14</td>\n",
    "      <td>M. OSTBERG</td>\n",
    "      <td>00:04:00.600000</td>\n",
    "      <td>00:02:33.900000</td>\n",
    "      <td>00:06:34.500000</td>\n",
    "    </tr>\n",
    "    <tr>\n",
    "      <th>2</th>\n",
    "      <td>11</td>\n",
    "      <td>J. HÄNNINEN</td>\n",
    "      <td>00:04:02.100000</td>\n",
    "      <td>00:02:33.300000</td>\n",
    "      <td>00:06:35.400000</td>\n",
    "    </tr>\n",
    "  </tbody>\n",
    "</table>"
   ]
  },
  {
   "cell_type": "markdown",
   "metadata": {
    "slideshow": {
     "slide_type": "subslide"
    }
   },
   "source": [
    "## SS20 - stage split delta time (seconds) compared to H. PADDON"
   ]
  },
  {
   "cell_type": "markdown",
   "metadata": {},
   "source": [
    "![](./split_delta_driver4_SS20.png)"
   ]
  },
  {
   "cell_type": "markdown",
   "metadata": {},
   "source": [
    "*This chart allows you to compare the __on stage__ performance of each driver, with split times rebased relative to car 4 on stage.*"
   ]
  },
  {
   "cell_type": "markdown",
   "metadata": {
    "slideshow": {
     "slide_type": "slide"
    }
   },
   "source": [
    "## SS21 - stage sector delta time (seconds) compared to H. PADDON stage sector time"
   ]
  },
  {
   "cell_type": "markdown",
   "metadata": {},
   "source": [
    "![](./chart_stage_sector_delta4_SS21.png)"
   ]
  },
  {
   "cell_type": "markdown",
   "metadata": {},
   "source": [
    "*This chart allows you to compare the __on stage__ performance of each driver. It displays the \"sector time\" of each driver (the time between each split point along the stage), rebased relative to car 4.*"
   ]
  },
  {
   "cell_type": "markdown",
   "metadata": {
    "slideshow": {
     "slide_type": "subslide"
    }
   },
   "source": [
    "## SS21 - stage sector time (seconds)"
   ]
  },
  {
   "cell_type": "markdown",
   "metadata": {},
   "source": [
    "<table border=\"1\" class=\"dataframe\">\n",
    "  <thead>\n",
    "    <tr style=\"text-align: right;\">\n",
    "      <th></th>\n",
    "      <th>carNo</th>\n",
    "      <th>driverName</th>\n",
    "      <th>sector_1</th>\n",
    "      <th>sector_2</th>\n",
    "      <th>sector_3</th>\n",
    "      <th>time_stageTime</th>\n",
    "    </tr>\n",
    "    <tr>\n",
    "      <th>start</th>\n",
    "      <th></th>\n",
    "      <th></th>\n",
    "      <th></th>\n",
    "      <th></th>\n",
    "      <th></th>\n",
    "      <th></th>\n",
    "    </tr>\n",
    "  </thead>\n",
    "  <tbody>\n",
    "    <tr>\n",
    "      <th>12</th>\n",
    "      <td>5</td>\n",
    "      <td>T. NEUVILLE</td>\n",
    "      <td>00:03:09.600000</td>\n",
    "      <td>00:03:18.800000</td>\n",
    "      <td>00:02:29.700000</td>\n",
    "      <td>00:08:58.100000</td>\n",
    "    </tr>\n",
    "    <tr>\n",
    "      <th>13</th>\n",
    "      <td>10</td>\n",
    "      <td>J. LATVALA</td>\n",
    "      <td>00:03:12.500000</td>\n",
    "      <td>00:03:23.100000</td>\n",
    "      <td>00:02:31.300000</td>\n",
    "      <td>00:09:06.900000</td>\n",
    "    </tr>\n",
    "    <tr>\n",
    "      <th>6</th>\n",
    "      <td>9</td>\n",
    "      <td>S. LEFEBVRE</td>\n",
    "      <td>00:03:12.800000</td>\n",
    "      <td>00:03:32.100000</td>\n",
    "      <td>00:02:31.900000</td>\n",
    "      <td>00:09:16.800000</td>\n",
    "    </tr>\n",
    "    <tr>\n",
    "      <th>1</th>\n",
    "      <td>8</td>\n",
    "      <td>C. BREEN</td>\n",
    "      <td>00:03:16.900000</td>\n",
    "      <td>00:03:29.800000</td>\n",
    "      <td>00:02:33.100000</td>\n",
    "      <td>00:09:19.800000</td>\n",
    "    </tr>\n",
    "    <tr>\n",
    "      <th>10</th>\n",
    "      <td>4</td>\n",
    "      <td>H. PADDON</td>\n",
    "      <td>00:03:15.800000</td>\n",
    "      <td>00:03:30.400000</td>\n",
    "      <td>00:02:34.700000</td>\n",
    "      <td>00:09:20.900000</td>\n",
    "    </tr>\n",
    "    <tr>\n",
    "      <th>5</th>\n",
    "      <td>14</td>\n",
    "      <td>M. OSTBERG</td>\n",
    "      <td>00:03:14.900000</td>\n",
    "      <td>00:03:32.700000</td>\n",
    "      <td>00:02:33.400000</td>\n",
    "      <td>00:09:21</td>\n",
    "    </tr>\n",
    "    <tr>\n",
    "      <th>9</th>\n",
    "      <td>1</td>\n",
    "      <td>S. OGIER</td>\n",
    "      <td>00:03:18.300000</td>\n",
    "      <td>00:03:29.400000</td>\n",
    "      <td>00:02:35</td>\n",
    "      <td>00:09:22.700000</td>\n",
    "    </tr>\n",
    "    <tr>\n",
    "      <th>8</th>\n",
    "      <td>6</td>\n",
    "      <td>D. SORDO</td>\n",
    "      <td>00:03:18.100000</td>\n",
    "      <td>00:03:32.500000</td>\n",
    "      <td>00:02:35.800000</td>\n",
    "      <td>00:09:26.400000</td>\n",
    "    </tr>\n",
    "    <tr>\n",
    "      <th>7</th>\n",
    "      <td>15</td>\n",
    "      <td>T. SUNINEN</td>\n",
    "      <td>00:03:22.200000</td>\n",
    "      <td>00:03:30.900000</td>\n",
    "      <td>00:02:35.300000</td>\n",
    "      <td>00:09:28.400000</td>\n",
    "    </tr>\n",
    "    <tr>\n",
    "      <th>2</th>\n",
    "      <td>11</td>\n",
    "      <td>J. HÄNNINEN</td>\n",
    "      <td>00:03:18.500000</td>\n",
    "      <td>00:03:34</td>\n",
    "      <td>00:02:35.900000</td>\n",
    "      <td>00:09:28.400000</td>\n",
    "    </tr>\n",
    "  </tbody>\n",
    "</table>"
   ]
  },
  {
   "cell_type": "markdown",
   "metadata": {
    "slideshow": {
     "slide_type": "subslide"
    }
   },
   "source": [
    "## SS21 - stage split delta time (seconds) compared to H. PADDON"
   ]
  },
  {
   "cell_type": "markdown",
   "metadata": {},
   "source": [
    "![](./split_delta_driver4_SS21.png)"
   ]
  },
  {
   "cell_type": "markdown",
   "metadata": {},
   "source": [
    "*This chart allows you to compare the __on stage__ performance of each driver, with split times rebased relative to car 4 on stage.*"
   ]
  },
  {
   "cell_type": "markdown",
   "metadata": {
    "slideshow": {
     "slide_type": "slide"
    }
   },
   "source": [
    "## SS22 - stage sector delta time (seconds) compared to H. PADDON stage sector time"
   ]
  },
  {
   "cell_type": "markdown",
   "metadata": {},
   "source": [
    "![](./chart_stage_sector_delta4_SS22.png)"
   ]
  },
  {
   "cell_type": "markdown",
   "metadata": {},
   "source": [
    "*This chart allows you to compare the __on stage__ performance of each driver. It displays the \"sector time\" of each driver (the time between each split point along the stage), rebased relative to car 4.*"
   ]
  },
  {
   "cell_type": "markdown",
   "metadata": {
    "slideshow": {
     "slide_type": "subslide"
    }
   },
   "source": [
    "## SS22 - stage sector time (seconds)"
   ]
  },
  {
   "cell_type": "markdown",
   "metadata": {},
   "source": [
    "<table border=\"1\" class=\"dataframe\">\n",
    "  <thead>\n",
    "    <tr style=\"text-align: right;\">\n",
    "      <th></th>\n",
    "      <th>carNo</th>\n",
    "      <th>driverName</th>\n",
    "      <th>sector_1</th>\n",
    "      <th>sector_2</th>\n",
    "      <th>time_stageTime</th>\n",
    "    </tr>\n",
    "    <tr>\n",
    "      <th>start</th>\n",
    "      <th></th>\n",
    "      <th></th>\n",
    "      <th></th>\n",
    "      <th></th>\n",
    "      <th></th>\n",
    "    </tr>\n",
    "  </thead>\n",
    "  <tbody>\n",
    "    <tr>\n",
    "      <th>11</th>\n",
    "      <td>5</td>\n",
    "      <td>T. NEUVILLE</td>\n",
    "      <td>00:03:33.700000</td>\n",
    "      <td>00:02:28.900000</td>\n",
    "      <td>00:06:02.600000</td>\n",
    "    </tr>\n",
    "    <tr>\n",
    "      <th>12</th>\n",
    "      <td>10</td>\n",
    "      <td>J. LATVALA</td>\n",
    "      <td>00:03:36.200000</td>\n",
    "      <td>00:02:26.900000</td>\n",
    "      <td>00:06:03.100000</td>\n",
    "    </tr>\n",
    "    <tr>\n",
    "      <th>3</th>\n",
    "      <td>7</td>\n",
    "      <td>A. MIKKELSEN</td>\n",
    "      <td>00:03:35.100000</td>\n",
    "      <td>00:02:29.700000</td>\n",
    "      <td>00:06:04.800000</td>\n",
    "    </tr>\n",
    "    <tr>\n",
    "      <th>8</th>\n",
    "      <td>6</td>\n",
    "      <td>D. SORDO</td>\n",
    "      <td>00:03:34</td>\n",
    "      <td>00:02:33.700000</td>\n",
    "      <td>00:06:07.700000</td>\n",
    "    </tr>\n",
    "    <tr>\n",
    "      <th>5</th>\n",
    "      <td>14</td>\n",
    "      <td>M. OSTBERG</td>\n",
    "      <td>00:03:37.700000</td>\n",
    "      <td>00:02:30.500000</td>\n",
    "      <td>00:06:08.200000</td>\n",
    "    </tr>\n",
    "    <tr>\n",
    "      <th>7</th>\n",
    "      <td>15</td>\n",
    "      <td>T. SUNINEN</td>\n",
    "      <td>00:03:39.400000</td>\n",
    "      <td>00:02:29.700000</td>\n",
    "      <td>00:06:09.100000</td>\n",
    "    </tr>\n",
    "    <tr>\n",
    "      <th>4</th>\n",
    "      <td>3</td>\n",
    "      <td>E. EVANS</td>\n",
    "      <td>00:03:40.800000</td>\n",
    "      <td>00:02:30.600000</td>\n",
    "      <td>00:06:11.400000</td>\n",
    "    </tr>\n",
    "    <tr>\n",
    "      <th>6</th>\n",
    "      <td>9</td>\n",
    "      <td>S. LEFEBVRE</td>\n",
    "      <td>00:03:39.700000</td>\n",
    "      <td>00:02:32.300000</td>\n",
    "      <td>00:06:12</td>\n",
    "    </tr>\n",
    "    <tr>\n",
    "      <th>10</th>\n",
    "      <td>4</td>\n",
    "      <td>H. PADDON</td>\n",
    "      <td>00:03:40.800000</td>\n",
    "      <td>00:02:31.500000</td>\n",
    "      <td>00:06:12.300000</td>\n",
    "    </tr>\n",
    "    <tr>\n",
    "      <th>2</th>\n",
    "      <td>11</td>\n",
    "      <td>J. HÄNNINEN</td>\n",
    "      <td>00:03:40.200000</td>\n",
    "      <td>00:02:34.500000</td>\n",
    "      <td>00:06:14.700000</td>\n",
    "    </tr>\n",
    "  </tbody>\n",
    "</table>"
   ]
  },
  {
   "cell_type": "markdown",
   "metadata": {
    "slideshow": {
     "slide_type": "subslide"
    }
   },
   "source": [
    "## SS22 - stage split delta time (seconds) compared to H. PADDON"
   ]
  },
  {
   "cell_type": "markdown",
   "metadata": {},
   "source": [
    "![](./split_delta_driver4_SS22.png)"
   ]
  },
  {
   "cell_type": "markdown",
   "metadata": {},
   "source": [
    "*This chart allows you to compare the __on stage__ performance of each driver, with split times rebased relative to car 4 on stage.*"
   ]
  }
 ],
 "metadata": {},
 "nbformat": 4,
 "nbformat_minor": 2
}
