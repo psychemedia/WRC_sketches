{
 "cells": [
  {
   "cell_type": "markdown",
   "metadata": {
    "slideshow": {
     "slide_type": "slide"
    }
   },
   "source": [
    "# WRC Rally - Portugal, 2017"
   ]
  },
  {
   "cell_type": "markdown",
   "metadata": {},
   "source": [
    "## Driver Analysis - H. PADDON (4)"
   ]
  },
  {
   "cell_type": "markdown",
   "metadata": {
    "slideshow": {
     "slide_type": "slide"
    }
   },
   "source": [
    "# Day 1 (18/05/2017)\n",
    "## Section 1 (Evening)"
   ]
  },
  {
   "cell_type": "markdown",
   "metadata": {
    "slideshow": {
     "slide_type": "slide"
    }
   },
   "source": [
    "## SS1 - stage sector delta time (seconds) compared to H. PADDON stage sector time"
   ]
  },
  {
   "cell_type": "markdown",
   "metadata": {},
   "source": [
    "![](./chart_stage_sector_delta4_SS1.png)"
   ]
  },
  {
   "cell_type": "markdown",
   "metadata": {},
   "source": [
    "*This chart allows you to compare the __on stage__ performance of each driver. It displays the \"sector time\" of each driver (the time between each split point along the stage), rebased relative to car 4.*"
   ]
  },
  {
   "cell_type": "markdown",
   "metadata": {
    "slideshow": {
     "slide_type": "subslide"
    }
   },
   "source": [
    "## SS1 - stage sector time (seconds)"
   ]
  },
  {
   "cell_type": "markdown",
   "metadata": {},
   "source": [
    "<table border=\"1\" class=\"dataframe\">\n",
    "  <thead>\n",
    "    <tr style=\"text-align: right;\">\n",
    "      <th></th>\n",
    "      <th>carNo</th>\n",
    "      <th>driverName</th>\n",
    "      <th>time_stageTime</th>\n",
    "    </tr>\n",
    "    <tr>\n",
    "      <th>start</th>\n",
    "      <th></th>\n",
    "      <th></th>\n",
    "      <th></th>\n",
    "    </tr>\n",
    "  </thead>\n",
    "  <tbody>\n",
    "    <tr>\n",
    "      <th>12</th>\n",
    "      <td>14</td>\n",
    "      <td>M. OSTBERG</td>\n",
    "      <td>00:02:36.600000</td>\n",
    "    </tr>\n",
    "    <tr>\n",
    "      <th>20</th>\n",
    "      <td>5</td>\n",
    "      <td>T. NEUVILLE</td>\n",
    "      <td>00:02:36.600000</td>\n",
    "    </tr>\n",
    "    <tr>\n",
    "      <th>11</th>\n",
    "      <td>4</td>\n",
    "      <td>H. PADDON</td>\n",
    "      <td>00:02:36.700000</td>\n",
    "    </tr>\n",
    "    <tr>\n",
    "      <th>13</th>\n",
    "      <td>3</td>\n",
    "      <td>E. EVANS</td>\n",
    "      <td>00:02:37</td>\n",
    "    </tr>\n",
    "    <tr>\n",
    "      <th>16</th>\n",
    "      <td>6</td>\n",
    "      <td>D. SORDO</td>\n",
    "      <td>00:02:37.100000</td>\n",
    "    </tr>\n",
    "    <tr>\n",
    "      <th>21</th>\n",
    "      <td>1</td>\n",
    "      <td>S. OGIER</td>\n",
    "      <td>00:02:37.300000</td>\n",
    "    </tr>\n",
    "    <tr>\n",
    "      <th>14</th>\n",
    "      <td>9</td>\n",
    "      <td>S. LEFEBVRE</td>\n",
    "      <td>00:02:38.100000</td>\n",
    "    </tr>\n",
    "    <tr>\n",
    "      <th>22</th>\n",
    "      <td>10</td>\n",
    "      <td>J. LATVALA</td>\n",
    "      <td>00:02:38.100000</td>\n",
    "    </tr>\n",
    "    <tr>\n",
    "      <th>15</th>\n",
    "      <td>11</td>\n",
    "      <td>J. HÄNNINEN</td>\n",
    "      <td>00:02:38.400000</td>\n",
    "    </tr>\n",
    "    <tr>\n",
    "      <th>18</th>\n",
    "      <td>8</td>\n",
    "      <td>C. BREEN</td>\n",
    "      <td>00:02:38.600000</td>\n",
    "    </tr>\n",
    "  </tbody>\n",
    "</table>"
   ]
  },
  {
   "cell_type": "markdown",
   "metadata": {
    "slideshow": {
     "slide_type": "subslide"
    }
   },
   "source": [
    "## SS1 - stage split delta time (seconds) compared to H. PADDON"
   ]
  },
  {
   "cell_type": "markdown",
   "metadata": {},
   "source": [
    "![](./split_delta_driver4_SS1.png)"
   ]
  },
  {
   "cell_type": "markdown",
   "metadata": {},
   "source": [
    "*This chart allows you to compare the __on stage__ performance of each driver, with split times rebased relative to car 4 on stage.*"
   ]
  },
  {
   "cell_type": "markdown",
   "metadata": {
    "slideshow": {
     "slide_type": "slide"
    }
   },
   "source": [
    "# Day 2 (19/05/2017)\n",
    "## Section 2 (Morning/Afternoon/Evening)"
   ]
  },
  {
   "cell_type": "markdown",
   "metadata": {
    "slideshow": {
     "slide_type": "slide"
    }
   },
   "source": [
    "## SS2 - stage sector delta time (seconds) compared to H. PADDON stage sector time"
   ]
  },
  {
   "cell_type": "markdown",
   "metadata": {},
   "source": [
    "![](./chart_stage_sector_delta4_SS2.png)"
   ]
  },
  {
   "cell_type": "markdown",
   "metadata": {},
   "source": [
    "*This chart allows you to compare the __on stage__ performance of each driver. It displays the \"sector time\" of each driver (the time between each split point along the stage), rebased relative to car 4.*"
   ]
  },
  {
   "cell_type": "markdown",
   "metadata": {
    "slideshow": {
     "slide_type": "subslide"
    }
   },
   "source": [
    "## SS2 - stage sector time (seconds)"
   ]
  },
  {
   "cell_type": "markdown",
   "metadata": {},
   "source": [
    "<table border=\"1\" class=\"dataframe\">\n",
    "  <thead>\n",
    "    <tr style=\"text-align: right;\">\n",
    "      <th></th>\n",
    "      <th>carNo</th>\n",
    "      <th>driverName</th>\n",
    "      <th>sector_1</th>\n",
    "      <th>sector_2</th>\n",
    "      <th>sector_3</th>\n",
    "      <th>sector_4</th>\n",
    "      <th>time_stageTime</th>\n",
    "    </tr>\n",
    "    <tr>\n",
    "      <th>start</th>\n",
    "      <th></th>\n",
    "      <th></th>\n",
    "      <th></th>\n",
    "      <th></th>\n",
    "      <th></th>\n",
    "      <th></th>\n",
    "      <th></th>\n",
    "    </tr>\n",
    "  </thead>\n",
    "  <tbody>\n",
    "    <tr>\n",
    "      <th>8</th>\n",
    "      <td>4</td>\n",
    "      <td>H. PADDON</td>\n",
    "      <td>00:03:39.600000</td>\n",
    "      <td>00:03:12.600000</td>\n",
    "      <td>00:05:19.400000</td>\n",
    "      <td>00:03:32.700000</td>\n",
    "      <td>00:15:44.300000</td>\n",
    "    </tr>\n",
    "    <tr>\n",
    "      <th>2</th>\n",
    "      <td>10</td>\n",
    "      <td>J. LATVALA</td>\n",
    "      <td>00:03:44.600000</td>\n",
    "      <td>00:03:09.900000</td>\n",
    "      <td>00:05:18.400000</td>\n",
    "      <td>00:03:32.400000</td>\n",
    "      <td>00:15:45.300000</td>\n",
    "    </tr>\n",
    "    <tr>\n",
    "      <th>9</th>\n",
    "      <td>7</td>\n",
    "      <td>K. MEEKE</td>\n",
    "      <td>00:03:43.600000</td>\n",
    "      <td>00:03:13.600000</td>\n",
    "      <td>00:05:15.400000</td>\n",
    "      <td>00:03:32.900000</td>\n",
    "      <td>00:15:45.500000</td>\n",
    "    </tr>\n",
    "    <tr>\n",
    "      <th>7</th>\n",
    "      <td>8</td>\n",
    "      <td>C. BREEN</td>\n",
    "      <td>00:03:41.200000</td>\n",
    "      <td>00:03:16.300000</td>\n",
    "      <td>00:05:17</td>\n",
    "      <td>00:03:33.700000</td>\n",
    "      <td>00:15:48.200000</td>\n",
    "    </tr>\n",
    "    <tr>\n",
    "      <th>4</th>\n",
    "      <td>2</td>\n",
    "      <td>O. TANAK</td>\n",
    "      <td>00:03:40.600000</td>\n",
    "      <td>00:03:13.800000</td>\n",
    "      <td>00:05:19.700000</td>\n",
    "      <td>00:03:34.100000</td>\n",
    "      <td>00:15:48.200000</td>\n",
    "    </tr>\n",
    "    <tr>\n",
    "      <th>12</th>\n",
    "      <td>14</td>\n",
    "      <td>M. OSTBERG</td>\n",
    "      <td>00:03:40.600000</td>\n",
    "      <td>00:03:14</td>\n",
    "      <td>00:05:19.300000</td>\n",
    "      <td>00:03:35.100000</td>\n",
    "      <td>00:15:49</td>\n",
    "    </tr>\n",
    "    <tr>\n",
    "      <th>1</th>\n",
    "      <td>1</td>\n",
    "      <td>S. OGIER</td>\n",
    "      <td>00:03:42.400000</td>\n",
    "      <td>00:03:17.900000</td>\n",
    "      <td>00:05:14.400000</td>\n",
    "      <td>00:03:35.200000</td>\n",
    "      <td>00:15:49.900000</td>\n",
    "    </tr>\n",
    "    <tr>\n",
    "      <th>6</th>\n",
    "      <td>3</td>\n",
    "      <td>E. EVANS</td>\n",
    "      <td>00:03:40.700000</td>\n",
    "      <td>00:03:16</td>\n",
    "      <td>00:05:19.500000</td>\n",
    "      <td>00:03:36.100000</td>\n",
    "      <td>00:15:52.300000</td>\n",
    "    </tr>\n",
    "    <tr>\n",
    "      <th>5</th>\n",
    "      <td>6</td>\n",
    "      <td>D. SORDO</td>\n",
    "      <td>00:03:41.100000</td>\n",
    "      <td>00:03:15.400000</td>\n",
    "      <td>00:05:19.800000</td>\n",
    "      <td>00:03:36.300000</td>\n",
    "      <td>00:15:52.600000</td>\n",
    "    </tr>\n",
    "    <tr>\n",
    "      <th>10</th>\n",
    "      <td>11</td>\n",
    "      <td>J. HÄNNINEN</td>\n",
    "      <td>00:03:41.600000</td>\n",
    "      <td>00:03:15.500000</td>\n",
    "      <td>00:05:21.700000</td>\n",
    "      <td>00:03:34.500000</td>\n",
    "      <td>00:15:53.300000</td>\n",
    "    </tr>\n",
    "  </tbody>\n",
    "</table>"
   ]
  },
  {
   "cell_type": "markdown",
   "metadata": {
    "slideshow": {
     "slide_type": "subslide"
    }
   },
   "source": [
    "## SS2 - stage split delta time (seconds) compared to H. PADDON"
   ]
  },
  {
   "cell_type": "markdown",
   "metadata": {},
   "source": [
    "![](./split_delta_driver4_SS2.png)"
   ]
  },
  {
   "cell_type": "markdown",
   "metadata": {},
   "source": [
    "*This chart allows you to compare the __on stage__ performance of each driver, with split times rebased relative to car 4 on stage.*"
   ]
  },
  {
   "cell_type": "markdown",
   "metadata": {
    "slideshow": {
     "slide_type": "slide"
    }
   },
   "source": [
    "## SS3 - stage sector delta time (seconds) compared to H. PADDON stage sector time"
   ]
  },
  {
   "cell_type": "markdown",
   "metadata": {},
   "source": [
    "![](./chart_stage_sector_delta4_SS3.png)"
   ]
  },
  {
   "cell_type": "markdown",
   "metadata": {},
   "source": [
    "*This chart allows you to compare the __on stage__ performance of each driver. It displays the \"sector time\" of each driver (the time between each split point along the stage), rebased relative to car 4.*"
   ]
  },
  {
   "cell_type": "markdown",
   "metadata": {
    "slideshow": {
     "slide_type": "subslide"
    }
   },
   "source": [
    "## SS3 - stage sector time (seconds)"
   ]
  },
  {
   "cell_type": "markdown",
   "metadata": {},
   "source": [
    "<table border=\"1\" class=\"dataframe\">\n",
    "  <thead>\n",
    "    <tr style=\"text-align: right;\">\n",
    "      <th></th>\n",
    "      <th>carNo</th>\n",
    "      <th>driverName</th>\n",
    "      <th>sector_1</th>\n",
    "      <th>sector_2</th>\n",
    "      <th>sector_3</th>\n",
    "      <th>time_stageTime</th>\n",
    "    </tr>\n",
    "    <tr>\n",
    "      <th>start</th>\n",
    "      <th></th>\n",
    "      <th></th>\n",
    "      <th></th>\n",
    "      <th></th>\n",
    "      <th></th>\n",
    "      <th></th>\n",
    "    </tr>\n",
    "  </thead>\n",
    "  <tbody>\n",
    "    <tr>\n",
    "      <th>2</th>\n",
    "      <td>10</td>\n",
    "      <td>J. LATVALA</td>\n",
    "      <td>00:03:00.500000</td>\n",
    "      <td>00:04:29.600000</td>\n",
    "      <td>00:02:55.100000</td>\n",
    "      <td>00:10:25.200000</td>\n",
    "    </tr>\n",
    "    <tr>\n",
    "      <th>6</th>\n",
    "      <td>3</td>\n",
    "      <td>E. EVANS</td>\n",
    "      <td>00:03:00.900000</td>\n",
    "      <td>00:04:29.800000</td>\n",
    "      <td>00:02:55.800000</td>\n",
    "      <td>00:10:26.500000</td>\n",
    "    </tr>\n",
    "    <tr>\n",
    "      <th>4</th>\n",
    "      <td>2</td>\n",
    "      <td>O. TANAK</td>\n",
    "      <td>00:02:59</td>\n",
    "      <td>00:04:31.400000</td>\n",
    "      <td>00:02:56.700000</td>\n",
    "      <td>00:10:27.100000</td>\n",
    "    </tr>\n",
    "    <tr>\n",
    "      <th>3</th>\n",
    "      <td>5</td>\n",
    "      <td>T. NEUVILLE</td>\n",
    "      <td>00:03:00.100000</td>\n",
    "      <td>00:04:31.500000</td>\n",
    "      <td>00:02:56.100000</td>\n",
    "      <td>00:10:27.700000</td>\n",
    "    </tr>\n",
    "    <tr>\n",
    "      <th>7</th>\n",
    "      <td>8</td>\n",
    "      <td>C. BREEN</td>\n",
    "      <td>00:02:58.500000</td>\n",
    "      <td>00:04:31.300000</td>\n",
    "      <td>00:02:57.900000</td>\n",
    "      <td>00:10:27.700000</td>\n",
    "    </tr>\n",
    "    <tr>\n",
    "      <th>1</th>\n",
    "      <td>1</td>\n",
    "      <td>S. OGIER</td>\n",
    "      <td>00:03:00.200000</td>\n",
    "      <td>00:04:32.100000</td>\n",
    "      <td>00:02:57.200000</td>\n",
    "      <td>00:10:29.500000</td>\n",
    "    </tr>\n",
    "    <tr>\n",
    "      <th>9</th>\n",
    "      <td>7</td>\n",
    "      <td>K. MEEKE</td>\n",
    "      <td>00:02:59.700000</td>\n",
    "      <td>00:04:32.600000</td>\n",
    "      <td>00:02:57.200000</td>\n",
    "      <td>00:10:29.500000</td>\n",
    "    </tr>\n",
    "    <tr>\n",
    "      <th>5</th>\n",
    "      <td>6</td>\n",
    "      <td>D. SORDO</td>\n",
    "      <td>00:02:59.800000</td>\n",
    "      <td>00:04:31</td>\n",
    "      <td>00:02:59.600000</td>\n",
    "      <td>00:10:30.400000</td>\n",
    "    </tr>\n",
    "    <tr>\n",
    "      <th>12</th>\n",
    "      <td>14</td>\n",
    "      <td>M. OSTBERG</td>\n",
    "      <td>00:02:58.400000</td>\n",
    "      <td>00:04:32.500000</td>\n",
    "      <td>00:02:59.800000</td>\n",
    "      <td>00:10:30.700000</td>\n",
    "    </tr>\n",
    "    <tr>\n",
    "      <th>13</th>\n",
    "      <td>12</td>\n",
    "      <td>E. LAPPI</td>\n",
    "      <td>00:03:00.300000</td>\n",
    "      <td>00:04:32.200000</td>\n",
    "      <td>00:02:58.800000</td>\n",
    "      <td>00:10:31.300000</td>\n",
    "    </tr>\n",
    "  </tbody>\n",
    "</table>"
   ]
  },
  {
   "cell_type": "markdown",
   "metadata": {
    "slideshow": {
     "slide_type": "subslide"
    }
   },
   "source": [
    "## SS3 - stage split delta time (seconds) compared to H. PADDON"
   ]
  },
  {
   "cell_type": "markdown",
   "metadata": {},
   "source": [
    "![](./split_delta_driver4_SS3.png)"
   ]
  },
  {
   "cell_type": "markdown",
   "metadata": {},
   "source": [
    "*This chart allows you to compare the __on stage__ performance of each driver, with split times rebased relative to car 4 on stage.*"
   ]
  },
  {
   "cell_type": "markdown",
   "metadata": {
    "slideshow": {
     "slide_type": "slide"
    }
   },
   "source": [
    "## SS4 - stage sector delta time (seconds) compared to H. PADDON stage sector time"
   ]
  },
  {
   "cell_type": "markdown",
   "metadata": {},
   "source": [
    "![](./chart_stage_sector_delta4_SS4.png)"
   ]
  },
  {
   "cell_type": "markdown",
   "metadata": {},
   "source": [
    "*This chart allows you to compare the __on stage__ performance of each driver. It displays the \"sector time\" of each driver (the time between each split point along the stage), rebased relative to car 4.*"
   ]
  },
  {
   "cell_type": "markdown",
   "metadata": {
    "slideshow": {
     "slide_type": "subslide"
    }
   },
   "source": [
    "## SS4 - stage sector time (seconds)"
   ]
  },
  {
   "cell_type": "markdown",
   "metadata": {},
   "source": [
    "<table border=\"1\" class=\"dataframe\">\n",
    "  <thead>\n",
    "    <tr style=\"text-align: right;\">\n",
    "      <th></th>\n",
    "      <th>carNo</th>\n",
    "      <th>driverName</th>\n",
    "      <th>sector_1</th>\n",
    "      <th>sector_2</th>\n",
    "      <th>sector_3</th>\n",
    "      <th>sector_4</th>\n",
    "      <th>time_stageTime</th>\n",
    "    </tr>\n",
    "    <tr>\n",
    "      <th>start</th>\n",
    "      <th></th>\n",
    "      <th></th>\n",
    "      <th></th>\n",
    "      <th></th>\n",
    "      <th></th>\n",
    "      <th></th>\n",
    "      <th></th>\n",
    "    </tr>\n",
    "  </thead>\n",
    "  <tbody>\n",
    "    <tr>\n",
    "      <th>9</th>\n",
    "      <td>7</td>\n",
    "      <td>K. MEEKE</td>\n",
    "      <td>00:04:21.600000</td>\n",
    "      <td>00:04:52.400000</td>\n",
    "      <td>00:04:34.400000</td>\n",
    "      <td>00:05:25.600000</td>\n",
    "      <td>00:19:14</td>\n",
    "    </tr>\n",
    "    <tr>\n",
    "      <th>4</th>\n",
    "      <td>2</td>\n",
    "      <td>O. TANAK</td>\n",
    "      <td>00:04:22.700000</td>\n",
    "      <td>00:04:51.500000</td>\n",
    "      <td>00:04:33.100000</td>\n",
    "      <td>00:05:26.700000</td>\n",
    "      <td>00:19:14</td>\n",
    "    </tr>\n",
    "    <tr>\n",
    "      <th>7</th>\n",
    "      <td>8</td>\n",
    "      <td>C. BREEN</td>\n",
    "      <td>00:04:20</td>\n",
    "      <td>00:04:53.200000</td>\n",
    "      <td>00:04:34.100000</td>\n",
    "      <td>00:05:26.700000</td>\n",
    "      <td>00:19:14</td>\n",
    "    </tr>\n",
    "    <tr>\n",
    "      <th>1</th>\n",
    "      <td>1</td>\n",
    "      <td>S. OGIER</td>\n",
    "      <td>00:04:20.300000</td>\n",
    "      <td>00:04:53.600000</td>\n",
    "      <td>00:04:34.900000</td>\n",
    "      <td>00:05:26.400000</td>\n",
    "      <td>00:19:15.200000</td>\n",
    "    </tr>\n",
    "    <tr>\n",
    "      <th>3</th>\n",
    "      <td>5</td>\n",
    "      <td>T. NEUVILLE</td>\n",
    "      <td>00:04:20.400000</td>\n",
    "      <td>00:04:52.300000</td>\n",
    "      <td>00:04:35.400000</td>\n",
    "      <td>00:05:27.900000</td>\n",
    "      <td>00:19:16</td>\n",
    "    </tr>\n",
    "    <tr>\n",
    "      <th>5</th>\n",
    "      <td>6</td>\n",
    "      <td>D. SORDO</td>\n",
    "      <td>00:04:23</td>\n",
    "      <td>00:04:54</td>\n",
    "      <td>00:04:34.100000</td>\n",
    "      <td>00:05:26.600000</td>\n",
    "      <td>00:19:17.700000</td>\n",
    "    </tr>\n",
    "    <tr>\n",
    "      <th>2</th>\n",
    "      <td>10</td>\n",
    "      <td>J. LATVALA</td>\n",
    "      <td>00:04:21.900000</td>\n",
    "      <td>00:04:52.800000</td>\n",
    "      <td>00:04:36.300000</td>\n",
    "      <td>00:05:27.500000</td>\n",
    "      <td>00:19:18.500000</td>\n",
    "    </tr>\n",
    "    <tr>\n",
    "      <th>8</th>\n",
    "      <td>4</td>\n",
    "      <td>H. PADDON</td>\n",
    "      <td>00:04:22.100000</td>\n",
    "      <td>00:04:54.600000</td>\n",
    "      <td>00:04:34.100000</td>\n",
    "      <td>00:05:30.600000</td>\n",
    "      <td>00:19:21.400000</td>\n",
    "    </tr>\n",
    "    <tr>\n",
    "      <th>12</th>\n",
    "      <td>14</td>\n",
    "      <td>M. OSTBERG</td>\n",
    "      <td>00:04:22.900000</td>\n",
    "      <td>00:04:52.900000</td>\n",
    "      <td>00:04:40.400000</td>\n",
    "      <td>00:05:31</td>\n",
    "      <td>00:19:27.200000</td>\n",
    "    </tr>\n",
    "    <tr>\n",
    "      <th>6</th>\n",
    "      <td>3</td>\n",
    "      <td>E. EVANS</td>\n",
    "      <td>00:04:23.100000</td>\n",
    "      <td>00:04:52</td>\n",
    "      <td>00:04:35.400000</td>\n",
    "      <td>00:05:39.100000</td>\n",
    "      <td>00:19:29.600000</td>\n",
    "    </tr>\n",
    "  </tbody>\n",
    "</table>"
   ]
  },
  {
   "cell_type": "markdown",
   "metadata": {
    "slideshow": {
     "slide_type": "subslide"
    }
   },
   "source": [
    "## SS4 - stage split delta time (seconds) compared to H. PADDON"
   ]
  },
  {
   "cell_type": "markdown",
   "metadata": {},
   "source": [
    "![](./split_delta_driver4_SS4.png)"
   ]
  },
  {
   "cell_type": "markdown",
   "metadata": {},
   "source": [
    "*This chart allows you to compare the __on stage__ performance of each driver, with split times rebased relative to car 4 on stage.*"
   ]
  },
  {
   "cell_type": "markdown",
   "metadata": {
    "slideshow": {
     "slide_type": "slide"
    }
   },
   "source": [
    "## SS5 - stage sector delta time (seconds) compared to H. PADDON stage sector time"
   ]
  },
  {
   "cell_type": "markdown",
   "metadata": {},
   "source": [
    "![](./chart_stage_sector_delta4_SS5.png)"
   ]
  },
  {
   "cell_type": "markdown",
   "metadata": {},
   "source": [
    "*This chart allows you to compare the __on stage__ performance of each driver. It displays the \"sector time\" of each driver (the time between each split point along the stage), rebased relative to car 4.*"
   ]
  },
  {
   "cell_type": "markdown",
   "metadata": {
    "slideshow": {
     "slide_type": "subslide"
    }
   },
   "source": [
    "## SS5 - stage sector time (seconds)"
   ]
  },
  {
   "cell_type": "markdown",
   "metadata": {},
   "source": [
    "<table border=\"1\" class=\"dataframe\">\n",
    "  <thead>\n",
    "    <tr style=\"text-align: right;\">\n",
    "      <th></th>\n",
    "      <th>carNo</th>\n",
    "      <th>driverName</th>\n",
    "      <th>sector_1</th>\n",
    "      <th>sector_2</th>\n",
    "      <th>sector_3</th>\n",
    "      <th>sector_4</th>\n",
    "      <th>time_stageTime</th>\n",
    "    </tr>\n",
    "    <tr>\n",
    "      <th>start</th>\n",
    "      <th></th>\n",
    "      <th></th>\n",
    "      <th></th>\n",
    "      <th></th>\n",
    "      <th></th>\n",
    "      <th></th>\n",
    "      <th></th>\n",
    "    </tr>\n",
    "  </thead>\n",
    "  <tbody>\n",
    "    <tr>\n",
    "      <th>8</th>\n",
    "      <td>4</td>\n",
    "      <td>H. PADDON</td>\n",
    "      <td>00:03:37.200000</td>\n",
    "      <td>00:03:10.500000</td>\n",
    "      <td>00:05:16.700000</td>\n",
    "      <td>00:03:31.200000</td>\n",
    "      <td>00:15:35.600000</td>\n",
    "    </tr>\n",
    "    <tr>\n",
    "      <th>5</th>\n",
    "      <td>6</td>\n",
    "      <td>D. SORDO</td>\n",
    "      <td>00:03:38.400000</td>\n",
    "      <td>00:03:10.600000</td>\n",
    "      <td>00:05:16.500000</td>\n",
    "      <td>00:03:34.300000</td>\n",
    "      <td>00:15:39.800000</td>\n",
    "    </tr>\n",
    "    <tr>\n",
    "      <th>9</th>\n",
    "      <td>7</td>\n",
    "      <td>K. MEEKE</td>\n",
    "      <td>00:03:41.600000</td>\n",
    "      <td>00:03:10.900000</td>\n",
    "      <td>00:05:16</td>\n",
    "      <td>00:03:32.200000</td>\n",
    "      <td>00:15:40.700000</td>\n",
    "    </tr>\n",
    "    <tr>\n",
    "      <th>4</th>\n",
    "      <td>2</td>\n",
    "      <td>O. TANAK</td>\n",
    "      <td>00:03:37.800000</td>\n",
    "      <td>00:03:11.900000</td>\n",
    "      <td>00:05:16.600000</td>\n",
    "      <td>00:03:35</td>\n",
    "      <td>00:15:41.300000</td>\n",
    "    </tr>\n",
    "    <tr>\n",
    "      <th>2</th>\n",
    "      <td>10</td>\n",
    "      <td>J. LATVALA</td>\n",
    "      <td>00:03:39.100000</td>\n",
    "      <td>00:03:12.800000</td>\n",
    "      <td>00:05:15.800000</td>\n",
    "      <td>00:03:33.700000</td>\n",
    "      <td>00:15:41.400000</td>\n",
    "    </tr>\n",
    "    <tr>\n",
    "      <th>6</th>\n",
    "      <td>3</td>\n",
    "      <td>E. EVANS</td>\n",
    "      <td>00:03:38.600000</td>\n",
    "      <td>00:03:14.900000</td>\n",
    "      <td>00:05:14</td>\n",
    "      <td>00:03:33.900000</td>\n",
    "      <td>00:15:41.400000</td>\n",
    "    </tr>\n",
    "    <tr>\n",
    "      <th>7</th>\n",
    "      <td>8</td>\n",
    "      <td>C. BREEN</td>\n",
    "      <td>00:03:39.800000</td>\n",
    "      <td>00:03:13.800000</td>\n",
    "      <td>00:05:16.500000</td>\n",
    "      <td>00:03:31.600000</td>\n",
    "      <td>00:15:41.700000</td>\n",
    "    </tr>\n",
    "    <tr>\n",
    "      <th>3</th>\n",
    "      <td>5</td>\n",
    "      <td>T. NEUVILLE</td>\n",
    "      <td>00:03:40.500000</td>\n",
    "      <td>00:03:12.700000</td>\n",
    "      <td>00:05:15.800000</td>\n",
    "      <td>00:03:34.100000</td>\n",
    "      <td>00:15:43.100000</td>\n",
    "    </tr>\n",
    "    <tr>\n",
    "      <th>10</th>\n",
    "      <td>11</td>\n",
    "      <td>J. HÄNNINEN</td>\n",
    "      <td>00:03:38.800000</td>\n",
    "      <td>00:03:14</td>\n",
    "      <td>00:05:19.900000</td>\n",
    "      <td>00:03:32.800000</td>\n",
    "      <td>00:15:45.500000</td>\n",
    "    </tr>\n",
    "    <tr>\n",
    "      <th>1</th>\n",
    "      <td>1</td>\n",
    "      <td>S. OGIER</td>\n",
    "      <td>00:03:40.400000</td>\n",
    "      <td>00:03:13.800000</td>\n",
    "      <td>00:05:16</td>\n",
    "      <td>00:03:35.300000</td>\n",
    "      <td>00:15:45.500000</td>\n",
    "    </tr>\n",
    "  </tbody>\n",
    "</table>"
   ]
  },
  {
   "cell_type": "markdown",
   "metadata": {
    "slideshow": {
     "slide_type": "subslide"
    }
   },
   "source": [
    "## SS5 - stage split delta time (seconds) compared to H. PADDON"
   ]
  },
  {
   "cell_type": "markdown",
   "metadata": {},
   "source": [
    "![](./split_delta_driver4_SS5.png)"
   ]
  },
  {
   "cell_type": "markdown",
   "metadata": {},
   "source": [
    "*This chart allows you to compare the __on stage__ performance of each driver, with split times rebased relative to car 4 on stage.*"
   ]
  },
  {
   "cell_type": "markdown",
   "metadata": {
    "slideshow": {
     "slide_type": "slide"
    }
   },
   "source": [
    "## SS6 - stage sector delta time (seconds) compared to H. PADDON stage sector time"
   ]
  },
  {
   "cell_type": "markdown",
   "metadata": {},
   "source": [
    "![](./chart_stage_sector_delta4_SS6.png)"
   ]
  },
  {
   "cell_type": "markdown",
   "metadata": {},
   "source": [
    "*This chart allows you to compare the __on stage__ performance of each driver. It displays the \"sector time\" of each driver (the time between each split point along the stage), rebased relative to car 4.*"
   ]
  },
  {
   "cell_type": "markdown",
   "metadata": {
    "slideshow": {
     "slide_type": "subslide"
    }
   },
   "source": [
    "## SS6 - stage sector time (seconds)"
   ]
  },
  {
   "cell_type": "markdown",
   "metadata": {},
   "source": [
    "<table border=\"1\" class=\"dataframe\">\n",
    "  <thead>\n",
    "    <tr style=\"text-align: right;\">\n",
    "      <th></th>\n",
    "      <th>carNo</th>\n",
    "      <th>driverName</th>\n",
    "      <th>sector_1</th>\n",
    "      <th>sector_2</th>\n",
    "      <th>sector_3</th>\n",
    "      <th>time_stageTime</th>\n",
    "    </tr>\n",
    "    <tr>\n",
    "      <th>start</th>\n",
    "      <th></th>\n",
    "      <th></th>\n",
    "      <th></th>\n",
    "      <th></th>\n",
    "      <th></th>\n",
    "      <th></th>\n",
    "    </tr>\n",
    "  </thead>\n",
    "  <tbody>\n",
    "    <tr>\n",
    "      <th>3</th>\n",
    "      <td>5</td>\n",
    "      <td>T. NEUVILLE</td>\n",
    "      <td>00:02:58.500000</td>\n",
    "      <td>00:04:29.600000</td>\n",
    "      <td>00:02:56.900000</td>\n",
    "      <td>00:10:25</td>\n",
    "    </tr>\n",
    "    <tr>\n",
    "      <th>6</th>\n",
    "      <td>3</td>\n",
    "      <td>E. EVANS</td>\n",
    "      <td>00:02:58.300000</td>\n",
    "      <td>00:04:29.500000</td>\n",
    "      <td>00:02:57.600000</td>\n",
    "      <td>00:10:25.400000</td>\n",
    "    </tr>\n",
    "    <tr>\n",
    "      <th>4</th>\n",
    "      <td>2</td>\n",
    "      <td>O. TANAK</td>\n",
    "      <td>00:02:56.300000</td>\n",
    "      <td>00:04:32.100000</td>\n",
    "      <td>00:02:58.600000</td>\n",
    "      <td>00:10:27</td>\n",
    "    </tr>\n",
    "    <tr>\n",
    "      <th>5</th>\n",
    "      <td>6</td>\n",
    "      <td>D. SORDO</td>\n",
    "      <td>00:02:58.400000</td>\n",
    "      <td>00:04:31.700000</td>\n",
    "      <td>00:02:57.100000</td>\n",
    "      <td>00:10:27.200000</td>\n",
    "    </tr>\n",
    "    <tr>\n",
    "      <th>1</th>\n",
    "      <td>1</td>\n",
    "      <td>S. OGIER</td>\n",
    "      <td>00:03:00.100000</td>\n",
    "      <td>00:04:29.500000</td>\n",
    "      <td>00:02:57.800000</td>\n",
    "      <td>00:10:27.400000</td>\n",
    "    </tr>\n",
    "    <tr>\n",
    "      <th>8</th>\n",
    "      <td>4</td>\n",
    "      <td>H. PADDON</td>\n",
    "      <td>00:02:57.600000</td>\n",
    "      <td>00:04:31.500000</td>\n",
    "      <td>00:02:58.300000</td>\n",
    "      <td>00:10:27.400000</td>\n",
    "    </tr>\n",
    "    <tr>\n",
    "      <th>2</th>\n",
    "      <td>10</td>\n",
    "      <td>J. LATVALA</td>\n",
    "      <td>00:03:00</td>\n",
    "      <td>00:04:29.700000</td>\n",
    "      <td>00:02:58.500000</td>\n",
    "      <td>00:10:28.200000</td>\n",
    "    </tr>\n",
    "    <tr>\n",
    "      <th>7</th>\n",
    "      <td>8</td>\n",
    "      <td>C. BREEN</td>\n",
    "      <td>00:03:00.300000</td>\n",
    "      <td>00:04:29.400000</td>\n",
    "      <td>00:03:01.500000</td>\n",
    "      <td>00:10:31.200000</td>\n",
    "    </tr>\n",
    "    <tr>\n",
    "      <th>10</th>\n",
    "      <td>11</td>\n",
    "      <td>J. HÄNNINEN</td>\n",
    "      <td>00:02:59</td>\n",
    "      <td>00:04:33.200000</td>\n",
    "      <td>00:02:59.800000</td>\n",
    "      <td>00:10:32</td>\n",
    "    </tr>\n",
    "    <tr>\n",
    "      <th>11</th>\n",
    "      <td>14</td>\n",
    "      <td>M. OSTBERG</td>\n",
    "      <td>00:02:58.400000</td>\n",
    "      <td>00:04:35.600000</td>\n",
    "      <td>00:02:59.900000</td>\n",
    "      <td>00:10:33.900000</td>\n",
    "    </tr>\n",
    "  </tbody>\n",
    "</table>"
   ]
  },
  {
   "cell_type": "markdown",
   "metadata": {
    "slideshow": {
     "slide_type": "subslide"
    }
   },
   "source": [
    "## SS6 - stage split delta time (seconds) compared to H. PADDON"
   ]
  },
  {
   "cell_type": "markdown",
   "metadata": {},
   "source": [
    "![](./split_delta_driver4_SS6.png)"
   ]
  },
  {
   "cell_type": "markdown",
   "metadata": {},
   "source": [
    "*This chart allows you to compare the __on stage__ performance of each driver, with split times rebased relative to car 4 on stage.*"
   ]
  },
  {
   "cell_type": "markdown",
   "metadata": {
    "slideshow": {
     "slide_type": "slide"
    }
   },
   "source": [
    "## SS7 - stage sector delta time (seconds) compared to H. PADDON stage sector time"
   ]
  },
  {
   "cell_type": "markdown",
   "metadata": {},
   "source": [
    "![](./chart_stage_sector_delta4_SS7.png)"
   ]
  },
  {
   "cell_type": "markdown",
   "metadata": {},
   "source": [
    "*This chart allows you to compare the __on stage__ performance of each driver. It displays the \"sector time\" of each driver (the time between each split point along the stage), rebased relative to car 4.*"
   ]
  },
  {
   "cell_type": "markdown",
   "metadata": {
    "slideshow": {
     "slide_type": "subslide"
    }
   },
   "source": [
    "## SS7 - stage sector time (seconds)"
   ]
  },
  {
   "cell_type": "markdown",
   "metadata": {},
   "source": [
    "<table border=\"1\" class=\"dataframe\">\n",
    "  <thead>\n",
    "    <tr style=\"text-align: right;\">\n",
    "      <th></th>\n",
    "      <th>carNo</th>\n",
    "      <th>driverName</th>\n",
    "      <th>sector_1</th>\n",
    "      <th>sector_2</th>\n",
    "      <th>sector_3</th>\n",
    "      <th>sector_4</th>\n",
    "      <th>time_stageTime</th>\n",
    "    </tr>\n",
    "    <tr>\n",
    "      <th>start</th>\n",
    "      <th></th>\n",
    "      <th></th>\n",
    "      <th></th>\n",
    "      <th></th>\n",
    "      <th></th>\n",
    "      <th></th>\n",
    "      <th></th>\n",
    "    </tr>\n",
    "  </thead>\n",
    "  <tbody>\n",
    "    <tr>\n",
    "      <th>5</th>\n",
    "      <td>6</td>\n",
    "      <td>D. SORDO</td>\n",
    "      <td>00:04:23.200000</td>\n",
    "      <td>00:04:53.800000</td>\n",
    "      <td>00:04:36.900000</td>\n",
    "      <td>00:05:26.300000</td>\n",
    "      <td>00:19:20.200000</td>\n",
    "    </tr>\n",
    "    <tr>\n",
    "      <th>1</th>\n",
    "      <td>1</td>\n",
    "      <td>S. OGIER</td>\n",
    "      <td>00:04:23.700000</td>\n",
    "      <td>00:04:51.200000</td>\n",
    "      <td>00:04:35.900000</td>\n",
    "      <td>00:05:32</td>\n",
    "      <td>00:19:22.800000</td>\n",
    "    </tr>\n",
    "    <tr>\n",
    "      <th>4</th>\n",
    "      <td>2</td>\n",
    "      <td>O. TANAK</td>\n",
    "      <td>00:04:24.200000</td>\n",
    "      <td>00:04:51.900000</td>\n",
    "      <td>00:04:38.400000</td>\n",
    "      <td>00:05:30.300000</td>\n",
    "      <td>00:19:24.800000</td>\n",
    "    </tr>\n",
    "    <tr>\n",
    "      <th>6</th>\n",
    "      <td>3</td>\n",
    "      <td>E. EVANS</td>\n",
    "      <td>00:04:22.400000</td>\n",
    "      <td>00:04:52.800000</td>\n",
    "      <td>00:04:39.600000</td>\n",
    "      <td>00:05:32.500000</td>\n",
    "      <td>00:19:27.300000</td>\n",
    "    </tr>\n",
    "    <tr>\n",
    "      <th>3</th>\n",
    "      <td>5</td>\n",
    "      <td>T. NEUVILLE</td>\n",
    "      <td>00:04:21.500000</td>\n",
    "      <td>00:05:08.100000</td>\n",
    "      <td>00:04:40.600000</td>\n",
    "      <td>00:05:17.500000</td>\n",
    "      <td>00:19:27.700000</td>\n",
    "    </tr>\n",
    "    <tr>\n",
    "      <th>11</th>\n",
    "      <td>14</td>\n",
    "      <td>M. OSTBERG</td>\n",
    "      <td>00:04:20.400000</td>\n",
    "      <td>00:04:57.700000</td>\n",
    "      <td>00:04:40.400000</td>\n",
    "      <td>00:05:32.100000</td>\n",
    "      <td>00:19:30.600000</td>\n",
    "    </tr>\n",
    "    <tr>\n",
    "      <th>7</th>\n",
    "      <td>8</td>\n",
    "      <td>C. BREEN</td>\n",
    "      <td>00:04:24.900000</td>\n",
    "      <td>00:04:53.200000</td>\n",
    "      <td>00:04:41.100000</td>\n",
    "      <td>00:05:31.600000</td>\n",
    "      <td>00:19:30.800000</td>\n",
    "    </tr>\n",
    "    <tr>\n",
    "      <th>10</th>\n",
    "      <td>11</td>\n",
    "      <td>J. HÄNNINEN</td>\n",
    "      <td>00:04:24.600000</td>\n",
    "      <td>00:04:54.100000</td>\n",
    "      <td>00:04:39.200000</td>\n",
    "      <td>00:05:34.700000</td>\n",
    "      <td>00:19:32.600000</td>\n",
    "    </tr>\n",
    "    <tr>\n",
    "      <th>13</th>\n",
    "      <td>12</td>\n",
    "      <td>E. LAPPI</td>\n",
    "      <td>00:04:26.500000</td>\n",
    "      <td>00:04:55.300000</td>\n",
    "      <td>00:04:42.900000</td>\n",
    "      <td>00:05:36.500000</td>\n",
    "      <td>00:19:41.200000</td>\n",
    "    </tr>\n",
    "    <tr>\n",
    "      <th>12</th>\n",
    "      <td>9</td>\n",
    "      <td>S. LEFEBVRE</td>\n",
    "      <td>00:04:30.400000</td>\n",
    "      <td>00:04:57.400000</td>\n",
    "      <td>00:04:48.900000</td>\n",
    "      <td>00:05:37.200000</td>\n",
    "      <td>00:19:53.900000</td>\n",
    "    </tr>\n",
    "  </tbody>\n",
    "</table>"
   ]
  },
  {
   "cell_type": "markdown",
   "metadata": {
    "slideshow": {
     "slide_type": "subslide"
    }
   },
   "source": [
    "## SS7 - stage split delta time (seconds) compared to H. PADDON"
   ]
  },
  {
   "cell_type": "markdown",
   "metadata": {},
   "source": [
    "![](./split_delta_driver4_SS7.png)"
   ]
  },
  {
   "cell_type": "markdown",
   "metadata": {},
   "source": [
    "*This chart allows you to compare the __on stage__ performance of each driver, with split times rebased relative to car 4 on stage.*"
   ]
  },
  {
   "cell_type": "markdown",
   "metadata": {
    "slideshow": {
     "slide_type": "slide"
    }
   },
   "source": [
    "## SS8 - stage sector delta time (seconds) compared to H. PADDON stage sector time"
   ]
  },
  {
   "cell_type": "markdown",
   "metadata": {},
   "source": [
    "![](./chart_stage_sector_delta4_SS8.png)"
   ]
  },
  {
   "cell_type": "markdown",
   "metadata": {},
   "source": [
    "*This chart allows you to compare the __on stage__ performance of each driver. It displays the \"sector time\" of each driver (the time between each split point along the stage), rebased relative to car 4.*"
   ]
  },
  {
   "cell_type": "markdown",
   "metadata": {
    "slideshow": {
     "slide_type": "subslide"
    }
   },
   "source": [
    "## SS8 - stage sector time (seconds)"
   ]
  },
  {
   "cell_type": "markdown",
   "metadata": {},
   "source": [
    "<table border=\"1\" class=\"dataframe\">\n",
    "  <thead>\n",
    "    <tr style=\"text-align: right;\">\n",
    "      <th></th>\n",
    "      <th>carNo</th>\n",
    "      <th>driverName</th>\n",
    "      <th>time_stageTime</th>\n",
    "    </tr>\n",
    "    <tr>\n",
    "      <th>start</th>\n",
    "      <th></th>\n",
    "      <th></th>\n",
    "      <th></th>\n",
    "    </tr>\n",
    "  </thead>\n",
    "  <tbody>\n",
    "    <tr>\n",
    "      <th>1</th>\n",
    "      <td>1</td>\n",
    "      <td>S. OGIER</td>\n",
    "      <td>00:01:48.800000</td>\n",
    "    </tr>\n",
    "    <tr>\n",
    "      <th>3</th>\n",
    "      <td>5</td>\n",
    "      <td>T. NEUVILLE</td>\n",
    "      <td>00:01:49</td>\n",
    "    </tr>\n",
    "    <tr>\n",
    "      <th>8</th>\n",
    "      <td>4</td>\n",
    "      <td>H. PADDON</td>\n",
    "      <td>00:01:49.300000</td>\n",
    "    </tr>\n",
    "    <tr>\n",
    "      <th>4</th>\n",
    "      <td>2</td>\n",
    "      <td>O. TANAK</td>\n",
    "      <td>00:01:49.800000</td>\n",
    "    </tr>\n",
    "    <tr>\n",
    "      <th>16</th>\n",
    "      <td>31</td>\n",
    "      <td>A. MIKKELSEN</td>\n",
    "      <td>00:01:50</td>\n",
    "    </tr>\n",
    "    <tr>\n",
    "      <th>6</th>\n",
    "      <td>3</td>\n",
    "      <td>E. EVANS</td>\n",
    "      <td>00:01:50.200000</td>\n",
    "    </tr>\n",
    "    <tr>\n",
    "      <th>5</th>\n",
    "      <td>6</td>\n",
    "      <td>D. SORDO</td>\n",
    "      <td>00:01:50.500000</td>\n",
    "    </tr>\n",
    "    <tr>\n",
    "      <th>11</th>\n",
    "      <td>9</td>\n",
    "      <td>S. LEFEBVRE</td>\n",
    "      <td>00:01:50.700000</td>\n",
    "    </tr>\n",
    "    <tr>\n",
    "      <th>10</th>\n",
    "      <td>14</td>\n",
    "      <td>M. OSTBERG</td>\n",
    "      <td>00:01:51</td>\n",
    "    </tr>\n",
    "    <tr>\n",
    "      <th>7</th>\n",
    "      <td>8</td>\n",
    "      <td>C. BREEN</td>\n",
    "      <td>00:01:51.100000</td>\n",
    "    </tr>\n",
    "  </tbody>\n",
    "</table>"
   ]
  },
  {
   "cell_type": "markdown",
   "metadata": {
    "slideshow": {
     "slide_type": "subslide"
    }
   },
   "source": [
    "## SS8 - stage split delta time (seconds) compared to H. PADDON"
   ]
  },
  {
   "cell_type": "markdown",
   "metadata": {},
   "source": [
    "![](./split_delta_driver4_SS8.png)"
   ]
  },
  {
   "cell_type": "markdown",
   "metadata": {},
   "source": [
    "*This chart allows you to compare the __on stage__ performance of each driver, with split times rebased relative to car 4 on stage.*"
   ]
  },
  {
   "cell_type": "markdown",
   "metadata": {
    "slideshow": {
     "slide_type": "slide"
    }
   },
   "source": [
    "## SS9 - stage sector delta time (seconds) compared to H. PADDON stage sector time"
   ]
  },
  {
   "cell_type": "markdown",
   "metadata": {},
   "source": [
    "![](./chart_stage_sector_delta4_SS9.png)"
   ]
  },
  {
   "cell_type": "markdown",
   "metadata": {},
   "source": [
    "*This chart allows you to compare the __on stage__ performance of each driver. It displays the \"sector time\" of each driver (the time between each split point along the stage), rebased relative to car 4.*"
   ]
  },
  {
   "cell_type": "markdown",
   "metadata": {
    "slideshow": {
     "slide_type": "subslide"
    }
   },
   "source": [
    "## SS9 - stage sector time (seconds)"
   ]
  },
  {
   "cell_type": "markdown",
   "metadata": {},
   "source": [
    "<table border=\"1\" class=\"dataframe\">\n",
    "  <thead>\n",
    "    <tr style=\"text-align: right;\">\n",
    "      <th></th>\n",
    "      <th>carNo</th>\n",
    "      <th>driverName</th>\n",
    "      <th>time_stageTime</th>\n",
    "    </tr>\n",
    "    <tr>\n",
    "      <th>start</th>\n",
    "      <th></th>\n",
    "      <th></th>\n",
    "      <th></th>\n",
    "    </tr>\n",
    "  </thead>\n",
    "  <tbody>\n",
    "    <tr>\n",
    "      <th>10</th>\n",
    "      <td>14</td>\n",
    "      <td>M. OSTBERG</td>\n",
    "      <td>00:01:46.500000</td>\n",
    "    </tr>\n",
    "    <tr>\n",
    "      <th>1</th>\n",
    "      <td>1</td>\n",
    "      <td>S. OGIER</td>\n",
    "      <td>00:01:47.100000</td>\n",
    "    </tr>\n",
    "    <tr>\n",
    "      <th>6</th>\n",
    "      <td>3</td>\n",
    "      <td>E. EVANS</td>\n",
    "      <td>00:01:47.100000</td>\n",
    "    </tr>\n",
    "    <tr>\n",
    "      <th>4</th>\n",
    "      <td>2</td>\n",
    "      <td>O. TANAK</td>\n",
    "      <td>00:01:47.300000</td>\n",
    "    </tr>\n",
    "    <tr>\n",
    "      <th>3</th>\n",
    "      <td>5</td>\n",
    "      <td>T. NEUVILLE</td>\n",
    "      <td>00:01:47.400000</td>\n",
    "    </tr>\n",
    "    <tr>\n",
    "      <th>5</th>\n",
    "      <td>6</td>\n",
    "      <td>D. SORDO</td>\n",
    "      <td>00:01:47.600000</td>\n",
    "    </tr>\n",
    "    <tr>\n",
    "      <th>11</th>\n",
    "      <td>9</td>\n",
    "      <td>S. LEFEBVRE</td>\n",
    "      <td>00:01:48</td>\n",
    "    </tr>\n",
    "    <tr>\n",
    "      <th>7</th>\n",
    "      <td>8</td>\n",
    "      <td>C. BREEN</td>\n",
    "      <td>00:01:48.100000</td>\n",
    "    </tr>\n",
    "    <tr>\n",
    "      <th>9</th>\n",
    "      <td>11</td>\n",
    "      <td>J. HÄNNINEN</td>\n",
    "      <td>00:01:48.100000</td>\n",
    "    </tr>\n",
    "    <tr>\n",
    "      <th>16</th>\n",
    "      <td>31</td>\n",
    "      <td>A. MIKKELSEN</td>\n",
    "      <td>00:01:48.400000</td>\n",
    "    </tr>\n",
    "  </tbody>\n",
    "</table>"
   ]
  },
  {
   "cell_type": "markdown",
   "metadata": {
    "slideshow": {
     "slide_type": "subslide"
    }
   },
   "source": [
    "## SS9 - stage split delta time (seconds) compared to H. PADDON"
   ]
  },
  {
   "cell_type": "markdown",
   "metadata": {},
   "source": [
    "![](./split_delta_driver4_SS9.png)"
   ]
  },
  {
   "cell_type": "markdown",
   "metadata": {},
   "source": [
    "*This chart allows you to compare the __on stage__ performance of each driver, with split times rebased relative to car 4 on stage.*"
   ]
  },
  {
   "cell_type": "markdown",
   "metadata": {
    "slideshow": {
     "slide_type": "slide"
    }
   },
   "source": [
    "# Day 3 (20/05/2017)\n",
    "## Section 2 (Morning)"
   ]
  },
  {
   "cell_type": "markdown",
   "metadata": {
    "slideshow": {
     "slide_type": "slide"
    }
   },
   "source": [
    "## SS10 - stage sector delta time (seconds) compared to H. PADDON stage sector time"
   ]
  },
  {
   "cell_type": "markdown",
   "metadata": {},
   "source": [
    "![](./chart_stage_sector_delta4_SS10.png)"
   ]
  },
  {
   "cell_type": "markdown",
   "metadata": {},
   "source": [
    "*This chart allows you to compare the __on stage__ performance of each driver. It displays the \"sector time\" of each driver (the time between each split point along the stage), rebased relative to car 4.*"
   ]
  },
  {
   "cell_type": "markdown",
   "metadata": {
    "slideshow": {
     "slide_type": "subslide"
    }
   },
   "source": [
    "## SS10 - stage sector time (seconds)"
   ]
  },
  {
   "cell_type": "markdown",
   "metadata": {},
   "source": [
    "<table border=\"1\" class=\"dataframe\">\n",
    "  <thead>\n",
    "    <tr style=\"text-align: right;\">\n",
    "      <th></th>\n",
    "      <th>carNo</th>\n",
    "      <th>driverName</th>\n",
    "      <th>sector_1</th>\n",
    "      <th>sector_2</th>\n",
    "      <th>sector_3</th>\n",
    "      <th>time_stageTime</th>\n",
    "    </tr>\n",
    "    <tr>\n",
    "      <th>start</th>\n",
    "      <th></th>\n",
    "      <th></th>\n",
    "      <th></th>\n",
    "      <th></th>\n",
    "      <th></th>\n",
    "      <th></th>\n",
    "    </tr>\n",
    "  </thead>\n",
    "  <tbody>\n",
    "    <tr>\n",
    "      <th>13</th>\n",
    "      <td>1</td>\n",
    "      <td>S. OGIER</td>\n",
    "      <td>00:03:41.200000</td>\n",
    "      <td>00:03:47.800000</td>\n",
    "      <td>00:03:17.400000</td>\n",
    "      <td>00:10:46.400000</td>\n",
    "    </tr>\n",
    "    <tr>\n",
    "      <th>10</th>\n",
    "      <td>3</td>\n",
    "      <td>E. EVANS</td>\n",
    "      <td>00:03:41.400000</td>\n",
    "      <td>00:03:46.700000</td>\n",
    "      <td>00:03:18.500000</td>\n",
    "      <td>00:10:46.600000</td>\n",
    "    </tr>\n",
    "    <tr>\n",
    "      <th>12</th>\n",
    "      <td>5</td>\n",
    "      <td>T. NEUVILLE</td>\n",
    "      <td>00:03:42.300000</td>\n",
    "      <td>00:03:47.200000</td>\n",
    "      <td>00:03:18.700000</td>\n",
    "      <td>00:10:48.200000</td>\n",
    "    </tr>\n",
    "    <tr>\n",
    "      <th>15</th>\n",
    "      <td>2</td>\n",
    "      <td>O. TANAK</td>\n",
    "      <td>00:03:40.300000</td>\n",
    "      <td>00:03:48.700000</td>\n",
    "      <td>00:03:21.300000</td>\n",
    "      <td>00:10:50.300000</td>\n",
    "    </tr>\n",
    "    <tr>\n",
    "      <th>14</th>\n",
    "      <td>6</td>\n",
    "      <td>D. SORDO</td>\n",
    "      <td>00:03:41.900000</td>\n",
    "      <td>00:03:49.700000</td>\n",
    "      <td>00:03:22.100000</td>\n",
    "      <td>00:10:53.700000</td>\n",
    "    </tr>\n",
    "    <tr>\n",
    "      <th>11</th>\n",
    "      <td>8</td>\n",
    "      <td>C. BREEN</td>\n",
    "      <td>00:03:48.100000</td>\n",
    "      <td>00:03:45.800000</td>\n",
    "      <td>00:03:21.300000</td>\n",
    "      <td>00:10:55.200000</td>\n",
    "    </tr>\n",
    "    <tr>\n",
    "      <th>2</th>\n",
    "      <td>4</td>\n",
    "      <td>H. PADDON</td>\n",
    "      <td>00:03:44.800000</td>\n",
    "      <td>00:03:50.900000</td>\n",
    "      <td>00:03:20.900000</td>\n",
    "      <td>00:10:56.600000</td>\n",
    "    </tr>\n",
    "    <tr>\n",
    "      <th>6</th>\n",
    "      <td>10</td>\n",
    "      <td>J. LATVALA</td>\n",
    "      <td>00:03:44.300000</td>\n",
    "      <td>00:03:50.400000</td>\n",
    "      <td>00:03:21.900000</td>\n",
    "      <td>00:10:56.600000</td>\n",
    "    </tr>\n",
    "    <tr>\n",
    "      <th>7</th>\n",
    "      <td>14</td>\n",
    "      <td>M. OSTBERG</td>\n",
    "      <td>00:03:44.200000</td>\n",
    "      <td>00:03:53.100000</td>\n",
    "      <td>00:03:21.300000</td>\n",
    "      <td>00:10:58.600000</td>\n",
    "    </tr>\n",
    "    <tr>\n",
    "      <th>16</th>\n",
    "      <td>7</td>\n",
    "      <td>K. MEEKE</td>\n",
    "      <td>00:03:45.900000</td>\n",
    "      <td>00:03:52.100000</td>\n",
    "      <td>00:03:21.900000</td>\n",
    "      <td>00:10:59.900000</td>\n",
    "    </tr>\n",
    "  </tbody>\n",
    "</table>"
   ]
  },
  {
   "cell_type": "markdown",
   "metadata": {
    "slideshow": {
     "slide_type": "subslide"
    }
   },
   "source": [
    "## SS10 - stage split delta time (seconds) compared to H. PADDON"
   ]
  },
  {
   "cell_type": "markdown",
   "metadata": {},
   "source": [
    "![](./split_delta_driver4_SS10.png)"
   ]
  },
  {
   "cell_type": "markdown",
   "metadata": {},
   "source": [
    "*This chart allows you to compare the __on stage__ performance of each driver, with split times rebased relative to car 4 on stage.*"
   ]
  },
  {
   "cell_type": "markdown",
   "metadata": {
    "slideshow": {
     "slide_type": "slide"
    }
   },
   "source": [
    "## SS11 - stage sector delta time (seconds) compared to H. PADDON stage sector time"
   ]
  },
  {
   "cell_type": "markdown",
   "metadata": {},
   "source": [
    "![](./chart_stage_sector_delta4_SS11.png)"
   ]
  },
  {
   "cell_type": "markdown",
   "metadata": {},
   "source": [
    "*This chart allows you to compare the __on stage__ performance of each driver. It displays the \"sector time\" of each driver (the time between each split point along the stage), rebased relative to car 4.*"
   ]
  },
  {
   "cell_type": "markdown",
   "metadata": {
    "slideshow": {
     "slide_type": "subslide"
    }
   },
   "source": [
    "## SS11 - stage sector time (seconds)"
   ]
  },
  {
   "cell_type": "markdown",
   "metadata": {},
   "source": [
    "<table border=\"1\" class=\"dataframe\">\n",
    "  <thead>\n",
    "    <tr style=\"text-align: right;\">\n",
    "      <th></th>\n",
    "      <th>carNo</th>\n",
    "      <th>driverName</th>\n",
    "      <th>sector_1</th>\n",
    "      <th>sector_2</th>\n",
    "      <th>sector_3</th>\n",
    "      <th>time_stageTime</th>\n",
    "    </tr>\n",
    "    <tr>\n",
    "      <th>start</th>\n",
    "      <th></th>\n",
    "      <th></th>\n",
    "      <th></th>\n",
    "      <th></th>\n",
    "      <th></th>\n",
    "      <th></th>\n",
    "    </tr>\n",
    "  </thead>\n",
    "  <tbody>\n",
    "    <tr>\n",
    "      <th>15</th>\n",
    "      <td>2</td>\n",
    "      <td>O. TANAK</td>\n",
    "      <td>00:04:52.200000</td>\n",
    "      <td>00:04:24.300000</td>\n",
    "      <td>00:04:16.100000</td>\n",
    "      <td>00:13:32.600000</td>\n",
    "    </tr>\n",
    "    <tr>\n",
    "      <th>13</th>\n",
    "      <td>1</td>\n",
    "      <td>S. OGIER</td>\n",
    "      <td>00:04:55.300000</td>\n",
    "      <td>00:04:26.200000</td>\n",
    "      <td>00:04:16.300000</td>\n",
    "      <td>00:13:37.800000</td>\n",
    "    </tr>\n",
    "    <tr>\n",
    "      <th>12</th>\n",
    "      <td>5</td>\n",
    "      <td>T. NEUVILLE</td>\n",
    "      <td>00:04:56.900000</td>\n",
    "      <td>00:04:26.500000</td>\n",
    "      <td>00:04:19.100000</td>\n",
    "      <td>00:13:42.500000</td>\n",
    "    </tr>\n",
    "    <tr>\n",
    "      <th>6</th>\n",
    "      <td>10</td>\n",
    "      <td>J. LATVALA</td>\n",
    "      <td>00:04:58</td>\n",
    "      <td>00:04:29</td>\n",
    "      <td>00:04:19.800000</td>\n",
    "      <td>00:13:46.800000</td>\n",
    "    </tr>\n",
    "    <tr>\n",
    "      <th>14</th>\n",
    "      <td>6</td>\n",
    "      <td>D. SORDO</td>\n",
    "      <td>00:04:57.700000</td>\n",
    "      <td>00:04:27.400000</td>\n",
    "      <td>00:04:22.200000</td>\n",
    "      <td>00:13:47.300000</td>\n",
    "    </tr>\n",
    "    <tr>\n",
    "      <th>11</th>\n",
    "      <td>8</td>\n",
    "      <td>C. BREEN</td>\n",
    "      <td>00:04:58.100000</td>\n",
    "      <td>00:04:29.100000</td>\n",
    "      <td>00:04:20.600000</td>\n",
    "      <td>00:13:47.800000</td>\n",
    "    </tr>\n",
    "    <tr>\n",
    "      <th>2</th>\n",
    "      <td>4</td>\n",
    "      <td>H. PADDON</td>\n",
    "      <td>00:04:58.100000</td>\n",
    "      <td>00:04:29.100000</td>\n",
    "      <td>00:04:22.700000</td>\n",
    "      <td>00:13:49.900000</td>\n",
    "    </tr>\n",
    "    <tr>\n",
    "      <th>16</th>\n",
    "      <td>7</td>\n",
    "      <td>K. MEEKE</td>\n",
    "      <td>00:04:59.800000</td>\n",
    "      <td>00:04:28.700000</td>\n",
    "      <td>00:04:22.100000</td>\n",
    "      <td>00:13:50.600000</td>\n",
    "    </tr>\n",
    "    <tr>\n",
    "      <th>9</th>\n",
    "      <td>11</td>\n",
    "      <td>J. HÄNNINEN</td>\n",
    "      <td>00:04:58.800000</td>\n",
    "      <td>00:04:31.100000</td>\n",
    "      <td>00:04:21</td>\n",
    "      <td>00:13:50.900000</td>\n",
    "    </tr>\n",
    "    <tr>\n",
    "      <th>7</th>\n",
    "      <td>14</td>\n",
    "      <td>M. OSTBERG</td>\n",
    "      <td>00:04:58.800000</td>\n",
    "      <td>00:04:30.400000</td>\n",
    "      <td>00:04:23.200000</td>\n",
    "      <td>00:13:52.400000</td>\n",
    "    </tr>\n",
    "  </tbody>\n",
    "</table>"
   ]
  },
  {
   "cell_type": "markdown",
   "metadata": {
    "slideshow": {
     "slide_type": "subslide"
    }
   },
   "source": [
    "## SS11 - stage split delta time (seconds) compared to H. PADDON"
   ]
  },
  {
   "cell_type": "markdown",
   "metadata": {},
   "source": [
    "![](./split_delta_driver4_SS11.png)"
   ]
  },
  {
   "cell_type": "markdown",
   "metadata": {},
   "source": [
    "*This chart allows you to compare the __on stage__ performance of each driver, with split times rebased relative to car 4 on stage.*"
   ]
  },
  {
   "cell_type": "markdown",
   "metadata": {
    "slideshow": {
     "slide_type": "slide"
    }
   },
   "source": [
    "## SS12 - stage sector delta time (seconds) compared to H. PADDON stage sector time"
   ]
  },
  {
   "cell_type": "markdown",
   "metadata": {},
   "source": [
    "![](./chart_stage_sector_delta4_SS12.png)"
   ]
  },
  {
   "cell_type": "markdown",
   "metadata": {},
   "source": [
    "*This chart allows you to compare the __on stage__ performance of each driver. It displays the \"sector time\" of each driver (the time between each split point along the stage), rebased relative to car 4.*"
   ]
  },
  {
   "cell_type": "markdown",
   "metadata": {
    "slideshow": {
     "slide_type": "subslide"
    }
   },
   "source": [
    "## SS12 - stage sector time (seconds)"
   ]
  },
  {
   "cell_type": "markdown",
   "metadata": {},
   "source": [
    "<table border=\"1\" class=\"dataframe\">\n",
    "  <thead>\n",
    "    <tr style=\"text-align: right;\">\n",
    "      <th></th>\n",
    "      <th>carNo</th>\n",
    "      <th>driverName</th>\n",
    "      <th>sector_1</th>\n",
    "      <th>sector_2</th>\n",
    "      <th>sector_3</th>\n",
    "      <th>sector_4</th>\n",
    "      <th>sector_5</th>\n",
    "      <th>time_stageTime</th>\n",
    "    </tr>\n",
    "    <tr>\n",
    "      <th>start</th>\n",
    "      <th></th>\n",
    "      <th></th>\n",
    "      <th></th>\n",
    "      <th></th>\n",
    "      <th></th>\n",
    "      <th></th>\n",
    "      <th></th>\n",
    "      <th></th>\n",
    "    </tr>\n",
    "  </thead>\n",
    "  <tbody>\n",
    "    <tr>\n",
    "      <th>13</th>\n",
    "      <td>1</td>\n",
    "      <td>S. OGIER</td>\n",
    "      <td>00:05:04</td>\n",
    "      <td>00:04:59.200000</td>\n",
    "      <td>00:05:49.400000</td>\n",
    "      <td>00:03:04.500000</td>\n",
    "      <td>00:05:44.400000</td>\n",
    "      <td>00:24:41.500000</td>\n",
    "    </tr>\n",
    "    <tr>\n",
    "      <th>12</th>\n",
    "      <td>5</td>\n",
    "      <td>T. NEUVILLE</td>\n",
    "      <td>00:05:06.100000</td>\n",
    "      <td>00:05:01.600000</td>\n",
    "      <td>00:05:49.500000</td>\n",
    "      <td>00:03:07.600000</td>\n",
    "      <td>00:05:43.600000</td>\n",
    "      <td>00:24:48.400000</td>\n",
    "    </tr>\n",
    "    <tr>\n",
    "      <th>14</th>\n",
    "      <td>6</td>\n",
    "      <td>D. SORDO</td>\n",
    "      <td>00:05:05.400000</td>\n",
    "      <td>00:05:03.500000</td>\n",
    "      <td>00:05:49.900000</td>\n",
    "      <td>00:03:07.500000</td>\n",
    "      <td>00:05:43.800000</td>\n",
    "      <td>00:24:50.100000</td>\n",
    "    </tr>\n",
    "    <tr>\n",
    "      <th>6</th>\n",
    "      <td>10</td>\n",
    "      <td>J. LATVALA</td>\n",
    "      <td>00:05:06.700000</td>\n",
    "      <td>00:05:00.900000</td>\n",
    "      <td>00:05:52.300000</td>\n",
    "      <td>00:03:08</td>\n",
    "      <td>00:05:48.200000</td>\n",
    "      <td>00:24:56.100000</td>\n",
    "    </tr>\n",
    "    <tr>\n",
    "      <th>11</th>\n",
    "      <td>8</td>\n",
    "      <td>C. BREEN</td>\n",
    "      <td>00:05:06</td>\n",
    "      <td>00:05:05.400000</td>\n",
    "      <td>00:05:49</td>\n",
    "      <td>00:03:09.100000</td>\n",
    "      <td>00:05:51.500000</td>\n",
    "      <td>00:25:01</td>\n",
    "    </tr>\n",
    "    <tr>\n",
    "      <th>8</th>\n",
    "      <td>12</td>\n",
    "      <td>E. LAPPI</td>\n",
    "      <td>00:05:06.900000</td>\n",
    "      <td>00:05:03.700000</td>\n",
    "      <td>00:05:54.100000</td>\n",
    "      <td>00:03:09.100000</td>\n",
    "      <td>00:05:48.500000</td>\n",
    "      <td>00:25:02.300000</td>\n",
    "    </tr>\n",
    "    <tr>\n",
    "      <th>7</th>\n",
    "      <td>14</td>\n",
    "      <td>M. OSTBERG</td>\n",
    "      <td>00:05:06.100000</td>\n",
    "      <td>00:05:04.400000</td>\n",
    "      <td>00:05:49.900000</td>\n",
    "      <td>00:03:10.100000</td>\n",
    "      <td>00:05:52.200000</td>\n",
    "      <td>00:25:02.700000</td>\n",
    "    </tr>\n",
    "    <tr>\n",
    "      <th>16</th>\n",
    "      <td>7</td>\n",
    "      <td>K. MEEKE</td>\n",
    "      <td>00:05:09.900000</td>\n",
    "      <td>00:05:02</td>\n",
    "      <td>00:05:52.300000</td>\n",
    "      <td>00:03:08.200000</td>\n",
    "      <td>00:05:51.700000</td>\n",
    "      <td>00:25:04.100000</td>\n",
    "    </tr>\n",
    "    <tr>\n",
    "      <th>9</th>\n",
    "      <td>11</td>\n",
    "      <td>J. HÄNNINEN</td>\n",
    "      <td>00:05:06.300000</td>\n",
    "      <td>00:05:07.100000</td>\n",
    "      <td>00:05:54.500000</td>\n",
    "      <td>00:03:07.600000</td>\n",
    "      <td>00:05:51.700000</td>\n",
    "      <td>00:25:07.200000</td>\n",
    "    </tr>\n",
    "    <tr>\n",
    "      <th>2</th>\n",
    "      <td>4</td>\n",
    "      <td>H. PADDON</td>\n",
    "      <td>00:05:10.200000</td>\n",
    "      <td>00:05:06.200000</td>\n",
    "      <td>00:05:53.200000</td>\n",
    "      <td>00:03:09.200000</td>\n",
    "      <td>00:05:55.400000</td>\n",
    "      <td>00:25:14.200000</td>\n",
    "    </tr>\n",
    "  </tbody>\n",
    "</table>"
   ]
  },
  {
   "cell_type": "markdown",
   "metadata": {
    "slideshow": {
     "slide_type": "subslide"
    }
   },
   "source": [
    "## SS12 - stage split delta time (seconds) compared to H. PADDON"
   ]
  },
  {
   "cell_type": "markdown",
   "metadata": {},
   "source": [
    "![](./split_delta_driver4_SS12.png)"
   ]
  },
  {
   "cell_type": "markdown",
   "metadata": {},
   "source": [
    "*This chart allows you to compare the __on stage__ performance of each driver, with split times rebased relative to car 4 on stage.*"
   ]
  },
  {
   "cell_type": "markdown",
   "metadata": {
    "slideshow": {
     "slide_type": "slide"
    }
   },
   "source": [
    "# Day 13 (20/05/2017)\n",
    "## Section 3 (Afternoon)"
   ]
  },
  {
   "cell_type": "markdown",
   "metadata": {
    "slideshow": {
     "slide_type": "slide"
    }
   },
   "source": [
    "## SS13 - stage sector delta time (seconds) compared to H. PADDON stage sector time"
   ]
  },
  {
   "cell_type": "markdown",
   "metadata": {},
   "source": [
    "![](./chart_stage_sector_delta4_SS13.png)"
   ]
  },
  {
   "cell_type": "markdown",
   "metadata": {},
   "source": [
    "*This chart allows you to compare the __on stage__ performance of each driver. It displays the \"sector time\" of each driver (the time between each split point along the stage), rebased relative to car 4.*"
   ]
  },
  {
   "cell_type": "markdown",
   "metadata": {
    "slideshow": {
     "slide_type": "subslide"
    }
   },
   "source": [
    "## SS13 - stage sector time (seconds)"
   ]
  },
  {
   "cell_type": "markdown",
   "metadata": {},
   "source": [
    "<table border=\"1\" class=\"dataframe\">\n",
    "  <thead>\n",
    "    <tr style=\"text-align: right;\">\n",
    "      <th></th>\n",
    "      <th>carNo</th>\n",
    "      <th>driverName</th>\n",
    "      <th>sector_1</th>\n",
    "      <th>sector_2</th>\n",
    "      <th>sector_3</th>\n",
    "      <th>time_stageTime</th>\n",
    "    </tr>\n",
    "    <tr>\n",
    "      <th>start</th>\n",
    "      <th></th>\n",
    "      <th></th>\n",
    "      <th></th>\n",
    "      <th></th>\n",
    "      <th></th>\n",
    "      <th></th>\n",
    "    </tr>\n",
    "  </thead>\n",
    "  <tbody>\n",
    "    <tr>\n",
    "      <th>12</th>\n",
    "      <td>5</td>\n",
    "      <td>T. NEUVILLE</td>\n",
    "      <td>00:03:35.100000</td>\n",
    "      <td>00:03:47.700000</td>\n",
    "      <td>00:03:20.600000</td>\n",
    "      <td>00:10:43.400000</td>\n",
    "    </tr>\n",
    "    <tr>\n",
    "      <th>13</th>\n",
    "      <td>1</td>\n",
    "      <td>S. OGIER</td>\n",
    "      <td>00:03:39.500000</td>\n",
    "      <td>00:03:44.800000</td>\n",
    "      <td>00:03:20.100000</td>\n",
    "      <td>00:10:44.400000</td>\n",
    "    </tr>\n",
    "    <tr>\n",
    "      <th>15</th>\n",
    "      <td>2</td>\n",
    "      <td>O. TANAK</td>\n",
    "      <td>00:03:41.700000</td>\n",
    "      <td>00:03:45.100000</td>\n",
    "      <td>00:03:20.100000</td>\n",
    "      <td>00:10:46.900000</td>\n",
    "    </tr>\n",
    "    <tr>\n",
    "      <th>6</th>\n",
    "      <td>10</td>\n",
    "      <td>J. LATVALA</td>\n",
    "      <td>00:03:40.400000</td>\n",
    "      <td>00:03:47.900000</td>\n",
    "      <td>00:03:18.700000</td>\n",
    "      <td>00:10:47</td>\n",
    "    </tr>\n",
    "    <tr>\n",
    "      <th>14</th>\n",
    "      <td>6</td>\n",
    "      <td>D. SORDO</td>\n",
    "      <td>00:03:40.700000</td>\n",
    "      <td>00:03:47.400000</td>\n",
    "      <td>00:03:18.900000</td>\n",
    "      <td>00:10:47</td>\n",
    "    </tr>\n",
    "    <tr>\n",
    "      <th>11</th>\n",
    "      <td>8</td>\n",
    "      <td>C. BREEN</td>\n",
    "      <td>00:03:41.200000</td>\n",
    "      <td>00:03:46.600000</td>\n",
    "      <td>00:03:22</td>\n",
    "      <td>00:10:49.800000</td>\n",
    "    </tr>\n",
    "    <tr>\n",
    "      <th>8</th>\n",
    "      <td>12</td>\n",
    "      <td>E. LAPPI</td>\n",
    "      <td>00:03:41.700000</td>\n",
    "      <td>00:03:46.700000</td>\n",
    "      <td>00:03:21.700000</td>\n",
    "      <td>00:10:50.100000</td>\n",
    "    </tr>\n",
    "    <tr>\n",
    "      <th>7</th>\n",
    "      <td>14</td>\n",
    "      <td>M. OSTBERG</td>\n",
    "      <td>00:03:41.700000</td>\n",
    "      <td>00:03:49.100000</td>\n",
    "      <td>00:03:19.400000</td>\n",
    "      <td>00:10:50.200000</td>\n",
    "    </tr>\n",
    "    <tr>\n",
    "      <th>16</th>\n",
    "      <td>7</td>\n",
    "      <td>K. MEEKE</td>\n",
    "      <td>00:03:42.400000</td>\n",
    "      <td>00:03:46.900000</td>\n",
    "      <td>00:03:21.500000</td>\n",
    "      <td>00:10:50.800000</td>\n",
    "    </tr>\n",
    "    <tr>\n",
    "      <th>10</th>\n",
    "      <td>3</td>\n",
    "      <td>E. EVANS</td>\n",
    "      <td>00:03:41.900000</td>\n",
    "      <td>00:03:49.600000</td>\n",
    "      <td>00:03:19.600000</td>\n",
    "      <td>00:10:51.100000</td>\n",
    "    </tr>\n",
    "  </tbody>\n",
    "</table>"
   ]
  },
  {
   "cell_type": "markdown",
   "metadata": {
    "slideshow": {
     "slide_type": "subslide"
    }
   },
   "source": [
    "## SS13 - stage split delta time (seconds) compared to H. PADDON"
   ]
  },
  {
   "cell_type": "markdown",
   "metadata": {},
   "source": [
    "![](./split_delta_driver4_SS13.png)"
   ]
  },
  {
   "cell_type": "markdown",
   "metadata": {},
   "source": [
    "*This chart allows you to compare the __on stage__ performance of each driver, with split times rebased relative to car 4 on stage.*"
   ]
  },
  {
   "cell_type": "markdown",
   "metadata": {
    "slideshow": {
     "slide_type": "slide"
    }
   },
   "source": [
    "## SS14 - stage sector delta time (seconds) compared to H. PADDON stage sector time"
   ]
  },
  {
   "cell_type": "markdown",
   "metadata": {},
   "source": [
    "![](./chart_stage_sector_delta4_SS14.png)"
   ]
  },
  {
   "cell_type": "markdown",
   "metadata": {},
   "source": [
    "*This chart allows you to compare the __on stage__ performance of each driver. It displays the \"sector time\" of each driver (the time between each split point along the stage), rebased relative to car 4.*"
   ]
  },
  {
   "cell_type": "markdown",
   "metadata": {
    "slideshow": {
     "slide_type": "subslide"
    }
   },
   "source": [
    "## SS14 - stage sector time (seconds)"
   ]
  },
  {
   "cell_type": "markdown",
   "metadata": {},
   "source": [
    "<table border=\"1\" class=\"dataframe\">\n",
    "  <thead>\n",
    "    <tr style=\"text-align: right;\">\n",
    "      <th></th>\n",
    "      <th>carNo</th>\n",
    "      <th>driverName</th>\n",
    "      <th>sector_1</th>\n",
    "      <th>sector_2</th>\n",
    "      <th>sector_3</th>\n",
    "      <th>time_stageTime</th>\n",
    "    </tr>\n",
    "    <tr>\n",
    "      <th>start</th>\n",
    "      <th></th>\n",
    "      <th></th>\n",
    "      <th></th>\n",
    "      <th></th>\n",
    "      <th></th>\n",
    "      <th></th>\n",
    "    </tr>\n",
    "  </thead>\n",
    "  <tbody>\n",
    "    <tr>\n",
    "      <th>12</th>\n",
    "      <td>1</td>\n",
    "      <td>S. OGIER</td>\n",
    "      <td>00:04:53.900000</td>\n",
    "      <td>00:04:21.800000</td>\n",
    "      <td>00:04:15.300000</td>\n",
    "      <td>00:13:31</td>\n",
    "    </tr>\n",
    "    <tr>\n",
    "      <th>11</th>\n",
    "      <td>5</td>\n",
    "      <td>T. NEUVILLE</td>\n",
    "      <td>00:04:54.800000</td>\n",
    "      <td>00:04:24.700000</td>\n",
    "      <td>00:04:16</td>\n",
    "      <td>00:13:35.500000</td>\n",
    "    </tr>\n",
    "    <tr>\n",
    "      <th>5</th>\n",
    "      <td>10</td>\n",
    "      <td>J. LATVALA</td>\n",
    "      <td>00:04:54.100000</td>\n",
    "      <td>00:04:25.100000</td>\n",
    "      <td>00:04:16.800000</td>\n",
    "      <td>00:13:36</td>\n",
    "    </tr>\n",
    "    <tr>\n",
    "      <th>14</th>\n",
    "      <td>2</td>\n",
    "      <td>O. TANAK</td>\n",
    "      <td>00:04:55.700000</td>\n",
    "      <td>00:04:26.800000</td>\n",
    "      <td>00:04:14.700000</td>\n",
    "      <td>00:13:37.200000</td>\n",
    "    </tr>\n",
    "    <tr>\n",
    "      <th>7</th>\n",
    "      <td>12</td>\n",
    "      <td>E. LAPPI</td>\n",
    "      <td>00:04:57.100000</td>\n",
    "      <td>00:04:24.800000</td>\n",
    "      <td>00:04:15.400000</td>\n",
    "      <td>00:13:37.300000</td>\n",
    "    </tr>\n",
    "    <tr>\n",
    "      <th>13</th>\n",
    "      <td>6</td>\n",
    "      <td>D. SORDO</td>\n",
    "      <td>00:04:54.500000</td>\n",
    "      <td>00:04:27.700000</td>\n",
    "      <td>00:04:16.700000</td>\n",
    "      <td>00:13:38.900000</td>\n",
    "    </tr>\n",
    "    <tr>\n",
    "      <th>15</th>\n",
    "      <td>7</td>\n",
    "      <td>K. MEEKE</td>\n",
    "      <td>00:04:57.100000</td>\n",
    "      <td>00:04:26.600000</td>\n",
    "      <td>00:04:17.700000</td>\n",
    "      <td>00:13:41.400000</td>\n",
    "    </tr>\n",
    "    <tr>\n",
    "      <th>10</th>\n",
    "      <td>8</td>\n",
    "      <td>C. BREEN</td>\n",
    "      <td>00:04:56</td>\n",
    "      <td>00:04:28.500000</td>\n",
    "      <td>00:04:19</td>\n",
    "      <td>00:13:43.500000</td>\n",
    "    </tr>\n",
    "    <tr>\n",
    "      <th>6</th>\n",
    "      <td>14</td>\n",
    "      <td>M. OSTBERG</td>\n",
    "      <td>00:04:57.700000</td>\n",
    "      <td>00:04:28.600000</td>\n",
    "      <td>00:04:19.500000</td>\n",
    "      <td>00:13:45.800000</td>\n",
    "    </tr>\n",
    "    <tr>\n",
    "      <th>3</th>\n",
    "      <td>9</td>\n",
    "      <td>S. LEFEBVRE</td>\n",
    "      <td>00:04:56.500000</td>\n",
    "      <td>00:04:30.800000</td>\n",
    "      <td>00:04:21.700000</td>\n",
    "      <td>00:13:49</td>\n",
    "    </tr>\n",
    "  </tbody>\n",
    "</table>"
   ]
  },
  {
   "cell_type": "markdown",
   "metadata": {
    "slideshow": {
     "slide_type": "subslide"
    }
   },
   "source": [
    "## SS14 - stage split delta time (seconds) compared to H. PADDON"
   ]
  },
  {
   "cell_type": "markdown",
   "metadata": {},
   "source": [
    "![](./split_delta_driver4_SS14.png)"
   ]
  },
  {
   "cell_type": "markdown",
   "metadata": {},
   "source": [
    "*This chart allows you to compare the __on stage__ performance of each driver, with split times rebased relative to car 4 on stage.*"
   ]
  },
  {
   "cell_type": "markdown",
   "metadata": {
    "slideshow": {
     "slide_type": "slide"
    }
   },
   "source": [
    "## SS15 - stage sector delta time (seconds) compared to H. PADDON stage sector time"
   ]
  },
  {
   "cell_type": "markdown",
   "metadata": {},
   "source": [
    "![](./chart_stage_sector_delta4_SS15.png)"
   ]
  },
  {
   "cell_type": "markdown",
   "metadata": {},
   "source": [
    "*This chart allows you to compare the __on stage__ performance of each driver. It displays the \"sector time\" of each driver (the time between each split point along the stage), rebased relative to car 4.*"
   ]
  },
  {
   "cell_type": "markdown",
   "metadata": {
    "slideshow": {
     "slide_type": "subslide"
    }
   },
   "source": [
    "## SS15 - stage sector time (seconds)"
   ]
  },
  {
   "cell_type": "markdown",
   "metadata": {},
   "source": [
    "<table border=\"1\" class=\"dataframe\">\n",
    "  <thead>\n",
    "    <tr style=\"text-align: right;\">\n",
    "      <th></th>\n",
    "      <th>carNo</th>\n",
    "      <th>driverName</th>\n",
    "      <th>sector_1</th>\n",
    "      <th>sector_2</th>\n",
    "      <th>sector_3</th>\n",
    "      <th>sector_4</th>\n",
    "      <th>sector_5</th>\n",
    "      <th>time_stageTime</th>\n",
    "    </tr>\n",
    "    <tr>\n",
    "      <th>start</th>\n",
    "      <th></th>\n",
    "      <th></th>\n",
    "      <th></th>\n",
    "      <th></th>\n",
    "      <th></th>\n",
    "      <th></th>\n",
    "      <th></th>\n",
    "      <th></th>\n",
    "    </tr>\n",
    "  </thead>\n",
    "  <tbody>\n",
    "    <tr>\n",
    "      <th>11</th>\n",
    "      <td>5</td>\n",
    "      <td>T. NEUVILLE</td>\n",
    "      <td>00:05:05.700000</td>\n",
    "      <td>00:04:57.100000</td>\n",
    "      <td>00:05:45.600000</td>\n",
    "      <td>00:03:02.800000</td>\n",
    "      <td>00:05:42.600000</td>\n",
    "      <td>00:24:33.800000</td>\n",
    "    </tr>\n",
    "    <tr>\n",
    "      <th>12</th>\n",
    "      <td>1</td>\n",
    "      <td>S. OGIER</td>\n",
    "      <td>00:05:03.400000</td>\n",
    "      <td>00:04:57.600000</td>\n",
    "      <td>00:05:48.500000</td>\n",
    "      <td>00:03:06.500000</td>\n",
    "      <td>00:05:44</td>\n",
    "      <td>00:24:40</td>\n",
    "    </tr>\n",
    "    <tr>\n",
    "      <th>14</th>\n",
    "      <td>2</td>\n",
    "      <td>O. TANAK</td>\n",
    "      <td>00:05:02.500000</td>\n",
    "      <td>00:04:58.700000</td>\n",
    "      <td>00:05:47.500000</td>\n",
    "      <td>00:03:06.700000</td>\n",
    "      <td>00:05:48.700000</td>\n",
    "      <td>00:24:44.100000</td>\n",
    "    </tr>\n",
    "    <tr>\n",
    "      <th>5</th>\n",
    "      <td>10</td>\n",
    "      <td>J. LATVALA</td>\n",
    "      <td>00:05:05.100000</td>\n",
    "      <td>00:04:57.700000</td>\n",
    "      <td>00:05:50.100000</td>\n",
    "      <td>00:03:06</td>\n",
    "      <td>00:05:46.200000</td>\n",
    "      <td>00:24:45.100000</td>\n",
    "    </tr>\n",
    "    <tr>\n",
    "      <th>15</th>\n",
    "      <td>7</td>\n",
    "      <td>K. MEEKE</td>\n",
    "      <td>00:05:05.200000</td>\n",
    "      <td>00:05:05.200000</td>\n",
    "      <td>00:05:48.100000</td>\n",
    "      <td>00:03:06.400000</td>\n",
    "      <td>00:05:44.500000</td>\n",
    "      <td>00:24:49.400000</td>\n",
    "    </tr>\n",
    "    <tr>\n",
    "      <th>13</th>\n",
    "      <td>6</td>\n",
    "      <td>D. SORDO</td>\n",
    "      <td>00:05:07.400000</td>\n",
    "      <td>00:04:58.100000</td>\n",
    "      <td>00:05:52.100000</td>\n",
    "      <td>00:03:06.400000</td>\n",
    "      <td>00:05:51.800000</td>\n",
    "      <td>00:24:55.800000</td>\n",
    "    </tr>\n",
    "    <tr>\n",
    "      <th>8</th>\n",
    "      <td>11</td>\n",
    "      <td>J. HÄNNINEN</td>\n",
    "      <td>00:05:07</td>\n",
    "      <td>00:05:00.200000</td>\n",
    "      <td>00:05:51.100000</td>\n",
    "      <td>00:03:06.300000</td>\n",
    "      <td>00:05:51.600000</td>\n",
    "      <td>00:24:56.200000</td>\n",
    "    </tr>\n",
    "    <tr>\n",
    "      <th>9</th>\n",
    "      <td>3</td>\n",
    "      <td>E. EVANS</td>\n",
    "      <td>00:05:04.700000</td>\n",
    "      <td>00:05:04.600000</td>\n",
    "      <td>00:05:51.900000</td>\n",
    "      <td>00:03:07.200000</td>\n",
    "      <td>00:05:52.100000</td>\n",
    "      <td>00:25:00.500000</td>\n",
    "    </tr>\n",
    "    <tr>\n",
    "      <th>6</th>\n",
    "      <td>14</td>\n",
    "      <td>M. OSTBERG</td>\n",
    "      <td>00:05:07.800000</td>\n",
    "      <td>00:05:02</td>\n",
    "      <td>00:05:52.300000</td>\n",
    "      <td>00:03:10</td>\n",
    "      <td>00:05:50.900000</td>\n",
    "      <td>00:25:03</td>\n",
    "    </tr>\n",
    "    <tr>\n",
    "      <th>10</th>\n",
    "      <td>8</td>\n",
    "      <td>C. BREEN</td>\n",
    "      <td>00:05:09.600000</td>\n",
    "      <td>00:05:01.100000</td>\n",
    "      <td>00:05:47.800000</td>\n",
    "      <td>00:03:22.100000</td>\n",
    "      <td>00:05:47.700000</td>\n",
    "      <td>00:25:08.300000</td>\n",
    "    </tr>\n",
    "  </tbody>\n",
    "</table>"
   ]
  },
  {
   "cell_type": "markdown",
   "metadata": {
    "slideshow": {
     "slide_type": "subslide"
    }
   },
   "source": [
    "## SS15 - stage split delta time (seconds) compared to H. PADDON"
   ]
  },
  {
   "cell_type": "markdown",
   "metadata": {},
   "source": [
    "![](./split_delta_driver4_SS15.png)"
   ]
  },
  {
   "cell_type": "markdown",
   "metadata": {},
   "source": [
    "*This chart allows you to compare the __on stage__ performance of each driver, with split times rebased relative to car 4 on stage.*"
   ]
  }
 ],
 "metadata": {},
 "nbformat": 4,
 "nbformat_minor": 2
}
