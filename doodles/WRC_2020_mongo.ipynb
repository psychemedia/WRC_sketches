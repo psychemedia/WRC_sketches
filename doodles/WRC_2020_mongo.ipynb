{
 "cells": [
  {
   "cell_type": "markdown",
   "metadata": {},
   "source": [
    "# MondoDB\n",
    "\n",
    "Experiments loading records from WRC API directly into MongoDB."
   ]
  },
  {
   "cell_type": "code",
   "execution_count": 1,
   "metadata": {},
   "outputs": [],
   "source": [
    "from WRCUtils2020 import _isnull, _notnull, _checkattr, _jsInt, listify"
   ]
  },
  {
   "cell_type": "code",
   "execution_count": null,
   "metadata": {},
   "outputs": [],
   "source": [
    "MONGO_HOST = 'localhost'\n",
    "MONGO_PORT = 32770"
   ]
  },
  {
   "cell_type": "code",
   "execution_count": 128,
   "metadata": {},
   "outputs": [],
   "source": [
    "#%pip install pymongo\n",
    "import json\n",
    "from pymongo import MongoClient\n",
    "from pymongo.errors import ServerSelectionTimeoutError"
   ]
  },
  {
   "cell_type": "code",
   "execution_count": 134,
   "metadata": {},
   "outputs": [],
   "source": [
    "class MongoDB:\n",
    "    \"\"\"\n",
    "    Simple MongoDB utils.\n",
    "    \n",
    "    Makes use of a single (default named) db although other dbs can be used.\n",
    "    \"\"\"\n",
    "    \n",
    "    def __init__(self, host=None, port=None, dbname=None):\n",
    "        \"\"\"Initialise class for handling MongoDB connection, databases and collections.\"\"\"\n",
    "        # A connection object to a MongoDB server\n",
    "        self.mongo_conn = None\n",
    "        # Connection objects to specified MongoDB databases\n",
    "        self.mongo_dbs = {}\n",
    "        # Connection objects to specified MongoDB collections\n",
    "        self.mongo_colls = {}\n",
    "        # The dbname is used for the \"current working db\"\n",
    "        self.mongo_settings = {'host': host, 'port': port,\n",
    "                               'dbname': dbname}\n",
    "\n",
    "    def mongodb_connect(self, host=None, port=None):\n",
    "        \"\"\"Attempt to create db connection.\"\"\"\n",
    "        if host:\n",
    "            self.mongo_settings['host'] = host\n",
    "        elif not host and not self.mongo_settings['host']:\n",
    "            self.mongo_settings['host'] = 'localhost'\n",
    "        if port:\n",
    "            self.mongo_settings['port'] = port\n",
    "        elif not port and not self.mongo_settings['port']:\n",
    "            self.mongo_settings['port'] = 27017\n",
    "\n",
    "        try:\n",
    "            mc = MongoClient(host=self.mongo_settings['host'],\n",
    "                             port=self.mongo_settings['port'],\n",
    "                             serverSelectionTimeoutMS=1000)\n",
    "            mc.server_info()\n",
    "            self.mongo_conn = mc\n",
    "        except ServerSelectionTimeoutError:\n",
    "            self.mongo_conn = None\n",
    "\n",
    "    def mongodb_set_dbname(self, dbname='wrc_timing'):\n",
    "        \"\"\"Set the default database name.\"\"\"\n",
    "        self.mongo_settings['dbname'] = dbname\n",
    "        \n",
    "    def mongodb_checkconn(self, host=None, port=None):\n",
    "        \"\"\"Check existence of a MongoDB connection and try to create it otherwise.\"\"\"\n",
    "        if not _checkattr(self, 'mongo_conn'):\n",
    "            self.mongodb_connect(host, port)\n",
    "\n",
    "    def mongodb_checkdb(self, dbname=None, host=None, port=None):\n",
    "        \"\"\"Attempt to connect to a MongoDB database, creating it if required.\"\"\"\n",
    "        # TO DO: if really paranoid, we chould check the mongodb connection is live\n",
    "        self.mongo_settings['dbname'] = dbname = dbname or self.mongo_settings['dbname']\n",
    "        if not dbname:\n",
    "            # Set a default dbname\n",
    "            self.mongodb_set_dbname()\n",
    "            dbname = self.mongo_settings['dbname']\n",
    "        if dbname not in self.mongo_dbs:\n",
    "            self.mongodb_checkconn(host, port)\n",
    "            mc = self.mongo_conn\n",
    "            if mc:\n",
    "                self.mongo_dbs[dbname] = mc[dbname]\n",
    "            else:\n",
    "                self.mongo_dbs[dbname] = None\n",
    "\n",
    "    def mongodb_checkcoll(self, collection=None, dbname=None):\n",
    "        \"\"\"Check a collection exists and create it otherwise.\"\"\"\n",
    "        if not collection or (collection in self.mongo_colls and self.mongo_colls[collection] is not None):\n",
    "            return\n",
    "\n",
    "        self.mongodb_checkdb(dbname)\n",
    "        db = self.mongo_dbs[self.mongo_settings['dbname']]\n",
    "        if db:\n",
    "            self.mongo_colls[collection] = db[collection]\n",
    "        else:\n",
    "            self.mongo_colls[collection] = None\n",
    "\n",
    "    def mongodb_upsert(self, collection=None,\n",
    "                       query=None, data=None,\n",
    "                       dbname=None):\n",
    "        \"\"\"Upsert a single record to a specified collection.\"\"\"\n",
    "        self.mongodb_checkcoll(collection, dbname=dbname)\n",
    "        coll = self.mongo_colls[collection]\n",
    "        if not coll:\n",
    "            return\n",
    "\n",
    "        if not query or not isinstance(query, dict):\n",
    "            query = {}\n",
    "        if data and isinstance(data, dict):\n",
    "            if not query:\n",
    "                coll.insert_one(data)\n",
    "            else:\n",
    "                coll.updateOne(query, {\"$set\": data})\n",
    "                \n",
    "    def mongodb_find_one(self, collection, query=None, dbname=None):\n",
    "        \"\"\"Simple mongodb query.\"\"\"\n",
    "        self.mongodb_checkcoll(collection, dbname=dbname)\n",
    "        coll = self.mongo_colls[collection]\n",
    "        if not coll:\n",
    "            return\n",
    "        \n",
    "        query = query or {}\n",
    "        if query:\n",
    "            return coll.find_one(query)\n",
    "        return coll.find_one()\n",
    "    \n",
    "    def mongofy(self, collection=None, query=None, data=None, dbname=None):\n",
    "        \"\"\"If we have a database, use it.\"\"\"\n",
    "        if hasattr(self, 'mongo_conn') and self.mongo_conn is not None:\n",
    "            self.mongodb_upsert(collection=collection,\n",
    "                                query=query, data=data,\n",
    "                                dbname=dbname)\n",
    "    \n",
    "    def mongodb_list_dbs(self):\n",
    "        \"\"\"List of dbs on MongoDB connectio.\"\"\"\n",
    "        self.mongodb_checkconn()\n",
    "        conn = self.mongo_conn\n",
    "        if conn:\n",
    "            return conn.list_database_names()\n",
    "\n",
    "    def mongodb_list_colls(self, dbname=None):\n",
    "        \"\"\"List of dbs on MongoDB connectio.\"\"\"\n",
    "        self.mongodb_checkdb(dbname)\n",
    "        db = self.mongo_dbs[self.mongo_settings['dbname']]\n",
    "        if db:\n",
    "            return db.list_collection_names()\n",
    "    "
   ]
  },
  {
   "cell_type": "code",
   "execution_count": 135,
   "metadata": {
    "tags": [
     "active-ipynb"
    ]
   },
   "outputs": [
    {
     "data": {
      "text/plain": [
       "['testcoll']"
      ]
     },
     "execution_count": 135,
     "metadata": {},
     "output_type": "execute_result"
    }
   ],
   "source": [
    "mtest = MongoDB(MONGO_HOST, MONGO_PORT)\n",
    "mtest.mongodb_list_colls()"
   ]
  },
  {
   "cell_type": "code",
   "execution_count": 136,
   "metadata": {
    "tags": [
     "active-ipynb"
    ]
   },
   "outputs": [
    {
     "data": {
      "text/plain": [
       "'wrc_timing'"
      ]
     },
     "execution_count": 136,
     "metadata": {},
     "output_type": "execute_result"
    }
   ],
   "source": [
    "mtest.mongo_settings['dbname']"
   ]
  },
  {
   "cell_type": "code",
   "execution_count": 152,
   "metadata": {
    "tags": [
     "active-ipynb"
    ]
   },
   "outputs": [
    {
     "data": {
      "text/plain": [
       "['testcoll', 'season']"
      ]
     },
     "execution_count": 152,
     "metadata": {},
     "output_type": "execute_result"
    }
   ],
   "source": [
    "mtest.mongodb_upsert('season', data=json.loads(getActiveSeasonEvents(raw=True)))\n",
    "mtest.mongodb_list_colls()"
   ]
  },
  {
   "cell_type": "code",
   "execution_count": 146,
   "metadata": {
    "tags": [
     "active-ipynb"
    ]
   },
   "outputs": [
    {
     "data": {
      "text/plain": [
       "{'testcoll': Collection(Database(MongoClient(host=['localhost:32770'], document_class=dict, tz_aware=False, connect=True, serverselectiontimeoutms=1000), 'wrc_timing'), 'testcoll'),\n",
       " 'season': Collection(Database(MongoClient(host=['localhost:32770'], document_class=dict, tz_aware=False, connect=True, serverselectiontimeoutms=1000), 'wrc_timing'), 'season')}"
      ]
     },
     "execution_count": 146,
     "metadata": {},
     "output_type": "execute_result"
    }
   ],
   "source": [
    "mtest.mongo_colls"
   ]
  },
  {
   "cell_type": "code",
   "execution_count": 154,
   "metadata": {
    "tags": [
     "active-ipynb"
    ]
   },
   "outputs": [],
   "source": [
    "#mtest.mongodb_find_one('season')"
   ]
  }
 ],
 "metadata": {
  "jupytext": {
   "formats": "ipynb,py:light"
  },
  "kernelspec": {
   "display_name": "Python 3",
   "language": "python",
   "name": "python3"
  },
  "language_info": {
   "codemirror_mode": {
    "name": "ipython",
    "version": 3
   },
   "file_extension": ".py",
   "mimetype": "text/x-python",
   "name": "python",
   "nbconvert_exporter": "python",
   "pygments_lexer": "ipython3",
   "version": "3.7.6"
  }
 },
 "nbformat": 4,
 "nbformat_minor": 2
}
