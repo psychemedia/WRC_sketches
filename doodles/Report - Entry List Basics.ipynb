{
 "cells": [
  {
   "cell_type": "code",
   "execution_count": 100,
   "metadata": {},
   "outputs": [],
   "source": [
    "if __name__=='__main__':\n",
    "    import notebookimport"
   ]
  },
  {
   "cell_type": "code",
   "execution_count": 101,
   "metadata": {},
   "outputs": [],
   "source": [
    "import os\n",
    "import sqlite3\n",
    "import pandas as pd"
   ]
  },
  {
   "cell_type": "code",
   "execution_count": 102,
   "metadata": {},
   "outputs": [],
   "source": [
    "if __name__=='__main__':\n",
    "    #dbname='wrc18.db'\n",
    "    dbname='france18.db'\n",
    "    conn = sqlite3.connect(dbname)\n",
    "    rally='France'"
   ]
  },
  {
   "cell_type": "code",
   "execution_count": 103,
   "metadata": {},
   "outputs": [],
   "source": [
    "#!/Users/ajh59/anaconda3/bin/pip install tracery\n",
    "import tracery\n",
    "from tracery.modifiers import base_english\n",
    "from inflectenglish import inflect_english\n",
    "\n",
    "def pandas_row_mapper(row, rules, root,  modifiers=base_english):\n",
    "    ''' Function to parse single row of dataframe '''\n",
    "    row=row.to_dict()\n",
    "    rules=rules.copy()\n",
    "\n",
    "    for k in row:\n",
    "        rules[k] = str(row[k])\n",
    "        grammar = tracery.Grammar(rules)\n",
    "        if modifiers is not None:\n",
    "            if isinstance(modifiers,list):\n",
    "                for modifier in modifiers:\n",
    "                    grammar.add_modifiers(modifier)\n",
    "            else:\n",
    "                grammar.add_modifiers(modifiers)\n",
    "\n",
    "    return grammar.flatten(root)"
   ]
  },
  {
   "cell_type": "code",
   "execution_count": 104,
   "metadata": {},
   "outputs": [],
   "source": [
    "if __name__=='__main__':\n",
    "    q='SELECT * FROM startlists st JOIN startlist_classes sc ON sc.entryid = st.entryid'\n",
    "    dd=pd.read_sql(q,conn)\n",
    "    dd.head()"
   ]
  },
  {
   "cell_type": "code",
   "execution_count": 105,
   "metadata": {},
   "outputs": [],
   "source": [
    "if __name__=='__main__':\n",
    "    dd[dd['name']=='RC1']"
   ]
  },
  {
   "cell_type": "code",
   "execution_count": 106,
   "metadata": {},
   "outputs": [],
   "source": [
    "if __name__=='__main__':\n",
    "    dd.columns"
   ]
  },
  {
   "cell_type": "code",
   "execution_count": 107,
   "metadata": {},
   "outputs": [],
   "source": [
    "rules = {'origin': \"#driver# and #codriver# #ffo# #entrant#.\",\n",
    "         'ffo':['for the', 'from the', 'of the'],\n",
    "         'driver': \"#driverfullName# (#drivercountryiso3#)\",\n",
    "         'codriver':[ \"#codriverfullName# (#codrivercountryiso3#)\", \"co-driver #codriverfullName# (#codrivercountryiso3#)\"],\n",
    "         'car':\"#manufacturername# #vehicleModel#\",\n",
    "        'entrant':\"#entrantname#\"}"
   ]
  },
  {
   "cell_type": "code",
   "execution_count": 108,
   "metadata": {},
   "outputs": [],
   "source": [
    "dd.columns=[c.replace('.','') for c in dd.columns]\n",
    "dd['report'] = dd.apply(lambda row: pandas_row_mapper(row, rules, \"#origin#\"), axis=1)\n"
   ]
  },
  {
   "cell_type": "code",
   "execution_count": 109,
   "metadata": {},
   "outputs": [],
   "source": [
    "classes = pd.api.types.CategoricalDtype(categories = ['RC1', 'RGT', 'RC2', 'RC3', 'RC4','NRC1', 'NRC2','NRC3','NRC4'], \n",
    "                                            ordered = True)"
   ]
  },
  {
   "cell_type": "code",
   "execution_count": 110,
   "metadata": {
    "scrolled": true
   },
   "outputs": [],
   "source": [
    "basepath = 'report'\n",
    "if not os.path.exists(basepath):\n",
    "    os.makedirs(basepath)\n",
    "    \n",
    "SUMMARY ='''# Summary\n",
    "\n",
    "* [Entry List](entry_list.md)\n",
    "'''\n",
    "\n",
    "dd['name'] = dd['name'].astype(classes)\n",
    "\n",
    "grouped = dd.groupby('name')\n",
    "\n",
    "GROUP=''\n",
    "for name, group in grouped:\n",
    "    if len(group):\n",
    "        GROUP = '## Group {}:\\n'.format(name)\n",
    "        #print('Group {}:'.format(name))\n",
    "        entries=[]\n",
    "        for i,r in group.iterrows():\n",
    "            #print(r['report'])\n",
    "            entries.append('{}'.format(r['report']))\n",
    "        GROUP = '{}\\n\\n- {}'.format(GROUP,'\\n- '.join(entries))\n",
    "        \n",
    "        fn_g = 'entries_{}.md'.format(name)\n",
    "        with open('{}/{}'.format(basepath,fn_g), 'w') as out_file:\n",
    "            out_file.write(GROUP)\n",
    "        \n",
    "        SUMMARY = '{s}\\n  - [{g}]({f})'.format(s=SUMMARY,g=name, f=fn_g)\n",
    "\n",
    "with open('{}/SUMMARY.md'.format(basepath), 'w') as out_file:\n",
    "    out_file.write(SUMMARY)"
   ]
  },
  {
   "cell_type": "code",
   "execution_count": 111,
   "metadata": {},
   "outputs": [
    {
     "name": "stdout",
     "output_type": "stream",
     "text": [
      "# Summary\n",
      "\n",
      "* [Entry List](entry_list.md)\n",
      "\n",
      "  - [RC1](entries_RC1.md)\n",
      "  - [RGT](entries_RGT.md)\n",
      "  - [RC2](entries_RC2.md)\n",
      "  - [RC3](entries_RC3.md)\n",
      "  - [RC4](entries_RC4.md)\n"
     ]
    }
   ],
   "source": [
    "print(SUMMARY)"
   ]
  },
  {
   "cell_type": "code",
   "execution_count": null,
   "metadata": {},
   "outputs": [],
   "source": []
  }
 ],
 "metadata": {
  "kernelspec": {
   "display_name": "Python 3",
   "language": "python",
   "name": "python3"
  },
  "language_info": {
   "codemirror_mode": {
    "name": "ipython",
    "version": 3
   },
   "file_extension": ".py",
   "mimetype": "text/x-python",
   "name": "python",
   "nbconvert_exporter": "python",
   "pygments_lexer": "ipython3",
   "version": "3.6.4"
  }
 },
 "nbformat": 4,
 "nbformat_minor": 2
}
