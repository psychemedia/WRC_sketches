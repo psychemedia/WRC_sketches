{
 "cells": [
  {
   "cell_type": "markdown",
   "metadata": {},
   "source": [
    "# Itinerary Basics\n",
    "\n",
    "Basic report on stage itinerary - stage name, distance etc."
   ]
  },
  {
   "cell_type": "code",
   "execution_count": 1,
   "metadata": {},
   "outputs": [],
   "source": [
    "import notebookimport"
   ]
  },
  {
   "cell_type": "code",
   "execution_count": 2,
   "metadata": {},
   "outputs": [],
   "source": [
    "import os\n",
    "import sqlite3\n",
    "import pandas as pd"
   ]
  },
  {
   "cell_type": "code",
   "execution_count": null,
   "metadata": {},
   "outputs": [],
   "source": []
  },
  {
   "cell_type": "code",
   "execution_count": 14,
   "metadata": {},
   "outputs": [],
   "source": [
    "if __name__=='__main__':\n",
    "    #dbname='wrc18.db'\n",
    "    dbname='italy18.db'\n",
    "    conn = sqlite3.connect(dbname)\n",
    "    rally='Italy'\n",
    "    rebase = 'PAD'\n",
    "    rebase = ''"
   ]
  },
  {
   "cell_type": "code",
   "execution_count": 4,
   "metadata": {},
   "outputs": [],
   "source": [
    "#!/Users/ajh59/anaconda3/bin/pip install tracery\n",
    "import tracery\n",
    "from tracery.modifiers import base_english\n",
    "from inflectenglish import inflect_english\n",
    "from pytracery_logic import pytracery_logic\n",
    "\n",
    "def pandas_row_mapper(row, rules, root,  modifiers=base_english):\n",
    "    ''' Function to parse single row of dataframe '''\n",
    "    row=row.to_dict()\n",
    "    rules=rules.copy()\n",
    "\n",
    "    for k in row:\n",
    "        rules[k] = str(row[k])\n",
    "        grammar = tracery.Grammar(rules)\n",
    "        if modifiers is not None:\n",
    "            if isinstance(modifiers,list):\n",
    "                for modifier in modifiers:\n",
    "                    grammar.add_modifiers(modifier)\n",
    "            else:\n",
    "                grammar.add_modifiers(modifiers)\n",
    "\n",
    "    return grammar.flatten(root)\n",
    "\n",
    "def traceryparse(rules, root, modifiers=base_english):\n",
    "    grammar = tracery.Grammar(rules)\n",
    "    if modifiers is not None:\n",
    "        if isinstance(modifiers,list):\n",
    "            for modifier in modifiers:\n",
    "                grammar.add_modifiers(modifier)\n",
    "        else:\n",
    "            grammar.add_modifiers(modifiers)\n",
    "    \n",
    "    return grammar.flatten(root)\n",
    "    "
   ]
  },
  {
   "cell_type": "markdown",
   "metadata": {},
   "source": [
    "## Rally Summary"
   ]
  },
  {
   "cell_type": "code",
   "execution_count": 5,
   "metadata": {},
   "outputs": [],
   "source": [
    "def dbGetRallySummary(rally):\n",
    "    q='''\n",
    "    SELECT o.*, t.totalDistance FROM (SELECT ce.`country.name`, ce.startDate, ce.finishDate, ce.name, ce.`country.iso3`, ce.surfaces,\n",
    "    COUNT(*) numOfStages, SUM(itc.distance) AS compDistanceKm\n",
    "    FROM itinerary_controls itc\n",
    "    JOIN championship_events ce ON itc.eventId=ce.eventId\n",
    "    WHERE ce.`country.name`=\"{rally}\" AND type='StageStart') AS o\n",
    "    JOIN (SELECT ce.`country.name`, SUM(itc.distance) totalDistance FROM itinerary_controls itc\n",
    "    JOIN championship_events ce ON itc.eventId=ce.eventId\n",
    "    WHERE ce.`country.name`=\"{rally}\") AS t ON o.`country.name` = t.`country.name`\n",
    "    '''.format(rally=rally)\n",
    "    \n",
    "    rallydetails = pd.read_sql(q,conn)\n",
    "    \n",
    "    return rallydetails"
   ]
  },
  {
   "cell_type": "code",
   "execution_count": 15,
   "metadata": {},
   "outputs": [
    {
     "data": {
      "text/html": [
       "<div>\n",
       "<style scoped>\n",
       "    .dataframe tbody tr th:only-of-type {\n",
       "        vertical-align: middle;\n",
       "    }\n",
       "\n",
       "    .dataframe tbody tr th {\n",
       "        vertical-align: top;\n",
       "    }\n",
       "\n",
       "    .dataframe thead th {\n",
       "        text-align: right;\n",
       "    }\n",
       "</style>\n",
       "<table border=\"1\" class=\"dataframe\">\n",
       "  <thead>\n",
       "    <tr style=\"text-align: right;\">\n",
       "      <th></th>\n",
       "      <th>country.name</th>\n",
       "      <th>startDate</th>\n",
       "      <th>finishDate</th>\n",
       "      <th>name</th>\n",
       "      <th>country.iso3</th>\n",
       "      <th>surfaces</th>\n",
       "      <th>numOfStages</th>\n",
       "      <th>compDistanceKm</th>\n",
       "      <th>totalDistance</th>\n",
       "    </tr>\n",
       "  </thead>\n",
       "  <tbody>\n",
       "    <tr>\n",
       "      <th>0</th>\n",
       "      <td>Italy</td>\n",
       "      <td>2018-06-07</td>\n",
       "      <td>2018-06-10</td>\n",
       "      <td>Rally Italia Sardegna</td>\n",
       "      <td>ITA</td>\n",
       "      <td>Gravel</td>\n",
       "      <td>20</td>\n",
       "      <td>314.36</td>\n",
       "      <td>1388.03</td>\n",
       "    </tr>\n",
       "  </tbody>\n",
       "</table>\n",
       "</div>"
      ],
      "text/plain": [
       "  country.name   startDate  finishDate                   name country.iso3  \\\n",
       "0        Italy  2018-06-07  2018-06-10  Rally Italia Sardegna          ITA   \n",
       "\n",
       "  surfaces  numOfStages  compDistanceKm  totalDistance  \n",
       "0   Gravel           20          314.36        1388.03  "
      ]
     },
     "execution_count": 15,
     "metadata": {},
     "output_type": "execute_result"
    }
   ],
   "source": [
    "rs = dbGetRallySummary(rally)\n",
    "rs"
   ]
  },
  {
   "cell_type": "code",
   "execution_count": null,
   "metadata": {},
   "outputs": [],
   "source": [
    "rs.dtypes"
   ]
  },
  {
   "cell_type": "code",
   "execution_count": null,
   "metadata": {},
   "outputs": [],
   "source": [
    "rules = {'origin': \"#name# (#startDate# to #finishDate#) #stages#. #dist#. #surface#.\",\n",
    "         'stages': \"runs over #numOfStages# competitive special stages\",\n",
    "         'dist': \"The distance covered on the special stages is #compDistanceKm.round#km, with an overall rally distance of #totalDistance.round#km\",\n",
    "         'surface':\"The special stage surface type is predominantly #surfaces#\",\n",
    "        }"
   ]
  },
  {
   "cell_type": "code",
   "execution_count": null,
   "metadata": {},
   "outputs": [],
   "source": [
    "rs['report'] = rs.apply(lambda row: pandas_row_mapper(row, rules, \"#origin#\",[base_english,inflect_english, pytracery_logic]), axis=1)"
   ]
  },
  {
   "cell_type": "code",
   "execution_count": null,
   "metadata": {},
   "outputs": [],
   "source": [
    "rs[rs['country.name']==rally]['report'].iloc[0]"
   ]
  },
  {
   "cell_type": "code",
   "execution_count": null,
   "metadata": {},
   "outputs": [],
   "source": [
    "basepath = 'report'\n",
    "if not os.path.exists(basepath):\n",
    "    os.makedirs(basepath)"
   ]
  },
  {
   "cell_type": "code",
   "execution_count": null,
   "metadata": {},
   "outputs": [],
   "source": [
    "README='''# Rally Report - {}\n",
    "\n",
    "*This report is unofficial and is not associated in any way with the Fédération Internationale de l’Automobile (FIA) or WRC Promoter GmbH.*\n",
    "\n",
    "\n",
    "{}\n",
    "'''.format(rally, rs[rs['country.name']==rally]['report'].iloc[0])\n",
    "\n",
    "with open('{}/README.md'.format(basepath), 'w') as out_file:\n",
    "    out_file.write(README)"
   ]
  },
  {
   "cell_type": "code",
   "execution_count": null,
   "metadata": {},
   "outputs": [],
   "source": [
    "import inflect\n",
    "p=inflect.engine()"
   ]
  },
  {
   "cell_type": "code",
   "execution_count": null,
   "metadata": {},
   "outputs": [],
   "source": [
    "rs['startDate']=pd.to_datetime(rs['startDate'])\n",
    "rs['startDate'].loc[0].strftime(\"%A %d,  %B %Y\")"
   ]
  },
  {
   "cell_type": "code",
   "execution_count": null,
   "metadata": {},
   "outputs": [],
   "source": [
    "p.number_to_words(p.ordinal((int(rs['startDate'].loc[0].strftime(\"%d\")))))"
   ]
  },
  {
   "cell_type": "markdown",
   "metadata": {},
   "source": [
    "## Itinerary Items"
   ]
  },
  {
   "cell_type": "code",
   "execution_count": null,
   "metadata": {},
   "outputs": [],
   "source": [
    "def dbGetTimeControls(rally):\n",
    "\n",
    "    q='''\n",
    "    SELECT il.name AS date, itc.*, ce.timeZoneOffset,\n",
    "         isc.itinerarySectionId, isc.name AS section, isc.`order`\n",
    "    FROM itinerary_controls itc\n",
    "    JOIN championship_events ce ON itc.eventId=ce.eventId\n",
    "    JOIN itinerary_sections isc ON itc.`itinerarySections.itinerarySectionId`=isc.itinerarySectionId\n",
    "    JOIN itinerary_legs il ON isc.itineraryLegId=il.itineraryLegId\n",
    "    WHERE ce.`country.name`=\"{rally}\" AND firstCarDueDateTimeLocal NOT NULL ORDER BY firstCarDueDateTimeLocal \n",
    "    '''.format(rally=rally)\n",
    "    time_controls = pd.read_sql(q,conn)\n",
    "    time_controls['firstCarDueDateTimeLocal']=pd.to_datetime(time_controls['firstCarDueDateTimeLocal'])\n",
    "    return time_controls"
   ]
  },
  {
   "cell_type": "code",
   "execution_count": null,
   "metadata": {},
   "outputs": [],
   "source": [
    "q='''\n",
    "    SELECT *\n",
    "    FROM itinerary_controls itc\n",
    "    JOIN championship_events ce ON itc.eventId=ce.eventId\n",
    "    JOIN itinerary_sections isc ON itc.`itinerarySections.itinerarySectionId`=isc.itinerarySectionId\n",
    "    JOIN itinerary_legs il ON isc.itineraryLegId=il.itineraryLegId\n",
    "    WHERE ce.`country.name`=\"{rally}\" AND firstCarDueDateTimeLocal NOT NULL ORDER BY firstCarDueDateTimeLocal \n",
    "    '''.format(rally=rally)\n",
    "xx =pd.read_sql(q,conn)\n",
    "xx.columns"
   ]
  },
  {
   "cell_type": "code",
   "execution_count": null,
   "metadata": {},
   "outputs": [],
   "source": [
    "xx.head()"
   ]
  },
  {
   "cell_type": "code",
   "execution_count": null,
   "metadata": {},
   "outputs": [],
   "source": [
    "import datetime\n",
    "t=datetime.time(abs(int(360/60)), 360 % 60)\n",
    "dt = datetime.datetime.combine(datetime.date.today(), t)\n",
    "dt.isoformat()"
   ]
  },
  {
   "cell_type": "code",
   "execution_count": null,
   "metadata": {},
   "outputs": [],
   "source": [
    "t = datetime.datetime.combine(datetime.date.today(),datetime.time(0))\n",
    "(t  + datetime.timedelta( minutes=-359)).isoformat()"
   ]
  },
  {
   "cell_type": "code",
   "execution_count": null,
   "metadata": {},
   "outputs": [],
   "source": [
    "xx[:2][['timeZoneId','timeZoneOffset']]"
   ]
  },
  {
   "cell_type": "code",
   "execution_count": null,
   "metadata": {},
   "outputs": [],
   "source": [
    "if __name__=='__main__':\n",
    "    time_controls = dbGetTimeControls(rally)\n",
    "    display(time_controls.head())"
   ]
  },
  {
   "cell_type": "code",
   "execution_count": null,
   "metadata": {},
   "outputs": [],
   "source": [
    "#Check datetime type\n",
    "time_controls['firstCarDueDateTime'] = pd.to_datetime(time_controls['firstCarDueDateTime'])"
   ]
  },
  {
   "cell_type": "code",
   "execution_count": null,
   "metadata": {},
   "outputs": [],
   "source": [
    "import datetime\n",
    "\n",
    "def newtime(row):\n",
    "    t=datetime.timedelta( minutes=row['timeZoneOffset'])\n",
    "    return row['firstCarDueDateTime']+ t\n",
    "\n",
    "time_controls['mylocaltime'] = time_controls.apply(lambda row: newtime(row),axis=1)"
   ]
  },
  {
   "cell_type": "code",
   "execution_count": null,
   "metadata": {},
   "outputs": [],
   "source": [
    "rules = {'origin': \"#mylocaltime.pdtime(%H:%M:%S)# #code# #location# #distance.isNotNull(post=km).brackets# \\[#targetDuration#\\]\",\n",
    "        }"
   ]
  },
  {
   "cell_type": "code",
   "execution_count": null,
   "metadata": {
    "scrolled": false
   },
   "outputs": [],
   "source": [
    "dategroups = time_controls.groupby('date',sort=False)\n",
    "for key in dategroups.groups.keys():\n",
    "    print('---\\n\\n{}:\\n'.format(key))\n",
    "    grouped2=dategroups.get_group(key).groupby('section',sort=False)\n",
    "    for key2 in grouped2.groups.keys():\n",
    "        g2 = grouped2.get_group(key2)\n",
    "        l=len(g2[g2['code'].str.startswith('SS')])\n",
    "        print('{} - {} special {}\\n'.format(key2,p.number_to_words(l),p.plural_noun('stage',l)))\n",
    "        for r in grouped2.get_group(key2).apply(lambda row: pandas_row_mapper(row, rules, \"#origin#\",[base_english,inflect_english]), axis=1):\n",
    "            print('\\t{}'.format(r))\n",
    "        print('\\n')"
   ]
  },
  {
   "cell_type": "code",
   "execution_count": null,
   "metadata": {
    "scrolled": false
   },
   "outputs": [],
   "source": [
    "\n",
    "\n",
    "def initStageReports(rebase='overall'):\n",
    "    \n",
    "    sectionREADME_base = '''### {section} Report\n",
    "    '''\n",
    "\n",
    "    SUMMARY ='\\n'\n",
    "    \n",
    "    rules['stages'] = \"#code# - #location# #distance.isNotNull(post=km).brackets#\"\n",
    "\n",
    "    dn = '' if not rebase or 'overall' in rebase else '_'+rebase\n",
    "  \n",
    "    sections = time_controls.groupby('section',sort=False)\n",
    "    keyorder = [k for k in time_controls.sort_values('order')['section'].unique() if k in sections.groups.keys()]\n",
    "    for key in keyorder:\n",
    "\n",
    "        sectionfn = '{bp}/{key}_report{dn}.md'.format(bp=basepath,key=key, dn=dn)\n",
    "\n",
    "        with open(sectionfn, 'w') as out_file:\n",
    "            out_file.write('')\n",
    "\n",
    "        sectionControls = sections.get_group(key)\n",
    "        sstages = sectionControls[sectionControls['code'].str.startswith('SS')]\n",
    "        l=len(sstages)\n",
    "        title = '# {}, {}\\n\\nThis section comprises {} special {}'.format(key,sectionControls['date'].iloc[0], p.number_to_words(l),p.plural_noun('stage',l))\n",
    "        sectionREADME = '''{title}'''.format( title=title)\n",
    "\n",
    "        sstage=[]\n",
    "        for r in sstages.apply(lambda row: pandas_row_mapper(row, rules, \"#stages#\",[base_english,inflect_english]), axis=1):\n",
    "            sstage.append(r)\n",
    "        sectionREADME = '{} ({})'.format(sectionREADME,', '.join(sstage))\n",
    "\n",
    "\n",
    "        sectionREADME = '''{s}\\n\\nThe full scheduled itinerary for the section was as follows:\\n'''.format(s=sectionREADME,)\n",
    "\n",
    "        controls = []\n",
    "        for r in sectionControls.apply(lambda row: pandas_row_mapper(row, rules, \"#origin#\",[base_english,inflect_english]), axis=1):\n",
    "            controls.append(r)\n",
    "        sectionREADME = '{}\\n\\t- {}\\n'.format(sectionREADME, '\\n\\t- '.join(controls))\n",
    "\n",
    "        print(sectionREADME,'\\n------\\n')\n",
    "        with open(sectionfn, 'a') as out_file:\n",
    "            out_file.write(sectionREADME)\n",
    "\n",
    "        #Add section\n",
    "        SUMMARY = '{summary}\\n* [{key}]({key}_report{dn}.md)\\n'.format(summary=SUMMARY, key=key,dn=dn)\n",
    "\n",
    "        sstageDict = sstages.set_index('code').to_dict(orient='index')\n",
    "        #Add special stages\n",
    "        for s in sstageDict: #[Section 2](Section 2_report.md)\n",
    "            SUMMARY = '{summary}  - [{s} - {n}]({s}_report{dn}.md)\\n'.format(summary=SUMMARY,\n",
    "                                                                              s=s, \n",
    "                                                                              n=sstageDict[s]['location'],\n",
    "                                                                              dn=dn)\n",
    "\n",
    "    with open('{}/SUMMARY{}.md'.format(basepath,dn), 'a') as out_file:\n",
    "        out_file.write(SUMMARY)\n",
    "\n",
    "initStageReports(rebase)\n",
    "#initStageReports()"
   ]
  },
  {
   "cell_type": "code",
   "execution_count": null,
   "metadata": {},
   "outputs": [],
   "source": [
    "sstages['date']"
   ]
  },
  {
   "cell_type": "code",
   "execution_count": null,
   "metadata": {},
   "outputs": [],
   "source": [
    "sstages.set_index('code').to_dict(orient='index')"
   ]
  },
  {
   "cell_type": "code",
   "execution_count": null,
   "metadata": {},
   "outputs": [],
   "source": [
    "print(SUMMARY)"
   ]
  },
  {
   "cell_type": "code",
   "execution_count": null,
   "metadata": {},
   "outputs": [],
   "source": [
    "!head -n100 \"report/Section 3_report.md\""
   ]
  },
  {
   "cell_type": "code",
   "execution_count": null,
   "metadata": {},
   "outputs": [],
   "source": [
    "sectionControls['code']"
   ]
  },
  {
   "cell_type": "code",
   "execution_count": null,
   "metadata": {},
   "outputs": [],
   "source": [
    "sectionControls#[sectionControls['code']]"
   ]
  },
  {
   "cell_type": "code",
   "execution_count": null,
   "metadata": {},
   "outputs": [],
   "source": [
    "l"
   ]
  },
  {
   "cell_type": "code",
   "execution_count": null,
   "metadata": {},
   "outputs": [],
   "source": []
  }
 ],
 "metadata": {
  "kernelspec": {
   "display_name": "Python 3",
   "language": "python",
   "name": "python3"
  },
  "language_info": {
   "codemirror_mode": {
    "name": "ipython",
    "version": 3
   },
   "file_extension": ".py",
   "mimetype": "text/x-python",
   "name": "python",
   "nbconvert_exporter": "python",
   "pygments_lexer": "ipython3",
   "version": "3.6.4"
  }
 },
 "nbformat": 4,
 "nbformat_minor": 2
}
