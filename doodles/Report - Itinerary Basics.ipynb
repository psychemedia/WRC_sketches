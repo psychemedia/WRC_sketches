{
 "cells": [
  {
   "cell_type": "markdown",
   "metadata": {},
   "source": [
    "# Itinerary Basics\n",
    "\n",
    "Basic report on stage itinerary - stage name, distance etc."
   ]
  },
  {
   "cell_type": "code",
   "execution_count": 1,
   "metadata": {},
   "outputs": [],
   "source": [
    "import notebookimport"
   ]
  },
  {
   "cell_type": "code",
   "execution_count": 2,
   "metadata": {},
   "outputs": [],
   "source": [
    "import os\n",
    "import sqlite3\n",
    "import pandas as pd"
   ]
  },
  {
   "cell_type": "code",
   "execution_count": 3,
   "metadata": {},
   "outputs": [],
   "source": [
    "if __name__=='__main__':\n",
    "    #dbname='wrc18.db'\n",
    "    dbname='mexico18.db'\n",
    "    conn = sqlite3.connect(dbname)\n",
    "    rally='Mexico'"
   ]
  },
  {
   "cell_type": "code",
   "execution_count": 4,
   "metadata": {},
   "outputs": [],
   "source": [
    "#!/Users/ajh59/anaconda3/bin/pip install tracery\n",
    "import tracery\n",
    "from tracery.modifiers import base_english\n",
    "from inflectenglish import inflect_english\n",
    "from pytracery_logic import pytracery_logic\n",
    "\n",
    "def pandas_row_mapper(row, rules, root,  modifiers=base_english):\n",
    "    ''' Function to parse single row of dataframe '''\n",
    "    row=row.to_dict()\n",
    "    rules=rules.copy()\n",
    "\n",
    "    for k in row:\n",
    "        rules[k] = str(row[k])\n",
    "        grammar = tracery.Grammar(rules)\n",
    "        if modifiers is not None:\n",
    "            if isinstance(modifiers,list):\n",
    "                for modifier in modifiers:\n",
    "                    grammar.add_modifiers(modifier)\n",
    "            else:\n",
    "                grammar.add_modifiers(modifiers)\n",
    "\n",
    "    return grammar.flatten(root)\n",
    "\n",
    "def traceryparse(rules, root, modifiers=base_english):\n",
    "    grammar = tracery.Grammar(rules)\n",
    "    if modifiers is not None:\n",
    "        if isinstance(modifiers,list):\n",
    "            for modifier in modifiers:\n",
    "                grammar.add_modifiers(modifier)\n",
    "        else:\n",
    "            grammar.add_modifiers(modifiers)\n",
    "    \n",
    "    return grammar.flatten(root)\n",
    "    "
   ]
  },
  {
   "cell_type": "markdown",
   "metadata": {},
   "source": [
    "## Rally Summary"
   ]
  },
  {
   "cell_type": "code",
   "execution_count": 5,
   "metadata": {},
   "outputs": [],
   "source": [
    "def dbGetRallySummary(rally):\n",
    "    q='''\n",
    "    SELECT o.*, t.totalDistance FROM (SELECT ce.`country.name`, ce.startDate, ce.finishDate, ce.name, ce.`country.iso3`, ce.surfaces,\n",
    "    COUNT(*) numOfStages, SUM(itc.distance) AS compDistanceKm\n",
    "    FROM itinerary_controls itc\n",
    "    JOIN championship_events ce ON itc.eventId=ce.eventId\n",
    "    WHERE ce.`country.name`=\"{rally}\" AND type='StageStart') AS o\n",
    "    JOIN (SELECT ce.`country.name`, SUM(itc.distance) totalDistance FROM itinerary_controls itc\n",
    "    JOIN championship_events ce ON itc.eventId=ce.eventId\n",
    "    WHERE ce.`country.name`=\"{rally}\") AS t ON o.`country.name` = t.`country.name`\n",
    "    '''.format(rally=rally)\n",
    "    \n",
    "    rallydetails = pd.read_sql(q,conn)\n",
    "    \n",
    "    return rallydetails"
   ]
  },
  {
   "cell_type": "code",
   "execution_count": 6,
   "metadata": {},
   "outputs": [
    {
     "data": {
      "text/html": [
       "<div>\n",
       "<style scoped>\n",
       "    .dataframe tbody tr th:only-of-type {\n",
       "        vertical-align: middle;\n",
       "    }\n",
       "\n",
       "    .dataframe tbody tr th {\n",
       "        vertical-align: top;\n",
       "    }\n",
       "\n",
       "    .dataframe thead th {\n",
       "        text-align: right;\n",
       "    }\n",
       "</style>\n",
       "<table border=\"1\" class=\"dataframe\">\n",
       "  <thead>\n",
       "    <tr style=\"text-align: right;\">\n",
       "      <th></th>\n",
       "      <th>country.name</th>\n",
       "      <th>startDate</th>\n",
       "      <th>finishDate</th>\n",
       "      <th>name</th>\n",
       "      <th>country.iso3</th>\n",
       "      <th>surfaces</th>\n",
       "      <th>numOfStages</th>\n",
       "      <th>compDistanceKm</th>\n",
       "      <th>totalDistance</th>\n",
       "    </tr>\n",
       "  </thead>\n",
       "  <tbody>\n",
       "    <tr>\n",
       "      <th>0</th>\n",
       "      <td>Mexico</td>\n",
       "      <td>2018-03-08</td>\n",
       "      <td>2018-03-11</td>\n",
       "      <td>Rally Guanajuato México</td>\n",
       "      <td>MEX</td>\n",
       "      <td>Gravel</td>\n",
       "      <td>22</td>\n",
       "      <td>344.49</td>\n",
       "      <td>1055.88</td>\n",
       "    </tr>\n",
       "  </tbody>\n",
       "</table>\n",
       "</div>"
      ],
      "text/plain": [
       "  country.name   startDate  finishDate                     name country.iso3  \\\n",
       "0       Mexico  2018-03-08  2018-03-11  Rally Guanajuato México          MEX   \n",
       "\n",
       "  surfaces  numOfStages  compDistanceKm  totalDistance  \n",
       "0   Gravel           22          344.49        1055.88  "
      ]
     },
     "execution_count": 6,
     "metadata": {},
     "output_type": "execute_result"
    }
   ],
   "source": [
    "rs = dbGetRallySummary(rally)\n",
    "rs"
   ]
  },
  {
   "cell_type": "code",
   "execution_count": 7,
   "metadata": {},
   "outputs": [
    {
     "data": {
      "text/plain": [
       "country.name       object\n",
       "startDate          object\n",
       "finishDate         object\n",
       "name               object\n",
       "country.iso3       object\n",
       "surfaces           object\n",
       "numOfStages         int64\n",
       "compDistanceKm    float64\n",
       "totalDistance     float64\n",
       "dtype: object"
      ]
     },
     "execution_count": 7,
     "metadata": {},
     "output_type": "execute_result"
    }
   ],
   "source": [
    "rs.dtypes"
   ]
  },
  {
   "cell_type": "code",
   "execution_count": 8,
   "metadata": {},
   "outputs": [],
   "source": [
    "rules = {'origin': \"#name# (#startDate# to #finishDate#) #stages#. #dist#. #surface#.\",\n",
    "         'stages': \"runs over #numOfStages# competitive special stages\",\n",
    "         'dist': \"The distance covered on the special stages is #compDistanceKm.round#km, with an overall rally distance of #totalDistance.round#km\",\n",
    "         'surface':\"The special stage surface type is predominantly #surfaces#\",\n",
    "        }"
   ]
  },
  {
   "cell_type": "code",
   "execution_count": 9,
   "metadata": {},
   "outputs": [],
   "source": [
    "rs['report'] = rs.apply(lambda row: pandas_row_mapper(row, rules, \"#origin#\",[base_english,inflect_english, pytracery_logic]), axis=1)"
   ]
  },
  {
   "cell_type": "code",
   "execution_count": 10,
   "metadata": {},
   "outputs": [
    {
     "data": {
      "text/plain": [
       "'Rally Guanajuato México (2018-03-08 to 2018-03-11) runs over 22 competitive special stages. The distance covered on the special stages is 344.49km, with an overall rally distance of 1055.88km. The special stage surface type is predominantly Gravel.'"
      ]
     },
     "execution_count": 10,
     "metadata": {},
     "output_type": "execute_result"
    }
   ],
   "source": [
    "rs[rs['country.name']==rally]['report'].iloc[0]"
   ]
  },
  {
   "cell_type": "code",
   "execution_count": 11,
   "metadata": {},
   "outputs": [],
   "source": [
    "basepath = 'report'\n",
    "if not os.path.exists(basepath):\n",
    "    os.makedirs(basepath)"
   ]
  },
  {
   "cell_type": "code",
   "execution_count": 12,
   "metadata": {},
   "outputs": [],
   "source": [
    "README='''# Rally Report - {}\n",
    "\n",
    "*This report is unofficial and is not associated in any way with the Fédération Internationale de l’Automobile (FIA) or WRC Promoter GmbH.*\n",
    "\n",
    "\n",
    "{}\n",
    "'''.format(rally, rs[rs['country.name']==rally]['report'].iloc[0])\n",
    "\n",
    "with open('{}/README.md'.format(basepath), 'a') as out_file:\n",
    "    out_file.write(README)"
   ]
  },
  {
   "cell_type": "code",
   "execution_count": 13,
   "metadata": {},
   "outputs": [],
   "source": [
    "import inflect\n",
    "p=inflect.engine()"
   ]
  },
  {
   "cell_type": "code",
   "execution_count": 14,
   "metadata": {},
   "outputs": [
    {
     "data": {
      "text/plain": [
       "'Thursday 08,  March 2018'"
      ]
     },
     "execution_count": 14,
     "metadata": {},
     "output_type": "execute_result"
    }
   ],
   "source": [
    "rs['startDate']=pd.to_datetime(rs['startDate'])\n",
    "rs['startDate'].loc[0].strftime(\"%A %d,  %B %Y\")"
   ]
  },
  {
   "cell_type": "code",
   "execution_count": 15,
   "metadata": {},
   "outputs": [
    {
     "data": {
      "text/plain": [
       "'eighth'"
      ]
     },
     "execution_count": 15,
     "metadata": {},
     "output_type": "execute_result"
    }
   ],
   "source": [
    "p.number_to_words(p.ordinal((int(rs['startDate'].loc[0].strftime(\"%d\")))))"
   ]
  },
  {
   "cell_type": "markdown",
   "metadata": {},
   "source": [
    "## Itinerary Items"
   ]
  },
  {
   "cell_type": "code",
   "execution_count": 16,
   "metadata": {},
   "outputs": [],
   "source": [
    "def dbGetTimeControls(rally):\n",
    "\n",
    "    q='''\n",
    "    SELECT il.name AS date, itc.*, ce.timeZoneOffset,\n",
    "         isc.itinerarySectionId, isc.name AS section, isc.`order`\n",
    "    FROM itinerary_controls itc\n",
    "    JOIN championship_events ce ON itc.eventId=ce.eventId\n",
    "    JOIN itinerary_sections isc ON itc.`itinerarySections.itinerarySectionId`=isc.itinerarySectionId\n",
    "    JOIN itinerary_legs il ON isc.itineraryLegId=il.itineraryLegId\n",
    "    WHERE ce.`country.name`=\"{rally}\" AND firstCarDueDateTimeLocal NOT NULL ORDER BY firstCarDueDateTimeLocal \n",
    "    '''.format(rally=rally)\n",
    "    time_controls = pd.read_sql(q,conn)\n",
    "    time_controls['firstCarDueDateTimeLocal']=pd.to_datetime(time_controls['firstCarDueDateTimeLocal'])\n",
    "    return time_controls"
   ]
  },
  {
   "cell_type": "code",
   "execution_count": 17,
   "metadata": {},
   "outputs": [
    {
     "data": {
      "text/plain": [
       "Index(['code', 'controlId', 'controlPenalties', 'distance', 'eventId',\n",
       "       'firstCarDueDateTime', 'firstCarDueDateTimeLocal', 'location',\n",
       "       'stageId', 'status', 'targetDuration', 'targetDurationMs',\n",
       "       'timingPrecision', 'type', 'itineraryLegId',\n",
       "       'itinerarySections.itinerarySectionId', 'categories',\n",
       "       'clerkOfTheCourse', 'country.countryId', 'country.iso2', 'country.iso3',\n",
       "       'country.name', 'countryId', 'eventId', 'finishDate', 'location',\n",
       "       'mode', 'name', 'organiserUrl', 'slug', 'startDate', 'stewards',\n",
       "       'surfaces', 'templateFilename', 'timeZoneId', 'timeZoneName',\n",
       "       'timeZoneOffset', 'trackingEventId', 'itineraryLegId',\n",
       "       'itinerarySectionId', 'name', 'order', 'itineraryId', 'itineraryLegId',\n",
       "       'legDate', 'name', 'order', 'startListId', 'status'],\n",
       "      dtype='object')"
      ]
     },
     "execution_count": 17,
     "metadata": {},
     "output_type": "execute_result"
    }
   ],
   "source": [
    "q='''\n",
    "    SELECT *\n",
    "    FROM itinerary_controls itc\n",
    "    JOIN championship_events ce ON itc.eventId=ce.eventId\n",
    "    JOIN itinerary_sections isc ON itc.`itinerarySections.itinerarySectionId`=isc.itinerarySectionId\n",
    "    JOIN itinerary_legs il ON isc.itineraryLegId=il.itineraryLegId\n",
    "    WHERE ce.`country.name`=\"{rally}\" AND firstCarDueDateTimeLocal NOT NULL ORDER BY firstCarDueDateTimeLocal \n",
    "    '''.format(rally=rally)\n",
    "xx =pd.read_sql(q,conn)\n",
    "xx.columns"
   ]
  },
  {
   "cell_type": "code",
   "execution_count": 18,
   "metadata": {},
   "outputs": [
    {
     "data": {
      "text/plain": [
       "'2018-03-26T06:00:00'"
      ]
     },
     "execution_count": 18,
     "metadata": {},
     "output_type": "execute_result"
    }
   ],
   "source": [
    "import datetime\n",
    "t=datetime.time(abs(int(360/60)), 360 % 60)\n",
    "dt = datetime.datetime.combine(datetime.date.today(), t)\n",
    "dt.isoformat()"
   ]
  },
  {
   "cell_type": "code",
   "execution_count": 19,
   "metadata": {},
   "outputs": [
    {
     "data": {
      "text/plain": [
       "'2018-03-25T18:01:00'"
      ]
     },
     "execution_count": 19,
     "metadata": {},
     "output_type": "execute_result"
    }
   ],
   "source": [
    "t = datetime.datetime.combine(datetime.date.today(),datetime.time(0))\n",
    "(t  + datetime.timedelta( minutes=-359)).isoformat()"
   ]
  },
  {
   "cell_type": "code",
   "execution_count": 20,
   "metadata": {},
   "outputs": [
    {
     "data": {
      "text/html": [
       "<div>\n",
       "<style scoped>\n",
       "    .dataframe tbody tr th:only-of-type {\n",
       "        vertical-align: middle;\n",
       "    }\n",
       "\n",
       "    .dataframe tbody tr th {\n",
       "        vertical-align: top;\n",
       "    }\n",
       "\n",
       "    .dataframe thead th {\n",
       "        text-align: right;\n",
       "    }\n",
       "</style>\n",
       "<table border=\"1\" class=\"dataframe\">\n",
       "  <thead>\n",
       "    <tr style=\"text-align: right;\">\n",
       "      <th></th>\n",
       "      <th>timeZoneId</th>\n",
       "      <th>timeZoneOffset</th>\n",
       "    </tr>\n",
       "  </thead>\n",
       "  <tbody>\n",
       "    <tr>\n",
       "      <th>0</th>\n",
       "      <td>Central Standard Time (Mexico)</td>\n",
       "      <td>-360</td>\n",
       "    </tr>\n",
       "    <tr>\n",
       "      <th>1</th>\n",
       "      <td>Central Standard Time (Mexico)</td>\n",
       "      <td>-360</td>\n",
       "    </tr>\n",
       "  </tbody>\n",
       "</table>\n",
       "</div>"
      ],
      "text/plain": [
       "                       timeZoneId  timeZoneOffset\n",
       "0  Central Standard Time (Mexico)            -360\n",
       "1  Central Standard Time (Mexico)            -360"
      ]
     },
     "execution_count": 20,
     "metadata": {},
     "output_type": "execute_result"
    }
   ],
   "source": [
    "xx[:2][['timeZoneId','timeZoneOffset']]"
   ]
  },
  {
   "cell_type": "code",
   "execution_count": 21,
   "metadata": {},
   "outputs": [
    {
     "data": {
      "text/html": [
       "<div>\n",
       "<style scoped>\n",
       "    .dataframe tbody tr th:only-of-type {\n",
       "        vertical-align: middle;\n",
       "    }\n",
       "\n",
       "    .dataframe tbody tr th {\n",
       "        vertical-align: top;\n",
       "    }\n",
       "\n",
       "    .dataframe thead th {\n",
       "        text-align: right;\n",
       "    }\n",
       "</style>\n",
       "<table border=\"1\" class=\"dataframe\">\n",
       "  <thead>\n",
       "    <tr style=\"text-align: right;\">\n",
       "      <th></th>\n",
       "      <th>date</th>\n",
       "      <th>code</th>\n",
       "      <th>controlId</th>\n",
       "      <th>controlPenalties</th>\n",
       "      <th>distance</th>\n",
       "      <th>eventId</th>\n",
       "      <th>firstCarDueDateTime</th>\n",
       "      <th>firstCarDueDateTimeLocal</th>\n",
       "      <th>location</th>\n",
       "      <th>stageId</th>\n",
       "      <th>...</th>\n",
       "      <th>targetDuration</th>\n",
       "      <th>targetDurationMs</th>\n",
       "      <th>timingPrecision</th>\n",
       "      <th>type</th>\n",
       "      <th>itineraryLegId</th>\n",
       "      <th>itinerarySections.itinerarySectionId</th>\n",
       "      <th>timeZoneOffset</th>\n",
       "      <th>itinerarySectionId</th>\n",
       "      <th>section</th>\n",
       "      <th>order</th>\n",
       "    </tr>\n",
       "  </thead>\n",
       "  <tbody>\n",
       "    <tr>\n",
       "      <th>0</th>\n",
       "      <td>Thursday 8 March</td>\n",
       "      <td>TC0</td>\n",
       "      <td>1453</td>\n",
       "      <td>All</td>\n",
       "      <td>NaN</td>\n",
       "      <td>28</td>\n",
       "      <td>2018-03-09T00:15:00</td>\n",
       "      <td>2018-03-09 00:15:00</td>\n",
       "      <td>Rally Campus Leon</td>\n",
       "      <td>-1</td>\n",
       "      <td>...</td>\n",
       "      <td>00:00:00</td>\n",
       "      <td>0</td>\n",
       "      <td>Minute</td>\n",
       "      <td>TimeControl</td>\n",
       "      <td>60</td>\n",
       "      <td>134</td>\n",
       "      <td>-360</td>\n",
       "      <td>134</td>\n",
       "      <td>Section 1</td>\n",
       "      <td>1</td>\n",
       "    </tr>\n",
       "    <tr>\n",
       "      <th>1</th>\n",
       "      <td>Thursday 8 March</td>\n",
       "      <td>TC0A</td>\n",
       "      <td>1452</td>\n",
       "      <td>All</td>\n",
       "      <td>34.57</td>\n",
       "      <td>28</td>\n",
       "      <td>2018-03-09T01:05:00</td>\n",
       "      <td>2018-03-09 01:05:00</td>\n",
       "      <td>Silao Square IN</td>\n",
       "      <td>-1</td>\n",
       "      <td>...</td>\n",
       "      <td>00:50:00</td>\n",
       "      <td>3000000</td>\n",
       "      <td>Minute</td>\n",
       "      <td>TimeControl</td>\n",
       "      <td>60</td>\n",
       "      <td>134</td>\n",
       "      <td>-360</td>\n",
       "      <td>134</td>\n",
       "      <td>Section 1</td>\n",
       "      <td>1</td>\n",
       "    </tr>\n",
       "    <tr>\n",
       "      <th>2</th>\n",
       "      <td>Thursday 8 March</td>\n",
       "      <td>TC0B</td>\n",
       "      <td>1451</td>\n",
       "      <td>All</td>\n",
       "      <td>0.19</td>\n",
       "      <td>28</td>\n",
       "      <td>2018-03-09T01:20:00</td>\n",
       "      <td>2018-03-09 01:20:00</td>\n",
       "      <td>Silao Square OUT</td>\n",
       "      <td>-1</td>\n",
       "      <td>...</td>\n",
       "      <td>00:15:00</td>\n",
       "      <td>900000</td>\n",
       "      <td>Minute</td>\n",
       "      <td>TimeControl</td>\n",
       "      <td>60</td>\n",
       "      <td>134</td>\n",
       "      <td>-360</td>\n",
       "      <td>134</td>\n",
       "      <td>Section 1</td>\n",
       "      <td>1</td>\n",
       "    </tr>\n",
       "    <tr>\n",
       "      <th>3</th>\n",
       "      <td>Thursday 8 March</td>\n",
       "      <td>TC1</td>\n",
       "      <td>1509</td>\n",
       "      <td>All</td>\n",
       "      <td>23.00</td>\n",
       "      <td>28</td>\n",
       "      <td>2018-03-09T02:00:00</td>\n",
       "      <td>2018-03-09 02:00:00</td>\n",
       "      <td>Teatro Juarez</td>\n",
       "      <td>378</td>\n",
       "      <td>...</td>\n",
       "      <td>00:40:00</td>\n",
       "      <td>2400000</td>\n",
       "      <td>Minute</td>\n",
       "      <td>TimeControl</td>\n",
       "      <td>60</td>\n",
       "      <td>134</td>\n",
       "      <td>-360</td>\n",
       "      <td>134</td>\n",
       "      <td>Section 1</td>\n",
       "      <td>1</td>\n",
       "    </tr>\n",
       "    <tr>\n",
       "      <th>4</th>\n",
       "      <td>Thursday 8 March</td>\n",
       "      <td>SS1</td>\n",
       "      <td>1515</td>\n",
       "      <td>All</td>\n",
       "      <td>2.53</td>\n",
       "      <td>28</td>\n",
       "      <td>2018-03-09T02:08:00</td>\n",
       "      <td>2018-03-09 02:08:00</td>\n",
       "      <td>Monster Street Stage GTO</td>\n",
       "      <td>378</td>\n",
       "      <td>...</td>\n",
       "      <td>00:08:00</td>\n",
       "      <td>480000</td>\n",
       "      <td>Minute</td>\n",
       "      <td>StageStart</td>\n",
       "      <td>60</td>\n",
       "      <td>134</td>\n",
       "      <td>-360</td>\n",
       "      <td>134</td>\n",
       "      <td>Section 1</td>\n",
       "      <td>1</td>\n",
       "    </tr>\n",
       "  </tbody>\n",
       "</table>\n",
       "<p>5 rows × 21 columns</p>\n",
       "</div>"
      ],
      "text/plain": [
       "               date  code  controlId controlPenalties  distance  eventId  \\\n",
       "0  Thursday 8 March   TC0       1453              All       NaN       28   \n",
       "1  Thursday 8 March  TC0A       1452              All     34.57       28   \n",
       "2  Thursday 8 March  TC0B       1451              All      0.19       28   \n",
       "3  Thursday 8 March   TC1       1509              All     23.00       28   \n",
       "4  Thursday 8 March   SS1       1515              All      2.53       28   \n",
       "\n",
       "   firstCarDueDateTime firstCarDueDateTimeLocal                  location  \\\n",
       "0  2018-03-09T00:15:00      2018-03-09 00:15:00         Rally Campus Leon   \n",
       "1  2018-03-09T01:05:00      2018-03-09 01:05:00           Silao Square IN   \n",
       "2  2018-03-09T01:20:00      2018-03-09 01:20:00          Silao Square OUT   \n",
       "3  2018-03-09T02:00:00      2018-03-09 02:00:00             Teatro Juarez   \n",
       "4  2018-03-09T02:08:00      2018-03-09 02:08:00  Monster Street Stage GTO   \n",
       "\n",
       "   stageId  ...  targetDuration targetDurationMs  timingPrecision  \\\n",
       "0       -1  ...        00:00:00                0           Minute   \n",
       "1       -1  ...        00:50:00          3000000           Minute   \n",
       "2       -1  ...        00:15:00           900000           Minute   \n",
       "3      378  ...        00:40:00          2400000           Minute   \n",
       "4      378  ...        00:08:00           480000           Minute   \n",
       "\n",
       "          type itineraryLegId  itinerarySections.itinerarySectionId  \\\n",
       "0  TimeControl             60                                   134   \n",
       "1  TimeControl             60                                   134   \n",
       "2  TimeControl             60                                   134   \n",
       "3  TimeControl             60                                   134   \n",
       "4   StageStart             60                                   134   \n",
       "\n",
       "   timeZoneOffset  itinerarySectionId    section order  \n",
       "0            -360                 134  Section 1     1  \n",
       "1            -360                 134  Section 1     1  \n",
       "2            -360                 134  Section 1     1  \n",
       "3            -360                 134  Section 1     1  \n",
       "4            -360                 134  Section 1     1  \n",
       "\n",
       "[5 rows x 21 columns]"
      ]
     },
     "metadata": {},
     "output_type": "display_data"
    }
   ],
   "source": [
    "if __name__=='__main__':\n",
    "    time_controls = dbGetTimeControls(rally)\n",
    "    display(time_controls.head())"
   ]
  },
  {
   "cell_type": "code",
   "execution_count": 22,
   "metadata": {},
   "outputs": [],
   "source": [
    "#Check datetime type\n",
    "time_controls['firstCarDueDateTime'] = pd.to_datetime(time_controls['firstCarDueDateTime'])"
   ]
  },
  {
   "cell_type": "code",
   "execution_count": 23,
   "metadata": {},
   "outputs": [],
   "source": [
    "import datetime\n",
    "\n",
    "def newtime(row):\n",
    "    t=datetime.timedelta( minutes=row['timeZoneOffset'])\n",
    "    return row['firstCarDueDateTime']+ t\n",
    "\n",
    "time_controls['mylocaltime'] = time_controls.apply(lambda row: newtime(row),axis=1)"
   ]
  },
  {
   "cell_type": "code",
   "execution_count": 24,
   "metadata": {},
   "outputs": [],
   "source": [
    "rules = {'origin': \"#mylocaltime.pdtime(%H:%M:%S)# #code# #location# #distance.isNotNull(post=km).brackets# \\[#targetDuration#\\]\",\n",
    "        }"
   ]
  },
  {
   "cell_type": "code",
   "execution_count": 25,
   "metadata": {
    "scrolled": false
   },
   "outputs": [
    {
     "name": "stdout",
     "output_type": "stream",
     "text": [
      "---\n",
      "\n",
      "Thursday 8 March:\n",
      "\n",
      "Section 1 - one special stage\n",
      "\n",
      "\t18:15:00 TC0 Rally Campus Leon  [00:00:00]\n",
      "\t19:05:00 TC0A Silao Square IN (34.57km) [00:50:00]\n",
      "\t19:20:00 TC0B Silao Square OUT (0.19km) [00:15:00]\n",
      "\t20:00:00 TC1 Teatro Juarez (23.0km) [00:40:00]\n",
      "\t20:08:00 SS1 Monster Street Stage GTO (2.53km) [00:08:00]\n",
      "\t21:38:00 TC1A Overnight Regroup IN (55.27km) [01:30:00]\n",
      "\n",
      "\n",
      "---\n",
      "\n",
      "Friday 9 March:\n",
      "\n",
      "Section 2 - four special stages\n",
      "\n",
      "\t09:30:00 TC1B Overnight Regroup OUT-Service A IN  [00:00:00]\n",
      "\t09:45:00 TC1C Service  A OUT  [00:15:00]\n",
      "\t10:30:00 TC2 Las Coloradas (30.08km) [00:45:00]\n",
      "\t10:33:00 SS2 Duarte - Derramadero 1 (26.05km) [00:03:00]\n",
      "\t11:18:00 TC3 Cuestecita (11.69km) [00:45:00]\n",
      "\t11:21:00 SS3 El Chocolate 1 (31.44km) [00:03:00]\n",
      "\t12:11:00 TC4 El Zorrillo (7.33km) [00:50:00]\n",
      "\t12:14:00 SS4 Ortega 1 (17.23km) [00:03:00]\n",
      "\t13:59:00 TC5 Rally Campus Leon (65.09km) [01:45:00]\n",
      "\t14:02:00 SS5 Street Stage Leon 1 (1.11km) [00:03:00]\n",
      "\t14:22:00 TC5A Technical Zone IN-Regroup IN (1.05km) [00:20:00]\n",
      "\n",
      "\n",
      "Section 3 - five special stages\n",
      "\n",
      "\t14:42:00 TC5B Regroup OUT-Service B IN  [00:20:00]\n",
      "\t15:12:00 TC5C Service B OUT  [00:30:00]\n",
      "\t15:57:00 TC6 Las Coloradas (30.08km) [00:45:00]\n",
      "\t16:00:00 SS6 Duarte - Derramadero 2 (26.05km) [00:03:00]\n",
      "\t16:45:00 TC7 Cuestecita (11.69km) [00:45:00]\n",
      "\t16:48:00 SS7 El Chocolate 2 (31.44km) [00:03:00]\n",
      "\t17:38:00 TC8 El Zorrillo (7.33km) [00:50:00]\n",
      "\t17:41:00 SS8 Ortega 2 (17.23km) [00:03:00]\n",
      "\t19:26:00 TC8A LFZ IN (53.96km) [01:45:00]\n",
      "\t19:41:00 TC8B LFZ OUT  [00:15:00]\n",
      "\t19:46:00 TC9 Autodromo de Leon (1.22km) [00:05:00]\n",
      "\t20:06:00 SS9 Autodromo de Leon 1 (2.3km) [00:20:00]\n",
      "\t20:11:00 SS10 Autodromo de Leon 2 (2.3km) [00:05:00]\n",
      "\t21:26:00 TC10A Technical Zone IN-Parc Ferme IN (14.92km) [01:15:00]\n",
      "\t00:00:00 TC10C Flexi Service C OUT-Parc Ferme IN  [02:34:00]\n",
      "\n",
      "\n",
      "---\n",
      "\n",
      "Saturday 10 March:\n",
      "\n",
      "Section 4 - three special stages\n",
      "\n",
      "\t07:30:00 TC10D Overnight Regroup OUT-Service D IN  [00:00:00]\n",
      "\t07:45:00 TC10E Service D OUT  [00:15:00]\n",
      "\t08:30:00 TC11 Guanajuatito (27.43km) [00:45:00]\n",
      "\t08:33:00 SS11 Guanajuatito 1 (30.97km) [00:03:00]\n",
      "\t10:08:00 TC12 Sauz Seco (29.45km) [01:35:00]\n",
      "\t10:11:00 SS12 Otates 1 (26.37km) [00:03:00]\n",
      "\t10:51:00 TC13 La Estancia (8.33km) [00:40:00]\n",
      "\t11:08:00 SS13 El Brinco 1 (9.98km) [00:17:00]\n",
      "\t12:28:00 TC13A Technical Zone IN-Regroup IN (31.83km) [01:20:00]\n",
      "\n",
      "\n",
      "Section 5 - six special stages\n",
      "\n",
      "\t12:48:00 TC13B Regroup OUT-Service E IN  [00:20:00]\n",
      "\t13:18:00 TC13C Service E OUT  [00:30:00]\n",
      "\t14:18:00 TC14 Guanajuatito (27.43km) [01:00:00]\n",
      "\t14:21:00 SS14 Guanajuatito 2 (30.97km) [00:03:00]\n",
      "\t16:11:00 TC15 Sauz Seco (29.45km) [01:50:00]\n",
      "\t16:14:00 SS15 Otates 2 (26.37km) [00:03:00]\n",
      "\t16:49:00 TC16 La Estancia (8.33km) [00:35:00]\n",
      "\t16:58:00 SS16 El Brinco 2 (9.98km) [00:09:00]\n",
      "\t17:38:00 TC17 Autodromo de Leon (21.88km) [00:40:00]\n",
      "\t17:58:00 SS17 Autodromo de Leon 3 (2.3km) [00:20:00]\n",
      "\t18:03:00 SS18 Autodromo de Leon 4 (2.3km) [00:05:00]\n",
      "\t18:53:00 TC18A Technical Zone IN-Parc Ferme IN (14.92km) [00:50:00]\n",
      "\t20:38:00 TC18D Parc Ferme OUT  [01:45:00]\n",
      "\t20:43:00 TC19 Rally Campus Leon (0.1km) [00:05:00]\n",
      "\t20:46:00 SS19 Street Stage Leon 2 (1.11km) [00:03:00]\n",
      "\t20:56:00 TC19A Overnight Regroup IN (1.05km) [00:10:00]\n",
      "\n",
      "\n",
      "---\n",
      "\n",
      "Sunday 11 March:\n",
      "\n",
      "Section 6 - two special stages\n",
      "\n",
      "\t07:15:00 TC19B Overnight Regroup OUT-Service G IN  [00:00:00]\n",
      "\t07:30:00 TC19C Service G OUT  [00:15:00]\n",
      "\t08:15:00 TC20 Sauz Seco (21.03km) [00:45:00]\n",
      "\t08:18:00 SS20 Alfaro (24.32km) [00:03:00]\n",
      "\t10:05:00 TC21 San Nicolas (71.88km) [01:47:00]\n",
      "\t10:08:00 SS21 Las Minas (11.07km) [00:03:00]\n",
      "\t10:23:00 TC21A Guanajuato Regroup IN-Technical Zone IN (0.35km) [00:15:00]\n",
      "\n",
      "\n",
      "Section 7 - one special stage\n",
      "\n",
      "\t11:43:00 TC21B Guanajuato Regroup OUT  [01:20:00]\n",
      "\t12:15:00 TC22 San Nicolas (13.44km) [00:32:00]\n",
      "\t12:18:00 SS22 Las Minas Power Stage (11.07km) [00:03:00]\n",
      "\t13:48:00 TC22A Technical Zone IN (57.02km) [01:30:00]\n",
      "\t13:53:00 TC22B Technical Zone OUT-Service H IN  [00:05:00]\n",
      "\t14:03:00 TC22C Service H OUT-Finish Area IN  [00:10:00]\n",
      "\n",
      "\n"
     ]
    }
   ],
   "source": [
    "dategroups = time_controls.groupby('date',sort=False)\n",
    "for key in dategroups.groups.keys():\n",
    "    print('---\\n\\n{}:\\n'.format(key))\n",
    "    grouped2=dategroups.get_group(key).groupby('section',sort=False)\n",
    "    for key2 in grouped2.groups.keys():\n",
    "        g2 = grouped2.get_group(key2)\n",
    "        l=len(g2[g2['code'].str.startswith('SS')])\n",
    "        print('{} - {} special {}\\n'.format(key2,p.number_to_words(l),p.plural_noun('stage',l)))\n",
    "        for r in grouped2.get_group(key2).apply(lambda row: pandas_row_mapper(row, rules, \"#origin#\",[base_english,inflect_english]), axis=1):\n",
    "            print('\\t{}'.format(r))\n",
    "        print('\\n')"
   ]
  },
  {
   "cell_type": "code",
   "execution_count": 26,
   "metadata": {
    "scrolled": false
   },
   "outputs": [
    {
     "name": "stdout",
     "output_type": "stream",
     "text": [
      "# Section 1, Thursday 8 March\n",
      "\n",
      "This section comprises one special stage (SS1 - Monster Street Stage GTO (2.53km))\n",
      "\n",
      "The full scheduled itinerary for the section was as follows:\n",
      "\n",
      "\t- 18:15:00 TC0 Rally Campus Leon  [00:00:00]\n",
      "\t- 19:05:00 TC0A Silao Square IN (34.57km) [00:50:00]\n",
      "\t- 19:20:00 TC0B Silao Square OUT (0.19km) [00:15:00]\n",
      "\t- 20:00:00 TC1 Teatro Juarez (23.0km) [00:40:00]\n",
      "\t- 20:08:00 SS1 Monster Street Stage GTO (2.53km) [00:08:00]\n",
      "\t- 21:38:00 TC1A Overnight Regroup IN (55.27km) [01:30:00]\n",
      " \n",
      "------\n",
      "\n",
      "# Section 2, Friday 9 March\n",
      "\n",
      "This section comprises four special stages (SS2 - Duarte - Derramadero 1 (26.05km), SS3 - El Chocolate 1 (31.44km), SS4 - Ortega 1 (17.23km), SS5 - Street Stage Leon 1 (1.11km))\n",
      "\n",
      "The full scheduled itinerary for the section was as follows:\n",
      "\n",
      "\t- 09:30:00 TC1B Overnight Regroup OUT-Service A IN  [00:00:00]\n",
      "\t- 09:45:00 TC1C Service  A OUT  [00:15:00]\n",
      "\t- 10:30:00 TC2 Las Coloradas (30.08km) [00:45:00]\n",
      "\t- 10:33:00 SS2 Duarte - Derramadero 1 (26.05km) [00:03:00]\n",
      "\t- 11:18:00 TC3 Cuestecita (11.69km) [00:45:00]\n",
      "\t- 11:21:00 SS3 El Chocolate 1 (31.44km) [00:03:00]\n",
      "\t- 12:11:00 TC4 El Zorrillo (7.33km) [00:50:00]\n",
      "\t- 12:14:00 SS4 Ortega 1 (17.23km) [00:03:00]\n",
      "\t- 13:59:00 TC5 Rally Campus Leon (65.09km) [01:45:00]\n",
      "\t- 14:02:00 SS5 Street Stage Leon 1 (1.11km) [00:03:00]\n",
      "\t- 14:22:00 TC5A Technical Zone IN-Regroup IN (1.05km) [00:20:00]\n",
      " \n",
      "------\n",
      "\n",
      "# Section 3, Friday 9 March\n",
      "\n",
      "This section comprises five special stages (SS6 - Duarte - Derramadero 2 (26.05km), SS7 - El Chocolate 2 (31.44km), SS8 - Ortega 2 (17.23km), SS9 - Autodromo de Leon 1 (2.3km), SS10 - Autodromo de Leon 2 (2.3km))\n",
      "\n",
      "The full scheduled itinerary for the section was as follows:\n",
      "\n",
      "\t- 14:42:00 TC5B Regroup OUT-Service B IN  [00:20:00]\n",
      "\t- 15:12:00 TC5C Service B OUT  [00:30:00]\n",
      "\t- 15:57:00 TC6 Las Coloradas (30.08km) [00:45:00]\n",
      "\t- 16:00:00 SS6 Duarte - Derramadero 2 (26.05km) [00:03:00]\n",
      "\t- 16:45:00 TC7 Cuestecita (11.69km) [00:45:00]\n",
      "\t- 16:48:00 SS7 El Chocolate 2 (31.44km) [00:03:00]\n",
      "\t- 17:38:00 TC8 El Zorrillo (7.33km) [00:50:00]\n",
      "\t- 17:41:00 SS8 Ortega 2 (17.23km) [00:03:00]\n",
      "\t- 19:26:00 TC8A LFZ IN (53.96km) [01:45:00]\n",
      "\t- 19:41:00 TC8B LFZ OUT  [00:15:00]\n",
      "\t- 19:46:00 TC9 Autodromo de Leon (1.22km) [00:05:00]\n",
      "\t- 20:06:00 SS9 Autodromo de Leon 1 (2.3km) [00:20:00]\n",
      "\t- 20:11:00 SS10 Autodromo de Leon 2 (2.3km) [00:05:00]\n",
      "\t- 21:26:00 TC10A Technical Zone IN-Parc Ferme IN (14.92km) [01:15:00]\n",
      "\t- 00:00:00 TC10C Flexi Service C OUT-Parc Ferme IN  [02:34:00]\n",
      " \n",
      "------\n",
      "\n",
      "# Section 4, Saturday 10 March\n",
      "\n",
      "This section comprises three special stages (SS11 - Guanajuatito 1 (30.97km), SS12 - Otates 1 (26.37km), SS13 - El Brinco 1 (9.98km))\n",
      "\n",
      "The full scheduled itinerary for the section was as follows:\n",
      "\n",
      "\t- 07:30:00 TC10D Overnight Regroup OUT-Service D IN  [00:00:00]\n",
      "\t- 07:45:00 TC10E Service D OUT  [00:15:00]\n",
      "\t- 08:30:00 TC11 Guanajuatito (27.43km) [00:45:00]\n",
      "\t- 08:33:00 SS11 Guanajuatito 1 (30.97km) [00:03:00]\n",
      "\t- 10:08:00 TC12 Sauz Seco (29.45km) [01:35:00]\n",
      "\t- 10:11:00 SS12 Otates 1 (26.37km) [00:03:00]\n",
      "\t- 10:51:00 TC13 La Estancia (8.33km) [00:40:00]\n",
      "\t- 11:08:00 SS13 El Brinco 1 (9.98km) [00:17:00]\n",
      "\t- 12:28:00 TC13A Technical Zone IN-Regroup IN (31.83km) [01:20:00]\n",
      " \n",
      "------\n",
      "\n",
      "# Section 5, Saturday 10 March\n",
      "\n",
      "This section comprises six special stages (SS14 - Guanajuatito 2 (30.97km), SS15 - Otates 2 (26.37km), SS16 - El Brinco 2 (9.98km), SS17 - Autodromo de Leon 3 (2.3km), SS18 - Autodromo de Leon 4 (2.3km), SS19 - Street Stage Leon 2 (1.11km))\n",
      "\n",
      "The full scheduled itinerary for the section was as follows:\n",
      "\n",
      "\t- 12:48:00 TC13B Regroup OUT-Service E IN  [00:20:00]\n",
      "\t- 13:18:00 TC13C Service E OUT  [00:30:00]\n",
      "\t- 14:18:00 TC14 Guanajuatito (27.43km) [01:00:00]\n",
      "\t- 14:21:00 SS14 Guanajuatito 2 (30.97km) [00:03:00]\n",
      "\t- 16:11:00 TC15 Sauz Seco (29.45km) [01:50:00]\n",
      "\t- 16:14:00 SS15 Otates 2 (26.37km) [00:03:00]\n",
      "\t- 16:49:00 TC16 La Estancia (8.33km) [00:35:00]\n",
      "\t- 16:58:00 SS16 El Brinco 2 (9.98km) [00:09:00]\n",
      "\t- 17:38:00 TC17 Autodromo de Leon (21.88km) [00:40:00]\n",
      "\t- 17:58:00 SS17 Autodromo de Leon 3 (2.3km) [00:20:00]\n",
      "\t- 18:03:00 SS18 Autodromo de Leon 4 (2.3km) [00:05:00]\n",
      "\t- 18:53:00 TC18A Technical Zone IN-Parc Ferme IN (14.92km) [00:50:00]\n",
      "\t- 20:38:00 TC18D Parc Ferme OUT  [01:45:00]\n",
      "\t- 20:43:00 TC19 Rally Campus Leon (0.1km) [00:05:00]\n",
      "\t- 20:46:00 SS19 Street Stage Leon 2 (1.11km) [00:03:00]\n",
      "\t- 20:56:00 TC19A Overnight Regroup IN (1.05km) [00:10:00]\n",
      " \n",
      "------\n",
      "\n",
      "# Section 6, Sunday 11 March\n",
      "\n",
      "This section comprises two special stages (SS20 - Alfaro (24.32km), SS21 - Las Minas (11.07km))\n",
      "\n",
      "The full scheduled itinerary for the section was as follows:\n",
      "\n",
      "\t- 07:15:00 TC19B Overnight Regroup OUT-Service G IN  [00:00:00]\n",
      "\t- 07:30:00 TC19C Service G OUT  [00:15:00]\n",
      "\t- 08:15:00 TC20 Sauz Seco (21.03km) [00:45:00]\n",
      "\t- 08:18:00 SS20 Alfaro (24.32km) [00:03:00]\n",
      "\t- 10:05:00 TC21 San Nicolas (71.88km) [01:47:00]\n",
      "\t- 10:08:00 SS21 Las Minas (11.07km) [00:03:00]\n",
      "\t- 10:23:00 TC21A Guanajuato Regroup IN-Technical Zone IN (0.35km) [00:15:00]\n",
      " \n",
      "------\n",
      "\n",
      "# Section 7, Sunday 11 March\n",
      "\n",
      "This section comprises one special stage (SS22 - Las Minas Power Stage (11.07km))\n",
      "\n",
      "The full scheduled itinerary for the section was as follows:\n",
      "\n",
      "\t- 11:43:00 TC21B Guanajuato Regroup OUT  [01:20:00]\n",
      "\t- 12:15:00 TC22 San Nicolas (13.44km) [00:32:00]\n",
      "\t- 12:18:00 SS22 Las Minas Power Stage (11.07km) [00:03:00]\n",
      "\t- 13:48:00 TC22A Technical Zone IN (57.02km) [01:30:00]\n",
      "\t- 13:53:00 TC22B Technical Zone OUT-Service H IN  [00:05:00]\n",
      "\t- 14:03:00 TC22C Service H OUT-Finish Area IN  [00:10:00]\n",
      " \n",
      "------\n",
      "\n"
     ]
    }
   ],
   "source": [
    "sectionREADME_base = '''### {section} Report\n",
    "'''\n",
    "\n",
    "SUMMARY ='\\n'\n",
    "\n",
    "rules['stages'] = \"#code# - #location# #distance.isNotNull(post=km).brackets#\"\n",
    "\n",
    "sections = time_controls.groupby('section',sort=False)\n",
    "for key in sections.groups.keys():\n",
    "    \n",
    "    sectionfn = '{bp}/{key}_report.md'.format(bp=basepath,key=key)\n",
    "    \n",
    "    with open(sectionfn, 'w') as out_file:\n",
    "        out_file.write('')\n",
    "        \n",
    "    sectionControls = sections.get_group(key)\n",
    "    sstages = sectionControls[sectionControls['code'].str.startswith('SS')]\n",
    "    l=len(sstages)\n",
    "    title = '# {}, {}\\n\\nThis section comprises {} special {}'.format(key,sectionControls['date'].iloc[0], p.number_to_words(l),p.plural_noun('stage',l))\n",
    "    sectionREADME = '''{title}'''.format( title=title)\n",
    "    \n",
    "    sstage=[]\n",
    "    for r in sstages.apply(lambda row: pandas_row_mapper(row, rules, \"#stages#\",[base_english,inflect_english]), axis=1):\n",
    "        sstage.append(r)\n",
    "    sectionREADME = '{} ({})'.format(sectionREADME,', '.join(sstage))\n",
    "\n",
    "    \n",
    "    sectionREADME = '''{s}\\n\\nThe full scheduled itinerary for the section was as follows:\\n'''.format(s=sectionREADME,)\n",
    "    \n",
    "    controls = []\n",
    "    for r in sectionControls.apply(lambda row: pandas_row_mapper(row, rules, \"#origin#\",[base_english,inflect_english]), axis=1):\n",
    "        controls.append(r)\n",
    "    sectionREADME = '{}\\n\\t- {}\\n'.format(sectionREADME, '\\n\\t- '.join(controls))\n",
    "      \n",
    "    print(sectionREADME,'\\n------\\n')\n",
    "    with open(sectionfn, 'a') as out_file:\n",
    "        out_file.write(sectionREADME)\n",
    "        \n",
    "    #Add section\n",
    "    SUMMARY = '{summary}\\n* [{key}]({key}_report.md)\\n'.format(summary=SUMMARY, key=key)\n",
    "    \n",
    "    sstageDict = sstages.set_index('code').to_dict(orient='index')\n",
    "    #Add special stages\n",
    "    for s in sstageDict: #[Section 2](Section 2_report.md)\n",
    "        SUMMARY = '{summary}  - [{s} - {n}]({s}_report.md)\\n'.format(summary=SUMMARY,s=s, n=sstageDict[s]['location'])\n",
    "    \n",
    "with open('{}/SUMMARY.md'.format(basepath), 'a') as out_file:\n",
    "    out_file.write(SUMMARY)\n"
   ]
  },
  {
   "cell_type": "code",
   "execution_count": 27,
   "metadata": {},
   "outputs": [
    {
     "ename": "SyntaxError",
     "evalue": "invalid syntax (<ipython-input-27-fab559f70820>, line 1)",
     "output_type": "error",
     "traceback": [
      "\u001b[0;36m  File \u001b[0;32m\"<ipython-input-27-fab559f70820>\"\u001b[0;36m, line \u001b[0;32m1\u001b[0m\n\u001b[0;31m    sstages.set_index('code').to_dict(orient='index')[]\u001b[0m\n\u001b[0m                                                      ^\u001b[0m\n\u001b[0;31mSyntaxError\u001b[0m\u001b[0;31m:\u001b[0m invalid syntax\n"
     ]
    }
   ],
   "source": [
    "sstages.set_index('code').to_dict(orient='index')[]"
   ]
  },
  {
   "cell_type": "code",
   "execution_count": null,
   "metadata": {},
   "outputs": [],
   "source": [
    "print(SUMMARY)"
   ]
  },
  {
   "cell_type": "code",
   "execution_count": null,
   "metadata": {},
   "outputs": [],
   "source": [
    "!head -n100 \"report/Section 3_report.md\""
   ]
  },
  {
   "cell_type": "code",
   "execution_count": null,
   "metadata": {},
   "outputs": [],
   "source": []
  },
  {
   "cell_type": "code",
   "execution_count": null,
   "metadata": {},
   "outputs": [],
   "source": []
  }
 ],
 "metadata": {
  "kernelspec": {
   "display_name": "Python 3",
   "language": "python",
   "name": "python3"
  },
  "language_info": {
   "codemirror_mode": {
    "name": "ipython",
    "version": 3
   },
   "file_extension": ".py",
   "mimetype": "text/x-python",
   "name": "python",
   "nbconvert_exporter": "python",
   "pygments_lexer": "ipython3",
   "version": "3.6.4"
  }
 },
 "nbformat": 4,
 "nbformat_minor": 2
}
