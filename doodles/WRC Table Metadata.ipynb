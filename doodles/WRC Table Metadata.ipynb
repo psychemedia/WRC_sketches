{
 "cells": [
  {
   "cell_type": "markdown",
   "metadata": {},
   "source": [
    "# WRC Table Metadata\n",
    "\n",
    "Define lookups that describe what each column in each table is.\n",
    "\n",
    "Also allow look-up of other tables using same column:\n",
    "\n",
    "- in same sense;\n",
    "- in a different sense.\n",
    "\n",
    "Ideally, each column name would have the same unique sense, but as they donlt (eg ` position`?) we need to be able to qualify and distinguish between them?\n",
    "\n"
   ]
  },
  {
   "cell_type": "code",
   "execution_count": null,
   "metadata": {},
   "outputs": [],
   "source": []
  }
 ],
 "metadata": {
  "kernelspec": {
   "display_name": "Python 3",
   "language": "python",
   "name": "python3"
  },
  "language_info": {
   "codemirror_mode": {
    "name": "ipython",
    "version": 3
   },
   "file_extension": ".py",
   "mimetype": "text/x-python",
   "name": "python",
   "nbconvert_exporter": "python",
   "pygments_lexer": "ipython3",
   "version": "3.7.0"
  }
 },
 "nbformat": 4,
 "nbformat_minor": 2
}
