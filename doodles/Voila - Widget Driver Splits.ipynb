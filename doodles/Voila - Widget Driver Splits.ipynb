{
 "cells": [
  {
   "cell_type": "code",
   "execution_count": 1,
   "metadata": {},
   "outputs": [],
   "source": [
    "%%capture\n",
    "import notebookimport\n",
    "\n",
    "ds= __import__(\"Report - Driver Splits\")"
   ]
  },
  {
   "cell_type": "code",
   "execution_count": 2,
   "metadata": {},
   "outputs": [],
   "source": [
    "import sqlite3\n",
    "from IPython.display import HTML\n",
    "import pandas as pd\n",
    "\n",
    "#Set near zero display to zero\n",
    "#Doesn't have any effect?\n",
    "pd.set_option('display.chop_threshold', 0.001)\n",
    "\n",
    "dbname='testdata/finland19a.db'\n",
    "conn = sqlite3.connect(dbname)\n",
    "rally='Finland'\n",
    "rc='RC1'\n",
    "YEAR = year=2019"
   ]
  },
  {
   "cell_type": "code",
   "execution_count": 3,
   "metadata": {},
   "outputs": [],
   "source": [
    "q_drivers='SELECT `driver.code` AS code  FROM startlists st JOIN startlist_classes sc ON sc.entryid = st.entryid AND name=\"{}\"'\n",
    "\n",
    "q_classes='SELECT DISTINCT(name) AS name FROM startlists st JOIN startlist_classes sc ON sc.entryid = st.entryid'\n",
    "\n",
    "q_stages= 'SELECT * FROM itinerary_stages WHERE status!=\"ToRun\" ORDER BY Number'"
   ]
  },
  {
   "cell_type": "code",
   "execution_count": 4,
   "metadata": {},
   "outputs": [],
   "source": [
    "import dakar_utils as dakar\n",
    "import ipywidgets as widgets\n",
    "from ipywidgets import interact"
   ]
  },
  {
   "cell_type": "markdown",
   "metadata": {},
   "source": [
    "## How About More Control?\n",
    "\n",
    "What about we let the user decide what to allow in each chart?"
   ]
  },
  {
   "cell_type": "markdown",
   "metadata": {},
   "source": [
    "THink about adding some pace notes to the table. For example, a column showing what the pace was on the current stage in terms of s / km gained or lost, the pace required in the next stage to compensate for the gap to other drivers from the rebased driver, the pace required over the rest of the stages in the loop, or over the next loop."
   ]
  },
  {
   "cell_type": "code",
   "execution_count": 5,
   "metadata": {},
   "outputs": [
    {
     "data": {
      "application/vnd.jupyter.widget-view+json": {
       "model_id": "131cb527862b49c3a687c7b5cec9162b",
       "version_major": 2,
       "version_minor": 0
      },
      "text/plain": [
       "interactive(children=(Dropdown(description='Class:', options=('RC1', 'RC2', 'RC4', 'RC3', 'RC5'), value='RC1')…"
      ]
     },
     "metadata": {},
     "output_type": "display_data"
    }
   ],
   "source": [
    "classes2 = widgets.Dropdown(\n",
    "    options=pd.read_sql(q_classes,conn)['name'].to_list(),\n",
    "    value='RC1',\n",
    "    description='Class:',\n",
    "    disabled=False,\n",
    ")\n",
    "\n",
    "drivers2 = widgets.Dropdown(\n",
    "    options=pd.read_sql(q_drivers.format(classes2.value),conn)['code'].to_list(),\n",
    "    #value='NEU',\n",
    "    description='Driver:',\n",
    "    disabled=False,\n",
    ")\n",
    "\n",
    "stages2 = widgets.Dropdown(\n",
    "    options=pd.read_sql(q_stages,conn)['code'].to_list(), description='Stage:', disabled=False)\n",
    "\n",
    "\n",
    "def stage_chart2(rc,driver, stage, bars, roadPos, waypointRank, previous):\n",
    "    dropcols=[]\n",
    "    if not roadPos:\n",
    "        dropcols.append('Road Position')\n",
    "    if not waypointRank:\n",
    "        dropcols.append('Waypoint Rank')\n",
    "    if not previous:\n",
    "        dropcols.append('Previous')\n",
    "        \n",
    "    s2 = ds.getDriverSplitsReport(conn, rally, stage, driver, rc,\n",
    "                                  bars=bars, dropcols=dropcols)\n",
    "    display(HTML(s2))\n",
    "\n",
    "splitBars = widgets.Checkbox( value=True, description='Split bars:',\n",
    "                           disabled=False )\n",
    "    \n",
    "roadPos = widgets.Checkbox( value=True, description='Road pos',\n",
    "                           disabled=False )\n",
    "\n",
    "waypointRank = widgets.Checkbox( value=True, description='Waypoint Rank',\n",
    "                           disabled=False )\n",
    "\n",
    "previous = widgets.Checkbox( value=True, description='Previous',\n",
    "                           disabled=False )\n",
    "\n",
    "\n",
    "def update_drivers2(*args):\n",
    "    qdrivers = q_drivers.format(classes2.value)\n",
    "    driverlist = pd.read_sql(qdrivers,conn)['code'].to_list()\n",
    "    print(driverlist)\n",
    "    drivers2.options = driverlist\n",
    "    \n",
    "classes2.observe(update_drivers2, 'value')\n",
    "\n",
    "\n",
    "#Add sort order\n",
    "\n",
    "interact(stage_chart2, rc=classes2, driver=drivers2,\n",
    "         stage=stages2, bars=splitBars, roadPos=roadPos,\n",
    "        waypointRank=waypointRank, previous=previous);"
   ]
  },
  {
   "cell_type": "code",
   "execution_count": 6,
   "metadata": {},
   "outputs": [],
   "source": [
    "import testRequiredPace as pace"
   ]
  },
  {
   "cell_type": "code",
   "execution_count": 9,
   "metadata": {},
   "outputs": [],
   "source": [
    "pace.conn = conn\n",
    "pace.rally = rally\n",
    "pace.YEAR = year\n",
    "\n",
    "pace.distances = pace.stageDistances(conn)"
   ]
  },
  {
   "cell_type": "code",
   "execution_count": 1,
   "metadata": {},
   "outputs": [
    {
     "ename": "SyntaxError",
     "evalue": "invalid syntax (<ipython-input-1-c5c797fed203>, line 7)",
     "output_type": "error",
     "traceback": [
      "\u001b[0;36m  File \u001b[0;32m\"<ipython-input-1-c5c797fed203>\"\u001b[0;36m, line \u001b[0;32m7\u001b[0m\n\u001b[0;31m    s2 = moreStyleDriverSplitReportBaseDataframe(-tmp.loc[,:],'')\u001b[0m\n\u001b[0m                                                          ^\u001b[0m\n\u001b[0;31mSyntaxError\u001b[0m\u001b[0;31m:\u001b[0m invalid syntax\n"
     ]
    }
   ],
   "source": [
    "from dakar_utils import moreStyleDriverSplitReportBaseDataframe\n",
    "\n",
    "driver='LAT'\n",
    "tmp =  pace.multiStagePaceReport(['SS{}'.format(i) for i in range(1,24)], driver )\n",
    "\n",
    "#The negative map means we get times as the rebased driver is concerned...\n",
    "s2 = moreStyleDriverSplitReportBaseDataframe(-tmp,'')\n",
    "display(HTML(s2))\n"
   ]
  },
  {
   "cell_type": "code",
   "execution_count": null,
   "metadata": {},
   "outputs": [],
   "source": []
  },
  {
   "cell_type": "code",
   "execution_count": null,
   "metadata": {},
   "outputs": [],
   "source": []
  }
 ],
 "metadata": {
  "kernelspec": {
   "display_name": "Python 3",
   "language": "python",
   "name": "python3"
  },
  "language_info": {
   "codemirror_mode": {
    "name": "ipython",
    "version": 3
   },
   "file_extension": ".py",
   "mimetype": "text/x-python",
   "name": "python",
   "nbconvert_exporter": "python",
   "pygments_lexer": "ipython3",
   "version": "3.7.3"
  }
 },
 "nbformat": 4,
 "nbformat_minor": 2
}
