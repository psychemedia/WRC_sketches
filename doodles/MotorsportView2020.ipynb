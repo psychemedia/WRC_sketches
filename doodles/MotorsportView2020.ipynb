{
 "cells": [
  {
   "cell_type": "markdown",
   "metadata": {},
   "source": [
    "# MotorsportView2020\n",
    "\n",
    "A set of base classes for representing motorsport data."
   ]
  },
  {
   "cell_type": "code",
   "execution_count": 1,
   "metadata": {},
   "outputs": [],
   "source": [
    "from pandas import Timedelta, NaT\n",
    "from numpy import nan\n",
    "import pandas as pd\n",
    "\n",
    "from WRCUtils2020 import listify"
   ]
  },
  {
   "cell_type": "markdown",
   "metadata": {},
   "source": [
    "## Basic Time Utilities\n",
    "\n",
    "We will use `pandas.Timedelta` as the base representation of time.\n",
    "\n",
    "TO DO - should we return NaT? `if NaT` evaluates as `True` which means null tests would have to ve using `pd.isnull()`."
   ]
  },
  {
   "cell_type": "code",
   "execution_count": 2,
   "metadata": {
    "tags": [
     "active-ipynb"
    ]
   },
   "outputs": [],
   "source": [
    "assert bool(None) ==  False\n",
    "assert bool('') ==  False\n",
    "\n",
    "assert bool(NaT) == True\n",
    "assert bool(nan) == True\n",
    "\n",
    "assert pd.isnull(NaT) == True \n",
    "assert pd.isnull(nan) == True"
   ]
  },
  {
   "cell_type": "markdown",
   "metadata": {},
   "source": [
    "The following function will try to generate timedeltas."
   ]
  },
  {
   "cell_type": "code",
   "execution_count": 3,
   "metadata": {},
   "outputs": [],
   "source": [
    "BASEUNIT = 's'  # If the BASEUNIT is NOT 's', some tests will break\n",
    "\n",
    "def asTimedelta(t, unit=BASEUNIT):\n",
    "    \"\"\"Return a timedelta if possible.\"\"\"\n",
    "    if isinstance(t, Timedelta):\n",
    "        return t\n",
    "    if isinstance(t, int):\n",
    "        return Timedelta(t, unit=unit)\n",
    "    if isinstance(t, str):\n",
    "        try:\n",
    "            t = Timedelta(int(t), unit=unit)\n",
    "            return t\n",
    "        except:\n",
    "            return None\n",
    "    if isinstance(t, list):\n",
    "        t = [asTimedelta(_t) for _t in t]\n",
    "        return t\n",
    "    return None"
   ]
  },
  {
   "cell_type": "code",
   "execution_count": 4,
   "metadata": {
    "tags": [
     "active-ipynb"
    ]
   },
   "outputs": [],
   "source": [
    "# Return a timedelta as a timedelta\n",
    "assert asTimedelta(Timedelta(1, 's')) == Timedelta(1, 's')\n",
    "assert asTimedelta(Timedelta(1000,'ms')) == Timedelta(1, 's')\n",
    "# Cast an int to a timedelta\n",
    "assert asTimedelta(2) == Timedelta(2, unit='s')\n",
    "assert asTimedelta(2000, unit='ms') == Timedelta(2, unit='s')\n",
    "# Cast a list of ints to a list of timedeltas\n",
    "assert asTimedelta([1, 2]) == [Timedelta(1, 's'), Timedelta(2, 's')]\n",
    "# Cast a string to a time delta\n",
    "assert asTimedelta(\"2000\", unit='ms') == Timedelta(2, unit='s')\n",
    "assert asTimedelta(\"s\", unit='ms') == None\n",
    "assert asTimedelta(\"\", unit='ms') == None\n",
    "assert asTimedelta(None, unit='ms') == None\n",
    "assert asTimedelta(NaT, unit='ms') == None\n",
    "# Cast a mixed list of strings and ints to a list of time deltas\n",
    "assert (asTimedelta([\"2\", 2, None, NaT], unit='s') ==\n",
    "        [Timedelta(2, unit='s'), Timedelta(2, unit='s'), None, None])"
   ]
  },
  {
   "cell_type": "markdown",
   "metadata": {},
   "source": [
    "## Time\n",
    "\n",
    "Simplest unit of time, with functions for handling it."
   ]
  },
  {
   "cell_type": "code",
   "execution_count": 5,
   "metadata": {},
   "outputs": [],
   "source": [
    "class Basetime:\n",
    "    \"\"\"Simplest unit of time. Can be returned as timedelta, s, ms.\"\"\"\n",
    "\n",
    "    def __init__(self, t, unit=BASEUNIT):\n",
    "        \"\"\"Basic unit of time.\"\"\"\n",
    "        self.t = asTimedelta(t, unit=unit)\n",
    "        self.s = self._s(self.t)\n",
    "        self.ms = self._ms(self.t)\n",
    "\n",
    "    def _s(self, td=None, unit='s'):\n",
    "        \"\"\"Time in seconds.\"\"\"\n",
    "        td = asTimedelta(td, unit)\n",
    "        if td:\n",
    "            return td.total_seconds()\n",
    "        return td\n",
    "\n",
    "    def _ms(self, td=None, unit='s'):\n",
    "        td = asTimedelta(td, unit)\n",
    "        if td:\n",
    "            return 1000*td.total_seconds()\n",
    "        return td\n",
    "\n",
    "    def __repr__(self):\n",
    "        \"\"\"Display Basetime.\"\"\"\n",
    "        return f'Basetime: {repr(self.t)}'"
   ]
  },
  {
   "cell_type": "code",
   "execution_count": 6,
   "metadata": {
    "tags": [
     "active-ipynb"
    ]
   },
   "outputs": [
    {
     "data": {
      "text/plain": [
       "Basetime: Timedelta('0 days 00:00:02')"
      ]
     },
     "execution_count": 6,
     "metadata": {},
     "output_type": "execute_result"
    }
   ],
   "source": [
    "# Check simple equivalence of Time to Timedelta\n",
    "assert Basetime(2).t == Timedelta(2, unit='s')\n",
    "assert Basetime(2000, unit='ms').t == Timedelta(2, unit='s')\n",
    "# Test seconds attribute\n",
    "assert Basetime(2).s == 2.0\n",
    "# Test milliseconds attribute\n",
    "assert Basetime(2).ms == 2000\n",
    "assert Basetime(2000, unit='ms').s == 2\n",
    "assert Basetime(2000, unit='ms').s == 2.0\n",
    "Basetime(2000, unit='ms')"
   ]
  },
  {
   "cell_type": "markdown",
   "metadata": {},
   "source": [
    "A timing record is minimally a 3-tuple (`(index, uid, timedelta)`) made up from an index value, such as a lap count or stage number, an identifier, such as a car number, and a time given as a timedelta.\n",
    "\n",
    "The `asTime()` function will take a three tuple and attempt to return it in the form `(vartype, vartype, Timedelta)`."
   ]
  },
  {
   "cell_type": "code",
   "execution_count": 7,
   "metadata": {},
   "outputs": [],
   "source": [
    "def asTime(atime=None, unit=BASEUNIT):\n",
    "    \"\"\"Generate a valid Time tuple.\"\"\"\n",
    "    if isinstance(atime, tuple) and len(atime) == 3:\n",
    "        _atime = atime\n",
    "    else:\n",
    "        _atime = (None, None, None)\n",
    "        \n",
    "    index = _atime[0]\n",
    "    uid = _atime[1]\n",
    "    time = asTimedelta(_atime[2], unit=unit)\n",
    "        \n",
    "    atime = (index, uid, time)\n",
    "        \n",
    "    return atime"
   ]
  },
  {
   "cell_type": "code",
   "execution_count": null,
   "metadata": {},
   "outputs": [],
   "source": []
  },
  {
   "cell_type": "code",
   "execution_count": 8,
   "metadata": {
    "tags": [
     "active-ipynb"
    ]
   },
   "outputs": [],
   "source": [
    "# Check nulls\n",
    "assert asTime() ==  (None, None, None)\n",
    "assert asTime(()) == (None, None, None)\n",
    "# Check we can cope with ourselves...\n",
    "assert asTime((1, 2, '3')) == asTime(asTime((1, 2, '3')))\n",
    "# Check assignment of single time\n",
    "assert asTime((1, 2, '3')) == (1, 2, Timedelta(3, 's'))\n",
    "# If we don't get a tuple, return one filled with nulls\n",
    "assert asTime(1) == (None, None, None)\n",
    "# If we get a list, that's wrong too...\n",
    "assert (asTime([(1, 2, 3), (4, 5, '6')])) == (None, None, None)"
   ]
  },
  {
   "cell_type": "markdown",
   "metadata": {},
   "source": [
    "The `asTimes()` function takes in a list of 3-tuples and attempts to return them as a list of valid `asTime()` returned tuples."
   ]
  },
  {
   "cell_type": "code",
   "execution_count": 9,
   "metadata": {},
   "outputs": [],
   "source": [
    "def asTimes(atime=None, unit=BASEUNIT):\n",
    "    \"\"\"Generate a list of valid Times tuples.\"\"\"\n",
    "    if isinstance(atime, list):\n",
    "        t = [asTime(_t, unit=unit) for _t in atime]\n",
    "        return t\n",
    "    return [asTime(atime, unit=unit)]"
   ]
  },
  {
   "cell_type": "code",
   "execution_count": 10,
   "metadata": {
    "tags": [
     "active-ipynb"
    ]
   },
   "outputs": [],
   "source": [
    "# Check assignment of list of times\n",
    "assert (asTimes([(1, 2, 3), (4, 5, '6')]) == \n",
    "        [(1, 2, Timedelta(3, 's')), (4, 5, Timedelta(6, 's'))])\n",
    "# Check we can cope with ourselves\n",
    "asTimes([(1, 2, 3), (4, 5, '6')]) == asTimes(asTimes([(1, 2, 3), (4, 5, '6')]))\n",
    "# If we get a single time, return it as Time list\n",
    "assert asTimes((1, 2, '3')) == [(1, 2, Timedelta(3, 's'))]\n",
    "# If we get nonsense, retun null tuples\n",
    "assert asTimes(1) == [(None, None, None)]\n",
    "assert (asTimes([1, (4, 5, 6000), ('a', 1)], unit='ms') ==\n",
    "        [(None, None, None), (4, 5, Timedelta(6, 's')), (None, None, None)])"
   ]
  },
  {
   "cell_type": "markdown",
   "metadata": {},
   "source": [
    "As well as the simple 3-tuples, we also acknowledge a 4-tuple labeled time 3-tuple, which adds a label that might be used for display purposes, for example.\n",
    "\n",
    "The `asLabeledTime()` function attempts to return a labeled time elements in various formats:\n",
    "\n",
    "- as a 2-tuple: `((index, uid, timedelta), label)`\n",
    "- as a 4-tuple: `((index, uid, timedelta, label)`\n",
    "\n",
    "The `asLabeledTime()` function also seeks to be accommodating as to what it can accept:\n",
    "\n",
    "- a 2-tuple: `((index, uid, timedelta), label)`;\n",
    "- a 3-tuple: `(index, uid, timedelta)`, in which case, we generate the label optionally from the uid, or from a label assigned from a `label` parameter;\n",
    "- a 4-tuple: `(index, uid, timedelta, label)`.\n",
    "\n",
    "If a 3-tuple is passed without an associated `label`, the `label` can be automatically set to the `uid` value."
   ]
  },
  {
   "cell_type": "code",
   "execution_count": 11,
   "metadata": {
    "tags": [
     "active-ipynb"
    ]
   },
   "outputs": [],
   "source": [
    "# Placeholder to make test run\n",
    "class LabeledTime:\n",
    "    \"\"\"Placeholder.\"\"\"\n",
    "    \n",
    "    pass"
   ]
  },
  {
   "cell_type": "code",
   "execution_count": 12,
   "metadata": {},
   "outputs": [],
   "source": [
    "def asLabeledTime(altime=None, label=None, unit=BASEUNIT,\n",
    "                  useuid=None, singletuple=False, probeuid = False):\n",
    "    \"\"\"\n",
    "    Generate a valid LabeledTimes tuple.\n",
    "    \n",
    "    altime must be a two, three or four tuple.\n",
    "    If no label is provided, and we have a three tuple,\n",
    "    by default use the uid as the label, or False to return empty string.\n",
    "    \n",
    "    If a three tuple or four tuple is provided, use label if provided.\n",
    "    \n",
    "    If singletuple is True, return (index, uid, time, label).\n",
    "    If singletuple is False, return ((index, uid, time), label)).\n",
    "    \n",
    "    The label is cast as a string.\n",
    "    \"\"\"\n",
    "    if probeuid:\n",
    "        if isinstance(altime, tuple) and len(altime) == 3 and label is None:\n",
    "            useuid = True if useuid is not False else useuid\n",
    "        return useuid\n",
    "    \n",
    "    if isinstance(altime, LabeledTime):\n",
    "        atime = altime.atime\n",
    "    elif isinstance(altime, tuple) and len(altime) == 3:\n",
    "        # 3-tuple: (index, uid, timedelta)\n",
    "        atime = altime\n",
    "        if label is None:\n",
    "            useuid = True if useuid is not False else useuid\n",
    "    elif isinstance(altime, tuple) and len(altime) in [2, 4]:\n",
    "        if len(altime) == 2:\n",
    "            # The 2 tuple is of the form ((1, 2, 3), 'x')\n",
    "            atime = altime[0]\n",
    "        else:\n",
    "            #The 4 tuple is of the form (1, 2, 3, 'x')\n",
    "            atime = altime[:-1]\n",
    "        if not label:\n",
    "            # If there is a label provided,\n",
    "            #   then it overrides one in the altime tuple\n",
    "            label = altime[-1]\n",
    "    else:\n",
    "        # Defualt is Nones 3-tuple\n",
    "        atime = (None, None, None)\n",
    "        \n",
    "    if label is not None:\n",
    "        try:\n",
    "            label = str(label)\n",
    "        except:\n",
    "            label = ''\n",
    "    elif useuid:\n",
    "        label = altime[1]\n",
    "    else:\n",
    "        label = ''  # Or should we allow None to be returned?\n",
    "\n",
    "    atime = asTime(atime, unit=unit)\n",
    "    \n",
    "    # Force label typing as string\n",
    "    label = str(label)\n",
    "    \n",
    "    if singletuple:\n",
    "        # Which is to say, a 4-tuple:\n",
    "        #  (index, uid, timedelta, label)\n",
    "        return atime + (label,)\n",
    "    \n",
    "    # Default is a 2-tuple:\n",
    "    #  ((index, uid, timedelta), label)\n",
    "    return (atime, label)"
   ]
  },
  {
   "cell_type": "code",
   "execution_count": 13,
   "metadata": {
    "tags": [
     "active-ipynb"
    ]
   },
   "outputs": [],
   "source": [
    "# Check nulls\n",
    "assert asLabeledTime(probeuid=True) == None\n",
    "assert asLabeledTime() == ((None, None, None), '')\n",
    "assert asLabeledTime(singletuple=True) == (None, None, None, '')\n",
    "assert asLabeledTime(label='s') == ((None, None, None), 's')\n",
    "# Check we can create a LabeledTime from a 3-tuple and a label\n",
    "assert (asLabeledTime((1, 2, 3000), unit='ms') ==\n",
    "        ((1, 2, Timedelta(3, 's')), '2'))\n",
    "# Check we can cope with ourselves\n",
    "assert (asLabeledTime(((1, 2, 3), 'name')) ==\n",
    "        asLabeledTime(asLabeledTime(((1, 2, 3), 'name'))))\n",
    "assert (asLabeledTime((1, 2, 3000), unit='ms',\n",
    "                      useuid=False, probeuid=True) == False)\n",
    "assert (asLabeledTime((1, 2, 3000), unit='ms', useuid=False) ==\n",
    "        ((1, 2, Timedelta(3, 's')), ''))\n",
    "assert (asLabeledTime((1, 2, 3000), unit='ms', useuid=True) ==\n",
    "        ((1, 2, Timedelta(3, 's')), '2'))\n",
    "# Check we can create a LabeledTime from a 2-tuple\n",
    "assert (asLabeledTime(((1, 2, 3), 'name')) ==\n",
    "        ((1, 2, Timedelta(3, 's')), 'name'))\n",
    "# Check we can create a LabeledTime from a 4-tuple\n",
    "assert (asLabeledTime((1, 2, 4000), 'name', unit='ms') ==\n",
    "        ((1, 2, Timedelta(4, 's')), 'name'))\n",
    "assert (asLabeledTime((1, 2, 3000, 'name'), unit='ms') ==\n",
    "        ((1, 2, Timedelta(3, 's')), 'name'))\n",
    "# Check we can create a LabeledTime from a 4-tuple and a label\n",
    "assert (asLabeledTime((1, 2, 3000, 'name'),\n",
    "                      label='name2', unit='ms') ==\n",
    "        ((1, 2, Timedelta(3, 's')), 'name2'))\n",
    "assert (asLabeledTime((1, 2, 3000, 'name'), label='name2',\n",
    "                      useuid=True, unit='ms') ==\n",
    "        ((1, 2, Timedelta(3, 's')), 'name2'))\n",
    "assert (asLabeledTime((1, 2, 3000, 'name'), label='name2',\n",
    "                      useuid=True, unit='ms', singletuple=True) ==\n",
    "        (1, 2, Timedelta(3, 's'), 'name2'))"
   ]
  },
  {
   "cell_type": "markdown",
   "metadata": {},
   "source": [
    "The `asLabeledTimes()` function takes in a list of times and labels and attempts to return a list of 2-tuples `((index, uid, timedelta), label)` representing labeled times elements of the same length as the supplied list of times.\n",
    "\n",
    "As with `asLabeledTime()`, we try to be forgiving in what we can accept (2-, 3- or 4-tuple).\n",
    "\n",
    "If the `label` parameter is a single string item, it may be used as the label for each time. If the `label` is a list of the same length as the list of times, each time is assigned it's own label. If no label is provided, the `uid` may be used as the label."
   ]
  },
  {
   "cell_type": "code",
   "execution_count": 14,
   "metadata": {},
   "outputs": [],
   "source": [
    "def asLabeledTimes(atimes=None, labels=None, unit=BASEUNIT,\n",
    "                   useuid=None, singletuple=False):\n",
    "    \"\"\"\n",
    "    Generate a list of valid LabeledTimes tuples.\n",
    "    \n",
    "    The atimes must be None or three tuples.\n",
    "    \"\"\"\n",
    "    if not atimes and not labels:\n",
    "        return []\n",
    "    \n",
    "    atimes = listify(atimes)\n",
    "    labels = listify(labels)\n",
    "    \n",
    "    if not atimes and isinstance(labels, list):\n",
    "        atimes = [None] * len(labels)\n",
    "    elif isinstance(atimes, list):\n",
    "        if isinstance(labels, list) and (len(labels) == len(atimes)):\n",
    "            # All's good...\n",
    "            pass\n",
    "        elif isinstance(labels, str):\n",
    "            labels = [labels] * len(atimes)\n",
    "        else:\n",
    "            labels = [None] * len(atimes)\n",
    "        # Note: if there are 4 tuples we could try to save those labels?\n",
    "        \n",
    "    timelabels = zip(atimes, labels)\n",
    "    t = [asLabeledTime(_t, label=_label, unit=unit, singletuple=singletuple,\n",
    "                       useuid=useuid) for (_t, _label) in timelabels]\n",
    "    return t"
   ]
  },
  {
   "cell_type": "code",
   "execution_count": 57,
   "metadata": {
    "tags": [
     "active-ipynb"
    ]
   },
   "outputs": [],
   "source": [
    "# Check null behaviour\n",
    "assert asLabeledTimes() == []\n",
    "assert asLabeledTimes(labels='1') == [((None, None, None), '1')]\n",
    "assert (asLabeledTimes(labels='1', singletuple=True) ==\n",
    "        [(None, None, None, '1')])\n",
    "# Check two tuple\n",
    "assert asLabeledTimes(atimes=((1, 2, 3), 'n')) == [((1, 2, Timedelta(3, 's')), 'n')]\n",
    "# Check three tuple\n",
    "assert asLabeledTimes(atimes=(1, 2, 3)) == [((1, 2, Timedelta(3, 's')), '2')]\n",
    "assert (asLabeledTimes(atimes=(1, 2, 4), useuid=False) ==\n",
    "        [((1, 2, Timedelta(4, 's')), '')])\n",
    "# Check we can cope with ourselves\n",
    "assert (asLabeledTimes([(1, 2, 3), (4, 5, '6')]) ==\n",
    "       asLabeledTimes(asLabeledTimes([(1, 2, 3), (4, 5, '6')])))\n",
    "# Check four tuple\n",
    "assert asLabeledTimes(atimes=(1, 2, 3, 4)) == [((1, 2, Timedelta(3, 's')), '4')]\n",
    "# Cope with multiple items\n",
    "assert (asLabeledTimes([(1, 2, 3), (4, 5, '6')]) == \n",
    "        [((1, 2, Timedelta(3, 's')), '2'), ((4, 5, Timedelta(6, 's')), '5')])\n",
    "assert (asLabeledTimes([(1, 2, 3), (4, 5, '6')], ['n1', 'n2']) == \n",
    "        [((1, 2, Timedelta(3, 's')), 'n1'), ((4, 5, Timedelta(6, 's')), 'n2')])"
   ]
  },
  {
   "cell_type": "markdown",
   "metadata": {},
   "source": [
    "## Classes"
   ]
  },
  {
   "cell_type": "code",
   "execution_count": 16,
   "metadata": {
    "run_control": {
     "marked": false
    }
   },
   "outputs": [],
   "source": [
    "class Time:\n",
    "    \"\"\"\n",
    "    A time unit expresses an indexed time for an identified thing.\n",
    "    \n",
    "    Times are given as a 3-tuple: (index, uid, time).\n",
    "    \"\"\"\n",
    "\n",
    "    def __init__(self, atime=None, unit=BASEUNIT):\n",
    "        \"\"\"Create a valid time.\"\"\"\n",
    "        self._setTime(atime, unit)\n",
    "\n",
    "    def _setTime(self, atime, unit):\n",
    "        \"\"\"Set attributes on Time object.\"\"\"\n",
    "        if isinstance(atime, Time):\n",
    "            (self.index, self.uid, self.time) = (atime.index, atime.uid, atime.time)\n",
    "        else:\n",
    "            atime = asTime(atime, unit=unit)\n",
    "            (self.index, self.uid, self.time) = atime\n",
    "        self.atime = (self.index, self.uid, self.time)\n",
    "        \n",
    "    def __repr__(self):\n",
    "        \"\"\"Display Time 3-tuple.\"\"\"\n",
    "        return f'Basetime: {repr(self.atime)}'"
   ]
  },
  {
   "cell_type": "code",
   "execution_count": 17,
   "metadata": {
    "tags": [
     "active-ipynb"
    ]
   },
   "outputs": [
    {
     "data": {
      "text/plain": [
       "Basetime: (1, 2, Timedelta('0 days 00:00:03'))"
      ]
     },
     "execution_count": 17,
     "metadata": {},
     "output_type": "execute_result"
    }
   ],
   "source": [
    "# Check we return a simple Time tuple\n",
    "assert Time().atime == (None, None, None)\n",
    "assert isinstance(Time(), Time)\n",
    "assert isinstance(Time().atime, tuple) and len(Time().atime) == 3\n",
    "assert Time((1, 2, '3')).atime == (1, 2, Timedelta(3, 's'))\n",
    "assert Time((1, 2, '3000'), unit='ms').atime == (1, 2, Timedelta(3, 's'))\n",
    "assert Time(Time((1, 2, '3000'), unit='ms')).atime == (1, 2, Timedelta(3, 's'))\n",
    "\n",
    "Time((1, 2, '3000'), unit='ms')"
   ]
  },
  {
   "cell_type": "code",
   "execution_count": 18,
   "metadata": {},
   "outputs": [],
   "source": [
    "class LabeledTime(Time):\n",
    "    \"\"\"Extend Time to included a label.\"\"\"\n",
    "    \n",
    "    def __init__(self, altime=None, label=None,\n",
    "                 unit=BASEUNIT, useuid=None):\n",
    "        \"\"\"\n",
    "        Create a labeled Time.\n",
    "        \n",
    "        Labels can be used as display properties in charts, etc.\n",
    "        We can pass in a Time and a label, or a LabeledTime.\n",
    "        \"\"\"\n",
    "        (atime, label) = asLabeledTime(altime=altime, label=label,\n",
    "                                       unit=unit, useuid=useuid,\n",
    "                                       singletuple=False)\n",
    "        Time.__init__(self, atime=atime, unit=unit)\n",
    "\n",
    "\n",
    "        self.label = label\n",
    "\n",
    "        self.ltime = (self.index, self.uid, self.time, self.label)\n",
    "        \n",
    "    def _check_label(self, label):\n",
    "        \"\"\"Check the label is a string.\"\"\"\n",
    "        \n",
    "    def __repr__(self):\n",
    "        \"\"\"Display LabeledTime 4-tuple.\"\"\"\n",
    "        return f'Labeledtime: {repr(self.ltime)}'"
   ]
  },
  {
   "cell_type": "code",
   "execution_count": 19,
   "metadata": {},
   "outputs": [],
   "source": [
    "assert LabeledTime().label == ''\n",
    "assert LabeledTime(label='name').label == 'name'\n",
    "assert LabeledTime().atime == (None, None, None)\n",
    "assert LabeledTime().ltime == (None, None, None, '')\n",
    "assert (LabeledTime((1, 2, 3000), unit='ms', \n",
    "                    useuid=False).atime == (1, 2, Timedelta(3, 's')))\n",
    "assert (LabeledTime((1, 2, 3000), unit='ms', \n",
    "                    useuid=False).ltime == (1, 2, Timedelta(3, 's'), ''))\n",
    "assert (LabeledTime((1, 2, 3000, 'name'), unit='ms', \n",
    "                    useuid=False).ltime == (1, 2, Timedelta(3, 's'), 'name'))\n"
   ]
  },
  {
   "cell_type": "code",
   "execution_count": 20,
   "metadata": {},
   "outputs": [
    {
     "data": {
      "text/plain": [
       "Labeledtime: (1, 2, Timedelta('0 days 00:00:03'), 'name')"
      ]
     },
     "execution_count": 20,
     "metadata": {},
     "output_type": "execute_result"
    }
   ],
   "source": [
    "# Check empty instantiation\n",
    "assert LabeledTime().ltime == (None, None, None, '')\n",
    "assert isinstance(LabeledTime(), LabeledTime)\n",
    "assert isinstance(LabeledTime().atime, tuple) and len(LabeledTime().atime) == 3\n",
    "assert isinstance(LabeledTime().ltime, tuple) and len(LabeledTime().ltime) == 4\n",
    "# Check we can create a LabeledTime from a 3-tuple and a label\n",
    "assert LabeledTime((1, 2, 3000), 'name', unit='ms').atime == Time((1, 2, 3)).atime\n",
    "assert LabeledTime((1, 2, 3), 'name').label == 'name'\n",
    "# Check handling of lack of label\n",
    "assert LabeledTime((1, 2, 3)).label == '2'\n",
    "assert LabeledTime((1, 2, 3), useuid=False).label == ''\n",
    "# Check we can create a LabeledTime from a 4-tuple\n",
    "assert LabeledTime((1, 2, 3000, 'name'), unit='ms').atime == Time((1, 2, 3)).atime\n",
    "assert LabeledTime((1, 2, 3000, 'name'), unit='ms').label == 'name'\n",
    "# Check we can generate label from uid\n",
    "assert LabeledTime((1, 2, 3), useuid=True).label == '2'\n",
    "# Check we can create a LabeledTime from a LabeledTime\n",
    "assert LabeledTime(LabeledTime((1, 2, 3), 'name')).atime == Time((1, 2, 3)).atime\n",
    "\n",
    "LabeledTime((1, 2, 3), 'name')"
   ]
  },
  {
   "cell_type": "markdown",
   "metadata": {},
   "source": [
    "## Times\n",
    "\n",
    "Represent a set of times, eg laptimes, stagetimes, splittimes."
   ]
  },
  {
   "cell_type": "code",
   "execution_count": 21,
   "metadata": {},
   "outputs": [],
   "source": [
    "class Times():\n",
    "    \"\"\"Represent a list of times, e.g. laptimes, stagetimes, splittimes.\"\"\"\n",
    "    \n",
    "    def __init__(self, times=None, unit=BASEUNIT):\n",
    "        \"\"\"Base representation of a set of Time elements.\"\"\"\n",
    "        if not times:\n",
    "            self.atimes = []\n",
    "        else:\n",
    "            self.atimes = asTimes(times, unit=unit)\n",
    "        \n",
    "    def rebase(self, times=None, unit=BASEUNIT):\n",
    "        \"\"\"Rebase Times\"\"\"\n",
    "        pass\n",
    "    \n",
    "    def __repr__(self):\n",
    "        \"\"\"Display Times list.\"\"\"\n",
    "        # TO DO need to shorten this if it's too long\n",
    "        return f'Times: {repr(self.atimes)}'"
   ]
  },
  {
   "cell_type": "code",
   "execution_count": 22,
   "metadata": {},
   "outputs": [
    {
     "data": {
      "text/plain": [
       "Times: [(1, 2, Timedelta('0 days 00:50:00')), (4, 5, Timedelta('0 days 01:40:00'))]"
      ]
     },
     "execution_count": 22,
     "metadata": {},
     "output_type": "execute_result"
    }
   ],
   "source": [
    "# Check null\n",
    "assert Times().atimes == []\n",
    "assert isinstance(Times(), Times)\n",
    "# Check a single time is expressed as a list of Times\n",
    "assert Times((1, 2, 3)).atimes == [(1, 2, Timedelta(3, 's'))]\n",
    "# Check a list of times is expressed as a list of Times\n",
    "assert (Times([(1, 2, 3000), (4, 5, \"6000\")], unit='ms').atimes ==\n",
    "        [(1, 2, Timedelta(3, 's')), (4, 5, Timedelta(6, 's'))])\n",
    "\n",
    "Times([(1, 2, 3000), (4, 5, \"6000\")])"
   ]
  },
  {
   "cell_type": "markdown",
   "metadata": {},
   "source": [
    "## LabeledTimes\n",
    "\n",
    "Support the labeling of a `Times` list."
   ]
  },
  {
   "cell_type": "code",
   "execution_count": 46,
   "metadata": {},
   "outputs": [],
   "source": [
    "class LabeledTimes(Times):\n",
    "    \"\"\"Labeled list of times.\"\"\"\n",
    "\n",
    "    def __init__(self, times=None, labels=None,\n",
    "                 unit=BASEUNIT, useuid=None):\n",
    "        \"\"\"Create a list of labeled Time elements.\"\"\"\n",
    "        Times.__init__(self)\n",
    "        if times is None:\n",
    "            self.ltimes = []\n",
    "        else:\n",
    "            # By default, asLabeledTimes returns a 2-tuple\n",
    "            _ls = asLabeledTimes(atimes=times, labels=labels,\n",
    "                                         unit=unit, useuid=useuid)\n",
    "            self.labels = [_lt[1] for _lt in _ls]\n",
    "            self.atimes = [_lt[0] for _lt in _ls]\n",
    "            self.ltimes = [_lt for _lt in zip(self.atimes, self.labels)]\n",
    "\n",
    "    def __repr__(self):\n",
    "        \"\"\"Display LabeledTimes list.\"\"\"\n",
    "        # TO DO need to shorten this if it's too long\n",
    "        return f'LabeledTimes: {repr(self.ltimes)}'"
   ]
  },
  {
   "cell_type": "code",
   "execution_count": 54,
   "metadata": {},
   "outputs": [
    {
     "data": {
      "text/plain": [
       "LabeledTimes: [((1, 2, Timedelta('0 days 00:00:03')), 'name1'), ((4, 5, Timedelta('0 days 00:00:06')), 'name2')]"
      ]
     },
     "execution_count": 54,
     "metadata": {},
     "output_type": "execute_result"
    }
   ],
   "source": [
    "LabeledTimes([((1, 2, 3)), ((4, 5, 6))], ['name1', 'name2'])"
   ]
  },
  {
   "cell_type": "code",
   "execution_count": 56,
   "metadata": {},
   "outputs": [
    {
     "data": {
      "text/plain": [
       "LabeledTimes: [((1, 2, Timedelta('0 days 00:00:03')), 'name')]"
      ]
     },
     "execution_count": 56,
     "metadata": {},
     "output_type": "execute_result"
    }
   ],
   "source": [
    "# Check nulls\n",
    "assert LabeledTimes().atimes == []\n",
    "assert LabeledTimes().ltimes == []\n",
    "#Check one item, two tuple\n",
    "assert LabeledTimes((1, 2, 3), 'name').atimes == [(1, 2, Timedelta(3, unit='s'))]\n",
    "assert LabeledTimes((1, 2, 3), 'name').labels == ['name']\n",
    "assert LabeledTimes((1, 2, 3), 'name').ltimes == [(Time((1, 2, 3)).atime, 'name')]\n",
    "assert LabeledTimes((1, 2, 3), 'name').ltimes == [((1, 2, Timedelta(3, unit='s')), 'name')]\n",
    "# Check three tuple\n",
    "assert LabeledTimes((1, 2, 3)).atimes == [(1, 2, Timedelta(3, unit='s'))]\n",
    "assert LabeledTimes((1, 2, 3)).ltimes == [((1, 2, Timedelta(3, unit='s')), '2')]\n",
    "assert LabeledTimes((1, 2, 3), useuid=False).ltimes == [((1, 2, Timedelta(3, unit='s')), '')]\n",
    "# Check 4-tuple\n",
    "assert LabeledTimes([(1, 2, 3, 'name')]).atimes == [(1, 2, Timedelta(3, unit='s'))]\n",
    "assert LabeledTimes([(1, 2, 3, 'name')]).ltimes == [(Time((1, 2, 3)).atime, 'name')]\n",
    "assert LabeledTimes((1, 2, 3, 'name')).atimes == [(Time((1, 2, 3)).atime)]\n",
    "assert LabeledTimes((1, 2, 3, 'name')).ltimes == [(Time((1, 2, 3)).atime, 'name')]\n",
    "# Check multi-items\n",
    "assert (LabeledTimes([((1, 2, 3), 'name'), ((4, 5, 6), 'name2')]).atimes ==\n",
    "        [(1, 2, Timedelta(3, unit='s')), (4, 5, Timedelta(6, unit='s'))])\n",
    "assert (LabeledTimes([((1, 2, 3), 'name'), ((4, 5, 6), 'name2')]).labels ==\n",
    "        ['name', 'name2'])\n",
    "assert (LabeledTimes([((1, 2, 3)), ((4, 5, 6))],\n",
    "                     ['name1', 'name2']).labels == ['name1', 'name2'])\n",
    "\n",
    "LabeledTimes((1, 2, 3), 'name')"
   ]
  },
  {
   "cell_type": "markdown",
   "metadata": {},
   "source": [
    "## MultiTimes\n",
    "\n",
    "`MultiTimes` are used to collect sets of times, for example, the sets of split times within a multi-split rally stage.\n",
    "\n",
    "`MultiTimes` arrange individual `Times` lists using an ordered `dict`.\n",
    "\n",
    "`MultiTimes` may point to `MultiTimes`. For example, a `MultiTimes` object for a rally may contain a simple `dict` of stage times, or it may contain a `dict` of `MultiTimes` each describing the split times for the corresponding stage.\n",
    "\n",
    "A `levels` argument should label each level, eg `levels = ['stage', 'splits']`."
   ]
  },
  {
   "cell_type": "code",
   "execution_count": 250,
   "metadata": {},
   "outputs": [
    {
     "data": {
      "text/plain": [
       "(1, 2, 3, 3)"
      ]
     },
     "execution_count": 250,
     "metadata": {},
     "output_type": "execute_result"
    }
   ],
   "source": [
    "# For testing levels of MultiTimes?\n",
    "\n",
    "# https://stackoverflow.com/a/23499101/454773\n",
    "def depth(d):\n",
    "    \"\"\"Find the 'depth' of a dict.\"\"\"\n",
    "    if isinstance(d, dict):\n",
    "        return 1 + (max(map(depth, d.values())) if d else 0)\n",
    "    return 0\n",
    "\n",
    "(depth({'a': 1}), depth({'a': {'b': 2}}), depth({'a': {'b': {'a': 3}}}),\n",
    " depth({'a': {'b': 2}, 'x': {'b': {'a': 3}}}),)"
   ]
  },
  {
   "cell_type": "raw",
   "metadata": {
    "tags": [
     "active-ipynb"
    ]
   },
   "source": []
  }
 ],
 "metadata": {
  "celltoolbar": "Tags",
  "jupytext": {
   "formats": "ipynb,py:light"
  },
  "kernelspec": {
   "display_name": "Python 3",
   "language": "python",
   "name": "python3"
  },
  "language_info": {
   "codemirror_mode": {
    "name": "ipython",
    "version": 3
   },
   "file_extension": ".py",
   "mimetype": "text/x-python",
   "name": "python",
   "nbconvert_exporter": "python",
   "pygments_lexer": "ipython3",
   "version": "3.7.5"
  }
 },
 "nbformat": 4,
 "nbformat_minor": 2
}
