{
 "cells": [
  {
   "cell_type": "markdown",
   "metadata": {},
   "source": [
    "# MotorsportView2020\n",
    "\n",
    "A set of base classes for representing motorsport data."
   ]
  },
  {
   "cell_type": "code",
   "execution_count": 97,
   "metadata": {},
   "outputs": [],
   "source": [
    "from pandas import Timedelta, NaT\n",
    "from numpy import nan\n",
    "import pandas as pd"
   ]
  },
  {
   "cell_type": "markdown",
   "metadata": {},
   "source": [
    "## Basic Time Utilities\n",
    "\n",
    "We will use `pandas.Timedelta` as the base representation of time.\n",
    "\n",
    "TO DO - should we return NaT? `if NaT` evaluates as `True` which means null tests would have to ve using `pd.isnull()`."
   ]
  },
  {
   "cell_type": "code",
   "execution_count": 102,
   "metadata": {
    "tags": [
     "active-ipynb"
    ]
   },
   "outputs": [],
   "source": [
    "assert bool(None) ==  False\n",
    "assert bool('') ==  False\n",
    "\n",
    "assert bool(NaT) == True\n",
    "assert bool(nan) == True\n",
    "\n",
    "assert pd.isnull(NaT) == True \n",
    "assert pd.isnull(nan) == True"
   ]
  },
  {
   "cell_type": "markdown",
   "metadata": {},
   "source": [
    "The following function will try to generate timedeltas."
   ]
  },
  {
   "cell_type": "code",
   "execution_count": 138,
   "metadata": {},
   "outputs": [],
   "source": [
    "BASEUNIT = 's'  # If the BASEUNIT is NOT 's', some tests will break\n",
    "\n",
    "def asTimedelta(t, unit=BASEUNIT):\n",
    "    \"\"\"Return a timedelta if possible.\"\"\"\n",
    "    if isinstance(t, Timedelta):\n",
    "        return t\n",
    "    if isinstance(t, int):\n",
    "        return Timedelta(t, unit=unit)\n",
    "    if isinstance(t, str):\n",
    "        try:\n",
    "            t = Timedelta(int(t), unit=unit)\n",
    "            return t\n",
    "        except:\n",
    "            return None\n",
    "    if isinstance(t, list):\n",
    "        t = [asTimedelta(_t) for _t in t]\n",
    "        return t\n",
    "    return None"
   ]
  },
  {
   "cell_type": "code",
   "execution_count": 139,
   "metadata": {
    "tags": [
     "active-ipynb"
    ]
   },
   "outputs": [],
   "source": [
    "# Return a timedelta as a timedelta\n",
    "assert asTimedelta(Timedelta(1, 's')) == Timedelta(1, 's')\n",
    "assert asTimedelta(Timedelta(1000,'ms')) == Timedelta(1, 's')\n",
    "# Cast an int to a timedelta\n",
    "assert asTimedelta(2) == Timedelta(2, unit='s')\n",
    "assert asTimedelta(2000, unit='ms') == Timedelta(2, unit='s')\n",
    "# Cast a list of ints to a list of timedeltas\n",
    "assert asTimedelta([1, 2]) == [Timedelta(1, 's'), Timedelta(2, 's')]\n",
    "# Cast a string to a time delta\n",
    "assert asTimedelta(\"2000\", unit='ms') == Timedelta(2, unit='s')\n",
    "assert asTimedelta(\"s\", unit='ms') == None\n",
    "assert asTimedelta(\"\", unit='ms') == None\n",
    "assert asTimedelta(None, unit='ms') == None\n",
    "assert asTimedelta(NaT, unit='ms') == None\n",
    "# Cast a mixed list of strings and ints to a list of time deltas\n",
    "assert (asTimedelta([\"2\", 2, None, NaT], unit='s') ==\n",
    "        [Timedelta(2, unit='s'), Timedelta(2, unit='s'), None, None])"
   ]
  },
  {
   "cell_type": "markdown",
   "metadata": {},
   "source": [
    "## Time\n",
    "\n",
    "Simplest unit of time, with functions for handling it."
   ]
  },
  {
   "cell_type": "code",
   "execution_count": 222,
   "metadata": {},
   "outputs": [],
   "source": [
    "class Basetime:\n",
    "    \"\"\"Simplest unit of time. Can be returned as timedelta, s, ms.\"\"\"\n",
    "\n",
    "    def __init__(self, t, unit=BASEUNIT):\n",
    "        \"\"\"Basic unit of time.\"\"\"\n",
    "        self.t = Timedelta(t, unit=unit)\n",
    "        self.s = self._s(self.t)\n",
    "        self.ms = self._ms(self.t)\n",
    "\n",
    "    def _s(self, td=None, unit='s'):\n",
    "        \"\"\"Time in seconds.\"\"\"\n",
    "        td = asTimedelta(td, unit)\n",
    "        if td:\n",
    "            return td.total_seconds()\n",
    "        return td\n",
    "\n",
    "    def _ms(self, td=None, unit='s'):\n",
    "        td = asTimedelta(td, unit)\n",
    "        if td:\n",
    "            return 1000*td.total_seconds()\n",
    "        return td\n",
    "\n",
    "    def __repr__(self):\n",
    "        \"\"\"Display timedelta.\"\"\"\n",
    "        return repr(self.t)"
   ]
  },
  {
   "cell_type": "code",
   "execution_count": 227,
   "metadata": {
    "tags": [
     "active-ipynb"
    ]
   },
   "outputs": [],
   "source": [
    "# Check simple equivalence of Time to Timedelta\n",
    "assert Basetime(2).t == Timedelta(2, unit='s')\n",
    "assert Basetime(2000, unit='ms').t == Timedelta(2, unit='s')\n",
    "# Test seconds attribute\n",
    "assert Basetime(2).s == 2.0\n",
    "# Test milliseconds attribute\n",
    "assert Basetime(2).ms == 2000\n",
    "assert Basetime(2000, unit='ms').s == 2\n",
    "assert Basetime(2000, unit='ms').s == 2.0"
   ]
  },
  {
   "cell_type": "code",
   "execution_count": 242,
   "metadata": {},
   "outputs": [],
   "source": [
    "def asTime(atime=None, unit=BASEUNIT):\n",
    "    \"\"\"Generate a valid Time.\"\"\"\n",
    "    if isinstance(atime, tuple) and len(atime) == 3:\n",
    "        _atime = atime\n",
    "    else:\n",
    "        _atime = (None, None, None)\n",
    "        \n",
    "    index = _atime[0]\n",
    "    uid = _atime[1]\n",
    "    time = asTimedelta(_atime[2], unit=unit)\n",
    "        \n",
    "    atime = (index, uid, time)\n",
    "        \n",
    "    return atime"
   ]
  },
  {
   "cell_type": "code",
   "execution_count": 243,
   "metadata": {
    "tags": [
     "active-ipynb"
    ]
   },
   "outputs": [],
   "source": [
    "# Check assignment of single time\n",
    "assert asTime((1, 2, '3')) == (1, 2, Timedelta(3, 's'))\n",
    "# If we don't get a tuple, return one filled with nulls\n",
    "assert asTime(1) == (None, None, None)\n",
    "# If we get a list, that's wrong too...\n",
    "assert (asTime([(1, 2, 3), (4, 5, '6')])) == (None, None, None)"
   ]
  },
  {
   "cell_type": "code",
   "execution_count": 217,
   "metadata": {},
   "outputs": [],
   "source": [
    "def asTimes(atime=None, unit=BASEUNIT):\n",
    "    \"\"\"Generate a list of valid Times.\"\"\"\n",
    "    if isinstance(atime, list):\n",
    "        t = [asTime(_t, unit=unit) for _t in atime]\n",
    "        return t\n",
    "    return [asTime(atime, unit=unit)]"
   ]
  },
  {
   "cell_type": "code",
   "execution_count": 229,
   "metadata": {
    "tags": [
     "active-ipynb"
    ]
   },
   "outputs": [],
   "source": [
    "# Check assignment of list of times\n",
    "assert (asTimes([(1, 2, 3), (4, 5, '6')]) == \n",
    "        [(1, 2, Timedelta(3, 's')), (4, 5, Timedelta(6, 's'))])\n",
    "# If we get a single time, return it as Time list\n",
    "assert asTimes((1, 2, '3')) == [(1, 2, Timedelta(3, 's'))]\n",
    "# If we get nonsense, retun null tuples\n",
    "assert asTimes(1) == [(None, None, None)]\n",
    "assert (asTimes([1, (4, 5, 6000), ('a', 1)], unit='ms') ==\n",
    "        [(None, None, None), (4, 5, Timedelta(6, 's')), (None, None, None)])"
   ]
  },
  {
   "cell_type": "code",
   "execution_count": 220,
   "metadata": {},
   "outputs": [],
   "source": [
    "class Time:\n",
    "    \"\"\"\n",
    "    A time unit expresses an indexed time for an identified thing.\n",
    "    \n",
    "    Times are given as a 3-tuple: (index, uid, time).\n",
    "    \"\"\"\n",
    "\n",
    "    def __init__(self, atime=None, unit=BASEUNIT):\n",
    "        \"\"\"Create a valid time.\"\"\"\n",
    "        atime = asTime(atime, unit=BASEUNIT)\n",
    "        (self.index, self.uid, self.time) = atime\n",
    "        self.atime = (self.index, self.uid, self.time)\n",
    "\n",
    "    def __repr__(self):\n",
    "        \"\"\"Display time 3-tuple.\"\"\"\n",
    "        return repr(self.atime)"
   ]
  },
  {
   "cell_type": "code",
   "execution_count": 251,
   "metadata": {
    "tags": [
     "active-ipynb"
    ]
   },
   "outputs": [],
   "source": [
    "# Check we return a simple Time tuple\n",
    "assert Time((1, 2, '3')).atime == (1, 2, Timedelta(3, 's'))"
   ]
  },
  {
   "cell_type": "code",
   "execution_count": null,
   "metadata": {},
   "outputs": [],
   "source": [
    "# TO DO  - labelled time - add a  label to the time tuple"
   ]
  },
  {
   "cell_type": "markdown",
   "metadata": {},
   "source": [
    "## Times\n",
    "\n",
    "Represent a set of times, eg laptimes, stagetimes, splittimes."
   ]
  },
  {
   "cell_type": "code",
   "execution_count": 238,
   "metadata": {},
   "outputs": [],
   "source": [
    "class Times():\n",
    "    \"\"\"Represent a list of times, eg laptimes, stagetimes, splittimes.\"\"\"\n",
    "    \n",
    "    def __init__(self, times, unit=BASEUNIT):\n",
    "        \"\"\"Base representation of a set of times.\"\"\"\n",
    "        self.times = asTimes(times, unit=unit)\n",
    "        \n",
    "    def rebase(self, times=None, unit=BASEUNIT):\n",
    "        \"\"\"Rebase times\"\"\"\n",
    "        pass"
   ]
  },
  {
   "cell_type": "code",
   "execution_count": 241,
   "metadata": {},
   "outputs": [],
   "source": [
    "# Check a single time is expressed as a list of Times\n",
    "assert Times((1, 2, 3)).times == [(1, 2, Timedelta(3, 's'))]\n",
    "# Check a list of times is expressed as a list of Times\n",
    "assert (Times([(1, 2, 3000), (4, 5, \"6000\")], unit='ms').times ==\n",
    "        [(1, 2, Timedelta(3, 's')), (4, 5, Timedelta(6, 's'))])"
   ]
  },
  {
   "cell_type": "markdown",
   "metadata": {},
   "source": [
    "## MultiTimes\n",
    "\n",
    "`MultiTimes` are used to collect sets of times, for example, the sets of split times within a multi-split rally stage.\n",
    "m\n",
    "`MultiTimes` arrange individual `Times` lists using an ordered `dict`.\n",
    "\n",
    "`MultiTimes` may point to `MultiTimes`. For example, a `MultiTimes` object for a rally may contain a simple `dict` of stage times, or it may contain a `dict` of `MultiTimes` each describing the split times for the corresponding stage.\n",
    "\n",
    "A `levels` argument should label each level, eg `levels = ['stage', 'splits']`."
   ]
  },
  {
   "cell_type": "code",
   "execution_count": 250,
   "metadata": {},
   "outputs": [
    {
     "data": {
      "text/plain": [
       "(1, 2, 3, 3)"
      ]
     },
     "execution_count": 250,
     "metadata": {},
     "output_type": "execute_result"
    }
   ],
   "source": [
    "# For testing levels of MultiTimes?\n",
    "\n",
    "# https://stackoverflow.com/a/23499101/454773\n",
    "def depth(d):\n",
    "    \"\"\"Find the 'depth' of a dict.\"\"\"\n",
    "    if isinstance(d, dict):\n",
    "        return 1 + (max(map(depth, d.values())) if d else 0)\n",
    "    return 0\n",
    "\n",
    "(depth({'a': 1}), depth({'a': {'b': 2}}), depth({'a': {'b': {'a': 3}}}),\n",
    " depth({'a': {'b': 2}, 'x': {'b': {'a': 3}}}),)"
   ]
  },
  {
   "cell_type": "raw",
   "metadata": {
    "tags": [
     "active-ipynb"
    ]
   },
   "source": [
    "def __init__(self, sdbRallyId=None, stageId=None, live=False,\n",
    "                 autoseed=False, slurp=False, dbname=None):\n",
    "        \"\"\"Build on classes for each page of API/WRC live timing website.\"\"\"\n",
    "        WRCCars.__init__(self, sdbRallyId=sdbRallyId, live=live,\n",
    "                         autoseed=autoseed, dbname=dbname)"
   ]
  }
 ],
 "metadata": {
  "celltoolbar": "Tags",
  "jupytext": {
   "formats": "ipynb,py:light"
  },
  "kernelspec": {
   "display_name": "Python 3",
   "language": "python",
   "name": "python3"
  },
  "language_info": {
   "codemirror_mode": {
    "name": "ipython",
    "version": 3
   },
   "file_extension": ".py",
   "mimetype": "text/x-python",
   "name": "python",
   "nbconvert_exporter": "python",
   "pygments_lexer": "ipython3",
   "version": "3.7.5"
  }
 },
 "nbformat": 4,
 "nbformat_minor": 2
}
