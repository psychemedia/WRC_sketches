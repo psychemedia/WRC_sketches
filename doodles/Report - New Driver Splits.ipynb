{
 "cells": [
  {
   "cell_type": "code",
   "execution_count": 1,
   "metadata": {},
   "outputs": [
    {
     "name": "stdout",
     "output_type": "stream",
     "text": [
      "importing Jupyter notebook from Report - Driver Splits.ipynb\n",
      "importing Jupyter notebook from Charts - Stage Results.ipynb\n",
      "importing Jupyter notebook from Charts - Split Sector Delta.ipynb\n"
     ]
    }
   ],
   "source": [
    "import notebookimport\n",
    "\n",
    "ds= __import__(\"Report - Driver Splits\")"
   ]
  },
  {
   "cell_type": "code",
   "execution_count": 2,
   "metadata": {},
   "outputs": [],
   "source": [
    "import pandas as pd\n",
    "q_drivers='SELECT `driver.code` AS code  FROM startlists st JOIN startlist_classes sc ON sc.entryid = st.entryid AND name=\"{}\"'\n",
    "\n",
    "q_classes='SELECT DISTINCT(name) AS name FROM startlists st JOIN startlist_classes sc ON sc.entryid = st.entryid'\n",
    "\n",
    "\n"
   ]
  },
  {
   "cell_type": "code",
   "execution_count": 3,
   "metadata": {},
   "outputs": [],
   "source": [
    "import sqlite3\n",
    "\n",
    "dbname='sweden19.db'\n",
    "conn = sqlite3.connect(dbname)\n",
    "rally='Sweden'\n",
    "rc='RC1'\n",
    "year=2019"
   ]
  },
  {
   "cell_type": "code",
   "execution_count": 4,
   "metadata": {},
   "outputs": [],
   "source": [
    "from IPython.display import HTML\n",
    "\n",
    "def stage_chart(rc,driver):\n",
    "    s2 = ds.getDriverSplitsReport(conn, rally, 'SS3', driver, rc)\n",
    "    display(HTML(s2))"
   ]
  },
  {
   "cell_type": "code",
   "execution_count": 5,
   "metadata": {},
   "outputs": [
    {
     "data": {
      "application/vnd.jupyter.widget-view+json": {
       "model_id": "9d793eeddf9547a7b016e9239316be34",
       "version_major": 2,
       "version_minor": 0
      },
      "text/plain": [
       "interactive(children=(Dropdown(description='Class:', options=('RC1', 'RC2', 'RC4', 'NAT4'), value='RC1'), Drop…"
      ]
     },
     "metadata": {},
     "output_type": "display_data"
    }
   ],
   "source": [
    "import ipywidgets as widgets\n",
    "from ipywidgets import interact\n",
    "\n",
    "classes = widgets.Dropdown(\n",
    "    options=pd.read_sql(q_classes,conn)['name'].to_list(),\n",
    "    value='RC1',\n",
    "    description='Class:',\n",
    "    disabled=False,\n",
    ")\n",
    "\n",
    "drivers = widgets.Dropdown(\n",
    "    options=pd.read_sql(q_drivers.format(classes.value),conn)['code'].to_list(),\n",
    "    #value='NEU',\n",
    "    description='Driver:',\n",
    "    disabled=False,\n",
    ")\n",
    "\n",
    "def update_drivers(*args):\n",
    "    qdrivers = q_drivers.format(classes.value)\n",
    "    driverlist = pd.read_sql(qdrivers,conn)['code'].to_list()\n",
    "    print(driverlist)\n",
    "    drivers.options = driverlist\n",
    "    \n",
    "classes.observe(update_drivers, 'value')\n",
    "\n",
    "\n",
    "interact(stage_chart, rc=classes, driver=drivers);"
   ]
  },
  {
   "cell_type": "code",
   "execution_count": null,
   "metadata": {},
   "outputs": [],
   "source": []
  },
  {
   "cell_type": "code",
   "execution_count": null,
   "metadata": {},
   "outputs": [],
   "source": []
  }
 ],
 "metadata": {
  "kernelspec": {
   "display_name": "Python 3",
   "language": "python",
   "name": "python3"
  },
  "language_info": {
   "codemirror_mode": {
    "name": "ipython",
    "version": 3
   },
   "file_extension": ".py",
   "mimetype": "text/x-python",
   "name": "python",
   "nbconvert_exporter": "python",
   "pygments_lexer": "ipython3",
   "version": "3.7.0"
  }
 },
 "nbformat": 4,
 "nbformat_minor": 2
}
