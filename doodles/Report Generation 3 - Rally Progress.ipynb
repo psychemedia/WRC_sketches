{
 "cells": [
  {
   "cell_type": "markdown",
   "metadata": {},
   "source": [
    "# Report Generation - Rally Progress\n",
    "\n",
    "Generate a report for each section of a specified rally and each stage in each section.\n",
    "\n",
    "The report text is appended to either pre-existing report files, or written to newly created report files.\n",
    "\n",
    "The report generator will generate:\n",
    "\n",
    "- section summary reports;\n",
    "- stage reports.\n",
    "\n",
    "It also arranges map items for embedding in the stage reports, although the map images are currently created elsewhere..."
   ]
  },
  {
   "cell_type": "code",
   "execution_count": 1,
   "metadata": {},
   "outputs": [],
   "source": [
    "import notebookimport"
   ]
  },
  {
   "cell_type": "code",
   "execution_count": 2,
   "metadata": {},
   "outputs": [],
   "source": [
    "#!pip3 install unidecode"
   ]
  },
  {
   "cell_type": "code",
   "execution_count": 3,
   "metadata": {},
   "outputs": [],
   "source": [
    "if __name__=='__main__':\n",
    "    rebase='overallleader'\n",
    "    #rebase='PAD'#'PAD'\n",
    "    MAXINSPLITDELTA=20 #set xlim on the within split delta"
   ]
  },
  {
   "cell_type": "code",
   "execution_count": 4,
   "metadata": {},
   "outputs": [
    {
     "name": "stdout",
     "output_type": "stream",
     "text": [
      "importing Jupyter notebook from Charts - Stage Results.ipynb\n",
      "importing Jupyter notebook from Charts - Split Sector Delta.ipynb\n",
      "importing Jupyter notebook from Charts - Stage Progress.ipynb\n",
      "importing Jupyter notebook from Report - Driver Splits.ipynb\n"
     ]
    }
   ],
   "source": [
    "sr = __import__(\"Charts - Stage Results\")\n",
    "ssd = __import__(\"Charts - Split Sector Delta\")\n",
    "sp = __import__(\"Charts - Stage Progress\")\n",
    "ds = __import__(\"Report - Driver Splits\")"
   ]
  },
  {
   "cell_type": "code",
   "execution_count": 5,
   "metadata": {},
   "outputs": [],
   "source": [
    "import tracery\n",
    "from tracery.modifiers import base_english\n",
    "from inflectenglish import inflect_english\n",
    "from pytracery_logic import pytracery_logic\n",
    "from IPython.display import HTML\n",
    "\n",
    "def pandas_row_mapper(row, rules, root,  modifiers=base_english):\n",
    "    ''' Function to parse single row of dataframe and apply a tracery grammar to it. '''\n",
    "    row=row.to_dict()\n",
    "    rules=rules.copy()\n",
    "\n",
    "    for k in row:\n",
    "        rules[k] = str(row[k])\n",
    "        \n",
    "    grammar = tracery.Grammar(rules)\n",
    "        \n",
    "    if modifiers is not None:\n",
    "        if isinstance(modifiers,list):\n",
    "            for modifier in modifiers:\n",
    "                grammar.add_modifiers(modifier)\n",
    "        else:\n",
    "            grammar.add_modifiers(modifiers)\n",
    "\n",
    "    return grammar.flatten(root)"
   ]
  },
  {
   "cell_type": "code",
   "execution_count": 6,
   "metadata": {},
   "outputs": [],
   "source": [
    "#need to get db builder -\n",
    "#eg http://localhost:8888/notebooks/Documents/code/github%20forks/WRC_sketches/doodles/WRC%20API%202018%20Base.ipynb"
   ]
  },
  {
   "cell_type": "code",
   "execution_count": 7,
   "metadata": {},
   "outputs": [],
   "source": [
    "import os\n",
    "import sqlite3\n",
    "import pandas as pd\n",
    "import pytablewriter\n",
    "import six\n",
    "\n",
    "#dbname='wrc18.db'\n",
    "#dbname='france18.db'\n",
    "#conn = sqlite3.connect(dbname)\n",
    "\n",
    "if __name__=='__main__':\n",
    "    #dbname='wrc18.db'\n",
    "    dbname='australia18.db'\n",
    "    conn = sqlite3.connect(dbname)\n",
    "    rally='Australia'\n",
    "    rc='RC1'\n",
    "    year=2018\n",
    "    #ss='SS4'"
   ]
  },
  {
   "cell_type": "code",
   "execution_count": 8,
   "metadata": {},
   "outputs": [],
   "source": [
    "basepath = 'report'\n",
    "imgdir = 'images'\n",
    "imgdirfull = '{}/{}'.format(basepath, imgdir)\n"
   ]
  },
  {
   "cell_type": "code",
   "execution_count": 9,
   "metadata": {},
   "outputs": [],
   "source": [
    "#rally='France'"
   ]
  },
  {
   "cell_type": "code",
   "execution_count": 10,
   "metadata": {},
   "outputs": [
    {
     "data": {
      "text/plain": [
       "\"year=2018\\nrc='RC2'\\nss='SS4'\\n\\n\\ntyp='stage_times_stage' #stage_times_stage stage_times_overall\\ntyp='stage_times_overall\""
      ]
     },
     "execution_count": 10,
     "metadata": {},
     "output_type": "execute_result"
    }
   ],
   "source": [
    "'''year=2018\n",
    "rc='RC2'\n",
    "ss='SS4'\n",
    "\n",
    "\n",
    "typ='stage_times_stage' #stage_times_stage stage_times_overall\n",
    "typ='stage_times_overall'''"
   ]
  },
  {
   "cell_type": "code",
   "execution_count": 11,
   "metadata": {},
   "outputs": [],
   "source": [
    "if __name__=='__main__':\n",
    "    stageresults = sr.dbGetRallyStages(conn, rally).sort_values('number')\n",
    "\n",
    "    #The getEnrichedStageRank query filters down to a class - default is RC1\n",
    "    stagerank_overall = sr.getEnrichedStageRank(conn, rally, typ='overall')\n",
    "\n",
    "    stagerank_stage = sr.getEnrichedStageRank(conn, rally, typ='stage')"
   ]
  },
  {
   "cell_type": "markdown",
   "metadata": {},
   "source": [
    "This is a simple example of the sort of report string we want to report against.\n",
    "\n",
    "```python\n",
    "txt='In stage {stage}, {lead} took the stage, {nthstagewin}, in a time of {time}.\\n\\nIn second place on stage, {diff} behind, {second} retained overall lead of the rally.'.format(**row)\n",
    "```"
   ]
  },
  {
   "cell_type": "code",
   "execution_count": 12,
   "metadata": {},
   "outputs": [
    {
     "data": {
      "text/plain": [
       "diffFirst                         00:00:04.2000000\n",
       "diffFirstMs                                   4200\n",
       "diffPrev                          00:00:01.4000000\n",
       "diffPrevMs                                    1400\n",
       "elapsedDuration                   00:04:49.7000000\n",
       "elapsedDurationMs                           289700\n",
       "entryId                                       3315\n",
       "position                                        11\n",
       "source                                     Default\n",
       "stageId                                        838\n",
       "stageTimeId                                  47035\n",
       "status                                   Completed\n",
       "class                                          RC1\n",
       "code                                           SS1\n",
       "distance                                      8.77\n",
       "name                                  Orara East I\n",
       "snum                                             1\n",
       "drivercode                                     BRE\n",
       "entrant.name           CITROEN TOTAL ABU DHABI WRT\n",
       "classrank                                       11\n",
       "gainedClassPos                               False\n",
       "gainedClassLead                              False\n",
       "classPosDiff                                     0\n",
       "lostClassLead                                False\n",
       "retainedClassLead                            False\n",
       "gainedOverallPos                             False\n",
       "gainedOverallLead                            False\n",
       "overallPosDiff                                   0\n",
       "lostOverallLead                              False\n",
       "retainedOverallLead                          False\n",
       "stagewin                                     False\n",
       "stagewincount                                    0\n",
       "winsinarow                                       0\n",
       "gainedTime                                   False\n",
       "Name: 10, dtype: object"
      ]
     },
     "execution_count": 12,
     "metadata": {},
     "output_type": "execute_result"
    }
   ],
   "source": [
    "stagerank_stage.iloc[10]"
   ]
  },
  {
   "cell_type": "raw",
   "metadata": {},
   "source": [
    "import inflect\n",
    "p = inflect.engine()\n",
    "\n",
    "def timedelta_to_text(td): \n",
    "    if not td: return\n",
    "    c=pd.to_timedelta(td).components\n",
    "    txt=[]\n",
    "    if c.hours>0:\n",
    "        txt_.append(p.number_to_words(c.hours)+p.plural('hours',c.hours))\n",
    "    if c.minutes>0:\n",
    "        txt.append('{} {}'.format(p.number_to_words(c.minutes),p.plural('minute',c.minutes)))\n",
    "    if c.seconds>0:\n",
    "        seconds=c.seconds\n",
    "        if c.milliseconds>0:\n",
    "            seconds=seconds+c.milliseconds/1000\n",
    "        txt.append('{} {}'.format(p.number_to_words(seconds),p.plural('second',seconds)))\n",
    "    return p.join(txt, final_sep=\"and\")\n",
    "\n",
    "def timedelta_to_numtext(td):\n",
    "    if not td: return\n",
    "    c=pd.to_timedelta(td).components\n",
    "    txt=[]\n",
    "    if c.hours>0:\n",
    "        txt.append('{}{}'.format(c.hours,p.plural('hr',c.hours)))\n",
    "    if c.minutes>0:\n",
    "        txt.append('{}m'.format(c.minutes))\n",
    "    if c.seconds>0:\n",
    "        seconds=c.seconds\n",
    "        if c.milliseconds>0:\n",
    "            seconds=round(seconds+c.milliseconds/1000, 2)\n",
    "        txt.append('{}s'.format(seconds))\n",
    "\n",
    "    return p.join(txt,conj='')"
   ]
  },
  {
   "cell_type": "raw",
   "metadata": {},
   "source": [
    "_code='SS5'\n",
    "typ=stagerank_stage\n",
    "typ['elapsedDuration_txt'] =typ['elapsedDuration'].apply(timedelta_to_numtext)\n",
    "typ['diffFirst_txt'] =typ['diffFirst'].apply(timedelta_to_numtext)\n",
    "_srs=typ[(typ['code']==_code) & (typ['position']<=3)][['code','position','winsinarow','elapsedDuration',\n",
    "                                                    'elapsedDuration_txt', 'stagewin','diffFirst_txt',\n",
    "                                                                                         'stagewincount',\n",
    "                                                                                         'drivercode']]\n",
    "_srs.columns=[c.replace('.','') for c in _srs.columns]\n",
    "_srs.to_dict(orient='record')"
   ]
  },
  {
   "cell_type": "raw",
   "metadata": {},
   "source": [
    "rules = {'onetwo_':'[branch:#_onetwo_#]#branch##condition#',\n",
    "         '_onetwo_':'#stagewin._branch(True,stagewinner_,second)# ',\n",
    "         'y':'[switch:#sval#]#switch##condition#',\n",
    "         'yy':'#drivercode# [switch:#position.int_to_words.ordinal._prefix(stage)._switch#]#switch##condition#',\n",
    "         'sval':'#position.int_to_words.ordinal._prefix(stage)._switch#',\n",
    "         'stagefirst':'in first',\n",
    "         'stagethird':'took third',\n",
    "         'stagewinner_': \"#drivercode# #won_# stage #code# #inwith_# a time of #elapsedDuration_txt#.\",\n",
    "         'won_':['won', 'took'],\n",
    "         'inwith_':['in', 'with'],\n",
    "        'stagesecond':'took second, #diffFirst_txt# behind.',\n",
    "        'z':'#position._gte(1,stagewinner)#',\n",
    "        'toptwo_':'[switch:#_toptwo_#]#switch##condition#','_toptwo_':'#position._gte(2,onetwo_)#',\n",
    "        'null':''}\n",
    "\n",
    "#dd.columns=[c.replace('.','') for c in dd.columns]\n",
    "#dd['report'] = dd.apply(lambda row: pandas_row_mapper(row, rules, \"#origin#\"), axis=1)\n",
    "#for k in row:\n",
    "#    rules[k] = str(row[k])\n",
    "\n",
    "#grammar = tracery.Grammar(rules)\n",
    "#grammar.add_modifiers(inflect_english)\n",
    "#grammar.flatten('stagewinner')\n",
    "_srs.apply(lambda row: pandas_row_mapper(row, rules, \"#y#\",[base_english,inflect_english,pytracery_logic]), axis=1)"
   ]
  },
  {
   "cell_type": "raw",
   "metadata": {},
   "source": [
    "_srs"
   ]
  },
  {
   "cell_type": "raw",
   "metadata": {},
   "source": [
    "_srs.apply(lambda row: pandas_row_mapper(row, rules, \"#yy#\",[base_english,inflect_english,pytracery_logic]), axis=1)\n"
   ]
  },
  {
   "cell_type": "raw",
   "metadata": {},
   "source": [
    "typ=stagerank_overall\n",
    "_sro=typ[(typ['code']==_code) & (typ['stagewin'])][['code','position','winsinarow',\n",
    "                                                                                         'stagewin',\n",
    "                                                                                         'stagewincount',\n",
    "                                                                                         'retainedOverallLead',\n",
    "                                                                                         'drivercode']]\n",
    "\n",
    "_sro.columns=[c.replace('.','') for c in _sro.columns]\n",
    "_sro.to_dict(orient='record')"
   ]
  },
  {
   "cell_type": "code",
   "execution_count": 13,
   "metadata": {},
   "outputs": [
    {
     "name": "stdout",
     "output_type": "stream",
     "text": [
      "Section 1 ['SS1', 'SS2', 'SS3']\n",
      "Section 10 ['SS24']\n",
      "Section 2 ['SS4', 'SS5', 'SS6']\n",
      "Section 3 ['SS7', 'SS8']\n",
      "Section 4 ['SS9', 'SS10', 'SS11', 'SS12']\n",
      "Section 5 ['SS13', 'SS14', 'SS15', 'SS16']\n",
      "Section 6 ['SS17', 'SS18']\n",
      "Section 7 ['SS19', 'SS20']\n",
      "Section 8 ['SS21']\n",
      "Section 9 ['SS22', 'SS23']\n"
     ]
    }
   ],
   "source": [
    "sections = stageresults.groupby('section')\n",
    "\n",
    "#Generate list from group: stageresults.groupby('section')['code'].apply(list)\n",
    "\n",
    "#Generate group then iterate through groups\n",
    "for key in sections.groups.keys():\n",
    "    print(key, sections.get_group(key)['code'].tolist())\n"
   ]
  },
  {
   "cell_type": "code",
   "execution_count": 14,
   "metadata": {},
   "outputs": [],
   "source": [
    "sectionREADME_base = '''\\n### {section} Report\n",
    "'''"
   ]
  },
  {
   "cell_type": "markdown",
   "metadata": {},
   "source": [
    "## Section Reports\n",
    "\n",
    "Can these be limited to e.g. just RC1?\n",
    "\n",
    "TO DO - need something if the section is a single stage - not s split chart, just a spot chart?"
   ]
  },
  {
   "cell_type": "code",
   "execution_count": 15,
   "metadata": {},
   "outputs": [],
   "source": [
    "cols=['diffFirst', 'diffFirstMs', 'diffPrev', 'diffPrevMs', 'elapsedDuration',\n",
    "       'elapsedDurationMs', 'entryId', 'position', 'source', 'stageId',\n",
    "       'stageTimeId', 'status', 'class', 'code', 'distance', 'name', 'snum',\n",
    "       'drivercode', 'entrant.name', 'classrank', 'gainedClassPos',\n",
    "       'gainedClassLead', 'classPosDiff', 'lostClassLead', 'retainedClassLead',\n",
    "       'gainedOverallPos', 'gainedOverallLead', 'overallPosDiff',\n",
    "       'lostOverallLead', 'retainedOverallLead', 'stagewin', 'stagewincount',\n",
    "       'winsinarow', 'gainedTime']\n",
    "cols=['drivercode','entrant.name','elapsedDuration','position','classrank' ,'diffFirst', 'diffPrev']\n",
    "\n",
    "#stagerank_stage[stagerank_stage['code']=='SS9'][cols].sort_values('position')"
   ]
  },
  {
   "cell_type": "code",
   "execution_count": 16,
   "metadata": {},
   "outputs": [
    {
     "data": {
      "text/plain": [
       "{'SS12': {'status': 'Completed'},\n",
       " 'SS17': {'status': 'Completed'},\n",
       " 'SS16': {'status': 'Completed'},\n",
       " 'SS15': {'status': 'Completed'},\n",
       " 'SS14': {'status': 'Completed'},\n",
       " 'SS13': {'status': 'Completed'},\n",
       " 'SS18': {'status': 'Completed'},\n",
       " 'SS23': {'status': 'Completed'},\n",
       " 'SS22': {'status': 'Completed'},\n",
       " 'SS21': {'status': 'Completed'},\n",
       " 'SS20': {'status': 'Completed'},\n",
       " 'SS19': {'status': 'Completed'},\n",
       " 'SS24': {'status': 'Completed'},\n",
       " 'SS5': {'status': 'Completed'},\n",
       " 'SS4': {'status': 'Completed'},\n",
       " 'SS3': {'status': 'Completed'},\n",
       " 'SS2': {'status': 'Completed'},\n",
       " 'SS1': {'status': 'Completed'},\n",
       " 'SS11': {'status': 'Completed'},\n",
       " 'SS10': {'status': 'Completed'},\n",
       " 'SS6': {'status': 'Completed'},\n",
       " 'SS9': {'status': 'Completed'},\n",
       " 'SS8': {'status': 'Completed'},\n",
       " 'SS7': {'status': 'Completed'}}"
      ]
     },
     "execution_count": 16,
     "metadata": {},
     "output_type": "execute_result"
    }
   ],
   "source": [
    "q='''\n",
    "    SELECT itc.code, itc.status\n",
    "    FROM itinerary_controls itc\n",
    "    JOIN championship_events ce ON itc.eventId=ce.eventId\n",
    "    JOIN itinerary_sections isc ON itc.`itinerarySections.itinerarySectionId`=isc.itinerarySectionId\n",
    "    JOIN itinerary_legs il ON isc.itineraryLegId=il.itineraryLegId\n",
    "    WHERE ce.`country.name`=\"{rally}\" AND itc.code LIKE \"SS%\" \n",
    "    '''.format(rally=rally)\n",
    "stage_status=pd.read_sql(q,conn).set_index('code').to_dict(orient='index')\n",
    "stage_status"
   ]
  },
  {
   "cell_type": "code",
   "execution_count": 17,
   "metadata": {},
   "outputs": [],
   "source": [
    "%%capture\n",
    "if not os.path.exists(imgdirfull):\n",
    "    os.makedirs(imgdirfull)\n",
    "\n",
    "\n",
    "#Maybe have a dataframe styling / formatting / output notebook?\n",
    "def _markdown_table_write(tmp_df, prefix='\\n\\n'):\n",
    "    ''' Write out pandas dataframe as a markdown table. '''\n",
    "    writer = pytablewriter.MarkdownTableWriter()\n",
    "    writer.stream = six.StringIO()\n",
    "    \n",
    "    #Drop drivers without a position\n",
    "    writer.from_dataframe(tmp_df)\n",
    "    writer.write_table()\n",
    "    return prefix+writer.stream.getvalue()\n",
    "\n",
    "\n",
    "def get_overall_results_table(stagerank_overall,ss):\n",
    "    ''' Retrieve overall rank data and return it as a markdown formatted table. '''\n",
    "    \n",
    "    cols=cols=['drivercode','entrant.name','totalTime','position','classrank' ,'diffFirst', 'diffPrev']\n",
    "    tmp_df = stagerank_overall[stagerank_overall['code']==ss][cols].sort_values('position')\n",
    "\n",
    "    tmp_df.columns=['Driver','Team','Elapsed Duration','Position','Class Rank' ,'diffFirst', 'diffPrev']  \n",
    "    \n",
    "    #Hack the markdown to get rid of the trailing zeroes in the millisecond representation\n",
    "    return _markdown_table_write(tmp_df.dropna(subset=['Position'])).replace('000000','')\n",
    "\n",
    "\n",
    "def get_stage_results_table(stagerank_stage,ss):\n",
    "    ''' Retrieve stage rank data and return it as a markdown formatted table. '''\n",
    "    \n",
    "    cols=['drivercode','entrant.name','elapsedDuration','position','classrank' ,'diffFirst', 'diffPrev']\n",
    "    tmp_df = stagerank_stage[stagerank_stage['code']==ss][cols].sort_values('position')\n",
    "    tmp_df.columns=['Driver','Team','Elapsed Duration','Position','Class Rank' ,'diffFirst', 'diffPrev']  \n",
    "    \n",
    "    #Hack the markdown to get rid of the trailing zeroes in the millisecond representation\n",
    "    return _markdown_table_write(tmp_df.dropna(subset=['Position'])).replace('000000','')\n",
    "    #writer = pytablewriter.MarkdownTableWriter()\n",
    "    #writer.stream = six.StringIO()\n",
    "    \n",
    "    ##Drop drivers without a position\n",
    "    #writer.from_dataframe(tmp_df.dropna(subset=['Position']))\n",
    "    #writer.write_table()\n",
    "    #return '\\n\\n'+writer.stream.getvalue()\n",
    "\n",
    "    \n",
    "def sectionRankingChart(data, title, sectionREADME, key, sectionStages, fn_core, deltalabels=True, elaborate=True):\n",
    "    ''' Generate section ranking chart, save as image file, and add embedded image link to sectionREADME text. '''\n",
    "    data = sr.stageOverallEnrichers(data)\n",
    "    ss = data[data['code'].isin(sectionStages)].copy()\n",
    "    ss = sr.stageLegEnrichers(ss)\n",
    "    if ss.empty or ss.dropna(subset=['diffFirst']).empty: return sectionREADME\n",
    "    fn='{}/{}'.format(imgdirfull, fn_core)\n",
    "    fig, ax = sr.plotStageProgressionChart( ss, linecolor='lightgrey' , deltalabels=deltalabels, elaborate=elaborate,\n",
    "                                        progress=True, stageAnnotate=False, filename=fn, title = title); \n",
    "    if fig is not None:\n",
    "        fn='{}/{}'.format(imgdir, fn_core)\n",
    "        sectionREADME = '''\\n\\n{s}{key}\\n\\n![]({img})\\n'''.format(s=sectionREADME, key=key,img=fn)\n",
    "    return sectionREADME\n",
    "\n",
    "\n",
    "def _sectionStagesReport(sections, stagerank_overall, stagerank_stage, basepath, rebase='overall'):\n",
    "    ''' Generate stage sections reports. '''\n",
    "    \n",
    "    #TO DO - these aren't yet available as rebased reports, if that event makes sense?\n",
    "    #The table could be rebased\n",
    "    dn ='_'+rebase if rebase and 'overall' not in rebase else ''\n",
    "        \n",
    "    for key in sections.groups.keys():\n",
    "        #path = '{}/{}'.format(basepath,key)\n",
    "        #if not os.path.exists(path):\n",
    "        #    os.makedirs(path)\n",
    "\n",
    "        out_file_name = '{bp}/{key}_report{dn}.md'.format(bp=basepath, key=key, dn=dn)\n",
    "\n",
    "        sectionStages = sections.get_group(key)['code'].tolist()\n",
    "        print('Section stages: {}'.format(sectionStages))\n",
    "        #Check section stages - if TORUN, then break\n",
    "        \n",
    "        sectionREADME = sectionREADME_base.format(section=key)\n",
    "        \n",
    "        #Stage rank chart\n",
    "        fn_core='spchart_stage_{}.png'.format( key)\n",
    "        title = '{} - Stage Ranking'.format(key)\n",
    "        sectionREADME = sectionRankingChart(stagerank_stage, title, sectionREADME,\n",
    "                                            key, sectionStages, fn_core, deltalabels=False, elaborate=False)\n",
    "\n",
    "        #Overall rally ranking chart\n",
    "        fn_core='spchart_overall_{}.png'.format( key)\n",
    "        title = '{} - Overall Rally Ranking Evolution'.format(key)\n",
    "        sectionREADME = sectionRankingChart(stagerank_overall, title, sectionREADME,\n",
    "                                            key, sectionStages, fn_core, deltalabels=True, elaborate=True )\n",
    "\n",
    "        #Display results as table\n",
    "        # TO DO - Need to do something about stage vs rally overall result?\n",
    "        for stage in sectionStages:\n",
    "            if stage_status[stage]['status']=='ToRun': break\n",
    "            #print(stage)\n",
    "            stage_result_table = get_stage_results_table(stagerank_stage,stage)\n",
    "            sectionREADME = '{}\\n\\n##Stage Result - {}\\n\\n{}\\n\\n'.format(sectionREADME, stage, stage_result_table)\n",
    "\n",
    "            #TO DO - do we need to over the ability to rebase this table?\n",
    "            overall_result_table = get_overall_results_table(stagerank_overall,stage)\n",
    "            sectionREADME = '{}\\n\\n##Overall Result - {}\\n\\n{}\\n\\n'.format(sectionREADME, stage, overall_result_table)\n",
    "\n",
    "            \n",
    "\n",
    "        with open(out_file_name, 'a') as out_file:\n",
    "            out_file.write(sectionREADME)\n",
    "\n",
    "def sectionStagesReport(conn, rally, basepath, rebase='overall'):\n",
    "    ''' Generate a report summarising stage activity within a section. '''\n",
    "    stagerank_overall = sr.getEnrichedStageRank(conn, rally, typ='overall')\n",
    "    stagerank_stage = sr.getEnrichedStageRank(conn, rally, typ='stage')\n",
    "    stageresults = sr.dbGetRallyStages(conn, rally).sort_values('number')\n",
    "    sections = stageresults.groupby('section')\n",
    "\n",
    "    _sectionStagesReport(sections, stagerank_overall, stagerank_stage, basepath, rebase)\n",
    "\n",
    "sectionStagesReport(conn, rally, basepath, rebase=rebase)#'overall')"
   ]
  },
  {
   "cell_type": "markdown",
   "metadata": {},
   "source": [
    "### Stage progression chart"
   ]
  },
  {
   "cell_type": "code",
   "execution_count": 18,
   "metadata": {},
   "outputs": [],
   "source": [
    "%%capture\n",
    "\n",
    "#This is a step in the creation of output files used to generate the rally report\n",
    "\n",
    "\n",
    "#README.md is created in step 2 - Itinerary Basics\n",
    "# Generate the stage progression chart for the extent of the rally to date\n",
    "fn='{}/spchart_full.png'.format(imgdirfull)\n",
    "fig, ax = sr.plotStageProgressionChart( stagerank_overall, linecolor='lightgrey' , deltalabels=True, \n",
    "                                        progress=True, stageAnnotate=False, filename=fn);\n",
    "\n",
    "\n",
    "#what do we need to add to allow stageannotate to be set True?\n",
    "#fn='{}/spchart_full2.png'.format(imgdirfull)\n",
    "#fig, ax = sr.plotStageProgressionChart( stagerank_overall, \n",
    "#                                        progress=True, stageAnnotate=True, filename=fn);\n",
    "\n",
    "#Need to find a way to check we don't add the link repeatedly to the file\n",
    "#if 'spchart_full.png' not in open('{}/README.md'.format(basepath)).read()\n",
    "README='''\\n![]({})'''.format('{}/spchart_full.png'.format(imgdir))\n",
    "with open('{}/README.md'.format(basepath), 'a') as out_file:\n",
    "    out_file.write(README)"
   ]
  },
  {
   "cell_type": "code",
   "execution_count": 19,
   "metadata": {},
   "outputs": [
    {
     "name": "stdout",
     "output_type": "stream",
     "text": [
      "README.md            SS22_report.md       Section 2_report.md\r\n",
      "SS10_report.md       SS23_report.md       Section 3_report.md\r\n",
      "SS11_report.md       SS24_report.md       Section 4_report.md\r\n",
      "SS12_report.md       SS2_report.md        Section 5_report.md\r\n",
      "SS13_report.md       SS3_report.md        Section 6_report.md\r\n",
      "SS14_report.md       SS4_report.md        Section 7_report.md\r\n",
      "SS15_report.md       SS5_report.md        Section 8_report.md\r\n",
      "SS16_report.md       SS6_report.md        Section 9_report.md\r\n",
      "SS17_report.md       SS7_report.md        \u001b[34mdocs\u001b[m\u001b[m\r\n",
      "SS18_report.md       SS8_report.md        entries_RC1.md\r\n",
      "SS19_report.md       SS9_report.md        entries_RC2.md\r\n",
      "SS1_report.md        SUMMARY.md           entries_RC3.md\r\n",
      "SS20_report.md       Section 10_report.md \u001b[34mimages\u001b[m\u001b[m\r\n",
      "SS21_report.md       Section 1_report.md  \u001b[34mmaps\u001b[m\u001b[m\r\n"
     ]
    }
   ],
   "source": [
    "!ls report"
   ]
  },
  {
   "cell_type": "markdown",
   "metadata": {},
   "source": [
    "## Stage Reports"
   ]
  },
  {
   "cell_type": "code",
   "execution_count": 20,
   "metadata": {},
   "outputs": [],
   "source": [
    "#overallleader = stagerank_overall[stagerank_overall['position']==1].set_index('code')[['drivercode']].to_dict(orient='dict')['drivercode']\n",
    "#overallleader"
   ]
  },
  {
   "cell_type": "code",
   "execution_count": 21,
   "metadata": {},
   "outputs": [],
   "source": [
    "if __name__=='__main__':\n",
    "    sections.groups.keys()"
   ]
  },
  {
   "cell_type": "code",
   "execution_count": 22,
   "metadata": {
    "scrolled": true
   },
   "outputs": [],
   "source": [
    "if __name__=='__main__':\n",
    "    #Look for maps\n",
    "    #Quick sketch to see what maps are available and what stages they refer to\n",
    "    #The maps are pulled from http://localhost:8888/notebooks/Documents/GitHub/wrcplus/notebooks/Map%20KML%20etc.ipynb\n",
    "    # TO DO: bring stage map capture creation tools into this workflow\n",
    "    maps={}\n",
    "    for i in os.listdir('report/maps'):\n",
    "        maps[i] = i.split('.')[0].replace('0','').replace('-','-SS').replace('SSS','SS')\n",
    "    smaps = {}\n",
    "    for m in maps:\n",
    "        for i in maps[m].split('-'):\n",
    "            smaps[i] = m\n",
    "    smaps"
   ]
  },
  {
   "cell_type": "code",
   "execution_count": 23,
   "metadata": {},
   "outputs": [],
   "source": [
    "#stagecodes"
   ]
  },
  {
   "cell_type": "code",
   "execution_count": 24,
   "metadata": {},
   "outputs": [],
   "source": [
    "chartexplainer={}\n",
    "chartexplainer['stageprogresschart']= \\\n",
    "'''\n",
    "The stage progress chart shows times rebased relative to the specified driver and highlights:\n",
    "\n",
    "- the overall gap relative to other drivers at the start of the stage;\n",
    "- the time gained / lost relative to other drivers on the stage;\n",
    "- the overall gap relative to other drivers at the end of the stage.\n",
    "'''\n",
    "\n",
    "chartexplainer['splitdeltaoverallchart']= \\\n",
    "'''\n",
    "For the specified driver, show the overall stage time delta at each split relative to the other drivers.\n",
    "'''\n",
    "\n",
    "chartexplainer['splitdeltawithinchart']= \\\n",
    "'''\n",
    "For the specified driver, show the delta for each split section relative to the other drivers.\n",
    "'''\n",
    "\n",
    "#chartexplainer['splitdeltaoverchart']= \\\n",
    "#'''\n",
    "#'''"
   ]
  },
  {
   "cell_type": "code",
   "execution_count": 25,
   "metadata": {
    "scrolled": true
   },
   "outputs": [
    {
     "name": "stdout",
     "output_type": "stream",
     "text": [
      "SS1\n",
      "SS2\n",
      "SS3\n",
      "SS4\n",
      "SS5\n",
      "SS6\n",
      "SS7\n",
      "SS8\n",
      "SS9\n",
      "SS10\n",
      "SS11\n",
      "SS12\n",
      "SS13\n",
      "SS14\n",
      "SS15\n",
      "SS16\n",
      "SS17\n",
      "SS18\n",
      "SS19\n",
      "SS20\n",
      "SS21\n",
      "SS22\n",
      "SS23\n",
      "SS24\n"
     ]
    }
   ],
   "source": [
    "import matplotlib.pyplot as plt\n",
    "import unidecode\n",
    "\n",
    "stagecodes = stageresults['code']\n",
    "\n",
    "def stageReport(stagerank_overall,stagerank_stage, stagecodes, stage_status,\n",
    "                rebase='overallleader', forceAll=False, basepath=basepath ):\n",
    "    ''' Generate stage level reports and figures for use in stage reports.\n",
    "        Reports components are saved to newly opened files with structure:\n",
    "            {}/{}_report{}.md'.format(basepath, ss, dn)\n",
    "        The dn component is a drivercode as specified by the rebase attribute.\n",
    "        The filenames are also minted into a SUMMARY.md file in 'Report 2 - Itinerary Basics::initStageReports()''\n",
    "    '''\n",
    "    drivercodes = stagerank_overall['drivercode'].unique()\n",
    "    links=[]\n",
    "    overallleader = stagerank_overall[stagerank_overall['position']==1].set_index('code')[['drivercode']].to_dict(orient='dict')['drivercode']\n",
    "    for ss in stagecodes:\n",
    "        #Check section stages - if TORUN, then break\n",
    "        if not forceAll and stage_status[ss]['status']=='ToRun': break\n",
    "\n",
    "        print(ss)\n",
    "        \n",
    "        dn=''\n",
    "        invert_colours=False\n",
    "        if rebase=='overallleader':\n",
    "            dc = overallleader[ss]\n",
    "        elif rebase in drivercodes:\n",
    "            dc = rebase\n",
    "            dn = '_'+dc\n",
    "            invert_colours=True\n",
    "        else:\n",
    "            dc = overallleader[ss]\n",
    "            \n",
    "        #Should we avoid SS1?\n",
    "        #SS1 stage bars are borked - disable for now?\n",
    "        #if ss=='SS1': continue\n",
    "        currprevstagerank = sp.getCurrPrevStageRank(conn, rally, rc, ss)\n",
    "        splitdurations = ssd.getSplitDurationsFromSplits(conn,rally,ss,rc)\n",
    "        # TO DO - SS1 stage bars are borked - disable for now?\n",
    "        #Need to sort them acc. to driver who ends up first at SS1 end?\n",
    "        if ss=='SS1': splitdurations=None\n",
    "            \n",
    "        #Each stage has its own stage report document\n",
    "        with open('{}/{}_report{}.md'.format(basepath, ss, dn), 'w') as f:\n",
    "            #ADD STAGE MAP IMAGE TO REPORT\n",
    "            if ss in smaps:\n",
    "                f.write('# Stage Map - {rally}, {year} - SS{ss} - Relative Split Times\\n\\n'.format(year=year,rally=rally,\n",
    "                                                                                  ss=str(ss).replace('SS','')))\n",
    "                img='maps/{}'.format(smaps[ss])\n",
    "                f.write('![]({})\\n'.format(img))\n",
    "\n",
    "            #for dc in currprevstagerank['drivercode'].unique():\n",
    "            \n",
    "            splits = ssd.dbGetSplits(conn,rally,ss,rc)\n",
    "            #If we have split times for this stage, report on them\n",
    "            \n",
    "            # The stage only report is getDriverStageReport\n",
    "            #However, the following should show splits if it can, degrade if not...\n",
    "            s2 = ds.getDriverSplitsReport(conn, rally, ss, dc, rc, typ='overall',\n",
    "                                         order='stage', caption='Rally Australia {} - {}'.format(ss, dc))\n",
    "            #order: overall | previous | roadpos | stage\n",
    "            _img=ds.getTablePNG(s2,basepath=basepath,\n",
    "                                path=imgdir,\n",
    "                                fnstub='driver_stagesplits_table_{ss}_{dc}'.format(ss=ss,dc=unidecode.unidecode(dc)))\n",
    "            f.write('\\n![]({})\\n'.format(_img))\n",
    "\n",
    "                \n",
    "            if splits is not None and not splits.empty:\n",
    "                \n",
    "                #TABLE IMAGE - borked atm if there are no splits\n",
    "                #s2 = ds.getDriverSplitsReport(conn, rally, ss, dc, rc, 'overall',\n",
    "                 #                             order='previous', caption='Rally Australia {} - {}'.format(ss, dc))\n",
    "                                              #order: overall | previous | roadpos\n",
    "                #_img=ds.getTablePNG(s2,basepath=basepath,\n",
    "                #                    path=imgdir,\n",
    "                #                    fnstub='driver_splits_table_{ss}_{dc}'.format(ss=ss,dc=unidecode.unidecode(dc)))\n",
    "                #f.write('\\n![]({})\\n'.format(_img))\n",
    "\n",
    "                #print(splits)\n",
    "                elapseddurations=ssd.getElapsedDurations(splits)\n",
    "                try:\n",
    "                    if elapseddurations is not None and not elapseddurations.empty:\n",
    "                        fig, ax = ssd.plotSplitOverallDelta(elapseddurations,dc,invert_colours=invert_colours,xmin=-180, xmax=180)\n",
    "                        img='{}/stage_report_split_delta_{}_{}.png'.format(imgdir,str(ss).replace('SS',''), unidecode.unidecode(dc))\n",
    "                        fig.savefig('{}/{}'.format(basepath,img))   # save the figure to file\n",
    "                        plt.close(fig)  \n",
    "                        f.write('# Stage Overall Split Delta Chart - {rally}, {year} - {dc} - SS{ss}\\n\\n'.format(year=year,rally=rally,\n",
    "                                                                                              dc=dc,\n",
    "                                                                                              ss=str(ss).replace('SS','')))\n",
    "                        f.write(chartexplainer['splitdeltaoverallchart'])\n",
    "                        f.write('![]({})\\n'.format(img))\n",
    "                except:\n",
    "                    print(\"Error with Overall Split Delta Chart {}\".format(ss))\n",
    "\n",
    "                #try:\n",
    "                splitdurations = ssd.getSplitDurationsFromSplits(conn,rally,ss,rc)\n",
    "                if splitdurations is not None and not splitdurations.empty:\n",
    "                    fig, ax = ssd.plotSplitSectionDelta(splitdurations,dc,invert_colours=invert_colours, maxdelta=MAXINSPLITDELTA,\n",
    "                                                        xmin=-180, xmax=180,\n",
    "                                                        title='Delta within each split - {} - {}'.format(str(ss),unidecode.unidecode(dc)))\n",
    "                    img='{}/stage_report_individual_split_delta_{}_{}.png'.format(imgdir,str(ss).replace('SS',''), unidecode.unidecode(dc))\n",
    "                    fig.savefig('{}/{}'.format(basepath,img))   # save the figure to file\n",
    "                    plt.close(fig)  \n",
    "                    f.write('# Stage Within Split Delta Chart - {rally}, {year} - {dc} - SS{ss}\\n\\n'.format(year=year,rally=rally,\n",
    "                                                                                          dc=dc,\n",
    "                                                                                          ss=str(ss).replace('SS','')))\n",
    "                    f.write(chartexplainer['splitdeltawithinchart'])\n",
    "                    f.write('![]({})\\n'.format(img))\n",
    "                #except:\n",
    "                #    print(\"Error with Within Split Delta Chart {}\".format(ss))\n",
    "\n",
    "            fig, ax = sp.rebaseStageProgressBar(currprevstagerank, dc, splitdurations=splitdurations,\n",
    "                                    neg='lightgreen',pos='pink',invert_colours=invert_colours,xmin=-180, xmax=180,\n",
    "                         title='Stage Progress Chart - {rally}, {year} - SS{ss}'.format(year=year,\n",
    "                                                                                        rally=rally,\n",
    "                                                                                        ss=str(ss).replace('SS','')));\n",
    "            img='{}/stage_report_{}_{}.png'.format(imgdir,str(ss).replace('SS',''), unidecode.unidecode(dc))\n",
    "            fig.savefig('{}/{}'.format(basepath,img))   # save the figure to file\n",
    "            plt.close(fig)  \n",
    "            f.write('# Stage Progress Chart - {rally}, {year} - {dc} - SS{ss}\\n\\n'.format(year=year,rally=rally,\n",
    "                                                                                  dc=dc,\n",
    "                                                                                  ss=str(ss).replace('SS','')))\n",
    "            explainer = chartexplainer['stageprogresschart']\n",
    "            f.write(explainer)\n",
    "            f.write('![]({})\\n'.format(img))\n",
    "\n",
    "            \n",
    "            stage_result_table = get_stage_results_table(stagerank_stage,ss)\n",
    "            f.write(stage_result_table)\n",
    "            \n",
    "            #TO DO - there is no sense of the overall standing at the end of the stage\n",
    "            #Need to add an overall standing / results table on each stage report\n",
    "            \n",
    "            \n",
    "            #Can we do a rich table into gitbook?\n",
    "            #Or save as an image?\n",
    "            #Or embed as an iframe?\n",
    "            #s2 = ds.getDriverSplitsReport(conn, rally, 'SS12', 'LAT', rc, 'overall')\n",
    "            #f.write(s2)\n",
    "\n",
    "                \n",
    "#stageReport(stagerank_overall, stagecodes, stage_status, rebase='overallleader'  )\n",
    "#stageReport(stagerank_overall, stagecodes, stage_status, rebase='PAD'  )\n",
    "\n",
    "stageReport(stagerank_overall, stagerank_stage, stagecodes, stage_status, rebase=  rebase)\n",
    "#stageReport(stagerank_overall, stagerank_stage, ['SS17','SS18'], stage_status)\n"
   ]
  },
  {
   "cell_type": "code",
   "execution_count": 26,
   "metadata": {},
   "outputs": [
    {
     "data": {
      "text/plain": [
       "array(['SS1', 'SS2', 'SS3', 'SS4', 'SS5', 'SS6', 'SS7', 'SS8', 'SS9',\n",
       "       'SS10', 'SS11', 'SS12', 'SS13', 'SS14', 'SS15', 'SS16', 'SS17',\n",
       "       'SS18', 'SS19', 'SS20', 'SS21', 'SS22', 'SS23', 'SS24'],\n",
       "      dtype=object)"
      ]
     },
     "execution_count": 26,
     "metadata": {},
     "output_type": "execute_result"
    }
   ],
   "source": [
    "stagerank_overall['code'].unique()"
   ]
  },
  {
   "cell_type": "code",
   "execution_count": 27,
   "metadata": {},
   "outputs": [
    {
     "data": {
      "text/plain": [
       "False"
      ]
     },
     "execution_count": 27,
     "metadata": {},
     "output_type": "execute_result"
    }
   ],
   "source": [
    "ssd.dbGetSplits(conn,rally,'SS10',rc='RC1').empty\n",
    "#ssd.getSplitDurationsFromSplits(conn,rally,'SS9',rc)"
   ]
  },
  {
   "cell_type": "code",
   "execution_count": 28,
   "metadata": {},
   "outputs": [],
   "source": [
    "#!/Users/ajh59/anaconda3/bin/pip install pytablewriter"
   ]
  },
  {
   "cell_type": "code",
   "execution_count": 29,
   "metadata": {},
   "outputs": [],
   "source": [
    "#import pytablewriter\n",
    "\n",
    "#writer = pytablewriter.MarkdownTableWriter()\n",
    "#writer.from_dataframe(splitdurations.head())\n",
    "#writer.write_table()"
   ]
  },
  {
   "cell_type": "code",
   "execution_count": 30,
   "metadata": {},
   "outputs": [
    {
     "name": "stdout",
     "output_type": "stream",
     "text": [
      "\u001b[0;36minfo:\u001b[0m 7 plugins are installed \n",
      "\u001b[0;36minfo:\u001b[0m 6 explicitly listed \n",
      "\u001b[0;36minfo:\u001b[0m loading plugin \"highlight\"... \u001b[0;32mOK\u001b[0m \n",
      "\u001b[0;36minfo:\u001b[0m loading plugin \"search\"... \u001b[0;32mOK\u001b[0m \n",
      "\u001b[0;36minfo:\u001b[0m loading plugin \"lunr\"... \u001b[0;32mOK\u001b[0m \n",
      "\u001b[0;36minfo:\u001b[0m loading plugin \"sharing\"... \u001b[0;32mOK\u001b[0m \n",
      "\u001b[0;36minfo:\u001b[0m loading plugin \"fontsettings\"... \u001b[0;32mOK\u001b[0m \n",
      "\u001b[0;36minfo:\u001b[0m loading plugin \"theme-default\"... \u001b[0;32mOK\u001b[0m \n",
      "\u001b[0;36minfo:\u001b[0m found 38 pages \n",
      "\u001b[0;36minfo:\u001b[0m found 113 asset files \n",
      "\u001b[0;36minfo:\u001b[0m \u001b[0;32m>> \u001b[0mgeneration finished with success in 3.6s ! \n"
     ]
    }
   ],
   "source": [
    "#In reports directory\n",
    "!(cd report/; rm -rf docs; gitbook build;  mv _book docs)\n",
    "\n",
    "#gitbook serve"
   ]
  },
  {
   "cell_type": "code",
   "execution_count": 31,
   "metadata": {},
   "outputs": [
    {
     "name": "stdout",
     "output_type": "stream",
     "text": [
      "SS10_report.html       SS23_report.html       Section 4_report.html\r\n",
      "SS11_report.html       SS24_report.html       Section 5_report.html\r\n",
      "SS12_report.html       SS2_report.html        Section 6_report.html\r\n",
      "SS13_report.html       SS3_report.html        Section 7_report.html\r\n",
      "SS14_report.html       SS4_report.html        Section 8_report.html\r\n",
      "SS15_report.html       SS5_report.html        Section 9_report.html\r\n",
      "SS16_report.html       SS6_report.html        entries_RC1.html\r\n",
      "SS17_report.html       SS7_report.html        entries_RC2.html\r\n",
      "SS18_report.html       SS8_report.html        entries_RC3.html\r\n",
      "SS19_report.html       SS9_report.html        \u001b[34mgitbook\u001b[m\u001b[m\r\n",
      "SS1_report.html        Section 10_report.html \u001b[34mimages\u001b[m\u001b[m\r\n",
      "SS20_report.html       Section 1_report.html  index.html\r\n",
      "SS21_report.html       Section 2_report.html  \u001b[34mmaps\u001b[m\u001b[m\r\n",
      "SS22_report.html       Section 3_report.html  search_index.json\r\n"
     ]
    }
   ],
   "source": [
    "!ls report/docs"
   ]
  },
  {
   "cell_type": "code",
   "execution_count": 32,
   "metadata": {},
   "outputs": [
    {
     "data": {
      "text/html": [
       "<div>\n",
       "<style scoped>\n",
       "    .dataframe tbody tr th:only-of-type {\n",
       "        vertical-align: middle;\n",
       "    }\n",
       "\n",
       "    .dataframe tbody tr th {\n",
       "        vertical-align: top;\n",
       "    }\n",
       "\n",
       "    .dataframe thead th {\n",
       "        text-align: right;\n",
       "    }\n",
       "</style>\n",
       "<table border=\"1\" class=\"dataframe\">\n",
       "  <thead>\n",
       "    <tr style=\"text-align: right;\">\n",
       "      <th></th>\n",
       "      <th>stageId</th>\n",
       "      <th>entryId</th>\n",
       "      <th>drivercode</th>\n",
       "      <th>startDateTime</th>\n",
       "      <th>eventId</th>\n",
       "      <th>name</th>\n",
       "      <th>snum</th>\n",
       "      <th>diffFirstMs</th>\n",
       "      <th>diffPrevMs</th>\n",
       "      <th>startpos</th>\n",
       "      <th>classrank</th>\n",
       "    </tr>\n",
       "  </thead>\n",
       "  <tbody>\n",
       "    <tr>\n",
       "      <th>0</th>\n",
       "      <td>856</td>\n",
       "      <td>3316</td>\n",
       "      <td>SER</td>\n",
       "      <td>2018-11-17T02:02:00</td>\n",
       "      <td>38</td>\n",
       "      <td>RC1</td>\n",
       "      <td>14</td>\n",
       "      <td>144400</td>\n",
       "      <td>31400</td>\n",
       "      <td>1</td>\n",
       "      <td>12.0</td>\n",
       "    </tr>\n",
       "    <tr>\n",
       "      <th>1</th>\n",
       "      <td>856</td>\n",
       "      <td>3309</td>\n",
       "      <td>NEU</td>\n",
       "      <td>2018-11-17T02:07:00</td>\n",
       "      <td>38</td>\n",
       "      <td>RC1</td>\n",
       "      <td>14</td>\n",
       "      <td>18000</td>\n",
       "      <td>5000</td>\n",
       "      <td>2</td>\n",
       "      <td>9.0</td>\n",
       "    </tr>\n",
       "    <tr>\n",
       "      <th>2</th>\n",
       "      <td>856</td>\n",
       "      <td>3306</td>\n",
       "      <td>EVA</td>\n",
       "      <td>2018-11-17T02:10:00</td>\n",
       "      <td>38</td>\n",
       "      <td>RC1</td>\n",
       "      <td>14</td>\n",
       "      <td>23700</td>\n",
       "      <td>5700</td>\n",
       "      <td>3</td>\n",
       "      <td>10.0</td>\n",
       "    </tr>\n",
       "    <tr>\n",
       "      <th>3</th>\n",
       "      <td>856</td>\n",
       "      <td>3307</td>\n",
       "      <td>SUN</td>\n",
       "      <td>2018-11-17T02:13:00</td>\n",
       "      <td>38</td>\n",
       "      <td>RC1</td>\n",
       "      <td>14</td>\n",
       "      <td>24300</td>\n",
       "      <td>600</td>\n",
       "      <td>4</td>\n",
       "      <td>11.0</td>\n",
       "    </tr>\n",
       "    <tr>\n",
       "      <th>4</th>\n",
       "      <td>856</td>\n",
       "      <td>3305</td>\n",
       "      <td>OGI</td>\n",
       "      <td>2018-11-17T02:16:00</td>\n",
       "      <td>38</td>\n",
       "      <td>RC1</td>\n",
       "      <td>14</td>\n",
       "      <td>13000</td>\n",
       "      <td>100</td>\n",
       "      <td>5</td>\n",
       "      <td>8.0</td>\n",
       "    </tr>\n",
       "    <tr>\n",
       "      <th>5</th>\n",
       "      <td>856</td>\n",
       "      <td>3313</td>\n",
       "      <td>LAP</td>\n",
       "      <td>2018-11-17T02:19:00</td>\n",
       "      <td>38</td>\n",
       "      <td>RC1</td>\n",
       "      <td>14</td>\n",
       "      <td>12000</td>\n",
       "      <td>2800</td>\n",
       "      <td>6</td>\n",
       "      <td>6.0</td>\n",
       "    </tr>\n",
       "    <tr>\n",
       "      <th>6</th>\n",
       "      <td>856</td>\n",
       "      <td>3312</td>\n",
       "      <td>TÄN</td>\n",
       "      <td>2018-11-17T02:22:00</td>\n",
       "      <td>38</td>\n",
       "      <td>RC1</td>\n",
       "      <td>14</td>\n",
       "      <td>0</td>\n",
       "      <td>0</td>\n",
       "      <td>7</td>\n",
       "      <td>1.0</td>\n",
       "    </tr>\n",
       "    <tr>\n",
       "      <th>7</th>\n",
       "      <td>856</td>\n",
       "      <td>3310</td>\n",
       "      <td>PAD</td>\n",
       "      <td>2018-11-17T02:25:00</td>\n",
       "      <td>38</td>\n",
       "      <td>RC1</td>\n",
       "      <td>14</td>\n",
       "      <td>8900</td>\n",
       "      <td>3100</td>\n",
       "      <td>8</td>\n",
       "      <td>4.0</td>\n",
       "    </tr>\n",
       "    <tr>\n",
       "      <th>8</th>\n",
       "      <td>856</td>\n",
       "      <td>3311</td>\n",
       "      <td>LAT</td>\n",
       "      <td>2018-11-17T02:28:00</td>\n",
       "      <td>38</td>\n",
       "      <td>RC1</td>\n",
       "      <td>14</td>\n",
       "      <td>4000</td>\n",
       "      <td>4000</td>\n",
       "      <td>9</td>\n",
       "      <td>2.0</td>\n",
       "    </tr>\n",
       "    <tr>\n",
       "      <th>9</th>\n",
       "      <td>856</td>\n",
       "      <td>3314</td>\n",
       "      <td>OST</td>\n",
       "      <td>2018-11-17T02:31:00</td>\n",
       "      <td>38</td>\n",
       "      <td>RC1</td>\n",
       "      <td>14</td>\n",
       "      <td>9200</td>\n",
       "      <td>300</td>\n",
       "      <td>10</td>\n",
       "      <td>5.0</td>\n",
       "    </tr>\n",
       "    <tr>\n",
       "      <th>10</th>\n",
       "      <td>856</td>\n",
       "      <td>3308</td>\n",
       "      <td>MIK</td>\n",
       "      <td>2018-11-17T02:34:00</td>\n",
       "      <td>38</td>\n",
       "      <td>RC1</td>\n",
       "      <td>14</td>\n",
       "      <td>5800</td>\n",
       "      <td>1800</td>\n",
       "      <td>11</td>\n",
       "      <td>3.0</td>\n",
       "    </tr>\n",
       "    <tr>\n",
       "      <th>11</th>\n",
       "      <td>856</td>\n",
       "      <td>3315</td>\n",
       "      <td>BRE</td>\n",
       "      <td>2018-11-17T02:37:00</td>\n",
       "      <td>38</td>\n",
       "      <td>RC1</td>\n",
       "      <td>14</td>\n",
       "      <td>12900</td>\n",
       "      <td>900</td>\n",
       "      <td>12</td>\n",
       "      <td>7.0</td>\n",
       "    </tr>\n",
       "  </tbody>\n",
       "</table>\n",
       "</div>"
      ],
      "text/plain": [
       "    stageId  entryId drivercode        startDateTime  eventId name  snum  \\\n",
       "0       856     3316        SER  2018-11-17T02:02:00       38  RC1    14   \n",
       "1       856     3309        NEU  2018-11-17T02:07:00       38  RC1    14   \n",
       "2       856     3306        EVA  2018-11-17T02:10:00       38  RC1    14   \n",
       "3       856     3307        SUN  2018-11-17T02:13:00       38  RC1    14   \n",
       "4       856     3305        OGI  2018-11-17T02:16:00       38  RC1    14   \n",
       "5       856     3313        LAP  2018-11-17T02:19:00       38  RC1    14   \n",
       "6       856     3312        TÄN  2018-11-17T02:22:00       38  RC1    14   \n",
       "7       856     3310        PAD  2018-11-17T02:25:00       38  RC1    14   \n",
       "8       856     3311        LAT  2018-11-17T02:28:00       38  RC1    14   \n",
       "9       856     3314        OST  2018-11-17T02:31:00       38  RC1    14   \n",
       "10      856     3308        MIK  2018-11-17T02:34:00       38  RC1    14   \n",
       "11      856     3315        BRE  2018-11-17T02:37:00       38  RC1    14   \n",
       "\n",
       "    diffFirstMs  diffPrevMs  startpos  classrank  \n",
       "0        144400       31400         1       12.0  \n",
       "1         18000        5000         2        9.0  \n",
       "2         23700        5700         3       10.0  \n",
       "3         24300         600         4       11.0  \n",
       "4         13000         100         5        8.0  \n",
       "5         12000        2800         6        6.0  \n",
       "6             0           0         7        1.0  \n",
       "7          8900        3100         8        4.0  \n",
       "8          4000        4000         9        2.0  \n",
       "9          9200         300        10        5.0  \n",
       "10         5800        1800        11        3.0  \n",
       "11        12900         900        12        7.0  "
      ]
     },
     "execution_count": 32,
     "metadata": {},
     "output_type": "execute_result"
    }
   ],
   "source": [
    "df = sr.dbGetStageStart(conn, rally, rc, stages=14)\n",
    "df"
   ]
  },
  {
   "cell_type": "raw",
   "metadata": {},
   "source": [
    "#df.plot(kind='scatter',x='startpos',y='classrank')\n",
    "import seaborn as sns; sns.set(color_codes=True)\n",
    "sns.set_style(\"whitegrid\",{\"axes.edgecolor\": \"1\"})\n",
    "\n",
    "title='Time to stage winner vs Road Position'\n",
    "\n",
    "df[\"diffFirstS\"] = df[\"diffFirstMs\"]/1000\n",
    "yval='diffFirstS'\n",
    "ax=sns.regplot(x=\"startpos\", y=yval, data=df, fit_reg=False)\n",
    "ax.set_title(title)\n",
    "\n",
    "ax.set(xlabel='Road position (in class)', ylabel='Time to Class Stage Winner (s)')\n",
    "\n",
    "\n",
    "ymax=20\n",
    "ymax=  df[df[\"diffFirstS\"]<=ymax][\"diffFirstS\"].max()+1 if df[\"diffFirstS\"].max()>ymax else df[\"diffFirstS\"].max() +1\n",
    "\n",
    "ax.set_ylim(-0.5,ymax)\n",
    "ax.xaxis.grid(False)\n",
    "\n",
    "dftmp=df[df[yval]<=ymax]\n",
    "for i,row in dftmp.iterrows():\n",
    "     ax.text(row.startpos+0.2, row[yval], row['drivercode'],\n",
    "             horizontalalignment='left', size='medium', color='black')\n",
    "figure = ax.get_figure()  \n",
    "\n",
    "figure.set_size_inches(8, 6)\n",
    "  \n",
    "figure.savefig('output.png')"
   ]
  },
  {
   "cell_type": "code",
   "execution_count": 34,
   "metadata": {},
   "outputs": [
    {
     "ename": "ValueError",
     "evalue": "Length mismatch: Expected axis has 0 elements, new values have 1 elements",
     "output_type": "error",
     "traceback": [
      "\u001b[0;31m---------------------------------------------------------------------------\u001b[0m",
      "\u001b[0;31mValueError\u001b[0m                                Traceback (most recent call last)",
      "\u001b[0;32m<ipython-input-34-451307f9a79a>\u001b[0m in \u001b[0;36m<module>\u001b[0;34m()\u001b[0m\n\u001b[1;32m      3\u001b[0m \u001b[0mss\u001b[0m\u001b[0;34m=\u001b[0m\u001b[0;34m'SS8'\u001b[0m\u001b[0;34m\u001b[0m\u001b[0m\n\u001b[1;32m      4\u001b[0m s2 = ds.getDriverSplitsReport(conn, rally, ss, 'PAD', rc, 'overall',\n\u001b[0;32m----> 5\u001b[0;31m                               order='overall', caption='Rally Australia {}'.format(ss))#order:overall | previous | roadpos\n\u001b[0m\u001b[1;32m      6\u001b[0m \u001b[0mdisplay\u001b[0m\u001b[0;34m(\u001b[0m\u001b[0mHTML\u001b[0m\u001b[0;34m(\u001b[0m\u001b[0ms2\u001b[0m\u001b[0;34m)\u001b[0m\u001b[0;34m)\u001b[0m\u001b[0;34m\u001b[0m\u001b[0m\n",
      "\u001b[0;32m~/Documents/GitHub/WRC_sketches/doodles/Report - Driver Splits.ipynb\u001b[0m in \u001b[0;36mgetDriverSplitsReport\u001b[0;34m(conn, rally, ss, drivercode, rc, typ, order, caption)\u001b[0m\n",
      "\u001b[0;32m~/Documents/GitHub/WRC_sketches/doodles/Report - Driver Splits.ipynb\u001b[0m in \u001b[0;36mpivotRebasedElapsedDurations\u001b[0;34m(rebasedelapseddurations, ss)\u001b[0m\n",
      "\u001b[0;32m/usr/local/lib/python3.7/site-packages/pandas/core/generic.py\u001b[0m in \u001b[0;36m__setattr__\u001b[0;34m(self, name, value)\u001b[0m\n\u001b[1;32m   4387\u001b[0m         \u001b[0;32mtry\u001b[0m\u001b[0;34m:\u001b[0m\u001b[0;34m\u001b[0m\u001b[0m\n\u001b[1;32m   4388\u001b[0m             \u001b[0mobject\u001b[0m\u001b[0;34m.\u001b[0m\u001b[0m__getattribute__\u001b[0m\u001b[0;34m(\u001b[0m\u001b[0mself\u001b[0m\u001b[0;34m,\u001b[0m \u001b[0mname\u001b[0m\u001b[0;34m)\u001b[0m\u001b[0;34m\u001b[0m\u001b[0m\n\u001b[0;32m-> 4389\u001b[0;31m             \u001b[0;32mreturn\u001b[0m \u001b[0mobject\u001b[0m\u001b[0;34m.\u001b[0m\u001b[0m__setattr__\u001b[0m\u001b[0;34m(\u001b[0m\u001b[0mself\u001b[0m\u001b[0;34m,\u001b[0m \u001b[0mname\u001b[0m\u001b[0;34m,\u001b[0m \u001b[0mvalue\u001b[0m\u001b[0;34m)\u001b[0m\u001b[0;34m\u001b[0m\u001b[0m\n\u001b[0m\u001b[1;32m   4390\u001b[0m         \u001b[0;32mexcept\u001b[0m \u001b[0mAttributeError\u001b[0m\u001b[0;34m:\u001b[0m\u001b[0;34m\u001b[0m\u001b[0m\n\u001b[1;32m   4391\u001b[0m             \u001b[0;32mpass\u001b[0m\u001b[0;34m\u001b[0m\u001b[0m\n",
      "\u001b[0;32mpandas/_libs/properties.pyx\u001b[0m in \u001b[0;36mpandas._libs.properties.AxisProperty.__set__\u001b[0;34m()\u001b[0m\n",
      "\u001b[0;32m/usr/local/lib/python3.7/site-packages/pandas/core/generic.py\u001b[0m in \u001b[0;36m_set_axis\u001b[0;34m(self, axis, labels)\u001b[0m\n\u001b[1;32m    644\u001b[0m \u001b[0;34m\u001b[0m\u001b[0m\n\u001b[1;32m    645\u001b[0m     \u001b[0;32mdef\u001b[0m \u001b[0m_set_axis\u001b[0m\u001b[0;34m(\u001b[0m\u001b[0mself\u001b[0m\u001b[0;34m,\u001b[0m \u001b[0maxis\u001b[0m\u001b[0;34m,\u001b[0m \u001b[0mlabels\u001b[0m\u001b[0;34m)\u001b[0m\u001b[0;34m:\u001b[0m\u001b[0;34m\u001b[0m\u001b[0m\n\u001b[0;32m--> 646\u001b[0;31m         \u001b[0mself\u001b[0m\u001b[0;34m.\u001b[0m\u001b[0m_data\u001b[0m\u001b[0;34m.\u001b[0m\u001b[0mset_axis\u001b[0m\u001b[0;34m(\u001b[0m\u001b[0maxis\u001b[0m\u001b[0;34m,\u001b[0m \u001b[0mlabels\u001b[0m\u001b[0;34m)\u001b[0m\u001b[0;34m\u001b[0m\u001b[0m\n\u001b[0m\u001b[1;32m    647\u001b[0m         \u001b[0mself\u001b[0m\u001b[0;34m.\u001b[0m\u001b[0m_clear_item_cache\u001b[0m\u001b[0;34m(\u001b[0m\u001b[0;34m)\u001b[0m\u001b[0;34m\u001b[0m\u001b[0m\n\u001b[1;32m    648\u001b[0m \u001b[0;34m\u001b[0m\u001b[0m\n",
      "\u001b[0;32m/usr/local/lib/python3.7/site-packages/pandas/core/internals.py\u001b[0m in \u001b[0;36mset_axis\u001b[0;34m(self, axis, new_labels)\u001b[0m\n\u001b[1;32m   3321\u001b[0m             raise ValueError(\n\u001b[1;32m   3322\u001b[0m                 \u001b[0;34m'Length mismatch: Expected axis has {old} elements, new '\u001b[0m\u001b[0;34m\u001b[0m\u001b[0m\n\u001b[0;32m-> 3323\u001b[0;31m                 'values have {new} elements'.format(old=old_len, new=new_len))\n\u001b[0m\u001b[1;32m   3324\u001b[0m \u001b[0;34m\u001b[0m\u001b[0m\n\u001b[1;32m   3325\u001b[0m         \u001b[0mself\u001b[0m\u001b[0;34m.\u001b[0m\u001b[0maxes\u001b[0m\u001b[0;34m[\u001b[0m\u001b[0maxis\u001b[0m\u001b[0;34m]\u001b[0m \u001b[0;34m=\u001b[0m \u001b[0mnew_labels\u001b[0m\u001b[0;34m\u001b[0m\u001b[0m\n",
      "\u001b[0;31mValueError\u001b[0m: Length mismatch: Expected axis has 0 elements, new values have 1 elements"
     ]
    }
   ],
   "source": [
    "#test that the table report works; but how to embed it? as HTML iframe? Or image?\n",
    "#getDriverSplitsReport(conn, rally, ss, drivercode, rc='RC1', typ='overall', order=None, caption=None)\n",
    "ss='SS8'\n",
    "s2 = ds.getDriverSplitsReport(conn, rally, ss, 'PAD', rc, 'overall',\n",
    "                              order='overall', caption='Rally Australia {}'.format(ss))#order:overall | previous | roadpos\n",
    "display(HTML(s2))"
   ]
  },
  {
   "cell_type": "code",
   "execution_count": null,
   "metadata": {},
   "outputs": [],
   "source": [
    "#Grab file snapshot\n",
    "ds.getTablePNG(s2)"
   ]
  },
  {
   "cell_type": "code",
   "execution_count": null,
   "metadata": {},
   "outputs": [],
   "source": []
  },
  {
   "cell_type": "code",
   "execution_count": null,
   "metadata": {},
   "outputs": [],
   "source": []
  }
 ],
 "metadata": {
  "kernelspec": {
   "display_name": "Python 3",
   "language": "python",
   "name": "python3"
  },
  "language_info": {
   "codemirror_mode": {
    "name": "ipython",
    "version": 3
   },
   "file_extension": ".py",
   "mimetype": "text/x-python",
   "name": "python",
   "nbconvert_exporter": "python",
   "pygments_lexer": "ipython3",
   "version": "3.7.0"
  }
 },
 "nbformat": 4,
 "nbformat_minor": 2
}
