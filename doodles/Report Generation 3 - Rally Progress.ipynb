{
 "cells": [
  {
   "cell_type": "markdown",
   "metadata": {},
   "source": [
    "# Report Generation - Rally Progress\n",
    "\n",
    "Generate a report for each section of a specified rally and each stage in each section.\n",
    "\n",
    "The report text is appended to either pre-existing report files, or written to newly created report files."
   ]
  },
  {
   "cell_type": "code",
   "execution_count": 7,
   "metadata": {},
   "outputs": [],
   "source": [
    "import notebookimport"
   ]
  },
  {
   "cell_type": "code",
   "execution_count": 11,
   "metadata": {},
   "outputs": [],
   "source": [
    "#!pip3 install unidecode"
   ]
  },
  {
   "cell_type": "code",
   "execution_count": 55,
   "metadata": {},
   "outputs": [],
   "source": [
    "if __name__=='__main__':\n",
    "    rebase='overallleader'\n",
    "    #rebase='PAD'#'PAD'\n",
    "    MAXINSPLITDELTA=20 #set xlim on the within split delta"
   ]
  },
  {
   "cell_type": "code",
   "execution_count": 56,
   "metadata": {},
   "outputs": [],
   "source": [
    "sr = __import__(\"Charts - Stage Results\")\n",
    "ssd = __import__(\"Charts - Split Sector Delta\")\n",
    "sp = __import__(\"Charts - Stage Progress\")"
   ]
  },
  {
   "cell_type": "code",
   "execution_count": 57,
   "metadata": {},
   "outputs": [],
   "source": [
    "import tracery\n",
    "from tracery.modifiers import base_english\n",
    "from inflectenglish import inflect_english\n",
    "from pytracery_logic import pytracery_logic\n",
    "\n",
    "def pandas_row_mapper(row, rules, root,  modifiers=base_english):\n",
    "    ''' Function to parse single row of dataframe '''\n",
    "    row=row.to_dict()\n",
    "    rules=rules.copy()\n",
    "\n",
    "    for k in row:\n",
    "        rules[k] = str(row[k])\n",
    "        \n",
    "    grammar = tracery.Grammar(rules)\n",
    "        \n",
    "    if modifiers is not None:\n",
    "        if isinstance(modifiers,list):\n",
    "            for modifier in modifiers:\n",
    "                grammar.add_modifiers(modifier)\n",
    "        else:\n",
    "            grammar.add_modifiers(modifiers)\n",
    "\n",
    "    return grammar.flatten(root)"
   ]
  },
  {
   "cell_type": "code",
   "execution_count": 58,
   "metadata": {},
   "outputs": [],
   "source": [
    "#need to get db builder -\n",
    "#eg http://localhost:8888/notebooks/Documents/code/github%20forks/WRC_sketches/doodles/WRC%20API%202018%20Base.ipynb"
   ]
  },
  {
   "cell_type": "code",
   "execution_count": 133,
   "metadata": {},
   "outputs": [],
   "source": [
    "import os\n",
    "import sqlite3\n",
    "import pandas as pd\n",
    "import pytablewriter\n",
    "import six\n",
    "\n",
    "#dbname='wrc18.db'\n",
    "#dbname='france18.db'\n",
    "#conn = sqlite3.connect(dbname)\n",
    "\n",
    "if __name__=='__main__':\n",
    "    #dbname='wrc18.db'\n",
    "    dbname='spain18.db'\n",
    "    conn = sqlite3.connect(dbname)\n",
    "    rally='Spain'\n",
    "    rc='RC1'\n",
    "    year=2018\n",
    "    #ss='SS4'"
   ]
  },
  {
   "cell_type": "code",
   "execution_count": 12,
   "metadata": {},
   "outputs": [],
   "source": [
    "basepath = 'report'\n",
    "imgdir = 'images'\n",
    "imgdirfull = '{}/{}'.format(basepath, imgdir)\n"
   ]
  },
  {
   "cell_type": "code",
   "execution_count": 8,
   "metadata": {},
   "outputs": [],
   "source": [
    "#rally='France'"
   ]
  },
  {
   "cell_type": "code",
   "execution_count": 93,
   "metadata": {},
   "outputs": [
    {
     "data": {
      "text/plain": [
       "\"year=2018\\nrc='RC2'\\nss='SS4'\\n\\n\\ntyp='stage_times_stage' #stage_times_stage stage_times_overall\\ntyp='stage_times_overall\""
      ]
     },
     "execution_count": 93,
     "metadata": {},
     "output_type": "execute_result"
    }
   ],
   "source": [
    "'''year=2018\n",
    "rc='RC2'\n",
    "ss='SS4'\n",
    "\n",
    "\n",
    "typ='stage_times_stage' #stage_times_stage stage_times_overall\n",
    "typ='stage_times_overall'''"
   ]
  },
  {
   "cell_type": "code",
   "execution_count": 134,
   "metadata": {},
   "outputs": [],
   "source": [
    "if __name__=='__main__':\n",
    "    stageresults = sr.dbGetRallyStages(conn, rally).sort_values('number')\n",
    "\n",
    "    #The getEnrichedStageRank query filters down to a class - default is RC1\n",
    "    stagerank_overall = sr.getEnrichedStageRank(conn, rally, typ='overall')\n",
    "\n",
    "    stagerank_stage = sr.getEnrichedStageRank(conn, rally, typ='stage')"
   ]
  },
  {
   "cell_type": "markdown",
   "metadata": {},
   "source": [
    "This is a simple example of the sort of report string we want to report against.\n",
    "\n",
    "```python\n",
    "txt='In stage {stage}, {lead} took the stage, {nthstagewin}, in a time of {time}.\\n\\nIn second place on stage, {diff} behind, {second} retained overall lead of the rally.'.format(**row)\n",
    "```"
   ]
  },
  {
   "cell_type": "code",
   "execution_count": 95,
   "metadata": {},
   "outputs": [
    {
     "data": {
      "text/plain": [
       "diffFirst                          00:00:15.9000000\n",
       "diffFirstMs                                   15900\n",
       "diffPrev                           00:00:00.1000000\n",
       "diffPrevMs                                      100\n",
       "elapsedDuration                    00:03:51.2000000\n",
       "elapsedDurationMs                            231200\n",
       "entryId                                        3049\n",
       "position                                         27\n",
       "source                                      Default\n",
       "stageId                                         823\n",
       "stageTimeId                                   45361\n",
       "status                                    Completed\n",
       "class                                           RC1\n",
       "code                                            SS1\n",
       "distance                                        3.2\n",
       "name                    Barcelona (asphalt) TV Live\n",
       "snum                                              1\n",
       "driver.code                                     LOE\n",
       "entrant.name           CITROËN  TOTAL ABU DHABI WRT\n",
       "classrank                                        11\n",
       "gainedClassPos                                False\n",
       "gainedClassLead                               False\n",
       "classPosDiff                                      0\n",
       "lostClassLead                                 False\n",
       "retainedClassLead                             False\n",
       "gainedOverallPos                              False\n",
       "gainedOverallLead                             False\n",
       "overallPosDiff                                    0\n",
       "lostOverallLead                               False\n",
       "retainedOverallLead                           False\n",
       "stagewin                                      False\n",
       "stagewincount                                     0\n",
       "winsinarow                                        0\n",
       "gainedTime                                    False\n",
       "Name: 10, dtype: object"
      ]
     },
     "execution_count": 95,
     "metadata": {},
     "output_type": "execute_result"
    }
   ],
   "source": [
    "stagerank_stage.iloc[10]"
   ]
  },
  {
   "cell_type": "raw",
   "metadata": {},
   "source": [
    "import inflect\n",
    "p = inflect.engine()\n",
    "\n",
    "def timedelta_to_text(td): \n",
    "    if not td: return\n",
    "    c=pd.to_timedelta(td).components\n",
    "    txt=[]\n",
    "    if c.hours>0:\n",
    "        txt_.append(p.number_to_words(c.hours)+p.plural('hours',c.hours))\n",
    "    if c.minutes>0:\n",
    "        txt.append('{} {}'.format(p.number_to_words(c.minutes),p.plural('minute',c.minutes)))\n",
    "    if c.seconds>0:\n",
    "        seconds=c.seconds\n",
    "        if c.milliseconds>0:\n",
    "            seconds=seconds+c.milliseconds/1000\n",
    "        txt.append('{} {}'.format(p.number_to_words(seconds),p.plural('second',seconds)))\n",
    "    return p.join(txt, final_sep=\"and\")\n",
    "\n",
    "def timedelta_to_numtext(td):\n",
    "    if not td: return\n",
    "    c=pd.to_timedelta(td).components\n",
    "    txt=[]\n",
    "    if c.hours>0:\n",
    "        txt.append('{}{}'.format(c.hours,p.plural('hr',c.hours)))\n",
    "    if c.minutes>0:\n",
    "        txt.append('{}m'.format(c.minutes))\n",
    "    if c.seconds>0:\n",
    "        seconds=c.seconds\n",
    "        if c.milliseconds>0:\n",
    "            seconds=round(seconds+c.milliseconds/1000, 2)\n",
    "        txt.append('{}s'.format(seconds))\n",
    "\n",
    "    return p.join(txt,conj='')"
   ]
  },
  {
   "cell_type": "raw",
   "metadata": {},
   "source": [
    "_code='SS5'\n",
    "typ=stagerank_stage\n",
    "typ['elapsedDuration_txt'] =typ['elapsedDuration'].apply(timedelta_to_numtext)\n",
    "typ['diffFirst_txt'] =typ['diffFirst'].apply(timedelta_to_numtext)\n",
    "_srs=typ[(typ['code']==_code) & (typ['position']<=3)][['code','position','winsinarow','elapsedDuration',\n",
    "                                                    'elapsedDuration_txt', 'stagewin','diffFirst_txt',\n",
    "                                                                                         'stagewincount',\n",
    "                                                                                         'drivercode']]\n",
    "_srs.columns=[c.replace('.','') for c in _srs.columns]\n",
    "_srs.to_dict(orient='record')"
   ]
  },
  {
   "cell_type": "raw",
   "metadata": {},
   "source": [
    "rules = {'onetwo_':'[branch:#_onetwo_#]#branch##condition#',\n",
    "         '_onetwo_':'#stagewin._branch(True,stagewinner_,second)# ',\n",
    "         'y':'[switch:#sval#]#switch##condition#',\n",
    "         'yy':'#drivercode# [switch:#position.int_to_words.ordinal._prefix(stage)._switch#]#switch##condition#',\n",
    "         'sval':'#position.int_to_words.ordinal._prefix(stage)._switch#',\n",
    "         'stagefirst':'in first',\n",
    "         'stagethird':'took third',\n",
    "         'stagewinner_': \"#drivercode# #won_# stage #code# #inwith_# a time of #elapsedDuration_txt#.\",\n",
    "         'won_':['won', 'took'],\n",
    "         'inwith_':['in', 'with'],\n",
    "        'stagesecond':'took second, #diffFirst_txt# behind.',\n",
    "        'z':'#position._gte(1,stagewinner)#',\n",
    "        'toptwo_':'[switch:#_toptwo_#]#switch##condition#','_toptwo_':'#position._gte(2,onetwo_)#',\n",
    "        'null':''}\n",
    "\n",
    "#dd.columns=[c.replace('.','') for c in dd.columns]\n",
    "#dd['report'] = dd.apply(lambda row: pandas_row_mapper(row, rules, \"#origin#\"), axis=1)\n",
    "#for k in row:\n",
    "#    rules[k] = str(row[k])\n",
    "\n",
    "#grammar = tracery.Grammar(rules)\n",
    "#grammar.add_modifiers(inflect_english)\n",
    "#grammar.flatten('stagewinner')\n",
    "_srs.apply(lambda row: pandas_row_mapper(row, rules, \"#y#\",[base_english,inflect_english,pytracery_logic]), axis=1)"
   ]
  },
  {
   "cell_type": "raw",
   "metadata": {},
   "source": [
    "_srs"
   ]
  },
  {
   "cell_type": "raw",
   "metadata": {},
   "source": [
    "_srs.apply(lambda row: pandas_row_mapper(row, rules, \"#yy#\",[base_english,inflect_english,pytracery_logic]), axis=1)\n"
   ]
  },
  {
   "cell_type": "raw",
   "metadata": {},
   "source": [
    "typ=stagerank_overall\n",
    "_sro=typ[(typ['code']==_code) & (typ['stagewin'])][['code','position','winsinarow',\n",
    "                                                                                         'stagewin',\n",
    "                                                                                         'stagewincount',\n",
    "                                                                                         'retainedOverallLead',\n",
    "                                                                                         'drivercode']]\n",
    "\n",
    "_sro.columns=[c.replace('.','') for c in _sro.columns]\n",
    "_sro.to_dict(orient='record')"
   ]
  },
  {
   "cell_type": "code",
   "execution_count": 13,
   "metadata": {},
   "outputs": [
    {
     "name": "stdout",
     "output_type": "stream",
     "text": [
      "Section 10 ['SS17']\n",
      "Section 11 ['SS18']\n",
      "Section 2 ['SS1']\n",
      "Section 3 ['SS2', 'SS3', 'SS4']\n",
      "Section 4 ['SS5', 'SS6', 'SS7']\n",
      "Section 5 ['SS8', 'SS9', 'SS10']\n",
      "Section 6 ['SS11', 'SS12', 'SS13']\n",
      "Section 7 ['SS14']\n",
      "Section 8 ['SS15']\n",
      "Section 9 ['SS16']\n"
     ]
    }
   ],
   "source": [
    "sections = stageresults.groupby('section')\n",
    "\n",
    "#Generate list from group: stageresults.groupby('section')['code'].apply(list)\n",
    "\n",
    "#Generate group then iterate through groups\n",
    "for key in sections.groups.keys():\n",
    "    print(key, sections.get_group(key)['code'].tolist())\n"
   ]
  },
  {
   "cell_type": "code",
   "execution_count": 102,
   "metadata": {},
   "outputs": [],
   "source": [
    "sectionREADME_base = '''\\n### {section} Report\n",
    "'''"
   ]
  },
  {
   "cell_type": "markdown",
   "metadata": {},
   "source": [
    "## Section Reports\n",
    "\n",
    "Can these be limited to e.g. just RC1?\n",
    "\n",
    "TO DO - need something if the section is a single stage - not s split chart, just a spot chart?"
   ]
  },
  {
   "cell_type": "code",
   "execution_count": 103,
   "metadata": {},
   "outputs": [],
   "source": [
    "cols=['diffFirst', 'diffFirstMs', 'diffPrev', 'diffPrevMs', 'elapsedDuration',\n",
    "       'elapsedDurationMs', 'entryId', 'position', 'source', 'stageId',\n",
    "       'stageTimeId', 'status', 'class', 'code', 'distance', 'name', 'snum',\n",
    "       'driver.code', 'entrant.name', 'classrank', 'gainedClassPos',\n",
    "       'gainedClassLead', 'classPosDiff', 'lostClassLead', 'retainedClassLead',\n",
    "       'gainedOverallPos', 'gainedOverallLead', 'overallPosDiff',\n",
    "       'lostOverallLead', 'retainedOverallLead', 'stagewin', 'stagewincount',\n",
    "       'winsinarow', 'gainedTime']\n",
    "cols=['drivercode','entrant.name','elapsedDuration','position','classrank' ,'diffFirst', 'diffPrev']\n",
    "\n",
    "#stagerank_stage[stagerank_stage['code']=='SS9'][cols].sort_values('position')"
   ]
  },
  {
   "cell_type": "code",
   "execution_count": 104,
   "metadata": {},
   "outputs": [
    {
     "data": {
      "text/plain": [
       "{'SS10': {'status': 'Completed'},\n",
       " 'SS11': {'status': 'Completed'},\n",
       " 'SS12': {'status': 'Completed'},\n",
       " 'SS13': {'status': 'Running'},\n",
       " 'SS14': {'status': 'ToRun'},\n",
       " 'SS15': {'status': 'ToRun'},\n",
       " 'SS16': {'status': 'ToRun'},\n",
       " 'SS17': {'status': 'ToRun'},\n",
       " 'SS9': {'status': 'Completed'},\n",
       " 'SS1': {'status': 'Completed'},\n",
       " 'SS2': {'status': 'Completed'},\n",
       " 'SS3': {'status': 'Completed'},\n",
       " 'SS18': {'status': 'ToRun'},\n",
       " 'SS4': {'status': 'Interrupted'},\n",
       " 'SS5': {'status': 'Completed'},\n",
       " 'SS6': {'status': 'Completed'},\n",
       " 'SS7': {'status': 'Completed'},\n",
       " 'SS8': {'status': 'Cancelled'}}"
      ]
     },
     "execution_count": 104,
     "metadata": {},
     "output_type": "execute_result"
    }
   ],
   "source": [
    "q='''\n",
    "    SELECT itc.code, itc.status\n",
    "    FROM itinerary_controls itc\n",
    "    JOIN championship_events ce ON itc.eventId=ce.eventId\n",
    "    JOIN itinerary_sections isc ON itc.`itinerarySections.itinerarySectionId`=isc.itinerarySectionId\n",
    "    JOIN itinerary_legs il ON isc.itineraryLegId=il.itineraryLegId\n",
    "    WHERE ce.`country.name`=\"{rally}\" AND itc.code LIKE \"SS%\" \n",
    "    '''.format(rally=rally)\n",
    "stage_status=pd.read_sql(q,conn).set_index('code').to_dict(orient='index')\n",
    "stage_status"
   ]
  },
  {
   "cell_type": "code",
   "execution_count": 135,
   "metadata": {},
   "outputs": [],
   "source": [
    "%%capture\n",
    "if not os.path.exists(imgdirfull):\n",
    "    os.makedirs(imgdirfull)\n",
    "\n",
    "\n",
    "#Maybe have a dataframe styling / formatting / output notebook?\n",
    "def _markdown_table_write(tmp_df, prefix='\\n\\n'):\n",
    "    ''' Write out pandas dataframe as a markdown table. '''\n",
    "    writer = pytablewriter.MarkdownTableWriter()\n",
    "    writer.stream = six.StringIO()\n",
    "    \n",
    "    #Drop drivers without a position\n",
    "    writer.from_dataframe(tmp_df)\n",
    "    writer.write_table()\n",
    "    return prefix+writer.stream.getvalue()\n",
    "\n",
    "\n",
    "def get_overall_results_table(stagerank_overall,ss):\n",
    "    ''' Retrieve overall rank data and return it as a markdown formatted table. '''\n",
    "    \n",
    "    cols=cols=['drivercode','entrant.name','totalTime','position','classrank' ,'diffFirst', 'diffPrev']\n",
    "    tmp_df = stagerank_overall[stagerank_overall['code']==ss][cols].sort_values('position')\n",
    "\n",
    "    tmp_df.columns=['Driver','Team','Elapsed Duration','Position','Class Rank' ,'diffFirst', 'diffPrev']  \n",
    "    \n",
    "    #Hack the markdown to get rid of the trailing zeroes in the millisecond representation\n",
    "    return _markdown_table_write(tmp_df.dropna(subset=['Position'])).replace('000000','')\n",
    "\n",
    "\n",
    "def get_stage_results_table(stagerank_stage,ss):\n",
    "    ''' Retrieve stage rank data and return it as a markdown formatted table. '''\n",
    "    \n",
    "    cols=['drivercode','entrant.name','elapsedDuration','position','classrank' ,'diffFirst', 'diffPrev']\n",
    "    tmp_df = stagerank_stage[stagerank_stage['code']==ss][cols].sort_values('position')\n",
    "    tmp_df.columns=['Driver','Team','Elapsed Duration','Position','Class Rank' ,'diffFirst', 'diffPrev']  \n",
    "    \n",
    "    #Hack the markdown to get rid of the trailing zeroes in the millisecond representation\n",
    "    return _markdown_table_write(tmp_df.dropna(subset=['Position'])).replace('000000','')\n",
    "    #writer = pytablewriter.MarkdownTableWriter()\n",
    "    #writer.stream = six.StringIO()\n",
    "    \n",
    "    ##Drop drivers without a position\n",
    "    #writer.from_dataframe(tmp_df.dropna(subset=['Position']))\n",
    "    #writer.write_table()\n",
    "    #return '\\n\\n'+writer.stream.getvalue()\n",
    "\n",
    "    \n",
    "def sectionRankingChart(data, title, sectionREADME, key, sectionStages, fn_core, deltalabels=True, elaborate=True):\n",
    "    ''' Generate section ranking chart, save as image file, and add embedded image link to sectionREADME text. '''\n",
    "    data = sr.stageOverallEnrichers(data)\n",
    "    ss = data[data['code'].isin(sectionStages)].copy()\n",
    "    ss = sr.stageLegEnrichers(ss)\n",
    "    if ss.empty or ss.dropna(subset=['diffFirst']).empty: return sectionREADME\n",
    "    fn='{}/{}'.format(imgdirfull, fn_core)\n",
    "    fig, ax = sr.plotStageProgressionChart( ss, linecolor='lightgrey' , deltalabels=deltalabels, elaborate=elaborate,\n",
    "                                        progress=True, stageAnnotate=False, filename=fn, title = title); \n",
    "    if fig is not None:\n",
    "        fn='{}/{}'.format(imgdir, fn_core)\n",
    "        sectionREADME = '''\\n\\n{s}{key}\\n\\n![]({img})\\n'''.format(s=sectionREADME, key=key,img=fn)\n",
    "    return sectionREADME\n",
    "\n",
    "\n",
    "def _sectionStagesReport(sections, stagerank_overall, stagerank_stage, basepath, rebase='overall'):\n",
    "    ''' Generate stage sections reports. '''\n",
    "    \n",
    "    #TO DO - these aren't yet available as rebased reports, if that event makes sense?\n",
    "    #The table could be rebased\n",
    "    dn ='_'+rebase if rebase and 'overall' not in rebase else ''\n",
    "        \n",
    "    for key in sections.groups.keys():\n",
    "        #path = '{}/{}'.format(basepath,key)\n",
    "        #if not os.path.exists(path):\n",
    "        #    os.makedirs(path)\n",
    "\n",
    "        out_file_name = '{bp}/{key}_report{dn}.md'.format(bp=basepath, key=key, dn=dn)\n",
    "\n",
    "        sectionStages = sections.get_group(key)['code'].tolist()\n",
    "        print('Section stages: {}'.format(sectionStages))\n",
    "        #Check section stages - if TORUN, then break\n",
    "        \n",
    "        sectionREADME = sectionREADME_base.format(section=key)\n",
    "        \n",
    "        #Stage rank chart\n",
    "        fn_core='spchart_stage_{}.png'.format( key)\n",
    "        title = '{} - Stage Ranking'.format(key)\n",
    "        sectionREADME = sectionRankingChart(stagerank_stage, title, sectionREADME,\n",
    "                                            key, sectionStages, fn_core, deltalabels=False, elaborate=False)\n",
    "\n",
    "        #Overall rally ranking chart\n",
    "        fn_core='spchart_overall_{}.png'.format( key)\n",
    "        title = '{} - Overall Rally Ranking Evolution'.format(key)\n",
    "        sectionREADME = sectionRankingChart(stagerank_overall, title, sectionREADME,\n",
    "                                            key, sectionStages, fn_core, deltalabels=True, elaborate=True )\n",
    "\n",
    "        #Display results as table\n",
    "        # TO DO - Need to do something about stage vs rally overall result?\n",
    "        for stage in sectionStages:\n",
    "            if stage_status[stage]['status']=='ToRun': break\n",
    "            #print(stage)\n",
    "            stage_result_table = get_stage_results_table(stagerank_stage,stage)\n",
    "            sectionREADME = '{}\\n\\n##Stage Result - {}\\n\\n{}\\n\\n'.format(sectionREADME, stage, stage_result_table)\n",
    "\n",
    "            #TO DO - do we need to over the ability to rebase this table?\n",
    "            overall_result_table = get_overall_results_table(stagerank_overall,stage)\n",
    "            sectionREADME = '{}\\n\\n##Overall Result - {}\\n\\n{}\\n\\n'.format(sectionREADME, stage, overall_result_table)\n",
    "\n",
    "            \n",
    "\n",
    "        with open(out_file_name, 'a') as out_file:\n",
    "            out_file.write(sectionREADME)\n",
    "\n",
    "def sectionStagesReport(conn, rally, basepath, rebase='overall'):\n",
    "    stagerank_overall = sr.getEnrichedStageRank(conn, rally, typ='overall')\n",
    "    stagerank_stage = sr.getEnrichedStageRank(conn, rally, typ='stage')\n",
    "    stageresults = sr.dbGetRallyStages(conn, rally).sort_values('number')\n",
    "    sections = stageresults.groupby('section')\n",
    "\n",
    "    _sectionStagesReport(sections, stagerank_overall, stagerank_stage, basepath, rebase)\n",
    "\n",
    "sectionStagesReport(conn, rally, basepath, rebase=rebase)#'overall')"
   ]
  },
  {
   "cell_type": "markdown",
   "metadata": {},
   "source": [
    "### Stage progression chart"
   ]
  },
  {
   "cell_type": "code",
   "execution_count": 136,
   "metadata": {},
   "outputs": [],
   "source": [
    "%%capture\n",
    "\n",
    "#This is a step in the creation of output files used to generate the rally report\n",
    "\n",
    "# Generate the stage progression chart for the extent of the rally to date\n",
    "fn='{}/spchart_full.png'.format(imgdirfull)\n",
    "fig, ax = sr.plotStageProgressionChart( stagerank_overall, linecolor='lightgrey' , deltalabels=True, \n",
    "                                        progress=True, stageAnnotate=False, filename=fn);\n",
    "\n",
    "\n",
    "#what do we need to add to allow stageannotate to be set True?\n",
    "#fn='{}/spchart_full2.png'.format(imgdirfull)\n",
    "#fig, ax = sr.plotStageProgressionChart( stagerank_overall, \n",
    "#                                        progress=True, stageAnnotate=True, filename=fn);\n",
    "\n",
    "#Need to find a way to check we don't add the link repeatedly to the file\n",
    "if 'spchart_full.png' not in open('{}/README.md'.format(basepath)).read()\n",
    "    README='''\\n![]({})'''.format('{}/spchart_full.png'.format(imgdir))\n",
    "    with open('{}/README.md'.format(basepath), 'a') as out_file:\n",
    "        out_file.write(README)"
   ]
  },
  {
   "cell_type": "code",
   "execution_count": 107,
   "metadata": {},
   "outputs": [
    {
     "name": "stdout",
     "output_type": "stream",
     "text": [
      "README.md                Section 10_report_PAD.md Section 7_report.md\r\n",
      "SS10_report.md           Section 11_report.md     Section 7_report_PAD.md\r\n",
      "SS11_report.md           Section 11_report_PAD.md Section 8_report.md\r\n",
      "SS1_report.md            Section 1_report.md      Section 8_report_PAD.md\r\n",
      "SS2_report.md            Section 2_report.md      Section 9_report.md\r\n",
      "SS3_report.md            Section 2_report_PAD.md  Section 9_report_PAD.md\r\n",
      "SS4_report.md            Section 3_report.md      \u001b[34m_book\u001b[m\u001b[m\r\n",
      "SS5_report.md            Section 3_report_PAD.md  \u001b[34mdocs\u001b[m\u001b[m\r\n",
      "SS6_report.md            Section 4_report.md      entries_RC1.md\r\n",
      "SS7_report.md            Section 4_report_PAD.md  entries_RC2.md\r\n",
      "SS8_report.md            Section 5_report.md      entries_RC3.md\r\n",
      "SS9_report.md            Section 5_report_PAD.md  entries_RC4.md\r\n",
      "SUMMARY.md               Section 6_report.md      \u001b[34mimages\u001b[m\u001b[m\r\n",
      "Section 10_report.md     Section 6_report_PAD.md  \u001b[34mmaps\u001b[m\u001b[m\r\n"
     ]
    }
   ],
   "source": [
    "!ls report"
   ]
  },
  {
   "cell_type": "markdown",
   "metadata": {},
   "source": [
    "## Stage Reports"
   ]
  },
  {
   "cell_type": "code",
   "execution_count": 108,
   "metadata": {},
   "outputs": [],
   "source": [
    "#overallleader = stagerank_overall[stagerank_overall['position']==1].set_index('code')[['drivercode']].to_dict(orient='dict')['drivercode']\n",
    "#overallleader"
   ]
  },
  {
   "cell_type": "code",
   "execution_count": 109,
   "metadata": {},
   "outputs": [
    {
     "data": {
      "text/plain": [
       "dict_keys(['Section 10', 'Section 11', 'Section 2', 'Section 3', 'Section 4', 'Section 5', 'Section 6', 'Section 7', 'Section 8', 'Section 9'])"
      ]
     },
     "execution_count": 109,
     "metadata": {},
     "output_type": "execute_result"
    }
   ],
   "source": [
    "if __name__=='__main__':\n",
    "    sections.groups.keys()"
   ]
  },
  {
   "cell_type": "code",
   "execution_count": 110,
   "metadata": {
    "scrolled": true
   },
   "outputs": [
    {
     "data": {
      "text/plain": [
       "{'SS3': 'SS3-6.png',\n",
       " 'SS6': 'SS3-6.png',\n",
       " 'SS15': 'SS15-17.png',\n",
       " 'SS17': 'SS15-17.png',\n",
       " 'spain_218': 'spain_2018.geojson',\n",
       " 'Shakedown': 'Shakedown.png',\n",
       " 'SS9': 'SS9-12.png',\n",
       " 'SS12': 'SS9-12.png',\n",
       " 'SS1': 'SS10-13.png',\n",
       " 'SS2': 'SS2-5.png',\n",
       " 'SS5': 'SS2-5.png',\n",
       " 'SS16': 'SS16-18.png',\n",
       " 'SS18': 'SS16-18.png',\n",
       " 'SS4': 'SS4-7.png',\n",
       " 'SS7': 'SS4-7.png',\n",
       " 'SS8': 'SS8-11.png',\n",
       " 'SS11': 'SS8-11.png',\n",
       " 'SS13': 'SS10-13.png',\n",
       " 'SS14': 'SS14.png'}"
      ]
     },
     "execution_count": 110,
     "metadata": {},
     "output_type": "execute_result"
    }
   ],
   "source": [
    "if __name__=='__main__':\n",
    "    #Look for maps\n",
    "    #Quick sketch to see what maps are available and what stages they refer to\n",
    "    #The maps are pulled from http://localhost:8888/notebooks/Documents/GitHub/wrcplus/notebooks/Map%20KML%20etc.ipynb\n",
    "    # TO DO: bring stage map capture creation tools into this workflow\n",
    "    maps={}\n",
    "    for i in os.listdir('report/maps'):\n",
    "        maps[i] = i.split('.')[0].replace('0','').replace('-','-SS').replace('SSS','SS')\n",
    "    smaps = {}\n",
    "    for m in maps:\n",
    "        for i in maps[m].split('-'):\n",
    "            smaps[i] = m\n",
    "    smaps"
   ]
  },
  {
   "cell_type": "code",
   "execution_count": 23,
   "metadata": {},
   "outputs": [],
   "source": [
    "#stagecodes"
   ]
  },
  {
   "cell_type": "code",
   "execution_count": 24,
   "metadata": {},
   "outputs": [],
   "source": [
    "chartexplainer={}\n",
    "chartexplainer['stageprogresschart']= \\\n",
    "'''\n",
    "The stage progress chart shows times rebased relative to the specified driver and highlights:\n",
    "\n",
    "- the overall gap relative to other drivers at the start of the stage;\n",
    "- the time gained / lost relative to other drivers on the stage;\n",
    "- the overall gap relative to other drivers at the end of the stage.\n",
    "'''\n",
    "\n",
    "chartexplainer['splitdeltaoverallchart']= \\\n",
    "'''\n",
    "For the specified driver, show the overall stage time delta at each split relative to the other drivers.\n",
    "'''\n",
    "\n",
    "chartexplainer['splitdeltawithinchart']= \\\n",
    "'''\n",
    "For the specified driver, show the delta for each split section relative to the other drivers.\n",
    "'''\n",
    "\n",
    "#chartexplainer['splitdeltaoverchart']= \\\n",
    "#'''\n",
    "#'''"
   ]
  },
  {
   "cell_type": "code",
   "execution_count": 25,
   "metadata": {
    "scrolled": true
   },
   "outputs": [
    {
     "name": "stdout",
     "output_type": "stream",
     "text": [
      "SS1\n",
      "SS2\n",
      "SS3\n",
      "SS4\n",
      "SS5\n",
      "SS6\n",
      "SS7\n",
      "SS8\n",
      "SS9\n",
      "SS10\n",
      "SS11\n",
      "SS12\n",
      "SS13\n"
     ]
    }
   ],
   "source": [
    "#stagecodes"
   ]
  },
  {
   "cell_type": "code",
   "execution_count": null,
   "metadata": {
    "scrolled": true
   },
   "outputs": [],
   "source": [
    "import matplotlib.pyplot as plt\n",
    "import unidecode\n",
    "\n",
    "stagecodes = stageresults['code']\n",
    "\n",
    "def stageReport(stagerank_overall,stagerank_stage, stagecodes, stage_status, rebase='overallleader', forceAll=False  ):\n",
    "    drivercodes = stagerank_overall['driver.code'].unique()\n",
    "    links=[]\n",
    "    overallleader = stagerank_overall[stagerank_overall['position']==1].set_index('code')[['driver.code']].to_dict(orient='dict')['driver.code']\n",
    "    for ss in stagecodes:\n",
    "        #Check section stages - if TORUN, then break\n",
    "        if not forceAll and stage_status[ss]['status']=='ToRun': break\n",
    "\n",
    "        print(ss)\n",
    "        \n",
    "        dn=''\n",
    "        invert_colours=False\n",
    "        if rebase=='overallleader':\n",
    "            dc = overallleader[ss]\n",
    "        elif rebase in drivercodes:\n",
    "            dc = rebase\n",
    "            dn = '_'+dc\n",
    "            invert_colours=True\n",
    "        else:\n",
    "            dc = overallleader[ss]\n",
    "            \n",
    "        #Should we avoid SS1?\n",
    "        #SS1 stage bars are borked - disable for now?\n",
    "        #if ss=='SS1': continue\n",
    "        currprevstagerank = sp.getCurrPrevStageRank(conn, rally, rc, ss)\n",
    "        splitdurations = ssd.getSplitDurationsFromSplits(conn,rally,ss,rc)\n",
    "        # TO DO - SS1 stage bars are borked - disable for now?\n",
    "        #Need to sort them acc. to driver who ends up first at SS1 end?\n",
    "        if ss=='SS1': splitdurations=None\n",
    "        with open('{}/{}_report{}.md'.format(basepath, ss, dn), 'w') as f:\n",
    "            #ADD STAGE MAP IMAGE TO REPORT\n",
    "            if ss in smaps:\n",
    "                f.write('# Stage Map - {rally}, {year} - SS{ss} - Relative Split Times\\n\\n'.format(year=year,rally=rally,\n",
    "                                                                                  ss=str(ss).replace('SS','')))\n",
    "                img='maps/{}'.format(smaps[ss])\n",
    "                f.write('![]({})\\n'.format(img))\n",
    "\n",
    "            #for dc in currprevstagerank['drivercode'].unique():\n",
    "            \n",
    "            splits = ssd.dbGetSplits(conn,rally,ss,rc)\n",
    "            #If we have split times for this stage, report on them\n",
    "            if splits is not None and not splits.empty :\n",
    "                \n",
    "                #TABLE IMAGE - borked atm if there are no splits\n",
    "                s2 = ds.getDriverSplitsReport(conn, rally, ss, dc, rc, 'overall',\n",
    "                                              order='previous', caption='Rally Australia {} - {}'.format(ss, dc))\n",
    "                                              #order: overall | previous | roadpos\n",
    "                _img=ds.getTablePNG(s2,basepath=basepath,\n",
    "                                    path=imgdir,\n",
    "                                    fnstub='driver_splits_table_{ss}_{dc}'.format(ss=ss,dc=unidecode.unidecode(dc)))\n",
    "                f.write('\\n![]({})\\n'.format(_img))\n",
    "\n",
    "                #print(splits)\n",
    "                elapseddurations=ssd.getElapsedDurations(splits)\n",
    "                try:\n",
    "                    if elapseddurations is not None and not elapseddurations.empty:\n",
    "                        fig, ax = ssd.plotSplitOverallDelta(elapseddurations,dc,invert_colours=invert_colours,xmin=-180, xmax=180)\n",
    "                        img='{}/stage_report_split_delta_{}_{}.png'.format(imgdir,str(ss).replace('SS',''), unidecode.unidecode(dc))\n",
    "                        fig.savefig('{}/{}'.format(basepath,img))   # save the figure to file\n",
    "                        plt.close(fig)  \n",
    "                        f.write('# Stage Overall Split Delta Chart - {rally}, {year} - {dc} - SS{ss}\\n\\n'.format(year=year,rally=rally,\n",
    "                                                                                              dc=dc,\n",
    "                                                                                              ss=str(ss).replace('SS','')))\n",
    "                        f.write(chartexplainer['splitdeltaoverallchart'])\n",
    "                        f.write('![]({})\\n'.format(img))\n",
    "                except:\n",
    "                    print(\"Error with Overall Split Delta Chart {}\".format(ss))\n",
    "\n",
    "                #try:\n",
    "                splitdurations = ssd.getSplitDurationsFromSplits(conn,rally,ss,rc)\n",
    "                if splitdurations is not None and not splitdurations.empty:\n",
    "                    fig, ax = ssd.plotSplitSectionDelta(splitdurations,dc,invert_colours=invert_colours, maxdelta=MAXINSPLITDELTA,\n",
    "                                                        xmin=-180, xmax=180,\n",
    "                                                        title='Delta within each split - {} - {}'.format(str(ss),unidecode.unidecode(dc)))\n",
    "                    img='{}/stage_report_individual_split_delta_{}_{}.png'.format(imgdir,str(ss).replace('SS',''), unidecode.unidecode(dc))\n",
    "                    fig.savefig('{}/{}'.format(basepath,img))   # save the figure to file\n",
    "                    plt.close(fig)  \n",
    "                    f.write('# Stage Within Split Delta Chart - {rally}, {year} - {dc} - SS{ss}\\n\\n'.format(year=year,rally=rally,\n",
    "                                                                                          dc=dc,\n",
    "                                                                                          ss=str(ss).replace('SS','')))\n",
    "                    f.write(chartexplainer['splitdeltawithinchart'])\n",
    "                    f.write('![]({})\\n'.format(img))\n",
    "                #except:\n",
    "                #    print(\"Error with Within Split Delta Chart {}\".format(ss))\n",
    "\n",
    "            fig, ax = sp.rebaseStageProgressBar(currprevstagerank, dc, splitdurations=splitdurations,\n",
    "                                    neg='lightgreen',pos='pink',invert_colours=invert_colours,xmin=-180, xmax=180,\n",
    "                         title='Stage Progress Chart - {rally}, {year} - SS{ss}'.format(year=year,\n",
    "                                                                                        rally=rally,\n",
    "                                                                                        ss=str(ss).replace('SS','')));\n",
    "            img='{}/stage_report_{}_{}.png'.format(imgdir,str(ss).replace('SS',''), unidecode.unidecode(dc))\n",
    "            fig.savefig('{}/{}'.format(basepath,img))   # save the figure to file\n",
    "            plt.close(fig)  \n",
    "            f.write('# Stage Progress Chart - {rally}, {year} - {dc} - SS{ss}\\n\\n'.format(year=year,rally=rally,\n",
    "                                                                                  dc=dc,\n",
    "                                                                                  ss=str(ss).replace('SS','')))\n",
    "            explainer = chartexplainer['stageprogresschart']\n",
    "            f.write(explainer)\n",
    "            f.write('![]({})\\n'.format(img))\n",
    "\n",
    "            \n",
    "            stage_result_table = get_stage_results_table(stagerank_stage,ss)\n",
    "            f.write(stage_result_table)\n",
    "            \n",
    "            #TO DO - there is no sense of the overall standing at the end of the stage\n",
    "            #Need to add an overall standing / results table on each stage report\n",
    "            \n",
    "            \n",
    "            #Can we do a rich table into gitbook?\n",
    "            #Or save as an image?\n",
    "            #Or embed as an iframe?\n",
    "            #s2 = ds.getDriverSplitsReport(conn, rally, 'SS12', 'LAT', rc, 'overall')\n",
    "            #f.write(s2)\n",
    "\n",
    "                \n",
    "#stageReport(stagerank_overall, stagecodes, stage_status, rebase='overallleader'  )\n",
    "#stageReport(stagerank_overall, stagecodes, stage_status, rebase='PAD'  )\n",
    "\n",
    "stageReport(stagerank_overall, stagerank_stage, stagecodes, stage_status, rebase=  rebase)\n",
    "#stageReport(stagerank_overall, stagerank_stage, ['SS17','SS18'], stage_status)\n"
   ]
  },
  {
   "cell_type": "code",
   "execution_count": 112,
   "metadata": {},
   "outputs": [
    {
     "data": {
      "text/plain": [
       "array(['SS1', 'SS2', 'SS3', 'SS4', 'SS5', 'SS6', 'SS7', 'SS8', 'SS9',\n",
       "       'SS10', 'SS11', 'SS12', 'SS13'], dtype=object)"
      ]
     },
     "execution_count": 112,
     "metadata": {},
     "output_type": "execute_result"
    }
   ],
   "source": [
    "stagerank_overall['code'].unique()"
   ]
  },
  {
   "cell_type": "code",
   "execution_count": 113,
   "metadata": {},
   "outputs": [
    {
     "data": {
      "text/plain": [
       "False"
      ]
     },
     "execution_count": 113,
     "metadata": {},
     "output_type": "execute_result"
    }
   ],
   "source": [
    "ssd.dbGetSplits(conn,rally,'SS10',rc='RC1').empty\n",
    "#ssd.getSplitDurationsFromSplits(conn,rally,'SS9',rc)"
   ]
  },
  {
   "cell_type": "code",
   "execution_count": 114,
   "metadata": {},
   "outputs": [
    {
     "name": "stdout",
     "output_type": "stream",
     "text": [
      "/Users/tonyhirst/Documents/GitHub/WRC_sketches/doodles\r\n"
     ]
    }
   ],
   "source": [
    "!pwd"
   ]
  },
  {
   "cell_type": "code",
   "execution_count": 115,
   "metadata": {},
   "outputs": [],
   "source": [
    "#!/Users/ajh59/anaconda3/bin/pip install pytablewriter"
   ]
  },
  {
   "cell_type": "code",
   "execution_count": 116,
   "metadata": {},
   "outputs": [],
   "source": [
    "#splitdurations.head()"
   ]
  },
  {
   "cell_type": "code",
   "execution_count": 117,
   "metadata": {},
   "outputs": [],
   "source": [
    "#import pytablewriter\n",
    "\n",
    "#writer = pytablewriter.MarkdownTableWriter()\n",
    "#writer.from_dataframe(splitdurations.head())\n",
    "#writer.write_table()"
   ]
  },
  {
   "cell_type": "code",
   "execution_count": 138,
   "metadata": {},
   "outputs": [
    {
     "name": "stdout",
     "output_type": "stream",
     "text": [
      "\u001b[0;36minfo:\u001b[0m 7 plugins are installed \n",
      "\u001b[0;36minfo:\u001b[0m 6 explicitly listed \n",
      "\u001b[0;36minfo:\u001b[0m loading plugin \"highlight\"... \u001b[0;32mOK\u001b[0m \n",
      "\u001b[0;36minfo:\u001b[0m loading plugin \"search\"... \u001b[0;32mOK\u001b[0m \n",
      "\u001b[0;36minfo:\u001b[0m loading plugin \"lunr\"... \u001b[0;32mOK\u001b[0m \n",
      "\u001b[0;36minfo:\u001b[0m loading plugin \"sharing\"... \u001b[0;32mOK\u001b[0m \n",
      "\u001b[0;36minfo:\u001b[0m loading plugin \"fontsettings\"... \u001b[0;32mOK\u001b[0m \n",
      "\u001b[0;36minfo:\u001b[0m loading plugin \"theme-default\"... \u001b[0;32mOK\u001b[0m \n",
      "\u001b[0;36minfo:\u001b[0m found 29 pages \n",
      "\u001b[0;36minfo:\u001b[0m found 71 asset files \n",
      "\u001b[0;36minfo:\u001b[0m \u001b[0;32m>> \u001b[0mgeneration finished with success in 2.4s ! \n"
     ]
    }
   ],
   "source": [
    "!(cd report/; rm -rf docs; gitbook build;  mv _book docs)"
   ]
  },
  {
   "cell_type": "code",
   "execution_count": 119,
   "metadata": {},
   "outputs": [
    {
     "name": "stdout",
     "output_type": "stream",
     "text": [
      "\u001b[0;36minfo:\u001b[0m 7 plugins are installed \n",
      "\u001b[0;36minfo:\u001b[0m 6 explicitly listed \n",
      "\u001b[0;36minfo:\u001b[0m loading plugin \"highlight\"... \u001b[0;32mOK\u001b[0m \n",
      "\u001b[0;36minfo:\u001b[0m loading plugin \"search\"... \u001b[0;32mOK\u001b[0m \n",
      "\u001b[0;36minfo:\u001b[0m loading plugin \"lunr\"... \u001b[0;32mOK\u001b[0m \n",
      "\u001b[0;36minfo:\u001b[0m loading plugin \"sharing\"... \u001b[0;32mOK\u001b[0m \n",
      "\u001b[0;36minfo:\u001b[0m loading plugin \"fontsettings\"... \u001b[0;32mOK\u001b[0m \n",
      "\u001b[0;36minfo:\u001b[0m loading plugin \"theme-default\"... \u001b[0;32mOK\u001b[0m \n",
      "\u001b[0;36minfo:\u001b[0m found 29 pages \n",
      "\u001b[0;36minfo:\u001b[0m found 68 asset files \n",
      "\u001b[0;36minfo:\u001b[0m \u001b[0;32m>> \u001b[0mgeneration finished with success in 2.5s ! \n"
     ]
    }
   ],
   "source": [
    "#In reports directory\n",
    "!(cd report/; rm -rf docs; gitbook build;  mv _book docs)\n",
    "\n",
    "#gitbook serve"
   ]
  },
  {
   "cell_type": "code",
   "execution_count": 43,
   "metadata": {},
   "outputs": [
    {
     "name": "stdout",
     "output_type": "stream",
     "text": [
      "SS10_report.html         Section 1_report.html    Section 8_report_PAD.md\r\n",
      "SS1_report.html          Section 2_report.html    Section 9_report.html\r\n",
      "SS2_report.html          Section 2_report_PAD.md  Section 9_report_PAD.md\r\n",
      "SS3_report.html          Section 3_report.html    entries_RC1.html\r\n",
      "SS4_report.html          Section 3_report_PAD.md  entries_RC2.html\r\n",
      "SS5_report.html          Section 4_report.html    entries_RC3.html\r\n",
      "SS6_report.html          Section 4_report_PAD.md  entries_RC4.html\r\n",
      "SS7_report.html          Section 5_report.html    \u001b[34mgitbook\u001b[m\u001b[m\r\n",
      "SS8_report.html          Section 5_report_PAD.md  \u001b[34mimages\u001b[m\u001b[m\r\n",
      "SS9_report.html          Section 6_report.html    index.html\r\n",
      "Section 10_report.html   Section 6_report_PAD.md  \u001b[34mmaps\u001b[m\u001b[m\r\n",
      "Section 10_report_PAD.md Section 7_report.html    search_index.json\r\n",
      "Section 11_report.html   Section 7_report_PAD.md\r\n",
      "Section 11_report_PAD.md Section 8_report.html\r\n"
     ]
    }
   ],
   "source": [
    "!ls report/docs"
   ]
  },
  {
   "cell_type": "code",
   "execution_count": 202,
   "metadata": {},
   "outputs": [
    {
     "data": {
      "text/html": [
       "<div>\n",
       "<style scoped>\n",
       "    .dataframe tbody tr th:only-of-type {\n",
       "        vertical-align: middle;\n",
       "    }\n",
       "\n",
       "    .dataframe tbody tr th {\n",
       "        vertical-align: top;\n",
       "    }\n",
       "\n",
       "    .dataframe thead th {\n",
       "        text-align: right;\n",
       "    }\n",
       "</style>\n",
       "<table border=\"1\" class=\"dataframe\">\n",
       "  <thead>\n",
       "    <tr style=\"text-align: right;\">\n",
       "      <th></th>\n",
       "      <th>stageId</th>\n",
       "      <th>entryId</th>\n",
       "      <th>driver.code</th>\n",
       "      <th>startDateTime</th>\n",
       "      <th>eventId</th>\n",
       "      <th>name</th>\n",
       "      <th>snum</th>\n",
       "      <th>position</th>\n",
       "      <th>diffFirstMs</th>\n",
       "      <th>diffPrevMs</th>\n",
       "    </tr>\n",
       "  </thead>\n",
       "  <tbody>\n",
       "  </tbody>\n",
       "</table>\n",
       "</div>"
      ],
      "text/plain": [
       "Empty DataFrame\n",
       "Columns: [stageId, entryId, driver.code, startDateTime, eventId, name, snum, position, diffFirstMs, diffPrevMs]\n",
       "Index: []"
      ]
     },
     "execution_count": 202,
     "metadata": {},
     "output_type": "execute_result"
    }
   ],
   "source": [
    "df = sr.dbGetStageStart(conn, rally, rc, stages=14)\n",
    "df"
   ]
  },
  {
   "cell_type": "raw",
   "metadata": {},
   "source": [
    "#df.plot(kind='scatter',x='startpos',y='classrank')\n",
    "import seaborn as sns; sns.set(color_codes=True)\n",
    "sns.set_style(\"whitegrid\",{\"axes.edgecolor\": \"1\"})\n",
    "\n",
    "title='Time to stage winner vs Road Position'\n",
    "\n",
    "df[\"diffFirstS\"] = df[\"diffFirstMs\"]/1000\n",
    "yval='diffFirstS'\n",
    "ax=sns.regplot(x=\"startpos\", y=yval, data=df, fit_reg=False)\n",
    "ax.set_title(title)\n",
    "\n",
    "ax.set(xlabel='Road position (in class)', ylabel='Time to Class Stage Winner (s)')\n",
    "\n",
    "\n",
    "ymax=20\n",
    "ymax=  df[df[\"diffFirstS\"]<=ymax][\"diffFirstS\"].max()+1 if df[\"diffFirstS\"].max()>ymax else df[\"diffFirstS\"].max() +1\n",
    "\n",
    "ax.set_ylim(-0.5,ymax)\n",
    "ax.xaxis.grid(False)\n",
    "\n",
    "dftmp=df[df[yval]<=ymax]\n",
    "for i,row in dftmp.iterrows():\n",
    "     ax.text(row.startpos+0.2, row[yval], row['drivercode'],\n",
    "             horizontalalignment='left', size='medium', color='black')\n",
    "figure = ax.get_figure()  \n",
    "\n",
    "figure.set_size_inches(8, 6)\n",
    "  \n",
    "figure.savefig('output.png')"
   ]
  },
  {
   "cell_type": "code",
   "execution_count": null,
   "metadata": {},
   "outputs": [],
   "source": []
  }
 ],
 "metadata": {
  "kernelspec": {
   "display_name": "Python 3",
   "language": "python",
   "name": "python3"
  },
  "language_info": {
   "codemirror_mode": {
    "name": "ipython",
    "version": 3
   },
   "file_extension": ".py",
   "mimetype": "text/x-python",
   "name": "python",
   "nbconvert_exporter": "python",
   "pygments_lexer": "ipython3",
   "version": "3.7.0"
  }
 },
 "nbformat": 4,
 "nbformat_minor": 2
}
