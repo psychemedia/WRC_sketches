{
 "cells": [
  {
   "cell_type": "markdown",
   "metadata": {},
   "source": [
    "## An Improved Stage Progress Chart\n",
    "\n",
    "..."
   ]
  },
  {
   "cell_type": "code",
   "execution_count": 1,
   "metadata": {},
   "outputs": [],
   "source": [
    "import notebookimport"
   ]
  },
  {
   "cell_type": "code",
   "execution_count": 2,
   "metadata": {},
   "outputs": [
    {
     "name": "stdout",
     "output_type": "stream",
     "text": [
      "importing Jupyter notebook from Charts - Stage Results.ipynb\n",
      "importing Jupyter notebook from Charts - Split Sector Delta.ipynb\n"
     ]
    }
   ],
   "source": [
    "sr = __import__(\"Charts - Stage Results\")\n",
    "ssd = __import__(\"Charts - Split Sector Delta\")"
   ]
  },
  {
   "cell_type": "code",
   "execution_count": 3,
   "metadata": {},
   "outputs": [],
   "source": [
    "import pandas as pd\n",
    "\n",
    "import matplotlib.pyplot as plt\n",
    "\n",
    "%matplotlib inline\n",
    "\n",
    "\n",
    "import sqlite3\n",
    "dbname='wrc18.db'\n",
    "conn = sqlite3.connect(dbname)"
   ]
  },
  {
   "cell_type": "code",
   "execution_count": 4,
   "metadata": {},
   "outputs": [],
   "source": [
    "if __name__=='__main__':\n",
    "    year=2018\n",
    "    rc='RC1'\n",
    "    ss='SS4'\n",
    "    rally='Sweden'\n",
    "    snum=int(ss.replace('SS',''))\n",
    "\n",
    "    #typ='stage_times_stage' #stage_times_stage stage_times_overall\n",
    "    typ='stage_times_overall'"
   ]
  },
  {
   "cell_type": "code",
   "execution_count": 5,
   "metadata": {},
   "outputs": [],
   "source": [
    "def samesign(a,b):\n",
    "    return (a*b) >0"
   ]
  },
  {
   "cell_type": "code",
   "execution_count": 6,
   "metadata": {},
   "outputs": [],
   "source": [
    "def dbGetStageResult(conn, rally, typ, snum, rc):\n",
    "    if typ=='stage_times_stage': mstime = 'diffFirstMs'\n",
    "    elif typ=='stage_times_overall': mstime = 'totalTimeMs'\n",
    "    q='''\n",
    "    SELECT st.{mstime}, st.{mstime} AS mstime, st.position, sc.name as class, i.code, i.distance, i.name, CAST(REPLACE(code,'SS','') AS INTEGER) snum,\n",
    "    sl.`driver.code`, sl.`entrant.name`\n",
    "    FROM {typ} st INNER JOIN itinerary_stages i ON st.stageId = i.stageId\n",
    "    INNER JOIN startlist_classes sc ON sc.entryid = st.entryId \n",
    "    INNER JOIN championship_events ce ON i.eventId=ce.eventId\n",
    "    INNER JOIN startlists sl ON sl.entryId=sc.entryId\n",
    "    WHERE sc.name=\"{rc}\" AND ce.`country.name`=\"{rally}\" AND snum={stage} ORDER BY snum, st.{mstime}\n",
    "    '''.format(rc=rc,rally=rally, typ=typ, stage=snum, mstime=mstime)\n",
    "    return pd.read_sql(q,conn)\n",
    "\n"
   ]
  },
  {
   "cell_type": "code",
   "execution_count": 9,
   "metadata": {},
   "outputs": [],
   "source": [
    "if __name__=='__main__':\n",
    "    rally_stages = sr.dbGetRallyStages(conn, rally)\n",
    "    stagerank = sr.dbGetStageRank(conn, rally, rc)\n",
    "    curr = dbGetStageResult(conn, rally, typ, snum, rc)\n",
    "    curr['snum'] = 'curr'\n",
    "    prev = dbGetStageResult(conn, rally, typ, snum-1, rc)\n",
    "    prev['snum'] = 'prev'\n",
    "\n",
    "    _currprevstagerank = pd.concat([curr,prev]).reset_index(drop=True)"
   ]
  },
  {
   "cell_type": "code",
   "execution_count": 10,
   "metadata": {},
   "outputs": [],
   "source": [
    "def getCurrPrevStageRank(conn, rally, rc, stage, typ='stage_times_overall'):\n",
    "    snum = int(stage.replace('SS','')) if isinstance(stage, str) and stage.startswith('SS') else int(stage)\n",
    "    \n",
    "    stagerank = sr.dbGetStageRank(conn, rally, rc)\n",
    "    curr = dbGetStageResult(conn, rally, typ, snum, rc)\n",
    "    curr['snum'] = 'curr'\n",
    "    prev = dbGetStageResult(conn, rally, typ, snum-1, rc)\n",
    "    prev['snum'] = 'prev'\n",
    "\n",
    "    currprevstagerank = pd.concat([curr,prev]).reset_index(drop=True)\n",
    "    return currprevstagerank"
   ]
  },
  {
   "cell_type": "code",
   "execution_count": 11,
   "metadata": {},
   "outputs": [],
   "source": [
    "if __name__=='__main__':\n",
    "    currprevstagerank = getCurrPrevStageRank(conn, rally, rc, ss)"
   ]
  },
  {
   "cell_type": "code",
   "execution_count": 12,
   "metadata": {},
   "outputs": [],
   "source": [
    "#want rebased delta if different sign else smaller\n",
    "#?? if same sign, then return smaller?\n",
    "'''def thing(overall,delta):\n",
    "    if overall<0 and delta<0:\n",
    "        return overall if overall>delta else delta\n",
    "    elif overall>0 and delta>0:\n",
    "        return overall if overall<delta else delta\n",
    "    return delta\n",
    "    #return min([a,b], key=abs)\n",
    "'''\n",
    "#Return thing closest to zero if samesign, else delta\n",
    "def thing2(overall,delta):\n",
    "    if samesign(overall,delta): return min([overall,delta], key=abs)\n",
    "    return delta"
   ]
  },
  {
   "cell_type": "code",
   "execution_count": 13,
   "metadata": {},
   "outputs": [],
   "source": [
    "def rebaseStageRankProgress(currprevstagerank, drivercode=None):\n",
    "    if drivercode is None:\n",
    "        #use the first code - is this risky?\n",
    "        #Could lead to nonsensical drift from splitdurations if differnt drivercodes used?\n",
    "        drivercode = currprevstagerank['driver.code'].iloc[0]\n",
    "        \n",
    "    dfx = currprevstagerank.pivot('driver.code','snum','totalTimeMs')\n",
    "\n",
    "    rebase = dfx.loc[drivercode].to_dict()\n",
    "    #print(rebase)\n",
    "    dfx['rebased_curr'] = ((dfx['curr'] - rebase['curr'])/1000).astype(float).round(1)\n",
    "    #On first stage, there is no prev...\n",
    "    if 'prev' in dfx.columns:\n",
    "        dfx['rebased_prev'] = ((dfx['prev'] - rebase['prev'])/1000).astype(float).round(1)\n",
    "    else: dfx['rebased_prev'] = 0\n",
    "    dfx['rebased_delta'] = dfx['rebased_curr'] - dfx['rebased_prev']\n",
    "\n",
    "    dfx['deltaxx']=dfx.apply(lambda x: thing2(x['rebased_curr'],x['rebased_delta']), axis=1)\n",
    "    return dfx"
   ]
  },
  {
   "cell_type": "code",
   "execution_count": 14,
   "metadata": {},
   "outputs": [],
   "source": [
    "#Narrative is broken in the development of this chart\n",
    "def stageProgessBar(df,prev,curr,delta,deltaxx,title=None,\n",
    "                    neg='r',pos='g', lneg='pink',lpos='lightgreen',\n",
    "                    splitdurations=None, invert_colours=False):\n",
    "    \n",
    "    if invert_colours:\n",
    "        pos,neg=neg,pos\n",
    "        lpos,lneg=lneg,lpos\n",
    "        \n",
    "    #df = df.sort_values(curr,ascending=False)\n",
    "    fig, ax = plt.subplots(figsize=(15,8))\n",
    "    ax.yaxis.label.set_visible(False)\n",
    "    ax.yaxis.tick_right()\n",
    "    ax.tick_params(axis='y', which='both',length=0)\n",
    "\n",
    "    plt.axvline(x=0,linestyle='dashed',color='grey')\n",
    "\n",
    "    \n",
    "    #The previous colour maps weren't quite correct\n",
    "    def colmap3(row):\n",
    "        if not samesign(row[deltaxx], row[curr]): return 'w'\n",
    "        return lneg if row[curr]<row[prev] else lpos\n",
    "\n",
    "    def colmap4(row):\n",
    "        #if not samesign(row[delta], row[deltaxx]): return 'lightgrey'    \n",
    "        if not samesign(row[curr],row[delta]):\n",
    "            return lneg if (row[deltaxx]<0) else lpos\n",
    "        return neg if (row[deltaxx]<0) else pos\n",
    "    \n",
    "    def colmap5(row):\n",
    "        if not samesign(row[deltaxx], row[curr]): return 'w'\n",
    "        return neg if row[curr]<row[prev] else pos\n",
    "\n",
    "    df[prev].plot(kind='barh', color=df.apply(lambda x: colmap5(x),axis=1),edgecolor='w',ax=ax)\n",
    "    #df[prev].plot(kind='barh',edgecolor='black',linestyle='dashed', fill=False, ax=ax)\n",
    "    df[prev].plot(kind='barh',edgecolor='black', fill=False, ax=ax)\n",
    "    df[curr].plot(kind='barh',color='lightgrey',edgecolor='black',ax=ax)\n",
    "    \n",
    "    df[deltaxx].plot(kind='barh',color=df.apply(lambda x: colmap4(x),axis=1),edgecolor='black',ax=ax) \n",
    "\n",
    "    ax.invert_xaxis()\n",
    "    #Hide outer box\n",
    "    plt.box(on=None)\n",
    "    if title: plt.title(title)\n",
    "    \n",
    "    if splitdurations is not None and not splitdurations.empty :\n",
    "        fig,ax=ssd.plotSplitSectionDelta(rebasedsplitdurations,drivercode,dfx.index,fig,ax,alpha=0.7,invert_yaxis=False);\n",
    "\n",
    "    return fig,ax"
   ]
  },
  {
   "cell_type": "code",
   "execution_count": 15,
   "metadata": {},
   "outputs": [],
   "source": [
    "if __name__=='__main__':\n",
    "    drivercode='MEE'#'TÄN'\n",
    "\n",
    "    splitdurations = ssd.getSplitDurationsFromSplits(conn,rally,ss,rc='RC1')\n",
    "    rebasedsplitdurations = ssd.rebaseSplitDurations(splitdurations, drivercode=drivercode)"
   ]
  },
  {
   "cell_type": "code",
   "execution_count": 16,
   "metadata": {},
   "outputs": [],
   "source": [
    "#Narrative is broken in the development of this chart\n",
    "def rebaseStageProgressBar(currprevstagerank, drivercode, title=None,neg='green',pos='r', lneg='lightgreen',lpos='pink', splitdurations=None, invert_colours=False):   \n",
    "    dfx = rebaseStageRankProgress(currprevstagerank, drivercode)\n",
    "    dfx = dfx.sort_values('rebased_curr',ascending=False)\n",
    "    \n",
    "    fig, ax = stageProgessBar(dfx,'rebased_prev','rebased_curr','rebased_delta','deltaxx',title=title, neg=neg,lneg=lneg,pos=pos,lpos=lpos, invert_colours=invert_colours)\n",
    "\n",
    "    if splitdurations is not None and not splitdurations.empty:\n",
    "        rebasedsplitdurations = ssd.rebaseSplitDurations(splitdurations, drivercode=drivercode)\n",
    "        fig,ax=ssd.plotSplitSectionDelta(rebasedsplitdurations,drivercode,dfx.index,fig,ax,alpha=0.7,invert_yaxis=False, invert_colours=invert_colours);\n",
    "    \n",
    "    return fig, ax"
   ]
  },
  {
   "cell_type": "code",
   "execution_count": 17,
   "metadata": {},
   "outputs": [
    {
     "data": {
      "image/png": "[encoded data removed]",
      "text/plain": [
       "<matplotlib.figure.Figure at 0x110f38470>"
      ]
     },
     "metadata": {},
     "output_type": "display_data"
    }
   ],
   "source": [
    "if __name__=='__main__':\n",
    "    #rebaseStageProgressBar(stagerank,'TÄN', title='Stage Progress Chart - {rally}, {year} - SS{ss}'.format(year=year,rally=rally,ss=str(snum).replace('SS','')))\n",
    "    #rebaseStageProgressBar(stagerank,'PAD', title='Stage Progress Chart - {rally}, {year} - SS{ss}'.format(year=year,rally=rally,ss=str(snum).replace('SS','')))\n",
    "    #rebaseStageProgressBar(stagerank,'OST', title='Stage Progress Chart - {rally}, {year} - SS{ss}'.format(year=year,rally=rally,ss=str(snum).replace('SS','')))\n",
    "    fig, ax = rebaseStageProgressBar(currprevstagerank,'TÄN', title='Stage Progress Chart - {rally}, {year} - SS{ss}'.format(year=year,rally=rally,ss=str(snum).replace('SS','')));\n"
   ]
  },
  {
   "cell_type": "markdown",
   "metadata": {},
   "source": [
    "Solid color shows we are consolidating a position. Pastel colour shows that there has been a gain or loss on leader/laggard."
   ]
  },
  {
   "cell_type": "code",
   "execution_count": 18,
   "metadata": {},
   "outputs": [
    {
     "data": {
      "image/png": "[encoded data removed]",
      "text/plain": [
       "<matplotlib.figure.Figure at 0x1116a7390>"
      ]
     },
     "metadata": {},
     "output_type": "display_data"
    }
   ],
   "source": [
    "if __name__=='__main__':\n",
    "    fig, ax = rebaseStageProgressBar(currprevstagerank,drivercode, neg='lightgreen',pos='pink',\n",
    "                                     title='Stage Progress Chart for {dc} - {rally}, {year} - SS{ss}'.format(dc=drivercode,\n",
    "                                                                                                             year=year,\n",
    "                                                                                                             rally=rally,\n",
    "                                                                                                             ss=str(snum).replace('SS','')));\n",
    "\n",
    "    dfx = rebaseStageRankProgress(currprevstagerank, drivercode)\n",
    "    dfx = dfx.sort_values('rebased_curr',ascending=False)\n",
    "    order = dfx.index\n",
    "    fig,ax=ssd.plotSplitSectionDelta(rebasedsplitdurations,drivercode,order,fig,ax,alpha=0.7,invert_yaxis=False);\n",
    "    "
   ]
  },
  {
   "cell_type": "code",
   "execution_count": 19,
   "metadata": {},
   "outputs": [
    {
     "data": {
      "image/png": "[encoded data removed]",
      "text/plain": [
       "<matplotlib.figure.Figure at 0x111325a90>"
      ]
     },
     "metadata": {},
     "output_type": "display_data"
    }
   ],
   "source": [
    "if __name__=='__main__':\n",
    "    fig, ax = rebaseStageProgressBar(currprevstagerank,drivercode, neg='lightgreen',pos='pink',\n",
    "                                     title='Stage Progress Chart for {dc} - {rally}, {year} - SS{ss}'.format(dc=drivercode,\n",
    "                                                                                                             year=year,\n",
    "                                                                                                             rally=rally,\n",
    "                                                                                                             ss=str(snum).replace('SS','')),\n",
    "                                splitdurations=splitdurations);\n",
    "    fig.savefig('test1.png')   # save the figure to file"
   ]
  },
  {
   "cell_type": "markdown",
   "metadata": {},
   "source": [
    "## Test Outputter"
   ]
  },
  {
   "cell_type": "code",
   "execution_count": 20,
   "metadata": {},
   "outputs": [],
   "source": [
    "#!/Users/ajh59/anaconda3/bin/conda install -y unidecode\n",
    "#In some cases we may want to remove unicode characters and use a simple ascii equivalent\n",
    "import unidecode\n",
    "if __name__=='__main__':\n",
    "    unidecode.unidecode('TÄN')"
   ]
  },
  {
   "cell_type": "code",
   "execution_count": 21,
   "metadata": {},
   "outputs": [],
   "source": [
    "if __name__=='__main__':\n",
    "    txt=''\n",
    "    !mkdir -p testout/img\n",
    "    path='testout/'\n",
    "    with open('{}testfile1.md'.format(path), 'w') as file:\n",
    "        for dc in currprevstagerank['driver.code'].unique():\n",
    "            fig, ax = rebaseStageProgressBar(currprevstagerank,dc, neg='lightgreen',pos='pink',\n",
    "                                     title='Stage Progress Chart - {rally}, {year} - SS{ss}'.format(year=year,\n",
    "                                                                                                    rally=rally,\n",
    "                                                                                                    ss=str(snum).replace('SS','')));\n",
    "            img='img/test_{}_{}.png'.format(str(snum).replace('SS',''), unidecode.unidecode(dc))\n",
    "            fig.savefig('{}{}'.format(path,img))   # save the figure to file\n",
    "            plt.close(fig)  \n",
    "            file.write('# Stage Progress Chart - {rally}, {year} - {dc} - SS{ss}\\n\\n'.format(year=year,rally=rally,\n",
    "                                                                                  dc=dc,\n",
    "                                                                                  ss=str(snum).replace('SS','')))\n",
    "            file.write('![]({})\\n'.format(img))\n",
    "\n",
    "        "
   ]
  },
  {
   "cell_type": "markdown",
   "metadata": {},
   "source": [
    "Here's a test fig:\n",
    "\n",
    "![](test1.png)"
   ]
  },
  {
   "cell_type": "code",
   "execution_count": null,
   "metadata": {},
   "outputs": [],
   "source": []
  },
  {
   "cell_type": "code",
   "execution_count": null,
   "metadata": {},
   "outputs": [],
   "source": []
  }
 ],
 "metadata": {
  "kernelspec": {
   "display_name": "Python 3",
   "language": "python",
   "name": "python3"
  },
  "language_info": {
   "codemirror_mode": {
    "name": "ipython",
    "version": 3
   },
   "file_extension": ".py",
   "mimetype": "text/x-python",
   "name": "python",
   "nbconvert_exporter": "python",
   "pygments_lexer": "ipython3",
   "version": "3.6.4"
  }
 },
 "nbformat": 4,
 "nbformat_minor": 2
}
