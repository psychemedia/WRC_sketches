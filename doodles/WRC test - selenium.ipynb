{
 "cells": [
  {
   "cell_type": "code",
   "execution_count": 1,
   "metadata": {},
   "outputs": [],
   "source": [
    "from seleniumwire import webdriver  # Import from seleniumwire\n",
    "\n",
    "firefox_profile = webdriver.FirefoxProfile()\n",
    "firefox_profile.set_preference(\"browser.privatebrowsing.autostart\", True)\n",
    "\n",
    "driver = webdriver.Firefox(firefox_profile=firefox_profile)"
   ]
  },
  {
   "cell_type": "code",
   "execution_count": 142,
   "metadata": {},
   "outputs": [],
   "source": [
    "driver.get('https://www.wrc.com/en/#')\n"
   ]
  },
  {
   "cell_type": "markdown",
   "metadata": {},
   "source": [
    "## Get List of Events"
   ]
  },
  {
   "cell_type": "code",
   "execution_count": 14,
   "metadata": {},
   "outputs": [],
   "source": [
    "events = driver.find_elements_by_xpath(\"/html/body/nav/div/ul/li[4]/div/ul/li[1]/ul/li/a\")"
   ]
  },
  {
   "cell_type": "code",
   "execution_count": 16,
   "metadata": {},
   "outputs": [
    {
     "name": "stdout",
     "output_type": "stream",
     "text": [
      "https://www.wrc.com/en/wrc/results/monte-carlo/stage-times/page/318-226---.html\n",
      "https://www.wrc.com/en/wrc/results/sweden/stage-times/page/326-227---.html\n",
      "https://www.wrc.com/en/wrc/results/mexico/stage-times/page/334-228---.html\n",
      "https://www.wrc.com/en/wrc/results/france/stage-times/page/400-236---.html\n",
      "https://www.wrc.com/en/wrc/results/argentina/stage-times/page/346-230---.html\n",
      "https://www.wrc.com/en/wrc/results/chile/stage-times/page/5986--8--.html\n",
      "https://www.wrc.com/en/wrc/results/portugal/stage-times/page/342-229---.html\n",
      "https://www.wrc.com/en/wrc/results/italy/stage-times/page/360-231---.html\n",
      "https://www.wrc.com/en/wrc/results/finland/stage-times/page/376-233---.html\n",
      "https://www.wrc.com/en/wrc/results/germany/stage-times/page/384-234---.html\n",
      "https://www.wrc.com/en/wrc/results/turkey/stage-times/page/368-232---.html\n",
      "https://www.wrc.com/en/wrc/results/wales/stage-times/page/416-238---.html\n",
      "https://www.wrc.com/en/wrc/results/spain/stage-times/page/408-237---.html\n",
      "https://www.wrc.com/en/wrc/results/australia/stage-times/page/392-235---.html\n"
     ]
    }
   ],
   "source": [
    "for event in events:\n",
    "    print(event.get_attribute(\"href\"))"
   ]
  },
  {
   "cell_type": "markdown",
   "metadata": {},
   "source": [
    "## Get All Tabs in Stage"
   ]
  },
  {
   "cell_type": "code",
   "execution_count": 143,
   "metadata": {},
   "outputs": [],
   "source": [
    "example_event = 'https://www.wrc.com/en/wrc/results/monte-carlo/stage-times/page/318-226---.html'\n",
    "driver.get(example_event)"
   ]
  },
  {
   "cell_type": "code",
   "execution_count": 56,
   "metadata": {},
   "outputs": [],
   "source": [
    "event_results = driver.find_element_by_id('liveCenter')"
   ]
  },
  {
   "cell_type": "code",
   "execution_count": 1,
   "metadata": {},
   "outputs": [],
   "source": [
    "#Tab text\n",
    "common = ['STAGEWINNERS', 'ITINERARY', 'STARTLISTS', 'PENALTIES', 'RETIREMENTS', 'CHAMPIONSHIP STANDINGS']\n",
    "event_based = ['OVERALL','SPLIT TIMES' 'STAGE TIMES']"
   ]
  },
  {
   "cell_type": "code",
   "execution_count": 58,
   "metadata": {},
   "outputs": [
    {
     "name": "stdout",
     "output_type": "stream",
     "text": [
      "<selenium.webdriver.firefox.webelement.FirefoxWebElement (session=\"746b162d-1611-184f-a035-252248561183\", element=\"2efc50b9-b60b-804e-9ee7-23963848855a\")>\n",
      "<selenium.webdriver.firefox.webelement.FirefoxWebElement (session=\"746b162d-1611-184f-a035-252248561183\", element=\"4458036c-5a20-6346-b306-79201ee7546a\")>\n",
      "<selenium.webdriver.firefox.webelement.FirefoxWebElement (session=\"746b162d-1611-184f-a035-252248561183\", element=\"c5729fa1-bf08-1045-85b3-5fe9425686b3\")>\n",
      "<selenium.webdriver.firefox.webelement.FirefoxWebElement (session=\"746b162d-1611-184f-a035-252248561183\", element=\"2bab3cb1-38d3-a049-aae9-d468eea06aed\")>\n",
      "<selenium.webdriver.firefox.webelement.FirefoxWebElement (session=\"746b162d-1611-184f-a035-252248561183\", element=\"657ec111-ebad-0b4d-bb95-435353af110e\")>\n",
      "<selenium.webdriver.firefox.webelement.FirefoxWebElement (session=\"746b162d-1611-184f-a035-252248561183\", element=\"9b0bea05-5023-1e41-b8ef-cb625bc8a797\")>\n",
      "<selenium.webdriver.firefox.webelement.FirefoxWebElement (session=\"746b162d-1611-184f-a035-252248561183\", element=\"54980896-c95b-8e4b-af77-09e88519df6b\")>\n",
      "<selenium.webdriver.firefox.webelement.FirefoxWebElement (session=\"746b162d-1611-184f-a035-252248561183\", element=\"ff03e49f-b985-8c41-aa67-a7a20c4a6497\")>\n",
      "<selenium.webdriver.firefox.webelement.FirefoxWebElement (session=\"746b162d-1611-184f-a035-252248561183\", element=\"191cc120-6533-5a45-acd4-7979898b3dd1\")>\n"
     ]
    }
   ],
   "source": [
    "event_tabs = driver.find_elements_by_xpath('//*[@id=\"liveCenter\"]/ul[2]/li')[1:]\n",
    "for tab in event_tabs:\n",
    "    link = tab.find_element_by_xpath('a')\n",
    "    if link.text in common:\n",
    "        link.click()"
   ]
  },
  {
   "cell_type": "code",
   "execution_count": 2,
   "metadata": {},
   "outputs": [],
   "source": [
    "import time\n",
    "\n",
    "def get_stage_data(driver, stage_cols=False):\n",
    "    event_tabs = driver.find_elements_by_xpath('//*[@id=\"liveCenter\"]/ul[2]/li')[1:]\n",
    "    for tab in event_tabs:\n",
    "        link = tab.find_element_by_xpath('a')\n",
    "        print(link.text)\n",
    "        if stage_cols:\n",
    "            if link.text.strip() not in common:\n",
    "                print('>>>')\n",
    "                link.click()\n",
    "                time.sleep(1)\n",
    "        else:\n",
    "            if link.text.strip() in common:\n",
    "                print('>>>')\n",
    "                link.click()\n",
    "                time.sleep(1)"
   ]
  },
  {
   "cell_type": "code",
   "execution_count": 145,
   "metadata": {},
   "outputs": [
    {
     "name": "stdout",
     "output_type": "stream",
     "text": [
      "OVERALL\n",
      ">>>\n",
      "SPLIT TIMES\n",
      ">>>\n",
      "STAGE TIMES\n",
      ">>>\n",
      "STAGEWINNERS\n",
      ">>>\n",
      "ITINERARY\n",
      "STARTLISTS\n",
      "PENALTIES\n",
      "RETIREMENTS\n",
      "CHAMPIONSHIP STANDINGS\n"
     ]
    }
   ],
   "source": [
    "driver.get(example_event)\n",
    "get_stage_data(driver, True)"
   ]
  },
  {
   "cell_type": "code",
   "execution_count": 107,
   "metadata": {},
   "outputs": [
    {
     "name": "stdout",
     "output_type": "stream",
     "text": [
      "OVERALL\n",
      "SPLIT TIMES\n",
      "STAGE TIMES\n",
      "STAGEWINNERS\n",
      "ITINERARY\n",
      ">>>\n",
      "STARTLISTS\n",
      ">>>\n",
      "PENALTIES\n",
      ">>>\n",
      "RETIREMENTS\n",
      ">>>\n",
      "CHAMPIONSHIP STANDINGS\n",
      ">>>\n"
     ]
    }
   ],
   "source": [
    "#driver.get(example_event)\n",
    "get_stage_data(driver, False)"
   ]
  },
  {
   "cell_type": "code",
   "execution_count": 109,
   "metadata": {},
   "outputs": [
    {
     "data": {
      "text/plain": [
       "1419"
      ]
     },
     "execution_count": 109,
     "metadata": {},
     "output_type": "execute_result"
    }
   ],
   "source": [
    "len(driver.requests)"
   ]
  },
  {
   "cell_type": "code",
   "execution_count": 25,
   "metadata": {},
   "outputs": [],
   "source": [
    "!mkdir selenium_wrc_data"
   ]
  },
  {
   "cell_type": "code",
   "execution_count": 3,
   "metadata": {},
   "outputs": [],
   "source": [
    "missed = []\n",
    "def get_unique_assets(driver):\n",
    "    rs = {}\n",
    "    for r in driver.requests:\n",
    "        if 'sasCacheApi' in r.path:\n",
    "            asset = r.path.replace('https://www.wrc.com/service/sasCacheApi.php?route=','')\n",
    "            if r and not r.response:\n",
    "                if asset not in rs:\n",
    "                    print(f\"Nothing from {asset}?\")\n",
    "                    missed.append(asset)\n",
    "            else:\n",
    "                if asset in missed:\n",
    "                    print(f'grabbed previously missed {asset}')\n",
    "                    missed.remove(asset)\n",
    "                rs[asset] = r.response.body\n",
    "            #print(r.response.body)\n",
    "    return rs"
   ]
  },
  {
   "cell_type": "markdown",
   "metadata": {},
   "source": [
    "## Get All Stages"
   ]
  },
  {
   "cell_type": "code",
   "execution_count": 127,
   "metadata": {},
   "outputs": [],
   "source": [
    "driver = webdriver.Firefox()\n",
    "driver.get(example_event)\n",
    "stage_list = driver.find_elements_by_xpath('//*[@id=\"ss-navigation\"]/li')"
   ]
  },
  {
   "cell_type": "code",
   "execution_count": 4,
   "metadata": {},
   "outputs": [],
   "source": [
    "import time\n",
    "\n",
    "def get_stage(driver):\n",
    "    time.sleep(3)\n",
    "    print('s')\n",
    "    stage_list = driver.find_elements_by_xpath('//*[@id=\"ss-navigation\"]/li')\n",
    "    for stage in stage_list:\n",
    "        link = stage.find_element_by_xpath('a')\n",
    "        print(link.text, end = ', ')\n",
    "        link.click()\n",
    "        time.sleep(3)"
   ]
  },
  {
   "cell_type": "code",
   "execution_count": 5,
   "metadata": {},
   "outputs": [],
   "source": [
    "### Do the tab then the stage\n",
    "\n",
    "def get_tab_data_for_stage(driver, stage_cols=True):\n",
    "    event_tabs = driver.find_elements_by_xpath('//*[@id=\"liveCenter\"]/ul[2]/li')[1:]\n",
    "    for tab in event_tabs:\n",
    "        link = tab.find_element_by_xpath('a')\n",
    "        print(link.text)\n",
    "        if stage_cols:\n",
    "            if link.text.strip() not in common:\n",
    "                print('>>>')\n",
    "                link.click()\n",
    "                time.sleep(1)\n",
    "                get_stage(driver)\n",
    "        else:\n",
    "            if link.text.strip() in common:\n",
    "                print('>>>')\n",
    "                link.click()\n",
    "                time.sleep(1)"
   ]
  },
  {
   "cell_type": "code",
   "execution_count": null,
   "metadata": {},
   "outputs": [],
   "source": []
  },
  {
   "cell_type": "code",
   "execution_count": 24,
   "metadata": {},
   "outputs": [],
   "source": [
    "driver = webdriver.Firefox(firefox_profile=firefox_profile)\n",
    "\n",
    "example_event = 'https://www.wrc.com/en/wrc/results/monte-carlo/stage-times/page/318-226---.html'\n",
    "\n",
    "driver.get(example_event)"
   ]
  },
  {
   "cell_type": "code",
   "execution_count": 25,
   "metadata": {},
   "outputs": [
    {
     "name": "stdout",
     "output_type": "stream",
     "text": [
      "[<selenium.webdriver.firefox.webelement.FirefoxWebElement (session=\"d403e4bd-f241-974b-ba94-25c9bbbc3ff7\", element=\"633df7f0-a2f3-f648-91c0-7a11dfdadf81\")>, <selenium.webdriver.firefox.webelement.FirefoxWebElement (session=\"d403e4bd-f241-974b-ba94-25c9bbbc3ff7\", element=\"12f92289-fe87-c540-a999-f8b55f78db56\")>, <selenium.webdriver.firefox.webelement.FirefoxWebElement (session=\"d403e4bd-f241-974b-ba94-25c9bbbc3ff7\", element=\"e7bd45c8-508a-a746-ad74-d0c76ab9cb21\")>, <selenium.webdriver.firefox.webelement.FirefoxWebElement (session=\"d403e4bd-f241-974b-ba94-25c9bbbc3ff7\", element=\"afa1218e-292f-1f46-94ac-5e5aeec8a4e6\")>, <selenium.webdriver.firefox.webelement.FirefoxWebElement (session=\"d403e4bd-f241-974b-ba94-25c9bbbc3ff7\", element=\"44de2650-3f9f-174c-951d-862f440573c1\")>, <selenium.webdriver.firefox.webelement.FirefoxWebElement (session=\"d403e4bd-f241-974b-ba94-25c9bbbc3ff7\", element=\"795c4fe8-a536-404a-bcf4-86eae9b8b363\")>, <selenium.webdriver.firefox.webelement.FirefoxWebElement (session=\"d403e4bd-f241-974b-ba94-25c9bbbc3ff7\", element=\"d047310e-36d1-954b-bd94-49576c36b4d1\")>, <selenium.webdriver.firefox.webelement.FirefoxWebElement (session=\"d403e4bd-f241-974b-ba94-25c9bbbc3ff7\", element=\"86c39bae-2ab0-7a49-9586-5af41eaebe75\")>, <selenium.webdriver.firefox.webelement.FirefoxWebElement (session=\"d403e4bd-f241-974b-ba94-25c9bbbc3ff7\", element=\"de25e087-d096-2742-bc94-4bc6bf13f462\")>]\n",
      "OVERALL\n",
      ">>>\n",
      "s\n",
      "1\n",
      "2\n",
      "3\n",
      "4\n",
      "5\n",
      "6\n",
      "7\n",
      "8\n",
      "9\n",
      "10\n",
      "11\n",
      "12\n",
      "13\n",
      "14\n",
      "15\n",
      "16\n",
      "SPLIT TIMES\n",
      ">>>\n",
      "s\n",
      "1\n",
      "2\n",
      "3\n",
      "4\n",
      "5\n",
      "6\n",
      "7\n",
      "8\n",
      "9\n",
      "10\n",
      "11\n",
      "12\n",
      "13\n",
      "14\n",
      "15\n",
      "16\n",
      "STAGE TIMES\n",
      ">>>\n",
      "s\n",
      "1\n",
      "2\n",
      "3\n",
      "4\n",
      "5\n",
      "6\n",
      "7\n",
      "8\n",
      "9\n",
      "10\n",
      "11\n",
      "12\n",
      "13\n",
      "14\n",
      "15\n",
      "16\n",
      "STAGEWINNERS\n",
      "ITINERARY\n",
      "STARTLISTS\n",
      "PENALTIES\n",
      "RETIREMENTS\n",
      "CHAMPIONSHIP STANDINGS\n"
     ]
    }
   ],
   "source": [
    "get_tab_data_for_stage(driver)"
   ]
  },
  {
   "cell_type": "code",
   "execution_count": 26,
   "metadata": {},
   "outputs": [
    {
     "name": "stdout",
     "output_type": "stream",
     "text": [
      "OVERALL\n",
      "SPLIT TIMES\n",
      "STAGE TIMES\n",
      "STAGEWINNERS\n",
      ">>>\n",
      "ITINERARY\n",
      ">>>\n",
      "STARTLISTS\n",
      ">>>\n",
      "PENALTIES\n",
      ">>>\n",
      "RETIREMENTS\n",
      ">>>\n",
      "CHAMPIONSHIP STANDINGS\n",
      ">>>\n"
     ]
    }
   ],
   "source": [
    "get_stage_data(driver, stage_cols=False)"
   ]
  },
  {
   "cell_type": "code",
   "execution_count": 27,
   "metadata": {},
   "outputs": [],
   "source": [
    "xx = get_unique_assets(driver)"
   ]
  },
  {
   "cell_type": "code",
   "execution_count": 28,
   "metadata": {},
   "outputs": [
    {
     "data": {
      "text/plain": [
       "73"
      ]
     },
     "execution_count": 28,
     "metadata": {},
     "output_type": "execute_result"
    }
   ],
   "source": [
    "len(xx.keys())"
   ]
  },
  {
   "cell_type": "code",
   "execution_count": 29,
   "metadata": {},
   "outputs": [
    {
     "name": "stdout",
     "output_type": "stream",
     "text": [
      "events%2F78%2Frallies%2F94\n",
      "events%2F78%2Frallies%2F94%2Fitinerary\n",
      "events%2F78%2Frallies%2F94%2Fentries\n",
      "events%2F78%2Fstages%2F880\n",
      "events%2F78%2Fstages%2F880%2Fresults%3FrallyId%3D94\n",
      "events%2F78%2Frallies%2F94%2Fresults\n",
      "events%2F78%2Fstages%2F881\n",
      "events%2F78%2Fstages%2F881%2Fresults%3FrallyId%3D94\n",
      "events%2F78%2Fstages%2F885\n",
      "events%2F78%2Fstages%2F885%2Fresults%3FrallyId%3D94\n",
      "events%2F78%2Fstages%2F894\n",
      "events%2F78%2Fstages%2F894%2Fresults%3FrallyId%3D94\n",
      "events%2F78%2Fstages%2F886\n",
      "events%2F78%2Fstages%2F886%2Fresults%3FrallyId%3D94\n",
      "events%2F78%2Fstages%2F888\n",
      "events%2F78%2Fstages%2F888%2Fresults%3FrallyId%3D94\n",
      "events%2F78%2Fstages%2F889\n",
      "events%2F78%2Fstages%2F889%2Fresults%3FrallyId%3D94\n",
      "events%2F78%2Fstages%2F892\n",
      "events%2F78%2Fstages%2F892%2Fresults%3FrallyId%3D94\n",
      "events%2F78%2Fstages%2F887\n",
      "events%2F78%2Fstages%2F887%2Fresults%3FrallyId%3D94\n",
      "events%2F78%2Fstages%2F895\n",
      "events%2F78%2Fstages%2F895%2Fresults%3FrallyId%3D94\n",
      "events%2F78%2Fstages%2F893\n",
      "events%2F78%2Fstages%2F893%2Fresults%3FrallyId%3D94\n",
      "events%2F78%2Fstages%2F891\n",
      "events%2F78%2Fstages%2F891%2Fresults%3FrallyId%3D94\n",
      "events%2F78%2Fstages%2F890\n",
      "events%2F78%2Fstages%2F890%2Fresults%3FrallyId%3D94\n",
      "events%2F78%2Fstages%2F884\n",
      "events%2F78%2Fstages%2F884%2Fresults%3FrallyId%3D94\n",
      "events%2F78%2Fstages%2F883\n",
      "events%2F78%2Fstages%2F883%2Fresults%3FrallyId%3D94\n",
      "events%2F78%2Fstages%2F882\n",
      "events%2F78%2Fstages%2F882%2Fresults%3FrallyId%3D94\n",
      "events%2F78%2Fstages%2F880%2Fstagetimes%3FrallyId%3D94\n",
      "events%2F78%2Fstages%2F880%2Fsplittimes%3FrallyId%3D94\n",
      "events%2F78%2Fstages%2F881%2Fstagetimes%3FrallyId%3D94\n",
      "events%2F78%2Fstages%2F881%2Fsplittimes%3FrallyId%3D94\n",
      "events%2F78%2Fstages%2F885%2Fstagetimes%3FrallyId%3D94\n",
      "events%2F78%2Fstages%2F885%2Fsplittimes%3FrallyId%3D94\n",
      "events%2F78%2Fstages%2F894%2Fstagetimes%3FrallyId%3D94\n",
      "events%2F78%2Fstages%2F894%2Fsplittimes%3FrallyId%3D94\n",
      "events%2F78%2Fstages%2F886%2Fstagetimes%3FrallyId%3D94\n",
      "events%2F78%2Fstages%2F886%2Fsplittimes%3FrallyId%3D94\n",
      "events%2F78%2Fstages%2F888%2Fstagetimes%3FrallyId%3D94\n",
      "events%2F78%2Fstages%2F888%2Fsplittimes%3FrallyId%3D94\n",
      "events%2F78%2Fstages%2F889%2Fstagetimes%3FrallyId%3D94\n",
      "events%2F78%2Fstages%2F889%2Fsplittimes%3FrallyId%3D94\n",
      "events%2F78%2Fstages%2F892%2Fstagetimes%3FrallyId%3D94\n",
      "events%2F78%2Fstages%2F892%2Fsplittimes%3FrallyId%3D94\n",
      "events%2F78%2Fstages%2F887%2Fstagetimes%3FrallyId%3D94\n",
      "events%2F78%2Fstages%2F887%2Fsplittimes%3FrallyId%3D94\n",
      "events%2F78%2Fstages%2F895%2Fstagetimes%3FrallyId%3D94\n",
      "events%2F78%2Fstages%2F895%2Fsplittimes%3FrallyId%3D94\n",
      "events%2F78%2Fstages%2F893%2Fstagetimes%3FrallyId%3D94\n",
      "events%2F78%2Fstages%2F893%2Fsplittimes%3FrallyId%3D94\n",
      "events%2F78%2Fstages%2F891%2Fstagetimes%3FrallyId%3D94\n",
      "events%2F78%2Fstages%2F891%2Fsplittimes%3FrallyId%3D94\n",
      "events%2F78%2Fstages%2F890%2Fstagetimes%3FrallyId%3D94\n",
      "events%2F78%2Fstages%2F890%2Fsplittimes%3FrallyId%3D94\n",
      "events%2F78%2Fstages%2F884%2Fstagetimes%3FrallyId%3D94\n",
      "events%2F78%2Fstages%2F884%2Fsplittimes%3FrallyId%3D94\n",
      "events%2F78%2Fstages%2F883%2Fstagetimes%3FrallyId%3D94\n",
      "events%2F78%2Fstages%2F883%2Fsplittimes%3FrallyId%3D94\n",
      "events%2F78%2Fstages%2F882%2Fstagetimes%3FrallyId%3D94\n",
      "events%2F78%2Fstages%2F882%2Fsplittimes%3FrallyId%3D94\n",
      "events%2F78%2Frallies%2F94%2Fstagewinners\n",
      "events%2F78%2Frallies%2F94%2Fpenalties\n",
      "events%2F78%2Frallies%2F94%2Fretirements\n",
      "seasons%2F4%2Fchampionships%2F24\n",
      "seasons%2F4%2Fchampionships%2F24%2Foverallresults\n"
     ]
    }
   ],
   "source": [
    "for k in xx.keys():\n",
    "    print(k)"
   ]
  },
  {
   "cell_type": "code",
   "execution_count": 31,
   "metadata": {},
   "outputs": [
    {
     "data": {
      "text/plain": [
       "b'[{\"penaltyId\":428,\"controlId\":3739,\"entryId\":3477,\"penaltyDurationMs\":80000,\"penaltyDuration\":\"PT1M20S\",\"reason\":\"LATE 8 MN AT TC 4\"},{\"penaltyId\":429,\"controlId\":3739,\"entryId\":3482,\"penaltyDurationMs\":70000,\"penaltyDuration\":\"PT1M10S\",\"reason\":\"LATE 7 MN AT TC 4\"},{\"penaltyId\":430,\"controlId\":3739,\"entryId\":3473,\"penaltyDurationMs\":20000,\"penaltyDuration\":\"PT20S\",\"reason\":\"LATE 2 MN AT TC 4\"},{\"penaltyId\":432,\"controlId\":3738,\"entryId\":3494,\"penaltyDurationMs\":80000,\"penaltyDuration\":\"PT1M20S\",\"reason\":\"LATE 8 MN AT TC 7\"},{\"penaltyId\":434,\"controlId\":3732,\"entryId\":3455,\"penaltyDurationMs\":60000,\"penaltyDuration\":\"PT1M\",\"reason\":\"Stewards decision No. 3\"},{\"penaltyId\":435,\"controlId\":3676,\"entryId\":3516,\"penaltyDurationMs\":10000,\"penaltyDuration\":\"PT10S\",\"reason\":\"LATE 1 MN AT TC8A\"},{\"penaltyId\":436,\"controlId\":3683,\"entryId\":3469,\"penaltyDurationMs\":10000,\"penaltyDuration\":\"PT10S\",\"reason\":\"LATE 1 MN AT TC8D\"},{\"penaltyId\":437,\"controlId\":3694,\"entryId\":3507,\"penaltyDurationMs\":80000,\"penaltyDuration\":\"PT1M20S\",\"reason\":\"LATE 8 MN AT TC8D\"},{\"penaltyId\":438,\"controlId\":3703,\"entryId\":3465,\"penaltyDurationMs\":60000,\"penaltyDuration\":\"PT1M\",\"reason\":\"1 MN EARLY  AT TC 12\"},{\"penaltyId\":439,\"controlId\":3703,\"entryId\":3470,\"penaltyDurationMs\":300000,\"penaltyDuration\":\"PT5M\",\"reason\":\"LATE 30 MN AT TC 12\"},{\"penaltyId\":440,\"controlId\":3687,\"entryId\":3469,\"penaltyDurationMs\":20000,\"penaltyDuration\":\"PT20S\",\"reason\":\"LATE 2 MN AT TC12C\"},{\"penaltyId\":441,\"controlId\":3687,\"entryId\":3512,\"penaltyDurationMs\":120000,\"penaltyDuration\":\"PT2M\",\"reason\":\"LATE 12 MN AT TC12C\"},{\"penaltyId\":442,\"controlId\":3688,\"entryId\":3475,\"penaltyDurationMs\":30000,\"penaltyDuration\":\"PT30S\",\"reason\":\"Stewards decision No. 4\"},{\"penaltyId\":443,\"controlId\":3688,\"entryId\":3495,\"penaltyDurationMs\":30000,\"penaltyDuration\":\"PT30S\",\"reason\":\"Stewards decision No. 6\"},{\"penaltyId\":444,\"controlId\":3715,\"entryId\":3463,\"penaltyDurationMs\":10000,\"penaltyDuration\":\"PT10S\",\"reason\":\"LATE 1 MN AT TC16\"}]'"
      ]
     },
     "execution_count": 31,
     "metadata": {},
     "output_type": "execute_result"
    }
   ],
   "source": [
    "xx['events%2F78%2Frallies%2F94%2Fpenalties']"
   ]
  },
  {
   "cell_type": "code",
   "execution_count": 9,
   "metadata": {},
   "outputs": [],
   "source": [
    "import os\n",
    "def save_json(xx,path='selenium_wrc_data'):\n",
    "    for k in xx.keys():\n",
    "        if xx[k]:\n",
    "            with open(os.path.join(path,f'{k}.json'), 'wb') as f:\n",
    "                f.write(xx[k])"
   ]
  },
  {
   "cell_type": "code",
   "execution_count": 39,
   "metadata": {},
   "outputs": [],
   "source": [
    "save_json(xx)"
   ]
  },
  {
   "cell_type": "code",
   "execution_count": 40,
   "metadata": {},
   "outputs": [
    {
     "name": "stdout",
     "output_type": "stream",
     "text": [
      "events%2F78%2Frallies%2F94%2Fentries.json\r\n",
      "events%2F78%2Frallies%2F94%2Fitinerary.json\r\n",
      "events%2F78%2Frallies%2F94%2Fpenalties.json\r\n",
      "events%2F78%2Frallies%2F94%2Fresults.json\r\n",
      "events%2F78%2Frallies%2F94%2Fretirements.json\r\n",
      "events%2F78%2Frallies%2F94%2Fstagewinners.json\r\n",
      "events%2F78%2Frallies%2F94.json\r\n",
      "events%2F78%2Fstages%2F880%2Fresults%3FrallyId%3D94.json\r\n",
      "events%2F78%2Fstages%2F880%2Fsplittimes%3FrallyId%3D94.json\r\n",
      "events%2F78%2Fstages%2F880%2Fstagetimes%3FrallyId%3D94.json\r\n",
      "events%2F78%2Fstages%2F880.json\r\n",
      "events%2F78%2Fstages%2F881%2Fresults%3FrallyId%3D94.json\r\n",
      "events%2F78%2Fstages%2F881%2Fsplittimes%3FrallyId%3D94.json\r\n",
      "events%2F78%2Fstages%2F881%2Fstagetimes%3FrallyId%3D94.json\r\n",
      "events%2F78%2Fstages%2F881.json\r\n",
      "events%2F78%2Fstages%2F882%2Fresults%3FrallyId%3D94.json\r\n",
      "events%2F78%2Fstages%2F882%2Fsplittimes%3FrallyId%3D94.json\r\n",
      "events%2F78%2Fstages%2F882%2Fstagetimes%3FrallyId%3D94.json\r\n",
      "events%2F78%2Fstages%2F882.json\r\n",
      "events%2F78%2Fstages%2F883%2Fresults%3FrallyId%3D94.json\r\n",
      "events%2F78%2Fstages%2F883%2Fsplittimes%3FrallyId%3D94.json\r\n",
      "events%2F78%2Fstages%2F883%2Fstagetimes%3FrallyId%3D94.json\r\n",
      "events%2F78%2Fstages%2F883.json\r\n",
      "events%2F78%2Fstages%2F884%2Fresults%3FrallyId%3D94.json\r\n",
      "events%2F78%2Fstages%2F884%2Fsplittimes%3FrallyId%3D94.json\r\n",
      "events%2F78%2Fstages%2F884%2Fstagetimes%3FrallyId%3D94.json\r\n",
      "events%2F78%2Fstages%2F884.json\r\n",
      "events%2F78%2Fstages%2F885%2Fresults%3FrallyId%3D94.json\r\n",
      "events%2F78%2Fstages%2F885%2Fsplittimes%3FrallyId%3D94.json\r\n",
      "events%2F78%2Fstages%2F885%2Fstagetimes%3FrallyId%3D94.json\r\n",
      "events%2F78%2Fstages%2F885.json\r\n",
      "events%2F78%2Fstages%2F886%2Fresults%3FrallyId%3D94.json\r\n",
      "events%2F78%2Fstages%2F886%2Fsplittimes%3FrallyId%3D94.json\r\n",
      "events%2F78%2Fstages%2F886%2Fstagetimes%3FrallyId%3D94.json\r\n",
      "events%2F78%2Fstages%2F886.json\r\n",
      "events%2F78%2Fstages%2F887%2Fresults%3FrallyId%3D94.json\r\n",
      "events%2F78%2Fstages%2F887%2Fsplittimes%3FrallyId%3D94.json\r\n",
      "events%2F78%2Fstages%2F887%2Fstagetimes%3FrallyId%3D94.json\r\n",
      "events%2F78%2Fstages%2F887.json\r\n",
      "events%2F78%2Fstages%2F888%2Fresults%3FrallyId%3D94.json\r\n",
      "events%2F78%2Fstages%2F888%2Fsplittimes%3FrallyId%3D94.json\r\n",
      "events%2F78%2Fstages%2F888%2Fstagetimes%3FrallyId%3D94.json\r\n",
      "events%2F78%2Fstages%2F888.json\r\n",
      "events%2F78%2Fstages%2F889%2Fresults%3FrallyId%3D94.json\r\n",
      "events%2F78%2Fstages%2F889%2Fsplittimes%3FrallyId%3D94.json\r\n",
      "events%2F78%2Fstages%2F889%2Fstagetimes%3FrallyId%3D94.json\r\n",
      "events%2F78%2Fstages%2F889.json\r\n",
      "events%2F78%2Fstages%2F890%2Fresults%3FrallyId%3D94.json\r\n",
      "events%2F78%2Fstages%2F890%2Fsplittimes%3FrallyId%3D94.json\r\n",
      "events%2F78%2Fstages%2F890%2Fstagetimes%3FrallyId%3D94.json\r\n",
      "events%2F78%2Fstages%2F890.json\r\n",
      "events%2F78%2Fstages%2F891%2Fresults%3FrallyId%3D94.json\r\n",
      "events%2F78%2Fstages%2F891%2Fsplittimes%3FrallyId%3D94.json\r\n",
      "events%2F78%2Fstages%2F891%2Fstagetimes%3FrallyId%3D94.json\r\n",
      "events%2F78%2Fstages%2F891.json\r\n",
      "events%2F78%2Fstages%2F892%2Fresults%3FrallyId%3D94.json\r\n",
      "events%2F78%2Fstages%2F892%2Fsplittimes%3FrallyId%3D94.json\r\n",
      "events%2F78%2Fstages%2F892%2Fstagetimes%3FrallyId%3D94.json\r\n",
      "events%2F78%2Fstages%2F892.json\r",
      "\r\n",
      "events%2F78%2Fstages%2F893%2Fresults%3FrallyId%3D94.json\r\n",
      "events%2F78%2Fstages%2F893%2Fsplittimes%3FrallyId%3D94.json\r\n",
      "events%2F78%2Fstages%2F893%2Fstagetimes%3FrallyId%3D94.json\r\n",
      "events%2F78%2Fstages%2F893.json\r\n",
      "events%2F78%2Fstages%2F894%2Fresults%3FrallyId%3D94.json\r\n",
      "events%2F78%2Fstages%2F894%2Fsplittimes%3FrallyId%3D94.json\r\n",
      "events%2F78%2Fstages%2F894%2Fstagetimes%3FrallyId%3D94.json\r\n",
      "events%2F78%2Fstages%2F894.json\r\n",
      "events%2F78%2Fstages%2F895%2Fresults%3FrallyId%3D94.json\r\n",
      "events%2F78%2Fstages%2F895%2Fsplittimes%3FrallyId%3D94.json\r\n",
      "events%2F78%2Fstages%2F895%2Fstagetimes%3FrallyId%3D94.json\r\n",
      "events%2F78%2Fstages%2F895.json\r\n",
      "seasons%2F4%2Fchampionships%2F24%2Foverallresults.json\r\n",
      "seasons%2F4%2Fchampionships%2F24.json\r\n"
     ]
    }
   ],
   "source": [
    "!ls selenium_wrc_data"
   ]
  },
  {
   "cell_type": "code",
   "execution_count": 11,
   "metadata": {
    "scrolled": false
   },
   "outputs": [
    {
     "name": "stdout",
     "output_type": "stream",
     "text": [
      "Trying <selenium.webdriver.firefox.webelement.FirefoxWebElement (session=\"55e99251-846c-a74f-8a28-3b64859522c4\", element=\"d96c2097-c226-e04a-9567-f3b427c94435\")>...\n",
      "Initialising browser...\n",
      "OVERALL\n",
      ">>>\n",
      "s\n",
      "1, 2, 3, 4, 5, 6, 7, 8, 9, 10, 11, 12, 13, 14, 15, 16, 17, SPLIT TIMES\n",
      ">>>\n",
      "s\n",
      "1, 2, 3, 4, 5, 6, 7, 8, 9, 10, 11, 12, 13, 14, 15, 16, 17, STAGE TIMES\n",
      ">>>\n",
      "s\n",
      "1, 2, 3, 4, 5, 6, 7, 8, 9, 10, 11, 12, 13, 14, 15, 16, 17, STAGEWINNERS\n",
      "ITINERARY\n",
      "STARTLISTS\n",
      "PENALTIES\n",
      "RETIREMENTS\n",
      "CHAMPIONSHIP STANDINGS\n",
      "OVERALL\n",
      "SPLIT TIMES\n",
      "STAGE TIMES\n",
      "STAGEWINNERS\n",
      ">>>\n",
      "ITINERARY\n",
      ">>>\n",
      "STARTLISTS\n",
      ">>>\n",
      "PENALTIES\n",
      ">>>\n",
      "RETIREMENTS\n",
      ">>>\n",
      "CHAMPIONSHIP STANDINGS\n",
      ">>>\n",
      "Saving json...\n",
      "Trying <selenium.webdriver.firefox.webelement.FirefoxWebElement (session=\"55e99251-846c-a74f-8a28-3b64859522c4\", element=\"a138fa67-0b81-4545-8730-c38b15c89f15\")>...\n",
      "Initialising browser...\n",
      "OVERALL\n",
      ">>>\n",
      "s\n",
      "1, 2, 3, 4, 5, 6, 7, 8, 9, 10, 11, 12, 13, 14, 15, 16, 17, 18, 19, 20, 21, 22, SPLIT TIMES\n",
      ">>>\n",
      "s\n",
      "1, 2, 3, 4, 5, 6, 7, 8, 9, 10, 11, 12, 13, 14, 15, 16, 17, 18, 19, 20, 21, 22, STAGE TIMES\n",
      ">>>\n",
      "s\n",
      "1, 2, 3, 4, 5, 6, 7, 8, 9, 10, 11, 12, 13, 14, 15, 16, 17, 18, 19, 20, 21, 22, STAGEWINNERS\n",
      "ITINERARY\n",
      "STARTLISTS\n",
      "PENALTIES\n",
      "RETIREMENTS\n",
      "CHAMPIONSHIP STANDINGS\n",
      "OVERALL\n",
      "SPLIT TIMES\n",
      "STAGE TIMES\n",
      "STAGEWINNERS\n",
      ">>>\n",
      "ITINERARY\n",
      ">>>\n",
      "STARTLISTS\n",
      ">>>\n",
      "PENALTIES\n",
      ">>>\n",
      "RETIREMENTS\n",
      ">>>\n",
      "CHAMPIONSHIP STANDINGS\n",
      ">>>\n",
      "Saving json...\n",
      "Trying <selenium.webdriver.firefox.webelement.FirefoxWebElement (session=\"55e99251-846c-a74f-8a28-3b64859522c4\", element=\"3e4006d7-3e4c-a344-b967-4f7aac178047\")>...\n",
      "Initialising browser...\n",
      "OVERALL\n",
      ">>>\n",
      "s\n",
      "1, 2, 3, 4, 5, 6, 7, 8, 9, 10, 11, 12, 13, 14, 15, 16, 17, SPLIT TIMES\n",
      ">>>\n",
      "s\n",
      "1, 2, 3, 4, 5, 6, 7, 8, 9, 10, 11, 12, 13, 14, 15, 16, 17, STAGE TIMES\n",
      ">>>\n",
      "s\n",
      "1, 2, 3, 4, 5, 6, 7, 8, 9, 10, 11, 12, 13, 14, 15, 16, 17, STAGEWINNERS\n",
      "ITINERARY\n",
      "STARTLISTS\n",
      "PENALTIES\n",
      "RETIREMENTS\n",
      "CHAMPIONSHIP STANDINGS\n",
      "OVERALL\n",
      "SPLIT TIMES\n",
      "STAGE TIMES\n",
      "STAGEWINNERS\n",
      ">>>\n",
      "ITINERARY\n",
      ">>>\n",
      "STARTLISTS\n",
      ">>>\n",
      "PENALTIES\n",
      ">>>\n",
      "RETIREMENTS\n",
      ">>>\n",
      "CHAMPIONSHIP STANDINGS\n",
      ">>>\n",
      "Saving json...\n",
      "Nothing from events%2F90%2Frallies%2F106%2Fresults?\n",
      "Nothing from events%2F90%2Fstages%2F1489?\n",
      "Nothing from events%2F90%2Fstages%2F1489%2Fresults%3FrallyId%3D106?\n",
      "Nothing from events%2F90%2Fstages%2F1490?\n",
      "Nothing from events%2F90%2Fstages%2F1490%2Fresults%3FrallyId%3D106?\n",
      "grabbed previously missed events%2F90%2Frallies%2F106%2Fresults\n",
      "grabbed previously missed events%2F90%2Fstages%2F1489\n",
      "grabbed previously missed events%2F90%2Fstages%2F1490\n",
      "grabbed previously missed events%2F90%2Fstages%2F1489%2Fresults%3FrallyId%3D106\n",
      "grabbed previously missed events%2F90%2Fstages%2F1490%2Fresults%3FrallyId%3D106\n",
      "Trying <selenium.webdriver.firefox.webelement.FirefoxWebElement (session=\"55e99251-846c-a74f-8a28-3b64859522c4\", element=\"562eb31c-2f6d-9e43-9ce9-1a5226529012\")>...\n",
      "Initialising browser...\n",
      "OVERALL\n",
      ">>>\n",
      "s\n",
      "SPLIT TIMES\n",
      ">>>\n",
      "s\n",
      "STAGE TIMES\n",
      ">>>\n",
      "s\n",
      "STAGEWINNERS\n",
      "ITINERARY\n",
      "STARTLISTS\n",
      "PENALTIES\n",
      "RETIREMENTS\n",
      "CHAMPIONSHIP STANDINGS\n",
      "OVERALL\n",
      "SPLIT TIMES\n",
      "STAGE TIMES\n",
      "STAGEWINNERS\n",
      ">>>\n",
      "ITINERARY\n",
      ">>>\n",
      "STARTLISTS\n",
      ">>>\n",
      "PENALTIES\n",
      ">>>\n",
      "RETIREMENTS\n",
      ">>>\n",
      "CHAMPIONSHIP STANDINGS\n",
      ">>>\n",
      "Saving json...\n"
     ]
    }
   ],
   "source": [
    "from seleniumwire import webdriver  # Import from seleniumwire\n",
    "\n",
    "def init_driver():\n",
    "    firefox_profile = webdriver.FirefoxProfile()\n",
    "    firefox_profile.set_preference(\"browser.privatebrowsing.autostart\", True)\n",
    "\n",
    "    driver = webdriver.Firefox(firefox_profile=firefox_profile)\n",
    "    return driver\n",
    "  \n",
    "driver = init_driver()\n",
    "driver.get('https://www.wrc.com/en/#')\n",
    "events = driver.find_elements_by_xpath(\"/html/body/nav/div/ul/li[4]/div/ul/li[1]/ul/li/a\")\n",
    "\n",
    "for event in events:\n",
    "    print(f\"Trying {event}...\")\n",
    "    \n",
    "    print(\"Initialising browser...\")\n",
    "    firefox_profile = webdriver.FirefoxProfile()\n",
    "    firefox_profile.set_preference(\"browser.privatebrowsing.autostart\", True)\n",
    "    driver = webdriver.Firefox(firefox_profile=firefox_profile)\n",
    "    driver.get(event.get_attribute(\"href\"))\n",
    "    \n",
    "    get_tab_data_for_stage(driver)\n",
    "    get_stage_data(driver, stage_cols=False)\n",
    "    \n",
    "    print(\"Saving json...\")\n",
    "    save_json( get_unique_assets(driver)) "
   ]
  },
  {
   "cell_type": "code",
   "execution_count": 81,
   "metadata": {},
   "outputs": [
    {
     "data": {
      "text/plain": [
       "<selenium.webdriver.firefox.webelement.FirefoxWebElement (session=\"de2713fe-9acc-2d49-8b95-a4a1b9113aa5\", element=\"2017569c-877f-e84a-a34e-61f9c7491284\")>"
      ]
     },
     "execution_count": 81,
     "metadata": {},
     "output_type": "execute_result"
    }
   ],
   "source": [
    "event"
   ]
  },
  {
   "cell_type": "code",
   "execution_count": 10,
   "metadata": {},
   "outputs": [],
   "source": [
    "save_json( get_unique_assets(driver))"
   ]
  },
  {
   "cell_type": "code",
   "execution_count": 75,
   "metadata": {},
   "outputs": [],
   "source": [
    "driver.quit()"
   ]
  },
  {
   "cell_type": "markdown",
   "metadata": {},
   "source": [
    "## Championship Standings\n",
    "\n",
    "Need to iterate through `DRIVER`, `CO-DRIVER`, `MANUFACTURERS` for each in WRC and WRC 2 PRO, then `DRIVER`, `CO-DRIVER` in WRC 2 and JWRC."
   ]
  },
  {
   "cell_type": "code",
   "execution_count": 37,
   "metadata": {},
   "outputs": [],
   "source": [
    "example_event = 'https://www.wrc.com/en/wrc/results/monte-carlo/stage-times/page/318-226---.html'\n",
    "\n",
    "driver.get(example_event)"
   ]
  },
  {
   "cell_type": "code",
   "execution_count": 38,
   "metadata": {},
   "outputs": [
    {
     "name": "stdout",
     "output_type": "stream",
     "text": [
      "OVERALL\n",
      "SPLIT TIMES\n",
      "STAGE TIMES\n",
      "STAGEWINNERS\n",
      "ITINERARY\n",
      "STARTLISTS\n",
      "PENALTIES\n",
      "RETIREMENTS\n",
      "CHAMPIONSHIP STANDINGS\n",
      "s\n",
      "WRC\n",
      "DRIVER\n",
      "CO-DRIVER\n",
      "MANUFACTURERS\n",
      "WRC 2 PRO\n",
      "DRIVER\n",
      "CO-DRIVER\n",
      "MANUFACTURERS\n",
      "WRC 2\n",
      "DRIVER\n",
      "CO-DRIVER\n",
      "JWRC\n",
      "DRIVER\n",
      "CO-DRIVER\n"
     ]
    }
   ],
   "source": [
    "event_tabs = driver.find_elements_by_xpath('//*[@id=\"liveCenter\"]/ul[2]/li')[1:]\n",
    "for tab in event_tabs:\n",
    "    link = tab.find_element_by_xpath('a')\n",
    "    print(link.text)\n",
    "    if link.text.strip() =='CHAMPIONSHIP STANDINGS':\n",
    "        print('s')\n",
    "        link.click()\n",
    "        for cl in driver.find_elements_by_xpath('//*[@id=\"dropdown-classes\"]/option'):\n",
    "            cl.click()\n",
    "            print(cl.text)\n",
    "            for c in driver.find_elements_by_xpath('//*[@id=\"championshipStanding\"]/ul/li')[1:]:\n",
    "                print(c.text)\n",
    "                c.find_element_by_xpath('a').click()\n"
   ]
  },
  {
   "cell_type": "code",
   "execution_count": 39,
   "metadata": {},
   "outputs": [],
   "source": [
    "save_json(get_unique_assets(driver))"
   ]
  },
  {
   "cell_type": "code",
   "execution_count": null,
   "metadata": {},
   "outputs": [],
   "source": [
    "\n",
    "for each champ_class = '//*[@id=\"dropdown-classes\"]' #select element\n",
    "    link.click()\n",
    "#get champ table\n",
    "championships = '//*[@id=\"championshipStanding\"]/ul/li[2]'"
   ]
  }
 ],
 "metadata": {
  "kernelspec": {
   "display_name": "Python 3",
   "language": "python",
   "name": "python3"
  },
  "language_info": {
   "codemirror_mode": {
    "name": "ipython",
    "version": 3
   },
   "file_extension": ".py",
   "mimetype": "text/x-python",
   "name": "python",
   "nbconvert_exporter": "python",
   "pygments_lexer": "ipython3",
   "version": "3.7.5"
  }
 },
 "nbformat": 4,
 "nbformat_minor": 2
}
