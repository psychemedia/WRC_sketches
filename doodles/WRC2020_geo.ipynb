{
 "cells": [
  {
   "cell_type": "markdown",
   "metadata": {},
   "source": [
    "# `WRC2020_geo` - Geo Tools for Working With Stage Maps\n",
    "\n",
    "Official WRC KML route files are available that can be converted to geojson and used to generate a range of geographical views over routes and timing data.\n",
    "\n",
    "The [`Rally-Maps.com`](https://www.rally-maps.com/home) website has routes for a wide range of rallies which we can also get hold of..."
   ]
  },
  {
   "cell_type": "code",
   "execution_count": null,
   "metadata": {},
   "outputs": [],
   "source": [
    "import os\n",
    "import requests\n",
    "\n",
    "import pandas as pd\n",
    "import geopandas as gpd\n",
    "from sqlite_utils import Database"
   ]
  },
  {
   "cell_type": "markdown",
   "metadata": {},
   "source": [
    "## Input Data Files \n",
    "\n",
    "Various tools for coping with geo data files of various formats, for example, geojson and KML."
   ]
  },
  {
   "cell_type": "code",
   "execution_count": null,
   "metadata": {},
   "outputs": [],
   "source": [
    "#!pip3 install kml2geojson\n",
    "import kml2geojson"
   ]
  },
  {
   "cell_type": "code",
   "execution_count": null,
   "metadata": {},
   "outputs": [],
   "source": [
    "class WRC2020kmlbase:\n",
    "    \"\"\"Class for working with KML files.\"\"\"\n",
    "    \n",
    "    def __init__(self):\n",
    "        \"\"\"Initialise KML utils.\"\"\"\n",
    "        pass\n",
    "    \n",
    "\n",
    "    def kml_to_json(kml_slug,indirname='maps', outdirname='geojson'):\n",
    "        kml2geojson.main.convert('{}/{}.xml'.format(indirname,kml_slug),outdirname)\n",
    "\n",
    "    def kml_processor(df_rallydata, indirname='maps',outdirname='geojson'):\n",
    "        if not os.path.exists(dirname):\n",
    "            os.makedirs(dirname)\n",
    "        for kml_slug in get_kml_slugs(df_rallydata):\n",
    "            get_kml_file(kml_slug)\n",
    "            kml_to_json(kml_slug,indirname,outdirname)"
   ]
  },
  {
   "cell_type": "code",
   "execution_count": null,
   "metadata": {},
   "outputs": [],
   "source": [
    "class WRC2020kml(WRC2020kmlbase):\n",
    "    \"\"\"Class for working with WRC KML files.\"\"\"\n",
    "    \n",
    "    def __init__(self):\n",
    "        \"\"\"Initialise WRC KML tools.\"\"\"\n",
    "        WRC2020kmlbase.__init__(self)\n",
    "        \n",
    "    def get_kml_slugs(df_rallydata):\n",
    "        return df_rallydata['kmlfile'].unique().tolist()\n",
    "\n",
    "    def get_kml_file(kml_slug):\n",
    "        kmlurl = 'https://webappsdata.wrc.com/web/obc/kml/{}.xml'.format(kml_slug)\n",
    "        r=requests.get(kmlurl)  \n",
    "        with open(\"{}.xml\".format(kml_slug), 'wb') as f:\n",
    "            f.write(r.content)"
   ]
  },
  {
   "cell_type": "code",
   "execution_count": 56,
   "metadata": {},
   "outputs": [],
   "source": []
  },
  {
   "cell_type": "code",
   "execution_count": null,
   "metadata": {},
   "outputs": [],
   "source": [
    "# kmlfile\n",
    "kmlstub = zz.loc[zz['sas-eventid']==\"124\", 'kmlfile'].iloc[0]\n",
    "display(kmlstub)\n",
    "kml_to_json(kmlstub,'.','.')"
   ]
  },
  {
   "cell_type": "markdown",
   "metadata": {},
   "source": [
    "## Grabbing Geo Data Files\n",
    "\n",
    "Tools for accessing geodata files."
   ]
  },
  {
   "cell_type": "markdown",
   "metadata": {},
   "source": [
    "### WRC Route Files\n",
    "\n",
    "WRC route maps are available as KML datafiles. A base url provides a commnon path to the file, with an event specific slug identifying the actual filename.\n",
    "\n",
    "The slug can be found a metadata call to the WRC API."
   ]
  },
  {
   "cell_type": "code",
   "execution_count": null,
   "metadata": {},
   "outputs": [],
   "source": [
    "# %pip install geojson-to-sqlite\n",
    "# https://datasette.readthedocs.io/en/stable/spatialite.html\n",
    "# Linux: apt-get install spatialite-bin libsqlite3-mod-spatialite\n",
    "# Mac: brew install spatialite-tools\n",
    "\n",
    "! geojson-to-sqlite testgeo.db montecarlo_2020 montecarlo_2020.geojson --spatialite"
   ]
  },
  {
   "cell_type": "code",
   "execution_count": null,
   "metadata": {},
   "outputs": [],
   "source": [
    "gdb = Database('testgeo.db')\n",
    "\n",
    "query = \"SELECT * FROM sqlite_master where type='table';\"\n",
    "pd.read_sql(query, gdb.conn)"
   ]
  },
  {
   "cell_type": "code",
   "execution_count": null,
   "metadata": {},
   "outputs": [],
   "source": [
    "query = \"SELECT * FROM montecarlo_2020 LIMIT 3;\"\n",
    "pd.read_sql(query, gdb.conn)"
   ]
  },
  {
   "cell_type": "code",
   "execution_count": null,
   "metadata": {},
   "outputs": [],
   "source": [
    "#%pip install --upgrade geopandas\n",
    "\n",
    "gdf = geopandas.read_file(\"montecarlo_2020.geojson\")\n",
    "gdf.head()"
   ]
  },
  {
   "cell_type": "code",
   "execution_count": null,
   "metadata": {},
   "outputs": [],
   "source": [
    "%matplotlib inline\n",
    "\n",
    "\n",
    "gdf['geometry'].plot();"
   ]
  },
  {
   "cell_type": "code",
   "execution_count": null,
   "metadata": {},
   "outputs": [],
   "source": [
    "gdf['geometry'].iloc[3].length"
   ]
  },
  {
   "cell_type": "code",
   "execution_count": null,
   "metadata": {},
   "outputs": [],
   "source": [
    "gdf['geometry'].iloc[3]"
   ]
  },
  {
   "cell_type": "markdown",
   "metadata": {},
   "source": [
    "### Scraping `Rally-Maps.com`\n",
    "\n",
    "[`Rally-Maps.com`](https://www.rally-maps.com/home) provides access to itineraries and stage maps for a wide range of rallies.\n",
    "\n",
    "Whilst there is no obvious API for accessing the route data, we can grab it out of the leaflet maps published by the website using a little bit of browser automation...\n",
    "\n",
    "You may notice that the following recipe asks for no permission to grab the route data, it just extracts it from a public web page. So please don't abuse it. I use the recipe as part of my own rally data junkie habit, which is to say, as a purely personal leisure distraction."
   ]
  },
  {
   "cell_type": "markdown",
   "metadata": {},
   "source": [
    "eg view-source:\n",
    "in sl.leaflet.data.storage.addData()"
   ]
  },
  {
   "cell_type": "code",
   "execution_count": null,
   "metadata": {},
   "outputs": [],
   "source": [
    "\n",
    "url = \"https://www.rally-maps.com/Rallye-Perce-Neige-2020\"\n"
   ]
  },
  {
   "cell_type": "code",
   "execution_count": null,
   "metadata": {},
   "outputs": [],
   "source": [
    "# first thought was beautiful soup, script tag, try and parse the js?\n",
    "from selenium import webdriver\n",
    "from selenium.webdriver.firefox.options import Options\n",
    "options = Options()\n",
    "options.headless = True\n",
    "browser = webdriver.Firefox(options = options)\n",
    "browser.get(url)"
   ]
  },
  {
   "cell_type": "code",
   "execution_count": null,
   "metadata": {
    "lines_to_next_cell": 2
   },
   "outputs": [],
   "source": [
    "#https://apimirror.com/javascript/errors/cyclic_object_value\n",
    "jss = '''const getCircularReplacer = () => {\n",
    "  const seen = new WeakSet();\n",
    "  return (key, value) => {\n",
    "    if (typeof value === \"object\" && value !== null) {\n",
    "      if (seen.has(value)) {\n",
    "        return;\n",
    "      }\n",
    "      seen.add(value);\n",
    "    }\n",
    "    return value;\n",
    "  };\n",
    "};\n",
    "\n",
    "//https://stackoverflow.com/a/10455320/454773\n",
    "return JSON.stringify(sl.leaflet.data.storage.stages, getCircularReplacer());\n",
    "\n",
    "'''"
   ]
  },
  {
   "cell_type": "code",
   "execution_count": null,
   "metadata": {},
   "outputs": [],
   "source": [
    "import json\n",
    "js_data = json.loads(browser.execute_script(jss))\n",
    "browser.close()"
   ]
  },
  {
   "cell_type": "code",
   "execution_count": null,
   "metadata": {},
   "outputs": [],
   "source": [
    "js_data"
   ]
  },
  {
   "cell_type": "code",
   "execution_count": null,
   "metadata": {},
   "outputs": [],
   "source": []
  },
  {
   "cell_type": "markdown",
   "metadata": {},
   "source": [
    "# rotate\n",
    "\n",
    "\n",
    "$$\n",
    "\\begin{bmatrix}\n",
    "\\cos\\theta & -\\sin\\theta \\\\\n",
    "\\sin\\theta & \\cos\\theta\n",
    "\\end{bmatrix}\n",
    ".\n",
    "\\begin{bmatrix}\n",
    "x \\\\\n",
    "y\n",
    "\\end{bmatrix}\n",
    "=\n",
    "\\begin{bmatrix}\n",
    "x\\cos\\theta - y\\sin\\theta \\\\\n",
    "x\\sin\\theta + y\\cos\\theta\n",
    "\\end{bmatrix}\n",
    "$$"
   ]
  },
  {
   "cell_type": "code",
   "execution_count": null,
   "metadata": {
    "lines_to_next_cell": 0
   },
   "outputs": [],
   "source": [
    "import numpy as np\n",
    "\n",
    "def rotMatrix(angle):\n",
    "    \"\"\"Rotate vector through an angle.\"\"\"\n",
    "    c = np.cos(np.radians(angle))\n",
    "    s = np.sin(np.radians(angle))\n",
    "    return np.array([[c, -s], [s, c]])\n",
    "\n",
    "p = [0, 1]\n",
    "rotMatrix(90).dot(p)"
   ]
  },
  {
   "cell_type": "markdown",
   "metadata": {
    "lines_to_next_cell": 2
   },
   "source": [
    "## Live Pace\n",
    "\n",
    "Do the 1km map segment rows, then dist along x, y as stagetime, and plot on-route distance and stage time by driver. Requires knowing the start time. We can get the start time from getSplitTimes first split or startlist.\n"
   ]
  },
  {
   "cell_type": "code",
   "execution_count": null,
   "metadata": {},
   "outputs": [],
   "source": []
  }
 ],
 "metadata": {
  "jupytext": {
   "formats": "ipynb,py:light"
  },
  "kernelspec": {
   "display_name": "Python 3",
   "language": "python",
   "name": "python3"
  },
  "language_info": {
   "codemirror_mode": {
    "name": "ipython",
    "version": 3
   },
   "file_extension": ".py",
   "mimetype": "text/x-python",
   "name": "python",
   "nbconvert_exporter": "python",
   "pygments_lexer": "ipython3",
   "version": "3.7.6"
  }
 },
 "nbformat": 4,
 "nbformat_minor": 2
}
