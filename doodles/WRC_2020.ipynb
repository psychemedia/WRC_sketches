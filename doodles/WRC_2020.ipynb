{
 "cells": [
  {
   "cell_type": "markdown",
   "metadata": {},
   "source": [
    "# WRC Scraper  2020\n",
    "\n",
    "\n",
    "*TO DO  - add in database elements. Schema will be in `wrcResults2020.sql`.*\n",
    "\n",
    "There may be duplication of data across various objects in the final class. This is for convenience as much as anything, trying to preserve both captures of the original data with combined or derived data, as well as trying to put the data in places we can easily find it. Consistency in a live setting is where this may fall apart!\n",
    "\n",
    "*Add in `asyncio` scheduler elements to call WRC API regularly. Avoid race conditions by scheduling items together in the same scheduled event if they compete for the same write resource.*"
   ]
  },
  {
   "cell_type": "code",
   "execution_count": 1,
   "metadata": {
    "tags": [
     "active-ipynb"
    ]
   },
   "outputs": [],
   "source": [
    "%load_ext autoreload\n",
    "%autoreload 2"
   ]
  },
  {
   "cell_type": "code",
   "execution_count": 2,
   "metadata": {},
   "outputs": [],
   "source": [
    "from WRC_2020_scraper import *\n",
    "from WRC_2020_scraper import getSeasonCategories"
   ]
  },
  {
   "cell_type": "code",
   "execution_count": 448,
   "metadata": {},
   "outputs": [],
   "source": [
    "import pandas as pd\n",
    "from sqlite_utils import Database\n",
    "import uuid"
   ]
  },
  {
   "cell_type": "code",
   "execution_count": 870,
   "metadata": {
    "tags": [
     "active-ipynb"
    ]
   },
   "outputs": [],
   "source": [
    "TESTDB='testdbfy.db'"
   ]
  },
  {
   "cell_type": "code",
   "execution_count": 406,
   "metadata": {},
   "outputs": [],
   "source": [
    "from WRCUtils2020 import _isnull, _notnull, _checkattr, _jsInt, listify"
   ]
  },
  {
   "cell_type": "code",
   "execution_count": 5,
   "metadata": {},
   "outputs": [],
   "source": [
    "# TO DO - define a class for each table\n",
    "import warnings\n",
    "\n",
    "#https://stackoverflow.com/questions/28208949/log-stack-trace-for-python-warning/29567225\n",
    "import traceback\n",
    "\n",
    "_formatwarning = warnings.formatwarning"
   ]
  },
  {
   "cell_type": "markdown",
   "metadata": {},
   "source": [
    "The following generates stacktrace warnings useful when debugging in IPython notebook kernel environment."
   ]
  },
  {
   "cell_type": "code",
   "execution_count": 694,
   "metadata": {},
   "outputs": [],
   "source": [
    "def formatwarning_tb(*args, **kwargs):\n",
    "    s = _formatwarning(*args, **kwargs)\n",
    "    \n",
    "    _tb = traceback.format_stack()\n",
    "    useful=False\n",
    "    tb=[]\n",
    "    for i in _tb:\n",
    "        if 'ipython-input' in i:\n",
    "            tb.append(i)\n",
    "    s += ''.join(tb[:-1])\n",
    "    return s\n",
    "\n",
    "warnings.formatwarning = formatwarning_tb\n",
    "#logging.captureWarnings(True)\n",
    "\n",
    "    \n",
    "class IPythonWarner:\n",
    "    \"\"\"Tools for reporting warnings.\"\"\"\n",
    "    def __init__(self,nowarn=False):\n",
    "        self.nowarn = nowarn or None\n",
    "    \n",
    "    def warner(self, cond, msg, nowarn=None):\n",
    "        \"\"\"Test a condition and if True display a warning message.\"\"\"\n",
    "        if nowarn is None:\n",
    "            nowarn=self.nowarn\n",
    "            \n",
    "        if not nowarn and cond:\n",
    "            warnings.warn(msg)\n",
    "        "
   ]
  },
  {
   "cell_type": "code",
   "execution_count": 695,
   "metadata": {},
   "outputs": [],
   "source": [
    "# TO DO\n",
    "\n",
    "# how about a SqliteDB class that can provde db methods. Use sqlite_utils.\n",
    "# upserter is most important, so can save each table: upsert(table, df, key)\n",
    "# upserter may require col renaming or additional cols to df before upsert"
   ]
  },
  {
   "cell_type": "code",
   "execution_count": 864,
   "metadata": {},
   "outputs": [],
   "source": [
    "class SQLiteDB:\n",
    "    \"\"\"Simple sqlite utils.\"\"\"\n",
    "    def __init__(self, dbname=None, nowarn=True):\n",
    "        if dbname:\n",
    "            self.db_connect(dbname)\n",
    "    \n",
    "    def db_connect(self, dbname=None):\n",
    "        \"\"\"Connect to a db.\n",
    "           Give the file a randomly generated name if one not provided.\n",
    "        \"\"\"\n",
    "        dbname = dbname or f'{uuid.uuid4().hex}.db'\n",
    "        if not hasattr(self, dbname) or (dbname and self.dbname != dbname):\n",
    "            self.dbname = dbname\n",
    "            self.db = Database(dbname)\n",
    "        else:\n",
    "            self.dbname = dbname\n",
    "            self.db = Database(dbname)\n",
    "        print()\n",
    "\n",
    "    def upsert(self, table, data=None, pk=None):\n",
    "        \"\"\"Simple upsert.\n",
    "           If we forget to create a database, this will create one.\n",
    "        \"\"\"\n",
    "        print('upserting')\n",
    "        _upserts = []\n",
    "        \n",
    "        if isinstance(table, str):\n",
    "            if _notnull(data) and pk is not None:\n",
    "                #One table\n",
    "                _upserts.append((table, data, pk))\n",
    "            #Check data is None. It may be {}, which would be data...\n",
    "            elif hasattr(self, table) and data is None and pk is not None:\n",
    "                #One table, data from self attribute\n",
    "                data = getattr(self, table)\n",
    "                _upserts.append((table, data, pk))\n",
    "        elif isinstance(table,tuple) and len(table)==2 and _isnull(data):\n",
    "            (_table, _pk) = table\n",
    "            if isinstance(_table, str) and hasattr(self, _table) and _pk is not None:\n",
    "                _data = getattr(self, _table)\n",
    "                _upserts.append((_table, _data, _pk))\n",
    "        elif isinstance(table,list) and _isnull(data):\n",
    "            #several tables from self  attributes: [(table, pk), ..]\n",
    "            for _t in table:\n",
    "                if isinstance(_t, tuple) and len(_t)==2:\n",
    "                    (_table, _pk) = _t\n",
    "                    if isinstance(_table, str) and hasattr(self, _table) and _pk is not None:\n",
    "                        _data = getattr(self, _table)\n",
    "                        _upserts.append((_table, _data, _pk))\n",
    "        \n",
    "        # TO DO - if the pk is none, and data is a df, use the df index?\n",
    "\n",
    "        if not hasattr(self, 'dbname') and not hasattr(self, 'db'):\n",
    "            self.db_connect()\n",
    "            \n",
    "        #The alter=True allows us the table to be modified if we have extra columns\n",
    "        for (_table, _data, _pk) in _upserts:\n",
    "            if isinstance(_data, pd.DataFrame) and _notnull(_data) and _pk is not None:\n",
    "                self.db[_table].upsert_all(_data.to_dict(orient='records'), pk=_pk, alter=True)\n",
    "            elif isinstance(_data, dict) and _data and _pk is not None:\n",
    "                print(_data)\n",
    "                self.db[_table].upsert_all(_data, pk=_pk, alter=True)\n",
    "        # TO DO  - what if we have a dict of dicts like for the stagesplits etc?\n",
    "    \n",
    "    def dbfy(self, table, data=None, pk=None):\n",
    "        \"\"\"If we have a database, use it.\"\"\"\n",
    "        if hasattr(self, 'db'):\n",
    "            self.upsert(table, data, pk)\n",
    "    \n",
    "    def q(self, query):\n",
    "        \"\"\"Simple SQL query on db, returning a dataframe.\"\"\"\n",
    "        if hasattr(self, 'db'):\n",
    "            return pd.read_sql(query, self.db.conn)\n",
    "        \n",
    "                \n",
    "    def dbtables(self):\n",
    "        \"\"\"Show tables in db.\"\"\"\n",
    "        query = \"SELECT * FROM sqlite_master where type='table';\"\n",
    "        return self.q(query)"
   ]
  },
  {
   "cell_type": "code",
   "execution_count": 824,
   "metadata": {},
   "outputs": [],
   "source": [
    "class WRCBase(IPythonWarner, SQLiteDB):\n",
    "    \"Base class for all WRC stuff.\"\n",
    "    def __init__(self, nowarn=True, dbname=None):\n",
    "        IPythonWarner.__init__(self, nowarn=nowarn)\n",
    "        SQLiteDB.__init__(self, dbname=dbname)\n",
    "        \n",
    "    def _null():\n",
    "        pass"
   ]
  },
  {
   "cell_type": "code",
   "execution_count": 865,
   "metadata": {
    "run_control": {
     "marked": false
    }
   },
   "outputs": [],
   "source": [
    "class WRCSeasonBase(WRCBase):\n",
    "    \"\"\"Base class for things related to with seasons.\"\"\"\n",
    "    def __init__(self, season_external_id=None, autoseed=False, nowarn=True, dbname=None):\n",
    "        WRCBase.__init__(self, nowarn=nowarn, dbname=dbname)\n",
    "        \n",
    "        self.season_external_id = _jsInt(season_external_id)\n",
    "        if not self.season_external_id and autoseed:\n",
    "            self._check_season_external_id()\n",
    "            \n",
    "    def _check_season_external_id(self, season_external_id=None):\n",
    "        \"\"\"Check that season_external_id exists and if not, get one.\"\"\"\n",
    "        self.season_external_id =  _jsInt(season_external_id) or self.season_external_id\n",
    "        if not _checkattr(self,'season_external_id'):\n",
    "            self.fetchSeasonExternalId(season_external_id)\n",
    "            \n",
    "    def fetchSeasonExternalId(self, season_external_id=None):\n",
    "        \"\"\"Fetch a season external ID howsoever we can.\"\"\"\n",
    "        #Get current one from active rally\n",
    "        #It's also available from current_season_events\n",
    "        event, days, channels = getActiveRally()\n",
    "        self.event, self.days, self.channels = event, days, channels\n",
    "\n",
    "        #The returned np.int64 is not JSON serialisable\n",
    "        self.season_external_id = _jsInt(event.loc[0,'season.externalId'])\n",
    "        #Upsert the data if there's a db connection\n",
    "        self.dbfy([('event','id'), ('days','id'), ('channels','id')])"
   ]
  },
  {
   "cell_type": "code",
   "execution_count": 863,
   "metadata": {
    "tags": [
     "active-ipynb"
    ]
   },
   "outputs": [
    {
     "name": "stderr",
     "output_type": "stream",
     "text": [
      "DEBUG:urllib3.connectionpool:https://www.wrc.com:443 \"POST /ajax.php?contelPageId=171091 HTTP/1.1\" 200 4581\n"
     ]
    },
    {
     "name": "stdout",
     "output_type": "stream",
     "text": [
      "\n"
     ]
    }
   ],
   "source": [
    "zz= WRCSeasonBase(autoseed=True)#.season_external_id\n",
    "zz.db_connect()"
   ]
  },
  {
   "cell_type": "code",
   "execution_count": 826,
   "metadata": {},
   "outputs": [],
   "source": [
    "class WRCSeasonCategories(WRCSeasonBase):\n",
    "    def __init__(self, autoseed=False, nowarn=True, dbname=None):\n",
    "        WRCSeasonBase.__init__(self, nowarn=nowarn, dbname=dbname)\n",
    "        \n",
    "        self.season_categories = None\n",
    "        self.championship_codes = None\n",
    "        \n",
    "        if autoseed:\n",
    "            self.fetchSeasonCategories()\n",
    "            \n",
    "    def fetchSeasonCategories(self):\n",
    "        self.season_categories = getSeasonCategories()\n",
    "        self.championship_codes = getSeasonChampionshipCodes()\n",
    "        self.dbfy([('season_categories','id'), ('championship_codes','id')])"
   ]
  },
  {
   "cell_type": "code",
   "execution_count": 807,
   "metadata": {
    "tags": [
     "active-ipynb"
    ]
   },
   "outputs": [
    {
     "name": "stdout",
     "output_type": "stream",
     "text": [
      "\n"
     ]
    },
    {
     "name": "stderr",
     "output_type": "stream",
     "text": [
      "DEBUG:urllib3.connectionpool:https://www.wrc.com:443 \"POST /ajax.php?contelPageId=186641 HTTP/1.1\" 200 144\n",
      "DEBUG:urllib3.connectionpool:https://www.wrc.com:443 \"POST /ajax.php?contelPageId=186641 HTTP/1.1\" 200 146\n",
      "DEBUG:urllib3.connectionpool:https://www.wrc.com:443 \"POST /ajax.php?contelPageId=186641 HTTP/1.1\" 200 150\n",
      "DEBUG:urllib3.connectionpool:https://www.wrc.com:443 \"POST /ajax.php?contelPageId=186641 HTTP/1.1\" 200 150\n",
      "DEBUG:urllib3.connectionpool:https://www.wrc.com:443 \"POST /ajax.php?contelPageId=186641 HTTP/1.1\" 200 144\n",
      "DEBUG:urllib3.connectionpool:https://www.wrc.com:443 \"POST /ajax.php?contelPageId=186641 HTTP/1.1\" 200 146\n",
      "DEBUG:urllib3.connectionpool:https://www.wrc.com:443 \"POST /ajax.php?contelPageId=186641 HTTP/1.1\" 200 150\n",
      "DEBUG:urllib3.connectionpool:https://www.wrc.com:443 \"POST /ajax.php?contelPageId=186641 HTTP/1.1\" 200 150\n"
     ]
    },
    {
     "name": "stdout",
     "output_type": "stream",
     "text": [
      "upserting\n"
     ]
    },
    {
     "data": {
      "text/html": [
       "<div>\n",
       "<style scoped>\n",
       "    .dataframe tbody tr th:only-of-type {\n",
       "        vertical-align: middle;\n",
       "    }\n",
       "\n",
       "    .dataframe tbody tr th {\n",
       "        vertical-align: top;\n",
       "    }\n",
       "\n",
       "    .dataframe thead th {\n",
       "        text-align: right;\n",
       "    }\n",
       "</style>\n",
       "<table border=\"1\" class=\"dataframe\">\n",
       "  <thead>\n",
       "    <tr style=\"text-align: right;\">\n",
       "      <th></th>\n",
       "      <th>type</th>\n",
       "      <th>name</th>\n",
       "      <th>tbl_name</th>\n",
       "      <th>rootpage</th>\n",
       "      <th>sql</th>\n",
       "    </tr>\n",
       "  </thead>\n",
       "  <tbody>\n",
       "    <tr>\n",
       "      <th>0</th>\n",
       "      <td>table</td>\n",
       "      <td>season_categories</td>\n",
       "      <td>season_categories</td>\n",
       "      <td>2</td>\n",
       "      <td>CREATE TABLE [season_categories] (\\n   [id] IN...</td>\n",
       "    </tr>\n",
       "    <tr>\n",
       "      <th>1</th>\n",
       "      <td>table</td>\n",
       "      <td>championship_codes</td>\n",
       "      <td>championship_codes</td>\n",
       "      <td>3</td>\n",
       "      <td>CREATE TABLE [championship_codes] (\\n   [id] I...</td>\n",
       "    </tr>\n",
       "    <tr>\n",
       "      <th>2</th>\n",
       "      <td>table</td>\n",
       "      <td>event</td>\n",
       "      <td>event</td>\n",
       "      <td>4</td>\n",
       "      <td>CREATE TABLE [event] (\\n   [id] INTEGER PRIMAR...</td>\n",
       "    </tr>\n",
       "    <tr>\n",
       "      <th>3</th>\n",
       "      <td>table</td>\n",
       "      <td>days</td>\n",
       "      <td>days</td>\n",
       "      <td>5</td>\n",
       "      <td>CREATE TABLE [days] (\\n   [id] INTEGER PRIMARY...</td>\n",
       "    </tr>\n",
       "    <tr>\n",
       "      <th>4</th>\n",
       "      <td>table</td>\n",
       "      <td>channels</td>\n",
       "      <td>channels</td>\n",
       "      <td>6</td>\n",
       "      <td>CREATE TABLE [channels] (\\n   [id] INTEGER PRI...</td>\n",
       "    </tr>\n",
       "    <tr>\n",
       "      <th>5</th>\n",
       "      <td>table</td>\n",
       "      <td>championship</td>\n",
       "      <td>championship</td>\n",
       "      <td>19</td>\n",
       "      <td>CREATE TABLE [championship] (\\n   [championshi...</td>\n",
       "    </tr>\n",
       "    <tr>\n",
       "      <th>6</th>\n",
       "      <td>table</td>\n",
       "      <td>championshipRounds</td>\n",
       "      <td>championshipRounds</td>\n",
       "      <td>20</td>\n",
       "      <td>CREATE TABLE [championshipRounds] (\\n   [event...</td>\n",
       "    </tr>\n",
       "    <tr>\n",
       "      <th>7</th>\n",
       "      <td>table</td>\n",
       "      <td>championshipEntries</td>\n",
       "      <td>championshipEntries</td>\n",
       "      <td>24</td>\n",
       "      <td>CREATE TABLE [championshipEntries] (\\n   [cham...</td>\n",
       "    </tr>\n",
       "    <tr>\n",
       "      <th>8</th>\n",
       "      <td>table</td>\n",
       "      <td>championship_standings</td>\n",
       "      <td>championship_standings</td>\n",
       "      <td>26</td>\n",
       "      <td>CREATE TABLE [championship_standings] (\\n   [c...</td>\n",
       "    </tr>\n",
       "    <tr>\n",
       "      <th>9</th>\n",
       "      <td>table</td>\n",
       "      <td>round_results</td>\n",
       "      <td>round_results</td>\n",
       "      <td>28</td>\n",
       "      <td>CREATE TABLE [round_results] (\\n   [championsh...</td>\n",
       "    </tr>\n",
       "  </tbody>\n",
       "</table>\n",
       "</div>"
      ],
      "text/plain": [
       "    type                    name                tbl_name  rootpage  \\\n",
       "0  table       season_categories       season_categories         2   \n",
       "1  table      championship_codes      championship_codes         3   \n",
       "2  table                   event                   event         4   \n",
       "3  table                    days                    days         5   \n",
       "4  table                channels                channels         6   \n",
       "5  table            championship            championship        19   \n",
       "6  table      championshipRounds      championshipRounds        20   \n",
       "7  table     championshipEntries     championshipEntries        24   \n",
       "8  table  championship_standings  championship_standings        26   \n",
       "9  table           round_results           round_results        28   \n",
       "\n",
       "                                                 sql  \n",
       "0  CREATE TABLE [season_categories] (\\n   [id] IN...  \n",
       "1  CREATE TABLE [championship_codes] (\\n   [id] I...  \n",
       "2  CREATE TABLE [event] (\\n   [id] INTEGER PRIMAR...  \n",
       "3  CREATE TABLE [days] (\\n   [id] INTEGER PRIMARY...  \n",
       "4  CREATE TABLE [channels] (\\n   [id] INTEGER PRI...  \n",
       "5  CREATE TABLE [championship] (\\n   [championshi...  \n",
       "6  CREATE TABLE [championshipRounds] (\\n   [event...  \n",
       "7  CREATE TABLE [championshipEntries] (\\n   [cham...  \n",
       "8  CREATE TABLE [championship_standings] (\\n   [c...  \n",
       "9  CREATE TABLE [round_results] (\\n   [championsh...  "
      ]
     },
     "execution_count": 807,
     "metadata": {},
     "output_type": "execute_result"
    }
   ],
   "source": [
    "zz = WRCSeasonCategories(dbname=TESTDB)\n",
    "zz.fetchSeasonCategories()\n",
    "zz.championship_codes\n",
    "zz.dbtables()"
   ]
  },
  {
   "cell_type": "code",
   "execution_count": 827,
   "metadata": {},
   "outputs": [],
   "source": [
    "class WRCChampionship(WRCSeasonCategories):       \n",
    "    \"\"\"Class for championship.\"\"\"\n",
    "    def __init__(self, category='WRC', typ='drivers',\n",
    "                 season_external_id = None,\n",
    "                 autoseed=False, nowarn=True, dbname=None):\n",
    "        WRCSeasonCategories.__init__(self, autoseed=False, nowarn=True, dbname=dbname)\n",
    "\n",
    "        self.championships = {}\n",
    "        \n",
    "        if autoseed:\n",
    "            fetchChampionship(self, category=category, typ=typ,\n",
    "                              season_external_id=season_external_id)\n",
    "        \n",
    "    def fetchChampionship(self, category='WRC',typ='drivers', season_external_id=None):\n",
    "        self._check_season_external_id(season_external_id)\n",
    "        _c = self.championships\n",
    "        if category not in _c:\n",
    "            _c[category] = {}\n",
    "        _cc = _c[category]\n",
    "        if typ not in _cc:\n",
    "            _cc[typ] =  {}\n",
    "        _cct = _cc[typ]\n",
    "        (_cct['championship'], _cct['championshipRounds'], \\\n",
    "         _cct['championshipEntries']) = getChampionship(category=category,\n",
    "                                                        typ=typ, season_external_id=season_external_id)\n",
    "        \n",
    "        self.dbfy('championship', _cct['championship'], 'championshipId')\n",
    "        self.dbfy('championshipRounds', _cct['championshipRounds'], ['eventId','championshipId'])\n",
    "        self.dbfy('championshipEntries', _cct['championshipEntries'],\n",
    "                  ['championshipEntryId','championshipId','personId'])"
   ]
  },
  {
   "cell_type": "code",
   "execution_count": 809,
   "metadata": {
    "tags": [
     "active-ipynb"
    ]
   },
   "outputs": [
    {
     "name": "stdout",
     "output_type": "stream",
     "text": [
      "\n",
      "None True\n",
      "grabbing\n"
     ]
    },
    {
     "name": "stderr",
     "output_type": "stream",
     "text": [
      "DEBUG:urllib3.connectionpool:https://www.wrc.com:443 \"POST /ajax.php?contelPageId=171091 HTTP/1.1\" 200 4581\n",
      "DEBUG:urllib3.connectionpool:https://www.wrc.com:443 \"POST /ajax.php?contelPageId=171091 HTTP/1.1\" 200 4581\n",
      "DEBUG:urllib3.connectionpool:https://www.wrc.com:443 \"POST /ajax.php?contelPageId=186641 HTTP/1.1\" 200 144\n",
      "DEBUG:urllib3.connectionpool:https://www.wrc.com:443 \"POST /ajax.php?contelPageId=186641 HTTP/1.1\" 200 146\n",
      "DEBUG:urllib3.connectionpool:https://www.wrc.com:443 \"POST /ajax.php?contelPageId=186641 HTTP/1.1\" 200 150\n"
     ]
    },
    {
     "name": "stdout",
     "output_type": "stream",
     "text": [
      "upserting\n"
     ]
    },
    {
     "name": "stderr",
     "output_type": "stream",
     "text": [
      "DEBUG:urllib3.connectionpool:https://www.wrc.com:443 \"POST /ajax.php?contelPageId=186641 HTTP/1.1\" 200 150\n",
      "DEBUG:urllib3.connectionpool:https://www.wrc.com:443 \"POST /ajax.php?contelPageId=186641 HTTP/1.1\" 200 2148\n"
     ]
    },
    {
     "name": "stdout",
     "output_type": "stream",
     "text": [
      "upserting\n",
      "upserting\n",
      "upserting\n"
     ]
    },
    {
     "data": {
      "text/html": [
       "<div>\n",
       "<style scoped>\n",
       "    .dataframe tbody tr th:only-of-type {\n",
       "        vertical-align: middle;\n",
       "    }\n",
       "\n",
       "    .dataframe tbody tr th {\n",
       "        vertical-align: top;\n",
       "    }\n",
       "\n",
       "    .dataframe thead th {\n",
       "        text-align: right;\n",
       "    }\n",
       "</style>\n",
       "<table border=\"1\" class=\"dataframe\">\n",
       "  <thead>\n",
       "    <tr style=\"text-align: right;\">\n",
       "      <th></th>\n",
       "      <th>type</th>\n",
       "      <th>name</th>\n",
       "      <th>tbl_name</th>\n",
       "      <th>rootpage</th>\n",
       "      <th>sql</th>\n",
       "    </tr>\n",
       "  </thead>\n",
       "  <tbody>\n",
       "    <tr>\n",
       "      <th>0</th>\n",
       "      <td>table</td>\n",
       "      <td>season_categories</td>\n",
       "      <td>season_categories</td>\n",
       "      <td>2</td>\n",
       "      <td>CREATE TABLE [season_categories] (\\n   [id] IN...</td>\n",
       "    </tr>\n",
       "    <tr>\n",
       "      <th>1</th>\n",
       "      <td>table</td>\n",
       "      <td>championship_codes</td>\n",
       "      <td>championship_codes</td>\n",
       "      <td>3</td>\n",
       "      <td>CREATE TABLE [championship_codes] (\\n   [id] I...</td>\n",
       "    </tr>\n",
       "    <tr>\n",
       "      <th>2</th>\n",
       "      <td>table</td>\n",
       "      <td>event</td>\n",
       "      <td>event</td>\n",
       "      <td>4</td>\n",
       "      <td>CREATE TABLE [event] (\\n   [id] INTEGER PRIMAR...</td>\n",
       "    </tr>\n",
       "    <tr>\n",
       "      <th>3</th>\n",
       "      <td>table</td>\n",
       "      <td>days</td>\n",
       "      <td>days</td>\n",
       "      <td>5</td>\n",
       "      <td>CREATE TABLE [days] (\\n   [id] INTEGER PRIMARY...</td>\n",
       "    </tr>\n",
       "    <tr>\n",
       "      <th>4</th>\n",
       "      <td>table</td>\n",
       "      <td>channels</td>\n",
       "      <td>channels</td>\n",
       "      <td>6</td>\n",
       "      <td>CREATE TABLE [channels] (\\n   [id] INTEGER PRI...</td>\n",
       "    </tr>\n",
       "    <tr>\n",
       "      <th>5</th>\n",
       "      <td>table</td>\n",
       "      <td>championship</td>\n",
       "      <td>championship</td>\n",
       "      <td>19</td>\n",
       "      <td>CREATE TABLE [championship] (\\n   [championshi...</td>\n",
       "    </tr>\n",
       "    <tr>\n",
       "      <th>6</th>\n",
       "      <td>table</td>\n",
       "      <td>championshipRounds</td>\n",
       "      <td>championshipRounds</td>\n",
       "      <td>20</td>\n",
       "      <td>CREATE TABLE [championshipRounds] (\\n   [event...</td>\n",
       "    </tr>\n",
       "    <tr>\n",
       "      <th>7</th>\n",
       "      <td>table</td>\n",
       "      <td>championshipEntries</td>\n",
       "      <td>championshipEntries</td>\n",
       "      <td>24</td>\n",
       "      <td>CREATE TABLE [championshipEntries] (\\n   [cham...</td>\n",
       "    </tr>\n",
       "    <tr>\n",
       "      <th>8</th>\n",
       "      <td>table</td>\n",
       "      <td>championship_standings</td>\n",
       "      <td>championship_standings</td>\n",
       "      <td>26</td>\n",
       "      <td>CREATE TABLE [championship_standings] (\\n   [c...</td>\n",
       "    </tr>\n",
       "    <tr>\n",
       "      <th>9</th>\n",
       "      <td>table</td>\n",
       "      <td>round_results</td>\n",
       "      <td>round_results</td>\n",
       "      <td>28</td>\n",
       "      <td>CREATE TABLE [round_results] (\\n   [championsh...</td>\n",
       "    </tr>\n",
       "  </tbody>\n",
       "</table>\n",
       "</div>"
      ],
      "text/plain": [
       "    type                    name                tbl_name  rootpage  \\\n",
       "0  table       season_categories       season_categories         2   \n",
       "1  table      championship_codes      championship_codes         3   \n",
       "2  table                   event                   event         4   \n",
       "3  table                    days                    days         5   \n",
       "4  table                channels                channels         6   \n",
       "5  table            championship            championship        19   \n",
       "6  table      championshipRounds      championshipRounds        20   \n",
       "7  table     championshipEntries     championshipEntries        24   \n",
       "8  table  championship_standings  championship_standings        26   \n",
       "9  table           round_results           round_results        28   \n",
       "\n",
       "                                                 sql  \n",
       "0  CREATE TABLE [season_categories] (\\n   [id] IN...  \n",
       "1  CREATE TABLE [championship_codes] (\\n   [id] I...  \n",
       "2  CREATE TABLE [event] (\\n   [id] INTEGER PRIMAR...  \n",
       "3  CREATE TABLE [days] (\\n   [id] INTEGER PRIMARY...  \n",
       "4  CREATE TABLE [channels] (\\n   [id] INTEGER PRI...  \n",
       "5  CREATE TABLE [championship] (\\n   [championshi...  \n",
       "6  CREATE TABLE [championshipRounds] (\\n   [event...  \n",
       "7  CREATE TABLE [championshipEntries] (\\n   [cham...  \n",
       "8  CREATE TABLE [championship_standings] (\\n   [c...  \n",
       "9  CREATE TABLE [round_results] (\\n   [championsh...  "
      ]
     },
     "execution_count": 809,
     "metadata": {},
     "output_type": "execute_result"
    }
   ],
   "source": [
    "zz = WRCChampionship(dbname=TESTDB)\n",
    "zz.fetchChampionship()\n",
    "zz.dbtables()"
   ]
  },
  {
   "cell_type": "code",
   "execution_count": 828,
   "metadata": {},
   "outputs": [],
   "source": [
    "class WRCChampionshipStandings(WRCSeasonCategories):       \n",
    "    \"\"\"Standings for a championship.\"\"\"\n",
    "    def __init__(self, category='WRC', typ='drivers',\n",
    "                 season_external_id = None,\n",
    "                 autoseed=False, nowarn=True, dbname=None):\n",
    "        WRCSeasonCategories.__init__(self, autoseed=False, nowarn=True, dbname=dbname)\n",
    "        \n",
    "        self.championship_standings = {}\n",
    "        \n",
    "        if autoseed:\n",
    "            fetchChampionshipStandings(self,category=category, typ=typ,\n",
    "                                       season_external_id=season_external_id)\n",
    "            \n",
    "        \n",
    "    def fetchChampionshipStandings(self, category='WRC',typ='drivers', season_external_id=None):\n",
    "        self._check_season_external_id(season_external_id)\n",
    "        _c = self.championship_standings\n",
    "        if category not in _c:\n",
    "            _c[category] = {}\n",
    "        _cc = _c[category]\n",
    "        if typ not in _cc:\n",
    "            _cc[typ] =  {}\n",
    "        _cct = _cc[typ]\n",
    "        (_cct['championship_standings'], \\\n",
    "         _cct['round_results']) = getChampionshipStandings(category=category,\n",
    "                                                           typ=typ, season_external_id=season_external_id)\n",
    "        \n",
    "        self.dbfy('championship_standings', _cct['championship_standings'], ['championshipId','championshipEntryId'])\n",
    "        self.dbfy('round_results', _cct['round_results'], ['championshipEntryId','championshipId','eventId'])\n"
   ]
  },
  {
   "cell_type": "code",
   "execution_count": 811,
   "metadata": {
    "tags": [
     "active-ipynb"
    ]
   },
   "outputs": [
    {
     "name": "stderr",
     "output_type": "stream",
     "text": [
      "DEBUG:urllib3.connectionpool:https://www.wrc.com:443 \"POST /ajax.php?contelPageId=171091 HTTP/1.1\" 200 4581\n",
      "DEBUG:urllib3.connectionpool:https://www.wrc.com:443 \"POST /ajax.php?contelPageId=171091 HTTP/1.1\" 200 4581\n"
     ]
    },
    {
     "name": "stdout",
     "output_type": "stream",
     "text": [
      "\n",
      "None True\n",
      "grabbing\n",
      "upserting\n"
     ]
    },
    {
     "name": "stderr",
     "output_type": "stream",
     "text": [
      "DEBUG:urllib3.connectionpool:https://www.wrc.com:443 \"POST /ajax.php?contelPageId=186641 HTTP/1.1\" 200 144\n",
      "DEBUG:urllib3.connectionpool:https://www.wrc.com:443 \"POST /ajax.php?contelPageId=186641 HTTP/1.1\" 200 146\n",
      "DEBUG:urllib3.connectionpool:https://www.wrc.com:443 \"POST /ajax.php?contelPageId=186641 HTTP/1.1\" 200 150\n",
      "DEBUG:urllib3.connectionpool:https://www.wrc.com:443 \"POST /ajax.php?contelPageId=186641 HTTP/1.1\" 200 150\n",
      "DEBUG:urllib3.connectionpool:https://www.wrc.com:443 \"POST /ajax.php?contelPageId=186641 HTTP/1.1\" 200 59\n",
      "DEBUG:urllib3.connectionpool:https://www.wrc.com:443 \"POST /ajax.php?contelPageId=171091 HTTP/1.1\" 200 4581\n",
      "DEBUG:urllib3.connectionpool:https://www.wrc.com:443 \"POST /ajax.php?contelPageId=186641 HTTP/1.1\" 200 144\n",
      "DEBUG:urllib3.connectionpool:https://www.wrc.com:443 \"POST /ajax.php?contelPageId=186641 HTTP/1.1\" 200 146\n"
     ]
    },
    {
     "name": "stdout",
     "output_type": "stream",
     "text": [
      "upserting\n",
      "upserting\n",
      "6 False\n",
      "upserting\n"
     ]
    },
    {
     "name": "stderr",
     "output_type": "stream",
     "text": [
      "DEBUG:urllib3.connectionpool:https://www.wrc.com:443 \"POST /ajax.php?contelPageId=186641 HTTP/1.1\" 200 150\n",
      "DEBUG:urllib3.connectionpool:https://www.wrc.com:443 \"POST /ajax.php?contelPageId=186641 HTTP/1.1\" 200 150\n",
      "DEBUG:urllib3.connectionpool:https://www.wrc.com:443 \"POST /ajax.php?contelPageId=186641 HTTP/1.1\" 200 449\n"
     ]
    },
    {
     "name": "stdout",
     "output_type": "stream",
     "text": [
      "upserting\n",
      "upserting\n"
     ]
    },
    {
     "data": {
      "text/html": [
       "<div>\n",
       "<style scoped>\n",
       "    .dataframe tbody tr th:only-of-type {\n",
       "        vertical-align: middle;\n",
       "    }\n",
       "\n",
       "    .dataframe tbody tr th {\n",
       "        vertical-align: top;\n",
       "    }\n",
       "\n",
       "    .dataframe thead th {\n",
       "        text-align: right;\n",
       "    }\n",
       "</style>\n",
       "<table border=\"1\" class=\"dataframe\">\n",
       "  <thead>\n",
       "    <tr style=\"text-align: right;\">\n",
       "      <th></th>\n",
       "      <th>type</th>\n",
       "      <th>name</th>\n",
       "      <th>tbl_name</th>\n",
       "      <th>rootpage</th>\n",
       "      <th>sql</th>\n",
       "    </tr>\n",
       "  </thead>\n",
       "  <tbody>\n",
       "    <tr>\n",
       "      <th>0</th>\n",
       "      <td>table</td>\n",
       "      <td>season_categories</td>\n",
       "      <td>season_categories</td>\n",
       "      <td>2</td>\n",
       "      <td>CREATE TABLE [season_categories] (\\n   [id] IN...</td>\n",
       "    </tr>\n",
       "    <tr>\n",
       "      <th>1</th>\n",
       "      <td>table</td>\n",
       "      <td>championship_codes</td>\n",
       "      <td>championship_codes</td>\n",
       "      <td>3</td>\n",
       "      <td>CREATE TABLE [championship_codes] (\\n   [id] I...</td>\n",
       "    </tr>\n",
       "    <tr>\n",
       "      <th>2</th>\n",
       "      <td>table</td>\n",
       "      <td>event</td>\n",
       "      <td>event</td>\n",
       "      <td>4</td>\n",
       "      <td>CREATE TABLE [event] (\\n   [id] INTEGER PRIMAR...</td>\n",
       "    </tr>\n",
       "    <tr>\n",
       "      <th>3</th>\n",
       "      <td>table</td>\n",
       "      <td>days</td>\n",
       "      <td>days</td>\n",
       "      <td>5</td>\n",
       "      <td>CREATE TABLE [days] (\\n   [id] INTEGER PRIMARY...</td>\n",
       "    </tr>\n",
       "    <tr>\n",
       "      <th>4</th>\n",
       "      <td>table</td>\n",
       "      <td>channels</td>\n",
       "      <td>channels</td>\n",
       "      <td>6</td>\n",
       "      <td>CREATE TABLE [channels] (\\n   [id] INTEGER PRI...</td>\n",
       "    </tr>\n",
       "    <tr>\n",
       "      <th>5</th>\n",
       "      <td>table</td>\n",
       "      <td>championship</td>\n",
       "      <td>championship</td>\n",
       "      <td>19</td>\n",
       "      <td>CREATE TABLE [championship] (\\n   [championshi...</td>\n",
       "    </tr>\n",
       "    <tr>\n",
       "      <th>6</th>\n",
       "      <td>table</td>\n",
       "      <td>championshipRounds</td>\n",
       "      <td>championshipRounds</td>\n",
       "      <td>20</td>\n",
       "      <td>CREATE TABLE [championshipRounds] (\\n   [event...</td>\n",
       "    </tr>\n",
       "    <tr>\n",
       "      <th>7</th>\n",
       "      <td>table</td>\n",
       "      <td>championshipEntries</td>\n",
       "      <td>championshipEntries</td>\n",
       "      <td>24</td>\n",
       "      <td>CREATE TABLE [championshipEntries] (\\n   [cham...</td>\n",
       "    </tr>\n",
       "    <tr>\n",
       "      <th>8</th>\n",
       "      <td>table</td>\n",
       "      <td>championship_standings</td>\n",
       "      <td>championship_standings</td>\n",
       "      <td>26</td>\n",
       "      <td>CREATE TABLE [championship_standings] (\\n   [c...</td>\n",
       "    </tr>\n",
       "    <tr>\n",
       "      <th>9</th>\n",
       "      <td>table</td>\n",
       "      <td>round_results</td>\n",
       "      <td>round_results</td>\n",
       "      <td>28</td>\n",
       "      <td>CREATE TABLE [round_results] (\\n   [championsh...</td>\n",
       "    </tr>\n",
       "  </tbody>\n",
       "</table>\n",
       "</div>"
      ],
      "text/plain": [
       "    type                    name                tbl_name  rootpage  \\\n",
       "0  table       season_categories       season_categories         2   \n",
       "1  table      championship_codes      championship_codes         3   \n",
       "2  table                   event                   event         4   \n",
       "3  table                    days                    days         5   \n",
       "4  table                channels                channels         6   \n",
       "5  table            championship            championship        19   \n",
       "6  table      championshipRounds      championshipRounds        20   \n",
       "7  table     championshipEntries     championshipEntries        24   \n",
       "8  table  championship_standings  championship_standings        26   \n",
       "9  table           round_results           round_results        28   \n",
       "\n",
       "                                                 sql  \n",
       "0  CREATE TABLE [season_categories] (\\n   [id] IN...  \n",
       "1  CREATE TABLE [championship_codes] (\\n   [id] I...  \n",
       "2  CREATE TABLE [event] (\\n   [id] INTEGER PRIMAR...  \n",
       "3  CREATE TABLE [days] (\\n   [id] INTEGER PRIMARY...  \n",
       "4  CREATE TABLE [channels] (\\n   [id] INTEGER PRI...  \n",
       "5  CREATE TABLE [championship] (\\n   [championshi...  \n",
       "6  CREATE TABLE [championshipRounds] (\\n   [event...  \n",
       "7  CREATE TABLE [championshipEntries] (\\n   [cham...  \n",
       "8  CREATE TABLE [championship_standings] (\\n   [c...  \n",
       "9  CREATE TABLE [round_results] (\\n   [championsh...  "
      ]
     },
     "execution_count": 811,
     "metadata": {},
     "output_type": "execute_result"
    }
   ],
   "source": [
    "zz = WRCChampionshipStandings(dbname=TESTDB)\n",
    "zz.fetchChampionshipStandings('JWRC')\n",
    "zz.fetchChampionshipStandings('WRC')\n",
    "zz.championship_standings\n",
    "zz.dbtables()"
   ]
  },
  {
   "cell_type": "code",
   "execution_count": null,
   "metadata": {},
   "outputs": [],
   "source": []
  },
  {
   "cell_type": "code",
   "execution_count": 829,
   "metadata": {},
   "outputs": [],
   "source": [
    "# TO DO - need a more general season events class?\n",
    "# If, that is, we can we look up arbitrary season events...\n",
    "class WRCActiveSeasonEvents(SQLiteDB):\n",
    "    \"\"\"Class for Season events.\"\"\"\n",
    "    def __init__(self, autoseed=False, dbname=None):\n",
    "        SQLiteDB.__init__(self, dbname=dbname)\n",
    "        \n",
    "        if autoseed:\n",
    "            self.fetchActiveSeasonEvents()\n",
    "            \n",
    "    def fetchActiveSeasonEvents(self):\n",
    "        self.current_season_events, self.eventdays, self.eventchannel = getActiveSeasonEvents()\n",
    "        self.dbfy([('current_season_events','id'), ('eventdays','id'),\n",
    "                  ('eventchannel','id')])"
   ]
  },
  {
   "cell_type": "code",
   "execution_count": 851,
   "metadata": {
    "tags": [
     "active-ipynb"
    ]
   },
   "outputs": [
    {
     "name": "stderr",
     "output_type": "stream",
     "text": [
      "DEBUG:urllib3.connectionpool:Starting new HTTPS connection (1): www.wrc.com:443\n"
     ]
    },
    {
     "name": "stdout",
     "output_type": "stream",
     "text": [
      "\n"
     ]
    },
    {
     "name": "stderr",
     "output_type": "stream",
     "text": [
      "DEBUG:urllib3.connectionpool:https://www.wrc.com:443 \"POST /ajax.php?contelPageId=181782 HTTP/1.1\" 200 6809\n",
      "DEBUG:urllib3.connectionpool:https://www.wrc.com:443 \"POST /ajax.php?contelPageId=181782 HTTP/1.1\" 200 6809\n"
     ]
    },
    {
     "name": "stdout",
     "output_type": "stream",
     "text": [
      "upserting\n",
      "upserting\n"
     ]
    },
    {
     "data": {
      "text/html": [
       "<div>\n",
       "<style scoped>\n",
       "    .dataframe tbody tr th:only-of-type {\n",
       "        vertical-align: middle;\n",
       "    }\n",
       "\n",
       "    .dataframe tbody tr th {\n",
       "        vertical-align: top;\n",
       "    }\n",
       "\n",
       "    .dataframe thead th {\n",
       "        text-align: right;\n",
       "    }\n",
       "</style>\n",
       "<table border=\"1\" class=\"dataframe\">\n",
       "  <thead>\n",
       "    <tr style=\"text-align: right;\">\n",
       "      <th></th>\n",
       "      <th>type</th>\n",
       "      <th>name</th>\n",
       "      <th>tbl_name</th>\n",
       "      <th>rootpage</th>\n",
       "      <th>sql</th>\n",
       "    </tr>\n",
       "  </thead>\n",
       "  <tbody>\n",
       "    <tr>\n",
       "      <th>0</th>\n",
       "      <td>table</td>\n",
       "      <td>season_categories</td>\n",
       "      <td>season_categories</td>\n",
       "      <td>2</td>\n",
       "      <td>CREATE TABLE [season_categories] (\\n   [id] IN...</td>\n",
       "    </tr>\n",
       "    <tr>\n",
       "      <th>1</th>\n",
       "      <td>table</td>\n",
       "      <td>championship_codes</td>\n",
       "      <td>championship_codes</td>\n",
       "      <td>3</td>\n",
       "      <td>CREATE TABLE [championship_codes] (\\n   [id] I...</td>\n",
       "    </tr>\n",
       "    <tr>\n",
       "      <th>2</th>\n",
       "      <td>table</td>\n",
       "      <td>event</td>\n",
       "      <td>event</td>\n",
       "      <td>4</td>\n",
       "      <td>CREATE TABLE [event] (\\n   [id] INTEGER PRIMAR...</td>\n",
       "    </tr>\n",
       "    <tr>\n",
       "      <th>3</th>\n",
       "      <td>table</td>\n",
       "      <td>days</td>\n",
       "      <td>days</td>\n",
       "      <td>5</td>\n",
       "      <td>CREATE TABLE [days] (\\n   [id] INTEGER PRIMARY...</td>\n",
       "    </tr>\n",
       "    <tr>\n",
       "      <th>4</th>\n",
       "      <td>table</td>\n",
       "      <td>channels</td>\n",
       "      <td>channels</td>\n",
       "      <td>6</td>\n",
       "      <td>CREATE TABLE [channels] (\\n   [id] INTEGER PRI...</td>\n",
       "    </tr>\n",
       "    <tr>\n",
       "      <th>5</th>\n",
       "      <td>table</td>\n",
       "      <td>championship</td>\n",
       "      <td>championship</td>\n",
       "      <td>19</td>\n",
       "      <td>CREATE TABLE [championship] (\\n   [championshi...</td>\n",
       "    </tr>\n",
       "    <tr>\n",
       "      <th>6</th>\n",
       "      <td>table</td>\n",
       "      <td>championshipRounds</td>\n",
       "      <td>championshipRounds</td>\n",
       "      <td>20</td>\n",
       "      <td>CREATE TABLE [championshipRounds] (\\n   [event...</td>\n",
       "    </tr>\n",
       "    <tr>\n",
       "      <th>7</th>\n",
       "      <td>table</td>\n",
       "      <td>championshipEntries</td>\n",
       "      <td>championshipEntries</td>\n",
       "      <td>24</td>\n",
       "      <td>CREATE TABLE [championshipEntries] (\\n   [cham...</td>\n",
       "    </tr>\n",
       "    <tr>\n",
       "      <th>8</th>\n",
       "      <td>table</td>\n",
       "      <td>championship_standings</td>\n",
       "      <td>championship_standings</td>\n",
       "      <td>26</td>\n",
       "      <td>CREATE TABLE [championship_standings] (\\n   [c...</td>\n",
       "    </tr>\n",
       "    <tr>\n",
       "      <th>9</th>\n",
       "      <td>table</td>\n",
       "      <td>round_results</td>\n",
       "      <td>round_results</td>\n",
       "      <td>28</td>\n",
       "      <td>CREATE TABLE [round_results] (\\n   [championsh...</td>\n",
       "    </tr>\n",
       "    <tr>\n",
       "      <th>10</th>\n",
       "      <td>table</td>\n",
       "      <td>current_season_events</td>\n",
       "      <td>current_season_events</td>\n",
       "      <td>30</td>\n",
       "      <td>CREATE TABLE [current_season_events] (\\n   [id...</td>\n",
       "    </tr>\n",
       "    <tr>\n",
       "      <th>11</th>\n",
       "      <td>table</td>\n",
       "      <td>eventdays</td>\n",
       "      <td>eventdays</td>\n",
       "      <td>34</td>\n",
       "      <td>CREATE TABLE [eventdays] (\\n   [id] INTEGER PR...</td>\n",
       "    </tr>\n",
       "    <tr>\n",
       "      <th>12</th>\n",
       "      <td>table</td>\n",
       "      <td>eventchannel</td>\n",
       "      <td>eventchannel</td>\n",
       "      <td>35</td>\n",
       "      <td>CREATE TABLE [eventchannel] (\\n   [id] INTEGER...</td>\n",
       "    </tr>\n",
       "  </tbody>\n",
       "</table>\n",
       "</div>"
      ],
      "text/plain": [
       "     type                    name                tbl_name  rootpage  \\\n",
       "0   table       season_categories       season_categories         2   \n",
       "1   table      championship_codes      championship_codes         3   \n",
       "2   table                   event                   event         4   \n",
       "3   table                    days                    days         5   \n",
       "4   table                channels                channels         6   \n",
       "5   table            championship            championship        19   \n",
       "6   table      championshipRounds      championshipRounds        20   \n",
       "7   table     championshipEntries     championshipEntries        24   \n",
       "8   table  championship_standings  championship_standings        26   \n",
       "9   table           round_results           round_results        28   \n",
       "10  table   current_season_events   current_season_events        30   \n",
       "11  table               eventdays               eventdays        34   \n",
       "12  table            eventchannel            eventchannel        35   \n",
       "\n",
       "                                                  sql  \n",
       "0   CREATE TABLE [season_categories] (\\n   [id] IN...  \n",
       "1   CREATE TABLE [championship_codes] (\\n   [id] I...  \n",
       "2   CREATE TABLE [event] (\\n   [id] INTEGER PRIMAR...  \n",
       "3   CREATE TABLE [days] (\\n   [id] INTEGER PRIMARY...  \n",
       "4   CREATE TABLE [channels] (\\n   [id] INTEGER PRI...  \n",
       "5   CREATE TABLE [championship] (\\n   [championshi...  \n",
       "6   CREATE TABLE [championshipRounds] (\\n   [event...  \n",
       "7   CREATE TABLE [championshipEntries] (\\n   [cham...  \n",
       "8   CREATE TABLE [championship_standings] (\\n   [c...  \n",
       "9   CREATE TABLE [round_results] (\\n   [championsh...  \n",
       "10  CREATE TABLE [current_season_events] (\\n   [id...  \n",
       "11  CREATE TABLE [eventdays] (\\n   [id] INTEGER PR...  \n",
       "12  CREATE TABLE [eventchannel] (\\n   [id] INTEGER...  "
      ]
     },
     "execution_count": 851,
     "metadata": {},
     "output_type": "execute_result"
    }
   ],
   "source": [
    "zz=WRCActiveSeasonEvents(autoseed=True, dbname=TESTDB)\n",
    "zz.current_season_events.head()\n",
    "zz.fetchActiveSeasonEvents()\n",
    "zz.dbtables()"
   ]
  },
  {
   "cell_type": "code",
   "execution_count": 852,
   "metadata": {},
   "outputs": [
    {
     "name": "stdout",
     "output_type": "stream",
     "text": [
      "upserting\n"
     ]
    },
    {
     "data": {
      "text/html": [
       "<div>\n",
       "<style scoped>\n",
       "    .dataframe tbody tr th:only-of-type {\n",
       "        vertical-align: middle;\n",
       "    }\n",
       "\n",
       "    .dataframe tbody tr th {\n",
       "        vertical-align: top;\n",
       "    }\n",
       "\n",
       "    .dataframe thead th {\n",
       "        text-align: right;\n",
       "    }\n",
       "</style>\n",
       "<table border=\"1\" class=\"dataframe\">\n",
       "  <thead>\n",
       "    <tr style=\"text-align: right;\">\n",
       "      <th></th>\n",
       "      <th>type</th>\n",
       "      <th>name</th>\n",
       "      <th>tbl_name</th>\n",
       "      <th>rootpage</th>\n",
       "      <th>sql</th>\n",
       "    </tr>\n",
       "  </thead>\n",
       "  <tbody>\n",
       "    <tr>\n",
       "      <th>0</th>\n",
       "      <td>table</td>\n",
       "      <td>season_categories</td>\n",
       "      <td>season_categories</td>\n",
       "      <td>2</td>\n",
       "      <td>CREATE TABLE [season_categories] (\\n   [id] IN...</td>\n",
       "    </tr>\n",
       "    <tr>\n",
       "      <th>1</th>\n",
       "      <td>table</td>\n",
       "      <td>championship_codes</td>\n",
       "      <td>championship_codes</td>\n",
       "      <td>3</td>\n",
       "      <td>CREATE TABLE [championship_codes] (\\n   [id] I...</td>\n",
       "    </tr>\n",
       "    <tr>\n",
       "      <th>2</th>\n",
       "      <td>table</td>\n",
       "      <td>event</td>\n",
       "      <td>event</td>\n",
       "      <td>4</td>\n",
       "      <td>CREATE TABLE [event] (\\n   [id] INTEGER PRIMAR...</td>\n",
       "    </tr>\n",
       "    <tr>\n",
       "      <th>3</th>\n",
       "      <td>table</td>\n",
       "      <td>days</td>\n",
       "      <td>days</td>\n",
       "      <td>5</td>\n",
       "      <td>CREATE TABLE [days] (\\n   [id] INTEGER PRIMARY...</td>\n",
       "    </tr>\n",
       "    <tr>\n",
       "      <th>4</th>\n",
       "      <td>table</td>\n",
       "      <td>channels</td>\n",
       "      <td>channels</td>\n",
       "      <td>6</td>\n",
       "      <td>CREATE TABLE [channels] (\\n   [id] INTEGER PRI...</td>\n",
       "    </tr>\n",
       "    <tr>\n",
       "      <th>5</th>\n",
       "      <td>table</td>\n",
       "      <td>championship</td>\n",
       "      <td>championship</td>\n",
       "      <td>19</td>\n",
       "      <td>CREATE TABLE [championship] (\\n   [championshi...</td>\n",
       "    </tr>\n",
       "    <tr>\n",
       "      <th>6</th>\n",
       "      <td>table</td>\n",
       "      <td>championshipRounds</td>\n",
       "      <td>championshipRounds</td>\n",
       "      <td>20</td>\n",
       "      <td>CREATE TABLE [championshipRounds] (\\n   [event...</td>\n",
       "    </tr>\n",
       "    <tr>\n",
       "      <th>7</th>\n",
       "      <td>table</td>\n",
       "      <td>championshipEntries</td>\n",
       "      <td>championshipEntries</td>\n",
       "      <td>24</td>\n",
       "      <td>CREATE TABLE [championshipEntries] (\\n   [cham...</td>\n",
       "    </tr>\n",
       "    <tr>\n",
       "      <th>8</th>\n",
       "      <td>table</td>\n",
       "      <td>championship_standings</td>\n",
       "      <td>championship_standings</td>\n",
       "      <td>26</td>\n",
       "      <td>CREATE TABLE [championship_standings] (\\n   [c...</td>\n",
       "    </tr>\n",
       "    <tr>\n",
       "      <th>9</th>\n",
       "      <td>table</td>\n",
       "      <td>round_results</td>\n",
       "      <td>round_results</td>\n",
       "      <td>28</td>\n",
       "      <td>CREATE TABLE [round_results] (\\n   [championsh...</td>\n",
       "    </tr>\n",
       "    <tr>\n",
       "      <th>10</th>\n",
       "      <td>table</td>\n",
       "      <td>current_season_events</td>\n",
       "      <td>current_season_events</td>\n",
       "      <td>30</td>\n",
       "      <td>CREATE TABLE [current_season_events] (\\n   [id...</td>\n",
       "    </tr>\n",
       "    <tr>\n",
       "      <th>11</th>\n",
       "      <td>table</td>\n",
       "      <td>eventdays</td>\n",
       "      <td>eventdays</td>\n",
       "      <td>34</td>\n",
       "      <td>CREATE TABLE [eventdays] (\\n   [id] INTEGER PR...</td>\n",
       "    </tr>\n",
       "    <tr>\n",
       "      <th>12</th>\n",
       "      <td>table</td>\n",
       "      <td>eventchannel</td>\n",
       "      <td>eventchannel</td>\n",
       "      <td>35</td>\n",
       "      <td>CREATE TABLE [eventchannel] (\\n   [id] INTEGER...</td>\n",
       "    </tr>\n",
       "  </tbody>\n",
       "</table>\n",
       "</div>"
      ],
      "text/plain": [
       "     type                    name                tbl_name  rootpage  \\\n",
       "0   table       season_categories       season_categories         2   \n",
       "1   table      championship_codes      championship_codes         3   \n",
       "2   table                   event                   event         4   \n",
       "3   table                    days                    days         5   \n",
       "4   table                channels                channels         6   \n",
       "5   table            championship            championship        19   \n",
       "6   table      championshipRounds      championshipRounds        20   \n",
       "7   table     championshipEntries     championshipEntries        24   \n",
       "8   table  championship_standings  championship_standings        26   \n",
       "9   table           round_results           round_results        28   \n",
       "10  table   current_season_events   current_season_events        30   \n",
       "11  table               eventdays               eventdays        34   \n",
       "12  table            eventchannel            eventchannel        35   \n",
       "\n",
       "                                                  sql  \n",
       "0   CREATE TABLE [season_categories] (\\n   [id] IN...  \n",
       "1   CREATE TABLE [championship_codes] (\\n   [id] I...  \n",
       "2   CREATE TABLE [event] (\\n   [id] INTEGER PRIMAR...  \n",
       "3   CREATE TABLE [days] (\\n   [id] INTEGER PRIMARY...  \n",
       "4   CREATE TABLE [channels] (\\n   [id] INTEGER PRI...  \n",
       "5   CREATE TABLE [championship] (\\n   [championshi...  \n",
       "6   CREATE TABLE [championshipRounds] (\\n   [event...  \n",
       "7   CREATE TABLE [championshipEntries] (\\n   [cham...  \n",
       "8   CREATE TABLE [championship_standings] (\\n   [c...  \n",
       "9   CREATE TABLE [round_results] (\\n   [championsh...  \n",
       "10  CREATE TABLE [current_season_events] (\\n   [id...  \n",
       "11  CREATE TABLE [eventdays] (\\n   [id] INTEGER PR...  \n",
       "12  CREATE TABLE [eventchannel] (\\n   [id] INTEGER...  "
      ]
     },
     "execution_count": 852,
     "metadata": {},
     "output_type": "execute_result"
    }
   ],
   "source": [
    "zz.dbfy([('current_season_events','id')])\n",
    "zz.dbtables()"
   ]
  },
  {
   "cell_type": "code",
   "execution_count": 873,
   "metadata": {},
   "outputs": [],
   "source": [
    "class WRCRally_sdb(WRCBase):\n",
    "    \"\"\"Base class for things with an sdbRallyId.\n",
    "       Can also help find an active sdbRallyId\"\"\"\n",
    "    def __init__(self, sdbRallyId=None,\n",
    "                 autoseed=False, nowarn=True, dbname=None):\n",
    "        WRCBase.__init__(self, nowarn=nowarn, dbname=dbname)\n",
    "        \n",
    "        self.warner(not sdbRallyId, \"sdbRallyId should really be set...\")\n",
    "        \n",
    "        self.sdbRallyId = _jsInt(sdbRallyId)\n",
    "        \n",
    "        if autoseed:\n",
    "            self._checkRallyId(sdbRallyId)\n",
    "    \n",
    "    def _checkRallyId(self, sdbRallyId=None):\n",
    "        \"\"\"Return a rally ID or lookup active one.\"\"\"\n",
    "        \n",
    "        sdbRallyId = _jsInt(sdbRallyId) or self.sdbRallyId\n",
    "        if not hasattr(self, 'sdbRallyId') or not self.sdbRallyId:\n",
    "            self.activerally = WRCActiveRally()\n",
    "            self.sdbRallyId = self.activerally.sdbRallyId\n",
    "            self.name = self.activerally.name\n",
    "\n",
    "        return self.sdbRallyId"
   ]
  },
  {
   "cell_type": "code",
   "execution_count": null,
   "metadata": {
    "tags": [
     "active-ipynb"
    ]
   },
   "outputs": [],
   "source": [
    "WRCRally_sdb(nowarn=False).nowarn"
   ]
  },
  {
   "cell_type": "code",
   "execution_count": 886,
   "metadata": {},
   "outputs": [],
   "source": [
    "class WRCLive(WRCBase):\n",
    "    \"\"\"Base class for live rallies.\"\"\"\n",
    "    def __init__(self, live=False, dbname=None):\n",
    "        WRCBase.__init__(self, dbname=dbname)\n",
    "        \n",
    "        self.live = live"
   ]
  },
  {
   "cell_type": "code",
   "execution_count": 876,
   "metadata": {},
   "outputs": [],
   "source": [
    "class WRCActiveRally(WRCRally_sdb, WRCLive):\n",
    "    \"\"\"Class for the active rally.\"\"\"\n",
    "    def __init__(self, live=False, dbname=False ):\n",
    "        WRCRally_sdb.__init__(self, nowarn=True, dbname=dbname)\n",
    "        WRCLive.__init__(self, live=live)\n",
    "\n",
    "        self.fetchData()\n",
    "        \n",
    "    def fetchData(self):\n",
    "        event, days, channels = getActiveRally()\n",
    "        self.event, self.days, self.channels = event, days, channels\n",
    "\n",
    "        self.dbfy([('event','id'), ('days','id'), ('channels','id')])\n",
    "        \n",
    "        #np.int64 is not JSON serialisable\n",
    "        self.sdbRallyId = int(event.loc[0,'id'])\n",
    "\n",
    "        self.name = event.loc[0,'name']"
   ]
  },
  {
   "cell_type": "code",
   "execution_count": 878,
   "metadata": {
    "tags": [
     "active-ipynb"
    ]
   },
   "outputs": [
    {
     "name": "stderr",
     "output_type": "stream",
     "text": [
      "DEBUG:urllib3.connectionpool:https://www.wrc.com:443 \"POST /ajax.php?contelPageId=171091 HTTP/1.1\" 200 4581\n"
     ]
    },
    {
     "name": "stdout",
     "output_type": "stream",
     "text": [
      "\n",
      "upserting\n"
     ]
    },
    {
     "data": {
      "text/plain": [
       "100"
      ]
     },
     "execution_count": 878,
     "metadata": {},
     "output_type": "execute_result"
    }
   ],
   "source": [
    "WRCActiveRally(dbname=TESTDB).sdbRallyId"
   ]
  },
  {
   "cell_type": "code",
   "execution_count": 713,
   "metadata": {
    "tags": [
     "active-ipynb"
    ]
   },
   "outputs": [
    {
     "name": "stderr",
     "output_type": "stream",
     "text": [
      "DEBUG:urllib3.connectionpool:https://www.wrc.com:443 \"POST /ajax.php?contelPageId=171091 HTTP/1.1\" 200 4581\n"
     ]
    },
    {
     "name": "stdout",
     "output_type": "stream",
     "text": [
      "100\n"
     ]
    }
   ],
   "source": [
    "zz = WRCRally_sdb(autoseed=True)\n",
    "print(zz.sdbRallyId)"
   ]
  },
  {
   "cell_type": "markdown",
   "metadata": {},
   "source": [
    "We use the `.fetchData()` method so as to ry not to be greedy. This way, we can define a class and start to work towards only grabbling the data if we need it."
   ]
  },
  {
   "cell_type": "code",
   "execution_count": 871,
   "metadata": {},
   "outputs": [],
   "source": [
    "class WRCRetirements(WRCRally_sdb):\n",
    "    \"\"\"Callable class for retirements\"\"\"\n",
    "    def __init__(self, sdbRallyId=None, live=False, autoseed=False, dbname=None):\n",
    "        \"\"\"Initialise retirements class.\"\"\"\n",
    "        WRCRally_sdb.__init__(self, sdbRallyId=sdbRallyId, autoseed=autoseed, dbname=dbname)\n",
    "            \n",
    "        self.retirements=None\n",
    "        \n",
    "        if self.sdbRallyId:\n",
    "            self.fetchRetirements(self.sdbRallyId)\n",
    "        \n",
    "    def fetchRetirements(self, sdbRallyId=None):\n",
    "        \"\"\"Fetch the data from WRC API.\"\"\"\n",
    "        self._checkRallyId(sdbRallyId)\n",
    "        self.retirements = getRetirements(self.sdbRallyId)\n",
    "        \n",
    "        #Upsert the data if there's a db connection\n",
    "        self.dbfy([('retirements','retirementId')])\n",
    "    \n",
    "    def __call__(self):\n",
    "        return self.retirements"
   ]
  },
  {
   "cell_type": "code",
   "execution_count": 879,
   "metadata": {
    "tags": [
     "active-ipynb"
    ]
   },
   "outputs": [
    {
     "name": "stderr",
     "output_type": "stream",
     "text": [
      "DEBUG:urllib3.connectionpool:https://www.wrc.com:443 \"POST /ajax.php?contelPageId=171091 HTTP/1.1\" 200 4581\n"
     ]
    },
    {
     "name": "stdout",
     "output_type": "stream",
     "text": [
      "\n"
     ]
    },
    {
     "name": "stderr",
     "output_type": "stream",
     "text": [
      "DEBUG:urllib3.connectionpool:https://www.wrc.com:443 \"POST /ajax.php?contelPageId=176146 HTTP/1.1\" 200 721\n"
     ]
    },
    {
     "name": "stdout",
     "output_type": "stream",
     "text": [
      "upserting\n"
     ]
    },
    {
     "data": {
      "text/html": [
       "<div>\n",
       "<style scoped>\n",
       "    .dataframe tbody tr th:only-of-type {\n",
       "        vertical-align: middle;\n",
       "    }\n",
       "\n",
       "    .dataframe tbody tr th {\n",
       "        vertical-align: top;\n",
       "    }\n",
       "\n",
       "    .dataframe thead th {\n",
       "        text-align: right;\n",
       "    }\n",
       "</style>\n",
       "<table border=\"1\" class=\"dataframe\">\n",
       "  <thead>\n",
       "    <tr style=\"text-align: right;\">\n",
       "      <th></th>\n",
       "      <th>retirementId</th>\n",
       "      <th>controlId</th>\n",
       "      <th>entryId</th>\n",
       "      <th>reason</th>\n",
       "      <th>retirementDateTime</th>\n",
       "      <th>retirementDateTimeLocal</th>\n",
       "      <th>status</th>\n",
       "    </tr>\n",
       "  </thead>\n",
       "  <tbody>\n",
       "    <tr>\n",
       "      <th>0</th>\n",
       "      <td>1475</td>\n",
       "      <td>6591</td>\n",
       "      <td>20710</td>\n",
       "      <td>OFF ROAD</td>\n",
       "      <td>2020-01-23T20:40:00Z</td>\n",
       "      <td>0001-01-01T00:00:00+00:00</td>\n",
       "      <td>Temporary</td>\n",
       "    </tr>\n",
       "    <tr>\n",
       "      <th>1</th>\n",
       "      <td>1476</td>\n",
       "      <td>6588</td>\n",
       "      <td>20687</td>\n",
       "      <td>MECHANICAL</td>\n",
       "      <td>2020-01-23T21:57:00Z</td>\n",
       "      <td>0001-01-01T00:00:00+00:00</td>\n",
       "      <td>Temporary</td>\n",
       "    </tr>\n",
       "    <tr>\n",
       "      <th>2</th>\n",
       "      <td>1477</td>\n",
       "      <td>6591</td>\n",
       "      <td>20750</td>\n",
       "      <td>OFF ROAD</td>\n",
       "      <td>2020-01-23T22:51:00Z</td>\n",
       "      <td>0001-01-01T00:00:00+00:00</td>\n",
       "      <td>Permanent</td>\n",
       "    </tr>\n",
       "  </tbody>\n",
       "</table>\n",
       "</div>"
      ],
      "text/plain": [
       "   retirementId  controlId  entryId      reason    retirementDateTime  \\\n",
       "0          1475       6591    20710    OFF ROAD  2020-01-23T20:40:00Z   \n",
       "1          1476       6588    20687  MECHANICAL  2020-01-23T21:57:00Z   \n",
       "2          1477       6591    20750    OFF ROAD  2020-01-23T22:51:00Z   \n",
       "\n",
       "     retirementDateTimeLocal     status  \n",
       "0  0001-01-01T00:00:00+00:00  Temporary  \n",
       "1  0001-01-01T00:00:00+00:00  Temporary  \n",
       "2  0001-01-01T00:00:00+00:00  Permanent  "
      ]
     },
     "execution_count": 879,
     "metadata": {},
     "output_type": "execute_result"
    }
   ],
   "source": [
    "zz=WRCRetirements(autoseed=True, dbname=TESTDB)\n",
    "zz.retirements.head(3)"
   ]
  },
  {
   "cell_type": "code",
   "execution_count": 880,
   "metadata": {},
   "outputs": [],
   "source": [
    "class WRCPenalties(WRCRally_sdb):\n",
    "    \"\"\"Callable class for penalties.\"\"\"\n",
    "    def __init__(self, sdbRallyId=None, live=False, autoseed=False, dbname=None):\n",
    "        \"\"\"Initialise penalties class.\"\"\"\n",
    "        WRCRally_sdb.__init__(self, sdbRallyId=sdbRallyId, autoseed=autoseed, dbname=dbname)\n",
    "            \n",
    "        self.penalties=None\n",
    "        \n",
    "        if self.sdbRallyId:\n",
    "            self.fetchPenalties(self.sdbRallyId)\n",
    "\n",
    "    \n",
    "    def fetchPenalties(self, sdbRallyId=None):\n",
    "        \"\"\"Fetch the data from WRC API.\"\"\"\n",
    "        self._checkRallyId(sdbRallyId)\n",
    "        self.penalties = getPenalties(self.sdbRallyId)\n",
    "        \n",
    "        #Upsert the data if there's a db connection\n",
    "        self.dbfy([('penalties','penaltyId')])\n",
    "    \n",
    "    def __call__(self):\n",
    "        return self.penalties"
   ]
  },
  {
   "cell_type": "code",
   "execution_count": 881,
   "metadata": {
    "tags": [
     "active-ipynb"
    ]
   },
   "outputs": [
    {
     "name": "stderr",
     "output_type": "stream",
     "text": [
      "DEBUG:urllib3.connectionpool:https://www.wrc.com:443 \"POST /ajax.php?contelPageId=171091 HTTP/1.1\" 200 4581\n",
      "DEBUG:urllib3.connectionpool:https://www.wrc.com:443 \"POST /ajax.php?contelPageId=176146 HTTP/1.1\" 200 388\n"
     ]
    },
    {
     "data": {
      "text/html": [
       "<div>\n",
       "<style scoped>\n",
       "    .dataframe tbody tr th:only-of-type {\n",
       "        vertical-align: middle;\n",
       "    }\n",
       "\n",
       "    .dataframe tbody tr th {\n",
       "        vertical-align: top;\n",
       "    }\n",
       "\n",
       "    .dataframe thead th {\n",
       "        text-align: right;\n",
       "    }\n",
       "</style>\n",
       "<table border=\"1\" class=\"dataframe\">\n",
       "  <thead>\n",
       "    <tr style=\"text-align: right;\">\n",
       "      <th></th>\n",
       "      <th>penaltyId</th>\n",
       "      <th>controlId</th>\n",
       "      <th>entryId</th>\n",
       "      <th>penaltyDurationMs</th>\n",
       "      <th>penaltyDuration</th>\n",
       "      <th>reason</th>\n",
       "    </tr>\n",
       "  </thead>\n",
       "  <tbody>\n",
       "    <tr>\n",
       "      <th>0</th>\n",
       "      <td>725</td>\n",
       "      <td>6592</td>\n",
       "      <td>20730</td>\n",
       "      <td>10000</td>\n",
       "      <td>PT10S</td>\n",
       "      <td>FALSE START</td>\n",
       "    </tr>\n",
       "    <tr>\n",
       "      <th>1</th>\n",
       "      <td>726</td>\n",
       "      <td>6592</td>\n",
       "      <td>20753</td>\n",
       "      <td>10000</td>\n",
       "      <td>PT10S</td>\n",
       "      <td>FALSE START</td>\n",
       "    </tr>\n",
       "    <tr>\n",
       "      <th>2</th>\n",
       "      <td>727</td>\n",
       "      <td>6590</td>\n",
       "      <td>20760</td>\n",
       "      <td>10000</td>\n",
       "      <td>PT10S</td>\n",
       "      <td>1 MIN LATE</td>\n",
       "    </tr>\n",
       "  </tbody>\n",
       "</table>\n",
       "</div>"
      ],
      "text/plain": [
       "   penaltyId  controlId  entryId  penaltyDurationMs penaltyDuration  \\\n",
       "0        725       6592    20730              10000           PT10S   \n",
       "1        726       6592    20753              10000           PT10S   \n",
       "2        727       6590    20760              10000           PT10S   \n",
       "\n",
       "        reason  \n",
       "0  FALSE START  \n",
       "1  FALSE START  \n",
       "2   1 MIN LATE  "
      ]
     },
     "execution_count": 881,
     "metadata": {},
     "output_type": "execute_result"
    }
   ],
   "source": [
    "zz=WRCPenalties(autoseed=True)\n",
    "zz.penalties.head(3)"
   ]
  },
  {
   "cell_type": "code",
   "execution_count": 882,
   "metadata": {},
   "outputs": [],
   "source": [
    "class WRCStagewinners(WRCRally_sdb):\n",
    "    \"\"\"Callable class for penalties.\"\"\"\n",
    "    def __init__(self, sdbRallyId=None, live=False, autoseed=False, dbname=None):\n",
    "        \"\"\"Initialise penalties class.\"\"\"\n",
    "        WRCRally_sdb.__init__(self, sdbRallyId=sdbRallyId, autoseed=autoseed, dbname=dbname)\n",
    "            \n",
    "        self.stagewinners=None\n",
    "        \n",
    "        if self.sdbRallyId:\n",
    "            self.fetchStagewinners(self.sdbRallyId)\n",
    "\n",
    "    \n",
    "    def fetchStagewinners(self, sdbRallyId=None):\n",
    "        \"\"\"Fetch the data from WRC API.\"\"\"\n",
    "        self._checkRallyId(sdbRallyId)\n",
    "        self.stagewinners = getStagewinners(self.sdbRallyId)\n",
    "        \n",
    "        self.dbfy(('stagewinners',['stageId', 'entryId']))\n",
    "    \n",
    "    \n",
    "    def __call__(self):\n",
    "        return self.stagewinners"
   ]
  },
  {
   "cell_type": "code",
   "execution_count": 885,
   "metadata": {
    "tags": [
     "active-ipynb"
    ]
   },
   "outputs": [
    {
     "name": "stderr",
     "output_type": "stream",
     "text": [
      "DEBUG:urllib3.connectionpool:https://www.wrc.com:443 \"POST /ajax.php?contelPageId=171091 HTTP/1.1\" 200 4581\n"
     ]
    },
    {
     "name": "stdout",
     "output_type": "stream",
     "text": [
      "\n"
     ]
    },
    {
     "name": "stderr",
     "output_type": "stream",
     "text": [
      "DEBUG:urllib3.connectionpool:https://www.wrc.com:443 \"POST /ajax.php?contelPageId=176146 HTTP/1.1\" 200 570\n"
     ]
    },
    {
     "name": "stdout",
     "output_type": "stream",
     "text": [
      "upserting\n"
     ]
    },
    {
     "data": {
      "text/html": [
       "<div>\n",
       "<style scoped>\n",
       "    .dataframe tbody tr th:only-of-type {\n",
       "        vertical-align: middle;\n",
       "    }\n",
       "\n",
       "    .dataframe tbody tr th {\n",
       "        vertical-align: top;\n",
       "    }\n",
       "\n",
       "    .dataframe thead th {\n",
       "        text-align: right;\n",
       "    }\n",
       "</style>\n",
       "<table border=\"1\" class=\"dataframe\">\n",
       "  <thead>\n",
       "    <tr style=\"text-align: right;\">\n",
       "      <th></th>\n",
       "      <th>stageId</th>\n",
       "      <th>entryId</th>\n",
       "      <th>stageName</th>\n",
       "      <th>elapsedDurationMs</th>\n",
       "      <th>elapsedDuration</th>\n",
       "    </tr>\n",
       "  </thead>\n",
       "  <tbody>\n",
       "    <tr>\n",
       "      <th>0</th>\n",
       "      <td>1538</td>\n",
       "      <td>20684</td>\n",
       "      <td>Bayons - Bréziers</td>\n",
       "      <td>983700</td>\n",
       "      <td>00:16:23.7000000</td>\n",
       "    </tr>\n",
       "    <tr>\n",
       "      <th>1</th>\n",
       "      <td>1528</td>\n",
       "      <td>20685</td>\n",
       "      <td>Malijai - Puimichel (Live TV)</td>\n",
       "      <td>593400</td>\n",
       "      <td>00:09:53.4000000</td>\n",
       "    </tr>\n",
       "    <tr>\n",
       "      <th>2</th>\n",
       "      <td>1533</td>\n",
       "      <td>20686</td>\n",
       "      <td>Curbans - Venterol 1</td>\n",
       "      <td>802000</td>\n",
       "      <td>00:13:22</td>\n",
       "    </tr>\n",
       "    <tr>\n",
       "      <th>3</th>\n",
       "      <td>1534</td>\n",
       "      <td>20686</td>\n",
       "      <td>Saint-Clément - Freissinières 1</td>\n",
       "      <td>703300</td>\n",
       "      <td>00:11:43.3000000</td>\n",
       "    </tr>\n",
       "    <tr>\n",
       "      <th>4</th>\n",
       "      <td>1535</td>\n",
       "      <td>20686</td>\n",
       "      <td>Avançon - Notre-Dame-du-Laus 1</td>\n",
       "      <td>780700</td>\n",
       "      <td>00:13:00.7000000</td>\n",
       "    </tr>\n",
       "  </tbody>\n",
       "</table>\n",
       "</div>"
      ],
      "text/plain": [
       "   stageId  entryId                        stageName  elapsedDurationMs  \\\n",
       "0     1538    20684                Bayons - Bréziers             983700   \n",
       "1     1528    20685    Malijai - Puimichel (Live TV)             593400   \n",
       "2     1533    20686             Curbans - Venterol 1             802000   \n",
       "3     1534    20686  Saint-Clément - Freissinières 1             703300   \n",
       "4     1535    20686   Avançon - Notre-Dame-du-Laus 1             780700   \n",
       "\n",
       "    elapsedDuration  \n",
       "0  00:16:23.7000000  \n",
       "1  00:09:53.4000000  \n",
       "2          00:13:22  \n",
       "3  00:11:43.3000000  \n",
       "4  00:13:00.7000000  "
      ]
     },
     "execution_count": 885,
     "metadata": {},
     "output_type": "execute_result"
    }
   ],
   "source": [
    "zz=WRCStagewinners(dbname=TESTDB)\n",
    "zz.fetchStagewinners()\n",
    "zz.stagewinners.head()"
   ]
  },
  {
   "cell_type": "code",
   "execution_count": 521,
   "metadata": {},
   "outputs": [],
   "source": [
    "class WRCItinerary(WRCRally_sdb, WRCLive):\n",
    "    \"\"\"Class for WRC2020 Itinerary.\"\"\"\n",
    "    def __init__(self, sdbRallyId=None, live=False, autoseed=False, dbname=None):\n",
    "        \"\"\"Initialise itinerary class.\"\"\"\n",
    "        WRCRally_sdb.__init__(self, sdbRallyId=sdbRallyId, autoseed=autoseed, dbname=dbname)\n",
    "        WRCLive.__init__(self, live=live)\n",
    "        \n",
    "        self.itinerary=None\n",
    "        self.legs=None\n",
    "        self.sections=None\n",
    "        self.controls=None\n",
    "        self.stages=None\n",
    "        \n",
    "        if self.sdbRallyId:\n",
    "            self.fetchItinerary(sdbRallyId)\n",
    "    \n",
    "    def _checkItinerary(self):\n",
    "        \"\"\"Check itinerary.\n",
    "           If rally not known, use active rally.\n",
    "           Also set a default startListId.\"\"\"\n",
    "        \n",
    "        _itinerary_items = ['itinerary', 'legs', 'sections', 'controls', 'stages']\n",
    "        if not any([hasattr(self, i) for i in _itinerary_items]):\n",
    "            self.fetchItinerary()\n",
    "\n",
    "    \n",
    "    def fetchItinerary(self, sdbRallyId=None):\n",
    "        \"\"\"Fetch the data from WRC API.\"\"\"\n",
    "        self._checkRallyId(sdbRallyId)\n",
    "        self._checkItinerary()\n",
    "        self.itinerary, self.legs, self.sections, self.controls, self.stages = getItinerary(self.sdbRallyId)\n",
    "        \n",
    "        _ccols=['code']+(list(set(self.controls.columns) - set(self.stages.columns)))\n",
    "        self.richstages=self.stages.merge(self.controls[_ccols], on='code')\n",
    "        \n",
    "        self.dbfy([('itinerary',['itineraryId']),\n",
    "                   ('legs',['itineraryLegId']),\n",
    "                   ('sections',['itinerarySectionId']),\n",
    "                   ('controls',['controlId']),\n",
    "                   ('stages',['stageId']),\n",
    "                   ('richstages',['stageId'])])\n",
    "        \n",
    "    def getStageIdFromCode(self, code=None):\n",
    "        \"\"\"Return a stageID from a single codes.\"\"\"\n",
    "        \n",
    "        if code and isinstance(code, str) and _checkattr(self,'stages'):\n",
    "            _df = self.stages[self.stages['code']==code][['rallyid', 'stageId']]\n",
    "            return tuple(_df.iloc[0])\n",
    "        elif code and isinstance(code,list):\n",
    "            # TO DO - this might be dangerous if we are expencting a single tuple response\n",
    "            getStageIdsFromCode(code, response='tuples')\n",
    "    \n",
    "    def getStageIdsFromCode(self, code=None, response='dict'):\n",
    "        \"\"\"Return a stageID from one or more codes.\"\"\"\n",
    "        if code and _checkattr(self,'stages'):\n",
    "            _df = self.stages[self.stages['code'].isin(listify(code))][['code', 'rallyid', 'stageId']]\n",
    "            if response=='df':\n",
    "                return _df\n",
    "            elif response=='tuples':\n",
    "                return list(_df.itertuples(index=False, name=None))\n",
    "            return _df.set_index('code').to_dict(orient='index')\n",
    "        \n",
    "    def getStageIds(self, typ='all', response='dict'):\n",
    "        \"\"\"Return stageIDs by stage status.\"\"\"\n",
    "        if _checkattr(self,'stages'):\n",
    "            if typ=='all':\n",
    "                _df = self.stages[['code', 'rallyid', 'stageId']]\n",
    "            else:\n",
    "                if typ=='completed':\n",
    "                    _statuses = ['Completed', 'Interrupted']\n",
    "                elif typ=='onlycompleted':\n",
    "                    _statuses = ['Completed']\n",
    "                elif typ=='interrupted':\n",
    "                    _statuses = ['Interrupted']\n",
    "                _df = self.stages[self.stages['status'].isin(_statuses)][['code', 'rallyid', 'stageId']]\n",
    "     \n",
    "            if response=='df':\n",
    "                return _df\n",
    "            elif response=='tuples':\n",
    "                return list(_df.itertuples(index=False, name=None))\n",
    "            return _df.set_index('code').to_dict(orient='index')\n"
   ]
  },
  {
   "cell_type": "code",
   "execution_count": 522,
   "metadata": {
    "tags": [
     "active-ipynb"
    ]
   },
   "outputs": [
    {
     "name": "stderr",
     "output_type": "stream",
     "text": [
      "DEBUG:urllib3.connectionpool:https://www.wrc.com:443 \"POST /ajax.php?contelPageId=176146 HTTP/1.1\" 200 3318\n"
     ]
    },
    {
     "data": {
      "text/plain": [
       "100"
      ]
     },
     "execution_count": 522,
     "metadata": {},
     "output_type": "execute_result"
    }
   ],
   "source": [
    "sdbRallyId = 100\n",
    "zz=WRCItinerary(sdbRallyId, autoseed=True)\n",
    "zz.sdbRallyId"
   ]
  },
  {
   "cell_type": "code",
   "execution_count": 524,
   "metadata": {
    "tags": [
     "active-ipynb"
    ]
   },
   "outputs": [
    {
     "data": {
      "text/plain": [
       "{'SS1': {'rallyid': 100, 'stageId': 1528},\n",
       " 'SS14': {'rallyid': 100, 'stageId': 1527}}"
      ]
     },
     "execution_count": 524,
     "metadata": {},
     "output_type": "execute_result"
    }
   ],
   "source": [
    "zz.getStageIds('interrupted')"
   ]
  },
  {
   "cell_type": "code",
   "execution_count": 38,
   "metadata": {
    "tags": [
     "active-ipynb"
    ]
   },
   "outputs": [
    {
     "data": {
      "text/html": [
       "<div>\n",
       "<style scoped>\n",
       "    .dataframe tbody tr th:only-of-type {\n",
       "        vertical-align: middle;\n",
       "    }\n",
       "\n",
       "    .dataframe tbody tr th {\n",
       "        vertical-align: top;\n",
       "    }\n",
       "\n",
       "    .dataframe thead th {\n",
       "        text-align: right;\n",
       "    }\n",
       "</style>\n",
       "<table border=\"1\" class=\"dataframe\">\n",
       "  <thead>\n",
       "    <tr style=\"text-align: right;\">\n",
       "      <th></th>\n",
       "      <th>itineraryLegId</th>\n",
       "      <th>itineraryId</th>\n",
       "      <th>startListId</th>\n",
       "      <th>name</th>\n",
       "      <th>legDate</th>\n",
       "      <th>order</th>\n",
       "      <th>status</th>\n",
       "    </tr>\n",
       "  </thead>\n",
       "  <tbody>\n",
       "    <tr>\n",
       "      <th>0</th>\n",
       "      <td>273</td>\n",
       "      <td>240</td>\n",
       "      <td>451</td>\n",
       "      <td>Thursday 23rd January</td>\n",
       "      <td>2020-01-23</td>\n",
       "      <td>1</td>\n",
       "      <td>Completed</td>\n",
       "    </tr>\n",
       "    <tr>\n",
       "      <th>1</th>\n",
       "      <td>272</td>\n",
       "      <td>240</td>\n",
       "      <td>452</td>\n",
       "      <td>Friday 24th January</td>\n",
       "      <td>2020-01-24</td>\n",
       "      <td>2</td>\n",
       "      <td>Completed</td>\n",
       "    </tr>\n",
       "    <tr>\n",
       "      <th>2</th>\n",
       "      <td>275</td>\n",
       "      <td>240</td>\n",
       "      <td>454</td>\n",
       "      <td>Saturday 25th January</td>\n",
       "      <td>2020-01-25</td>\n",
       "      <td>3</td>\n",
       "      <td>Completed</td>\n",
       "    </tr>\n",
       "    <tr>\n",
       "      <th>3</th>\n",
       "      <td>274</td>\n",
       "      <td>240</td>\n",
       "      <td>456</td>\n",
       "      <td>Sunday 26th January</td>\n",
       "      <td>2020-01-25</td>\n",
       "      <td>4</td>\n",
       "      <td>Completed</td>\n",
       "    </tr>\n",
       "  </tbody>\n",
       "</table>\n",
       "</div>"
      ],
      "text/plain": [
       "   itineraryLegId  itineraryId  startListId                   name  \\\n",
       "0             273          240          451  Thursday 23rd January   \n",
       "1             272          240          452    Friday 24th January   \n",
       "2             275          240          454  Saturday 25th January   \n",
       "3             274          240          456    Sunday 26th January   \n",
       "\n",
       "      legDate  order     status  \n",
       "0  2020-01-23      1  Completed  \n",
       "1  2020-01-24      2  Completed  \n",
       "2  2020-01-25      3  Completed  \n",
       "3  2020-01-25      4  Completed  "
      ]
     },
     "execution_count": 38,
     "metadata": {},
     "output_type": "execute_result"
    }
   ],
   "source": [
    "WRCItinerary(sdbRallyId=100).legs"
   ]
  },
  {
   "cell_type": "code",
   "execution_count": 334,
   "metadata": {},
   "outputs": [],
   "source": [
    "class WRCStartlist(WRCLive):\n",
    "    \"\"\"Class for WRC2020 Startlist table.\"\"\"\n",
    "    def __init__(self, startListId=None, live=False, autoseed=True,\n",
    "                 nowarn=False, dbname=None):\n",
    "        WRCLive.__init__(self, live=live, dbname=dbname)\n",
    "        \n",
    "        self.startListId = _jsInt(startListId)\n",
    "        \n",
    "        self.startList = None\n",
    "        self.startListItems = None\n",
    "        \n",
    "        if not nowarn and not self.startListId:\n",
    "            warnings.warn(\"startListId should really be set..\")\n",
    "        \n",
    "        if self.startListId or autoseed:\n",
    "            self.fetchStartList(self.startListId)\n",
    "    \n",
    "    def _checkStartListId(self, startListId=None):\n",
    "        \"\"\"Return a startlistId or look one up.\"\"\"\n",
    "        self.startListId = startListId or self.startListId\n",
    "        if not self.startListId:\n",
    "            if not _checkattr(self, 'itinerary'):\n",
    "                self.itinerary = WRCItinerary(autoseed=True)\n",
    "                self.sdbRallyId = self.itinerary.sdbRallyId\n",
    "            self.startListId = int(self.itinerary.legs.loc[0,'startListId'])\n",
    "        return self.startListId\n",
    "        \n",
    "        \n",
    "    def fetchStartList(self, startListId=None):\n",
    "        self._checkStartListId(startListId)\n",
    "        startList,startListItems = getStartlist(self.startListId)\n",
    "        self.startList, self.startListItems = startList,startListItems\n",
    "        self.dbfy([('startList',['startListId']),\n",
    "                   ('startListItems',['startListItemId'])])"
   ]
  },
  {
   "cell_type": "code",
   "execution_count": 335,
   "metadata": {
    "tags": [
     "active-ipynb"
    ]
   },
   "outputs": [
    {
     "name": "stderr",
     "output_type": "stream",
     "text": [
      "/usr/local/lib/python3.7/site-packages/ipykernel_launcher.py:12: UserWarning: startListId should really be set..\n",
      "  if sys.path[0] == '':\n",
      "  File \"<ipython-input-335-2786fc75f2ce>\", line 1, in <module>\n",
      "    zz = WRCStartlist(autoseed=True)\n",
      "  File \"<ipython-input-334-d26a47893005>\", line 12, in __init__\n",
      "    warnings.warn(\"startListId should really be set..\")\n"
     ]
    },
    {
     "data": {
      "text/plain": [
       "(   startListId  eventId publishedStatus      name\n",
       " 0          451      124       Published  Thursday,\n",
       "     startListItemId  startListId  entryId         startDateTime  \\\n",
       " 0             20891          451    20745  2020-01-23T17:37:00Z   \n",
       " 1             20892          451    20743  2020-01-23T17:36:00Z   \n",
       " 2             20893          451    20722  2020-01-23T17:35:00Z   \n",
       " 3             20894          451    20741  2020-01-23T17:34:00Z   \n",
       " 4             20895          451    20740  2020-01-23T17:33:00Z   \n",
       " ..              ...          ...      ...                   ...   \n",
       " 83            20974          451    20702  2020-01-23T16:55:00Z   \n",
       " 84            20975          451    20703  2020-01-23T16:54:00Z   \n",
       " 85            20976          451    20707  2020-01-23T16:53:00Z   \n",
       " 86            20977          451    20728  2020-01-23T17:15:00Z   \n",
       " 87            20978          451    20683  2020-01-23T16:00:00Z   \n",
       " \n",
       "            startDateTimeLocal  order  \n",
       " 0   2020-01-23T18:37:00+01:00     64  \n",
       " 1   2020-01-23T18:36:00+01:00     63  \n",
       " 2   2020-01-23T18:35:00+01:00     62  \n",
       " 3   2020-01-23T18:34:00+01:00     61  \n",
       " 4   2020-01-23T18:33:00+01:00     60  \n",
       " ..                        ...    ...  \n",
       " 83  2020-01-23T17:55:00+01:00     26  \n",
       " 84  2020-01-23T17:54:00+01:00     25  \n",
       " 85  2020-01-23T17:53:00+01:00     24  \n",
       " 86  2020-01-23T18:15:00+01:00     44  \n",
       " 87  2020-01-23T17:00:00+01:00      1  \n",
       " \n",
       " [88 rows x 6 columns])"
      ]
     },
     "execution_count": 335,
     "metadata": {},
     "output_type": "execute_result"
    }
   ],
   "source": [
    "zz = WRCStartlist(autoseed=True)\n",
    "zz.fetchStartList()\n",
    "getStartlist(451)"
   ]
  },
  {
   "cell_type": "code",
   "execution_count": 336,
   "metadata": {},
   "outputs": [],
   "source": [
    "class WRCCars(WRCRally_sdb):\n",
    "    \"\"\"Class for WRC2020 Cars table.\"\"\"\n",
    "    def __init__(self, sdbRallyId=None, live=False, autoseed=False, dbname=None):  \n",
    "        WRCRally_sdb.__init__(self, sdbRallyId=sdbRallyId, autoseed=autoseed, dbname=dbname)\n",
    "        \n",
    "        self.cars=None\n",
    "        self.classes=None\n",
    "        \n",
    "        if self.sdbRallyId:\n",
    "            self.fetchCars(sdbRallyId)\n",
    "            \n",
    "    def fetchCars(self, sdbRallyId=None):\n",
    "        self._checkRallyId(sdbRallyId)\n",
    "        cars, classes = getCars(self.sdbRallyId)\n",
    "        self.cars, self.classes = cars, classes\n",
    "        self.dbfy([('cars',['entryId','eventId']),\n",
    "                   ('classes',['entryId'])])"
   ]
  },
  {
   "cell_type": "code",
   "execution_count": 337,
   "metadata": {
    "tags": [
     "active-ipynb"
    ]
   },
   "outputs": [
    {
     "data": {
      "text/plain": [
       "<__main__.WRCCars at 0x11d475910>"
      ]
     },
     "execution_count": 337,
     "metadata": {},
     "output_type": "execute_result"
    }
   ],
   "source": [
    "WRCCars(autoseed=True)"
   ]
  },
  {
   "cell_type": "code",
   "execution_count": 338,
   "metadata": {},
   "outputs": [],
   "source": [
    "class WRCRally(WRCRally_sdb):\n",
    "    \"\"\"Class for WRC2020 Rally table. This gives external ids.\"\"\"\n",
    "    def __init__(self, sdbRallyId=None, autoseed=False, dbname=False):  \n",
    "        WRCRally_sdb.__init__(self, sdbRallyId=sdbRallyId, autoseed=autoseed, dbname=dbname)\n",
    "        \n",
    "        self.rally=None\n",
    "        self.eligibilities=None\n",
    "        self.groups=None\n",
    "        \n",
    "        if self.sdbRallyId:\n",
    "            self.fetchRally(sdbRallyId)\n",
    "            \n",
    "    def fetchRally(self, sdbRallyId=None):\n",
    "        print('fetching')\n",
    "        self._checkRallyId(sdbRallyId)\n",
    "        (self.rally, self.eligibilities, self.groups) = getRally(self.sdbRallyId)\n",
    "        self.dbfy([('rally',['sdbRallyId']),\n",
    "                   ('eligibilities',['sdbRallyId', 'category']),\n",
    "                   ('groups',['sdbRallyId', 'groupId'])])\n",
    "        \n",
    "    # TO DO - define iterators?"
   ]
  },
  {
   "cell_type": "code",
   "execution_count": 339,
   "metadata": {},
   "outputs": [
    {
     "name": "stdout",
     "output_type": "stream",
     "text": [
      "fetching\n"
     ]
    },
    {
     "data": {
      "text/html": [
       "<div>\n",
       "<style scoped>\n",
       "    .dataframe tbody tr th:only-of-type {\n",
       "        vertical-align: middle;\n",
       "    }\n",
       "\n",
       "    .dataframe tbody tr th {\n",
       "        vertical-align: top;\n",
       "    }\n",
       "\n",
       "    .dataframe thead th {\n",
       "        text-align: right;\n",
       "    }\n",
       "</style>\n",
       "<table border=\"1\" class=\"dataframe\">\n",
       "  <thead>\n",
       "    <tr style=\"text-align: right;\">\n",
       "      <th></th>\n",
       "      <th>externalIdRally</th>\n",
       "      <th>externalIdEvent</th>\n",
       "      <th>itineraryId</th>\n",
       "      <th>name</th>\n",
       "      <th>isMain</th>\n",
       "      <th>eventClasses</th>\n",
       "      <th>sdbRallyId</th>\n",
       "    </tr>\n",
       "  </thead>\n",
       "  <tbody>\n",
       "    <tr>\n",
       "      <th>0</th>\n",
       "      <td>153</td>\n",
       "      <td>124</td>\n",
       "      <td>240</td>\n",
       "      <td>WRC</td>\n",
       "      <td>True</td>\n",
       "      <td>None</td>\n",
       "      <td>100</td>\n",
       "    </tr>\n",
       "  </tbody>\n",
       "</table>\n",
       "</div>"
      ],
      "text/plain": [
       "   externalIdRally  externalIdEvent  itineraryId name  isMain eventClasses  \\\n",
       "0              153              124          240  WRC    True         None   \n",
       "\n",
       "   sdbRallyId  \n",
       "0         100  "
      ]
     },
     "metadata": {},
     "output_type": "display_data"
    },
    {
     "data": {
      "text/html": [
       "<div>\n",
       "<style scoped>\n",
       "    .dataframe tbody tr th:only-of-type {\n",
       "        vertical-align: middle;\n",
       "    }\n",
       "\n",
       "    .dataframe tbody tr th {\n",
       "        vertical-align: top;\n",
       "    }\n",
       "\n",
       "    .dataframe thead th {\n",
       "        text-align: right;\n",
       "    }\n",
       "</style>\n",
       "<table border=\"1\" class=\"dataframe\">\n",
       "  <thead>\n",
       "    <tr style=\"text-align: right;\">\n",
       "      <th></th>\n",
       "      <th>category</th>\n",
       "      <th>externalIdRally</th>\n",
       "      <th>sdbRallyId</th>\n",
       "    </tr>\n",
       "  </thead>\n",
       "  <tbody>\n",
       "    <tr>\n",
       "      <th>0</th>\n",
       "      <td>M</td>\n",
       "      <td>153</td>\n",
       "      <td>100</td>\n",
       "    </tr>\n",
       "    <tr>\n",
       "      <th>1</th>\n",
       "      <td>None</td>\n",
       "      <td>153</td>\n",
       "      <td>100</td>\n",
       "    </tr>\n",
       "    <tr>\n",
       "      <th>2</th>\n",
       "      <td>WRC2</td>\n",
       "      <td>153</td>\n",
       "      <td>100</td>\n",
       "    </tr>\n",
       "    <tr>\n",
       "      <th>3</th>\n",
       "      <td>WRC3</td>\n",
       "      <td>153</td>\n",
       "      <td>100</td>\n",
       "    </tr>\n",
       "    <tr>\n",
       "      <th>4</th>\n",
       "      <td>RGT</td>\n",
       "      <td>153</td>\n",
       "      <td>100</td>\n",
       "    </tr>\n",
       "  </tbody>\n",
       "</table>\n",
       "</div>"
      ],
      "text/plain": [
       "  category externalIdRally  sdbRallyId\n",
       "0        M             153         100\n",
       "1     None             153         100\n",
       "2     WRC2             153         100\n",
       "3     WRC3             153         100\n",
       "4      RGT             153         100"
      ]
     },
     "execution_count": 339,
     "metadata": {},
     "output_type": "execute_result"
    }
   ],
   "source": [
    "zz=WRCRally(autoseed=True)\n",
    "display(zz.rally)\n",
    "zz.eligibilities"
   ]
  },
  {
   "cell_type": "code",
   "execution_count": 352,
   "metadata": {},
   "outputs": [],
   "source": [
    "\n",
    "# TO DO - have a check stages function to get some data...\n",
    "\n",
    "class WRCRally_stages(WRCItinerary):\n",
    "    \"\"\"Class referring to all rally stages.\"\"\"\n",
    "    def __init__(self, sdbRallyId=None, live=False,\n",
    "                 autoseed=False, nowarn=True, dbname=None):\n",
    "        WRCItinerary.__init__(self, sdbRallyId=None, live=False,\n",
    "                              autoseed=autoseed, dbname=dbname)\n",
    "        \n",
    "        self.sdbRallyId = _jsInt(sdbRallyId)\n",
    "        \n",
    "        if autoseed:\n",
    "            self._checkStages(self.sdbRallyId)\n",
    "\n",
    "    def _checkStages(self, sdbRallyId=None):\n",
    "        \"\"\"Return a stages list or lookup list for active rally.\"\"\"\n",
    "        #Have we got an sdbRallyId?\n",
    "        if not hasattr(self, 'sdbRallyId') or not self.sdbRallyId:\n",
    "            fetchStages(self, sdbRallyId=None)\n",
    "            \n",
    "            \n",
    "    def fetchStages(self, sdbRallyId=None):\n",
    "        \"\"\"Fetch stages for a specified rally.\"\"\"\n",
    "        self.activerally = WRCActiveRally()\n",
    "        self.sdbRallyId = self.activerally.sdbRallyId\n",
    "        self.name = self.activerally.name\n",
    "        \n",
    "        self._checkItinerary()\n",
    "        \n",
    "    def lastCompletedStage(self):\n",
    "        # need to check etc\n",
    "        return self.stages[self.stages['status']=='Completed'].iloc[-1]['stageId']\n",
    "    \n",
    "    def stagesIterator(sdbRallyId=None):\n",
    "        pass"
   ]
  },
  {
   "cell_type": "code",
   "execution_count": 354,
   "metadata": {},
   "outputs": [
    {
     "data": {
      "text/html": [
       "<div>\n",
       "<style scoped>\n",
       "    .dataframe tbody tr th:only-of-type {\n",
       "        vertical-align: middle;\n",
       "    }\n",
       "\n",
       "    .dataframe tbody tr th {\n",
       "        vertical-align: top;\n",
       "    }\n",
       "\n",
       "    .dataframe thead th {\n",
       "        text-align: right;\n",
       "    }\n",
       "</style>\n",
       "<table border=\"1\" class=\"dataframe\">\n",
       "  <thead>\n",
       "    <tr style=\"text-align: right;\">\n",
       "      <th></th>\n",
       "      <th>stageId</th>\n",
       "      <th>eventId</th>\n",
       "      <th>number</th>\n",
       "      <th>name</th>\n",
       "      <th>distance</th>\n",
       "      <th>status</th>\n",
       "      <th>stageType</th>\n",
       "      <th>timingPrecision</th>\n",
       "      <th>locked</th>\n",
       "      <th>code</th>\n",
       "      <th>rallyid</th>\n",
       "      <th>roundingPolicy</th>\n",
       "      <th>targetDuration</th>\n",
       "      <th>firstCarDueDateTimeLocal</th>\n",
       "      <th>firstCarDueDateTime</th>\n",
       "      <th>targetDurationMs</th>\n",
       "      <th>controlPenalties</th>\n",
       "      <th>controlId</th>\n",
       "      <th>location</th>\n",
       "      <th>type</th>\n",
       "    </tr>\n",
       "  </thead>\n",
       "  <tbody>\n",
       "    <tr>\n",
       "      <th>0</th>\n",
       "      <td>1528</td>\n",
       "      <td>124</td>\n",
       "      <td>1</td>\n",
       "      <td>Malijai - Puimichel (Live TV)</td>\n",
       "      <td>17.47</td>\n",
       "      <td>Interrupted</td>\n",
       "      <td>SpecialStage</td>\n",
       "      <td>Tenth</td>\n",
       "      <td>True</td>\n",
       "      <td>SS1</td>\n",
       "      <td>100</td>\n",
       "      <td>RoundToClosestMinute</td>\n",
       "      <td>00:03:00</td>\n",
       "      <td>2020-01-23T20:38:00+01:00</td>\n",
       "      <td>2020-01-23T19:38:00</td>\n",
       "      <td>180000.0</td>\n",
       "      <td>None</td>\n",
       "      <td>6592</td>\n",
       "      <td>Malijai - Puimichel (Live TV)</td>\n",
       "      <td>StageStart</td>\n",
       "    </tr>\n",
       "    <tr>\n",
       "      <th>1</th>\n",
       "      <td>1538</td>\n",
       "      <td>124</td>\n",
       "      <td>2</td>\n",
       "      <td>Bayons - Bréziers</td>\n",
       "      <td>25.49</td>\n",
       "      <td>Completed</td>\n",
       "      <td>SpecialStage</td>\n",
       "      <td>Tenth</td>\n",
       "      <td>True</td>\n",
       "      <td>SS2</td>\n",
       "      <td>100</td>\n",
       "      <td>RoundToClosestMinute</td>\n",
       "      <td>00:03:00</td>\n",
       "      <td>2020-01-23T22:26:00+01:00</td>\n",
       "      <td>2020-01-23T21:26:00</td>\n",
       "      <td>180000.0</td>\n",
       "      <td>None</td>\n",
       "      <td>6589</td>\n",
       "      <td>Bayons - Bréziers</td>\n",
       "      <td>StageStart</td>\n",
       "    </tr>\n",
       "    <tr>\n",
       "      <th>2</th>\n",
       "      <td>1533</td>\n",
       "      <td>124</td>\n",
       "      <td>3</td>\n",
       "      <td>Curbans - Venterol 1</td>\n",
       "      <td>20.02</td>\n",
       "      <td>Completed</td>\n",
       "      <td>SpecialStage</td>\n",
       "      <td>Tenth</td>\n",
       "      <td>True</td>\n",
       "      <td>SS3</td>\n",
       "      <td>100</td>\n",
       "      <td>RoundToClosestMinute</td>\n",
       "      <td>00:03:00</td>\n",
       "      <td>2020-01-24T08:36:00+01:00</td>\n",
       "      <td>2020-01-24T07:36:00</td>\n",
       "      <td>180000.0</td>\n",
       "      <td>None</td>\n",
       "      <td>6586</td>\n",
       "      <td>Curbans - Venterol 1</td>\n",
       "      <td>StageStart</td>\n",
       "    </tr>\n",
       "    <tr>\n",
       "      <th>3</th>\n",
       "      <td>1534</td>\n",
       "      <td>124</td>\n",
       "      <td>4</td>\n",
       "      <td>Saint-Clément - Freissinières 1</td>\n",
       "      <td>20.68</td>\n",
       "      <td>Completed</td>\n",
       "      <td>SpecialStage</td>\n",
       "      <td>Tenth</td>\n",
       "      <td>True</td>\n",
       "      <td>SS4</td>\n",
       "      <td>100</td>\n",
       "      <td>RoundToClosestMinute</td>\n",
       "      <td>00:03:00</td>\n",
       "      <td>2020-01-24T09:56:00+01:00</td>\n",
       "      <td>2020-01-24T08:56:00</td>\n",
       "      <td>180000.0</td>\n",
       "      <td>None</td>\n",
       "      <td>6583</td>\n",
       "      <td>Saint-Clément - Freissinières 1</td>\n",
       "      <td>StageStart</td>\n",
       "    </tr>\n",
       "    <tr>\n",
       "      <th>4</th>\n",
       "      <td>1535</td>\n",
       "      <td>124</td>\n",
       "      <td>5</td>\n",
       "      <td>Avançon - Notre-Dame-du-Laus 1</td>\n",
       "      <td>20.59</td>\n",
       "      <td>Completed</td>\n",
       "      <td>SpecialStage</td>\n",
       "      <td>Tenth</td>\n",
       "      <td>True</td>\n",
       "      <td>SS5</td>\n",
       "      <td>100</td>\n",
       "      <td>RoundToClosestMinute</td>\n",
       "      <td>00:03:00</td>\n",
       "      <td>2020-01-24T11:21:00+01:00</td>\n",
       "      <td>2020-01-24T10:21:00</td>\n",
       "      <td>180000.0</td>\n",
       "      <td>None</td>\n",
       "      <td>6547</td>\n",
       "      <td>Avançon - Notre-Dame-du-Laus 1</td>\n",
       "      <td>StageStart</td>\n",
       "    </tr>\n",
       "  </tbody>\n",
       "</table>\n",
       "</div>"
      ],
      "text/plain": [
       "   stageId  eventId  number                             name  distance  \\\n",
       "0     1528      124       1    Malijai - Puimichel (Live TV)     17.47   \n",
       "1     1538      124       2                Bayons - Bréziers     25.49   \n",
       "2     1533      124       3             Curbans - Venterol 1     20.02   \n",
       "3     1534      124       4  Saint-Clément - Freissinières 1     20.68   \n",
       "4     1535      124       5   Avançon - Notre-Dame-du-Laus 1     20.59   \n",
       "\n",
       "        status     stageType timingPrecision  locked code  rallyid  \\\n",
       "0  Interrupted  SpecialStage           Tenth    True  SS1      100   \n",
       "1    Completed  SpecialStage           Tenth    True  SS2      100   \n",
       "2    Completed  SpecialStage           Tenth    True  SS3      100   \n",
       "3    Completed  SpecialStage           Tenth    True  SS4      100   \n",
       "4    Completed  SpecialStage           Tenth    True  SS5      100   \n",
       "\n",
       "         roundingPolicy targetDuration   firstCarDueDateTimeLocal  \\\n",
       "0  RoundToClosestMinute       00:03:00  2020-01-23T20:38:00+01:00   \n",
       "1  RoundToClosestMinute       00:03:00  2020-01-23T22:26:00+01:00   \n",
       "2  RoundToClosestMinute       00:03:00  2020-01-24T08:36:00+01:00   \n",
       "3  RoundToClosestMinute       00:03:00  2020-01-24T09:56:00+01:00   \n",
       "4  RoundToClosestMinute       00:03:00  2020-01-24T11:21:00+01:00   \n",
       "\n",
       "   firstCarDueDateTime  targetDurationMs controlPenalties  controlId  \\\n",
       "0  2020-01-23T19:38:00          180000.0             None       6592   \n",
       "1  2020-01-23T21:26:00          180000.0             None       6589   \n",
       "2  2020-01-24T07:36:00          180000.0             None       6586   \n",
       "3  2020-01-24T08:56:00          180000.0             None       6583   \n",
       "4  2020-01-24T10:21:00          180000.0             None       6547   \n",
       "\n",
       "                          location        type  \n",
       "0    Malijai - Puimichel (Live TV)  StageStart  \n",
       "1                Bayons - Bréziers  StageStart  \n",
       "2             Curbans - Venterol 1  StageStart  \n",
       "3  Saint-Clément - Freissinières 1  StageStart  \n",
       "4   Avançon - Notre-Dame-du-Laus 1  StageStart  "
      ]
     },
     "execution_count": 354,
     "metadata": {},
     "output_type": "execute_result"
    }
   ],
   "source": [
    "zz=WRCRally_stages(autoseed=True)\n",
    "zz.richstages.head() # stages / controls\n",
    "#zz._checkStages()[1].head()\n",
    "#zz.lastCompletedStage()"
   ]
  },
  {
   "cell_type": "code",
   "execution_count": 228,
   "metadata": {},
   "outputs": [],
   "source": [
    "# Does this actually do anything other than possible checks?\n",
    "\n",
    "class WRCRally_stage(WRCRally_stages):\n",
    "    \"\"\"Base class for things with a stageId.\n",
    "       Can also help find a stageId list for a given rally.\"\"\"\n",
    "    def __init__(self, sdbRallyId=None, stageId=None, live=False,\n",
    "                 autoseed=False, nowarn=True, dbname=None):\n",
    "        WRCRally_stages.__init__(self, sdbRallyId=sdbRallyId,\n",
    "                                 live=live, autoseed=autoseed, nowarn=nowarn, dbname=dbname)\n",
    "        \n",
    "        if not nowarn:\n",
    "            if not sdbRallyId:\n",
    "                warnings.warn(\"sdbRallyId should really be set...\")\n",
    "            if not stageId:\n",
    "                warnings.warn(\"stageId should really be set...\")\n",
    "\n",
    "        stageId = _jsInt(stageId)\n",
    "        \n",
    "        if autoseed:\n",
    "            fetchData(self.sdbRallyId, stageId)\n",
    " \n",
    "    def _checkStageId(self, sdbRallyId=None, stageId=None, fallback='lastCompleted'):\n",
    "        \"\"\"Return a stage ID or lookup a current one.\"\"\"\n",
    "        \n",
    "        self._checkRallyId(sdbRallyId)\n",
    "        \n",
    "        stageId = _jsInt(stageId)\n",
    "        \n",
    "        #Obe methid for finding a stage ID - last completed\n",
    "        if not stageId:\n",
    "            if 'lastCompleted':\n",
    "                stageId  = self.lastCompletedStage()\n",
    "            #What else? Most recent still running, else lastCompleted?\n",
    "        \n",
    "\n",
    "        #sdbRallyId = sdbRallyId or self.sdbRallyId\n",
    "        #if not hasattr(self, 'sdbRallyId') or not self.sdbRallyId:\n",
    "        #    self.activerally = WRCActiveRally()\n",
    "        #    self.sdbRallyId = self.activerally.sdbRallyId\n",
    "        #    self.name = self.activerally.name\n",
    "        #return self.sdbRallyId\n",
    "        pass"
   ]
  },
  {
   "cell_type": "code",
   "execution_count": 211,
   "metadata": {
    "tags": [
     "active-ipynb"
    ]
   },
   "outputs": [],
   "source": [
    "zz=WRCRally_stage()"
   ]
  },
  {
   "cell_type": "markdown",
   "metadata": {},
   "source": [
    "# TO DO\n",
    "\n",
    "For things built on `WRCRally_stage` class, we need a way of iterating over all stages. Ideally, one way, as a method in `WRCRally_stage`.\n",
    "\n",
    "The `stages` table from `itinerary` is probably best to go with?"
   ]
  },
  {
   "cell_type": "code",
   "execution_count": 229,
   "metadata": {},
   "outputs": [],
   "source": [
    "class WRCOverall(WRCRally_stage):\n",
    "    \"\"\"Class for overall stage table.\"\"\"\n",
    "    def __init__(self, sdbRallyId=None, stageId=None, live=False,\n",
    "                 autoseed=False, nowarn=True, dbname=None):\n",
    "        WRCRally_stage.__init__(self, sdbRallyId=sdbRallyId, stageId=stageId,\n",
    "                                live=live, autoseed=autoseed, nowarn=nowarn, dbname=dbname)\n",
    "        \n",
    "        self.overall={}\n",
    "\n",
    "        if stageId:\n",
    "            self.fetchOverall(self.sdbRallyId, stageId)\n",
    "\n",
    "        if autoseed:\n",
    "            pass\n",
    "\n",
    "    def fetchOverall(self, sdbRallyId=None, stageId=None):\n",
    "        \"\"\"Fetch the data from WRC API.\"\"\"\n",
    "        self._checkRallyId(sdbRallyId)\n",
    "        self._checkStageId(self.sdbRallyId, stageId)\n",
    "\n",
    "        if stageId:\n",
    "            self.overall[stageId] = getOverall(self.sdbRallyId, stageId)\n",
    "            self.dbfy('overall',self.overall[stageId],['stageId', 'entryId'])\n",
    "            \n",
    "    def __call__(self):\n",
    "        return self.overall"
   ]
  },
  {
   "cell_type": "code",
   "execution_count": 213,
   "metadata": {
    "tags": [
     "active-ipynb"
    ]
   },
   "outputs": [
    {
     "data": {
      "text/plain": [
       "{1528:     entryId  stageTimeMs   stageTime  penaltyTimeMs penaltyTime  totalTimeMs  \\\n",
       " 0     20685       593400   PT9M53.4S              0        PT0S       593400   \n",
       " 1     20683       595200   PT9M55.2S              0        PT0S       595200   \n",
       " 2     20686       595300   PT9M55.3S              0        PT0S       595300   \n",
       " 3     20684       599800   PT9M59.8S              0        PT0S       599800   \n",
       " 4     20690       603600   PT10M3.6S              0        PT0S       603600   \n",
       " ..      ...          ...         ...            ...         ...          ...   \n",
       " 81    20768       880800  PT14M40.8S              0        PT0S       880800   \n",
       " 82    20769       880800  PT14M40.8S              0        PT0S       880800   \n",
       " 83    20770       880800  PT14M40.8S              0        PT0S       880800   \n",
       " 84    20753       880800  PT14M40.8S          10000       PT10S       890800   \n",
       " 85    20710      1229100  PT20M29.1S              0        PT0S      1229100   \n",
       " \n",
       "      totalTime  position  diffFirstMs   diffFirst  diffPrevMs   diffPrev  \n",
       " 0    PT9M53.4S         1            0        PT0S           0       PT0S  \n",
       " 1    PT9M55.2S         2         1800      PT1.8S        1800     PT1.8S  \n",
       " 2    PT9M55.3S         3         1900      PT1.9S         100     PT0.1S  \n",
       " 3    PT9M59.8S         4         6400      PT6.4S        4500     PT4.5S  \n",
       " 4    PT10M3.6S         5        10200     PT10.2S        3800     PT3.8S  \n",
       " ..         ...       ...          ...         ...         ...        ...  \n",
       " 81  PT14M40.8S        82       287400   PT4M47.4S           0       PT0S  \n",
       " 82  PT14M40.8S        83       287400   PT4M47.4S           0       PT0S  \n",
       " 83  PT14M40.8S        84       287400   PT4M47.4S           0       PT0S  \n",
       " 84  PT14M50.8S        85       297400   PT4M57.4S       10000      PT10S  \n",
       " 85  PT20M29.1S        86       635700  PT10M35.7S      338300  PT5M38.3S  \n",
       " \n",
       " [86 rows x 12 columns]}"
      ]
     },
     "execution_count": 213,
     "metadata": {},
     "output_type": "execute_result"
    }
   ],
   "source": [
    "zz=WRCOverall(stageId = 1528)\n",
    "zz.fetchOverall()\n",
    "zz.overall"
   ]
  },
  {
   "cell_type": "code",
   "execution_count": 230,
   "metadata": {},
   "outputs": [],
   "source": [
    "class WRCStageTimes(WRCRally_stage):\n",
    "    \"\"\"Class for stage times table.\"\"\"\n",
    "    def __init__(self, sdbRallyId=None, stageId=None, live=False,\n",
    "                 autoseed=False, nowarn=True, dbname=None):\n",
    "        WRCRally_stage.__init__(self, sdbRallyId=sdbRallyId, stageId=stageId,\n",
    "                                live=live, autoseed=autoseed, nowarn=nowarn, dbname=dbname)\n",
    "                         \n",
    "        self.stagetimes={}\n",
    "\n",
    "        if stageId:\n",
    "            self.fetchStageTimes(self.sdbRallyId, stageId)\n",
    "\n",
    "        if autoseed:\n",
    "            pass\n",
    "\n",
    "    def fetchStageTimes(self, sdbRallyId=None, stageId=None):\n",
    "        \"\"\"Fetch the data from WRC API.\"\"\"\n",
    "        self._checkRallyId(sdbRallyId)\n",
    "        self._checkStageId(self.sdbRallyId, stageId)\n",
    "        \n",
    "        if stageId:\n",
    "            self.stagetimes[stageId] = getStageTimes(self.sdbRallyId, stageId)\n",
    "            self.dbfy('stagetimes',self.stagetimes[stageId],['stageId', 'entryId'])\n",
    "            \n",
    "    def __call__(self):\n",
    "        return self.stagetimes"
   ]
  },
  {
   "cell_type": "code",
   "execution_count": 215,
   "metadata": {
    "tags": [
     "active-ipynb"
    ]
   },
   "outputs": [
    {
     "data": {
      "text/plain": [
       "{1528:     stageTimeId  stageId  entryId  elapsedDurationMs   elapsedDuration  \\\n",
       " 0         85682     1528    20685           593400.0  00:09:53.4000000   \n",
       " 1         85717     1528    20683           595200.0  00:09:55.2000000   \n",
       " 2         85684     1528    20686           595300.0  00:09:55.3000000   \n",
       " 3         85680     1528    20684           599800.0  00:09:59.8000000   \n",
       " 4         85712     1528    20690           603600.0  00:10:03.6000000   \n",
       " ..          ...      ...      ...                ...               ...   \n",
       " 83        85606     1528    20769           880800.0  00:14:40.8000000   \n",
       " 84        85720     1528    20770           880800.0  00:14:40.8000000   \n",
       " 85        85676     1528    20710          1229100.0  00:20:29.1000000   \n",
       " 86        85724     1528    20750          1329900.0  00:22:09.9000000   \n",
       " 87        85643     1528    20741                NaN              None   \n",
       " \n",
       "        status    source  position  diffFirstMs         diffFirst  diffPrevMs  \\\n",
       " 0   Completed   Default       1.0          0.0          00:00:00         0.0   \n",
       " 1   Completed   Default       2.0       1800.0  00:00:01.8000000      1800.0   \n",
       " 2   Completed   Default       3.0       1900.0  00:00:01.9000000       100.0   \n",
       " 3   Completed   Default       4.0       6400.0  00:00:06.4000000      4500.0   \n",
       " 4   Completed   Default       5.0      10200.0  00:00:10.2000000      3800.0   \n",
       " ..        ...       ...       ...          ...               ...         ...   \n",
       " 83  Completed  Assessed      84.0     287400.0  00:04:47.4000000         0.0   \n",
       " 84  Completed  Assessed      85.0     287400.0  00:04:47.4000000         0.0   \n",
       " 85  Completed  Assessed      86.0     635700.0  00:10:35.7000000    348300.0   \n",
       " 86  Completed  Assessed      87.0     736500.0  00:12:16.5000000    100800.0   \n",
       " 87      ToRun   Default       NaN          NaN              None         NaN   \n",
       " \n",
       "             diffPrev  \n",
       " 0           00:00:00  \n",
       " 1   00:00:01.8000000  \n",
       " 2   00:00:00.1000000  \n",
       " 3   00:00:04.5000000  \n",
       " 4   00:00:03.8000000  \n",
       " ..               ...  \n",
       " 83          00:00:00  \n",
       " 84          00:00:00  \n",
       " 85  00:05:48.3000000  \n",
       " 86  00:01:40.8000000  \n",
       " 87              None  \n",
       " \n",
       " [88 rows x 12 columns]}"
      ]
     },
     "execution_count": 215,
     "metadata": {},
     "output_type": "execute_result"
    }
   ],
   "source": [
    "zz=WRCStageTimes(stageId = 1528)\n",
    "zz.fetchStageTimes()\n",
    "zz.stagetimes"
   ]
  },
  {
   "cell_type": "code",
   "execution_count": 892,
   "metadata": {},
   "outputs": [],
   "source": [
    "class WRCSplitTimes(WRCRally_stage):\n",
    "    \"\"\"Class for SplitTimes stage table.\"\"\"\n",
    "    def __init__(self, sdbRallyId=None, stageId=None, live=False, autoseed=False, dbname=None):  \n",
    "        WRCRally_stage.__init__(self, sdbRallyId=sdbRallyId, stageId=stageId,\n",
    "                                 live=live, autoseed=autoseed, dbname=dbname)\n",
    "        \n",
    "        self.splitPoints = {}\n",
    "        self.entrySplitPointTimes ={}\n",
    "        self.splitPointTimes = {}\n",
    "        \n",
    "        if stageId:\n",
    "            self.fetchSplitTimes(self.sdbRallyId, stageId)\n",
    "\n",
    "        if autoseed:\n",
    "            pass\n",
    "            \n",
    "    def fetchSplitTimes(self, sdbRallyId=None, stageId=None):\n",
    "        self._checkRallyId(sdbRallyId)\n",
    "        self._checkStageId(self.sdbRallyId, stageId)\n",
    "        if stageId:\n",
    "            (self.splitPoints[stageId], self.entrySplitPointTimes[stageId], \\\n",
    "             self.splitPointTimes[stageId]) = getSplitTimes(self.sdbRallyId, stageId)\n",
    "            \n",
    "            self.dbfy('splitPoints',self.splitPoints[stageId],['splitPointId','stageId'])\n",
    "            self.dbfy('entrySplitPointTimes',self.entrySplitPointTimes[stageId],['stageId', 'entryId'])\n",
    "            self.dbfy('splitPointTimes',self.splitPointTimes[stageId],['splitPointTimeId','splitPointId','entryId', 'stageId'])"
   ]
  },
  {
   "cell_type": "code",
   "execution_count": 893,
   "metadata": {
    "tags": [
     "active.ipynb"
    ]
   },
   "outputs": [
    {
     "ename": "TypeError",
     "evalue": "__init__() got an unexpected keyword argument 'dbname'",
     "output_type": "error",
     "traceback": [
      "\u001b[0;31m---------------------------------------------------------------------------\u001b[0m",
      "\u001b[0;31mTypeError\u001b[0m                                 Traceback (most recent call last)",
      "\u001b[0;32m<ipython-input-893-70c0932635f8>\u001b[0m in \u001b[0;36m<module>\u001b[0;34m\u001b[0m\n\u001b[0;32m----> 1\u001b[0;31m \u001b[0mzz\u001b[0m\u001b[0;34m=\u001b[0m\u001b[0mWRCSplitTimes\u001b[0m\u001b[0;34m(\u001b[0m\u001b[0mstageId\u001b[0m \u001b[0;34m=\u001b[0m \u001b[0;36m1528\u001b[0m\u001b[0;34m)\u001b[0m\u001b[0;34m\u001b[0m\u001b[0;34m\u001b[0m\u001b[0m\n\u001b[0m\u001b[1;32m      2\u001b[0m \u001b[0mzz\u001b[0m\u001b[0;34m.\u001b[0m\u001b[0mfetchSplitTimes\u001b[0m\u001b[0;34m(\u001b[0m\u001b[0;34m)\u001b[0m\u001b[0;34m\u001b[0m\u001b[0;34m\u001b[0m\u001b[0m\n\u001b[1;32m      3\u001b[0m \u001b[0mzz\u001b[0m\u001b[0;34m.\u001b[0m\u001b[0mentrySplitPointTimes\u001b[0m\u001b[0;34m\u001b[0m\u001b[0;34m\u001b[0m\u001b[0m\n",
      "\u001b[0;32m<ipython-input-892-053f48c6a46c>\u001b[0m in \u001b[0;36m__init__\u001b[0;34m(self, sdbRallyId, stageId, live, autoseed, dbname)\u001b[0m\n\u001b[1;32m      3\u001b[0m     \u001b[0;32mdef\u001b[0m \u001b[0m__init__\u001b[0m\u001b[0;34m(\u001b[0m\u001b[0mself\u001b[0m\u001b[0;34m,\u001b[0m \u001b[0msdbRallyId\u001b[0m\u001b[0;34m=\u001b[0m\u001b[0;32mNone\u001b[0m\u001b[0;34m,\u001b[0m \u001b[0mstageId\u001b[0m\u001b[0;34m=\u001b[0m\u001b[0;32mNone\u001b[0m\u001b[0;34m,\u001b[0m \u001b[0mlive\u001b[0m\u001b[0;34m=\u001b[0m\u001b[0;32mFalse\u001b[0m\u001b[0;34m,\u001b[0m \u001b[0mautoseed\u001b[0m\u001b[0;34m=\u001b[0m\u001b[0;32mFalse\u001b[0m\u001b[0;34m,\u001b[0m \u001b[0mdbname\u001b[0m\u001b[0;34m=\u001b[0m\u001b[0;32mNone\u001b[0m\u001b[0;34m)\u001b[0m\u001b[0;34m:\u001b[0m\u001b[0;34m\u001b[0m\u001b[0;34m\u001b[0m\u001b[0m\n\u001b[1;32m      4\u001b[0m         WRCRally_stage.__init__(self, sdbRallyId=sdbRallyId, stageId=stageId,\n\u001b[0;32m----> 5\u001b[0;31m                                  live=live, autoseed=autoseed, dbname=dbname)\n\u001b[0m\u001b[1;32m      6\u001b[0m \u001b[0;34m\u001b[0m\u001b[0m\n\u001b[1;32m      7\u001b[0m         \u001b[0mself\u001b[0m\u001b[0;34m.\u001b[0m\u001b[0msplitPoints\u001b[0m \u001b[0;34m=\u001b[0m \u001b[0;34m{\u001b[0m\u001b[0;34m}\u001b[0m\u001b[0;34m\u001b[0m\u001b[0;34m\u001b[0m\u001b[0m\n",
      "\u001b[0;31mTypeError\u001b[0m: __init__() got an unexpected keyword argument 'dbname'"
     ]
    }
   ],
   "source": [
    "zz=WRCSplitTimes(stageId = 1528)\n",
    "zz.fetchSplitTimes()\n",
    "zz.entrySplitPointTimes\n"
   ]
  },
  {
   "cell_type": "code",
   "execution_count": null,
   "metadata": {},
   "outputs": [],
   "source": []
  },
  {
   "cell_type": "code",
   "execution_count": null,
   "metadata": {},
   "outputs": [],
   "source": []
  },
  {
   "cell_type": "markdown",
   "metadata": {},
   "source": [
    "TO DO - think about sqlite export."
   ]
  },
  {
   "cell_type": "code",
   "execution_count": 889,
   "metadata": {
    "run_control": {
     "marked": false
    }
   },
   "outputs": [],
   "source": [
    "def WRCdatagetter(func):\n",
    "    \"\"\"Decorator to run a passed in function then return a response.\n",
    "       Originally included other logic...\"\"\"\n",
    "    def call(self):\n",
    "        (attrs, func2) = func(self)\n",
    "        if not attrs:\n",
    "            return None\n",
    "        if isinstance(attrs, str):\n",
    "            attrs=[attrs]\n",
    "        #Don't call the function if all the attributes that would be set\n",
    "        # by calling it are already set.\n",
    "        if not all([_checkattr(self,a) for a in attrs]):\n",
    "            func2()\n",
    "        if len(attrs)>1:\n",
    "            return tuple(getattr(self,a) for a in attrs)\n",
    "        return getattr(self,attrs[0])\n",
    "    return call\n",
    "\n",
    "        \n",
    "#This class will contain everything about a single rally\n",
    "class WRCEvent(WRCItinerary, WRCCars, WRCPenalties, WRCRetirements, WRCStartlist,\n",
    "               WRCRally, WRCStagewinners, WRCOverall, WRCStageTimes, WRCSplitTimes ):\n",
    "    \"\"\"Class for a rally event.\n",
    "       Can be used to contain all the timing results data from a WRC rally weekend.\"\"\"\n",
    "    def __init__(self, sdbRallyId=None, stageId=None, live=False,\n",
    "                 autoseed=False, slurp=False, dbname=None):\n",
    "        WRCItinerary.__init__(self, sdbRallyId=sdbRallyId, live=live,\n",
    "                             autoseed=autoseed, dbname=dbname)\n",
    "        WRCCars.__init__(self, sdbRallyId=sdbRallyId, live=live,\n",
    "                             autoseed=autoseed, dbname=dbname)\n",
    "        WRCPenalties.__init__(self, sdbRallyId=sdbRallyId, live=live,\n",
    "                             autoseed=autoseed, dbname=dbname)\n",
    "        WRCRetirements.__init__(self, sdbRallyId=sdbRallyId, live=live,\n",
    "                             autoseed=autoseed, dbname=dbname)\n",
    "        WRCStartlist.__init__(self, startListId=None, live=live,\n",
    "                             autoseed=autoseed, nowarn=True, dbname=dbname)\n",
    "        WRCRally.__init__(self, sdbRallyId=sdbRallyId, autoseed=autoseed, dbname=dbname)\n",
    "        WRCStagewinners.__init__(self, sdbRallyId=sdbRallyId, autoseed=autoseed, dbname=dbname)\n",
    "        WRCOverall.__init__(self, sdbRallyId=sdbRallyId, stageId=stageId, autoseed=autoseed, dbname=dbname)\n",
    "        WRCStageTimes.__init__(self, sdbRallyId=sdbRallyId, stageId=stageId, autoseed=autoseed, dbname=dbname)\n",
    "        WRCSplitTimes.__init__(self, sdbRallyId=sdbRallyId, stageId=stageId, autoseed=autoseed, dbname=dbname)\n",
    "        \n",
    "        if slurp:\n",
    "            self.rallyslurper()\n",
    "\n",
    "    \n",
    "\n",
    "    def getRally(self):\n",
    "        \"\"\"Get external rally details.\"\"\"\n",
    "        \n",
    "        attrs=['rally','eligibilities', 'groups']\n",
    "        if not all([_checkattr(self,a) for a in attrs]):\n",
    "            print('hello')\n",
    "            self.fetchRally()\n",
    "        return tuple(getattr(self,a) for a in attrs)\n",
    "    \n",
    "\n",
    "    def getItinerary(self):\n",
    "        \"\"\"Get itinerary.\n",
    "           If rally not known, use active rally.\n",
    "           Also set a default startListId.\"\"\"\n",
    "        self.fetchItinerary()\n",
    "        attrs = ['itinerary', 'legs', 'sections','controls', 'stages']\n",
    "        return tuple(getattr(self,a) for a in attrs)\n",
    "       \n",
    "\n",
    "    def getStartlist(self, startListId=None):\n",
    "        \"\"\"Get startlist.\n",
    "           If no startListId provided, try to find a default.\"\"\"\n",
    "        self.fetchStartList()\n",
    "        attrs=['startList', 'startListItems']\n",
    "        return tuple(getattr(self,a) for a in attrs)\n",
    "\n",
    "    def getPenalties(self):\n",
    "        \"\"\"Get penalties.\"\"\"\n",
    "        self.fetchPenalties()\n",
    "        return self.penalties\n",
    "    \n",
    "    def getRetirements(self):\n",
    "        \"\"\"Get retirements.\"\"\"\n",
    "        self.fetchRetirements()\n",
    "        return self.retirements\n",
    "\n",
    "    \n",
    "    def getStagewinners(self):\n",
    "        \"\"\"Get stagewinners\"\"\"\n",
    "        self.fetchStagewinners()\n",
    "        return self.stagewinners\n",
    "                \n",
    "                \n",
    "    def getCars(self):\n",
    "        \"\"\"Get cars.\"\"\"\n",
    "        self.fetchCars()\n",
    "        attrs=['cars', 'classes']\n",
    "        return tuple(getattr(self,a) for a in attrs)\n",
    "\n",
    "    #TO DO - different decorator\n",
    "    def getOverall(self, stageId=None):\n",
    "        \"\"\"Get Overall.\"\"\"\n",
    "        attrs = ['overall']\n",
    "        self._checkRallyId()\n",
    "        self._checkStages()\n",
    "            \n",
    "        self.fetchOverall(self.sdbRallyId, stageId)\n",
    "        \n",
    "        return self.overall\n",
    "    \n",
    "    \n",
    "    def getStageTimes(self, stageId=None):\n",
    "        \"\"\"Get StageTimes.\"\"\"\n",
    "        attrs = ['stagetimes']\n",
    "        self._checkRallyId()\n",
    "        self._checkStages()\n",
    "            \n",
    "        self.fetchStageTimes(self.sdbRallyId, stageId)\n",
    "        return self.stagetimes\n",
    "\n",
    "    def getSplitTimes(self, stageId=None):\n",
    "        \"\"\"Get SplitTimes.\"\"\"\n",
    "        attrs = ['splitPoints','entrySplitPointTimes','splitPointTimes']\n",
    "        self._checkRallyId()\n",
    "        self._checkStages()\n",
    "        \n",
    "        self.fetchSplitTimes(self.sdbRallyId, stageId)\n",
    "\n",
    "        return (self.splitPoints, self.entrySplitPointTimes, self.splitPointTimes)\n",
    "\n",
    "    \n",
    "    def rallyslurper(self):\n",
    "        \"\"\"Grab everything...\"\"\"\n",
    "        self.getItinerary()\n",
    "        self.getCars()\n",
    "        self.getStartlist()\n",
    "        self.getPenalties()\n",
    "        self.getRetirements()\n",
    "    "
   ]
  },
  {
   "cell_type": "code",
   "execution_count": 322,
   "metadata": {
    "tags": [
     "active-ipynb"
    ]
   },
   "outputs": [
    {
     "name": "stdout",
     "output_type": "stream",
     "text": [
      "hello\n",
      "fetching\n"
     ]
    },
    {
     "data": {
      "text/plain": [
       "(   externalIdRally  externalIdEvent  itineraryId name  isMain eventClasses  \\\n",
       " 0              153              124          240  WRC    True         None   \n",
       " \n",
       "    sdbRallyId  \n",
       " 0         100  ,       0 externalIdRally  sdbRallyId\n",
       " 0     M             153         100\n",
       " 1  None             153         100\n",
       " 2  WRC2             153         100\n",
       " 3  WRC3             153         100\n",
       " 4   RGT             153         100,    groupId    name externalIdRally  sdbRallyId\n",
       " 0       10     WRC             153         100\n",
       " 1       98  RALLY2             153         100\n",
       " 2        9     RGT             153         100\n",
       " 3       99  RALLY4             153         100\n",
       " 4        6      R3             153         100\n",
       " 5      100  RALLY5             153         100)"
      ]
     },
     "execution_count": 322,
     "metadata": {},
     "output_type": "execute_result"
    }
   ],
   "source": [
    "zz=WRCEvent()\n",
    "zz.getRally()"
   ]
  },
  {
   "cell_type": "code",
   "execution_count": 326,
   "metadata": {},
   "outputs": [
    {
     "data": {
      "text/plain": [
       "(   externalIdRally  externalIdEvent  itineraryId name  isMain eventClasses  \\\n",
       " 0              153              124          240  WRC    True         None   \n",
       " \n",
       "    sdbRallyId  \n",
       " 0         100  ,       0 externalIdRally  sdbRallyId\n",
       " 0     M             153         100\n",
       " 1  None             153         100\n",
       " 2  WRC2             153         100\n",
       " 3  WRC3             153         100\n",
       " 4   RGT             153         100,    groupId    name externalIdRally  sdbRallyId\n",
       " 0       10     WRC             153         100\n",
       " 1       98  RALLY2             153         100\n",
       " 2        9     RGT             153         100\n",
       " 3       99  RALLY4             153         100\n",
       " 4        6      R3             153         100\n",
       " 5      100  RALLY5             153         100)"
      ]
     },
     "execution_count": 326,
     "metadata": {},
     "output_type": "execute_result"
    }
   ],
   "source": [
    "zz.getRally()"
   ]
  },
  {
   "cell_type": "code",
   "execution_count": 319,
   "metadata": {},
   "outputs": [
    {
     "data": {
      "text/plain": [
       "True"
      ]
     },
     "execution_count": 319,
     "metadata": {},
     "output_type": "execute_result"
    }
   ],
   "source": [
    "attrs=['rally','eligibilities', 'groups']\n",
    "all([_checkattr(zz,a) for a in attrs])"
   ]
  },
  {
   "cell_type": "code",
   "execution_count": 220,
   "metadata": {},
   "outputs": [],
   "source": [
    "#This class needs renaming...\n",
    "#What does it actually represent? An event? A live event? A set of events?\n",
    "\n",
    "# TO DO - this presumably is wrong if we call in in 2021?\n",
    "class WRC2020(WRCActiveSeasonEvents, WRCEvent):\n",
    "    \"\"\"Class for WRC data scrape using 2020 API.\"\"\"\n",
    "\n",
    "    def __init__(self, sdbRallyId=None, live=False, autoseed=False):\n",
    "        WRCActiveSeasonEvents.__init__(self, autoseed=autoseed)\n",
    "        WRCEvent.__init__(self, sdbRallyId, live)\n",
    "        \n",
    "        self.live = live\n",
    "        \n",
    "        \n",
    "    def getActiveSeasonEvents(self):\n",
    "        \"\"\"Get active (current) season events.\"\"\"\n",
    "        _current_season_events_attrs = ['current_season_events',\n",
    "                                         'eventdays', 'eventchannel' ]\n",
    "        if not any([hasattr(self,a) for a in _current_season_events_attrs]) or not _checkattr(self,'current_season_events'):\n",
    "            self.fetchActiveSeasonEvents()\n",
    "        return (self.current_season_events, self.eventdays, self.eventchannel)\n",
    "\n",
    "\n",
    "    \n",
    "    \n",
    "    \n",
    "    "
   ]
  },
  {
   "cell_type": "code",
   "execution_count": 221,
   "metadata": {},
   "outputs": [],
   "source": [
    "zz = WRC2020().getActiveSeasonEvents()\n",
    "#zz"
   ]
  },
  {
   "cell_type": "code",
   "execution_count": 222,
   "metadata": {
    "tags": [
     "active-ipynb"
    ]
   },
   "outputs": [],
   "source": [
    "#zz = WRCEvent(slurp=True)"
   ]
  },
  {
   "cell_type": "code",
   "execution_count": 717,
   "metadata": {
    "tags": [
     "active-ipynb"
    ]
   },
   "outputs": [
    {
     "name": "stderr",
     "output_type": "stream",
     "text": [
      "DEBUG:urllib3.connectionpool:https://www.wrc.com:443 \"POST /ajax.php?contelPageId=176146 HTTP/1.1\" 200 3318\n",
      "DEBUG:urllib3.connectionpool:https://www.wrc.com:443 \"POST /ajax.php?contelPageId=176146 HTTP/1.1\" 200 10401\n",
      "DEBUG:urllib3.connectionpool:https://www.wrc.com:443 \"POST /ajax.php?contelPageId=176146 HTTP/1.1\" 200 388\n",
      "DEBUG:urllib3.connectionpool:https://www.wrc.com:443 \"POST /ajax.php?contelPageId=176146 HTTP/1.1\" 200 721\n"
     ]
    },
    {
     "ename": "AttributeError",
     "evalue": "'DataFrame' object has no attribute 'legs'",
     "output_type": "error",
     "traceback": [
      "\u001b[0;31m---------------------------------------------------------------------------\u001b[0m",
      "\u001b[0;31mAttributeError\u001b[0m                            Traceback (most recent call last)",
      "\u001b[0;32m<ipython-input-717-0311574afeb5>\u001b[0m in \u001b[0;36m<module>\u001b[0;34m\u001b[0m\n\u001b[0;32m----> 1\u001b[0;31m \u001b[0mzz\u001b[0m \u001b[0;34m=\u001b[0m \u001b[0mWRCEvent\u001b[0m\u001b[0;34m(\u001b[0m\u001b[0mautoseed\u001b[0m\u001b[0;34m=\u001b[0m\u001b[0;32mTrue\u001b[0m\u001b[0;34m,\u001b[0m \u001b[0msdbRallyId\u001b[0m\u001b[0;34m=\u001b[0m\u001b[0;36m100\u001b[0m\u001b[0;34m)\u001b[0m\u001b[0;34m\u001b[0m\u001b[0;34m\u001b[0m\u001b[0m\n\u001b[0m\u001b[1;32m      2\u001b[0m \u001b[0mzz\u001b[0m\u001b[0;34m.\u001b[0m\u001b[0mgetPenalties\u001b[0m\u001b[0;34m(\u001b[0m\u001b[0msdbRallyId\u001b[0m\u001b[0;34m=\u001b[0m\u001b[0;36m100\u001b[0m\u001b[0;34m)\u001b[0m\u001b[0;34m\u001b[0m\u001b[0;34m\u001b[0m\u001b[0m\n",
      "\u001b[0;32m<ipython-input-320-948a298c47c7>\u001b[0m in \u001b[0;36m__init__\u001b[0;34m(self, sdbRallyId, stageId, live, autoseed, slurp)\u001b[0m\n\u001b[1;32m     30\u001b[0m                              autoseed=autoseed)\n\u001b[1;32m     31\u001b[0m         WRCStartlist.__init__(self, startListId=None, live=live,\n\u001b[0;32m---> 32\u001b[0;31m                              autoseed=autoseed, nowarn=True)\n\u001b[0m\u001b[1;32m     33\u001b[0m         \u001b[0mWRCRally\u001b[0m\u001b[0;34m.\u001b[0m\u001b[0m__init__\u001b[0m\u001b[0;34m(\u001b[0m\u001b[0mself\u001b[0m\u001b[0;34m,\u001b[0m \u001b[0msdbRallyId\u001b[0m\u001b[0;34m=\u001b[0m\u001b[0msdbRallyId\u001b[0m\u001b[0;34m,\u001b[0m \u001b[0mautoseed\u001b[0m\u001b[0;34m=\u001b[0m\u001b[0mautoseed\u001b[0m\u001b[0;34m)\u001b[0m\u001b[0;34m\u001b[0m\u001b[0;34m\u001b[0m\u001b[0m\n\u001b[1;32m     34\u001b[0m         \u001b[0mWRCStagewinners\u001b[0m\u001b[0;34m.\u001b[0m\u001b[0m__init__\u001b[0m\u001b[0;34m(\u001b[0m\u001b[0mself\u001b[0m\u001b[0;34m,\u001b[0m \u001b[0msdbRallyId\u001b[0m\u001b[0;34m=\u001b[0m\u001b[0msdbRallyId\u001b[0m\u001b[0;34m,\u001b[0m \u001b[0mautoseed\u001b[0m\u001b[0;34m=\u001b[0m\u001b[0mautoseed\u001b[0m\u001b[0;34m)\u001b[0m\u001b[0;34m\u001b[0m\u001b[0;34m\u001b[0m\u001b[0m\n",
      "\u001b[0;32m<ipython-input-334-d26a47893005>\u001b[0m in \u001b[0;36m__init__\u001b[0;34m(self, startListId, live, autoseed, nowarn)\u001b[0m\n\u001b[1;32m     13\u001b[0m \u001b[0;34m\u001b[0m\u001b[0m\n\u001b[1;32m     14\u001b[0m         \u001b[0;32mif\u001b[0m \u001b[0mself\u001b[0m\u001b[0;34m.\u001b[0m\u001b[0mstartListId\u001b[0m \u001b[0;32mor\u001b[0m \u001b[0mautoseed\u001b[0m\u001b[0;34m:\u001b[0m\u001b[0;34m\u001b[0m\u001b[0;34m\u001b[0m\u001b[0m\n\u001b[0;32m---> 15\u001b[0;31m             \u001b[0mself\u001b[0m\u001b[0;34m.\u001b[0m\u001b[0mfetchStartList\u001b[0m\u001b[0;34m(\u001b[0m\u001b[0mself\u001b[0m\u001b[0;34m.\u001b[0m\u001b[0mstartListId\u001b[0m\u001b[0;34m)\u001b[0m\u001b[0;34m\u001b[0m\u001b[0;34m\u001b[0m\u001b[0m\n\u001b[0m\u001b[1;32m     16\u001b[0m \u001b[0;34m\u001b[0m\u001b[0m\n\u001b[1;32m     17\u001b[0m     \u001b[0;32mdef\u001b[0m \u001b[0m_checkStartListId\u001b[0m\u001b[0;34m(\u001b[0m\u001b[0mself\u001b[0m\u001b[0;34m,\u001b[0m \u001b[0mstartListId\u001b[0m\u001b[0;34m=\u001b[0m\u001b[0;32mNone\u001b[0m\u001b[0;34m)\u001b[0m\u001b[0;34m:\u001b[0m\u001b[0;34m\u001b[0m\u001b[0;34m\u001b[0m\u001b[0m\n",
      "\u001b[0;32m<ipython-input-39-d26a47893005>\u001b[0m in \u001b[0;36mfetchStartList\u001b[0;34m(self, startListId)\u001b[0m\n\u001b[1;32m     27\u001b[0m \u001b[0;34m\u001b[0m\u001b[0m\n\u001b[1;32m     28\u001b[0m     \u001b[0;32mdef\u001b[0m \u001b[0mfetchStartList\u001b[0m\u001b[0;34m(\u001b[0m\u001b[0mself\u001b[0m\u001b[0;34m,\u001b[0m \u001b[0mstartListId\u001b[0m\u001b[0;34m=\u001b[0m\u001b[0;32mNone\u001b[0m\u001b[0;34m)\u001b[0m\u001b[0;34m:\u001b[0m\u001b[0;34m\u001b[0m\u001b[0;34m\u001b[0m\u001b[0m\n\u001b[0;32m---> 29\u001b[0;31m         \u001b[0mself\u001b[0m\u001b[0;34m.\u001b[0m\u001b[0m_checkStartListId\u001b[0m\u001b[0;34m(\u001b[0m\u001b[0mstartListId\u001b[0m\u001b[0;34m)\u001b[0m\u001b[0;34m\u001b[0m\u001b[0;34m\u001b[0m\u001b[0m\n\u001b[0m\u001b[1;32m     30\u001b[0m         \u001b[0mstartList\u001b[0m\u001b[0;34m,\u001b[0m\u001b[0mstartListItems\u001b[0m \u001b[0;34m=\u001b[0m \u001b[0mgetStartlist\u001b[0m\u001b[0;34m(\u001b[0m\u001b[0mself\u001b[0m\u001b[0;34m.\u001b[0m\u001b[0mstartListId\u001b[0m\u001b[0;34m)\u001b[0m\u001b[0;34m\u001b[0m\u001b[0;34m\u001b[0m\u001b[0m\n\u001b[1;32m     31\u001b[0m         \u001b[0mself\u001b[0m\u001b[0;34m.\u001b[0m\u001b[0mstartList\u001b[0m\u001b[0;34m,\u001b[0m \u001b[0mself\u001b[0m\u001b[0;34m.\u001b[0m\u001b[0mstartListItems\u001b[0m \u001b[0;34m=\u001b[0m \u001b[0mstartList\u001b[0m\u001b[0;34m,\u001b[0m\u001b[0mstartListItems\u001b[0m\u001b[0;34m\u001b[0m\u001b[0;34m\u001b[0m\u001b[0m\n",
      "\u001b[0;32m<ipython-input-39-d26a47893005>\u001b[0m in \u001b[0;36m_checkStartListId\u001b[0;34m(self, startListId)\u001b[0m\n\u001b[1;32m     22\u001b[0m                 \u001b[0mself\u001b[0m\u001b[0;34m.\u001b[0m\u001b[0mitinerary\u001b[0m \u001b[0;34m=\u001b[0m \u001b[0mWRCItinerary\u001b[0m\u001b[0;34m(\u001b[0m\u001b[0mautoseed\u001b[0m\u001b[0;34m=\u001b[0m\u001b[0;32mTrue\u001b[0m\u001b[0;34m)\u001b[0m\u001b[0;34m\u001b[0m\u001b[0;34m\u001b[0m\u001b[0m\n\u001b[1;32m     23\u001b[0m                 \u001b[0mself\u001b[0m\u001b[0;34m.\u001b[0m\u001b[0msdbRallyId\u001b[0m \u001b[0;34m=\u001b[0m \u001b[0mself\u001b[0m\u001b[0;34m.\u001b[0m\u001b[0mitinerary\u001b[0m\u001b[0;34m.\u001b[0m\u001b[0msdbRallyId\u001b[0m\u001b[0;34m\u001b[0m\u001b[0;34m\u001b[0m\u001b[0m\n\u001b[0;32m---> 24\u001b[0;31m             \u001b[0mself\u001b[0m\u001b[0;34m.\u001b[0m\u001b[0mstartListId\u001b[0m \u001b[0;34m=\u001b[0m \u001b[0mint\u001b[0m\u001b[0;34m(\u001b[0m\u001b[0mself\u001b[0m\u001b[0;34m.\u001b[0m\u001b[0mitinerary\u001b[0m\u001b[0;34m.\u001b[0m\u001b[0mlegs\u001b[0m\u001b[0;34m.\u001b[0m\u001b[0mloc\u001b[0m\u001b[0;34m[\u001b[0m\u001b[0;36m0\u001b[0m\u001b[0;34m,\u001b[0m\u001b[0;34m'startListId'\u001b[0m\u001b[0;34m]\u001b[0m\u001b[0;34m)\u001b[0m\u001b[0;34m\u001b[0m\u001b[0;34m\u001b[0m\u001b[0m\n\u001b[0m\u001b[1;32m     25\u001b[0m         \u001b[0;32mreturn\u001b[0m \u001b[0mself\u001b[0m\u001b[0;34m.\u001b[0m\u001b[0mstartListId\u001b[0m\u001b[0;34m\u001b[0m\u001b[0;34m\u001b[0m\u001b[0m\n\u001b[1;32m     26\u001b[0m \u001b[0;34m\u001b[0m\u001b[0m\n",
      "\u001b[0;32m/usr/local/lib/python3.7/site-packages/pandas/core/generic.py\u001b[0m in \u001b[0;36m__getattr__\u001b[0;34m(self, name)\u001b[0m\n\u001b[1;32m   5177\u001b[0m             \u001b[0;32mif\u001b[0m \u001b[0mself\u001b[0m\u001b[0;34m.\u001b[0m\u001b[0m_info_axis\u001b[0m\u001b[0;34m.\u001b[0m\u001b[0m_can_hold_identifiers_and_holds_name\u001b[0m\u001b[0;34m(\u001b[0m\u001b[0mname\u001b[0m\u001b[0;34m)\u001b[0m\u001b[0;34m:\u001b[0m\u001b[0;34m\u001b[0m\u001b[0;34m\u001b[0m\u001b[0m\n\u001b[1;32m   5178\u001b[0m                 \u001b[0;32mreturn\u001b[0m \u001b[0mself\u001b[0m\u001b[0;34m[\u001b[0m\u001b[0mname\u001b[0m\u001b[0;34m]\u001b[0m\u001b[0;34m\u001b[0m\u001b[0;34m\u001b[0m\u001b[0m\n\u001b[0;32m-> 5179\u001b[0;31m             \u001b[0;32mreturn\u001b[0m \u001b[0mobject\u001b[0m\u001b[0;34m.\u001b[0m\u001b[0m__getattribute__\u001b[0m\u001b[0;34m(\u001b[0m\u001b[0mself\u001b[0m\u001b[0;34m,\u001b[0m \u001b[0mname\u001b[0m\u001b[0;34m)\u001b[0m\u001b[0;34m\u001b[0m\u001b[0;34m\u001b[0m\u001b[0m\n\u001b[0m\u001b[1;32m   5180\u001b[0m \u001b[0;34m\u001b[0m\u001b[0m\n\u001b[1;32m   5181\u001b[0m     \u001b[0;32mdef\u001b[0m \u001b[0m__setattr__\u001b[0m\u001b[0;34m(\u001b[0m\u001b[0mself\u001b[0m\u001b[0;34m,\u001b[0m \u001b[0mname\u001b[0m\u001b[0;34m,\u001b[0m \u001b[0mvalue\u001b[0m\u001b[0;34m)\u001b[0m\u001b[0;34m:\u001b[0m\u001b[0;34m\u001b[0m\u001b[0;34m\u001b[0m\u001b[0m\n",
      "\u001b[0;31mAttributeError\u001b[0m: 'DataFrame' object has no attribute 'legs'"
     ]
    }
   ],
   "source": [
    "zz = WRCEvent(autoseed=True, sdbRallyId=100)\n",
    "zz.getPenalties(sdbRallyId=100)"
   ]
  },
  {
   "cell_type": "code",
   "execution_count": null,
   "metadata": {
    "tags": [
     "active-ipynb"
    ]
   },
   "outputs": [],
   "source": [
    "wrc=WRC2020()\n",
    "wrc.getActiveSeasonEvents()\n",
    "wrc.activeseasonevents.current_season_events"
   ]
  },
  {
   "cell_type": "code",
   "execution_count": null,
   "metadata": {},
   "outputs": [],
   "source": [
    "wrc.getStartlist()"
   ]
  },
  {
   "cell_type": "code",
   "execution_count": null,
   "metadata": {
    "tags": [
     "active-ipynb"
    ]
   },
   "outputs": [],
   "source": [
    "wrc.itinerary.sections"
   ]
  },
  {
   "cell_type": "code",
   "execution_count": null,
   "metadata": {
    "hideCode": true,
    "tags": [
     "active-ipynb"
    ]
   },
   "outputs": [],
   "source": [
    "itinerary, legs, sections, controls, stages = wrc.getItinerary()\n",
    "startList,startListItems = getStartlist(startListId)\n",
    "cars, classes = getCars(sdbRallyId)\n",
    "#rally, eligibilities, groups = getRally(sdbRallyId)\n",
    "#overall = getOverall(sdbRallyId, stageId)\n",
    "#splitPoints, entrySplitPointTimes, splitPointTimes = getSplitTimes(sdbRallyId,stageId)\n",
    "#stagetimes = getStageTimes(sdbRallyId,stageId)\n",
    "#stagewinners = getStagewinners(sdbRallyId)\n",
    "#penalties = getPenalties(sdbRallyId)\n",
    "#retirements = getRetirements(sdbRallyId)\n",
    "#championship = getChampionship()\n",
    "#championship = getChampionshipStandingsLive()"
   ]
  },
  {
   "cell_type": "code",
   "execution_count": null,
   "metadata": {
    "tags": [
     "active-ipynb"
    ]
   },
   "outputs": [],
   "source": [
    "current_season_events, eventdays, eventchannel = wrc.getActiveSeasonEvents()"
   ]
  },
  {
   "cell_type": "code",
   "execution_count": null,
   "metadata": {
    "tags": [
     "active-ipynb"
    ]
   },
   "outputs": [],
   "source": [
    "event, days, channels = wrc.getActiveRally()\n"
   ]
  },
  {
   "cell_type": "code",
   "execution_count": null,
   "metadata": {
    "tags": [
     "active-ipynb"
    ]
   },
   "outputs": [],
   "source": [
    "event"
   ]
  },
  {
   "cell_type": "code",
   "execution_count": null,
   "metadata": {
    "tags": [
     "active-ipynb"
    ]
   },
   "outputs": [],
   "source": [
    "wrc.sdbRallyId"
   ]
  },
  {
   "cell_type": "code",
   "execution_count": null,
   "metadata": {},
   "outputs": [],
   "source": []
  }
 ],
 "metadata": {
  "celltoolbar": "Tags",
  "jupytext": {
   "formats": "ipynb,py:light"
  },
  "kernelspec": {
   "display_name": "Python 3",
   "language": "python",
   "name": "python3"
  },
  "language_info": {
   "codemirror_mode": {
    "name": "ipython",
    "version": 3
   },
   "file_extension": ".py",
   "mimetype": "text/x-python",
   "name": "python",
   "nbconvert_exporter": "python",
   "pygments_lexer": "ipython3",
   "version": "3.7.5"
  }
 },
 "nbformat": 4,
 "nbformat_minor": 2
}
