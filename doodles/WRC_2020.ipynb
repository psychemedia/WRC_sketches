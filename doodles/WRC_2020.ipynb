{
 "cells": [
  {
   "cell_type": "markdown",
   "metadata": {},
   "source": [
    "# WRC Scraper  2020\n",
    "\n",
    "\n",
    "*TO DO  - add in database elements. Schema will be in `wrcResults2020.sql`.*\n",
    "\n",
    "There may be duplication of data across various objects in the final class. This is for convenience as much as anything, trying to preserve both captures of the original data with combined or derived data, as well as trying to put the data in places we can easily find it. Consistency in a live setting is where this may fall apart!\n",
    "\n",
    "*Add in `asyncio` scheduler elements to call WRC API regularly. Avoid race conditions by scheduling items together in the same scheduled event if they compete for the same write resource.*"
   ]
  },
  {
   "cell_type": "code",
   "execution_count": 1,
   "metadata": {
    "tags": [
     "active-ipynb"
    ]
   },
   "outputs": [],
   "source": [
    "%load_ext autoreload\n",
    "%autoreload 2"
   ]
  },
  {
   "cell_type": "code",
   "execution_count": 2,
   "metadata": {},
   "outputs": [],
   "source": [
    "from WRC_2020_scraper import *\n",
    "from WRC_2020_scraper import getSeasonCategories"
   ]
  },
  {
   "cell_type": "code",
   "execution_count": 3,
   "metadata": {},
   "outputs": [],
   "source": [
    "\n",
    "# TO DO - this should go into a general utils package\n",
    "def _jsInt(val):\n",
    "    \"\"\"Ensure we have a JSON serialisable value for an int.\n",
    "       The defends against non-JSON-serialisable np.int64.\"\"\"\n",
    "    try:\n",
    "        val = int(val)\n",
    "    except:\n",
    "        val = None\n",
    "        \n",
    "    return val"
   ]
  },
  {
   "cell_type": "code",
   "execution_count": 4,
   "metadata": {},
   "outputs": [],
   "source": [
    "#paths=[]\n",
    "#parts=attr.split('.')\n",
    "#for i, _ in enumerate(parts):\n",
    "#    if i:\n",
    "#        paths.append('.'.join(parts[:-i]))\n",
    "#paths.reverse()\n",
    "\n",
    "def _checkattr(obj,attr):\n",
    "    \"\"\"Check an object exists and is set to a non-null value.\"\"\"\n",
    "    \n",
    "    #TO DO  - support attributes done a path, checking each step in turn\n",
    "    \n",
    "    if hasattr(obj,attr):\n",
    "        objattr = getattr(obj, attr)\n",
    "        if isinstance(objattr, pd.DataFrame):\n",
    "            return not objattr.empty\n",
    "        elif objattr:\n",
    "            return True\n",
    "        \n",
    "    return False"
   ]
  },
  {
   "cell_type": "code",
   "execution_count": 5,
   "metadata": {},
   "outputs": [],
   "source": [
    "# TO DO - define a class for each table\n",
    "import warnings\n",
    "\n",
    "#https://stackoverflow.com/questions/28208949/log-stack-trace-for-python-warning/29567225\n",
    "import traceback\n",
    "\n",
    "_formatwarning = warnings.formatwarning"
   ]
  },
  {
   "cell_type": "markdown",
   "metadata": {},
   "source": [
    "The following generates stacktrace warnings useful when debugging in IPython notebook kernel environment."
   ]
  },
  {
   "cell_type": "code",
   "execution_count": 6,
   "metadata": {},
   "outputs": [],
   "source": [
    "def formatwarning_tb(*args, **kwargs):\n",
    "    s = _formatwarning(*args, **kwargs)\n",
    "    \n",
    "    _tb = traceback.format_stack()\n",
    "    useful=False\n",
    "    tb=[]\n",
    "    for i in _tb:\n",
    "        if 'ipython-input' in i:\n",
    "            tb.append(i)\n",
    "    s += ''.join(tb[:-1])\n",
    "    return s\n",
    "\n",
    "warnings.formatwarning = formatwarning_tb\n",
    "#logging.captureWarnings(True)\n",
    "\n",
    "    \n",
    "class IPythonWarner:\n",
    "    \"\"\"Tools for reporting warnings.\"\"\"\n",
    "    def __init__(self,nowarn=False):\n",
    "        self.nowarn = nowarn or None\n",
    "    \n",
    "    def warner(self, cond, msg, nowarn=None):\n",
    "        \"\"\"Test a condition and if True display a warning message.\"\"\"\n",
    "        if nowarn is None:\n",
    "            nowarn=self.nowarn\n",
    "            \n",
    "        if not nowarn and cond:\n",
    "            warnings.warn(msg)\n",
    "        "
   ]
  },
  {
   "cell_type": "code",
   "execution_count": 161,
   "metadata": {},
   "outputs": [],
   "source": [
    "class WRCBase(IPythonWarner):\n",
    "    \"Base class for all WRC stuff.\"\n",
    "    def __init__(self, nowarn=True):\n",
    "        IPythonWarner.__init__(self, nowarn=nowarn)\n",
    "        \n",
    "    def _null():\n",
    "        pass"
   ]
  },
  {
   "cell_type": "code",
   "execution_count": 162,
   "metadata": {
    "run_control": {
     "marked": false
    }
   },
   "outputs": [],
   "source": [
    "class WRCSeasonBase(WRCBase):\n",
    "    \"\"\"Base class for things related to with seasons.\"\"\"\n",
    "    def __init__(self, season_external_id=None, autoseed=False, nowarn=True):\n",
    "        WRCBase.__init__(self, nowarn=nowarn)\n",
    "        \n",
    "        self.season_external_id = _jsInt(season_external_id)\n",
    "        if not self.season_external_id and autoseed:\n",
    "            self._check_season_external_id()\n",
    "            \n",
    "    def _check_season_external_id(self, season_external_id=None):\n",
    "        \"\"\"Check that season_external_id exists and if not, get one.\"\"\"\n",
    "        self.season_external_id =  _jsInt(season_external_id) or self.season_external_id\n",
    "        if not _checkattr(self,'season_external_id'):\n",
    "            #Get current one from active rally\n",
    "            #It's also available from current_season_events\n",
    "            event, days, channels = getActiveRally()\n",
    "            self.event, self.days, self.channels = event, days, channels\n",
    "            #The returned np.int64 is not JSON serialisable\n",
    "            self.season_external_id = _jsInt(event.loc[0,'season.externalId'])\n",
    "\n"
   ]
  },
  {
   "cell_type": "code",
   "execution_count": 163,
   "metadata": {
    "tags": [
     "active-ipynb"
    ]
   },
   "outputs": [
    {
     "data": {
      "text/plain": [
       "<__main__.WRCSeasonBase at 0x11d52cd90>"
      ]
     },
     "execution_count": 163,
     "metadata": {},
     "output_type": "execute_result"
    }
   ],
   "source": [
    "WRCSeasonBase(autoseed=True)#.season_external_id"
   ]
  },
  {
   "cell_type": "code",
   "execution_count": 164,
   "metadata": {},
   "outputs": [],
   "source": [
    "class WRCSeasonCategories(WRCSeasonBase):\n",
    "    def __init__(self, autoseed=False, nowarn=True):\n",
    "        WRCSeasonBase.__init__(self, nowarn=nowarn)\n",
    "        \n",
    "        self.season_categories = None\n",
    "        self.championship_codes = None\n",
    "        \n",
    "        if autoseed:\n",
    "            self.fetchSeasonCategories()\n",
    "            \n",
    "    def fetchSeasonCategories(self):\n",
    "        self.season_categories = getSeasonCategories()\n",
    "        self.championship_codes = getSeasonChampionshipCodes()"
   ]
  },
  {
   "cell_type": "code",
   "execution_count": 165,
   "metadata": {
    "tags": [
     "active-ipynb"
    ]
   },
   "outputs": [
    {
     "data": {
      "text/html": [
       "<div>\n",
       "<style scoped>\n",
       "    .dataframe tbody tr th:only-of-type {\n",
       "        vertical-align: middle;\n",
       "    }\n",
       "\n",
       "    .dataframe tbody tr th {\n",
       "        vertical-align: top;\n",
       "    }\n",
       "\n",
       "    .dataframe thead th {\n",
       "        text-align: right;\n",
       "    }\n",
       "</style>\n",
       "<table border=\"1\" class=\"dataframe\">\n",
       "  <thead>\n",
       "    <tr style=\"text-align: right;\">\n",
       "      <th></th>\n",
       "      <th>id</th>\n",
       "      <th>category.name</th>\n",
       "      <th>drivers</th>\n",
       "      <th>codrivers</th>\n",
       "      <th>manufacturers</th>\n",
       "    </tr>\n",
       "  </thead>\n",
       "  <tbody>\n",
       "    <tr>\n",
       "      <th>0</th>\n",
       "      <td>35</td>\n",
       "      <td>WRC</td>\n",
       "      <td>37</td>\n",
       "      <td>38</td>\n",
       "      <td>39</td>\n",
       "    </tr>\n",
       "    <tr>\n",
       "      <th>1</th>\n",
       "      <td>46</td>\n",
       "      <td>WRC 2</td>\n",
       "      <td>40</td>\n",
       "      <td>41</td>\n",
       "      <td>43</td>\n",
       "    </tr>\n",
       "    <tr>\n",
       "      <th>2</th>\n",
       "      <td>49</td>\n",
       "      <td>WRC 3</td>\n",
       "      <td>44</td>\n",
       "      <td>45</td>\n",
       "      <td>None</td>\n",
       "    </tr>\n",
       "    <tr>\n",
       "      <th>3</th>\n",
       "      <td>58</td>\n",
       "      <td>JWRC</td>\n",
       "      <td>46</td>\n",
       "      <td>47</td>\n",
       "      <td>None</td>\n",
       "    </tr>\n",
       "  </tbody>\n",
       "</table>\n",
       "</div>"
      ],
      "text/plain": [
       "   id category.name  drivers  codrivers manufacturers\n",
       "0  35           WRC       37         38            39\n",
       "1  46         WRC 2       40         41            43\n",
       "2  49         WRC 3       44         45          None\n",
       "3  58          JWRC       46         47          None"
      ]
     },
     "execution_count": 165,
     "metadata": {},
     "output_type": "execute_result"
    }
   ],
   "source": [
    "zz = WRCSeasonCategories()\n",
    "zz.fetchSeasonCategories()\n",
    "zz.championship_codes"
   ]
  },
  {
   "cell_type": "code",
   "execution_count": 166,
   "metadata": {},
   "outputs": [],
   "source": [
    "class WRCChampionship(WRCSeasonCategories):       \n",
    "    \"\"\"Class for championship.\"\"\"\n",
    "    def __init__(self, category='WRC', typ='drivers',\n",
    "                 season_external_id = None,\n",
    "                 autoseed=False, nowarn=True ):\n",
    "        WRCSeasonCategories.__init__(self, autoseed=False, nowarn=True)\n",
    "\n",
    "        self.championships = {}\n",
    "        \n",
    "        if autoseed:\n",
    "            fetchChampionship(self, category=category, typ=typ,\n",
    "                              season_external_id=season_external_id)\n",
    "        \n",
    "    def fetchChampionship(self, category='WRC',typ='drivers', season_external_id=None):\n",
    "        self._check_season_external_id(season_external_id)\n",
    "        _c = self.championships\n",
    "        if category not in _c:\n",
    "            _c[category] = {}\n",
    "        _cc = _c[category]\n",
    "        if typ not in _cc:\n",
    "            _cc[typ] =  {}\n",
    "        _cct = _cc[typ]\n",
    "        (_cct['championship'], _cct['championshipRounds'], \\\n",
    "         _cct['championshipEntries']) = getChampionship(category=category,\n",
    "                                                        typ=typ, season_external_id=season_external_id)"
   ]
  },
  {
   "cell_type": "code",
   "execution_count": 167,
   "metadata": {
    "tags": [
     "active-ipynb"
    ]
   },
   "outputs": [],
   "source": [
    "zz = WRCChampionship()\n",
    "zz.fetchChampionship()"
   ]
  },
  {
   "cell_type": "code",
   "execution_count": 168,
   "metadata": {},
   "outputs": [],
   "source": [
    "class WRCChampionshipStandings(WRCSeasonCategories):       \n",
    "    \"\"\"Standings for a championship.\"\"\"\n",
    "    def __init__(self, category='WRC', typ='drivers',\n",
    "                 season_external_id = None,\n",
    "                 autoseed=False, nowarn=True ):\n",
    "        WRCSeasonCategories.__init__(self, autoseed=False, nowarn=True)\n",
    "        \n",
    "        self.championship_standings = {}\n",
    "        \n",
    "        if autoseed:\n",
    "            fetchChampionshipStandings(self,category=category, typ=typ,\n",
    "                                       season_external_id=season_external_id)\n",
    "            \n",
    "        \n",
    "    def fetchChampionshipStandings(self, category='WRC',typ='drivers', season_external_id=None):\n",
    "        self._check_season_external_id(season_external_id)\n",
    "        _c = self.championship_standings\n",
    "        if category not in _c:\n",
    "            _c[category] = {}\n",
    "        _cc = _c[category]\n",
    "        if typ not in _cc:\n",
    "            _cc[typ] =  {}\n",
    "        _cct = _cc[typ]\n",
    "        (_cct['championship_standings'], \\\n",
    "         _cct['round_results']) = getChampionshipStandings(category=category,\n",
    "                                                           typ=typ, season_external_id=season_external_id)"
   ]
  },
  {
   "cell_type": "code",
   "execution_count": 169,
   "metadata": {
    "tags": [
     "active-ipynb"
    ]
   },
   "outputs": [
    {
     "data": {
      "text/plain": [
       "{'JWRC': {'drivers': {'championship_standings': Empty DataFrame\n",
       "   Columns: [championshipId]\n",
       "   Index: [], 'round_results': Empty DataFrame\n",
       "   Columns: []\n",
       "   Index: []}},\n",
       " 'WRC': {'drivers': {'championship_standings':     championshipEntryId  overallPosition  overallPoints championshipId\n",
       "   0                   751                1             30             37\n",
       "   1                   757                2             22             37\n",
       "   2                   753                3             17             37\n",
       "   3                   758                4             13             37\n",
       "   4                   760                5             10             37\n",
       "   5                   761                6              8             37\n",
       "   6                   765                7              7             37\n",
       "   7                   762                8              6             37\n",
       "   8                   764                9              2             37\n",
       "   9                   766               10              1             37\n",
       "   10                  787               11              0             37\n",
       "   11                  788               12              0             37,\n",
       "   'round_results':     championshipEntryId  championshipId  eventId position  totalPoints  \\\n",
       "   0                   751              37      124        1           30   \n",
       "   1                   757              37      124        2           22   \n",
       "   2                   753              37      124        3           17   \n",
       "   3                   758              37      124        4           13   \n",
       "   4                   760              37      124        5           10   \n",
       "   5                   761              37      124        6            8   \n",
       "   6                   765              37      124        8            7   \n",
       "   7                   762              37      124        7            6   \n",
       "   8                   764              37      124        9            2   \n",
       "   9                   766              37      124       10            1   \n",
       "   10                  787              37      124        R            0   \n",
       "   11                  788              37      124       63            0   \n",
       "   \n",
       "      pointsBreakdown  dropped           status publishedStatus  \n",
       "   0           25 + 5    False         Finished       Published  \n",
       "   1           18 + 4    False         Finished       Published  \n",
       "   2           15 + 2    False         Finished       Published  \n",
       "   3           12 + 1    False         Finished       Published  \n",
       "   4               10    False         Finished       Published  \n",
       "   5                8    False         Finished       Published  \n",
       "   6            4 + 3    False         Finished       Published  \n",
       "   7                6    False         Finished       Published  \n",
       "   8                2    False         Finished       Published  \n",
       "   9                1    False         Finished       Published  \n",
       "   10               0    False  RetiredAccident       Published  \n",
       "   11               0    False         Finished       Published  }}}"
      ]
     },
     "execution_count": 169,
     "metadata": {},
     "output_type": "execute_result"
    }
   ],
   "source": [
    "zz = WRCChampionshipStandings()\n",
    "zz.fetchChampionshipStandings('JWRC')\n",
    "zz.fetchChampionshipStandings('WRC')\n",
    "zz.championship_standings"
   ]
  },
  {
   "cell_type": "code",
   "execution_count": null,
   "metadata": {},
   "outputs": [],
   "source": []
  },
  {
   "cell_type": "code",
   "execution_count": 16,
   "metadata": {},
   "outputs": [],
   "source": [
    "# TO DO - need a more general season events class?\n",
    "# If, that is, we can we look up arbitrary season events...\n",
    "class WRCActiveSeasonEvents:\n",
    "    \"\"\"Class for Season events.\"\"\"\n",
    "    def __init__(self, autoseed=False):\n",
    "        \n",
    "        if autoseed:\n",
    "            self.fetchActiveSeasonEvents()\n",
    "            \n",
    "    def fetchActiveSeasonEvents(self):\n",
    "        self.current_season_events, self.eventdays, self.eventchannel = getActiveSeasonEvents()\n"
   ]
  },
  {
   "cell_type": "code",
   "execution_count": 17,
   "metadata": {
    "tags": [
     "active-ipynb"
    ]
   },
   "outputs": [
    {
     "data": {
      "text/html": [
       "<div>\n",
       "<style scoped>\n",
       "    .dataframe tbody tr th:only-of-type {\n",
       "        vertical-align: middle;\n",
       "    }\n",
       "\n",
       "    .dataframe tbody tr th {\n",
       "        vertical-align: top;\n",
       "    }\n",
       "\n",
       "    .dataframe thead th {\n",
       "        text-align: right;\n",
       "    }\n",
       "</style>\n",
       "<table border=\"1\" class=\"dataframe\">\n",
       "  <thead>\n",
       "    <tr style=\"text-align: right;\">\n",
       "      <th></th>\n",
       "      <th>id</th>\n",
       "      <th>name</th>\n",
       "      <th>externalIdRally</th>\n",
       "      <th>externalIdEvent</th>\n",
       "      <th>timezone</th>\n",
       "      <th>active</th>\n",
       "      <th>countdown</th>\n",
       "      <th>jwrc</th>\n",
       "      <th>images.format16x9.320x180</th>\n",
       "      <th>images.format16x9.160x90</th>\n",
       "      <th>...</th>\n",
       "      <th>winner.birthDate</th>\n",
       "      <th>winner.birthPlace</th>\n",
       "      <th>winner.debutDate</th>\n",
       "      <th>winner.debutPlace</th>\n",
       "      <th>winner.website</th>\n",
       "      <th>winner.driverImageFormats</th>\n",
       "      <th>winner.externalId</th>\n",
       "      <th>winner.page</th>\n",
       "      <th>winner</th>\n",
       "      <th>seasonYear</th>\n",
       "    </tr>\n",
       "  </thead>\n",
       "  <tbody>\n",
       "    <tr>\n",
       "      <th>0</th>\n",
       "      <td>100</td>\n",
       "      <td>Rallye Monte Carlo</td>\n",
       "      <td>153</td>\n",
       "      <td>124</td>\n",
       "      <td>1</td>\n",
       "      <td>True</td>\n",
       "      <td>False</td>\n",
       "      <td>False</td>\n",
       "      <td>https://www.wrc.com/images/redaktion/Web-2020/...</td>\n",
       "      <td>https://www.wrc.com/images/redaktion/Web-2020/...</td>\n",
       "      <td>...</td>\n",
       "      <td>1988-06-16</td>\n",
       "      <td>Belgium</td>\n",
       "      <td>2009-01-12</td>\n",
       "      <td>Rally de Portugal</td>\n",
       "      <td>https://www.thierryneuville.com/</td>\n",
       "      <td>[{'id': 6, 'title': 'Format 16:9', 'imageForma...</td>\n",
       "      <td>762.0</td>\n",
       "      <td>NaN</td>\n",
       "      <td>NaN</td>\n",
       "      <td>2020</td>\n",
       "    </tr>\n",
       "    <tr>\n",
       "      <th>1</th>\n",
       "      <td>102</td>\n",
       "      <td>Rally Sweden</td>\n",
       "      <td>154</td>\n",
       "      <td>125</td>\n",
       "      <td>2</td>\n",
       "      <td>False</td>\n",
       "      <td>False</td>\n",
       "      <td>True</td>\n",
       "      <td>https://www.wrc.com/images/redaktion/Web-2020/...</td>\n",
       "      <td>https://www.wrc.com/images/redaktion/Web-2020/...</td>\n",
       "      <td>...</td>\n",
       "      <td>NaN</td>\n",
       "      <td>NaN</td>\n",
       "      <td>NaN</td>\n",
       "      <td>NaN</td>\n",
       "      <td>NaN</td>\n",
       "      <td>NaN</td>\n",
       "      <td>NaN</td>\n",
       "      <td>NaN</td>\n",
       "      <td>NaN</td>\n",
       "      <td>2020</td>\n",
       "    </tr>\n",
       "    <tr>\n",
       "      <th>2</th>\n",
       "      <td>107</td>\n",
       "      <td>Rally Guanajuato Mexico</td>\n",
       "      <td>155</td>\n",
       "      <td>126</td>\n",
       "      <td>-6</td>\n",
       "      <td>False</td>\n",
       "      <td>False</td>\n",
       "      <td>False</td>\n",
       "      <td>https://www.wrc.com/images/redaktion/Web-2020/...</td>\n",
       "      <td>https://www.wrc.com/images/redaktion/Web-2020/...</td>\n",
       "      <td>...</td>\n",
       "      <td>NaN</td>\n",
       "      <td>NaN</td>\n",
       "      <td>NaN</td>\n",
       "      <td>NaN</td>\n",
       "      <td>NaN</td>\n",
       "      <td>NaN</td>\n",
       "      <td>NaN</td>\n",
       "      <td>NaN</td>\n",
       "      <td>NaN</td>\n",
       "      <td>2020</td>\n",
       "    </tr>\n",
       "    <tr>\n",
       "      <th>3</th>\n",
       "      <td>114</td>\n",
       "      <td>Rally Argentina</td>\n",
       "      <td>156</td>\n",
       "      <td>127</td>\n",
       "      <td>-3</td>\n",
       "      <td>False</td>\n",
       "      <td>False</td>\n",
       "      <td>False</td>\n",
       "      <td>https://www.wrc.com/images/redaktion/Web-2020/...</td>\n",
       "      <td>https://www.wrc.com/images/redaktion/Web-2020/...</td>\n",
       "      <td>...</td>\n",
       "      <td>NaN</td>\n",
       "      <td>NaN</td>\n",
       "      <td>NaN</td>\n",
       "      <td>NaN</td>\n",
       "      <td>NaN</td>\n",
       "      <td>NaN</td>\n",
       "      <td>NaN</td>\n",
       "      <td>NaN</td>\n",
       "      <td>NaN</td>\n",
       "      <td>2020</td>\n",
       "    </tr>\n",
       "    <tr>\n",
       "      <th>4</th>\n",
       "      <td>116</td>\n",
       "      <td>Rally de Portugal</td>\n",
       "      <td>157</td>\n",
       "      <td>128</td>\n",
       "      <td>1</td>\n",
       "      <td>False</td>\n",
       "      <td>False</td>\n",
       "      <td>False</td>\n",
       "      <td>https://www.wrc.com/images/redaktion/Web-2020/...</td>\n",
       "      <td>https://www.wrc.com/images/redaktion/Web-2020/...</td>\n",
       "      <td>...</td>\n",
       "      <td>NaN</td>\n",
       "      <td>NaN</td>\n",
       "      <td>NaN</td>\n",
       "      <td>NaN</td>\n",
       "      <td>NaN</td>\n",
       "      <td>NaN</td>\n",
       "      <td>NaN</td>\n",
       "      <td>NaN</td>\n",
       "      <td>NaN</td>\n",
       "      <td>2020</td>\n",
       "    </tr>\n",
       "  </tbody>\n",
       "</table>\n",
       "<p>5 rows × 53 columns</p>\n",
       "</div>"
      ],
      "text/plain": [
       "    id                     name  externalIdRally  externalIdEvent timezone  \\\n",
       "0  100       Rallye Monte Carlo              153              124        1   \n",
       "1  102             Rally Sweden              154              125        2   \n",
       "2  107  Rally Guanajuato Mexico              155              126       -6   \n",
       "3  114         Rally Argentina               156              127       -3   \n",
       "4  116        Rally de Portugal              157              128        1   \n",
       "\n",
       "   active  countdown   jwrc  \\\n",
       "0    True      False  False   \n",
       "1   False      False   True   \n",
       "2   False      False  False   \n",
       "3   False      False  False   \n",
       "4   False      False  False   \n",
       "\n",
       "                           images.format16x9.320x180  \\\n",
       "0  https://www.wrc.com/images/redaktion/Web-2020/...   \n",
       "1  https://www.wrc.com/images/redaktion/Web-2020/...   \n",
       "2  https://www.wrc.com/images/redaktion/Web-2020/...   \n",
       "3  https://www.wrc.com/images/redaktion/Web-2020/...   \n",
       "4  https://www.wrc.com/images/redaktion/Web-2020/...   \n",
       "\n",
       "                            images.format16x9.160x90  ... winner.birthDate  \\\n",
       "0  https://www.wrc.com/images/redaktion/Web-2020/...  ...       1988-06-16   \n",
       "1  https://www.wrc.com/images/redaktion/Web-2020/...  ...              NaN   \n",
       "2  https://www.wrc.com/images/redaktion/Web-2020/...  ...              NaN   \n",
       "3  https://www.wrc.com/images/redaktion/Web-2020/...  ...              NaN   \n",
       "4  https://www.wrc.com/images/redaktion/Web-2020/...  ...              NaN   \n",
       "\n",
       "   winner.birthPlace  winner.debutDate  winner.debutPlace  \\\n",
       "0            Belgium        2009-01-12  Rally de Portugal   \n",
       "1                NaN               NaN                NaN   \n",
       "2                NaN               NaN                NaN   \n",
       "3                NaN               NaN                NaN   \n",
       "4                NaN               NaN                NaN   \n",
       "\n",
       "                     winner.website  \\\n",
       "0  https://www.thierryneuville.com/   \n",
       "1                               NaN   \n",
       "2                               NaN   \n",
       "3                               NaN   \n",
       "4                               NaN   \n",
       "\n",
       "                           winner.driverImageFormats winner.externalId  \\\n",
       "0  [{'id': 6, 'title': 'Format 16:9', 'imageForma...             762.0   \n",
       "1                                                NaN               NaN   \n",
       "2                                                NaN               NaN   \n",
       "3                                                NaN               NaN   \n",
       "4                                                NaN               NaN   \n",
       "\n",
       "   winner.page winner  seasonYear  \n",
       "0          NaN    NaN        2020  \n",
       "1          NaN    NaN        2020  \n",
       "2          NaN    NaN        2020  \n",
       "3          NaN    NaN        2020  \n",
       "4          NaN    NaN        2020  \n",
       "\n",
       "[5 rows x 53 columns]"
      ]
     },
     "execution_count": 17,
     "metadata": {},
     "output_type": "execute_result"
    }
   ],
   "source": [
    "WRCActiveSeasonEvents(autoseed=True).current_season_events.head()"
   ]
  },
  {
   "cell_type": "code",
   "execution_count": 18,
   "metadata": {},
   "outputs": [],
   "source": [
    "class WRCRally_sdb(WRCBase):\n",
    "    \"\"\"Base class for things with an sdbRallyId.\n",
    "       Can also help find an active sdbRallyId\"\"\"\n",
    "    def __init__(self, sdbRallyId=None,\n",
    "                 autoseed=False, nowarn=True,):\n",
    "        WRCBase.__init__(self, nowarn=nowarn)\n",
    "        \n",
    "        self.warner(not sdbRallyId, \"sdbRallyId should really be set...\")\n",
    "        \n",
    "        self.sdbRallyId = _jsInt(sdbRallyId)\n",
    "        \n",
    "        if autoseed:\n",
    "            self._checkRallyId(sdbRallyId)\n",
    "    \n",
    "    def _checkRallyId(self, sdbRallyId=None):\n",
    "        \"\"\"Return a rally ID or lookup active one.\"\"\"\n",
    "        \n",
    "        sdbRallyId = _jsInt(sdbRallyId) or self.sdbRallyId\n",
    "        if not hasattr(self, 'sdbRallyId') or not self.sdbRallyId:\n",
    "            self.activerally = WRCActiveRally()\n",
    "            self.sdbRallyId = self.activerally.sdbRallyId\n",
    "            self.name = self.activerally.name\n",
    "        return self.sdbRallyId"
   ]
  },
  {
   "cell_type": "code",
   "execution_count": 19,
   "metadata": {
    "tags": [
     "active-ipynb"
    ]
   },
   "outputs": [
    {
     "name": "stderr",
     "output_type": "stream",
     "text": [
      "/usr/local/lib/python3.7/site-packages/ipykernel_launcher.py:28: UserWarning: sdbRallyId should really be set...\n",
      "  File \"<ipython-input-19-8e2761af82a9>\", line 1, in <module>\n",
      "    WRCRally_sdb(nowarn=False).nowarn\n",
      "  File \"<ipython-input-18-5d48992a5f96>\", line 8, in __init__\n",
      "    self.warner(not sdbRallyId, \"sdbRallyId should really be set...\")\n",
      "  File \"<ipython-input-6-e04c1be6ee32>\", line 28, in warner\n",
      "    warnings.warn(msg)\n"
     ]
    }
   ],
   "source": [
    "WRCRally_sdb(nowarn=False).nowarn"
   ]
  },
  {
   "cell_type": "code",
   "execution_count": 20,
   "metadata": {},
   "outputs": [],
   "source": [
    "class WRCLive(WRCBase):\n",
    "    \"\"\"Base class for live rallies.\"\"\"\n",
    "    def __init__(self, live=False):\n",
    "        WRCBase.__init__(self)\n",
    "        \n",
    "        self.live = live"
   ]
  },
  {
   "cell_type": "code",
   "execution_count": 21,
   "metadata": {},
   "outputs": [],
   "source": [
    "class WRCActiveRally(WRCRally_sdb, WRCLive):\n",
    "    \"\"\"Class for the active rally.\"\"\"\n",
    "    def __init__(self, live=False ):\n",
    "        WRCRally_sdb.__init__(self, nowarn=True)\n",
    "        WRCLive.__init__(self, live=live)\n",
    "\n",
    "        self.fetchData()\n",
    "        \n",
    "    def fetchData(self):\n",
    "        event, days, channels = getActiveRally()\n",
    "        self.event, self.days, self.channels = event, days, channels\n",
    "\n",
    "        #np.int64 is not JSON serialisable\n",
    "        self.sdbRallyId = int(event.loc[0,'id'])\n",
    "\n",
    "        self.name = event.loc[0,'name']"
   ]
  },
  {
   "cell_type": "code",
   "execution_count": 191,
   "metadata": {
    "tags": [
     "active-ipynb"
    ]
   },
   "outputs": [
    {
     "data": {
      "text/plain": [
       "100"
      ]
     },
     "execution_count": 191,
     "metadata": {},
     "output_type": "execute_result"
    }
   ],
   "source": [
    "WRCActiveRally().sdbRallyId"
   ]
  },
  {
   "cell_type": "code",
   "execution_count": 23,
   "metadata": {
    "tags": [
     "active-ipynb"
    ]
   },
   "outputs": [
    {
     "name": "stdout",
     "output_type": "stream",
     "text": [
      "100\n"
     ]
    }
   ],
   "source": [
    "zz = WRCRally_sdb(autoseed=True)\n",
    "print(zz.sdbRallyId)"
   ]
  },
  {
   "cell_type": "markdown",
   "metadata": {},
   "source": [
    "We use the `.fetchData()` method so as to ry not to be greedy. This way, we can define a class and start to work towards only grabbling the data if we need it."
   ]
  },
  {
   "cell_type": "code",
   "execution_count": 24,
   "metadata": {},
   "outputs": [],
   "source": [
    "class WRCRetirements(WRCRally_sdb):\n",
    "    \"\"\"Callable class for retirements\"\"\"\n",
    "    def __init__(self, sdbRallyId=None, live=False, autoseed=False):\n",
    "        \"\"\"Initialise retirements class.\"\"\"\n",
    "        WRCRally_sdb.__init__(self, sdbRallyId=sdbRallyId, autoseed=autoseed)\n",
    "            \n",
    "        self.retirements=None\n",
    "        \n",
    "        if self.sdbRallyId:\n",
    "            self.fetchRetirements(self.sdbRallyId)\n",
    "        \n",
    "    def fetchRetirements(self, sdbRallyId=None):\n",
    "        \"\"\"Fetch the data from WRC API.\"\"\"\n",
    "        self._checkRallyId(sdbRallyId)\n",
    "        self.retirements = getRetirements(self.sdbRallyId)\n",
    "    \n",
    "    def __call__(self):\n",
    "        return self.retirements"
   ]
  },
  {
   "cell_type": "code",
   "execution_count": 25,
   "metadata": {
    "tags": [
     "active-ipynb"
    ]
   },
   "outputs": [
    {
     "data": {
      "text/html": [
       "<div>\n",
       "<style scoped>\n",
       "    .dataframe tbody tr th:only-of-type {\n",
       "        vertical-align: middle;\n",
       "    }\n",
       "\n",
       "    .dataframe tbody tr th {\n",
       "        vertical-align: top;\n",
       "    }\n",
       "\n",
       "    .dataframe thead th {\n",
       "        text-align: right;\n",
       "    }\n",
       "</style>\n",
       "<table border=\"1\" class=\"dataframe\">\n",
       "  <thead>\n",
       "    <tr style=\"text-align: right;\">\n",
       "      <th></th>\n",
       "      <th>retirementId</th>\n",
       "      <th>controlId</th>\n",
       "      <th>entryId</th>\n",
       "      <th>reason</th>\n",
       "      <th>retirementDateTime</th>\n",
       "      <th>retirementDateTimeLocal</th>\n",
       "      <th>status</th>\n",
       "    </tr>\n",
       "  </thead>\n",
       "  <tbody>\n",
       "    <tr>\n",
       "      <th>0</th>\n",
       "      <td>1475</td>\n",
       "      <td>6591</td>\n",
       "      <td>20710</td>\n",
       "      <td>OFF ROAD</td>\n",
       "      <td>2020-01-23T20:40:00Z</td>\n",
       "      <td>0001-01-01T00:00:00+00:00</td>\n",
       "      <td>Temporary</td>\n",
       "    </tr>\n",
       "    <tr>\n",
       "      <th>1</th>\n",
       "      <td>1476</td>\n",
       "      <td>6588</td>\n",
       "      <td>20687</td>\n",
       "      <td>MECHANICAL</td>\n",
       "      <td>2020-01-23T21:57:00Z</td>\n",
       "      <td>0001-01-01T00:00:00+00:00</td>\n",
       "      <td>Temporary</td>\n",
       "    </tr>\n",
       "    <tr>\n",
       "      <th>2</th>\n",
       "      <td>1477</td>\n",
       "      <td>6591</td>\n",
       "      <td>20750</td>\n",
       "      <td>OFF ROAD</td>\n",
       "      <td>2020-01-23T22:51:00Z</td>\n",
       "      <td>0001-01-01T00:00:00+00:00</td>\n",
       "      <td>Permanent</td>\n",
       "    </tr>\n",
       "  </tbody>\n",
       "</table>\n",
       "</div>"
      ],
      "text/plain": [
       "   retirementId  controlId  entryId      reason    retirementDateTime  \\\n",
       "0          1475       6591    20710    OFF ROAD  2020-01-23T20:40:00Z   \n",
       "1          1476       6588    20687  MECHANICAL  2020-01-23T21:57:00Z   \n",
       "2          1477       6591    20750    OFF ROAD  2020-01-23T22:51:00Z   \n",
       "\n",
       "     retirementDateTimeLocal     status  \n",
       "0  0001-01-01T00:00:00+00:00  Temporary  \n",
       "1  0001-01-01T00:00:00+00:00  Temporary  \n",
       "2  0001-01-01T00:00:00+00:00  Permanent  "
      ]
     },
     "execution_count": 25,
     "metadata": {},
     "output_type": "execute_result"
    }
   ],
   "source": [
    "zz=WRCRetirements(autoseed=True)\n",
    "zz.retirements.head(3)"
   ]
  },
  {
   "cell_type": "code",
   "execution_count": 26,
   "metadata": {},
   "outputs": [],
   "source": [
    "class WRCPenalties(WRCRally_sdb):\n",
    "    \"\"\"Callable class for penalties.\"\"\"\n",
    "    def __init__(self, sdbRallyId=None, live=False, autoseed=False):\n",
    "        \"\"\"Initialise penalties class.\"\"\"\n",
    "        WRCRally_sdb.__init__(self, sdbRallyId=sdbRallyId, autoseed=autoseed)\n",
    "            \n",
    "        self.penalties=None\n",
    "        \n",
    "        if self.sdbRallyId:\n",
    "            self.fetchPenalties(self.sdbRallyId)\n",
    "\n",
    "    \n",
    "    def fetchPenalties(self, sdbRallyId=None):\n",
    "        \"\"\"Fetch the data from WRC API.\"\"\"\n",
    "        self._checkRallyId(sdbRallyId)\n",
    "        self.penalties = getPenalties(self.sdbRallyId)\n",
    "    \n",
    "    def __call__(self):\n",
    "        return self.penalties"
   ]
  },
  {
   "cell_type": "code",
   "execution_count": 27,
   "metadata": {
    "tags": [
     "active-ipynb"
    ]
   },
   "outputs": [
    {
     "data": {
      "text/html": [
       "<div>\n",
       "<style scoped>\n",
       "    .dataframe tbody tr th:only-of-type {\n",
       "        vertical-align: middle;\n",
       "    }\n",
       "\n",
       "    .dataframe tbody tr th {\n",
       "        vertical-align: top;\n",
       "    }\n",
       "\n",
       "    .dataframe thead th {\n",
       "        text-align: right;\n",
       "    }\n",
       "</style>\n",
       "<table border=\"1\" class=\"dataframe\">\n",
       "  <thead>\n",
       "    <tr style=\"text-align: right;\">\n",
       "      <th></th>\n",
       "      <th>penaltyId</th>\n",
       "      <th>controlId</th>\n",
       "      <th>entryId</th>\n",
       "      <th>penaltyDurationMs</th>\n",
       "      <th>penaltyDuration</th>\n",
       "      <th>reason</th>\n",
       "    </tr>\n",
       "  </thead>\n",
       "  <tbody>\n",
       "    <tr>\n",
       "      <th>0</th>\n",
       "      <td>725</td>\n",
       "      <td>6592</td>\n",
       "      <td>20730</td>\n",
       "      <td>10000</td>\n",
       "      <td>PT10S</td>\n",
       "      <td>FALSE START</td>\n",
       "    </tr>\n",
       "    <tr>\n",
       "      <th>1</th>\n",
       "      <td>726</td>\n",
       "      <td>6592</td>\n",
       "      <td>20753</td>\n",
       "      <td>10000</td>\n",
       "      <td>PT10S</td>\n",
       "      <td>FALSE START</td>\n",
       "    </tr>\n",
       "    <tr>\n",
       "      <th>2</th>\n",
       "      <td>727</td>\n",
       "      <td>6590</td>\n",
       "      <td>20760</td>\n",
       "      <td>10000</td>\n",
       "      <td>PT10S</td>\n",
       "      <td>1 MIN LATE</td>\n",
       "    </tr>\n",
       "  </tbody>\n",
       "</table>\n",
       "</div>"
      ],
      "text/plain": [
       "   penaltyId  controlId  entryId  penaltyDurationMs penaltyDuration  \\\n",
       "0        725       6592    20730              10000           PT10S   \n",
       "1        726       6592    20753              10000           PT10S   \n",
       "2        727       6590    20760              10000           PT10S   \n",
       "\n",
       "        reason  \n",
       "0  FALSE START  \n",
       "1  FALSE START  \n",
       "2   1 MIN LATE  "
      ]
     },
     "execution_count": 27,
     "metadata": {},
     "output_type": "execute_result"
    }
   ],
   "source": [
    "zz=WRCPenalties(autoseed=True)\n",
    "zz.penalties.head(3)"
   ]
  },
  {
   "cell_type": "code",
   "execution_count": 31,
   "metadata": {},
   "outputs": [],
   "source": [
    "class WRCStagewinners(WRCRally_sdb):\n",
    "    \"\"\"Callable class for penalties.\"\"\"\n",
    "    def __init__(self, sdbRallyId=None, live=False, autoseed=False):\n",
    "        \"\"\"Initialise penalties class.\"\"\"\n",
    "        WRCRally_sdb.__init__(self, sdbRallyId=sdbRallyId, autoseed=autoseed)\n",
    "            \n",
    "        self.stagewinners=None\n",
    "        \n",
    "        if self.sdbRallyId:\n",
    "            self.fetchStagewinners(self.sdbRallyId)\n",
    "\n",
    "    \n",
    "    def fetchStagewinners(self, sdbRallyId=None):\n",
    "        \"\"\"Fetch the data from WRC API.\"\"\"\n",
    "        self._checkRallyId(sdbRallyId)\n",
    "        self.stagewinners = getStagewinners(self.sdbRallyId)\n",
    "    \n",
    "    def __call__(self):\n",
    "        return self.stagewinners"
   ]
  },
  {
   "cell_type": "code",
   "execution_count": 34,
   "metadata": {
    "tags": [
     "active-ipynb"
    ]
   },
   "outputs": [
    {
     "data": {
      "text/html": [
       "<div>\n",
       "<style scoped>\n",
       "    .dataframe tbody tr th:only-of-type {\n",
       "        vertical-align: middle;\n",
       "    }\n",
       "\n",
       "    .dataframe tbody tr th {\n",
       "        vertical-align: top;\n",
       "    }\n",
       "\n",
       "    .dataframe thead th {\n",
       "        text-align: right;\n",
       "    }\n",
       "</style>\n",
       "<table border=\"1\" class=\"dataframe\">\n",
       "  <thead>\n",
       "    <tr style=\"text-align: right;\">\n",
       "      <th></th>\n",
       "      <th>stageId</th>\n",
       "      <th>entryId</th>\n",
       "      <th>stageName</th>\n",
       "      <th>elapsedDurationMs</th>\n",
       "      <th>elapsedDuration</th>\n",
       "    </tr>\n",
       "  </thead>\n",
       "  <tbody>\n",
       "    <tr>\n",
       "      <th>0</th>\n",
       "      <td>1538</td>\n",
       "      <td>20684</td>\n",
       "      <td>Bayons - Bréziers</td>\n",
       "      <td>983700</td>\n",
       "      <td>00:16:23.7000000</td>\n",
       "    </tr>\n",
       "    <tr>\n",
       "      <th>1</th>\n",
       "      <td>1528</td>\n",
       "      <td>20685</td>\n",
       "      <td>Malijai - Puimichel (Live TV)</td>\n",
       "      <td>593400</td>\n",
       "      <td>00:09:53.4000000</td>\n",
       "    </tr>\n",
       "    <tr>\n",
       "      <th>2</th>\n",
       "      <td>1533</td>\n",
       "      <td>20686</td>\n",
       "      <td>Curbans - Venterol 1</td>\n",
       "      <td>802000</td>\n",
       "      <td>00:13:22</td>\n",
       "    </tr>\n",
       "    <tr>\n",
       "      <th>3</th>\n",
       "      <td>1534</td>\n",
       "      <td>20686</td>\n",
       "      <td>Saint-Clément - Freissinières 1</td>\n",
       "      <td>703300</td>\n",
       "      <td>00:11:43.3000000</td>\n",
       "    </tr>\n",
       "    <tr>\n",
       "      <th>4</th>\n",
       "      <td>1535</td>\n",
       "      <td>20686</td>\n",
       "      <td>Avançon - Notre-Dame-du-Laus 1</td>\n",
       "      <td>780700</td>\n",
       "      <td>00:13:00.7000000</td>\n",
       "    </tr>\n",
       "  </tbody>\n",
       "</table>\n",
       "</div>"
      ],
      "text/plain": [
       "   stageId  entryId                        stageName  elapsedDurationMs  \\\n",
       "0     1538    20684                Bayons - Bréziers             983700   \n",
       "1     1528    20685    Malijai - Puimichel (Live TV)             593400   \n",
       "2     1533    20686             Curbans - Venterol 1             802000   \n",
       "3     1534    20686  Saint-Clément - Freissinières 1             703300   \n",
       "4     1535    20686   Avançon - Notre-Dame-du-Laus 1             780700   \n",
       "\n",
       "    elapsedDuration  \n",
       "0  00:16:23.7000000  \n",
       "1  00:09:53.4000000  \n",
       "2          00:13:22  \n",
       "3  00:11:43.3000000  \n",
       "4  00:13:00.7000000  "
      ]
     },
     "execution_count": 34,
     "metadata": {},
     "output_type": "execute_result"
    }
   ],
   "source": [
    "zz=WRCStagewinners()\n",
    "zz.fetchStagewinners()\n",
    "zz.stagewinners.head()"
   ]
  },
  {
   "cell_type": "code",
   "execution_count": 19,
   "metadata": {},
   "outputs": [
    {
     "data": {
      "text/html": [
       "<div>\n",
       "<style scoped>\n",
       "    .dataframe tbody tr th:only-of-type {\n",
       "        vertical-align: middle;\n",
       "    }\n",
       "\n",
       "    .dataframe tbody tr th {\n",
       "        vertical-align: top;\n",
       "    }\n",
       "\n",
       "    .dataframe thead th {\n",
       "        text-align: right;\n",
       "    }\n",
       "</style>\n",
       "<table border=\"1\" class=\"dataframe\">\n",
       "  <thead>\n",
       "    <tr style=\"text-align: right;\">\n",
       "      <th></th>\n",
       "      <th>penaltyId</th>\n",
       "      <th>controlId</th>\n",
       "      <th>entryId</th>\n",
       "      <th>penaltyDurationMs</th>\n",
       "      <th>penaltyDuration</th>\n",
       "      <th>reason</th>\n",
       "    </tr>\n",
       "  </thead>\n",
       "  <tbody>\n",
       "    <tr>\n",
       "      <th>0</th>\n",
       "      <td>725</td>\n",
       "      <td>6592</td>\n",
       "      <td>20730</td>\n",
       "      <td>10000</td>\n",
       "      <td>PT10S</td>\n",
       "      <td>FALSE START</td>\n",
       "    </tr>\n",
       "    <tr>\n",
       "      <th>1</th>\n",
       "      <td>726</td>\n",
       "      <td>6592</td>\n",
       "      <td>20753</td>\n",
       "      <td>10000</td>\n",
       "      <td>PT10S</td>\n",
       "      <td>FALSE START</td>\n",
       "    </tr>\n",
       "  </tbody>\n",
       "</table>\n",
       "</div>"
      ],
      "text/plain": [
       "   penaltyId  controlId  entryId  penaltyDurationMs penaltyDuration  \\\n",
       "0        725       6592    20730              10000           PT10S   \n",
       "1        726       6592    20753              10000           PT10S   \n",
       "\n",
       "        reason  \n",
       "0  FALSE START  \n",
       "1  FALSE START  "
      ]
     },
     "execution_count": 19,
     "metadata": {},
     "output_type": "execute_result"
    }
   ],
   "source": []
  },
  {
   "cell_type": "code",
   "execution_count": 36,
   "metadata": {},
   "outputs": [],
   "source": [
    "class WRCItinerary(WRCRally_sdb, WRCLive):\n",
    "    \"\"\"Class for WRC2020 Itinerary.\"\"\"\n",
    "    def __init__(self, sdbRallyId=None, live=False, autoseed=False):\n",
    "        \"\"\"Initialise itinerary class.\"\"\"\n",
    "        WRCRally_sdb.__init__(self, sdbRallyId=sdbRallyId, autoseed=autoseed)\n",
    "        WRCLive.__init__(self, live=live)\n",
    "        \n",
    "        self.itinerary=None\n",
    "        self.legs=None\n",
    "        self.sections=None\n",
    "        self.controls=None\n",
    "        self.stages=None\n",
    "        \n",
    "        if self.sdbRallyId:\n",
    "            self.fetchItinerary(sdbRallyId)\n",
    "    \n",
    "    def _checkItinerary(self):\n",
    "        \"\"\"Check itinerary.\n",
    "           If rally not known, use active rally.\n",
    "           Also set a default startListId.\"\"\"\n",
    "        \n",
    "        _itinerary_items = ['itinerary', 'legs', 'sections', 'controls', 'stages']\n",
    "        if not any([hasattr(self, i) for i in _itinerary_items]):\n",
    "            self.fetchItinerary()\n",
    "\n",
    "    \n",
    "    def fetchItinerary(self, sdbRallyId=None):\n",
    "        \"\"\"Fetch the data from WRC API.\"\"\"\n",
    "        self._checkRallyId(sdbRallyId)\n",
    "        self._checkItinerary()\n",
    "        self.itinerary, self.legs, self.sections, self.controls, self.stages = getItinerary(self.sdbRallyId)\n",
    "        "
   ]
  },
  {
   "cell_type": "code",
   "execution_count": 37,
   "metadata": {
    "tags": [
     "active-ipynb"
    ]
   },
   "outputs": [
    {
     "name": "stdout",
     "output_type": "stream",
     "text": [
      "100\n"
     ]
    }
   ],
   "source": [
    "print(WRCItinerary(autoseed=True).sdbRallyId)"
   ]
  },
  {
   "cell_type": "code",
   "execution_count": 38,
   "metadata": {
    "tags": [
     "active-ipynb"
    ]
   },
   "outputs": [
    {
     "data": {
      "text/html": [
       "<div>\n",
       "<style scoped>\n",
       "    .dataframe tbody tr th:only-of-type {\n",
       "        vertical-align: middle;\n",
       "    }\n",
       "\n",
       "    .dataframe tbody tr th {\n",
       "        vertical-align: top;\n",
       "    }\n",
       "\n",
       "    .dataframe thead th {\n",
       "        text-align: right;\n",
       "    }\n",
       "</style>\n",
       "<table border=\"1\" class=\"dataframe\">\n",
       "  <thead>\n",
       "    <tr style=\"text-align: right;\">\n",
       "      <th></th>\n",
       "      <th>itineraryLegId</th>\n",
       "      <th>itineraryId</th>\n",
       "      <th>startListId</th>\n",
       "      <th>name</th>\n",
       "      <th>legDate</th>\n",
       "      <th>order</th>\n",
       "      <th>status</th>\n",
       "    </tr>\n",
       "  </thead>\n",
       "  <tbody>\n",
       "    <tr>\n",
       "      <th>0</th>\n",
       "      <td>273</td>\n",
       "      <td>240</td>\n",
       "      <td>451</td>\n",
       "      <td>Thursday 23rd January</td>\n",
       "      <td>2020-01-23</td>\n",
       "      <td>1</td>\n",
       "      <td>Completed</td>\n",
       "    </tr>\n",
       "    <tr>\n",
       "      <th>1</th>\n",
       "      <td>272</td>\n",
       "      <td>240</td>\n",
       "      <td>452</td>\n",
       "      <td>Friday 24th January</td>\n",
       "      <td>2020-01-24</td>\n",
       "      <td>2</td>\n",
       "      <td>Completed</td>\n",
       "    </tr>\n",
       "    <tr>\n",
       "      <th>2</th>\n",
       "      <td>275</td>\n",
       "      <td>240</td>\n",
       "      <td>454</td>\n",
       "      <td>Saturday 25th January</td>\n",
       "      <td>2020-01-25</td>\n",
       "      <td>3</td>\n",
       "      <td>Completed</td>\n",
       "    </tr>\n",
       "    <tr>\n",
       "      <th>3</th>\n",
       "      <td>274</td>\n",
       "      <td>240</td>\n",
       "      <td>456</td>\n",
       "      <td>Sunday 26th January</td>\n",
       "      <td>2020-01-25</td>\n",
       "      <td>4</td>\n",
       "      <td>Completed</td>\n",
       "    </tr>\n",
       "  </tbody>\n",
       "</table>\n",
       "</div>"
      ],
      "text/plain": [
       "   itineraryLegId  itineraryId  startListId                   name  \\\n",
       "0             273          240          451  Thursday 23rd January   \n",
       "1             272          240          452    Friday 24th January   \n",
       "2             275          240          454  Saturday 25th January   \n",
       "3             274          240          456    Sunday 26th January   \n",
       "\n",
       "      legDate  order     status  \n",
       "0  2020-01-23      1  Completed  \n",
       "1  2020-01-24      2  Completed  \n",
       "2  2020-01-25      3  Completed  \n",
       "3  2020-01-25      4  Completed  "
      ]
     },
     "execution_count": 38,
     "metadata": {},
     "output_type": "execute_result"
    }
   ],
   "source": [
    "WRCItinerary(sdbRallyId=100).legs"
   ]
  },
  {
   "cell_type": "code",
   "execution_count": 39,
   "metadata": {},
   "outputs": [],
   "source": [
    "class WRCStartlist(WRCLive):\n",
    "    \"\"\"Class for WRC2020 Startlist table.\"\"\"\n",
    "    def __init__(self, startListId=None, live=False, autoseed=True, nowarn=False):\n",
    "        WRCLive.__init__(self, live=live)\n",
    "        \n",
    "        self.startListId = _jsInt(startListId)\n",
    "        \n",
    "        self.startList = None\n",
    "        self.startListItems = None\n",
    "        \n",
    "        if not nowarn and not self.startListId:\n",
    "            warnings.warn(\"startListId should really be set..\")\n",
    "        \n",
    "        if self.startListId or autoseed:\n",
    "            self.fetchStartList(self.startListId)\n",
    "    \n",
    "    def _checkStartListId(self, startListId=None):\n",
    "        \"\"\"Return a startlistId or look one up.\"\"\"\n",
    "        self.startListId = startListId or self.startListId\n",
    "        if not self.startListId:\n",
    "            if not _checkattr(self, 'itinerary'):\n",
    "                self.itinerary = WRCItinerary(autoseed=True)\n",
    "                self.sdbRallyId = self.itinerary.sdbRallyId\n",
    "            self.startListId = int(self.itinerary.legs.loc[0,'startListId'])\n",
    "        return self.startListId\n",
    "        \n",
    "        \n",
    "    def fetchStartList(self, startListId=None):\n",
    "        self._checkStartListId(startListId)\n",
    "        startList,startListItems = getStartlist(self.startListId)\n",
    "        self.startList, self.startListItems = startList,startListItems"
   ]
  },
  {
   "cell_type": "code",
   "execution_count": 40,
   "metadata": {
    "tags": [
     "active-ipynb"
    ]
   },
   "outputs": [
    {
     "name": "stderr",
     "output_type": "stream",
     "text": [
      "/usr/local/lib/python3.7/site-packages/ipykernel_launcher.py:12: UserWarning: startListId should really be set..\n",
      "  if sys.path[0] == '':\n",
      "  File \"<ipython-input-40-2786fc75f2ce>\", line 1, in <module>\n",
      "    zz = WRCStartlist(autoseed=True)\n",
      "  File \"<ipython-input-39-d26a47893005>\", line 12, in __init__\n",
      "    warnings.warn(\"startListId should really be set..\")\n"
     ]
    },
    {
     "data": {
      "text/plain": [
       "(   startListId  eventId publishedStatus      name\n",
       " 0          451      124       Published  Thursday,\n",
       "     startListItemId  startListId  entryId         startDateTime  \\\n",
       " 0             20891          451    20745  2020-01-23T17:37:00Z   \n",
       " 1             20892          451    20743  2020-01-23T17:36:00Z   \n",
       " 2             20893          451    20722  2020-01-23T17:35:00Z   \n",
       " 3             20894          451    20741  2020-01-23T17:34:00Z   \n",
       " 4             20895          451    20740  2020-01-23T17:33:00Z   \n",
       " ..              ...          ...      ...                   ...   \n",
       " 83            20974          451    20702  2020-01-23T16:55:00Z   \n",
       " 84            20975          451    20703  2020-01-23T16:54:00Z   \n",
       " 85            20976          451    20707  2020-01-23T16:53:00Z   \n",
       " 86            20977          451    20728  2020-01-23T17:15:00Z   \n",
       " 87            20978          451    20683  2020-01-23T16:00:00Z   \n",
       " \n",
       "            startDateTimeLocal  order  \n",
       " 0   2020-01-23T18:37:00+01:00     64  \n",
       " 1   2020-01-23T18:36:00+01:00     63  \n",
       " 2   2020-01-23T18:35:00+01:00     62  \n",
       " 3   2020-01-23T18:34:00+01:00     61  \n",
       " 4   2020-01-23T18:33:00+01:00     60  \n",
       " ..                        ...    ...  \n",
       " 83  2020-01-23T17:55:00+01:00     26  \n",
       " 84  2020-01-23T17:54:00+01:00     25  \n",
       " 85  2020-01-23T17:53:00+01:00     24  \n",
       " 86  2020-01-23T18:15:00+01:00     44  \n",
       " 87  2020-01-23T17:00:00+01:00      1  \n",
       " \n",
       " [88 rows x 6 columns])"
      ]
     },
     "execution_count": 40,
     "metadata": {},
     "output_type": "execute_result"
    }
   ],
   "source": [
    "zz = WRCStartlist(autoseed=True)\n",
    "zz.fetchStartList()\n",
    "getStartlist(451)"
   ]
  },
  {
   "cell_type": "code",
   "execution_count": 41,
   "metadata": {},
   "outputs": [],
   "source": [
    "class WRCCars(WRCRally_sdb):\n",
    "    \"\"\"Class for WRC2020 Cars table.\"\"\"\n",
    "    def __init__(self, sdbRallyId=None, live=False, autoseed=False):  \n",
    "        WRCRally_sdb.__init__(self, sdbRallyId=sdbRallyId, autoseed=autoseed)\n",
    "        \n",
    "        self.cars=None\n",
    "        self.classes=None\n",
    "        \n",
    "        if self.sdbRallyId:\n",
    "            self.fetchCars(sdbRallyId)\n",
    "            \n",
    "    def fetchCars(self, sdbRallyId=None):\n",
    "        self._checkRallyId(sdbRallyId)\n",
    "        cars, classes = getCars(self.sdbRallyId)\n",
    "        self.cars, self.classes = cars, classes"
   ]
  },
  {
   "cell_type": "code",
   "execution_count": 42,
   "metadata": {
    "tags": [
     "active-ipynb"
    ]
   },
   "outputs": [
    {
     "data": {
      "text/plain": [
       "<__main__.WRCCars at 0x11bdc72d0>"
      ]
     },
     "execution_count": 42,
     "metadata": {},
     "output_type": "execute_result"
    }
   ],
   "source": [
    "WRCCars(autoseed=True)"
   ]
  },
  {
   "cell_type": "code",
   "execution_count": 206,
   "metadata": {},
   "outputs": [],
   "source": [
    "class WRCRally(WRCRally_sdb):\n",
    "    \"\"\"Class for WRC2020 Rally table. This gives external ids.\"\"\"\n",
    "    def __init__(self, sdbRallyId=None, autoseed=False):  \n",
    "        WRCRally_sdb.__init__(self, sdbRallyId=sdbRallyId, autoseed=autoseed)\n",
    "        \n",
    "        self.rally=None\n",
    "        self.eligibilities=None\n",
    "        self.groups=None\n",
    "        \n",
    "        if self.sdbRallyId:\n",
    "            self.fetchRally(sdbRallyId)\n",
    "            \n",
    "    def fetchRally(self, sdbRallyId=None):\n",
    "        self._checkRallyId(sdbRallyId)\n",
    "        (self.rally, self.eligibilities, self.groups) = getRally(self.sdbRallyId)"
   ]
  },
  {
   "cell_type": "code",
   "execution_count": 207,
   "metadata": {},
   "outputs": [
    {
     "data": {
      "text/html": [
       "<div>\n",
       "<style scoped>\n",
       "    .dataframe tbody tr th:only-of-type {\n",
       "        vertical-align: middle;\n",
       "    }\n",
       "\n",
       "    .dataframe tbody tr th {\n",
       "        vertical-align: top;\n",
       "    }\n",
       "\n",
       "    .dataframe thead th {\n",
       "        text-align: right;\n",
       "    }\n",
       "</style>\n",
       "<table border=\"1\" class=\"dataframe\">\n",
       "  <thead>\n",
       "    <tr style=\"text-align: right;\">\n",
       "      <th></th>\n",
       "      <th>externalIdRally</th>\n",
       "      <th>externalIdEvent</th>\n",
       "      <th>itineraryId</th>\n",
       "      <th>name</th>\n",
       "      <th>isMain</th>\n",
       "      <th>eventClasses</th>\n",
       "      <th>sdbRallyId</th>\n",
       "    </tr>\n",
       "  </thead>\n",
       "  <tbody>\n",
       "    <tr>\n",
       "      <th>0</th>\n",
       "      <td>153</td>\n",
       "      <td>124</td>\n",
       "      <td>240</td>\n",
       "      <td>WRC</td>\n",
       "      <td>True</td>\n",
       "      <td>None</td>\n",
       "      <td>100</td>\n",
       "    </tr>\n",
       "  </tbody>\n",
       "</table>\n",
       "</div>"
      ],
      "text/plain": [
       "   externalIdRally  externalIdEvent  itineraryId name  isMain eventClasses  \\\n",
       "0              153              124          240  WRC    True         None   \n",
       "\n",
       "   sdbRallyId  \n",
       "0         100  "
      ]
     },
     "metadata": {},
     "output_type": "display_data"
    },
    {
     "data": {
      "text/html": [
       "<div>\n",
       "<style scoped>\n",
       "    .dataframe tbody tr th:only-of-type {\n",
       "        vertical-align: middle;\n",
       "    }\n",
       "\n",
       "    .dataframe tbody tr th {\n",
       "        vertical-align: top;\n",
       "    }\n",
       "\n",
       "    .dataframe thead th {\n",
       "        text-align: right;\n",
       "    }\n",
       "</style>\n",
       "<table border=\"1\" class=\"dataframe\">\n",
       "  <thead>\n",
       "    <tr style=\"text-align: right;\">\n",
       "      <th></th>\n",
       "      <th>0</th>\n",
       "      <th>externalIdRally</th>\n",
       "      <th>sdbRallyId</th>\n",
       "    </tr>\n",
       "  </thead>\n",
       "  <tbody>\n",
       "    <tr>\n",
       "      <th>0</th>\n",
       "      <td>M</td>\n",
       "      <td>153</td>\n",
       "      <td>100</td>\n",
       "    </tr>\n",
       "    <tr>\n",
       "      <th>1</th>\n",
       "      <td>None</td>\n",
       "      <td>153</td>\n",
       "      <td>100</td>\n",
       "    </tr>\n",
       "    <tr>\n",
       "      <th>2</th>\n",
       "      <td>WRC2</td>\n",
       "      <td>153</td>\n",
       "      <td>100</td>\n",
       "    </tr>\n",
       "    <tr>\n",
       "      <th>3</th>\n",
       "      <td>WRC3</td>\n",
       "      <td>153</td>\n",
       "      <td>100</td>\n",
       "    </tr>\n",
       "    <tr>\n",
       "      <th>4</th>\n",
       "      <td>RGT</td>\n",
       "      <td>153</td>\n",
       "      <td>100</td>\n",
       "    </tr>\n",
       "  </tbody>\n",
       "</table>\n",
       "</div>"
      ],
      "text/plain": [
       "      0 externalIdRally  sdbRallyId\n",
       "0     M             153         100\n",
       "1  None             153         100\n",
       "2  WRC2             153         100\n",
       "3  WRC3             153         100\n",
       "4   RGT             153         100"
      ]
     },
     "execution_count": 207,
     "metadata": {},
     "output_type": "execute_result"
    }
   ],
   "source": [
    "zz=WRCRally(autoseed=True)\n",
    "display(zz.rally)\n",
    "zz.eligibilities"
   ]
  },
  {
   "cell_type": "code",
   "execution_count": 227,
   "metadata": {},
   "outputs": [],
   "source": [
    "\n",
    "# TO DO - have a check stages function to get some data...\n",
    "\n",
    "class WRCRally_stages(WRCRally_sdb, WRCLive):\n",
    "    \"\"\"Class referring to all rally stages.\"\"\"\n",
    "    def __init__(self, sdbRallyId=None, live=False,\n",
    "                 autoseed=False, nowarn=True,):\n",
    "        WRCRally_sdb.__init__(self, sdbRallyId=sdbRallyId, autoseed=autoseed, nowarn=nowarn)\n",
    "        WRCLive.__init__(self, live=live)\n",
    "        \n",
    "        self.sdbRallyId = _jsInt(sdbRallyId)\n",
    "        self.stages = None\n",
    "        \n",
    "        if autoseed:\n",
    "            self._checkStages(self.sdbRallyId)\n",
    "\n",
    "    def _checkStages(self, sdbRallyId=None):\n",
    "        \"\"\"Return a stages list or lookup list for active rally.\"\"\"\n",
    "        #Have we got an sdbRallyId?\n",
    "        if not hasattr(self, 'sdbRallyId') or not self.sdbRallyId:\n",
    "            self.activerally = WRCActiveRally()\n",
    "            self.sdbRallyId = self.activerally.sdbRallyId\n",
    "            self.name = self.activerally.name\n",
    "\n",
    "        #The stages are in the stages return value from the itinerary\n",
    "        #itinerary, legs, sections, controls, stages = getItinerary(sdbRallyId)\n",
    "        if not hasattr(self, 'itinerary') or not _checkattr(self,'itinerary.stages'):\n",
    "            self.itinerary = WRCItinerary(self.sdbRallyId, autoseed=True)\n",
    "\n",
    "        _ccols=['code']+(list(set(self.itinerary.controls.columns) - set(self.itinerary.stages.columns)))\n",
    "        self.stages=self.itinerary.stages.merge(self.itinerary.controls[_ccols], on='code')\n",
    "        #return (self.sdbRallyId, self.stages)\n",
    "    \n",
    "    def lastCompletedStage(self):\n",
    "        # need to check etc\n",
    "        return self.stages[self.stages['status']=='Completed'].iloc[-1]['stageId']\n",
    "    "
   ]
  },
  {
   "cell_type": "code",
   "execution_count": 209,
   "metadata": {},
   "outputs": [
    {
     "data": {
      "text/plain": [
       "1526"
      ]
     },
     "execution_count": 209,
     "metadata": {},
     "output_type": "execute_result"
    }
   ],
   "source": [
    "zz=WRCRally_stages(autoseed=True)\n",
    "zz.itinerary.stages # stages / controls\n",
    "zz._checkStages()[1].head()\n",
    "zz.lastCompletedStage()"
   ]
  },
  {
   "cell_type": "code",
   "execution_count": 228,
   "metadata": {},
   "outputs": [],
   "source": [
    "# Does this actually do anything other than possible checks?\n",
    "\n",
    "class WRCRally_stage(WRCRally_stages):\n",
    "    \"\"\"Base class for things with a stageId.\n",
    "       Can also help find a stageId list for a given rally.\"\"\"\n",
    "    def __init__(self, sdbRallyId=None, stageId=None, live=False,\n",
    "                 autoseed=False, nowarn=True):\n",
    "        WRCRally_stages.__init__(self, sdbRallyId=sdbRallyId,\n",
    "                                 live=live, autoseed=autoseed, nowarn=nowarn)\n",
    "        \n",
    "        if not nowarn:\n",
    "            if not sdbRallyId:\n",
    "                warnings.warn(\"sdbRallyId should really be set...\")\n",
    "            if not stageId:\n",
    "                warnings.warn(\"stageId should really be set...\")\n",
    "\n",
    "        stageId = _jsInt(stageId)\n",
    "        \n",
    "        if autoseed:\n",
    "            fetchData(self.sdbRallyId, stageId)\n",
    " \n",
    "    def _checkStageId(self, sdbRallyId=None, stageId=None ):\n",
    "        \"\"\"Return a stage ID or lookup a current one.\"\"\"\n",
    "        \n",
    "        self._checkRallyId(sdbRallyId)\n",
    "    \n",
    "        stageId = _jsInt(stageId)\n",
    "        \n",
    "\n",
    "        #sdbRallyId = sdbRallyId or self.sdbRallyId\n",
    "        #if not hasattr(self, 'sdbRallyId') or not self.sdbRallyId:\n",
    "        #    self.activerally = WRCActiveRally()\n",
    "        #    self.sdbRallyId = self.activerally.sdbRallyId\n",
    "        #    self.name = self.activerally.name\n",
    "        #return self.sdbRallyId\n",
    "        pass"
   ]
  },
  {
   "cell_type": "code",
   "execution_count": 211,
   "metadata": {},
   "outputs": [],
   "source": [
    "zz=WRCRally_stage()"
   ]
  },
  {
   "cell_type": "code",
   "execution_count": 229,
   "metadata": {},
   "outputs": [],
   "source": [
    "class WRCOverall(WRCRally_stage):\n",
    "    \"\"\"Class for overall stage table.\"\"\"\n",
    "    def __init__(self, sdbRallyId=None, stageId=None, live=False,\n",
    "                 autoseed=False, nowarn=True):\n",
    "        WRCRally_stage.__init__(self, sdbRallyId=sdbRallyId, stageId=stageId,\n",
    "                                live=live, autoseed=autoseed, nowarn=nowarn)\n",
    "        \n",
    "        self.overall={}\n",
    "\n",
    "        if stageId:\n",
    "            self.fetchOverall(self.sdbRallyId, stageId)\n",
    "\n",
    "        if autoseed:\n",
    "            pass\n",
    "\n",
    "    def fetchOverall(self, sdbRallyId=None, stageId=None):\n",
    "        \"\"\"Fetch the data from WRC API.\"\"\"\n",
    "        self._checkRallyId(sdbRallyId)\n",
    "        self._checkStageId(self.sdbRallyId, stageId)\n",
    "\n",
    "        if stageId:\n",
    "            self.overall[stageId] = getOverall(self.sdbRallyId, stageId)\n",
    "    \n",
    "    def __call__(self):\n",
    "        return self.overall"
   ]
  },
  {
   "cell_type": "code",
   "execution_count": 213,
   "metadata": {
    "tags": [
     "active-ipynb"
    ]
   },
   "outputs": [
    {
     "data": {
      "text/plain": [
       "{1528:     entryId  stageTimeMs   stageTime  penaltyTimeMs penaltyTime  totalTimeMs  \\\n",
       " 0     20685       593400   PT9M53.4S              0        PT0S       593400   \n",
       " 1     20683       595200   PT9M55.2S              0        PT0S       595200   \n",
       " 2     20686       595300   PT9M55.3S              0        PT0S       595300   \n",
       " 3     20684       599800   PT9M59.8S              0        PT0S       599800   \n",
       " 4     20690       603600   PT10M3.6S              0        PT0S       603600   \n",
       " ..      ...          ...         ...            ...         ...          ...   \n",
       " 81    20768       880800  PT14M40.8S              0        PT0S       880800   \n",
       " 82    20769       880800  PT14M40.8S              0        PT0S       880800   \n",
       " 83    20770       880800  PT14M40.8S              0        PT0S       880800   \n",
       " 84    20753       880800  PT14M40.8S          10000       PT10S       890800   \n",
       " 85    20710      1229100  PT20M29.1S              0        PT0S      1229100   \n",
       " \n",
       "      totalTime  position  diffFirstMs   diffFirst  diffPrevMs   diffPrev  \n",
       " 0    PT9M53.4S         1            0        PT0S           0       PT0S  \n",
       " 1    PT9M55.2S         2         1800      PT1.8S        1800     PT1.8S  \n",
       " 2    PT9M55.3S         3         1900      PT1.9S         100     PT0.1S  \n",
       " 3    PT9M59.8S         4         6400      PT6.4S        4500     PT4.5S  \n",
       " 4    PT10M3.6S         5        10200     PT10.2S        3800     PT3.8S  \n",
       " ..         ...       ...          ...         ...         ...        ...  \n",
       " 81  PT14M40.8S        82       287400   PT4M47.4S           0       PT0S  \n",
       " 82  PT14M40.8S        83       287400   PT4M47.4S           0       PT0S  \n",
       " 83  PT14M40.8S        84       287400   PT4M47.4S           0       PT0S  \n",
       " 84  PT14M50.8S        85       297400   PT4M57.4S       10000      PT10S  \n",
       " 85  PT20M29.1S        86       635700  PT10M35.7S      338300  PT5M38.3S  \n",
       " \n",
       " [86 rows x 12 columns]}"
      ]
     },
     "execution_count": 213,
     "metadata": {},
     "output_type": "execute_result"
    }
   ],
   "source": [
    "zz=WRCOverall(stageId = 1528)\n",
    "zz.fetchOverall()\n",
    "zz.overall"
   ]
  },
  {
   "cell_type": "code",
   "execution_count": 230,
   "metadata": {},
   "outputs": [],
   "source": [
    "class WRCStageTimes(WRCRally_stage):\n",
    "    \"\"\"Class for stage times table.\"\"\"\n",
    "    def __init__(self, sdbRallyId=None, stageId=None, live=False,\n",
    "                 autoseed=False, nowarn=True):\n",
    "        WRCRally_stage.__init__(self, sdbRallyId=sdbRallyId, stageId=stageId,\n",
    "                                live=live, autoseed=autoseed, nowarn=nowarn)\n",
    "                         \n",
    "        self.stagetimes={}\n",
    "\n",
    "        if stageId:\n",
    "            self.fetchStageTimes(self.sdbRallyId, stageId)\n",
    "\n",
    "        if autoseed:\n",
    "            pass\n",
    "\n",
    "    def fetchStageTimes(self, sdbRallyId=None, stageId=None):\n",
    "        \"\"\"Fetch the data from WRC API.\"\"\"\n",
    "        self._checkRallyId(sdbRallyId)\n",
    "        self._checkStageId(self.sdbRallyId, stageId)\n",
    "        \n",
    "        if stageId:\n",
    "            self.stagetimes[stageId] = getStageTimes(self.sdbRallyId, stageId)\n",
    "    \n",
    "    def __call__(self):\n",
    "        return self.stagetimes"
   ]
  },
  {
   "cell_type": "code",
   "execution_count": 215,
   "metadata": {
    "tags": [
     "active-ipynb"
    ]
   },
   "outputs": [
    {
     "data": {
      "text/plain": [
       "{1528:     stageTimeId  stageId  entryId  elapsedDurationMs   elapsedDuration  \\\n",
       " 0         85682     1528    20685           593400.0  00:09:53.4000000   \n",
       " 1         85717     1528    20683           595200.0  00:09:55.2000000   \n",
       " 2         85684     1528    20686           595300.0  00:09:55.3000000   \n",
       " 3         85680     1528    20684           599800.0  00:09:59.8000000   \n",
       " 4         85712     1528    20690           603600.0  00:10:03.6000000   \n",
       " ..          ...      ...      ...                ...               ...   \n",
       " 83        85606     1528    20769           880800.0  00:14:40.8000000   \n",
       " 84        85720     1528    20770           880800.0  00:14:40.8000000   \n",
       " 85        85676     1528    20710          1229100.0  00:20:29.1000000   \n",
       " 86        85724     1528    20750          1329900.0  00:22:09.9000000   \n",
       " 87        85643     1528    20741                NaN              None   \n",
       " \n",
       "        status    source  position  diffFirstMs         diffFirst  diffPrevMs  \\\n",
       " 0   Completed   Default       1.0          0.0          00:00:00         0.0   \n",
       " 1   Completed   Default       2.0       1800.0  00:00:01.8000000      1800.0   \n",
       " 2   Completed   Default       3.0       1900.0  00:00:01.9000000       100.0   \n",
       " 3   Completed   Default       4.0       6400.0  00:00:06.4000000      4500.0   \n",
       " 4   Completed   Default       5.0      10200.0  00:00:10.2000000      3800.0   \n",
       " ..        ...       ...       ...          ...               ...         ...   \n",
       " 83  Completed  Assessed      84.0     287400.0  00:04:47.4000000         0.0   \n",
       " 84  Completed  Assessed      85.0     287400.0  00:04:47.4000000         0.0   \n",
       " 85  Completed  Assessed      86.0     635700.0  00:10:35.7000000    348300.0   \n",
       " 86  Completed  Assessed      87.0     736500.0  00:12:16.5000000    100800.0   \n",
       " 87      ToRun   Default       NaN          NaN              None         NaN   \n",
       " \n",
       "             diffPrev  \n",
       " 0           00:00:00  \n",
       " 1   00:00:01.8000000  \n",
       " 2   00:00:00.1000000  \n",
       " 3   00:00:04.5000000  \n",
       " 4   00:00:03.8000000  \n",
       " ..               ...  \n",
       " 83          00:00:00  \n",
       " 84          00:00:00  \n",
       " 85  00:05:48.3000000  \n",
       " 86  00:01:40.8000000  \n",
       " 87              None  \n",
       " \n",
       " [88 rows x 12 columns]}"
      ]
     },
     "execution_count": 215,
     "metadata": {},
     "output_type": "execute_result"
    }
   ],
   "source": [
    "zz=WRCStageTimes(stageId = 1528)\n",
    "zz.fetchStageTimes()\n",
    "zz.stagetimes"
   ]
  },
  {
   "cell_type": "code",
   "execution_count": 231,
   "metadata": {},
   "outputs": [],
   "source": [
    "class WRCSplitTimes(WRCRally_stage):\n",
    "    \"\"\"Class for SplitTimes stage table.\"\"\"\n",
    "    def __init__(self, sdbRallyId=None, stageId=None, live=False, autoseed=False):  \n",
    "        WRCRally_stage.__init__(self, sdbRallyId=sdbRallyId, stageId=stageId,\n",
    "                                 live=live, autoseed=autoseed)\n",
    "        \n",
    "        self.splitPoints = {}\n",
    "        self.entrySplitPointTimes ={}\n",
    "        self.splitPointTimes = {}\n",
    "        \n",
    "        if stageId:\n",
    "            self.fetchSplitTimes(self.sdbRallyId, stageId)\n",
    "\n",
    "        if autoseed:\n",
    "            pass\n",
    "            \n",
    "    def fetchSplitTimes(self, sdbRallyId=None, stageId=None):\n",
    "        self._checkRallyId(sdbRallyId)\n",
    "        self._checkStageId(self.sdbRallyId, stageId)\n",
    "        if stageId:\n",
    "            (self.splitPoints[stageId], self.entrySplitPointTimes[stageId], \\\n",
    "             self.splitPointTimes[stageId]) = getSplitTimes(self.sdbRallyId, stageId)"
   ]
  },
  {
   "cell_type": "code",
   "execution_count": 217,
   "metadata": {
    "tags": [
     "active.ipynb"
    ]
   },
   "outputs": [
    {
     "data": {
      "text/plain": [
       "{1528:     entryId        startDateTime         startDateTimeLocal  \\\n",
       " 0     20683  2020-01-23T19:38:00  2020-01-23T20:38:00+01:00   \n",
       " 1     20684  2020-01-23T19:41:00  2020-01-23T20:41:00+01:00   \n",
       " 2     20685  2020-01-23T19:44:00  2020-01-23T20:44:00+01:00   \n",
       " 3     20686  2020-01-23T19:47:00  2020-01-23T20:47:00+01:00   \n",
       " 4     20687  2020-01-23T19:50:00  2020-01-23T20:50:00+01:00   \n",
       " ..      ...                  ...                        ...   \n",
       " 82    20766  2020-01-23T21:44:00  2020-01-23T22:44:00+01:00   \n",
       " 83    20767  2020-01-23T21:45:00  2020-01-23T22:45:00+01:00   \n",
       " 84    20768  2020-01-23T21:46:00  2020-01-23T22:46:00+01:00   \n",
       " 85    20769  2020-01-23T21:47:00  2020-01-23T22:47:00+01:00   \n",
       " 86    20770  2020-01-23T21:48:00  2020-01-23T22:48:00+01:00   \n",
       " \n",
       "     stageTimeDurationMs stageTimeDuration  \n",
       " 0                595200  00:09:55.2000000  \n",
       " 1                599800  00:09:59.8000000  \n",
       " 2                593400  00:09:53.4000000  \n",
       " 3                595300  00:09:55.3000000  \n",
       " 4                610500  00:10:10.5000000  \n",
       " ..                  ...               ...  \n",
       " 82               880800  00:14:40.8000000  \n",
       " 83               880800  00:14:40.8000000  \n",
       " 84               880800  00:14:40.8000000  \n",
       " 85               880800  00:14:40.8000000  \n",
       " 86               880800  00:14:40.8000000  \n",
       " \n",
       " [87 rows x 5 columns]}"
      ]
     },
     "execution_count": 217,
     "metadata": {},
     "output_type": "execute_result"
    }
   ],
   "source": [
    "zz=WRCSplitTimes(stageId = 1528)\n",
    "zz.fetchSplitTimes()\n",
    "zz.entrySplitPointTimes\n"
   ]
  },
  {
   "cell_type": "code",
   "execution_count": null,
   "metadata": {},
   "outputs": [],
   "source": []
  },
  {
   "cell_type": "code",
   "execution_count": null,
   "metadata": {},
   "outputs": [],
   "source": []
  },
  {
   "cell_type": "markdown",
   "metadata": {},
   "source": [
    "TO DO - think about sqlite export."
   ]
  },
  {
   "cell_type": "code",
   "execution_count": 277,
   "metadata": {
    "run_control": {
     "marked": false
    }
   },
   "outputs": [],
   "source": [
    "def WRCdatagetter(func):\n",
    "    def call(self):\n",
    "        (attrs, func2) = func(self)\n",
    "        if not attrs:\n",
    "            return None\n",
    "        if isinstance(attrs, str):\n",
    "            attrs=[attrs]\n",
    "        func2()\n",
    "        if len(attrs)>1:\n",
    "            return tuple(getattr(self,a) for a in attrs)\n",
    "        return getattr(self,attrs[0])\n",
    "    return call,\n",
    "\n",
    "        \n",
    "#This class will contain everything about a single rally\n",
    "class WRCEvent(WRCItinerary, WRCCars, WRCPenalties, WRCRetirements, WRCStartlist,\n",
    "               WRCRally, WRCStagewinners, WRCOverall, WRCStageTimes, WRCSplitTimes ):\n",
    "    \"\"\"Class for a rally event.\n",
    "       Can be used to contain all the timing results data from a WRC rally weekend.\"\"\"\n",
    "    def __init__(self, sdbRallyId=None, stageId=None, live=False, autoseed=False, slurp=False):\n",
    "        WRCItinerary.__init__(self, sdbRallyId=sdbRallyId, live=live,\n",
    "                             autoseed=autoseed)\n",
    "        WRCCars.__init__(self, sdbRallyId=sdbRallyId, live=live,\n",
    "                             autoseed=autoseed)\n",
    "        WRCPenalties.__init__(self, sdbRallyId=sdbRallyId, live=live,\n",
    "                             autoseed=autoseed)\n",
    "        WRCRetirements.__init__(self, sdbRallyId=sdbRallyId, live=live,\n",
    "                             autoseed=autoseed)\n",
    "        WRCStartlist.__init__(self, startListId=None, live=live,\n",
    "                             autoseed=autoseed, nowarn=True)\n",
    "        WRCRally.__init__(self, sdbRallyId=sdbRallyId, autoseed=autoseed)\n",
    "        WRCStagewinners.__init__(self, sdbRallyId=sdbRallyId, autoseed=autoseed)\n",
    "        WRCOverall.__init__(self, sdbRallyId=sdbRallyId, stageId=stageId, autoseed=autoseed)\n",
    "        WRCStageTimes.__init__(self, sdbRallyId=sdbRallyId, stageId=stageId, autoseed=autoseed)\n",
    "        WRCSplitTimes.__init__(self, sdbRallyId=sdbRallyId, stageId=stageId, autoseed=autoseed)\n",
    "        \n",
    "        if slurp:\n",
    "            self.rallyslurper()\n",
    "\n",
    "    \n",
    "    @WRCdatagetter \n",
    "    def getRally(self):\n",
    "        \"\"\"Get external rally details.\"\"\"\n",
    "        return (['rally','eligibilities', 'groups'], self.fetchRally())\n",
    "    \n",
    "\n",
    "    @WRCdatagetter \n",
    "    def getItinerary(self):\n",
    "        \"\"\"Get itinerary.\n",
    "           If rally not known, use active rally.\n",
    "           Also set a default startListId.\"\"\"\n",
    "        return (['itinerary', 'legs', 'sections','controls', 'stages'],\n",
    "                self.fetchItinerary())\n",
    "       \n",
    "    @WRCdatagetter   \n",
    "    def getStartlist(self, startListId=None):\n",
    "        \"\"\"Get startlist.\n",
    "           If no startListId provided, try to find a default.\"\"\"\n",
    "        return (['startList', 'startListItems'], self.fetchStartList())\n",
    "\n",
    "\n",
    "    @WRCdatagetter\n",
    "    def getPenalties(self):\n",
    "        \"\"\"Get penalties.\"\"\"\n",
    "        return ('penalties', self.fetchPenalties())\n",
    "    \n",
    "    @WRCdatagetter\n",
    "    def getRetirements(self):\n",
    "        \"\"\"Get retirements.\"\"\"\n",
    "        return ('retirements', self.fetchRetirements())\n",
    "\n",
    "    \n",
    "    @WRCdatagetter\n",
    "    def getStagewinners(self):\n",
    "        return ('stagewinners', self.fetchStagewinners())\n",
    "    \n",
    "    @WRCdatagetter   \n",
    "    def getCars(self):\n",
    "        \"\"\"Get cars.\"\"\"\n",
    "        return (['cars', 'classes' ], self.fetchCars())\n",
    "\n",
    "    #TO DO - different decorator\n",
    "    def getOverall(self, stageId=None):\n",
    "        \"\"\"Get Overall.\"\"\"\n",
    "        attrs = ['overall']\n",
    "        self._checkRallyId()\n",
    "        self._checkStages()\n",
    "        \n",
    "        if not stageId:\n",
    "            stageId  = self.lastCompletedStage()\n",
    "            \n",
    "        if not all([_checkattr(self,a) for a in attrs]):\n",
    "            self.fetchOverall(self.sdbRallyId, stageId)\n",
    "        \n",
    "        return self.overall\n",
    "    \n",
    "    \n",
    "    def getStageTimes(self, stageId=None):\n",
    "        \"\"\"Get StageTimes.\"\"\"\n",
    "        attrs = ['stagetimes']\n",
    "        self._checkRallyId()\n",
    "        self._checkStages()\n",
    "        \n",
    "        if not stageId:\n",
    "            stageId  = self.lastCompletedStage()\n",
    "            \n",
    "        if not all([_checkattr(self,a) for a in [attrs]]):\n",
    "            self.fetchStageTimes(self.sdbRallyId, stageId)\n",
    "        return self.stagetimes\n",
    "\n",
    "    def getSplitTimes(self, stageId=None):\n",
    "        \"\"\"Get SplitTimes.\"\"\"\n",
    "        attrs = ['splitPoints','entrySplitPointTimes','splitPointTimes']\n",
    "        self._checkRallyId()\n",
    "        self._checkStages()\n",
    "        \n",
    "        if not stageId:\n",
    "            stageId  = self.lastCompletedStage()\n",
    "        \n",
    "        if not all([_checkattr(self,a) for a in [attrs]]):\n",
    "            self.fetchSplitTimes(self.sdbRallyId, stageId)\n",
    "\n",
    "        return (self.splitPoints, self.entrySplitPointTimes, self.splitPointTimes)\n",
    "\n",
    "    \n",
    "    def rallyslurper(self):\n",
    "        \"\"\"Grab everything...\"\"\"\n",
    "        self.getItinerary()\n",
    "        self.getCars()\n",
    "        self.getStartlist()\n",
    "        self.getPenalties()\n",
    "        self.getRetirements()\n",
    "    "
   ]
  },
  {
   "cell_type": "code",
   "execution_count": 278,
   "metadata": {
    "tags": [
     "active-ipynb"
    ]
   },
   "outputs": [
    {
     "name": "stdout",
     "output_type": "stream",
     "text": [
      "reget False\n"
     ]
    },
    {
     "data": {
      "text/plain": [
       "{1526:     entryId  stageTimeMs     stageTime  penaltyTimeMs penaltyTime  \\\n",
       " 0     20684     11457600  PT3H10M57.6S              0        PT0S   \n",
       " 1     20685     11470200  PT3H11M10.2S              0        PT0S   \n",
       " 2     20686     11471900  PT3H11M11.9S              0        PT0S   \n",
       " 3     20688     11646600   PT3H14M6.6S              0        PT0S   \n",
       " 4     20690     11714800  PT3H15M14.8S              0        PT0S   \n",
       " ..      ...          ...           ...            ...         ...   \n",
       " 68    20754     17370000    PT4H49M30S         120000        PT2M   \n",
       " 69    20762     17482400  PT4H51M22.4S          30000       PT30S   \n",
       " 70    20698     17680700  PT4H54M40.7S              0        PT0S   \n",
       " 71    20730     18208800   PT5H3M28.8S          10000       PT10S   \n",
       " 72    20767     19519700  PT5H25M19.7S         170000     PT2M50S   \n",
       " \n",
       "     totalTimeMs     totalTime  position  diffFirstMs     diffFirst  \\\n",
       " 0      11457600  PT3H10M57.6S         1            0          PT0S   \n",
       " 1      11470200  PT3H11M10.2S         2        12600       PT12.6S   \n",
       " 2      11471900  PT3H11M11.9S         3        14300       PT14.3S   \n",
       " 3      11646600   PT3H14M6.6S         4       189000        PT3M9S   \n",
       " 4      11714800  PT3H15M14.8S         5       257200     PT4M17.2S   \n",
       " ..          ...           ...       ...          ...           ...   \n",
       " 68     17490000    PT4H51M30S        69      6032400  PT1H40M32.4S   \n",
       " 69     17512400  PT4H51M52.4S        70      6054800  PT1H40M54.8S   \n",
       " 70     17680700  PT4H54M40.7S        71      6223100  PT1H43M43.1S   \n",
       " 71     18218800   PT5H3M38.8S        72      6761200  PT1H52M41.2S   \n",
       " 72     19689700   PT5H28M9.7S        73      8232100  PT2H17M12.1S   \n",
       " \n",
       "     diffPrevMs    diffPrev  \n",
       " 0            0        PT0S  \n",
       " 1        12600     PT12.6S  \n",
       " 2         1700      PT1.7S  \n",
       " 3       174700   PT2M54.7S  \n",
       " 4        68200    PT1M8.2S  \n",
       " ..         ...         ...  \n",
       " 68       31200     PT31.2S  \n",
       " 69       22400     PT22.4S  \n",
       " 70      168300   PT2M48.3S  \n",
       " 71      538100   PT8M58.1S  \n",
       " 72     1470900  PT24M30.9S  \n",
       " \n",
       " [73 rows x 12 columns]}"
      ]
     },
     "execution_count": 278,
     "metadata": {},
     "output_type": "execute_result"
    }
   ],
   "source": [
    "zz=WRCEvent()\n",
    "zz.getOverall()"
   ]
  },
  {
   "cell_type": "code",
   "execution_count": 286,
   "metadata": {},
   "outputs": [
    {
     "data": {
      "text/plain": [
       "{1526:     entryId  stageTimeMs     stageTime  penaltyTimeMs penaltyTime  \\\n",
       " 0     20684     11457600  PT3H10M57.6S              0        PT0S   \n",
       " 1     20685     11470200  PT3H11M10.2S              0        PT0S   \n",
       " 2     20686     11471900  PT3H11M11.9S              0        PT0S   \n",
       " 3     20688     11646600   PT3H14M6.6S              0        PT0S   \n",
       " 4     20690     11714800  PT3H15M14.8S              0        PT0S   \n",
       " ..      ...          ...           ...            ...         ...   \n",
       " 68    20754     17370000    PT4H49M30S         120000        PT2M   \n",
       " 69    20762     17482400  PT4H51M22.4S          30000       PT30S   \n",
       " 70    20698     17680700  PT4H54M40.7S              0        PT0S   \n",
       " 71    20730     18208800   PT5H3M28.8S          10000       PT10S   \n",
       " 72    20767     19519700  PT5H25M19.7S         170000     PT2M50S   \n",
       " \n",
       "     totalTimeMs     totalTime  position  diffFirstMs     diffFirst  \\\n",
       " 0      11457600  PT3H10M57.6S         1            0          PT0S   \n",
       " 1      11470200  PT3H11M10.2S         2        12600       PT12.6S   \n",
       " 2      11471900  PT3H11M11.9S         3        14300       PT14.3S   \n",
       " 3      11646600   PT3H14M6.6S         4       189000        PT3M9S   \n",
       " 4      11714800  PT3H15M14.8S         5       257200     PT4M17.2S   \n",
       " ..          ...           ...       ...          ...           ...   \n",
       " 68     17490000    PT4H51M30S        69      6032400  PT1H40M32.4S   \n",
       " 69     17512400  PT4H51M52.4S        70      6054800  PT1H40M54.8S   \n",
       " 70     17680700  PT4H54M40.7S        71      6223100  PT1H43M43.1S   \n",
       " 71     18218800   PT5H3M38.8S        72      6761200  PT1H52M41.2S   \n",
       " 72     19689700   PT5H28M9.7S        73      8232100  PT2H17M12.1S   \n",
       " \n",
       "     diffPrevMs    diffPrev  \n",
       " 0            0        PT0S  \n",
       " 1        12600     PT12.6S  \n",
       " 2         1700      PT1.7S  \n",
       " 3       174700   PT2M54.7S  \n",
       " 4        68200    PT1M8.2S  \n",
       " ..         ...         ...  \n",
       " 68       31200     PT31.2S  \n",
       " 69       22400     PT22.4S  \n",
       " 70      168300   PT2M48.3S  \n",
       " 71      538100   PT8M58.1S  \n",
       " 72     1470900  PT24M30.9S  \n",
       " \n",
       " [73 rows x 12 columns]}"
      ]
     },
     "execution_count": 286,
     "metadata": {},
     "output_type": "execute_result"
    }
   ],
   "source": [
    "zz.overall"
   ]
  },
  {
   "cell_type": "code",
   "execution_count": 220,
   "metadata": {},
   "outputs": [],
   "source": [
    "#This class needs renaming...\n",
    "#What does it actually represent? An event? A live event? A set of events?\n",
    "\n",
    "# TO DO - this presumably is wrong if we call in in 2021?\n",
    "class WRC2020(WRCActiveSeasonEvents, WRCEvent):\n",
    "    \"\"\"Class for WRC data scrape using 2020 API.\"\"\"\n",
    "\n",
    "    def __init__(self, sdbRallyId=None, live=False, autoseed=False):\n",
    "        WRCActiveSeasonEvents.__init__(self, autoseed=autoseed)\n",
    "        WRCEvent.__init__(self, sdbRallyId, live)\n",
    "        \n",
    "        self.live = live\n",
    "        \n",
    "        \n",
    "    def getActiveSeasonEvents(self):\n",
    "        \"\"\"Get active (current) season events.\"\"\"\n",
    "        _current_season_events_attrs = ['current_season_events',\n",
    "                                         'eventdays', 'eventchannel' ]\n",
    "        if not any([hasattr(self,a) for a in _current_season_events_attrs]) or not _checkattr(self,'current_season_events'):\n",
    "            self.fetchActiveSeasonEvents()\n",
    "        return (self.current_season_events, self.eventdays, self.eventchannel)\n",
    "\n",
    "\n",
    "    \n",
    "    \n",
    "    \n",
    "    "
   ]
  },
  {
   "cell_type": "code",
   "execution_count": 221,
   "metadata": {},
   "outputs": [],
   "source": [
    "zz = WRC2020().getActiveSeasonEvents()\n",
    "#zz"
   ]
  },
  {
   "cell_type": "code",
   "execution_count": 222,
   "metadata": {
    "tags": [
     "active-ipynb"
    ]
   },
   "outputs": [],
   "source": [
    "#zz = WRCEvent(slurp=True)"
   ]
  },
  {
   "cell_type": "code",
   "execution_count": 223,
   "metadata": {
    "tags": [
     "active-ipynb"
    ]
   },
   "outputs": [
    {
     "ename": "AttributeError",
     "evalue": "'DataFrame' object has no attribute 'legs'",
     "output_type": "error",
     "traceback": [
      "\u001b[0;31m---------------------------------------------------------------------------\u001b[0m",
      "\u001b[0;31mAttributeError\u001b[0m                            Traceback (most recent call last)",
      "\u001b[0;32m<ipython-input-223-58a9827f93bc>\u001b[0m in \u001b[0;36m<module>\u001b[0;34m\u001b[0m\n\u001b[0;32m----> 1\u001b[0;31m \u001b[0mzz\u001b[0m \u001b[0;34m=\u001b[0m \u001b[0mWRCEvent\u001b[0m\u001b[0;34m(\u001b[0m\u001b[0mautoseed\u001b[0m\u001b[0;34m=\u001b[0m\u001b[0;32mTrue\u001b[0m\u001b[0;34m)\u001b[0m\u001b[0;34m\u001b[0m\u001b[0;34m\u001b[0m\u001b[0m\n\u001b[0m\u001b[1;32m      2\u001b[0m \u001b[0mzz\u001b[0m\u001b[0;34m.\u001b[0m\u001b[0mgetPenalties\u001b[0m\u001b[0;34m(\u001b[0m\u001b[0;34m)\u001b[0m\u001b[0;34m\u001b[0m\u001b[0;34m\u001b[0m\u001b[0m\n",
      "\u001b[0;32m<ipython-input-218-5dfcd6e6b36f>\u001b[0m in \u001b[0;36m__init__\u001b[0;34m(self, sdbRallyId, stageId, live, autoseed, slurp)\u001b[0m\n\u001b[1;32m     30\u001b[0m                              autoseed=autoseed)\n\u001b[1;32m     31\u001b[0m         WRCStartlist.__init__(self, startListId=None, live=live,\n\u001b[0;32m---> 32\u001b[0;31m                              autoseed=autoseed, nowarn=True)\n\u001b[0m\u001b[1;32m     33\u001b[0m         \u001b[0mWRCRally\u001b[0m\u001b[0;34m.\u001b[0m\u001b[0m__init__\u001b[0m\u001b[0;34m(\u001b[0m\u001b[0mself\u001b[0m\u001b[0;34m,\u001b[0m \u001b[0msdbRallyId\u001b[0m\u001b[0;34m=\u001b[0m\u001b[0msdbRallyId\u001b[0m\u001b[0;34m,\u001b[0m \u001b[0mautoseed\u001b[0m\u001b[0;34m=\u001b[0m\u001b[0mautoseed\u001b[0m\u001b[0;34m)\u001b[0m\u001b[0;34m\u001b[0m\u001b[0;34m\u001b[0m\u001b[0m\n\u001b[1;32m     34\u001b[0m         \u001b[0mWRCStagewinners\u001b[0m\u001b[0;34m.\u001b[0m\u001b[0m__init__\u001b[0m\u001b[0;34m(\u001b[0m\u001b[0mself\u001b[0m\u001b[0;34m,\u001b[0m \u001b[0msdbRallyId\u001b[0m\u001b[0;34m=\u001b[0m\u001b[0msdbRallyId\u001b[0m\u001b[0;34m,\u001b[0m \u001b[0mautoseed\u001b[0m\u001b[0;34m=\u001b[0m\u001b[0mautoseed\u001b[0m\u001b[0;34m)\u001b[0m\u001b[0;34m\u001b[0m\u001b[0;34m\u001b[0m\u001b[0m\n",
      "\u001b[0;32m<ipython-input-39-d26a47893005>\u001b[0m in \u001b[0;36m__init__\u001b[0;34m(self, startListId, live, autoseed, nowarn)\u001b[0m\n\u001b[1;32m     13\u001b[0m \u001b[0;34m\u001b[0m\u001b[0m\n\u001b[1;32m     14\u001b[0m         \u001b[0;32mif\u001b[0m \u001b[0mself\u001b[0m\u001b[0;34m.\u001b[0m\u001b[0mstartListId\u001b[0m \u001b[0;32mor\u001b[0m \u001b[0mautoseed\u001b[0m\u001b[0;34m:\u001b[0m\u001b[0;34m\u001b[0m\u001b[0;34m\u001b[0m\u001b[0m\n\u001b[0;32m---> 15\u001b[0;31m             \u001b[0mself\u001b[0m\u001b[0;34m.\u001b[0m\u001b[0mfetchStartList\u001b[0m\u001b[0;34m(\u001b[0m\u001b[0mself\u001b[0m\u001b[0;34m.\u001b[0m\u001b[0mstartListId\u001b[0m\u001b[0;34m)\u001b[0m\u001b[0;34m\u001b[0m\u001b[0;34m\u001b[0m\u001b[0m\n\u001b[0m\u001b[1;32m     16\u001b[0m \u001b[0;34m\u001b[0m\u001b[0m\n\u001b[1;32m     17\u001b[0m     \u001b[0;32mdef\u001b[0m \u001b[0m_checkStartListId\u001b[0m\u001b[0;34m(\u001b[0m\u001b[0mself\u001b[0m\u001b[0;34m,\u001b[0m \u001b[0mstartListId\u001b[0m\u001b[0;34m=\u001b[0m\u001b[0;32mNone\u001b[0m\u001b[0;34m)\u001b[0m\u001b[0;34m:\u001b[0m\u001b[0;34m\u001b[0m\u001b[0;34m\u001b[0m\u001b[0m\n",
      "\u001b[0;32m<ipython-input-39-d26a47893005>\u001b[0m in \u001b[0;36mfetchStartList\u001b[0;34m(self, startListId)\u001b[0m\n\u001b[1;32m     27\u001b[0m \u001b[0;34m\u001b[0m\u001b[0m\n\u001b[1;32m     28\u001b[0m     \u001b[0;32mdef\u001b[0m \u001b[0mfetchStartList\u001b[0m\u001b[0;34m(\u001b[0m\u001b[0mself\u001b[0m\u001b[0;34m,\u001b[0m \u001b[0mstartListId\u001b[0m\u001b[0;34m=\u001b[0m\u001b[0;32mNone\u001b[0m\u001b[0;34m)\u001b[0m\u001b[0;34m:\u001b[0m\u001b[0;34m\u001b[0m\u001b[0;34m\u001b[0m\u001b[0m\n\u001b[0;32m---> 29\u001b[0;31m         \u001b[0mself\u001b[0m\u001b[0;34m.\u001b[0m\u001b[0m_checkStartListId\u001b[0m\u001b[0;34m(\u001b[0m\u001b[0mstartListId\u001b[0m\u001b[0;34m)\u001b[0m\u001b[0;34m\u001b[0m\u001b[0;34m\u001b[0m\u001b[0m\n\u001b[0m\u001b[1;32m     30\u001b[0m         \u001b[0mstartList\u001b[0m\u001b[0;34m,\u001b[0m\u001b[0mstartListItems\u001b[0m \u001b[0;34m=\u001b[0m \u001b[0mgetStartlist\u001b[0m\u001b[0;34m(\u001b[0m\u001b[0mself\u001b[0m\u001b[0;34m.\u001b[0m\u001b[0mstartListId\u001b[0m\u001b[0;34m)\u001b[0m\u001b[0;34m\u001b[0m\u001b[0;34m\u001b[0m\u001b[0m\n\u001b[1;32m     31\u001b[0m         \u001b[0mself\u001b[0m\u001b[0;34m.\u001b[0m\u001b[0mstartList\u001b[0m\u001b[0;34m,\u001b[0m \u001b[0mself\u001b[0m\u001b[0;34m.\u001b[0m\u001b[0mstartListItems\u001b[0m \u001b[0;34m=\u001b[0m \u001b[0mstartList\u001b[0m\u001b[0;34m,\u001b[0m\u001b[0mstartListItems\u001b[0m\u001b[0;34m\u001b[0m\u001b[0;34m\u001b[0m\u001b[0m\n",
      "\u001b[0;32m<ipython-input-39-d26a47893005>\u001b[0m in \u001b[0;36m_checkStartListId\u001b[0;34m(self, startListId)\u001b[0m\n\u001b[1;32m     22\u001b[0m                 \u001b[0mself\u001b[0m\u001b[0;34m.\u001b[0m\u001b[0mitinerary\u001b[0m \u001b[0;34m=\u001b[0m \u001b[0mWRCItinerary\u001b[0m\u001b[0;34m(\u001b[0m\u001b[0mautoseed\u001b[0m\u001b[0;34m=\u001b[0m\u001b[0;32mTrue\u001b[0m\u001b[0;34m)\u001b[0m\u001b[0;34m\u001b[0m\u001b[0;34m\u001b[0m\u001b[0m\n\u001b[1;32m     23\u001b[0m                 \u001b[0mself\u001b[0m\u001b[0;34m.\u001b[0m\u001b[0msdbRallyId\u001b[0m \u001b[0;34m=\u001b[0m \u001b[0mself\u001b[0m\u001b[0;34m.\u001b[0m\u001b[0mitinerary\u001b[0m\u001b[0;34m.\u001b[0m\u001b[0msdbRallyId\u001b[0m\u001b[0;34m\u001b[0m\u001b[0;34m\u001b[0m\u001b[0m\n\u001b[0;32m---> 24\u001b[0;31m             \u001b[0mself\u001b[0m\u001b[0;34m.\u001b[0m\u001b[0mstartListId\u001b[0m \u001b[0;34m=\u001b[0m \u001b[0mint\u001b[0m\u001b[0;34m(\u001b[0m\u001b[0mself\u001b[0m\u001b[0;34m.\u001b[0m\u001b[0mitinerary\u001b[0m\u001b[0;34m.\u001b[0m\u001b[0mlegs\u001b[0m\u001b[0;34m.\u001b[0m\u001b[0mloc\u001b[0m\u001b[0;34m[\u001b[0m\u001b[0;36m0\u001b[0m\u001b[0;34m,\u001b[0m\u001b[0;34m'startListId'\u001b[0m\u001b[0;34m]\u001b[0m\u001b[0;34m)\u001b[0m\u001b[0;34m\u001b[0m\u001b[0;34m\u001b[0m\u001b[0m\n\u001b[0m\u001b[1;32m     25\u001b[0m         \u001b[0;32mreturn\u001b[0m \u001b[0mself\u001b[0m\u001b[0;34m.\u001b[0m\u001b[0mstartListId\u001b[0m\u001b[0;34m\u001b[0m\u001b[0;34m\u001b[0m\u001b[0m\n\u001b[1;32m     26\u001b[0m \u001b[0;34m\u001b[0m\u001b[0m\n",
      "\u001b[0;32m/usr/local/lib/python3.7/site-packages/pandas/core/generic.py\u001b[0m in \u001b[0;36m__getattr__\u001b[0;34m(self, name)\u001b[0m\n\u001b[1;32m   5177\u001b[0m             \u001b[0;32mif\u001b[0m \u001b[0mself\u001b[0m\u001b[0;34m.\u001b[0m\u001b[0m_info_axis\u001b[0m\u001b[0;34m.\u001b[0m\u001b[0m_can_hold_identifiers_and_holds_name\u001b[0m\u001b[0;34m(\u001b[0m\u001b[0mname\u001b[0m\u001b[0;34m)\u001b[0m\u001b[0;34m:\u001b[0m\u001b[0;34m\u001b[0m\u001b[0;34m\u001b[0m\u001b[0m\n\u001b[1;32m   5178\u001b[0m                 \u001b[0;32mreturn\u001b[0m \u001b[0mself\u001b[0m\u001b[0;34m[\u001b[0m\u001b[0mname\u001b[0m\u001b[0;34m]\u001b[0m\u001b[0;34m\u001b[0m\u001b[0;34m\u001b[0m\u001b[0m\n\u001b[0;32m-> 5179\u001b[0;31m             \u001b[0;32mreturn\u001b[0m \u001b[0mobject\u001b[0m\u001b[0;34m.\u001b[0m\u001b[0m__getattribute__\u001b[0m\u001b[0;34m(\u001b[0m\u001b[0mself\u001b[0m\u001b[0;34m,\u001b[0m \u001b[0mname\u001b[0m\u001b[0;34m)\u001b[0m\u001b[0;34m\u001b[0m\u001b[0;34m\u001b[0m\u001b[0m\n\u001b[0m\u001b[1;32m   5180\u001b[0m \u001b[0;34m\u001b[0m\u001b[0m\n\u001b[1;32m   5181\u001b[0m     \u001b[0;32mdef\u001b[0m \u001b[0m__setattr__\u001b[0m\u001b[0;34m(\u001b[0m\u001b[0mself\u001b[0m\u001b[0;34m,\u001b[0m \u001b[0mname\u001b[0m\u001b[0;34m,\u001b[0m \u001b[0mvalue\u001b[0m\u001b[0;34m)\u001b[0m\u001b[0;34m:\u001b[0m\u001b[0;34m\u001b[0m\u001b[0;34m\u001b[0m\u001b[0m\n",
      "\u001b[0;31mAttributeError\u001b[0m: 'DataFrame' object has no attribute 'legs'"
     ]
    }
   ],
   "source": [
    "zz = WRCEvent(autoseed=True)\n",
    "zz.getPenalties()"
   ]
  },
  {
   "cell_type": "code",
   "execution_count": null,
   "metadata": {
    "tags": [
     "active-ipynb"
    ]
   },
   "outputs": [],
   "source": [
    "wrc=WRC2020()\n",
    "wrc.getActiveSeasonEvents()\n",
    "wrc.activeseasonevents.current_season_events"
   ]
  },
  {
   "cell_type": "code",
   "execution_count": null,
   "metadata": {},
   "outputs": [],
   "source": [
    "wrc.getStartlist()"
   ]
  },
  {
   "cell_type": "code",
   "execution_count": null,
   "metadata": {
    "tags": [
     "active-ipynb"
    ]
   },
   "outputs": [],
   "source": [
    "wrc.itinerary.sections"
   ]
  },
  {
   "cell_type": "code",
   "execution_count": null,
   "metadata": {
    "hideCode": true,
    "tags": [
     "active-ipynb"
    ]
   },
   "outputs": [],
   "source": [
    "itinerary, legs, sections, controls, stages = wrc.getItinerary()\n",
    "startList,startListItems = getStartlist(startListId)\n",
    "cars, classes = getCars(sdbRallyId)\n",
    "#rally, eligibilities, groups = getRally(sdbRallyId)\n",
    "#overall = getOverall(sdbRallyId, stageId)\n",
    "#splitPoints, entrySplitPointTimes, splitPointTimes = getSplitTimes(sdbRallyId,stageId)\n",
    "#stagetimes = getStageTimes(sdbRallyId,stageId)\n",
    "#stagewinners = getStagewinners(sdbRallyId)\n",
    "#penalties = getPenalties(sdbRallyId)\n",
    "#retirements = getRetirements(sdbRallyId)\n",
    "#championship = getChampionship()\n",
    "#championship = getChampionshipStandingsLive()"
   ]
  },
  {
   "cell_type": "code",
   "execution_count": null,
   "metadata": {
    "tags": [
     "active-ipynb"
    ]
   },
   "outputs": [],
   "source": [
    "current_season_events, eventdays, eventchannel = wrc.getActiveSeasonEvents()"
   ]
  },
  {
   "cell_type": "code",
   "execution_count": null,
   "metadata": {
    "tags": [
     "active-ipynb"
    ]
   },
   "outputs": [],
   "source": [
    "event, days, channels = wrc.getActiveRally()\n"
   ]
  },
  {
   "cell_type": "code",
   "execution_count": null,
   "metadata": {
    "tags": [
     "active-ipynb"
    ]
   },
   "outputs": [],
   "source": [
    "event"
   ]
  },
  {
   "cell_type": "code",
   "execution_count": null,
   "metadata": {
    "tags": [
     "active-ipynb"
    ]
   },
   "outputs": [],
   "source": [
    "wrc.sdbRallyId"
   ]
  },
  {
   "cell_type": "code",
   "execution_count": null,
   "metadata": {},
   "outputs": [],
   "source": []
  },
  {
   "cell_type": "code",
   "execution_count": null,
   "metadata": {},
   "outputs": [],
   "source": []
  },
  {
   "cell_type": "code",
   "execution_count": null,
   "metadata": {},
   "outputs": [],
   "source": []
  },
  {
   "cell_type": "code",
   "execution_count": null,
   "metadata": {},
   "outputs": [],
   "source": []
  },
  {
   "cell_type": "code",
   "execution_count": null,
   "metadata": {},
   "outputs": [],
   "source": []
  }
 ],
 "metadata": {
  "celltoolbar": "Tags",
  "jupytext": {
   "formats": "ipynb,py:light"
  },
  "kernelspec": {
   "display_name": "Python 3",
   "language": "python",
   "name": "python3"
  },
  "language_info": {
   "codemirror_mode": {
    "name": "ipython",
    "version": 3
   },
   "file_extension": ".py",
   "mimetype": "text/x-python",
   "name": "python",
   "nbconvert_exporter": "python",
   "pygments_lexer": "ipython3",
   "version": "3.7.5"
  }
 },
 "nbformat": 4,
 "nbformat_minor": 2
}
