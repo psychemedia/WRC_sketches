{
 "cells": [
  {
   "cell_type": "markdown",
   "metadata": {},
   "source": [
    "# WRC Scraper  2020\n",
    "\n",
    "The `WRC2020` package provides a means of scraping timing data from the WRC website and working with it in-memory, or storing it in a database.\n",
    "\n",
    "*TO DO: Add in `asyncio` scheduler elements to call WRC API regularly. Avoid race conditions by scheduling items together in the same scheduled event if they compete for the same write resource.*"
   ]
  },
  {
   "cell_type": "code",
   "execution_count": 1,
   "metadata": {
    "tags": [
     "active-ipynb"
    ]
   },
   "outputs": [],
   "source": [
    "%load_ext autoreload\n",
    "%autoreload 2\n",
    "\n",
    "%load_ext pycodestyle_magic\n",
    "%flake8_on --ignore D100"
   ]
  },
  {
   "cell_type": "code",
   "execution_count": 2,
   "metadata": {},
   "outputs": [
    {
     "name": "stderr",
     "output_type": "stream",
     "text": [
      "1:1: F403 'from WRC_2020_scraper import *' used; unable to detect undefined names\n"
     ]
    }
   ],
   "source": [
    "from WRC_2020_scraper import *\n",
    "from WRC_2020_scraper import getSeasonCategories"
   ]
  },
  {
   "cell_type": "code",
   "execution_count": 3,
   "metadata": {},
   "outputs": [],
   "source": [
    "import pandas as pd\n",
    "from sqlite_utils import Database\n",
    "import uuid\n",
    "import pickle"
   ]
  },
  {
   "cell_type": "code",
   "execution_count": 4,
   "metadata": {
    "tags": [
     "active-ipynb"
    ]
   },
   "outputs": [
    {
     "name": "stderr",
     "output_type": "stream",
     "text": [
      "1: E999 SyntaxError: invalid syntax\n"
     ]
    }
   ],
   "source": [
    "TESTDB = 'testdbfy.db'\n",
    "!rm $TESTDB"
   ]
  },
  {
   "cell_type": "code",
   "execution_count": 5,
   "metadata": {},
   "outputs": [],
   "source": [
    "from WRCUtils2020 import _isnull, _notnull, _checkattr, _jsInt, listify"
   ]
  },
  {
   "cell_type": "code",
   "execution_count": 6,
   "metadata": {},
   "outputs": [
    {
     "name": "stderr",
     "output_type": "stream",
     "text": [
      "4:1: E265 block comment should start with '# '\n",
      "4:80: E501 line too long (89 > 79 characters)\n"
     ]
    }
   ],
   "source": [
    "# TO DO - define a class for each table\n",
    "import warnings\n",
    "\n",
    "#https://stackoverflow.com/questions/28208949/log-stack-trace-for-python-warning/29567225\n",
    "import traceback\n",
    "\n",
    "_formatwarning = warnings.formatwarning"
   ]
  },
  {
   "cell_type": "markdown",
   "metadata": {},
   "source": [
    "The following generates stacktrace warnings useful when debugging in IPython notebook kernel environment."
   ]
  },
  {
   "cell_type": "code",
   "execution_count": 7,
   "metadata": {},
   "outputs": [],
   "source": [
    "def formatwarning_tb(*args, **kwargs):\n",
    "    \"\"\"Format warning message with added stack trace.\"\"\"\n",
    "    s = _formatwarning(*args, **kwargs)\n",
    "\n",
    "    _tb = traceback.format_stack()\n",
    "    tb = []\n",
    "    for i in _tb:\n",
    "        if 'ipython-input' in i:\n",
    "            tb.append(i)\n",
    "    s += ''.join(tb[:-1])\n",
    "    return s\n",
    "\n",
    "\n",
    "warnings.formatwarning = formatwarning_tb\n",
    "# logging.captureWarnings(True)\n",
    "\n",
    "\n",
    "class IPythonWarner:\n",
    "    \"\"\"Tools for reporting warnings.\"\"\"\n",
    "\n",
    "    def __init__(self, nowarn=False):\n",
    "        \"\"\"Initialise class with nowarn attribute.\"\"\"\n",
    "        self.nowarn = nowarn or None\n",
    "\n",
    "    def warner(self, cond, msg, nowarn=None):\n",
    "        \"\"\"Test a condition and if True display a warning message.\"\"\"\n",
    "        if nowarn is None:\n",
    "            nowarn = self.nowarn\n",
    "\n",
    "        if not nowarn and cond:\n",
    "            warnings.warn(msg)\n",
    "\n",
    "\n"
   ]
  },
  {
   "cell_type": "code",
   "execution_count": 8,
   "metadata": {},
   "outputs": [],
   "source": [
    "class Pickler:\n",
    "    \"\"\"Pickle support for class.\"\"\"\n",
    "\n",
    "    def __init__(self, nowarn=False):\n",
    "        \"\"\"Initialise pickler.\"\"\"\n",
    "        pass\n",
    "\n",
    "    def pickle(self, fn=None):\n",
    "        \"\"\"Pickle self.\"\"\"\n",
    "        fn = fn or f'{uuid.uuid4().hex}.pickle'\n",
    "        self.db = None\n",
    "        with open(fn, 'wb') as f:\n",
    "            pickle.dump(self, f)\n",
    "            print(f'Pickled to {fn}')\n",
    "        self.db_connect(dbname=self.dbname)"
   ]
  },
  {
   "cell_type": "code",
   "execution_count": null,
   "metadata": {},
   "outputs": [],
   "source": []
  },
  {
   "cell_type": "code",
   "execution_count": null,
   "metadata": {},
   "outputs": [],
   "source": [
    "# TO DO\n",
    "\n",
    "# how about a SqliteDB class that can provde db methods. Use sqlite_utils.\n",
    "# upserter is most important, so can save each table: upsert(table, df, key)\n",
    "# upserter may require col renaming or additional cols to df before upsert"
   ]
  },
  {
   "cell_type": "code",
   "execution_count": null,
   "metadata": {},
   "outputs": [],
   "source": [
    "class SQLiteDB:\n",
    "    \"\"\"Simple sqlite utils.\"\"\"\n",
    "\n",
    "    def __init__(self, dbname=None, nowarn=True):\n",
    "        \"\"\"Create db connection if dbname provided.\"\"\"\n",
    "        if dbname:\n",
    "            self.db_connect(dbname)\n",
    "\n",
    "    def db_connect(self, dbname=None):\n",
    "        \"\"\"\n",
    "        Connect to a db.\n",
    "\n",
    "        Give the file a randomly generated name if one not provided.\n",
    "        \"\"\"\n",
    "        dbname = dbname or f'{uuid.uuid4().hex}.db'\n",
    "        if not _checkattr(self, dbname) or (dbname and self.dbname != dbname):\n",
    "            self.dbname = dbname\n",
    "        else:\n",
    "            self.dbname = dbname\n",
    "\n",
    "        self.db = Database(self.dbname)\n",
    "\n",
    "    def upsert(self, table, data=None, pk=None):\n",
    "        \"\"\"\n",
    "        Upsert data to database.\n",
    "\n",
    "        If we forget to create a database, this will create one.\n",
    "        \"\"\"\n",
    "        print(f'upserting into {table}')\n",
    "        _upserts = []\n",
    "\n",
    "        if isinstance(table, str):\n",
    "            if _notnull(data) and pk is not None:\n",
    "                # One table\n",
    "                _upserts.append((table, data, pk))\n",
    "            # Check data is None. It may be {}, which would be data...\n",
    "            elif hasattr(self, table) and data is None and pk is not None:\n",
    "                # One table, data from self attribute\n",
    "                data = getattr(self, table)\n",
    "                _upserts.append((table, data, pk))\n",
    "        elif isinstance(table, tuple) and len(table) == 2 and _isnull(data):\n",
    "            (_table, _pk) = table\n",
    "            if isinstance(_table, str) and hasattr(self, _table) and _pk is not None:\n",
    "                _data = getattr(self, _table)\n",
    "                _upserts.append((_table, _data, _pk))\n",
    "        elif isinstance(table, list) and _isnull(data):\n",
    "            # Several tables from self  attributes: [(table, pk), ..]\n",
    "            for _t in table:\n",
    "                if isinstance(_t, tuple) and len(_t) == 2:\n",
    "                    (_table, _pk) = _t\n",
    "                    if isinstance(_table, str) and hasattr(self, _table) and _pk is not None:\n",
    "                        _data = getattr(self, _table)\n",
    "                        _upserts.append((_table, _data, _pk))\n",
    "\n",
    "        # TO DO - if the pk is none, and data is a df, use the df index?\n",
    "\n",
    "        if not _checkattr(self, 'dbname') and not _checkattr(self, 'db'):\n",
    "            self.db_connect()\n",
    "\n",
    "        # The alter=True allows us the table to be modified if we have extra columns\n",
    "        for (_table, _data, _pk) in _upserts:\n",
    "            # TO DO - the try is to cope with this issue:\n",
    "            # https://github.com/simonw/sqlite-utils/issues/73#issuecomment-571138093\n",
    "            # The ignore does not result in a dupe: the original row is left in place\n",
    "            if isinstance(_data, pd.DataFrame) and _notnull(_data) and _pk is not None:\n",
    "                try:\n",
    "                    self.db[_table].upsert_all(_data.to_dict(orient='records'),\n",
    "                                               pk=_pk, alter=True)\n",
    "                except:\n",
    "                    try:\n",
    "                        self.db[_table].insert_all(_data.to_dict(orient='records'),\n",
    "                                                   pk=_pk, alter=True, replace=True)\n",
    "                    except:\n",
    "                        warning(f\"Couldn't add data to {_table} with PK {_pk}\")\n",
    "\n",
    "            elif isinstance(_data, dict) and _data and _pk is not None:\n",
    "                try:\n",
    "                    self.db[_table].upsert_all(_data, pk=_pk, alter=True)\n",
    "                except:\n",
    "                    try:\n",
    "                        self.db[_table].insert_all(_data, pk=_pk,\n",
    "                                                   alter=True, replace=True)\n",
    "                    except:\n",
    "                        warning(f\"Couldn't add data to {_table} with PK {_pk}\")\n",
    "                        \n",
    "        # TO DO  - what if we have a dict of dicts like for the stagesplits etc?\n",
    "\n",
    "    def dbfy(self, table, data=None, pk=None):\n",
    "        \"\"\"If we have a database, use it.\"\"\"\n",
    "        if hasattr(self, 'db'):\n",
    "            self.upsert(table, data, pk)\n",
    "\n",
    "    def q(self, query):\n",
    "        \"\"\"Run SQL query on db, returning a dataframe.\"\"\"\n",
    "        if hasattr(self, 'db'):\n",
    "            return pd.read_sql(query, self.db.conn)\n",
    "\n",
    "    def dbtables(self):\n",
    "        \"\"\"Show tables in db.\"\"\"\n",
    "        query = \"SELECT * FROM sqlite_master where type='table';\"\n",
    "        return self.q(query)\n",
    "\n",
    "    def exportschema(self, fn='WRC2020db_setup.sql'):\n",
    "        \"\"\"Export database schema.\"\"\"\n",
    "        with open(fn, 'w') as f:\n",
    "            for table in self.dbtables()['sql']:\n",
    "                f.write(f'{table}\\n\\n')\n",
    "\n",
    "    def dump(self, fn='WRC2020db.sql'):\n",
    "        \"\"\"Export database contents to text file.\"\"\"\n",
    "        with open(fn, 'w') as f:\n",
    "            for line in self.db.conn.iterdump():\n",
    "                f.write(f'{line}\\n')"
   ]
  },
  {
   "cell_type": "code",
   "execution_count": null,
   "metadata": {},
   "outputs": [],
   "source": [
    "class WRCBase(IPythonWarner, SQLiteDB, Pickler):\n",
    "    \"\"\"Base class for all WRC stuff.\"\"\"\n",
    "\n",
    "    def __init__(self, nowarn=True, dbname=None):\n",
    "        \"\"\"Add universal classes to WRCBase class.\"\"\"\n",
    "        IPythonWarner.__init__(self, nowarn=nowarn)\n",
    "        SQLiteDB.__init__(self, dbname=dbname)\n",
    "\n",
    "    def _null():\n",
    "        pass"
   ]
  },
  {
   "cell_type": "code",
   "execution_count": null,
   "metadata": {},
   "outputs": [],
   "source": [
    "class WRCLive(WRCBase):\n",
    "    \"\"\"Base class for live rallies.\"\"\"\n",
    "\n",
    "    def __init__(self, live=False, dbname=None):\n",
    "        \"\"\"Initialise class for live datasets.\"\"\"\n",
    "        WRCBase.__init__(self, dbname=dbname)\n",
    "\n",
    "        self.live = live\n",
    "        \n",
    "    def stageStatus(self, stageId):\n",
    "        \"\"\"Get status of a stage.\"\"\"\n",
    "        if hasattr(self, 'stages'):\n",
    "            _stage_status = self.stages.loc[self.stages['stageId'] == stageId]\n",
    "            if not _stage_status.empty:\n",
    "                return _stage_status['status'].iloc[0]\n",
    "        \n",
    "        return None"
   ]
  },
  {
   "cell_type": "code",
   "execution_count": null,
   "metadata": {
    "run_control": {
     "marked": false
    }
   },
   "outputs": [],
   "source": [
    "class WRCSeasonBase(WRCBase):\n",
    "    \"\"\"Base class for things related to with seasons.\"\"\"\n",
    "\n",
    "    def __init__(self, season_external_id=None, autoseed=False,\n",
    "                 nowarn=True, dbname=None):\n",
    "        \"\"\"Add WRCBase class. Autoseed with season details if required.\"\"\"\n",
    "        WRCBase.__init__(self, nowarn=nowarn, dbname=dbname)\n",
    "\n",
    "        self.season_external_id = _jsInt(season_external_id)\n",
    "        if not self.season_external_id and autoseed:\n",
    "            self._check_season_external_id()\n",
    "\n",
    "    def _check_season_external_id(self, season_external_id=None):\n",
    "        \"\"\"Check that season_external_id exists and if not, get one.\"\"\"\n",
    "        self.season_external_id = _jsInt(season_external_id) or self.season_external_id\n",
    "        if not _checkattr(self, 'season_external_id'):\n",
    "            self.fetchSeasonExternalId(season_external_id)\n",
    "\n",
    "    def fetchSeasonExternalId(self, season_external_id=None):\n",
    "        \"\"\"Fetch a season external ID howsoever we can.\"\"\"\n",
    "        # Get current one from active rally\n",
    "        # It's also available from current_season_events\n",
    "        event, days, channels = getActiveRally()\n",
    "        self.event, self.days, self.channels = event, days, channels\n",
    "\n",
    "        # The returned np.int64 is not JSON serialisable\n",
    "        self.season_external_id = _jsInt(event.loc[0, 'season.externalId'])\n",
    "        # Upsert the data if there's a db connection\n",
    "        self.dbfy([('event', 'id'),\n",
    "                   ('days', 'id'),\n",
    "                   ('channels', 'id')])"
   ]
  },
  {
   "cell_type": "code",
   "execution_count": null,
   "metadata": {
    "tags": [
     "active-ipynb"
    ]
   },
   "outputs": [],
   "source": [
    "zz = WRCSeasonBase(autoseed=True)  # .season_external_id\n",
    "zz.db_connect()"
   ]
  },
  {
   "cell_type": "code",
   "execution_count": null,
   "metadata": {
    "tags": [
     "active-ipynb"
    ]
   },
   "outputs": [],
   "source": [
    "zz.pickle()\n",
    "!ls *.pickle"
   ]
  },
  {
   "cell_type": "code",
   "execution_count": null,
   "metadata": {},
   "outputs": [],
   "source": [
    "class WRCSeasonCategories(WRCSeasonBase):\n",
    "    \"\"\"Class describing season categories.\"\"\"\n",
    "\n",
    "    def __init__(self, autoseed=False, nowarn=True, dbname=None):\n",
    "        \"\"\"\n",
    "        Add season categories to base class.\n",
    "\n",
    "        Autoseed if required. Update db if available.\n",
    "        \"\"\"\n",
    "        WRCSeasonBase.__init__(self, nowarn=nowarn, dbname=dbname)\n",
    "\n",
    "        self.season_categories = None\n",
    "        self.championship_codes = None\n",
    "\n",
    "        if autoseed:\n",
    "            self.fetchSeasonCategories()\n",
    "\n",
    "    def fetchSeasonCategories(self):\n",
    "        \"\"\"Fetch season categories from WRC API. Add to db if required.\"\"\"\n",
    "        self.season_categories = getSeasonCategories()\n",
    "        self.championship_codes = getSeasonChampionshipCodes()\n",
    "        self.dbfy([('season_categories', 'id'),\n",
    "                   ('championship_codes', 'id')])"
   ]
  },
  {
   "cell_type": "code",
   "execution_count": null,
   "metadata": {
    "tags": [
     "active-ipynb"
    ]
   },
   "outputs": [],
   "source": [
    "zz = WRCSeasonCategories(dbname=TESTDB)\n",
    "zz.fetchSeasonCategories()\n",
    "zz.championship_codes\n",
    "zz.dbtables()"
   ]
  },
  {
   "cell_type": "code",
   "execution_count": null,
   "metadata": {},
   "outputs": [],
   "source": [
    "class WRCChampionship(WRCSeasonCategories):\n",
    "    \"\"\"Class for championship.\"\"\"\n",
    "\n",
    "    def __init__(self, category='WRC', typ='drivers',\n",
    "                 season_external_id=None,\n",
    "                 autoseed=False, nowarn=True, dbname=None):\n",
    "        \"\"\"Build on season categories with championship details.\"\"\"\n",
    "        WRCSeasonCategories.__init__(self, autoseed=False,\n",
    "                                     nowarn=True, dbname=dbname)\n",
    "\n",
    "        self.championships = {}\n",
    "\n",
    "        if autoseed:\n",
    "            fetchChampionship(self, category=category, typ=typ,\n",
    "                              season_external_id=season_external_id)\n",
    "\n",
    "    def fetchChampionship(self, category='WRC',\n",
    "                          typ='drivers', season_external_id=None):\n",
    "        \"\"\"Get championship data from WRC API and update db if available.\"\"\"\n",
    "        self._check_season_external_id(season_external_id)\n",
    "        _c = self.championships\n",
    "        if category not in _c:\n",
    "            _c[category] = {}\n",
    "        _cc = _c[category]\n",
    "        if typ not in _cc:\n",
    "            _cc[typ] = {}\n",
    "        _cct = _cc[typ]\n",
    "        (_cct['championship'], _cct['championshipRounds'],\n",
    "         _cct['championshipEntries']) = getChampionship(category=category,\n",
    "                                                        typ=typ, season_external_id=season_external_id)\n",
    "\n",
    "        self.dbfy('championship', _cct['championship'], 'championshipId')\n",
    "        self.dbfy('championshipRounds', _cct['championshipRounds'],\n",
    "                  ['eventId', 'championshipId'])\n",
    "        self.dbfy('championshipEntries', _cct['championshipEntries'],\n",
    "                  ['championshipEntryId', 'championshipId', 'personId'])"
   ]
  },
  {
   "cell_type": "code",
   "execution_count": null,
   "metadata": {
    "tags": [
     "active-ipynb"
    ]
   },
   "outputs": [],
   "source": [
    "zz = WRCChampionship(dbname=TESTDB)\n",
    "zz.fetchChampionship()\n",
    "zz.dbtables()"
   ]
  },
  {
   "cell_type": "code",
   "execution_count": null,
   "metadata": {
    "lines_to_next_cell": 2
   },
   "outputs": [],
   "source": [
    "class WRCChampionshipStandings(WRCChampionship):\n",
    "    \"\"\"Standings for a championship.\"\"\"\n",
    "\n",
    "    def __init__(self, category='WRC', typ='drivers',\n",
    "                 season_external_id=None, autoseed=False,\n",
    "                 nowarn=True, dbname=None):\n",
    "        \"\"\"Build on championship with championship standings.\"\"\"\n",
    "        WRCChampionship.__init__(self, autoseed=False,\n",
    "                                 season_external_id=season_external_id,\n",
    "                                 nowarn=True, dbname=dbname)\n",
    "\n",
    "        self.championship_standings = {}\n",
    "\n",
    "        if autoseed:\n",
    "            fetchChampionshipStandings(self, category=category, typ=typ,\n",
    "                                       season_external_id=season_external_id)\n",
    "\n",
    "    def fetchChampionshipStandings(self, category='WRC',\n",
    "                                   typ='drivers', season_external_id=None):\n",
    "        \"\"\"Get championship standings from API and update db if available.\"\"\"\n",
    "        self._check_season_external_id(season_external_id)\n",
    "        _c = self.championship_standings\n",
    "        if category not in _c:\n",
    "            _c[category] = {}\n",
    "        _cc = _c[category]\n",
    "        if typ not in _cc:\n",
    "            _cc[typ] = {}\n",
    "        _cct = _cc[typ]\n",
    "        (_cct['championship_standings'],\n",
    "         _cct['round_results']) = getChampionshipStandings(category=category,\n",
    "                                                           typ=typ,\n",
    "                                                           season_external_id=season_external_id)\n",
    "\n",
    "        self.dbfy('championship_standings', _cct['championship_standings'],\n",
    "                  ['championshipId', 'championshipEntryId'])\n",
    "        self.dbfy('round_results', _cct['round_results'],\n",
    "                  ['championshipEntryId', 'championshipId', 'eventId'])"
   ]
  },
  {
   "cell_type": "code",
   "execution_count": null,
   "metadata": {
    "tags": [
     "active-ipynb"
    ]
   },
   "outputs": [],
   "source": [
    "zz = WRCChampionshipStandings(dbname=TESTDB)\n",
    "zz.fetchChampionshipStandings('JWRC')\n",
    "zz.fetchChampionshipStandings('WRC')\n",
    "zz.championship_standings\n",
    "zz.dbtables()"
   ]
  },
  {
   "cell_type": "markdown",
   "metadata": {},
   "source": [
    "TO DO  - in a clea environment, the following fails on first run. But if we run it again, it works."
   ]
  },
  {
   "cell_type": "code",
   "execution_count": null,
   "metadata": {},
   "outputs": [],
   "source": [
    "# TO DO - need a more general season events class?\n",
    "# If, that is, we can we look up arbitrary season events...\n",
    "\n",
    "\n",
    "class WRCActiveSeasonEvents(SQLiteDB):\n",
    "    \"\"\"Class for Season events.\"\"\"\n",
    "\n",
    "    def __init__(self, autoseed=False, dbname=None):\n",
    "        \"\"\"Create active season event class with db support.\"\"\"\n",
    "        SQLiteDB.__init__(self, dbname=dbname)\n",
    "\n",
    "        if autoseed:\n",
    "            self.fetchActiveSeasonEvents()\n",
    "\n",
    "    def fetchActiveSeasonEvents(self):\n",
    "        \"\"\"Fetch active season data from WRC API.\"\"\"\n",
    "        (self.current_season_events, self.eventdays,\n",
    "         self.eventchannel) = getActiveSeasonEvents()\n",
    "        self.dbfy([('current_season_events', 'id'),\n",
    "                   ('eventdays', 'id'),\n",
    "                   ('eventchannel', 'id')])"
   ]
  },
  {
   "cell_type": "code",
   "execution_count": null,
   "metadata": {
    "tags": [
     "active-ipynb"
    ]
   },
   "outputs": [],
   "source": [
    "zz = WRCActiveSeasonEvents(autoseed=True, dbname=TESTDB)\n",
    "zz.current_season_events.head()\n",
    "zz.fetchActiveSeasonEvents()\n",
    "zz.dbtables()"
   ]
  },
  {
   "cell_type": "code",
   "execution_count": null,
   "metadata": {
    "tags": [
     "active-ipynb"
    ]
   },
   "outputs": [],
   "source": [
    "zz.dbfy([('current_season_events', 'id')])\n",
    "zz.dbtables()"
   ]
  },
  {
   "cell_type": "code",
   "execution_count": null,
   "metadata": {},
   "outputs": [],
   "source": [
    "class WRCRally_sdb(WRCBase):\n",
    "    \"\"\"\n",
    "    Base class for things with an sdbRallyId.\n",
    "\n",
    "    Can also help find an active sdbRallyId.\n",
    "    \"\"\"\n",
    "\n",
    "    def __init__(self, sdbRallyId=None,\n",
    "                 autoseed=False, nowarn=True, dbname=None):\n",
    "        \"\"\"Initialise things that have a rallyId.\"\"\"\n",
    "        WRCBase.__init__(self, nowarn=nowarn, dbname=dbname)\n",
    "\n",
    "        self.warner(not sdbRallyId, \"sdbRallyId should really be set...\")\n",
    "\n",
    "        self.sdbRallyId = _jsInt(sdbRallyId)\n",
    "\n",
    "        if autoseed:\n",
    "            self._checkRallyId(sdbRallyId)\n",
    "\n",
    "    def _checkRallyId(self, sdbRallyId=None):\n",
    "        \"\"\"Return a rally ID or lookup active one.\"\"\"\n",
    "        sdbRallyId = _jsInt(sdbRallyId) or self.sdbRallyId\n",
    "        if not _checkattr(self, 'sdbRallyId'):\n",
    "            self.activerally = WRCActiveRally()\n",
    "            self.sdbRallyId = self.activerally.sdbRallyId\n",
    "            self.name = self.activerally.name\n",
    "\n",
    "        return self.sdbRallyId"
   ]
  },
  {
   "cell_type": "code",
   "execution_count": null,
   "metadata": {
    "tags": [
     "active-ipynb"
    ]
   },
   "outputs": [],
   "source": [
    "zz = WRCRally_sdb(nowarn=False, dbname=TESTDB)#.nowarn\n",
    "zz.dbtables()"
   ]
  },
  {
   "cell_type": "code",
   "execution_count": null,
   "metadata": {},
   "outputs": [],
   "source": [
    "class WRCActiveRally(WRCRally_sdb, WRCLive):\n",
    "    \"\"\"Create class for the active rally.\"\"\"\n",
    "\n",
    "    def __init__(self, live=False, dbname=False):\n",
    "        \"\"\"Active rally class builds on Rallyid and live classes.\"\"\"\n",
    "        WRCRally_sdb.__init__(self, nowarn=True, dbname=dbname)\n",
    "        WRCLive.__init__(self, live=live)\n",
    "\n",
    "        self.fetchData()\n",
    "\n",
    "    def fetchData(self):\n",
    "        \"\"\"Get data for active rally.\"\"\"\n",
    "        event, days, channels = getActiveRally()\n",
    "        self.event, self.days, self.channels = event, days, channels\n",
    "\n",
    "        self.dbfy([('event', 'id'),\n",
    "                   ('days', 'id'),\n",
    "                   ('channels', 'id')])\n",
    "\n",
    "        # np.int64 is not JSON serialisable\n",
    "        self.sdbRallyId = int(event.loc[0, 'id'])\n",
    "\n",
    "        self.name = event.loc[0, 'name']"
   ]
  },
  {
   "cell_type": "code",
   "execution_count": null,
   "metadata": {
    "tags": [
     "active-ipynb"
    ]
   },
   "outputs": [],
   "source": [
    "# zz = WRCActiveRally(dbname=TESTDB)#.sdbRallyId\n",
    "# zz.dbtables()\n",
    "zz = WRCActiveRally()"
   ]
  },
  {
   "cell_type": "code",
   "execution_count": null,
   "metadata": {
    "tags": [
     "active-ipynb"
    ]
   },
   "outputs": [],
   "source": [
    "zz.event"
   ]
  },
  {
   "cell_type": "code",
   "execution_count": null,
   "metadata": {
    "tags": [
     "active-ipynb"
    ]
   },
   "outputs": [],
   "source": [
    "zz = WRCRally_sdb(autoseed=True)\n",
    "print(zz.sdbRallyId)"
   ]
  },
  {
   "cell_type": "markdown",
   "metadata": {},
   "source": [
    "We use the `.fetchData()` method so as to ry not to be greedy. This way, we can define a class and start to work towards only grabbling the data if we need it."
   ]
  },
  {
   "cell_type": "code",
   "execution_count": null,
   "metadata": {},
   "outputs": [],
   "source": [
    "class WRCRetirements(WRCRally_sdb):\n",
    "    \"\"\"Callable class for retirements.\"\"\"\n",
    "\n",
    "    def __init__(self, sdbRallyId=None, live=False,\n",
    "                 autoseed=False, dbname=None):\n",
    "        \"\"\"Initialise retirements class.\"\"\"\n",
    "        WRCRally_sdb.__init__(self, sdbRallyId=sdbRallyId,\n",
    "                              autoseed=autoseed, dbname=dbname)\n",
    "\n",
    "        self.retirements = None\n",
    "\n",
    "        if self.sdbRallyId:\n",
    "            self.fetchRetirements(self.sdbRallyId)\n",
    "\n",
    "    def fetchRetirements(self, sdbRallyId=None):\n",
    "        \"\"\"Fetch retirements data from WRC API. Add to db if available.\"\"\"\n",
    "        self._checkRallyId(sdbRallyId)\n",
    "        self.retirements = getRetirements(self.sdbRallyId)\n",
    "\n",
    "        # Upsert the data if there's a db connection\n",
    "        self.dbfy([('retirements', 'retirementId')])\n",
    "\n",
    "    def __call__(self):\n",
    "        \"\"\"Make retirements class callable. Returns dataframe.\"\"\"\n",
    "        return self.retirements"
   ]
  },
  {
   "cell_type": "code",
   "execution_count": null,
   "metadata": {
    "tags": [
     "active-ipynb"
    ]
   },
   "outputs": [],
   "source": [
    "zz = WRCRetirements(autoseed=True, dbname=TESTDB)\n",
    "display(zz.retirements.head(3))\n",
    "zz.dbtables()"
   ]
  },
  {
   "cell_type": "code",
   "execution_count": null,
   "metadata": {},
   "outputs": [],
   "source": [
    "class WRCPenalties(WRCRally_sdb):\n",
    "    \"\"\"Callable class for penalties.\"\"\"\n",
    "\n",
    "    def __init__(self, sdbRallyId=None, live=False,\n",
    "                 autoseed=False, dbname=None):\n",
    "        \"\"\"Initialise penalties class.\"\"\"\n",
    "        WRCRally_sdb.__init__(self, sdbRallyId=sdbRallyId,\n",
    "                              autoseed=autoseed, dbname=dbname)\n",
    "\n",
    "        self.penalties = None\n",
    "\n",
    "        if self.sdbRallyId:\n",
    "            self.fetchPenalties(self.sdbRallyId)\n",
    "\n",
    "    def fetchPenalties(self, sdbRallyId=None):\n",
    "        \"\"\"Fetch penalties data from WRC API. Add to db if available.\"\"\"\n",
    "        self._checkRallyId(sdbRallyId)\n",
    "        self.penalties = getPenalties(self.sdbRallyId)\n",
    "\n",
    "        # Upsert the data if there's a db connection\n",
    "        self.dbfy([('penalties', 'penaltyId')])\n",
    "\n",
    "    def __call__(self):\n",
    "        \"\"\"Make penalties class callable. Returns dataframe.\"\"\"\n",
    "        return self.penalties"
   ]
  },
  {
   "cell_type": "code",
   "execution_count": null,
   "metadata": {
    "tags": [
     "active-ipynb"
    ]
   },
   "outputs": [],
   "source": [
    "zz = WRCPenalties(autoseed=True, dbname=TESTDB)\n",
    "display(zz.penalties.head(3))\n",
    "zz.dbtables()"
   ]
  },
  {
   "cell_type": "code",
   "execution_count": null,
   "metadata": {},
   "outputs": [],
   "source": [
    "class WRCStagewinners(WRCRally_sdb):\n",
    "    \"\"\"Callable class for penalties.\"\"\"\n",
    "\n",
    "    def __init__(self, sdbRallyId=None, live=False, autoseed=False, dbname=None):\n",
    "        \"\"\"Initialise penalties class.\"\"\"\n",
    "        WRCRally_sdb.__init__(self, sdbRallyId=sdbRallyId,\n",
    "                              autoseed=autoseed, dbname=dbname)\n",
    "\n",
    "        self.stagewinners = None\n",
    "\n",
    "        if self.sdbRallyId:\n",
    "            self.fetchStagewinners(self.sdbRallyId)\n",
    "\n",
    "    def fetchStagewinners(self, sdbRallyId=None):\n",
    "        \"\"\"Fetch the data from WRC API.\"\"\"\n",
    "        self._checkRallyId(sdbRallyId)\n",
    "        self.stagewinners = getStagewinners(self.sdbRallyId)\n",
    "\n",
    "        self.dbfy(('stagewinners', ['stageId', 'entryId']))\n",
    "\n",
    "    def __call__(self):\n",
    "        \"\"\"Make stagewinners class callable. Returns dataframe.\"\"\"\n",
    "        return self.stagewinners"
   ]
  },
  {
   "cell_type": "code",
   "execution_count": null,
   "metadata": {
    "tags": [
     "active-ipynb"
    ]
   },
   "outputs": [],
   "source": [
    "zz = WRCStagewinners(dbname=TESTDB)\n",
    "zz.fetchStagewinners()\n",
    "display(zz.stagewinners.head())\n",
    "zz.dbtables()"
   ]
  },
  {
   "cell_type": "code",
   "execution_count": null,
   "metadata": {},
   "outputs": [],
   "source": [
    "class WRCItinerary(WRCRally_sdb, WRCLive):\n",
    "    \"\"\"Class for WRC2020 Itinerary.\"\"\"\n",
    "\n",
    "    def __init__(self, sdbRallyId=None, live=False, autoseed=False, dbname=None):\n",
    "        \"\"\"Initialise itinerary class.\"\"\"\n",
    "        WRCRally_sdb.__init__(self, sdbRallyId=sdbRallyId, autoseed=autoseed, dbname=dbname)\n",
    "        WRCLive.__init__(self, live=live)\n",
    "\n",
    "        self.itinerary = None\n",
    "        self.legs = None\n",
    "        self.sections = None\n",
    "        self.controls = None\n",
    "        self.stages = None\n",
    "\n",
    "        if self.sdbRallyId:\n",
    "            self.fetchItinerary(sdbRallyId)\n",
    "\n",
    "    def _checkItinerary(self):\n",
    "        \"\"\"\n",
    "        Check itinerary.\n",
    "\n",
    "        If rally not known, use active rally.\n",
    "        Also set a default startListId.\n",
    "        \"\"\"\n",
    "        _itinerary_items = ['itinerary', 'legs', 'sections', 'controls', 'stages']\n",
    "        if not all([_checkattr(self, i) for i in _itinerary_items]):\n",
    "            self.fetchItinerary()\n",
    "\n",
    "    def fetchItinerary(self, sdbRallyId=None):\n",
    "        \"\"\"Fetch the data from WRC API.\"\"\"\n",
    "        self._checkRallyId(sdbRallyId)\n",
    "        (self.itinerary, self.legs, self.sections,\n",
    "         self.controls, self.stages) = getItinerary(self.sdbRallyId)\n",
    "\n",
    "        _ccols = ['code'] + (list(set(self.controls.columns) - set(self.stages.columns)))\n",
    "        self.richstages = self.stages.merge(self.controls[_ccols], on='code')\n",
    "\n",
    "        self.dbfy([('itinerary', ['itineraryId']),\n",
    "                   ('legs', ['itineraryLegId']),\n",
    "                   ('sections', ['itinerarySectionId']),\n",
    "                   ('controls', ['controlId']),\n",
    "                   ('stages', ['stageId']),\n",
    "                   ('richstages', ['stageId'])])\n",
    "\n",
    "    def getStageIdFromCode(self, code=None):\n",
    "        \"\"\"Return a stageID from a single codes.\"\"\"\n",
    "        if code and isinstance(code, str) and _checkattr(self, 'stages'):\n",
    "            _df = self.stages[self.stages['code'] == code][['rallyid', 'stageId']]\n",
    "            return tuple(_df.iloc[0])\n",
    "        elif code and isinstance(code, list):\n",
    "            # TO DO - this might be dangerous if we are expencting a single tuple response\n",
    "            getStageIdsFromCode(code, response='tuples')\n",
    "\n",
    "    def getStageIdsFromCode(self, code=None, response='dict'):\n",
    "        \"\"\"Return a stageID from one or more codes.\"\"\"\n",
    "        if code and _checkattr(self, 'stages'):\n",
    "            _df = self.stages[self.stages['code'].isin(listify(code))][['code', 'rallyid', 'stageId']]\n",
    "            if response == 'df':\n",
    "                return _df\n",
    "            elif response == 'tuples':\n",
    "                return list(_df.itertuples(index=False, name=None))\n",
    "            return _df.set_index('code').to_dict(orient='index')\n",
    "\n",
    "    def getStageIds(self, typ='all', response='dict'):\n",
    "        \"\"\"Return stageIDs by stage status.\"\"\"\n",
    "        if _checkattr(self, 'stages'):\n",
    "            if typ == 'all':\n",
    "                _df = self.stages[['code', 'rallyid', 'stageId']]\n",
    "            else:\n",
    "                if typ == 'completed':\n",
    "                    _statuses = ['Completed', 'Interrupted']\n",
    "                elif typ == 'onlycompleted':\n",
    "                    _statuses = ['Completed']\n",
    "                elif typ == 'interrupted':\n",
    "                    _statuses = ['Interrupted']\n",
    "                _df = self.stages[self.stages['status'].isin(_statuses)][['code', 'rallyid', 'stageId']]\n",
    "\n",
    "            if response == 'df':\n",
    "                return _df\n",
    "            elif response == 'tuples':\n",
    "                return list(_df.itertuples(index=False, name=None))\n",
    "            return _df.set_index('code').to_dict(orient='index')"
   ]
  },
  {
   "cell_type": "code",
   "execution_count": null,
   "metadata": {},
   "outputs": [],
   "source": []
  },
  {
   "cell_type": "code",
   "execution_count": null,
   "metadata": {
    "tags": [
     "active-ipynb"
    ]
   },
   "outputs": [],
   "source": [
    "sdbRallyId = 100\n",
    "zz = WRCItinerary(sdbRallyId, autoseed=True, dbname=TESTDB)\n",
    "zz.dbtables()"
   ]
  },
  {
   "cell_type": "code",
   "execution_count": null,
   "metadata": {
    "tags": [
     "active-ipynb"
    ]
   },
   "outputs": [],
   "source": [
    "zz.getStageIds('interrupted')\n",
    "zz.getStageIds()"
   ]
  },
  {
   "cell_type": "code",
   "execution_count": null,
   "metadata": {
    "tags": [
     "active-ipynb"
    ]
   },
   "outputs": [],
   "source": [
    "WRCItinerary(sdbRallyId=100).legs"
   ]
  },
  {
   "cell_type": "code",
   "execution_count": null,
   "metadata": {},
   "outputs": [],
   "source": [
    "class WRCStartlist(WRCItinerary):\n",
    "    \"\"\"Class for WRC2020 Startlist table.\"\"\"\n",
    "\n",
    "    def __init__(self, startListId=None, live=False, autoseed=True,\n",
    "                 nowarn=False, dbname=None):\n",
    "        \"\"\"Startlist class, builds on itinerary class.\"\"\"\n",
    "        WRCItinerary.__init__(self, live=live, autoseed=autoseed,\n",
    "                              dbname=dbname)\n",
    "\n",
    "        self.startListId = _jsInt(startListId)\n",
    "\n",
    "        self.startList = None\n",
    "        self.startListItems = None\n",
    "\n",
    "        if not nowarn and not self.startListId:\n",
    "            warnings.warn(\"startListId should really be set..\")\n",
    "\n",
    "        if self.startListId or autoseed:\n",
    "            self.fetchStartList(self.startListId)\n",
    "\n",
    "    def _checkStartListId(self, startListId=None):\n",
    "        \"\"\"Return a startlistId or look one up.\"\"\"\n",
    "        self._checkItinerary()\n",
    "        self.startListId = _jsInt(startListId or self.startListId)\n",
    "\n",
    "        if not self.startListId:\n",
    "            self.startListId = int(self.legs.loc[0, 'startListId'])\n",
    "\n",
    "    def fetchStartList(self, startListId=None):\n",
    "        \"\"\"Get startlist data from API. Add to db if available.\"\"\"\n",
    "        self._checkStartListId(startListId)\n",
    "        (startList, startListItems) = getStartlist(self.startListId)\n",
    "        self.startList, self.startListItems = startList, startListItems\n",
    "        self.dbfy([('startList', ['startListId']),\n",
    "                   ('startListItems', ['startListItemId'])])"
   ]
  },
  {
   "cell_type": "code",
   "execution_count": null,
   "metadata": {
    "tags": [
     "active-ipynb"
    ]
   },
   "outputs": [],
   "source": [
    "zz = WRCStartlist()  # (autoseed=True, dbname=TESTDB)\n",
    "# zz.fetchStartList()\n",
    "zz.startListId"
   ]
  },
  {
   "cell_type": "code",
   "execution_count": null,
   "metadata": {},
   "outputs": [],
   "source": [
    "class WRCCars(WRCRally_sdb):\n",
    "    \"\"\"Class for WRC2020 Cars table.\"\"\"\n",
    "\n",
    "    def __init__(self, sdbRallyId=None, live=False,\n",
    "                 autoseed=False, dbname=None):\n",
    "        \"\"\"Cars class, building on rallyid class.\"\"\"\n",
    "        WRCRally_sdb.__init__(self, sdbRallyId=sdbRallyId,\n",
    "                              autoseed=autoseed, dbname=dbname)\n",
    "\n",
    "        self.cars = None\n",
    "        self.classes = None\n",
    "\n",
    "        if self.sdbRallyId:\n",
    "            self.fetchCars(sdbRallyId)\n",
    "\n",
    "    def fetchCars(self, sdbRallyId=None):\n",
    "        \"\"\"Fetch cars data from WRC API. Add to db if available.\"\"\"\n",
    "        self._checkRallyId(sdbRallyId)\n",
    "        cars, classes = getCars(self.sdbRallyId)\n",
    "        self.cars, self.classes = cars, classes\n",
    "        self.dbfy([('cars', ['entryId', 'eventId']),\n",
    "                   ('classes', ['entryId'])])"
   ]
  },
  {
   "cell_type": "code",
   "execution_count": null,
   "metadata": {
    "tags": [
     "active-ipynb"
    ]
   },
   "outputs": [],
   "source": [
    "zz = WRCCars(autoseed=True, dbname=TESTDB)\n",
    "zz.dbtables()"
   ]
  },
  {
   "cell_type": "code",
   "execution_count": null,
   "metadata": {},
   "outputs": [],
   "source": [
    "class WRCRally(WRCRally_sdb):\n",
    "    \"\"\"Class for WRC2020 Rally table. This gives external ids.\"\"\"\n",
    "\n",
    "    def __init__(self, sdbRallyId=None, autoseed=False, dbname=False):\n",
    "        \"\"\"Rally class, builds on rallid class.\"\"\"\n",
    "        WRCRally_sdb.__init__(self, sdbRallyId=sdbRallyId,\n",
    "                              autoseed=autoseed, dbname=dbname)\n",
    "\n",
    "        self.rally = None\n",
    "        self.eligibilities = None\n",
    "        self.groups = None\n",
    "\n",
    "        if self.sdbRallyId:\n",
    "            self.fetchRally(sdbRallyId)\n",
    "\n",
    "    def fetchRally(self, sdbRallyId=None):\n",
    "        \"\"\"Fetch rally details from WRC API. Add to db if avaailable.\"\"\"\n",
    "        self._checkRallyId(sdbRallyId)\n",
    "        (self.rally, self.eligibilities, self.groups) = getRally(self.sdbRallyId)\n",
    "        self.dbfy([('rally', ['sdbRallyId']),\n",
    "                   ('eligibilities', ['sdbRallyId', 'category']),\n",
    "                   ('groups', ['sdbRallyId', 'groupId'])])\n",
    "\n",
    "    # TO DO - define iterators?"
   ]
  },
  {
   "cell_type": "code",
   "execution_count": null,
   "metadata": {
    "tags": [
     "active-ipynb"
    ]
   },
   "outputs": [],
   "source": [
    "zz = WRCRally(autoseed=True, dbname=TESTDB)\n",
    "display(zz.rally)\n",
    "# zz.dbtables()"
   ]
  },
  {
   "cell_type": "code",
   "execution_count": null,
   "metadata": {},
   "outputs": [],
   "source": [
    "# TO DO - have a check stages function to get some data...\n",
    "\n",
    "\n",
    "class WRCRallyStages(WRCItinerary):\n",
    "    \"\"\"Class referring to all rally stages.\"\"\"\n",
    "\n",
    "    def __init__(self, sdbRallyId=None, live=False,\n",
    "                 autoseed=False, nowarn=True, dbname=None):\n",
    "        \"\"\"Rally stages class;. Builds on itinerary.\"\"\"\n",
    "        WRCItinerary.__init__(self, sdbRallyId=None, live=False,\n",
    "                              autoseed=autoseed, dbname=dbname)\n",
    "\n",
    "        self.sdbRallyId = _jsInt(sdbRallyId)\n",
    "\n",
    "        if autoseed:\n",
    "            self._checkStages(self.sdbRallyId)\n",
    "\n",
    "    def _checkStages(self, sdbRallyId=None):\n",
    "        \"\"\"Return a stages list or lookup list for active rally.\"\"\"\n",
    "        # Have we got an sdbRallyId?\n",
    "        if not _checkattr(self, 'stages'):\n",
    "            self.fetchStages(sdbRallyId=None)\n",
    "\n",
    "    def fetchStages(self, sdbRallyId=None):\n",
    "        \"\"\"Fetch stages for a specified rally.\"\"\"\n",
    "        self._checkItinerary()\n",
    "        self.activerally = WRCActiveRally()\n",
    "        self.sdbRallyId = self.activerally.sdbRallyId\n",
    "        self.name = self.activerally.name\n",
    "\n",
    "    def lastCompletedStage(self):\n",
    "        \"\"\"Return last completed stage ID.\"\"\"\n",
    "        return self.stages[self.stages['status'] == 'Completed'].iloc[-1]['stageId']"
   ]
  },
  {
   "cell_type": "code",
   "execution_count": null,
   "metadata": {
    "tags": [
     "active-ipynb"
    ]
   },
   "outputs": [],
   "source": [
    "zz = WRCRallyStages(autoseed=True, dbname=TESTDB)\n",
    "zz.richstages.head()  # stages / controls\n",
    "# zz._checkStages()[1].head()\n",
    "# zz.lastCompletedStage()\n",
    "zz.dbtables()"
   ]
  },
  {
   "cell_type": "code",
   "execution_count": null,
   "metadata": {
    "tags": [
     "active-ipynb"
    ]
   },
   "outputs": [],
   "source": [
    "zz.lastCompletedStage()"
   ]
  },
  {
   "cell_type": "code",
   "execution_count": null,
   "metadata": {},
   "outputs": [],
   "source": [
    "# Does this actually do anything other than possible checks?\n",
    "\n",
    "\n",
    "class WRCRallyStage(WRCRallyStages):\n",
    "    \"\"\"\n",
    "    Base class for things with a stageId.\n",
    "\n",
    "    Can also help find a stageId list for a given rally.\n",
    "    \"\"\"\n",
    "\n",
    "    def __init__(self, sdbRallyId=None, stageId=None, live=False,\n",
    "                 autoseed=False, nowarn=True, dbname=None):\n",
    "        \"\"\"Rallystage class. Builds on rally stages.\"\"\"\n",
    "        WRCRallyStages.__init__(self, sdbRallyId=sdbRallyId,\n",
    "                                live=live, autoseed=autoseed,\n",
    "                                nowarn=nowarn, dbname=dbname)\n",
    "\n",
    "        if not nowarn:\n",
    "            if not sdbRallyId:\n",
    "                warnings.warn(\"sdbRallyId should really be set...\")\n",
    "            if not stageId:\n",
    "                warnings.warn(\"stageId should really be set...\")\n",
    "\n",
    "        self.stageId = _jsInt(stageId)\n",
    "\n",
    "        if autoseed:\n",
    "            fetchData(self.sdbRallyId, stageId)\n",
    "\n",
    "    def _checkStageId(self, sdbRallyId=None,\n",
    "                      stageId=None, fallback='lastCompleted'):\n",
    "        \"\"\"Return a stage ID or lookup a current one.\"\"\"\n",
    "        self._checkRallyId(sdbRallyId)\n",
    "\n",
    "        stageId = _jsInt(stageId)\n",
    "\n",
    "        # One method for finding a stage ID - last completed\n",
    "        if not stageId:\n",
    "            if 'lastCompleted':\n",
    "                stageId = _jsInt(self.lastCompletedStage())\n",
    "            # What else? Most recent still running, else lastCompleted?\n",
    "        return stageId\n",
    "        # sdbRallyId = sdbRallyId or self.sdbRallyId\n",
    "        # if not hasattr(self, 'sdbRallyId') or not self.sdbRallyId:\n",
    "        #    self.activerally = WRCActiveRally()\n",
    "        #    self.sdbRallyId = self.activerally.sdbRallyId\n",
    "        #    self.name = self.activerally.name\n",
    "        # return self.sdbRallyId\n"
   ]
  },
  {
   "cell_type": "code",
   "execution_count": null,
   "metadata": {
    "tags": [
     "active-ipynb"
    ]
   },
   "outputs": [],
   "source": [
    "zz = WRCRallyStage()"
   ]
  },
  {
   "cell_type": "markdown",
   "metadata": {},
   "source": [
    "# TO DO\n",
    "\n",
    "Build in iterator to grab all stage data. overall, stagetimes and splittimes build on stage class."
   ]
  },
  {
   "cell_type": "code",
   "execution_count": null,
   "metadata": {},
   "outputs": [],
   "source": [
    "class WRCOverall(WRCRallyStage):\n",
    "    \"\"\"Class for overall stage table.\"\"\"\n",
    "\n",
    "    def __init__(self, sdbRallyId=None, stageId=None, live=False,\n",
    "                 autoseed=False, nowarn=True, dbname=None):\n",
    "        \"\"\"Overall class. Builds on Rallystage class.\"\"\"\n",
    "        WRCRallyStage.__init__(self, sdbRallyId=sdbRallyId, stageId=stageId,\n",
    "                               live=live, autoseed=autoseed,\n",
    "                               nowarn=nowarn, dbname=dbname)\n",
    "\n",
    "        self.overall = {}\n",
    "\n",
    "        if stageId:\n",
    "            self.fetchOverall(self.sdbRallyId, stageId)\n",
    "\n",
    "        if autoseed:\n",
    "            pass\n",
    "\n",
    "    def fetchOverall(self, sdbRallyId=None, stageId=None):\n",
    "        \"\"\"Fetch the data from WRC API.\"\"\"\n",
    "        self._checkRallyId(sdbRallyId)\n",
    "        self._checkStages(self.sdbRallyId)\n",
    "        stageId = self._checkStageId(self.sdbRallyId, stageId)\n",
    "        \n",
    "        if self.stageStatus(stageId) == 'ToRun':\n",
    "            return\n",
    "\n",
    "        if stageId:\n",
    "            self.overall[stageId] = getOverall(self.sdbRallyId, stageId)\n",
    "            self.dbfy('overall', self.overall[stageId], ['stageId', 'entryId'])\n",
    "\n",
    "    def __call__(self):\n",
    "        \"\"\"Make overall class callable. Returns dataframe.\"\"\"\n",
    "        return self.overall\n",
    "\n",
    "    def __repr__(self):\n",
    "        \"\"\"Overall class serialisation.\"\"\"\n",
    "        return f'Overall for stageIds: {\", \".join([str(k) for k in zz.overall.keys()])}'"
   ]
  },
  {
   "cell_type": "code",
   "execution_count": null,
   "metadata": {
    "tags": [
     "active-ipynb"
    ]
   },
   "outputs": [],
   "source": [
    "zz = WRCOverall(stageId=1528, dbname=TESTDB)\n",
    "#zz.fetchOverall()\n",
    "#zz.rallyId"
   ]
  },
  {
   "cell_type": "code",
   "execution_count": null,
   "metadata": {
    "tags": [
     "active-ipynb"
    ]
   },
   "outputs": [],
   "source": [
    "zz = WRCOverall(stageId=1528, dbname=TESTDB)\n",
    "zz.fetchOverall()\n",
    "zz.dbtables()"
   ]
  },
  {
   "cell_type": "code",
   "execution_count": null,
   "metadata": {
    "tags": [
     "active-ipynb"
    ]
   },
   "outputs": [],
   "source": [
    "zz._checkStages(sdbRallyId)\n",
    "display(zz.stages)"
   ]
  },
  {
   "cell_type": "markdown",
   "metadata": {},
   "source": [
    "### TO DO  - we can start experimenting with MotorsportView2020 classes here\n",
    "\n",
    "For example, set `self.astagetimes = {}` on `WRCStageTimes` that can then take stage indexed `Times` lists?"
   ]
  },
  {
   "cell_type": "code",
   "execution_count": null,
   "metadata": {},
   "outputs": [],
   "source": [
    "class WRCStageTimes(WRCRallyStage):\n",
    "    \"\"\"Class for stage times table.\"\"\"\n",
    "\n",
    "    def __init__(self, sdbRallyId=None, stageId=None, live=False,\n",
    "                 autoseed=False, nowarn=True, dbname=None):\n",
    "        \"\"\"Stage times class builds on rally stage.\"\"\"\n",
    "        WRCRallyStage.__init__(self, sdbRallyId=sdbRallyId,\n",
    "                               stageId=stageId, live=live,\n",
    "                               autoseed=autoseed, nowarn=nowarn,\n",
    "                               dbname=dbname)\n",
    "\n",
    "        self.stagetimes={}\n",
    "\n",
    "        if stageId:\n",
    "            self.fetchStageTimes(self.sdbRallyId, stageId)\n",
    "\n",
    "        if autoseed:\n",
    "            pass\n",
    "\n",
    "    def fetchStageTimes(self, sdbRallyId=None, stageId=None):\n",
    "        \"\"\"Fetch the data from WRC API.\"\"\"\n",
    "        stageId = _jsInt(stageId)\n",
    "        self._checkRallyId(sdbRallyId)\n",
    "        self._checkStages(self.sdbRallyId)\n",
    "        self._checkStageId(self.sdbRallyId, stageId)\n",
    "\n",
    "        if self.stageStatus(stageId) == 'ToRun':\n",
    "            return\n",
    "\n",
    "        if stageId:\n",
    "            self.stagetimes[stageId] = getStageTimes(self.sdbRallyId, stageId)\n",
    "            self.dbfy('stagetimes', self.stagetimes[stageId],\n",
    "                      ['stageId', 'entryId'])\n",
    "\n",
    "    def __call__(self):\n",
    "        \"\"\"Make stagetimes callable. Returns dataframe.\"\"\"\n",
    "        return self.stagetimes"
   ]
  },
  {
   "cell_type": "code",
   "execution_count": null,
   "metadata": {
    "tags": [
     "active-ipynb"
    ]
   },
   "outputs": [],
   "source": [
    "zz = WRCStageTimes(stageId = 1528, dbname=TESTDB)\n",
    "zz.fetchStageTimes()\n",
    "zz.dbtables()"
   ]
  },
  {
   "cell_type": "code",
   "execution_count": null,
   "metadata": {},
   "outputs": [],
   "source": [
    "## LINTED TO HERE"
   ]
  },
  {
   "cell_type": "code",
   "execution_count": null,
   "metadata": {},
   "outputs": [],
   "source": [
    "class WRCSplitTimes(WRCRallyStage):\n",
    "    \"\"\"Class for SplitTimes stage table.\"\"\"\n",
    "\n",
    "    def __init__(self, sdbRallyId=None, stageId=None,\n",
    "                 live=False, autoseed=False, dbname=None):\n",
    "        \"\"\"Split times class builds on rally stage.\"\"\"\n",
    "        WRCRallyStage.__init__(self, sdbRallyId=sdbRallyId,\n",
    "                               stageId=stageId, live=live,\n",
    "                               autoseed=autoseed, dbname=dbname)\n",
    "\n",
    "        self.splitPoints = {}\n",
    "        self.entrySplitPointTimes = {}\n",
    "        self.splitPointTimes = {}\n",
    "\n",
    "        if stageId:\n",
    "            self.fetchSplitTimes(self.sdbRallyId, stageId)\n",
    "\n",
    "        if autoseed:\n",
    "            pass\n",
    "\n",
    "    def fetchSplitTimes(self, sdbRallyId=None, stageId=None):\n",
    "        \"\"\"Get split times data from WRC API. Add to db if available.\"\"\"\n",
    "        stageId = _jsInt(stageId)\n",
    "        self._checkRallyId(sdbRallyId)\n",
    "        self._checkStages(self.sdbRallyId)\n",
    "        self._checkStageId(self.sdbRallyId, stageId)\n",
    "        \n",
    "        if self.stageStatus(stageId) == 'ToRun':\n",
    "            return\n",
    "        \n",
    "        if stageId:\n",
    "            (self.splitPoints[stageId], self.entrySplitPointTimes[stageId],\n",
    "             self.splitPointTimes[stageId]) = getSplitTimes(self.sdbRallyId, stageId)\n",
    "\n",
    "            self.dbfy('splitPoints',\n",
    "                      self.splitPoints[stageId],\n",
    "                      ['splitPointId', 'stageId'])\n",
    "            self.dbfy('entrySplitPointTimes',\n",
    "                      self.entrySplitPointTimes[stageId],\n",
    "                      ['stageId', 'entryId'])\n",
    "            self.dbfy('splitPointTimes',\n",
    "                      self.splitPointTimes[stageId],\n",
    "                      ['splitPointTimeId', 'splitPointId', 'entryId', 'stageId'])"
   ]
  },
  {
   "cell_type": "code",
   "execution_count": null,
   "metadata": {
    "lines_to_next_cell": 0,
    "tags": [
     "active-ipynb"
    ]
   },
   "outputs": [],
   "source": [
    "zz = WRCSplitTimes(stageId = 1528, dbname=TESTDB)\n",
    "zz.fetchSplitTimes()\n",
    "zz.dbtables()\n"
   ]
  },
  {
   "cell_type": "code",
   "execution_count": null,
   "metadata": {},
   "outputs": [],
   "source": []
  },
  {
   "cell_type": "code",
   "execution_count": null,
   "metadata": {
    "lines_to_next_cell": 2
   },
   "outputs": [],
   "source": []
  },
  {
   "cell_type": "markdown",
   "metadata": {},
   "source": [
    "TO DO - think about sqlite export."
   ]
  },
  {
   "cell_type": "code",
   "execution_count": null,
   "metadata": {
    "run_control": {
     "marked": false
    }
   },
   "outputs": [],
   "source": [
    "def WRCdatagetter(func):\n",
    "    \"\"\"\n",
    "    Run a passed in function then return a response.\n",
    "\n",
    "    Originally included other logic...\n",
    "    \"\"\"\n",
    "    def call(self):\n",
    "        \"\"\"Check attributes. If any missing, grab data as required.\"\"\"\n",
    "        (attrs, func2) = func(self)\n",
    "        if not attrs:\n",
    "            return None\n",
    "        if isinstance(attrs, str):\n",
    "            attrs = [attrs]\n",
    "        # Don't call the function if all the attributes that would be set\n",
    "        # by calling it are already set.\n",
    "        if not all([_checkattr(self, a) for a in attrs]):\n",
    "            func2()\n",
    "        if len(attrs) > 1:\n",
    "            return tuple(getattr(self, a) for a in attrs)\n",
    "        return getattr(self, attrs[0])\n",
    "    return call\n",
    "\n",
    "\n",
    "# This class will contain everything about a single rally\n",
    "class WRCEvent(WRCCars, WRCPenalties, WRCRetirements, WRCStartlist,\n",
    "               WRCRally, WRCStagewinners, WRCOverall,\n",
    "               WRCStageTimes, WRCSplitTimes):\n",
    "    \"\"\"\n",
    "    Class for a rally event.\n",
    "\n",
    "    Can be used to contain all the timing results data\n",
    "    from a WRC rally weekend.\n",
    "    \"\"\"\n",
    "\n",
    "    def __init__(self, sdbRallyId=None, stageId=None, live=False,\n",
    "                 autoseed=False, slurp=False, dbname=None):\n",
    "        \"\"\"Build on classes for each page of API/WRC live timing website.\"\"\"\n",
    "        WRCCars.__init__(self, sdbRallyId=sdbRallyId, live=live,\n",
    "                         autoseed=autoseed, dbname=dbname)\n",
    "        WRCPenalties.__init__(self, sdbRallyId=sdbRallyId, live=live,\n",
    "                              autoseed=autoseed, dbname=dbname)\n",
    "        WRCRetirements.__init__(self, sdbRallyId=sdbRallyId, live=live,\n",
    "                                autoseed=autoseed, dbname=dbname)\n",
    "        WRCStartlist.__init__(self, startListId=None, live=live,\n",
    "                              autoseed=autoseed, nowarn=True, dbname=dbname)\n",
    "        WRCRally.__init__(self, sdbRallyId=sdbRallyId,\n",
    "                          autoseed=autoseed, dbname=dbname)\n",
    "        WRCStagewinners.__init__(self, sdbRallyId=sdbRallyId,\n",
    "                                 autoseed=autoseed, dbname=dbname)\n",
    "        WRCOverall.__init__(self, sdbRallyId=sdbRallyId, stageId=stageId,\n",
    "                            autoseed=autoseed, dbname=dbname)\n",
    "        WRCStageTimes.__init__(self, sdbRallyId=sdbRallyId, stageId=stageId,\n",
    "                               autoseed=autoseed, dbname=dbname)\n",
    "        WRCSplitTimes.__init__(self, sdbRallyId=sdbRallyId, stageId=stageId,\n",
    "                               autoseed=autoseed, dbname=dbname)\n",
    "\n",
    "        if slurp:\n",
    "            self.rallyslurper()\n",
    "\n",
    "    def getRally(self):\n",
    "        \"\"\"Get external rally details.\"\"\"\n",
    "        attrs = ['rally', 'eligibilities', 'groups']\n",
    "        if not all([_checkattr(self, a) for a in attrs]):\n",
    "            self.fetchRally()\n",
    "        return tuple(getattr(self, a) for a in attrs)\n",
    "\n",
    "    def getItinerary(self):\n",
    "        \"\"\"\n",
    "        Get itinerary.\n",
    "\n",
    "        If rally not known, use active rally.\n",
    "        Also set a default startListId.\n",
    "        \"\"\"\n",
    "        self.fetchItinerary()\n",
    "        attrs = ['itinerary', 'legs', 'sections', 'controls', 'stages']\n",
    "        return tuple(getattr(self, a) for a in attrs)\n",
    "\n",
    "    def getStartlist(self, startListId=None):\n",
    "        \"\"\"\n",
    "        Get startlist.\n",
    "\n",
    "        If no startListId provided, try to find a default.\n",
    "        \"\"\"\n",
    "        self.fetchStartList()\n",
    "        attrs = ['startList', 'startListItems']\n",
    "        return tuple(getattr(self, a) for a in attrs)\n",
    "\n",
    "    def getPenalties(self):\n",
    "        \"\"\"Get penalties.\"\"\"\n",
    "        self.fetchPenalties()\n",
    "        return self.penalties\n",
    "\n",
    "    def getRetirements(self):\n",
    "        \"\"\"Get retirements.\"\"\"\n",
    "        self.fetchRetirements()\n",
    "        return self.retirements\n",
    "\n",
    "    def getStagewinners(self):\n",
    "        \"\"\"Get stagewinners.\"\"\"\n",
    "        self.fetchStagewinners()\n",
    "        return self.stagewinners\n",
    "\n",
    "    def getCars(self):\n",
    "        \"\"\"Get cars.\"\"\"\n",
    "        self.fetchCars()\n",
    "        attrs = ['cars', 'classes']\n",
    "        return tuple(getattr(self, a) for a in attrs)\n",
    "\n",
    "    # TO DO - different decorator\n",
    "    def getOverall(self, stageId=None):\n",
    "        \"\"\"Get Overall.\"\"\"\n",
    "        self._checkRallyId()\n",
    "        self._checkStages()\n",
    "\n",
    "        self.fetchOverall(self.sdbRallyId, stageId)\n",
    "\n",
    "        return self.overall\n",
    "\n",
    "    def getStageTimes(self, stageId=None):\n",
    "        \"\"\"Get StageTimes.\"\"\"\n",
    "        self._checkRallyId()\n",
    "        self._checkStages()\n",
    "\n",
    "        self.fetchStageTimes(self.sdbRallyId, stageId)\n",
    "        return self.stagetimes\n",
    "\n",
    "    def getSplitTimes(self, stageId=None):\n",
    "        \"\"\"Get SplitTimes.\"\"\"\n",
    "        self._checkRallyId()\n",
    "        self._checkStages()\n",
    "\n",
    "        self.fetchSplitTimes(self.sdbRallyId, stageId)\n",
    "\n",
    "        return (self.splitPoints, self.entrySplitPointTimes,\n",
    "                self.splitPointTimes)\n",
    "\n",
    "    def rallyslurper(self):\n",
    "        \"\"\"Grab everything...\"\"\"\n",
    "        self.getRally()\n",
    "        self.getItinerary()\n",
    "        self.getStartlist()\n",
    "        self.getPenalties()\n",
    "        self.getRetirements()\n",
    "        self.getStagewinners()\n",
    "        self.getCars()\n",
    "        _stageIds = self.getStageIds()\n",
    "        for ss in _stageIds:\n",
    "            print(ss, _stageIds[ss]['stageId'])\n",
    "            self.getOverall(_stageIds[ss]['stageId'])\n",
    "            self.getStageTimes(_stageIds[ss]['stageId'])\n",
    "            self.getSplitTimes(_stageIds[ss]['stageId'])"
   ]
  },
  {
   "cell_type": "code",
   "execution_count": null,
   "metadata": {
    "tags": [
     "active-ipynb"
    ]
   },
   "outputs": [],
   "source": [
    "!rm wrc2020bigtest1.db\n",
    "zz = WRCEvent(dbname='wrc2020bigtest1.db')\n",
    "\n",
    "zz.rallyslurper()"
   ]
  },
  {
   "cell_type": "code",
   "execution_count": null,
   "metadata": {
    "tags": [
     "active-ipynb"
    ]
   },
   "outputs": [],
   "source": [
    "zz.pickle('wrc-montecarlo.pickle')"
   ]
  },
  {
   "cell_type": "code",
   "execution_count": null,
   "metadata": {
    "tags": [
     "active-ipynb"
    ]
   },
   "outputs": [],
   "source": [
    "with open('WRC2020db.sql', 'w') as f:\n",
    "    f.write(''.join(zz.dbtables()['sql'].to_list()))\n",
    "!head WRC2020db.sql "
   ]
  },
  {
   "cell_type": "code",
   "execution_count": null,
   "metadata": {
    "tags": [
     "active-ipynb"
    ]
   },
   "outputs": [],
   "source": [
    "zz.db_connect(dbname='wrc2020bigtest1.db')\n",
    "zz.legs\n",
    "int(zz.legs.loc[0, 'startListId'])"
   ]
  },
  {
   "cell_type": "code",
   "execution_count": null,
   "metadata": {},
   "outputs": [],
   "source": [
    "#This class needs renaming...\n",
    "#What does it actually represent? An event? A live event? A set of events?\n",
    "\n",
    "# TO DO - this presumably is wrong if we call in in 2021?\n",
    "class WRC2020(WRCActiveSeasonEvents, WRCEvent):\n",
    "    \"\"\"Class for WRC data scrape using 2020 API.\"\"\"\n",
    "\n",
    "    def __init__(self, sdbRallyId=None, live=False, autoseed=False):\n",
    "        WRCActiveSeasonEvents.__init__(self, autoseed=autoseed)\n",
    "        WRCEvent.__init__(self, sdbRallyId, live)\n",
    "        \n",
    "        self.live = live\n",
    "        \n",
    "        \n",
    "    def getActiveSeasonEvents(self):\n",
    "        \"\"\"Get active (current) season events.\"\"\"\n",
    "        _current_season_events_attrs = ['current_season_events',\n",
    "                                         'eventdays', 'eventchannel' ]\n",
    "        if not any([hasattr(self,a) for a in _current_season_events_attrs]) or not _checkattr(self,'current_season_events'):\n",
    "            self.fetchActiveSeasonEvents()\n",
    "        return (self.current_season_events, self.eventdays, self.eventchannel)\n",
    "\n",
    "\n",
    "    \n",
    "    \n",
    "    \n",
    "    "
   ]
  },
  {
   "cell_type": "code",
   "execution_count": null,
   "metadata": {
    "tags": [
     "active-ipynb"
    ]
   },
   "outputs": [],
   "source": [
    "zz = WRC2020().getActiveSeasonEvents()\n",
    "#zz"
   ]
  },
  {
   "cell_type": "code",
   "execution_count": null,
   "metadata": {
    "tags": [
     "active-ipynb"
    ]
   },
   "outputs": [],
   "source": [
    "#zz = WRCEvent(slurp=True)"
   ]
  },
  {
   "cell_type": "code",
   "execution_count": null,
   "metadata": {
    "tags": [
     "active-ipynb"
    ]
   },
   "outputs": [],
   "source": [
    "zz = WRCEvent(autoseed=True, sdbRallyId=100)\n",
    "zz.getPenalties(sdbRallyId=100)"
   ]
  },
  {
   "cell_type": "code",
   "execution_count": null,
   "metadata": {
    "tags": [
     "active-ipynb"
    ]
   },
   "outputs": [],
   "source": [
    "wrc=WRC2020()\n",
    "wrc.getActiveSeasonEvents()\n",
    "wrc.activeseasonevents.current_season_events"
   ]
  },
  {
   "cell_type": "code",
   "execution_count": null,
   "metadata": {
    "tags": [
     "active-ipynb"
    ]
   },
   "outputs": [],
   "source": [
    "wrc.getStartlist()"
   ]
  },
  {
   "cell_type": "code",
   "execution_count": null,
   "metadata": {
    "tags": [
     "active-ipynb"
    ]
   },
   "outputs": [],
   "source": [
    "wrc.itinerary.sections"
   ]
  },
  {
   "cell_type": "code",
   "execution_count": null,
   "metadata": {
    "hideCode": true,
    "tags": [
     "active-ipynb"
    ]
   },
   "outputs": [],
   "source": [
    "itinerary, legs, sections, controls, stages = wrc.getItinerary()\n",
    "startList,startListItems = getStartlist(startListId)\n",
    "cars, classes = getCars(sdbRallyId)\n",
    "#rally, eligibilities, groups = getRally(sdbRallyId)\n",
    "#overall = getOverall(sdbRallyId, stageId)\n",
    "#splitPoints, entrySplitPointTimes, splitPointTimes = getSplitTimes(sdbRallyId,stageId)\n",
    "#stagetimes = getStageTimes(sdbRallyId,stageId)\n",
    "#stagewinners = getStagewinners(sdbRallyId)\n",
    "#penalties = getPenalties(sdbRallyId)\n",
    "#retirements = getRetirements(sdbRallyId)\n",
    "#championship = getChampionship()\n",
    "#championship = getChampionshipStandingsLive()"
   ]
  },
  {
   "cell_type": "code",
   "execution_count": null,
   "metadata": {
    "tags": [
     "active-ipynb"
    ]
   },
   "outputs": [],
   "source": [
    "current_season_events, eventdays, eventchannel = wrc.getActiveSeasonEvents()"
   ]
  },
  {
   "cell_type": "code",
   "execution_count": null,
   "metadata": {
    "tags": [
     "active-ipynb"
    ]
   },
   "outputs": [],
   "source": [
    "event, days, channels = wrc.getActiveRally()\n"
   ]
  },
  {
   "cell_type": "code",
   "execution_count": null,
   "metadata": {
    "tags": [
     "active-ipynb"
    ]
   },
   "outputs": [],
   "source": [
    "event"
   ]
  },
  {
   "cell_type": "code",
   "execution_count": null,
   "metadata": {
    "lines_to_next_cell": 0,
    "tags": [
     "active-ipynb"
    ]
   },
   "outputs": [],
   "source": [
    "wrc.sdbRallyId"
   ]
  },
  {
   "cell_type": "code",
   "execution_count": null,
   "metadata": {
    "lines_to_next_cell": 2
   },
   "outputs": [],
   "source": []
  }
 ],
 "metadata": {
  "celltoolbar": "Tags",
  "jupytext": {
   "encoding": "# -*- coding: utf-8 -*-",
   "formats": "ipynb,py:light"
  },
  "kernelspec": {
   "display_name": "Python 3",
   "language": "python",
   "name": "python3"
  },
  "language_info": {
   "codemirror_mode": {
    "name": "ipython",
    "version": 3
   },
   "file_extension": ".py",
   "mimetype": "text/x-python",
   "name": "python",
   "nbconvert_exporter": "python",
   "pygments_lexer": "ipython3",
   "version": "3.7.6"
  }
 },
 "nbformat": 4,
 "nbformat_minor": 2
}
