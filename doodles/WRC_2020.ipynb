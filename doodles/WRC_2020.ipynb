{
 "cells": [
  {
   "cell_type": "markdown",
   "metadata": {},
   "source": [
    "# WRC Scraper  2020"
   ]
  },
  {
   "cell_type": "code",
   "execution_count": 1,
   "metadata": {},
   "outputs": [],
   "source": [
    "from WRC_2020_scraper import *"
   ]
  },
  {
   "cell_type": "code",
   "execution_count": 2,
   "metadata": {
    "run_control": {
     "marked": false
    }
   },
   "outputs": [],
   "source": [
    "class SeasonBase:\n",
    "    \"\"\"Base class for things to do with seasons.\"\"\"\n",
    "    def __init__(self, season_external_id=None, autoseed=False):\n",
    "        self.season_external_id = season_external_id or None\n",
    "        if not self.season_external_id and autoseed:\n",
    "            self._check_season_external_id()\n",
    "            \n",
    "    def _check_season_external_id(self):\n",
    "        \"\"\"Check that season_external_id exists and if not, get one.\"\"\"\n",
    "        if not hasattr(self,'season_external_id') or not self.season_external_id:\n",
    "            #Get current one from active rally\n",
    "            #It's also available from current_season_events\n",
    "            event, days, channels = getActiveRallyBase()\n",
    "            self.event, self.days, self.channels = event, days, channels\n",
    "            #The returned np.int64 is not JSON serialisable\n",
    "            self.season_external_id = int(event.loc[0,'season.externalId'])\n",
    "\n",
    "# TO DO\n",
    "class Championship(SeasonBase):       \n",
    "    \"\"\"Class for championship.\"\"\"\n",
    "    def __init__(self ):\n",
    "        SeasonBase.__init__(self)\n"
   ]
  },
  {
   "cell_type": "code",
   "execution_count": 3,
   "metadata": {
    "tags": [
     "active-ipynb"
    ]
   },
   "outputs": [
    {
     "data": {
      "text/plain": [
       "6"
      ]
     },
     "execution_count": 3,
     "metadata": {},
     "output_type": "execute_result"
    }
   ],
   "source": [
    "SeasonBase(autoseed=True).season_external_id"
   ]
  },
  {
   "cell_type": "code",
   "execution_count": 4,
   "metadata": {},
   "outputs": [],
   "source": [
    "# TO DO - define a class for each table\n",
    "import warnings\n",
    "\n",
    "\n",
    "class WRCRally_sdb:\n",
    "    \"\"\"Base class for things with an sdbRallyId.\n",
    "       Can also help find an active sdbRallyId\"\"\"\n",
    "    def __init__(self, sdbRallyId=None, live=False,\n",
    "                 autoseed=False, nowarn=True,):\n",
    "        if not nowarn and not sdbRallyId:\n",
    "            warnings.warn(\"sdbRallyId should really be set...\")\n",
    "        \n",
    "        self.sdbRallyId = sdbRallyId or None\n",
    "        \n",
    "        if autoseed:\n",
    "            self._checkRallyId(sdbRallyId)\n",
    "    \n",
    "    def _checkRallyId(self, sdbRallyId=None):\n",
    "        \"\"\"Return a rally ID or lookup active one.\"\"\"\n",
    "        sdbRallyId = sdbRallyId or self.sdbRallyId\n",
    "        if not hasattr(self, 'sdbRallyId') or not self.sdbRallyId:\n",
    "            self.activerally = WRCActiveRally()\n",
    "            self.sdbRallyId = self.activerally.sdbRallyId\n",
    "            self.name = self.activerally.name\n",
    "        return self.sdbRallyId"
   ]
  },
  {
   "cell_type": "code",
   "execution_count": 5,
   "metadata": {},
   "outputs": [],
   "source": [
    "class WRCActiveRally(WRCRally_sdb):\n",
    "    \"\"\"Class for the active rally.\"\"\"\n",
    "    def __init__(self, live=False ):\n",
    "        WRCRally_sdb.__init__(self, live=live, nowarn=True)\n",
    "\n",
    "        self.live = live\n",
    "        self.fetchData()\n",
    "        \n",
    "    def fetchData(self):\n",
    "        event, days, channels = getActiveRally()\n",
    "        self.event, self.days, self.channels = event, days, channels\n",
    "\n",
    "        #np.int64 is not JSON serialisable\n",
    "        self.sdbRallyId = int(event.loc[0,'id'])\n",
    "\n",
    "        self.name = event.loc[0,'name']"
   ]
  },
  {
   "cell_type": "code",
   "execution_count": 6,
   "metadata": {
    "tags": [
     "active-ipynb"
    ]
   },
   "outputs": [
    {
     "data": {
      "text/plain": [
       "100"
      ]
     },
     "execution_count": 6,
     "metadata": {},
     "output_type": "execute_result"
    }
   ],
   "source": [
    "WRCActiveRally().sdbRallyId"
   ]
  },
  {
   "cell_type": "code",
   "execution_count": 7,
   "metadata": {
    "tags": [
     "active-ipynb"
    ]
   },
   "outputs": [
    {
     "name": "stdout",
     "output_type": "stream",
     "text": [
      "100\n"
     ]
    }
   ],
   "source": [
    "zz = WRCRally_sdb(autoseed=True)\n",
    "print(zz.sdbRallyId)"
   ]
  },
  {
   "cell_type": "markdown",
   "metadata": {},
   "source": [
    "We use the `.fetchData()` method so as to ry not to be greedy. This way, we can define a class and start to work towards only grabbling the data if we need it."
   ]
  },
  {
   "cell_type": "code",
   "execution_count": 103,
   "metadata": {},
   "outputs": [],
   "source": [
    "class WRCRetirements(WRCRally_sdb):\n",
    "    \"\"\"Callable class for retirements\"\"\"\n",
    "    def __init__(self, sdbRallyId=None, live=False, autoseed=False):\n",
    "        \"\"\"Initialise retirements class.\"\"\"\n",
    "        WRCRally_sdb.__init__(self, sdbRallyId=sdbRallyId,\n",
    "                              live=live, autoseed=autoseed)\n",
    "            \n",
    "        self.retirements=None\n",
    "        \n",
    "        if self.sdbRallyId:\n",
    "            self.fetchData(self.sdbRallyId)\n",
    "        \n",
    "    def fetchData(self, sdbRallyId=None):\n",
    "        \"\"\"Fetch the data from WRC API.\"\"\"\n",
    "        self._checkRallyId(sdbRallyId)\n",
    "        self.retirements = getRetirements(self.sdbRallyId)\n",
    "    \n",
    "    def __call__(self):\n",
    "        return self.retirements"
   ]
  },
  {
   "cell_type": "code",
   "execution_count": 106,
   "metadata": {
    "tags": [
     "active-ipynb"
    ]
   },
   "outputs": [
    {
     "data": {
      "text/html": [
       "<div>\n",
       "<style scoped>\n",
       "    .dataframe tbody tr th:only-of-type {\n",
       "        vertical-align: middle;\n",
       "    }\n",
       "\n",
       "    .dataframe tbody tr th {\n",
       "        vertical-align: top;\n",
       "    }\n",
       "\n",
       "    .dataframe thead th {\n",
       "        text-align: right;\n",
       "    }\n",
       "</style>\n",
       "<table border=\"1\" class=\"dataframe\">\n",
       "  <thead>\n",
       "    <tr style=\"text-align: right;\">\n",
       "      <th></th>\n",
       "      <th>retirementId</th>\n",
       "      <th>controlId</th>\n",
       "      <th>entryId</th>\n",
       "      <th>reason</th>\n",
       "      <th>retirementDateTime</th>\n",
       "      <th>retirementDateTimeLocal</th>\n",
       "      <th>status</th>\n",
       "    </tr>\n",
       "  </thead>\n",
       "  <tbody>\n",
       "    <tr>\n",
       "      <th>0</th>\n",
       "      <td>1475</td>\n",
       "      <td>6591</td>\n",
       "      <td>20710</td>\n",
       "      <td>OFF ROAD</td>\n",
       "      <td>2020-01-23T20:40:00Z</td>\n",
       "      <td>0001-01-01T00:00:00+00:00</td>\n",
       "      <td>Temporary</td>\n",
       "    </tr>\n",
       "    <tr>\n",
       "      <th>1</th>\n",
       "      <td>1476</td>\n",
       "      <td>6588</td>\n",
       "      <td>20687</td>\n",
       "      <td>MECHANICAL</td>\n",
       "      <td>2020-01-23T21:57:00Z</td>\n",
       "      <td>0001-01-01T00:00:00+00:00</td>\n",
       "      <td>Temporary</td>\n",
       "    </tr>\n",
       "    <tr>\n",
       "      <th>2</th>\n",
       "      <td>1477</td>\n",
       "      <td>6591</td>\n",
       "      <td>20750</td>\n",
       "      <td>OFF ROAD</td>\n",
       "      <td>2020-01-23T22:51:00Z</td>\n",
       "      <td>0001-01-01T00:00:00+00:00</td>\n",
       "      <td>Permanent</td>\n",
       "    </tr>\n",
       "  </tbody>\n",
       "</table>\n",
       "</div>"
      ],
      "text/plain": [
       "   retirementId  controlId  entryId      reason    retirementDateTime  \\\n",
       "0          1475       6591    20710    OFF ROAD  2020-01-23T20:40:00Z   \n",
       "1          1476       6588    20687  MECHANICAL  2020-01-23T21:57:00Z   \n",
       "2          1477       6591    20750    OFF ROAD  2020-01-23T22:51:00Z   \n",
       "\n",
       "     retirementDateTimeLocal     status  \n",
       "0  0001-01-01T00:00:00+00:00  Temporary  \n",
       "1  0001-01-01T00:00:00+00:00  Temporary  \n",
       "2  0001-01-01T00:00:00+00:00  Permanent  "
      ]
     },
     "execution_count": 106,
     "metadata": {},
     "output_type": "execute_result"
    }
   ],
   "source": [
    "zz=WRCRetirements(autoseed=True)\n",
    "zz.retirements.head(3)"
   ]
  },
  {
   "cell_type": "code",
   "execution_count": 291,
   "metadata": {},
   "outputs": [],
   "source": [
    "class WRCPenalties(WRCRally_sdb):\n",
    "    \"\"\"Callable class for penalties.\"\"\"\n",
    "    def __init__(self, sdbRallyId=None, live=False, autoseed=False):\n",
    "        \"\"\"Initialise penalties class.\"\"\"\n",
    "        WRCRally_sdb.__init__(self, sdbRallyId=sdbRallyId,\n",
    "                              live=live, autoseed=autoseed)\n",
    "            \n",
    "        self.penalties=None\n",
    "        \n",
    "        if self.sdbRallyId:\n",
    "            self.fetchData(self.sdbRallyId)\n",
    "\n",
    "    \n",
    "    def fetchData(self, sdbRallyId=None):\n",
    "        \"\"\"Fetch the data from WRC API.\"\"\"\n",
    "        self._checkRallyId(sdbRallyId)\n",
    "        self.penalties = getPenalties(self.sdbRallyId)\n",
    "    \n",
    "    def __call__(self):\n",
    "        return self.penalties"
   ]
  },
  {
   "cell_type": "code",
   "execution_count": 292,
   "metadata": {
    "tags": [
     "active-ipynb"
    ]
   },
   "outputs": [
    {
     "data": {
      "text/html": [
       "<div>\n",
       "<style scoped>\n",
       "    .dataframe tbody tr th:only-of-type {\n",
       "        vertical-align: middle;\n",
       "    }\n",
       "\n",
       "    .dataframe tbody tr th {\n",
       "        vertical-align: top;\n",
       "    }\n",
       "\n",
       "    .dataframe thead th {\n",
       "        text-align: right;\n",
       "    }\n",
       "</style>\n",
       "<table border=\"1\" class=\"dataframe\">\n",
       "  <thead>\n",
       "    <tr style=\"text-align: right;\">\n",
       "      <th></th>\n",
       "      <th>penaltyId</th>\n",
       "      <th>controlId</th>\n",
       "      <th>entryId</th>\n",
       "      <th>penaltyDurationMs</th>\n",
       "      <th>penaltyDuration</th>\n",
       "      <th>reason</th>\n",
       "    </tr>\n",
       "  </thead>\n",
       "  <tbody>\n",
       "    <tr>\n",
       "      <th>0</th>\n",
       "      <td>725</td>\n",
       "      <td>6592</td>\n",
       "      <td>20730</td>\n",
       "      <td>10000</td>\n",
       "      <td>PT10S</td>\n",
       "      <td>FALSE START</td>\n",
       "    </tr>\n",
       "    <tr>\n",
       "      <th>1</th>\n",
       "      <td>726</td>\n",
       "      <td>6592</td>\n",
       "      <td>20753</td>\n",
       "      <td>10000</td>\n",
       "      <td>PT10S</td>\n",
       "      <td>FALSE START</td>\n",
       "    </tr>\n",
       "    <tr>\n",
       "      <th>2</th>\n",
       "      <td>727</td>\n",
       "      <td>6590</td>\n",
       "      <td>20760</td>\n",
       "      <td>10000</td>\n",
       "      <td>PT10S</td>\n",
       "      <td>1 MIN LATE</td>\n",
       "    </tr>\n",
       "  </tbody>\n",
       "</table>\n",
       "</div>"
      ],
      "text/plain": [
       "   penaltyId  controlId  entryId  penaltyDurationMs penaltyDuration  \\\n",
       "0        725       6592    20730              10000           PT10S   \n",
       "1        726       6592    20753              10000           PT10S   \n",
       "2        727       6590    20760              10000           PT10S   \n",
       "\n",
       "        reason  \n",
       "0  FALSE START  \n",
       "1  FALSE START  \n",
       "2   1 MIN LATE  "
      ]
     },
     "execution_count": 292,
     "metadata": {},
     "output_type": "execute_result"
    }
   ],
   "source": [
    "zz=WRCPenalties(autoseed=True)\n",
    "zz.penalties.head(3)"
   ]
  },
  {
   "cell_type": "code",
   "execution_count": 289,
   "metadata": {
    "tags": [
     "active-ipynb"
    ]
   },
   "outputs": [
    {
     "data": {
      "text/plain": [
       "'Rallye Monte Carlo'"
      ]
     },
     "execution_count": 289,
     "metadata": {},
     "output_type": "execute_result"
    }
   ],
   "source": [
    "zz.name"
   ]
  },
  {
   "cell_type": "code",
   "execution_count": 296,
   "metadata": {},
   "outputs": [
    {
     "name": "stdout",
     "output_type": "stream",
     "text": [
      "sdsds\n"
     ]
    },
    {
     "data": {
      "text/html": [
       "<div>\n",
       "<style scoped>\n",
       "    .dataframe tbody tr th:only-of-type {\n",
       "        vertical-align: middle;\n",
       "    }\n",
       "\n",
       "    .dataframe tbody tr th {\n",
       "        vertical-align: top;\n",
       "    }\n",
       "\n",
       "    .dataframe thead th {\n",
       "        text-align: right;\n",
       "    }\n",
       "</style>\n",
       "<table border=\"1\" class=\"dataframe\">\n",
       "  <thead>\n",
       "    <tr style=\"text-align: right;\">\n",
       "      <th></th>\n",
       "      <th>penaltyId</th>\n",
       "      <th>controlId</th>\n",
       "      <th>entryId</th>\n",
       "      <th>penaltyDurationMs</th>\n",
       "      <th>penaltyDuration</th>\n",
       "      <th>reason</th>\n",
       "    </tr>\n",
       "  </thead>\n",
       "  <tbody>\n",
       "    <tr>\n",
       "      <th>0</th>\n",
       "      <td>725</td>\n",
       "      <td>6592</td>\n",
       "      <td>20730</td>\n",
       "      <td>10000</td>\n",
       "      <td>PT10S</td>\n",
       "      <td>FALSE START</td>\n",
       "    </tr>\n",
       "    <tr>\n",
       "      <th>1</th>\n",
       "      <td>726</td>\n",
       "      <td>6592</td>\n",
       "      <td>20753</td>\n",
       "      <td>10000</td>\n",
       "      <td>PT10S</td>\n",
       "      <td>FALSE START</td>\n",
       "    </tr>\n",
       "  </tbody>\n",
       "</table>\n",
       "</div>"
      ],
      "text/plain": [
       "   penaltyId  controlId  entryId  penaltyDurationMs penaltyDuration  \\\n",
       "0        725       6592    20730              10000           PT10S   \n",
       "1        726       6592    20753              10000           PT10S   \n",
       "\n",
       "        reason  \n",
       "0  FALSE START  \n",
       "1  FALSE START  "
      ]
     },
     "execution_count": 296,
     "metadata": {},
     "output_type": "execute_result"
    }
   ],
   "source": [
    "zz().head(2)"
   ]
  },
  {
   "cell_type": "code",
   "execution_count": 60,
   "metadata": {},
   "outputs": [
    {
     "ename": "NameError",
     "evalue": "name 'getChampionshipStandingsLive' is not defined",
     "output_type": "error",
     "traceback": [
      "\u001b[0;31m---------------------------------------------------------------------------\u001b[0m",
      "\u001b[0;31mNameError\u001b[0m                                 Traceback (most recent call last)",
      "\u001b[0;32m<ipython-input-60-b45a567312fa>\u001b[0m in \u001b[0;36m<module>\u001b[0;34m\u001b[0m\n\u001b[1;32m      6\u001b[0m \u001b[0mretirements\u001b[0m \u001b[0;34m=\u001b[0m \u001b[0mgetRetirements\u001b[0m\u001b[0;34m(\u001b[0m\u001b[0msdbRallyId\u001b[0m\u001b[0;34m)\u001b[0m\u001b[0;34m\u001b[0m\u001b[0;34m\u001b[0m\u001b[0m\n\u001b[1;32m      7\u001b[0m \u001b[0mchampionship\u001b[0m \u001b[0;34m=\u001b[0m \u001b[0mgetChampionship\u001b[0m\u001b[0;34m(\u001b[0m\u001b[0;34m)\u001b[0m\u001b[0;34m\u001b[0m\u001b[0;34m\u001b[0m\u001b[0m\n\u001b[0;32m----> 8\u001b[0;31m \u001b[0mchampionship\u001b[0m \u001b[0;34m=\u001b[0m \u001b[0mgetChampionshipStandingsLive\u001b[0m\u001b[0;34m(\u001b[0m\u001b[0;34m)\u001b[0m\u001b[0;34m\u001b[0m\u001b[0;34m\u001b[0m\u001b[0m\n\u001b[0m",
      "\u001b[0;31mNameError\u001b[0m: name 'getChampionshipStandingsLive' is not defined"
     ]
    }
   ],
   "source": [
    "# TO DO\n",
    "#rally, eligibilities, groups = getRally(sdbRallyId)\n",
    "#splitPoints, entrySplitPointTimes, splitPointTimes = getSplitTimes(sdbRallyId,stageId)\n",
    "#stagetimes = getStageTimes(sdbRallyId,stageId)\n",
    "#stagewinners = getStagewinners(sdbRallyId)\n",
    "#championship = getChampionship()\n",
    "#championship = getChampionshipStandings()"
   ]
  },
  {
   "cell_type": "code",
   "execution_count": 62,
   "metadata": {},
   "outputs": [],
   "source": [
    "class WRCItinerary(WRCRally_sdb):\n",
    "    \"\"\"Class for WRC2020 Itinerary.\"\"\"\n",
    "    def __init__(self, sdbRallyId=None, live=False, autoseed=False):\n",
    "        \"\"\"Initialise itinerary class.\"\"\"\n",
    "        WRCRally_sdb.__init__(self, sdbRallyId=sdbRallyId,\n",
    "                              live=live, autoseed=autoseed)\n",
    "        \n",
    "        self.itinerary=None\n",
    "        self.legs=None\n",
    "        self.sections=None\n",
    "        self.controls=None\n",
    "        self.stages=None\n",
    "        \n",
    "        if self.sdbRallyId:\n",
    "            self.fetchData(sdbRallyId)\n",
    "        \n",
    "    def fetchData(self, sdbRallyId=None):\n",
    "        \"\"\"Fetch the data from WRC API.\"\"\"\n",
    "        self._checkRallyId(sdbRallyId)\n",
    "        \n",
    "        itinerary, legs, sections, controls, stages = getItinerary(sdbRallyId)\n",
    "        self.itinerary, self.legs, self.sections, self.controls, self.stages = itinerary, legs, sections, controls, stages\n",
    "        "
   ]
  },
  {
   "cell_type": "code",
   "execution_count": 70,
   "metadata": {
    "tags": [
     "active-ipynb"
    ]
   },
   "outputs": [
    {
     "name": "stdout",
     "output_type": "stream",
     "text": [
      "None\n"
     ]
    }
   ],
   "source": [
    "print(WRCItinerary(autoseed=True).sdbRallyId)"
   ]
  },
  {
   "cell_type": "code",
   "execution_count": 63,
   "metadata": {
    "tags": [
     "active-ipynb"
    ]
   },
   "outputs": [
    {
     "data": {
      "text/html": [
       "<div>\n",
       "<style scoped>\n",
       "    .dataframe tbody tr th:only-of-type {\n",
       "        vertical-align: middle;\n",
       "    }\n",
       "\n",
       "    .dataframe tbody tr th {\n",
       "        vertical-align: top;\n",
       "    }\n",
       "\n",
       "    .dataframe thead th {\n",
       "        text-align: right;\n",
       "    }\n",
       "</style>\n",
       "<table border=\"1\" class=\"dataframe\">\n",
       "  <thead>\n",
       "    <tr style=\"text-align: right;\">\n",
       "      <th></th>\n",
       "      <th>itineraryLegId</th>\n",
       "      <th>itineraryId</th>\n",
       "      <th>startListId</th>\n",
       "      <th>name</th>\n",
       "      <th>legDate</th>\n",
       "      <th>order</th>\n",
       "      <th>status</th>\n",
       "    </tr>\n",
       "  </thead>\n",
       "  <tbody>\n",
       "    <tr>\n",
       "      <th>0</th>\n",
       "      <td>273</td>\n",
       "      <td>240</td>\n",
       "      <td>451</td>\n",
       "      <td>Thursday 23rd January</td>\n",
       "      <td>2020-01-23</td>\n",
       "      <td>1</td>\n",
       "      <td>Completed</td>\n",
       "    </tr>\n",
       "    <tr>\n",
       "      <th>1</th>\n",
       "      <td>272</td>\n",
       "      <td>240</td>\n",
       "      <td>452</td>\n",
       "      <td>Friday 24th January</td>\n",
       "      <td>2020-01-24</td>\n",
       "      <td>2</td>\n",
       "      <td>Completed</td>\n",
       "    </tr>\n",
       "    <tr>\n",
       "      <th>2</th>\n",
       "      <td>275</td>\n",
       "      <td>240</td>\n",
       "      <td>454</td>\n",
       "      <td>Saturday 25th January</td>\n",
       "      <td>2020-01-25</td>\n",
       "      <td>3</td>\n",
       "      <td>Completed</td>\n",
       "    </tr>\n",
       "    <tr>\n",
       "      <th>3</th>\n",
       "      <td>274</td>\n",
       "      <td>240</td>\n",
       "      <td>456</td>\n",
       "      <td>Sunday 26th January</td>\n",
       "      <td>2020-01-25</td>\n",
       "      <td>4</td>\n",
       "      <td>Completed</td>\n",
       "    </tr>\n",
       "  </tbody>\n",
       "</table>\n",
       "</div>"
      ],
      "text/plain": [
       "   itineraryLegId  itineraryId  startListId                   name  \\\n",
       "0             273          240          451  Thursday 23rd January   \n",
       "1             272          240          452    Friday 24th January   \n",
       "2             275          240          454  Saturday 25th January   \n",
       "3             274          240          456    Sunday 26th January   \n",
       "\n",
       "      legDate  order     status  \n",
       "0  2020-01-23      1  Completed  \n",
       "1  2020-01-24      2  Completed  \n",
       "2  2020-01-25      3  Completed  \n",
       "3  2020-01-25      4  Completed  "
      ]
     },
     "execution_count": 63,
     "metadata": {},
     "output_type": "execute_result"
    }
   ],
   "source": [
    "WRCItinerary(sdbRallyId=100).legs"
   ]
  },
  {
   "cell_type": "code",
   "execution_count": 159,
   "metadata": {},
   "outputs": [],
   "source": [
    "class WRCStartlist():\n",
    "    \"\"\"Class for WRC2020 Startlist table.\"\"\"\n",
    "    def __init__(self, startlistId=None, autoseed=True):\n",
    "        self.startListId = startlistId or None\n",
    "        \n",
    "        if not self.startListId:\n",
    "            warnings.warn(\"startListId should really be set..\")\n",
    "        \n",
    "        if self.startListId or autoseed:\n",
    "            self.fetchData(startListId)\n",
    "    \n",
    "    def _checkStartListId(self, startListId=None):\n",
    "        \"\"\"Return a startlistId or look one up.\"\"\"\n",
    "        self.startListId = startListId or self.startListId\n",
    "        if not self.startListId:\n",
    "            if not hasattr(self, 'itinerary') or not self.itinerary:\n",
    "                self.itinerary = WRCItinerary(autoseed=True)\n",
    "                self.sdbRallyId = self.itinerary.sdbRallyId\n",
    "            self.startListId = int(self.itinerary.legs.loc[0,'startListId'])\n",
    "        return self.startListId\n",
    "        \n",
    "        \n",
    "    def fetchData(self, startListId=None):\n",
    "        self._checkStartListId(startListId)\n",
    "        startList,startListItems = getStartlist(self.startListId)\n",
    "        self.startList, self.startListItems = startList,startListItems"
   ]
  },
  {
   "cell_type": "code",
   "execution_count": 161,
   "metadata": {
    "tags": [
     "active-ipynb"
    ]
   },
   "outputs": [
    {
     "name": "stderr",
     "output_type": "stream",
     "text": [
      "/usr/local/lib/python3.7/site-packages/ipykernel_launcher.py:7: UserWarning: startListId should really be set..\n",
      "  import sys\n"
     ]
    },
    {
     "data": {
      "text/html": [
       "<div>\n",
       "<style scoped>\n",
       "    .dataframe tbody tr th:only-of-type {\n",
       "        vertical-align: middle;\n",
       "    }\n",
       "\n",
       "    .dataframe tbody tr th {\n",
       "        vertical-align: top;\n",
       "    }\n",
       "\n",
       "    .dataframe thead th {\n",
       "        text-align: right;\n",
       "    }\n",
       "</style>\n",
       "<table border=\"1\" class=\"dataframe\">\n",
       "  <thead>\n",
       "    <tr style=\"text-align: right;\">\n",
       "      <th></th>\n",
       "      <th>startListId</th>\n",
       "      <th>eventId</th>\n",
       "      <th>publishedStatus</th>\n",
       "      <th>name</th>\n",
       "    </tr>\n",
       "  </thead>\n",
       "  <tbody>\n",
       "    <tr>\n",
       "      <th>0</th>\n",
       "      <td>451</td>\n",
       "      <td>124</td>\n",
       "      <td>Published</td>\n",
       "      <td>Thursday</td>\n",
       "    </tr>\n",
       "  </tbody>\n",
       "</table>\n",
       "</div>"
      ],
      "text/plain": [
       "   startListId  eventId publishedStatus      name\n",
       "0          451      124       Published  Thursday"
      ]
     },
     "execution_count": 161,
     "metadata": {},
     "output_type": "execute_result"
    }
   ],
   "source": [
    "WRCStartlist(autoseed=True).startList"
   ]
  },
  {
   "cell_type": "code",
   "execution_count": 231,
   "metadata": {},
   "outputs": [],
   "source": [
    "class WRCCars(WRCRally_sdb):\n",
    "    \"\"\"Class for WRC2020 Cars table.\"\"\"\n",
    "    def __init__(self, sdbRallyId=None, live=False, autoseed=False):  \n",
    "        WRCRally_sdb.__init__(self, sdbRallyId=sdbRallyId,\n",
    "                              live=live, autoseed=autoseed)\n",
    "        \n",
    "        self.cars=None\n",
    "        self.classes=None\n",
    "        \n",
    "        if self.sdbRallyId:\n",
    "            self.fetchData(sdbRallyId)\n",
    "            \n",
    "    def fetchData(self, sdbRallyId=None):\n",
    "        self._checkRallyId(sdbRallyId)\n",
    "        cars, classes = getCars(sdbRallyId)\n",
    "        self.cars, self.classes = cars, classes"
   ]
  },
  {
   "cell_type": "code",
   "execution_count": 233,
   "metadata": {
    "tags": [
     "active-ipynb"
    ]
   },
   "outputs": [
    {
     "data": {
      "text/plain": [
       "<__main__.WRCCars at 0x11cd18910>"
      ]
     },
     "execution_count": 233,
     "metadata": {},
     "output_type": "execute_result"
    }
   ],
   "source": [
    "WRCCars(autoseed=True)"
   ]
  },
  {
   "cell_type": "code",
   "execution_count": 197,
   "metadata": {},
   "outputs": [],
   "source": [
    "#This class will contain everything about a single rally\n",
    "class WRCRally(WRCRally_sdb):\n",
    "    \"\"\"Class for a rally - stuff where sdbRallyId is required.\"\"\"\n",
    "    def __init__(self, sdbRallyId=None, live=False, autoseed=False ):\n",
    "        WRCRally_sdb.__init__(self, sdbRallyId=sdbRallyId, live=live,\n",
    "                             autoseed=autoseed)\n",
    "        \n",
    "        self.live = live\n",
    "        self.itinerary = None\n",
    "        self.startListId = None\n",
    "        self.activerally = None\n",
    "    \n",
    "    \n",
    "    def getItinerary(self):\n",
    "        \"\"\"Get itinerary.\n",
    "           If rally not known, use active rally.\n",
    "           Also set a default startListId.\"\"\"\n",
    "        \n",
    "        _i = self.itinerary = WRCItinerary(self.sdbRallyId)\n",
    "        \n",
    "        #Set a default startListId value if required\n",
    "        if not self.startListId and _i and _i.legs and not _i.legs.empty :\n",
    "            self.startListId = int(_i.legs.loc[0,'startListId'])\n",
    "            \n",
    "        return (_i.itinerary, _i.legs, _i.sections, _i.controls, _i.stages)\n",
    " \n",
    "    def getCars(self):\n",
    "        \"\"\"Get cars for a rally.\n",
    "           If no rally provided, use current one.\"\"\"\n",
    "        \n",
    "        _c = self.cars = WRCCars(self.sdbRallyId)\n",
    "        \n",
    "        return (_c.cars, _c.classes)\n",
    "       \n",
    "        \n",
    "    def getStartlist(self, startListId=None):\n",
    "        \"\"\"Get startlist.\n",
    "           If no startListId provided, try to find a default.\"\"\"\n",
    "        \n",
    "        _s = self.startlist = WRCStartlist(self.startListId)\n",
    "      \n",
    "        return (_s.startList, _s.startListItems)\n",
    "    \n",
    "    \n",
    "    def getPenalties(self):\n",
    "        \"\"\"Get penalties.\"\"\"\n",
    "        \n",
    "        self._penalties = WRCPenalties(self.sdbRallyId)\n",
    "        self.penalties = self._penalties.penalties\n",
    "        return self.penalties\n",
    "     \n",
    "        \n",
    "    def getRetirements(self):\n",
    "        \"\"\"Get retirements.\"\"\"\n",
    "        \n",
    "        self._retirements = WRCRetirements(self.sdbRallyId)\n",
    "        self.retirements = self._retirements.retirements\n",
    "        return self.retirements\n",
    "     \n",
    "    \n",
    "    \n",
    "    "
   ]
  },
  {
   "cell_type": "code",
   "execution_count": 195,
   "metadata": {},
   "outputs": [],
   "source": [
    "# NEXT TO DO - active rally class"
   ]
  },
  {
   "cell_type": "code",
   "execution_count": 200,
   "metadata": {
    "tags": [
     "active-ipynb"
    ]
   },
   "outputs": [],
   "source": [
    "zz = WRCRally()\n",
    "zz.getRetirements()"
   ]
  },
  {
   "cell_type": "code",
   "execution_count": null,
   "metadata": {},
   "outputs": [],
   "source": [
    "# TO DO - need a more gernal season events class?\n",
    "# If, that is, we can we look up arbtrary season events...\n",
    "class WRCCurrentSeasonEvents:\n",
    "    \"\"\"Class for Season events.\"\"\"\n",
    "    def __init__(self ):\n",
    "        self.current_season_events, self.eventdays, self.eventchannel = getCurrentSeasonEvents()\n"
   ]
  },
  {
   "cell_type": "code",
   "execution_count": 755,
   "metadata": {},
   "outputs": [],
   "source": [
    "#This class needs renaming...\n",
    "#What does it actually represent? An event? A live event? A set of events?\n",
    "class WRC2020(WRCRally):\n",
    "    \"\"\"Class for WRC data scrape using 2020 API.\"\"\"\n",
    "\n",
    "    def __init__(self, sdbRallyId=None, live=False):\n",
    "        WRCRally.__init__(self, sdbRallyId, live)\n",
    "        \n",
    "        self.live = live\n",
    "        self.currentseasonevents = None\n",
    "        \n",
    "        \n",
    "    def getCurrentSeasonEvents(self):\n",
    "        \"\"\"Get Current season events.\"\"\"\n",
    "        if not self.currentseasonevents:\n",
    "            _cse = self.currentseasonevents = WRCCurrentSeasonEvents()\n",
    "        return (_cse.current_season_events, _cse.eventdays, _cse.eventchannel)\n",
    "\n",
    "\n",
    "    \n",
    "    \n",
    "    \n",
    "    "
   ]
  },
  {
   "cell_type": "code",
   "execution_count": 756,
   "metadata": {
    "tags": [
     "active-ipynb"
    ]
   },
   "outputs": [
    {
     "name": "stderr",
     "output_type": "stream",
     "text": [
      "/usr/local/lib/python3.7/site-packages/ipykernel_launcher.py:9: UserWarning: sdbRallyId should really be set...\n",
      "  if __name__ == '__main__':\n"
     ]
    },
    {
     "data": {
      "text/html": [
       "<div>\n",
       "<style scoped>\n",
       "    .dataframe tbody tr th:only-of-type {\n",
       "        vertical-align: middle;\n",
       "    }\n",
       "\n",
       "    .dataframe tbody tr th {\n",
       "        vertical-align: top;\n",
       "    }\n",
       "\n",
       "    .dataframe thead th {\n",
       "        text-align: right;\n",
       "    }\n",
       "</style>\n",
       "<table border=\"1\" class=\"dataframe\">\n",
       "  <thead>\n",
       "    <tr style=\"text-align: right;\">\n",
       "      <th></th>\n",
       "      <th>id</th>\n",
       "      <th>name</th>\n",
       "      <th>externalIdRally</th>\n",
       "      <th>externalIdEvent</th>\n",
       "      <th>timezone</th>\n",
       "      <th>active</th>\n",
       "      <th>countdown</th>\n",
       "      <th>jwrc</th>\n",
       "      <th>winner</th>\n",
       "      <th>images.format16x9.320x180</th>\n",
       "      <th>...</th>\n",
       "      <th>status.name</th>\n",
       "      <th>pageInfo.id</th>\n",
       "      <th>pageInfo.title</th>\n",
       "      <th>pageInfo.feTitle</th>\n",
       "      <th>pageInfo.url</th>\n",
       "      <th>pageResult.id</th>\n",
       "      <th>pageResult.title</th>\n",
       "      <th>pageResult.feTitle</th>\n",
       "      <th>pageResult.url</th>\n",
       "      <th>seasonYear</th>\n",
       "    </tr>\n",
       "  </thead>\n",
       "  <tbody>\n",
       "    <tr>\n",
       "      <th>0</th>\n",
       "      <td>100</td>\n",
       "      <td>Rallye Monte Carlo</td>\n",
       "      <td>153</td>\n",
       "      <td>124</td>\n",
       "      <td>1</td>\n",
       "      <td>True</td>\n",
       "      <td>False</td>\n",
       "      <td>False</td>\n",
       "      <td>None</td>\n",
       "      <td>https://www.wrc.com/images/redaktion/Web-2020/...</td>\n",
       "      <td>...</td>\n",
       "      <td>Live Event</td>\n",
       "      <td>38227</td>\n",
       "      <td>Rallye-Monte-Carlo</td>\n",
       "      <td>Rallye Monte-Carlo</td>\n",
       "      <td>/en/championship/calendar/wrc/rallye-monte-car...</td>\n",
       "      <td>89623</td>\n",
       "      <td>Rally Monte Carlo</td>\n",
       "      <td>Rally Monte Carlo</td>\n",
       "      <td>/en/results/rally-results/rally-monte-carlo/re...</td>\n",
       "      <td>2020</td>\n",
       "    </tr>\n",
       "    <tr>\n",
       "      <th>1</th>\n",
       "      <td>102</td>\n",
       "      <td>Rally Sweden</td>\n",
       "      <td>154</td>\n",
       "      <td>125</td>\n",
       "      <td>2</td>\n",
       "      <td>False</td>\n",
       "      <td>False</td>\n",
       "      <td>True</td>\n",
       "      <td>None</td>\n",
       "      <td>https://www.wrc.com/images/redaktion/Web-2020/...</td>\n",
       "      <td>...</td>\n",
       "      <td>Pre Event</td>\n",
       "      <td>1914</td>\n",
       "      <td>Rally Sweden</td>\n",
       "      <td>Rally Sweden</td>\n",
       "      <td>/en/championship/calendar/wrc/rally-sweden/ove...</td>\n",
       "      <td>90029</td>\n",
       "      <td>Rally Sweden</td>\n",
       "      <td>Rally Sweden</td>\n",
       "      <td>/en/results/rally-results/rally-sweden/results/</td>\n",
       "      <td>2020</td>\n",
       "    </tr>\n",
       "    <tr>\n",
       "      <th>2</th>\n",
       "      <td>107</td>\n",
       "      <td>Rally Guanajuato Mexico</td>\n",
       "      <td>155</td>\n",
       "      <td>126</td>\n",
       "      <td>-6</td>\n",
       "      <td>False</td>\n",
       "      <td>False</td>\n",
       "      <td>False</td>\n",
       "      <td>None</td>\n",
       "      <td>https://www.wrc.com/images/redaktion/Web-2020/...</td>\n",
       "      <td>...</td>\n",
       "      <td>Pre Event</td>\n",
       "      <td>3083</td>\n",
       "      <td>Rally-Mexico</td>\n",
       "      <td>Rally México</td>\n",
       "      <td>/en/championship/calendar/wrc/rally-mexico/ove...</td>\n",
       "      <td>90044</td>\n",
       "      <td>Rally Mexico</td>\n",
       "      <td>Rally Mexico</td>\n",
       "      <td>/en/results/rally-results/rally-mexico/results/</td>\n",
       "      <td>2020</td>\n",
       "    </tr>\n",
       "    <tr>\n",
       "      <th>3</th>\n",
       "      <td>114</td>\n",
       "      <td>Rally Argentina</td>\n",
       "      <td>156</td>\n",
       "      <td>127</td>\n",
       "      <td>-3</td>\n",
       "      <td>False</td>\n",
       "      <td>False</td>\n",
       "      <td>False</td>\n",
       "      <td>None</td>\n",
       "      <td>https://www.wrc.com/images/redaktion/Web-2020/...</td>\n",
       "      <td>...</td>\n",
       "      <td>Pre Event</td>\n",
       "      <td>51444</td>\n",
       "      <td>Rally-Argentina</td>\n",
       "      <td>Rally Argentina</td>\n",
       "      <td>/en/championship/calendar/wrc/rally-argentina/...</td>\n",
       "      <td>90072</td>\n",
       "      <td>Rally Argentina</td>\n",
       "      <td>Rally Argentina</td>\n",
       "      <td>/en/results/rally-results/rally-argentina/resu...</td>\n",
       "      <td>2020</td>\n",
       "    </tr>\n",
       "    <tr>\n",
       "      <th>4</th>\n",
       "      <td>116</td>\n",
       "      <td>Rally de Portugal</td>\n",
       "      <td>157</td>\n",
       "      <td>128</td>\n",
       "      <td>1</td>\n",
       "      <td>False</td>\n",
       "      <td>False</td>\n",
       "      <td>False</td>\n",
       "      <td>None</td>\n",
       "      <td>https://www.wrc.com/images/redaktion/Web-2020/...</td>\n",
       "      <td>...</td>\n",
       "      <td>Pre Event</td>\n",
       "      <td>85219</td>\n",
       "      <td>Rally Portugal</td>\n",
       "      <td>Rally de Portugal</td>\n",
       "      <td>/en/championship/calendar/wrc/rally-de-portuga...</td>\n",
       "      <td>90091</td>\n",
       "      <td>Rally Portugal</td>\n",
       "      <td>Rally Portugal</td>\n",
       "      <td>/en/results/rally-results/rally-portugal/results/</td>\n",
       "      <td>2020</td>\n",
       "    </tr>\n",
       "    <tr>\n",
       "      <th>5</th>\n",
       "      <td>126</td>\n",
       "      <td>Rally Italia Sardegna</td>\n",
       "      <td>158</td>\n",
       "      <td>129</td>\n",
       "      <td>2</td>\n",
       "      <td>False</td>\n",
       "      <td>False</td>\n",
       "      <td>True</td>\n",
       "      <td>None</td>\n",
       "      <td>https://www.wrc.com/images/redaktion/Web-2020/...</td>\n",
       "      <td>...</td>\n",
       "      <td>Pre Event</td>\n",
       "      <td>85270</td>\n",
       "      <td>Rally Italia Sardegna</td>\n",
       "      <td>Rally Italia Sardegna</td>\n",
       "      <td>/en/championship/calendar/wrc/rally-italia-sar...</td>\n",
       "      <td>90113</td>\n",
       "      <td>Rally Italia Sardegna</td>\n",
       "      <td>Rally Italia Sardegna</td>\n",
       "      <td>/en/results/rally-results/rally-italia-sardegn...</td>\n",
       "      <td>2020</td>\n",
       "    </tr>\n",
       "    <tr>\n",
       "      <th>6</th>\n",
       "      <td>137</td>\n",
       "      <td>Safari Rally Kenya</td>\n",
       "      <td>159</td>\n",
       "      <td>130</td>\n",
       "      <td>3</td>\n",
       "      <td>False</td>\n",
       "      <td>False</td>\n",
       "      <td>False</td>\n",
       "      <td>None</td>\n",
       "      <td>https://www.wrc.com/images/redaktion/Web-2020/...</td>\n",
       "      <td>...</td>\n",
       "      <td>Pre Event</td>\n",
       "      <td>85348</td>\n",
       "      <td>Safari Rally Kenya</td>\n",
       "      <td>Rally Italia Sardegna</td>\n",
       "      <td>/en/championship/calendar/wrc/safari-rally-ken...</td>\n",
       "      <td>90134</td>\n",
       "      <td>Safari Rally Kenya</td>\n",
       "      <td>Safari Rally Kenya</td>\n",
       "      <td>/en/results/rally-results/safari-rally-kenya/r...</td>\n",
       "      <td>2020</td>\n",
       "    </tr>\n",
       "    <tr>\n",
       "      <th>7</th>\n",
       "      <td>148</td>\n",
       "      <td>Neste Rally Finland</td>\n",
       "      <td>160</td>\n",
       "      <td>131</td>\n",
       "      <td>3</td>\n",
       "      <td>False</td>\n",
       "      <td>False</td>\n",
       "      <td>True</td>\n",
       "      <td>None</td>\n",
       "      <td>https://www.wrc.com/images/redaktion/Web-2020/...</td>\n",
       "      <td>...</td>\n",
       "      <td>Pre Event</td>\n",
       "      <td>85394</td>\n",
       "      <td>Rally Finland</td>\n",
       "      <td>Neste Rally Finland</td>\n",
       "      <td>/en/championship/calendar/wrc/neste-rally-finl...</td>\n",
       "      <td>90150</td>\n",
       "      <td>Rally Finland</td>\n",
       "      <td>Rally Finland</td>\n",
       "      <td>/en/results/rally-results/rally-finland/results/</td>\n",
       "      <td>2020</td>\n",
       "    </tr>\n",
       "    <tr>\n",
       "      <th>8</th>\n",
       "      <td>157</td>\n",
       "      <td>Rally New Zealand</td>\n",
       "      <td>161</td>\n",
       "      <td>132</td>\n",
       "      <td>12</td>\n",
       "      <td>False</td>\n",
       "      <td>False</td>\n",
       "      <td>False</td>\n",
       "      <td>None</td>\n",
       "      <td>https://www.wrc.com/images/redaktion/Web-2020/...</td>\n",
       "      <td>...</td>\n",
       "      <td>Pre Event</td>\n",
       "      <td>85447</td>\n",
       "      <td>Rally New Zealand</td>\n",
       "      <td>Rally New Zealand</td>\n",
       "      <td>/en/championship/calendar/wrc/rally-new-zealan...</td>\n",
       "      <td>90174</td>\n",
       "      <td>Rally New Zealand</td>\n",
       "      <td>Rally New Zealand</td>\n",
       "      <td>/en/results/rally-results/rally-new-zealand/re...</td>\n",
       "      <td>2020</td>\n",
       "    </tr>\n",
       "    <tr>\n",
       "      <th>9</th>\n",
       "      <td>158</td>\n",
       "      <td>Rally Turkey</td>\n",
       "      <td>162</td>\n",
       "      <td>133</td>\n",
       "      <td>3</td>\n",
       "      <td>False</td>\n",
       "      <td>False</td>\n",
       "      <td>False</td>\n",
       "      <td>None</td>\n",
       "      <td>https://www.wrc.com/images/redaktion/Web-2020/...</td>\n",
       "      <td>...</td>\n",
       "      <td>Pre Event</td>\n",
       "      <td>85490</td>\n",
       "      <td>Rally Turkey</td>\n",
       "      <td>Rally Turkey</td>\n",
       "      <td>/en/championship/calendar/wrc/rally-turkey/ove...</td>\n",
       "      <td>90193</td>\n",
       "      <td>Rally Turkey</td>\n",
       "      <td>Rally Turkey</td>\n",
       "      <td>/en/results/rally-results/rally-turkey/results/</td>\n",
       "      <td>2020</td>\n",
       "    </tr>\n",
       "    <tr>\n",
       "      <th>10</th>\n",
       "      <td>163</td>\n",
       "      <td>ADAC Rallye Deutschland</td>\n",
       "      <td>163</td>\n",
       "      <td>134</td>\n",
       "      <td>2</td>\n",
       "      <td>False</td>\n",
       "      <td>False</td>\n",
       "      <td>True</td>\n",
       "      <td>None</td>\n",
       "      <td>https://www.wrc.com/images/redaktion/Web-2020/...</td>\n",
       "      <td>...</td>\n",
       "      <td>Pre Event</td>\n",
       "      <td>85535</td>\n",
       "      <td>Rally Germany</td>\n",
       "      <td>ADAC Rallye Deutschland</td>\n",
       "      <td>/en/championship/calendar/wrc/adac-rallye-deut...</td>\n",
       "      <td>90215</td>\n",
       "      <td>Rally Germany</td>\n",
       "      <td>Rally Germany</td>\n",
       "      <td>/en/results/rally-results/rally-germany/results/</td>\n",
       "      <td>2020</td>\n",
       "    </tr>\n",
       "    <tr>\n",
       "      <th>11</th>\n",
       "      <td>165</td>\n",
       "      <td>Wales Rally GB</td>\n",
       "      <td>164</td>\n",
       "      <td>135</td>\n",
       "      <td>0</td>\n",
       "      <td>False</td>\n",
       "      <td>False</td>\n",
       "      <td>True</td>\n",
       "      <td>None</td>\n",
       "      <td>https://www.wrc.com/images/redaktion/Web-2020/...</td>\n",
       "      <td>...</td>\n",
       "      <td>Pre Event</td>\n",
       "      <td>85589</td>\n",
       "      <td>Wales Rally GB</td>\n",
       "      <td>Wales Rally GB</td>\n",
       "      <td>/en/championship/calendar/wrc/wales-rally-gb/o...</td>\n",
       "      <td>90240</td>\n",
       "      <td>Wales Rally GB</td>\n",
       "      <td>Wales Rally GB</td>\n",
       "      <td>/en/results/rally-results/wales-rally-gb/results/</td>\n",
       "      <td>2020</td>\n",
       "    </tr>\n",
       "    <tr>\n",
       "      <th>12</th>\n",
       "      <td>167</td>\n",
       "      <td>Rally Japan</td>\n",
       "      <td>165</td>\n",
       "      <td>136</td>\n",
       "      <td>9</td>\n",
       "      <td>False</td>\n",
       "      <td>False</td>\n",
       "      <td>False</td>\n",
       "      <td>None</td>\n",
       "      <td>https://www.wrc.com/images/redaktion/Web-2020/...</td>\n",
       "      <td>...</td>\n",
       "      <td>Pre Event</td>\n",
       "      <td>85648</td>\n",
       "      <td>Rally Japan</td>\n",
       "      <td>Rally Japan</td>\n",
       "      <td>/en/championship/calendar/wrc/rally-japan/over...</td>\n",
       "      <td>90258</td>\n",
       "      <td>Rally Japan</td>\n",
       "      <td>Rally Japan</td>\n",
       "      <td>/en/results/rally-results/rally-japan/results/</td>\n",
       "      <td>2020</td>\n",
       "    </tr>\n",
       "  </tbody>\n",
       "</table>\n",
       "<p>13 rows × 35 columns</p>\n",
       "</div>"
      ],
      "text/plain": [
       "     id                     name  externalIdRally  externalIdEvent timezone  \\\n",
       "0   100       Rallye Monte Carlo              153              124        1   \n",
       "1   102             Rally Sweden              154              125        2   \n",
       "2   107  Rally Guanajuato Mexico              155              126       -6   \n",
       "3   114         Rally Argentina               156              127       -3   \n",
       "4   116        Rally de Portugal              157              128        1   \n",
       "5   126    Rally Italia Sardegna              158              129        2   \n",
       "6   137       Safari Rally Kenya              159              130        3   \n",
       "7   148      Neste Rally Finland              160              131        3   \n",
       "8   157        Rally New Zealand              161              132       12   \n",
       "9   158             Rally Turkey              162              133        3   \n",
       "10  163  ADAC Rallye Deutschland              163              134        2   \n",
       "11  165           Wales Rally GB              164              135        0   \n",
       "12  167              Rally Japan              165              136        9   \n",
       "\n",
       "    active  countdown   jwrc winner  \\\n",
       "0     True      False  False   None   \n",
       "1    False      False   True   None   \n",
       "2    False      False  False   None   \n",
       "3    False      False  False   None   \n",
       "4    False      False  False   None   \n",
       "5    False      False   True   None   \n",
       "6    False      False  False   None   \n",
       "7    False      False   True   None   \n",
       "8    False      False  False   None   \n",
       "9    False      False  False   None   \n",
       "10   False      False   True   None   \n",
       "11   False      False   True   None   \n",
       "12   False      False  False   None   \n",
       "\n",
       "                            images.format16x9.320x180  ... status.name  \\\n",
       "0   https://www.wrc.com/images/redaktion/Web-2020/...  ...  Live Event   \n",
       "1   https://www.wrc.com/images/redaktion/Web-2020/...  ...   Pre Event   \n",
       "2   https://www.wrc.com/images/redaktion/Web-2020/...  ...   Pre Event   \n",
       "3   https://www.wrc.com/images/redaktion/Web-2020/...  ...   Pre Event   \n",
       "4   https://www.wrc.com/images/redaktion/Web-2020/...  ...   Pre Event   \n",
       "5   https://www.wrc.com/images/redaktion/Web-2020/...  ...   Pre Event   \n",
       "6   https://www.wrc.com/images/redaktion/Web-2020/...  ...   Pre Event   \n",
       "7   https://www.wrc.com/images/redaktion/Web-2020/...  ...   Pre Event   \n",
       "8   https://www.wrc.com/images/redaktion/Web-2020/...  ...   Pre Event   \n",
       "9   https://www.wrc.com/images/redaktion/Web-2020/...  ...   Pre Event   \n",
       "10  https://www.wrc.com/images/redaktion/Web-2020/...  ...   Pre Event   \n",
       "11  https://www.wrc.com/images/redaktion/Web-2020/...  ...   Pre Event   \n",
       "12  https://www.wrc.com/images/redaktion/Web-2020/...  ...   Pre Event   \n",
       "\n",
       "   pageInfo.id         pageInfo.title         pageInfo.feTitle  \\\n",
       "0        38227     Rallye-Monte-Carlo       Rallye Monte-Carlo   \n",
       "1         1914           Rally Sweden             Rally Sweden   \n",
       "2         3083           Rally-Mexico             Rally México   \n",
       "3        51444        Rally-Argentina          Rally Argentina   \n",
       "4        85219         Rally Portugal        Rally de Portugal   \n",
       "5        85270  Rally Italia Sardegna    Rally Italia Sardegna   \n",
       "6        85348     Safari Rally Kenya    Rally Italia Sardegna   \n",
       "7        85394          Rally Finland      Neste Rally Finland   \n",
       "8        85447      Rally New Zealand        Rally New Zealand   \n",
       "9        85490           Rally Turkey             Rally Turkey   \n",
       "10       85535          Rally Germany  ADAC Rallye Deutschland   \n",
       "11       85589         Wales Rally GB           Wales Rally GB   \n",
       "12       85648            Rally Japan              Rally Japan   \n",
       "\n",
       "                                         pageInfo.url  pageResult.id  \\\n",
       "0   /en/championship/calendar/wrc/rallye-monte-car...          89623   \n",
       "1   /en/championship/calendar/wrc/rally-sweden/ove...          90029   \n",
       "2   /en/championship/calendar/wrc/rally-mexico/ove...          90044   \n",
       "3   /en/championship/calendar/wrc/rally-argentina/...          90072   \n",
       "4   /en/championship/calendar/wrc/rally-de-portuga...          90091   \n",
       "5   /en/championship/calendar/wrc/rally-italia-sar...          90113   \n",
       "6   /en/championship/calendar/wrc/safari-rally-ken...          90134   \n",
       "7   /en/championship/calendar/wrc/neste-rally-finl...          90150   \n",
       "8   /en/championship/calendar/wrc/rally-new-zealan...          90174   \n",
       "9   /en/championship/calendar/wrc/rally-turkey/ove...          90193   \n",
       "10  /en/championship/calendar/wrc/adac-rallye-deut...          90215   \n",
       "11  /en/championship/calendar/wrc/wales-rally-gb/o...          90240   \n",
       "12  /en/championship/calendar/wrc/rally-japan/over...          90258   \n",
       "\n",
       "         pageResult.title     pageResult.feTitle  \\\n",
       "0       Rally Monte Carlo      Rally Monte Carlo   \n",
       "1            Rally Sweden           Rally Sweden   \n",
       "2            Rally Mexico           Rally Mexico   \n",
       "3         Rally Argentina        Rally Argentina   \n",
       "4          Rally Portugal         Rally Portugal   \n",
       "5   Rally Italia Sardegna  Rally Italia Sardegna   \n",
       "6      Safari Rally Kenya     Safari Rally Kenya   \n",
       "7           Rally Finland          Rally Finland   \n",
       "8       Rally New Zealand      Rally New Zealand   \n",
       "9            Rally Turkey           Rally Turkey   \n",
       "10          Rally Germany          Rally Germany   \n",
       "11         Wales Rally GB         Wales Rally GB   \n",
       "12            Rally Japan            Rally Japan   \n",
       "\n",
       "                                       pageResult.url seasonYear  \n",
       "0   /en/results/rally-results/rally-monte-carlo/re...       2020  \n",
       "1     /en/results/rally-results/rally-sweden/results/       2020  \n",
       "2     /en/results/rally-results/rally-mexico/results/       2020  \n",
       "3   /en/results/rally-results/rally-argentina/resu...       2020  \n",
       "4   /en/results/rally-results/rally-portugal/results/       2020  \n",
       "5   /en/results/rally-results/rally-italia-sardegn...       2020  \n",
       "6   /en/results/rally-results/safari-rally-kenya/r...       2020  \n",
       "7    /en/results/rally-results/rally-finland/results/       2020  \n",
       "8   /en/results/rally-results/rally-new-zealand/re...       2020  \n",
       "9     /en/results/rally-results/rally-turkey/results/       2020  \n",
       "10   /en/results/rally-results/rally-germany/results/       2020  \n",
       "11  /en/results/rally-results/wales-rally-gb/results/       2020  \n",
       "12     /en/results/rally-results/rally-japan/results/       2020  \n",
       "\n",
       "[13 rows x 35 columns]"
      ]
     },
     "execution_count": 756,
     "metadata": {},
     "output_type": "execute_result"
    }
   ],
   "source": [
    "wrc=WRC2020()\n",
    "wrc.getCurrentSeasonEvents()\n",
    "wrc.currentseasonevents.current_season_events"
   ]
  },
  {
   "cell_type": "code",
   "execution_count": 456,
   "metadata": {},
   "outputs": [
    {
     "data": {
      "text/plain": [
       "(   startListId  eventId publishedStatus      name\n",
       " 0          451      124       Published  Thursday,\n",
       "     startListItemId  startListId  entryId         startDateTime  \\\n",
       " 0             20891          451    20745  2020-01-23T17:37:00Z   \n",
       " 1             20892          451    20743  2020-01-23T17:36:00Z   \n",
       " 2             20893          451    20722  2020-01-23T17:35:00Z   \n",
       " 3             20894          451    20741  2020-01-23T17:34:00Z   \n",
       " 4             20895          451    20740  2020-01-23T17:33:00Z   \n",
       " ..              ...          ...      ...                   ...   \n",
       " 83            20974          451    20702  2020-01-23T16:55:00Z   \n",
       " 84            20975          451    20703  2020-01-23T16:54:00Z   \n",
       " 85            20976          451    20707  2020-01-23T16:53:00Z   \n",
       " 86            20977          451    20728  2020-01-23T17:15:00Z   \n",
       " 87            20978          451    20683  2020-01-23T16:00:00Z   \n",
       " \n",
       "            startDateTimeLocal  order  \n",
       " 0   2020-01-23T18:37:00+01:00     64  \n",
       " 1   2020-01-23T18:36:00+01:00     63  \n",
       " 2   2020-01-23T18:35:00+01:00     62  \n",
       " 3   2020-01-23T18:34:00+01:00     61  \n",
       " 4   2020-01-23T18:33:00+01:00     60  \n",
       " ..                        ...    ...  \n",
       " 83  2020-01-23T17:55:00+01:00     26  \n",
       " 84  2020-01-23T17:54:00+01:00     25  \n",
       " 85  2020-01-23T17:53:00+01:00     24  \n",
       " 86  2020-01-23T18:15:00+01:00     44  \n",
       " 87  2020-01-23T17:00:00+01:00      1  \n",
       " \n",
       " [88 rows x 6 columns])"
      ]
     },
     "execution_count": 456,
     "metadata": {},
     "output_type": "execute_result"
    }
   ],
   "source": [
    "wrc.getStartlist()"
   ]
  },
  {
   "cell_type": "code",
   "execution_count": 325,
   "metadata": {
    "tags": [
     "active-ipynb"
    ]
   },
   "outputs": [
    {
     "data": {
      "text/html": [
       "<div>\n",
       "<style scoped>\n",
       "    .dataframe tbody tr th:only-of-type {\n",
       "        vertical-align: middle;\n",
       "    }\n",
       "\n",
       "    .dataframe tbody tr th {\n",
       "        vertical-align: top;\n",
       "    }\n",
       "\n",
       "    .dataframe thead th {\n",
       "        text-align: right;\n",
       "    }\n",
       "</style>\n",
       "<table border=\"1\" class=\"dataframe\">\n",
       "  <thead>\n",
       "    <tr style=\"text-align: right;\">\n",
       "      <th></th>\n",
       "      <th>itinerarySectionId</th>\n",
       "      <th>itineraryLegId</th>\n",
       "      <th>order</th>\n",
       "      <th>name</th>\n",
       "    </tr>\n",
       "  </thead>\n",
       "  <tbody>\n",
       "    <tr>\n",
       "      <th>0</th>\n",
       "      <td>637</td>\n",
       "      <td>273</td>\n",
       "      <td>1</td>\n",
       "      <td>Section 1</td>\n",
       "    </tr>\n",
       "    <tr>\n",
       "      <th>1</th>\n",
       "      <td>638</td>\n",
       "      <td>272</td>\n",
       "      <td>2</td>\n",
       "      <td>Section 2</td>\n",
       "    </tr>\n",
       "    <tr>\n",
       "      <th>2</th>\n",
       "      <td>639</td>\n",
       "      <td>272</td>\n",
       "      <td>3</td>\n",
       "      <td>Section 3</td>\n",
       "    </tr>\n",
       "    <tr>\n",
       "      <th>3</th>\n",
       "      <td>640</td>\n",
       "      <td>275</td>\n",
       "      <td>4</td>\n",
       "      <td>Section 4</td>\n",
       "    </tr>\n",
       "    <tr>\n",
       "      <th>4</th>\n",
       "      <td>641</td>\n",
       "      <td>275</td>\n",
       "      <td>5</td>\n",
       "      <td>Section 5</td>\n",
       "    </tr>\n",
       "    <tr>\n",
       "      <th>5</th>\n",
       "      <td>642</td>\n",
       "      <td>274</td>\n",
       "      <td>6</td>\n",
       "      <td>Section 6</td>\n",
       "    </tr>\n",
       "    <tr>\n",
       "      <th>6</th>\n",
       "      <td>643</td>\n",
       "      <td>274</td>\n",
       "      <td>7</td>\n",
       "      <td>Section 7</td>\n",
       "    </tr>\n",
       "  </tbody>\n",
       "</table>\n",
       "</div>"
      ],
      "text/plain": [
       "   itinerarySectionId  itineraryLegId  order       name\n",
       "0                 637             273      1  Section 1\n",
       "1                 638             272      2  Section 2\n",
       "2                 639             272      3  Section 3\n",
       "3                 640             275      4  Section 4\n",
       "4                 641             275      5  Section 5\n",
       "5                 642             274      6  Section 6\n",
       "6                 643             274      7  Section 7"
      ]
     },
     "execution_count": 325,
     "metadata": {},
     "output_type": "execute_result"
    }
   ],
   "source": [
    "wrc.itinerary.sections"
   ]
  },
  {
   "cell_type": "code",
   "execution_count": 280,
   "metadata": {
    "hideCode": true,
    "tags": [
     "active-ipynb"
    ]
   },
   "outputs": [],
   "source": [
    "itinerary, legs, sections, controls, stages = wrc.getItinerary()\n",
    "startList,startListItems = getStartlist(startListId)\n",
    "cars, classes = getCars(sdbRallyId)\n",
    "#rally, eligibilities, groups = getRally(sdbRallyId)\n",
    "#overall = getOverall(sdbRallyId, stageId)\n",
    "#splitPoints, entrySplitPointTimes, splitPointTimes = getSplitTimes(sdbRallyId,stageId)\n",
    "#stagetimes = getStageTimes(sdbRallyId,stageId)\n",
    "#stagewinners = getStagewinners(sdbRallyId)\n",
    "#penalties = getPenalties(sdbRallyId)\n",
    "#retirements = getRetirements(sdbRallyId)\n",
    "#championship = getChampionship()\n",
    "#championship = getChampionshipStandingsLive()"
   ]
  },
  {
   "cell_type": "code",
   "execution_count": 236,
   "metadata": {
    "tags": [
     "active-ipynb"
    ]
   },
   "outputs": [],
   "source": [
    "current_season_events, eventdays, eventchannel = wrc.getCurrentSeasonEvents()"
   ]
  },
  {
   "cell_type": "code",
   "execution_count": 242,
   "metadata": {
    "tags": [
     "active-ipynb"
    ]
   },
   "outputs": [],
   "source": [
    "event, days, channels = wrc.getActiveRally()\n"
   ]
  },
  {
   "cell_type": "code",
   "execution_count": 238,
   "metadata": {
    "tags": [
     "active-ipynb"
    ]
   },
   "outputs": [
    {
     "data": {
      "text/html": [
       "<div>\n",
       "<style scoped>\n",
       "    .dataframe tbody tr th:only-of-type {\n",
       "        vertical-align: middle;\n",
       "    }\n",
       "\n",
       "    .dataframe tbody tr th {\n",
       "        vertical-align: top;\n",
       "    }\n",
       "\n",
       "    .dataframe thead th {\n",
       "        text-align: right;\n",
       "    }\n",
       "</style>\n",
       "<table border=\"1\" class=\"dataframe\">\n",
       "  <thead>\n",
       "    <tr style=\"text-align: right;\">\n",
       "      <th></th>\n",
       "      <th>id</th>\n",
       "      <th>name</th>\n",
       "      <th>externalIdRally</th>\n",
       "      <th>externalIdEvent</th>\n",
       "      <th>timezone</th>\n",
       "      <th>active</th>\n",
       "      <th>countdown</th>\n",
       "      <th>jwrc</th>\n",
       "      <th>winner</th>\n",
       "      <th>images.format16x9.320x180</th>\n",
       "      <th>...</th>\n",
       "      <th>status.id</th>\n",
       "      <th>status.name</th>\n",
       "      <th>pageInfo.id</th>\n",
       "      <th>pageInfo.title</th>\n",
       "      <th>pageInfo.feTitle</th>\n",
       "      <th>pageInfo.url</th>\n",
       "      <th>pageResult.id</th>\n",
       "      <th>pageResult.title</th>\n",
       "      <th>pageResult.feTitle</th>\n",
       "      <th>pageResult.url</th>\n",
       "    </tr>\n",
       "  </thead>\n",
       "  <tbody>\n",
       "    <tr>\n",
       "      <th>0</th>\n",
       "      <td>100</td>\n",
       "      <td>Rallye Monte Carlo</td>\n",
       "      <td>153</td>\n",
       "      <td>124</td>\n",
       "      <td>1</td>\n",
       "      <td>True</td>\n",
       "      <td>False</td>\n",
       "      <td>False</td>\n",
       "      <td>None</td>\n",
       "      <td>https://www.wrc.com/images/redaktion/Web-2020/...</td>\n",
       "      <td>...</td>\n",
       "      <td>21</td>\n",
       "      <td>Live Event</td>\n",
       "      <td>38227</td>\n",
       "      <td>Rallye-Monte-Carlo</td>\n",
       "      <td>Rallye Monte-Carlo</td>\n",
       "      <td>/en/championship/calendar/wrc/rallye-monte-car...</td>\n",
       "      <td>89623</td>\n",
       "      <td>Rally Monte Carlo</td>\n",
       "      <td>Rally Monte Carlo</td>\n",
       "      <td>/en/results/rally-results/rally-monte-carlo/re...</td>\n",
       "    </tr>\n",
       "  </tbody>\n",
       "</table>\n",
       "<p>1 rows × 34 columns</p>\n",
       "</div>"
      ],
      "text/plain": [
       "    id                name  externalIdRally  externalIdEvent timezone  active  \\\n",
       "0  100  Rallye Monte Carlo              153              124        1    True   \n",
       "\n",
       "   countdown   jwrc winner                          images.format16x9.320x180  \\\n",
       "0      False  False   None  https://www.wrc.com/images/redaktion/Web-2020/...   \n",
       "\n",
       "   ... status.id status.name  pageInfo.id      pageInfo.title  \\\n",
       "0  ...        21  Live Event        38227  Rallye-Monte-Carlo   \n",
       "\n",
       "     pageInfo.feTitle                                       pageInfo.url  \\\n",
       "0  Rallye Monte-Carlo  /en/championship/calendar/wrc/rallye-monte-car...   \n",
       "\n",
       "   pageResult.id   pageResult.title  pageResult.feTitle  \\\n",
       "0          89623  Rally Monte Carlo   Rally Monte Carlo   \n",
       "\n",
       "                                      pageResult.url  \n",
       "0  /en/results/rally-results/rally-monte-carlo/re...  \n",
       "\n",
       "[1 rows x 34 columns]"
      ]
     },
     "execution_count": 238,
     "metadata": {},
     "output_type": "execute_result"
    }
   ],
   "source": [
    "event"
   ]
  },
  {
   "cell_type": "code",
   "execution_count": 243,
   "metadata": {
    "tags": [
     "active-ipynb"
    ]
   },
   "outputs": [
    {
     "data": {
      "text/plain": [
       "100"
      ]
     },
     "execution_count": 243,
     "metadata": {},
     "output_type": "execute_result"
    }
   ],
   "source": [
    "wrc.sdbRallyId"
   ]
  },
  {
   "cell_type": "code",
   "execution_count": null,
   "metadata": {},
   "outputs": [],
   "source": []
  }
 ],
 "metadata": {
  "celltoolbar": "Tags",
  "jupytext": {
   "formats": "ipynb,py:light"
  },
  "kernelspec": {
   "display_name": "Python 3",
   "language": "python",
   "name": "python3"
  },
  "language_info": {
   "codemirror_mode": {
    "name": "ipython",
    "version": 3
   },
   "file_extension": ".py",
   "mimetype": "text/x-python",
   "name": "python",
   "nbconvert_exporter": "python",
   "pygments_lexer": "ipython3",
   "version": "3.7.5"
  }
 },
 "nbformat": 4,
 "nbformat_minor": 2
}
