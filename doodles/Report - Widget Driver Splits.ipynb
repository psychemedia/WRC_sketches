{
 "cells": [
  {
   "cell_type": "code",
   "execution_count": 13,
   "metadata": {},
   "outputs": [],
   "source": [
    "import notebookimport\n",
    "\n",
    "ds= __import__(\"Report - Driver Splits\")"
   ]
  },
  {
   "cell_type": "code",
   "execution_count": 22,
   "metadata": {},
   "outputs": [],
   "source": [
    "import sqlite3\n",
    "from IPython.display import HTML\n",
    "import pandas as pd\n",
    "\n",
    "dbname='mexico19.db'\n",
    "conn = sqlite3.connect(dbname)\n",
    "rally='Mexico'\n",
    "rc='RC1'\n",
    "year=2019"
   ]
  },
  {
   "cell_type": "code",
   "execution_count": 19,
   "metadata": {},
   "outputs": [],
   "source": [
    "q_drivers='SELECT `driver.code` AS code  FROM startlists st JOIN startlist_classes sc ON sc.entryid = st.entryid AND name=\"{}\"'\n",
    "\n",
    "q_classes='SELECT DISTINCT(name) AS name FROM startlists st JOIN startlist_classes sc ON sc.entryid = st.entryid'\n",
    "\n",
    "#Need to look this up properly\n",
    "q_stages= ['SS{}'.format(i) for i in range(1,17) ]"
   ]
  },
  {
   "cell_type": "code",
   "execution_count": 20,
   "metadata": {},
   "outputs": [],
   "source": [
    "def stage_chart(rc,driver, stage):\n",
    "    s2 = ds.getDriverSplitsReport(conn, rally, stage, driver, rc)\n",
    "    display(HTML(s2))"
   ]
  },
  {
   "cell_type": "code",
   "execution_count": 23,
   "metadata": {},
   "outputs": [
    {
     "data": {
      "application/vnd.jupyter.widget-view+json": {
       "model_id": "bdfa979901b040488ed388d311314eb0",
       "version_major": 2,
       "version_minor": 0
      },
      "text/plain": [
       "interactive(children=(Dropdown(description='Class:', options=('RC1', 'RC2', 'NAT'), value='RC1'), Dropdown(des…"
      ]
     },
     "metadata": {},
     "output_type": "display_data"
    }
   ],
   "source": [
    "import ipywidgets as widgets\n",
    "from ipywidgets import interact\n",
    "\n",
    "classes = widgets.Dropdown(\n",
    "    options=pd.read_sql(q_classes,conn)['name'].to_list(),\n",
    "    value='RC1', description='Class:', disabled=False )\n",
    "\n",
    "drivers = widgets.Dropdown(\n",
    "    options=pd.read_sql(q_drivers.format(classes.value),conn)['code'].to_list(),\n",
    "    description='Driver:', disabled=False)\n",
    "\n",
    "stages = widgets.Dropdown(\n",
    "    options=q_stages, description='Stage:', disabled=False)\n",
    "\n",
    "def update_drivers(*args):\n",
    "    qdrivers = q_drivers.format(classes.value)\n",
    "    driverlist = pd.read_sql(qdrivers,conn)['code'].to_list()\n",
    "    print(driverlist)\n",
    "    drivers.options = driverlist\n",
    "    \n",
    "classes.observe(update_drivers, 'value')\n",
    "\n",
    "interact(stage_chart, rc=classes, driver=drivers, stage=stages);"
   ]
  },
  {
   "cell_type": "markdown",
   "metadata": {},
   "source": [
    "## How About More Control?\n",
    "\n",
    "What about we let the user decide what to allow in each chart?"
   ]
  },
  {
   "cell_type": "code",
   "execution_count": 8,
   "metadata": {},
   "outputs": [
    {
     "data": {
      "application/vnd.jupyter.widget-view+json": {
       "model_id": "57a3e5006a74490cbcc353e862e7a4bc",
       "version_major": 2,
       "version_minor": 0
      },
      "text/plain": [
       "interactive(children=(Dropdown(description='Class:', options=('RC1', 'RC2', 'RC4', 'NAT4'), value='RC1'), Drop…"
      ]
     },
     "metadata": {},
     "output_type": "display_data"
    }
   ],
   "source": [
    "classes2 = widgets.Dropdown(\n",
    "    options=pd.read_sql(q_classes,conn)['name'].to_list(),\n",
    "    value='RC1',\n",
    "    description='Class:',\n",
    "    disabled=False,\n",
    ")\n",
    "\n",
    "drivers2 = widgets.Dropdown(\n",
    "    options=pd.read_sql(q_drivers.format(classes2.value),conn)['code'].to_list(),\n",
    "    #value='NEU',\n",
    "    description='Driver:',\n",
    "    disabled=False,\n",
    ")\n",
    "\n",
    "stages2 = widgets.Dropdown(\n",
    "    options=q_stages, description='Stage:', disabled=False)\n",
    "\n",
    "\n",
    "def stage_chart2(rc,driver, stage, bars, roadPos, waypointRank):\n",
    "    dropcols=[]\n",
    "    if not roadPos:\n",
    "        dropcols.append('Road Position')\n",
    "    if not waypointRank:\n",
    "        dropcols.append('Waypoint Rank')\n",
    "        \n",
    "    s2 = ds.getDriverSplitsReport(conn, rally, stage, driver, rc,\n",
    "                                  bars=bars, dropcols=dropcols)\n",
    "    display(HTML(s2))\n",
    "\n",
    "splitBars = widgets.Checkbox( value=True, description='Split bars:',\n",
    "                           disabled=False )\n",
    "    \n",
    "roadPos = widgets.Checkbox( value=True, description='Road pos:',\n",
    "                           disabled=False )\n",
    "\n",
    "waypointRank = widgets.Checkbox( value=True, description='Waypoint Rank:',\n",
    "                           disabled=False )\n",
    "\n",
    "def update_drivers2(*args):\n",
    "    qdrivers = q_drivers.format(classes2.value)\n",
    "    driverlist = pd.read_sql(qdrivers,conn)['code'].to_list()\n",
    "    print(driverlist)\n",
    "    drivers2.options = driverlist\n",
    "    \n",
    "classes2.observe(update_drivers2, 'value')\n",
    "\n",
    "\n",
    "interact(stage_chart2, rc=classes2, driver=drivers2,\n",
    "         stage=stages2, bars=splitBars, roadPos=roadPos,\n",
    "        waypointRank=waypointRank);"
   ]
  },
  {
   "cell_type": "markdown",
   "metadata": {},
   "source": [
    "## HTML Table to PNG\n",
    "\n",
    "There is a jquery plugin for this - could we use this in the widget app to donwload the table as png?\n",
    "\n",
    "- https://stackoverflow.com/questions/38425931/download-table-as-png-using-jquery/40644383#40644383\n",
    "- https://tableexport.v5.travismclarke.com/#tableexport\n",
    "- https://html2canvas.hertzen.com/ / https://github.com/niklasvh/html2canvas\n",
    "- https://w3lessons.info/export-html-table-to-excel-csv-json-pdf-png-using-jquery/ export to pdf\n",
    "- https://github.com/simonbengtsson/jsPDF-AutoTable"
   ]
  },
  {
   "cell_type": "code",
   "execution_count": null,
   "metadata": {},
   "outputs": [],
   "source": []
  }
 ],
 "metadata": {
  "jupytext": {
   "text_representation": {
    "extension": ".md",
    "format_name": "markdown",
    "format_version": "1.0",
    "jupytext_version": "0.8.6"
   }
  },
  "kernelspec": {
   "display_name": "Python 3",
   "language": "python",
   "name": "python3"
  },
  "language_info": {
   "codemirror_mode": {
    "name": "ipython",
    "version": 3
   },
   "file_extension": ".py",
   "mimetype": "text/x-python",
   "name": "python",
   "nbconvert_exporter": "python",
   "pygments_lexer": "ipython3",
   "version": "3.7.0"
  }
 },
 "nbformat": 4,
 "nbformat_minor": 2
}
