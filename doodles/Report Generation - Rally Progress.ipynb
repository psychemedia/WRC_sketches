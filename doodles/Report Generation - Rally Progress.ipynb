{
 "cells": [
  {
   "cell_type": "code",
   "execution_count": 1,
   "metadata": {},
   "outputs": [],
   "source": [
    "if __name__=='__main__':\n",
    "    import notebookimport"
   ]
  },
  {
   "cell_type": "code",
   "execution_count": 2,
   "metadata": {},
   "outputs": [
    {
     "name": "stdout",
     "output_type": "stream",
     "text": [
      "importing Jupyter notebook from Charts - Stage Results.ipynb\n",
      "importing Jupyter notebook from Charts - Split Sector Delta.ipynb\n"
     ]
    }
   ],
   "source": [
    "if __name__=='__main__':\n",
    "    sr = __import__(\"Charts - Stage Results\")\n",
    "    dc = __import__(\"Charts - Split Sector Delta\")"
   ]
  },
  {
   "cell_type": "code",
   "execution_count": 3,
   "metadata": {},
   "outputs": [],
   "source": [
    "import os\n",
    "import sqlite3\n",
    "import pandas as pd\n",
    "\n",
    "#dbname='wrc18.db'\n",
    "dbname='mexico18.db'\n",
    "conn = sqlite3.connect(dbname)"
   ]
  },
  {
   "cell_type": "code",
   "execution_count": 4,
   "metadata": {},
   "outputs": [],
   "source": [
    "rally='Mexico'"
   ]
  },
  {
   "cell_type": "code",
   "execution_count": 5,
   "metadata": {},
   "outputs": [
    {
     "data": {
      "text/plain": [
       "\"year=2018\\nrc='RC2'\\nss='SS4'\\n\\n\\ntyp='stage_times_stage' #stage_times_stage stage_times_overall\\ntyp='stage_times_overall\""
      ]
     },
     "execution_count": 5,
     "metadata": {},
     "output_type": "execute_result"
    }
   ],
   "source": [
    "'''year=2018\n",
    "rc='RC2'\n",
    "ss='SS4'\n",
    "\n",
    "\n",
    "typ='stage_times_stage' #stage_times_stage stage_times_overall\n",
    "typ='stage_times_overall'''"
   ]
  },
  {
   "cell_type": "code",
   "execution_count": 6,
   "metadata": {},
   "outputs": [],
   "source": [
    "stageresults = sr.dbGetRallyStages(conn, rally)\n",
    "stagerank = sr.getEnrichedStageRank(conn,rally)"
   ]
  },
  {
   "cell_type": "code",
   "execution_count": 7,
   "metadata": {},
   "outputs": [
    {
     "name": "stdout",
     "output_type": "stream",
     "text": [
      "Section 1 ['SS1']\n",
      "Section 2 ['SS2', 'SS3', 'SS4', 'SS5']\n",
      "Section 3 ['SS6', 'SS7', 'SS8', 'SS9', 'SS10']\n",
      "Section 4 ['SS11', 'SS13', 'SS12']\n",
      "Section 5 ['SS14', 'SS15', 'SS16', 'SS17', 'SS18', 'SS19']\n",
      "Section 6 ['SS20', 'SS21']\n",
      "Section 7 ['SS22']\n"
     ]
    }
   ],
   "source": [
    "sections = stageresults.groupby('section')\n",
    "\n",
    "#Generate list from group: stageresults.groupby('section')['code'].apply(list)\n",
    "\n",
    "#Generate group then iterate through groups\n",
    "for key in sections.groups.keys():\n",
    "    print(key, sections.get_group(key)['code'].tolist())\n"
   ]
  },
  {
   "cell_type": "code",
   "execution_count": 8,
   "metadata": {},
   "outputs": [],
   "source": [
    "basepath = 'report'\n",
    "imgdir = 'images'\n",
    "imgdirfull = '{}/{}'.format(basepath, imgdir)\n"
   ]
  },
  {
   "cell_type": "code",
   "execution_count": 9,
   "metadata": {},
   "outputs": [],
   "source": [
    "sectionREADME_base = '''\\n### {section} Report\n",
    "'''"
   ]
  },
  {
   "cell_type": "code",
   "execution_count": 10,
   "metadata": {},
   "outputs": [],
   "source": []
  },
  {
   "cell_type": "code",
   "execution_count": 17,
   "metadata": {},
   "outputs": [],
   "source": [
    "%%capture\n",
    "if not os.path.exists(imgdirfull):\n",
    "    os.makedirs(imgdirfull)\n",
    "    \n",
    "for key in sections.groups.keys():\n",
    "    #path = '{}/{}'.format(basepath,key)\n",
    "    #if not os.path.exists(path):\n",
    "    #    os.makedirs(path)\n",
    "    sectionStages = sections.get_group(key)['code'].tolist()\n",
    "    stagerank = sr.stageOverallEnrichers(stagerank)\n",
    "    ssdemo = stagerank[stagerank['code'].isin(sectionStages)].copy()\n",
    "    ssdemo = sr.stageLegEnrichers(ssdemo)\n",
    "    fn='{}/spchart_{}.png'.format(imgdirfull, key)\n",
    "    \n",
    "    fig, ax = sr.plotStageProgressionChart( ssdemo, linecolor='lightgrey' , deltalabels=True, \n",
    "                                        progress=True, stageAnnotate=False, filename=fn);\n",
    "    \n",
    "    if fig is None: continue\n",
    "    fn='{}/spchart_{}.png'.format(imgdir, key)\n",
    "    \n",
    "    sectionREADME = sectionREADME_base.format(section=key)\n",
    "    sectionREADME = '''{s}{key}\\n\\n![]({img})'''.format(s=sectionREADME, key=key,img=fn)\n",
    "\n",
    "    with open('{bp}/{key}_report.md'.format(bp=basepath,key=key), 'a') as out_file:\n",
    "        out_file.write(sectionREADME)\n"
   ]
  },
  {
   "cell_type": "code",
   "execution_count": 18,
   "metadata": {},
   "outputs": [],
   "source": [
    "%%capture\n",
    "fn='{}/spchart_full.png'.format(imgdirfull)\n",
    "fig, ax = sr.plotStageProgressionChart( stagerank, linecolor='lightgrey' , deltalabels=True, \n",
    "                                        progress=True, stageAnnotate=False, filename=fn);\n",
    "\n",
    "README='''\\n![]({})'''.format('{}/spchart_full.png'.format(imgdir))\n",
    "with open('{}/README.md'.format(basepath), 'a') as out_file:\n",
    "    out_file.write(README)"
   ]
  },
  {
   "cell_type": "code",
   "execution_count": 14,
   "metadata": {},
   "outputs": [
    {
     "name": "stdout",
     "output_type": "stream",
     "text": [
      "README.md           Section 2_report.md Section 4_report.md Section 6_report.md\r\n",
      "SUMMARY.md          Section 3_report.md Section 5_report.md \u001b[34mimages\u001b[m\u001b[m\r\n"
     ]
    }
   ],
   "source": [
    "!ls report"
   ]
  },
  {
   "cell_type": "code",
   "execution_count": null,
   "metadata": {},
   "outputs": [],
   "source": []
  }
 ],
 "metadata": {
  "kernelspec": {
   "display_name": "Python 3",
   "language": "python",
   "name": "python3"
  },
  "language_info": {
   "codemirror_mode": {
    "name": "ipython",
    "version": 3
   },
   "file_extension": ".py",
   "mimetype": "text/x-python",
   "name": "python",
   "nbconvert_exporter": "python",
   "pygments_lexer": "ipython3",
   "version": "3.6.4"
  }
 },
 "nbformat": 4,
 "nbformat_minor": 2
}
