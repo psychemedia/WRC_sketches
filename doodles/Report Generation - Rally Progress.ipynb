{
 "cells": [
  {
   "cell_type": "code",
   "execution_count": 401,
   "metadata": {},
   "outputs": [],
   "source": [
    "import notebookimport"
   ]
  },
  {
   "cell_type": "code",
   "execution_count": 402,
   "metadata": {},
   "outputs": [],
   "source": [
    "if __name__=='__main__':\n",
    "    rebase='overallleader'\n",
    "    rebase=''#'PAD'"
   ]
  },
  {
   "cell_type": "code",
   "execution_count": 403,
   "metadata": {},
   "outputs": [],
   "source": [
    "sr = __import__(\"Charts - Stage Results\")\n",
    "ssd = __import__(\"Charts - Split Sector Delta\")\n",
    "sp = __import__(\"Charts - Stage Progress\")\n"
   ]
  },
  {
   "cell_type": "code",
   "execution_count": 404,
   "metadata": {},
   "outputs": [],
   "source": [
    "import tracery\n",
    "from tracery.modifiers import base_english\n",
    "from inflectenglish import inflect_english\n",
    "from pytracery_logic import pytracery_logic\n",
    "\n",
    "def pandas_row_mapper(row, rules, root,  modifiers=base_english):\n",
    "    ''' Function to parse single row of dataframe '''\n",
    "    row=row.to_dict()\n",
    "    rules=rules.copy()\n",
    "\n",
    "    for k in row:\n",
    "        rules[k] = str(row[k])\n",
    "        \n",
    "    grammar = tracery.Grammar(rules)\n",
    "        \n",
    "    if modifiers is not None:\n",
    "        if isinstance(modifiers,list):\n",
    "            for modifier in modifiers:\n",
    "                grammar.add_modifiers(modifier)\n",
    "        else:\n",
    "            grammar.add_modifiers(modifiers)\n",
    "\n",
    "    return grammar.flatten(root)"
   ]
  },
  {
   "cell_type": "code",
   "execution_count": 405,
   "metadata": {},
   "outputs": [],
   "source": [
    "#need to get db builder -\n",
    "#eg http://localhost:8888/notebooks/Documents/code/github%20forks/WRC_sketches/doodles/WRC%20API%202018%20Base.ipynb"
   ]
  },
  {
   "cell_type": "code",
   "execution_count": 406,
   "metadata": {},
   "outputs": [],
   "source": [
    "import os\n",
    "import sqlite3\n",
    "import pandas as pd\n",
    "import pytablewriter\n",
    "import six\n",
    "\n",
    "#dbname='wrc18.db'\n",
    "#dbname='france18.db'\n",
    "#conn = sqlite3.connect(dbname)\n",
    "\n",
    "if __name__=='__main__':\n",
    "    #dbname='wrc18.db'\n",
    "    dbname='portugal18.db'\n",
    "    conn = sqlite3.connect(dbname)\n",
    "    rally='Portugal'"
   ]
  },
  {
   "cell_type": "code",
   "execution_count": 407,
   "metadata": {},
   "outputs": [],
   "source": [
    "#rally='France'"
   ]
  },
  {
   "cell_type": "code",
   "execution_count": 408,
   "metadata": {},
   "outputs": [],
   "source": [
    "rc='RC1'\n",
    "year=2018\n",
    "#ss='SS4'"
   ]
  },
  {
   "cell_type": "code",
   "execution_count": 409,
   "metadata": {},
   "outputs": [
    {
     "data": {
      "text/plain": [
       "\"year=2018\\nrc='RC2'\\nss='SS4'\\n\\n\\ntyp='stage_times_stage' #stage_times_stage stage_times_overall\\ntyp='stage_times_overall\""
      ]
     },
     "execution_count": 409,
     "metadata": {},
     "output_type": "execute_result"
    }
   ],
   "source": [
    "'''year=2018\n",
    "rc='RC2'\n",
    "ss='SS4'\n",
    "\n",
    "\n",
    "typ='stage_times_stage' #stage_times_stage stage_times_overall\n",
    "typ='stage_times_overall'''"
   ]
  },
  {
   "cell_type": "code",
   "execution_count": 410,
   "metadata": {},
   "outputs": [],
   "source": [
    "stageresults = sr.dbGetRallyStages(conn, rally).sort_values('number')\n",
    "\n",
    "#The getEnrichedStageRank query filters down to a class - default is RC1\n",
    "stagerank_overall = sr.getEnrichedStageRank(conn, rally, typ='overall')\n",
    "\n",
    "stagerank_stage = sr.getEnrichedStageRank(conn, rally, typ='stage')"
   ]
  },
  {
   "cell_type": "raw",
   "metadata": {},
   "source": [
    "txt='In stage {stage}, {lead} took the stage, {nthstagewin}, in a time of {time}.\\n\\nIn second place on stage, {diff} behind, {second} retained overall lead of the rally.'.format(**row)"
   ]
  },
  {
   "cell_type": "code",
   "execution_count": 411,
   "metadata": {},
   "outputs": [
    {
     "data": {
      "text/plain": [
       "diffFirst                     00:00:02.4000000\n",
       "diffFirstMs                               2400\n",
       "diffPrev                      00:00:00.6000000\n",
       "diffPrevMs                                 600\n",
       "elapsedDuration               00:02:36.7000000\n",
       "elapsedDurationMs                       156700\n",
       "entryId                                   2108\n",
       "position                                    11\n",
       "source                                 Default\n",
       "stageId                                    462\n",
       "stageTimeId                              18304\n",
       "status                               Completed\n",
       "class                                      RC1\n",
       "code                                       SS1\n",
       "distance                                  3.36\n",
       "name                                   Lousada\n",
       "snum                                         1\n",
       "driver.code                                PAD\n",
       "entrant.name           HYUNDAI SHELL MOBIS WRT\n",
       "classrank                                   11\n",
       "gainedClassPos                           False\n",
       "gainedClassLead                          False\n",
       "classPosDiff                                 0\n",
       "lostClassLead                            False\n",
       "retainedClassLead                        False\n",
       "gainedOverallPos                         False\n",
       "gainedOverallLead                        False\n",
       "overallPosDiff                               0\n",
       "lostOverallLead                          False\n",
       "retainedOverallLead                      False\n",
       "stagewin                                 False\n",
       "stagewincount                                0\n",
       "winsinarow                                   0\n",
       "gainedTime                               False\n",
       "Name: 10, dtype: object"
      ]
     },
     "execution_count": 411,
     "metadata": {},
     "output_type": "execute_result"
    }
   ],
   "source": [
    "stagerank_stage.iloc[10]"
   ]
  },
  {
   "cell_type": "code",
   "execution_count": 412,
   "metadata": {},
   "outputs": [],
   "source": [
    "import inflect\n",
    "p = inflect.engine()\n",
    "\n",
    "def timedelta_to_text(td): \n",
    "    if not td: return\n",
    "    c=pd.to_timedelta(td).components\n",
    "    txt=[]\n",
    "    if c.hours>0:\n",
    "        txt_.append(p.number_to_words(c.hours)+p.plural('hours',c.hours))\n",
    "    if c.minutes>0:\n",
    "        txt.append('{} {}'.format(p.number_to_words(c.minutes),p.plural('minute',c.minutes)))\n",
    "    if c.seconds>0:\n",
    "        seconds=c.seconds\n",
    "        if c.milliseconds>0:\n",
    "            seconds=seconds+c.milliseconds/1000\n",
    "        txt.append('{} {}'.format(p.number_to_words(seconds),p.plural('second',seconds)))\n",
    "    return p.join(txt, final_sep=\"and\")\n",
    "\n",
    "def timedelta_to_numtext(td):\n",
    "    if not td: return\n",
    "    c=pd.to_timedelta(td).components\n",
    "    txt=[]\n",
    "    if c.hours>0:\n",
    "        txt.append('{}{}'.format(c.hours,p.plural('hr',c.hours)))\n",
    "    if c.minutes>0:\n",
    "        txt.append('{}m'.format(c.minutes))\n",
    "    if c.seconds>0:\n",
    "        seconds=c.seconds\n",
    "        if c.milliseconds>0:\n",
    "            seconds=round(seconds+c.milliseconds/1000, 2)\n",
    "        txt.append('{}s'.format(seconds))\n",
    "\n",
    "    return p.join(txt,conj='')"
   ]
  },
  {
   "cell_type": "code",
   "execution_count": 413,
   "metadata": {},
   "outputs": [
    {
     "data": {
      "text/plain": [
       "[{'code': 'SS5',\n",
       "  'position': 1.0,\n",
       "  'winsinarow': 1,\n",
       "  'elapsedDuration': '00:15:31.4000000',\n",
       "  'elapsedDuration_txt': '15m 31.4s',\n",
       "  'stagewin': True,\n",
       "  'diffFirst_txt': '',\n",
       "  'stagewincount': 2.0,\n",
       "  'drivercode': 'MEE'},\n",
       " {'code': 'SS5',\n",
       "  'position': 2.0,\n",
       "  'winsinarow': 0,\n",
       "  'elapsedDuration': '00:15:32.2000000',\n",
       "  'elapsedDuration_txt': '15m 32.2s',\n",
       "  'stagewin': False,\n",
       "  'diffFirst_txt': '',\n",
       "  'stagewincount': 0.0,\n",
       "  'drivercode': 'OST'},\n",
       " {'code': 'SS5',\n",
       "  'position': 3.0,\n",
       "  'winsinarow': 0,\n",
       "  'elapsedDuration': '00:15:32.8000000',\n",
       "  'elapsedDuration_txt': '15m 32.8s',\n",
       "  'stagewin': False,\n",
       "  'diffFirst_txt': '1.4s',\n",
       "  'stagewincount': 0.0,\n",
       "  'drivercode': 'SUN'}]"
      ]
     },
     "execution_count": 413,
     "metadata": {},
     "output_type": "execute_result"
    }
   ],
   "source": [
    "_code='SS5'\n",
    "typ=stagerank_stage\n",
    "typ['elapsedDuration_txt'] =typ['elapsedDuration'].apply(timedelta_to_numtext)\n",
    "typ['diffFirst_txt'] =typ['diffFirst'].apply(timedelta_to_numtext)\n",
    "_srs=typ[(typ['code']==_code) & (typ['position']<=3)][['code','position','winsinarow','elapsedDuration',\n",
    "                                                    'elapsedDuration_txt', 'stagewin','diffFirst_txt',\n",
    "                                                                                         'stagewincount',\n",
    "                                                                                         'driver.code']]\n",
    "_srs.columns=[c.replace('.','') for c in _srs.columns]\n",
    "_srs.to_dict(orient='record')"
   ]
  },
  {
   "cell_type": "code",
   "execution_count": 414,
   "metadata": {},
   "outputs": [
    {
     "data": {
      "text/plain": [
       "57                     in first\n",
       "67    OST took second,  behind.\n",
       "69                   took third\n",
       "dtype: object"
      ]
     },
     "execution_count": 414,
     "metadata": {},
     "output_type": "execute_result"
    }
   ],
   "source": [
    "rules = {'onetwo_':'[branch:#_onetwo_#]#branch##condition#',\n",
    "         '_onetwo_':'#stagewin._branch(True,stagewinner_,second)# ',\n",
    "         'y':'[switch:#sval#]#switch##condition#',\n",
    "         'yy':'[switch:#position.int_to_words.ordinal._prefix(stage)._switch#]#switch##condition#',\n",
    "         'sval':'#position.int_to_words.ordinal._prefix(stage)._switch#',\n",
    "         'stagefirst':'in first',\n",
    "         'stagethird':'took third',\n",
    "         'stagewinner_': \"#drivercode# #won_# stage #code# #inwith_# a time of #elapsedDuration_txt#.\",\n",
    "         'won_':['won', 'took'],\n",
    "         'inwith_':['in', 'with'],\n",
    "        'stagesecond':'#drivercode# took second, #diffFirst_txt# behind.',\n",
    "        'z':'#position._gte(1,stagewinner)#',\n",
    "        'toptwo_':'[switch:#_toptwo_#]#switch##condition#','_toptwo_':'#position._gte(2,onetwo_)#',\n",
    "        'null':''}\n",
    "\n",
    "#dd.columns=[c.replace('.','') for c in dd.columns]\n",
    "#dd['report'] = dd.apply(lambda row: pandas_row_mapper(row, rules, \"#origin#\"), axis=1)\n",
    "#for k in row:\n",
    "#    rules[k] = str(row[k])\n",
    "\n",
    "#grammar = tracery.Grammar(rules)\n",
    "#grammar.add_modifiers(inflect_english)\n",
    "#grammar.flatten('stagewinner')\n",
    "_srs.apply(lambda row: pandas_row_mapper(row, rules, \"#y#\",[base_english,inflect_english,pytracery_logic]), axis=1)"
   ]
  },
  {
   "cell_type": "code",
   "execution_count": 415,
   "metadata": {},
   "outputs": [
    {
     "data": {
      "text/plain": [
       "[{'code': 'SS5',\n",
       "  'position': 1,\n",
       "  'winsinarow': 1,\n",
       "  'stagewin': True,\n",
       "  'stagewincount': 2.0,\n",
       "  'retainedOverallLead': False,\n",
       "  'drivercode': 'MEE'}]"
      ]
     },
     "execution_count": 415,
     "metadata": {},
     "output_type": "execute_result"
    }
   ],
   "source": [
    "typ=stagerank_overall\n",
    "_sro=typ[(typ['code']==_code) & (typ['stagewin'])][['code','position','winsinarow',\n",
    "                                                                                         'stagewin',\n",
    "                                                                                         'stagewincount',\n",
    "                                                                                         'retainedOverallLead',\n",
    "                                                                                         'driver.code']]\n",
    "\n",
    "_sro.columns=[c.replace('.','') for c in _sro.columns]\n",
    "_sro.to_dict(orient='record')"
   ]
  },
  {
   "cell_type": "code",
   "execution_count": 416,
   "metadata": {},
   "outputs": [],
   "source": [
    "basepath = 'report'\n",
    "imgdir = 'images'\n",
    "imgdirfull = '{}/{}'.format(basepath, imgdir)\n"
   ]
  },
  {
   "cell_type": "code",
   "execution_count": 417,
   "metadata": {},
   "outputs": [
    {
     "name": "stdout",
     "output_type": "stream",
     "text": [
      "Section 1 ['SS1']\n",
      "Section 2 ['SS2', 'SS3', 'SS4']\n",
      "Section 3 ['SS5', 'SS6', 'SS7', 'SS8', 'SS9']\n",
      "Section 4 ['SS10', 'SS11', 'SS12']\n",
      "Section 5 ['SS13', 'SS14', 'SS15']\n",
      "Section 6 ['SS16', 'SS17', 'SS18', 'SS19']\n",
      "Section 7 ['SS20']\n"
     ]
    }
   ],
   "source": [
    "sections = stageresults.groupby('section')\n",
    "\n",
    "#Generate list from group: stageresults.groupby('section')['code'].apply(list)\n",
    "\n",
    "#Generate group then iterate through groups\n",
    "for key in sections.groups.keys():\n",
    "    print(key, sections.get_group(key)['code'].tolist())\n"
   ]
  },
  {
   "cell_type": "code",
   "execution_count": 418,
   "metadata": {},
   "outputs": [],
   "source": [
    "sectionREADME_base = '''\\n### {section} Report\n",
    "'''"
   ]
  },
  {
   "cell_type": "markdown",
   "metadata": {},
   "source": [
    "## Section Reports\n",
    "\n",
    "Can these be limited to e.g. just RC1?\n",
    "\n",
    "TO DO - need something if the section is a single stage - not s split chart, just a spot chart?"
   ]
  },
  {
   "cell_type": "code",
   "execution_count": 419,
   "metadata": {},
   "outputs": [],
   "source": [
    "cols=['diffFirst', 'diffFirstMs', 'diffPrev', 'diffPrevMs', 'elapsedDuration',\n",
    "       'elapsedDurationMs', 'entryId', 'position', 'source', 'stageId',\n",
    "       'stageTimeId', 'status', 'class', 'code', 'distance', 'name', 'snum',\n",
    "       'driver.code', 'entrant.name', 'classrank', 'gainedClassPos',\n",
    "       'gainedClassLead', 'classPosDiff', 'lostClassLead', 'retainedClassLead',\n",
    "       'gainedOverallPos', 'gainedOverallLead', 'overallPosDiff',\n",
    "       'lostOverallLead', 'retainedOverallLead', 'stagewin', 'stagewincount',\n",
    "       'winsinarow', 'gainedTime']\n",
    "cols=['driver.code','entrant.name','elapsedDuration','position','classrank' ,'diffFirst', 'diffPrev']\n",
    "\n",
    "#stagerank_stage[stagerank_stage['code']=='SS9'][cols].sort_values('position')"
   ]
  },
  {
   "cell_type": "code",
   "execution_count": 420,
   "metadata": {},
   "outputs": [
    {
     "data": {
      "text/plain": [
       "{'SS11': {'status': 'ToRun'},\n",
       " 'SS12': {'status': 'ToRun'},\n",
       " 'SS13': {'status': 'ToRun'},\n",
       " 'SS14': {'status': 'ToRun'},\n",
       " 'SS15': {'status': 'ToRun'},\n",
       " 'SS16': {'status': 'ToRun'},\n",
       " 'SS17': {'status': 'ToRun'},\n",
       " 'SS18': {'status': 'ToRun'},\n",
       " 'SS19': {'status': 'ToRun'},\n",
       " 'SS10': {'status': 'ToRun'},\n",
       " 'SS1': {'status': 'Completed'},\n",
       " 'SS2': {'status': 'Completed'},\n",
       " 'SS3': {'status': 'Completed'},\n",
       " 'SS4': {'status': 'Completed'},\n",
       " 'SS20': {'status': 'ToRun'},\n",
       " 'SS9': {'status': 'Running'},\n",
       " 'SS5': {'status': 'Completed'},\n",
       " 'SS8': {'status': 'Running'},\n",
       " 'SS7': {'status': 'Interrupted'},\n",
       " 'SS6': {'status': 'Completed'}}"
      ]
     },
     "execution_count": 420,
     "metadata": {},
     "output_type": "execute_result"
    }
   ],
   "source": [
    "q='''\n",
    "    SELECT itc.code, itc.status\n",
    "    FROM itinerary_controls itc\n",
    "    JOIN championship_events ce ON itc.eventId=ce.eventId\n",
    "    JOIN itinerary_sections isc ON itc.`itinerarySections.itinerarySectionId`=isc.itinerarySectionId\n",
    "    JOIN itinerary_legs il ON isc.itineraryLegId=il.itineraryLegId\n",
    "    WHERE ce.`country.name`=\"{rally}\" AND itc.code LIKE \"SS%\" \n",
    "    '''.format(rally=rally)\n",
    "stage_status=pd.read_sql(q,conn).set_index('code').to_dict(orient='index')\n",
    "stage_status"
   ]
  },
  {
   "cell_type": "code",
   "execution_count": 421,
   "metadata": {},
   "outputs": [],
   "source": [
    "%%capture\n",
    "if not os.path.exists(imgdirfull):\n",
    "    os.makedirs(imgdirfull)\n",
    "\n",
    "def get_stage_results_table(stagerank_stage,ss):\n",
    "    writer = pytablewriter.MarkdownTableWriter()\n",
    "    writer.stream = six.StringIO()\n",
    "    tmp_df = stagerank_stage[stagerank_stage['code']==ss][cols].sort_values('position')\n",
    "    tmp_df.columns=['Driver','Team','Elapsed Duration','Position','Class Rank' ,'diffFirst', 'diffPrev']\n",
    "    #Drop drivers without a position\n",
    "    writer.from_dataframe(tmp_df.dropna(subset=['Position']))\n",
    "    writer.write_table()\n",
    "    return '\\n\\n'+writer.stream.getvalue()\n",
    "\n",
    "    \n",
    "def sectionRankingChart(data, title, sectionREADME, key, sectionStages, fn_core, deltalabels=True, elaborate=True):\n",
    "    data = sr.stageOverallEnrichers(data)\n",
    "    ss = data[data['code'].isin(sectionStages)].copy()\n",
    "    ss = sr.stageLegEnrichers(ss)\n",
    "    if ss.empty: return sectionREADME\n",
    "    fn='{}/{}'.format(imgdirfull, fn_core)\n",
    "\n",
    "    fig, ax = sr.plotStageProgressionChart( ss, linecolor='lightgrey' , deltalabels=deltalabels, elaborate=elaborate,\n",
    "                                        progress=True, stageAnnotate=False, filename=fn, title = title); \n",
    "    if fig is not None:\n",
    "        fn='{}/{}'.format(imgdir, fn_core)\n",
    "        sectionREADME = '''\\n\\n{s}{key}\\n\\n![]({img})\\n'''.format(s=sectionREADME, key=key,img=fn)\n",
    "    return sectionREADME\n",
    "\n",
    "\n",
    "def sectionStagesReport(sections, stagerank_overall, stagerank_stage, basepath, rebase='overall'):\n",
    "    dn ='_'+rebase if rebase and 'overall' not in rebase else ''\n",
    "        \n",
    "    for key in sections.groups.keys():\n",
    "        #path = '{}/{}'.format(basepath,key)\n",
    "        #if not os.path.exists(path):\n",
    "        #    os.makedirs(path)\n",
    "\n",
    "        out_file_name = '{bp}/{key}_report{dn}.md'.format(bp=basepath, key=key, dn=dn)\n",
    "\n",
    "        sectionStages = sections.get_group(key)['code'].tolist()\n",
    "        print(sectionStages)\n",
    "        #Check section stages - if TORUN, then break\n",
    "        \n",
    "        sectionREADME = sectionREADME_base.format(section=key)\n",
    "        \n",
    "        #Stage rank chart\n",
    "        fn_core='spchart_stage_{}.png'.format( key)\n",
    "        title = '{} - Stage Ranking'.format(key)\n",
    "\n",
    "        sectionREADME = sectionRankingChart(stagerank_stage, title, sectionREADME, key, sectionStages, fn_core, deltalabels=False, elaborate=False)\n",
    "\n",
    "        #Overall rally ranking chart\n",
    "        fn_core='spchart_overall_{}.png'.format( key)\n",
    "        title = '{} - Overall Rally Ranking Evolution'.format(key)\n",
    "        sectionREADME = sectionRankingChart(stagerank_overall, title, sectionREADME, key, sectionStages, fn_core, deltalabels=True, elaborate=True )\n",
    "\n",
    "        #Display results as table\n",
    "        # TO DO - Need to do something about stage vs rally overall result?\n",
    "        for stage in sectionStages:\n",
    "            if stage_status[stage]['status']=='ToRun': break\n",
    "            print(stage)\n",
    "\n",
    "            #writer = pytablewriter.MarkdownTableWriter()\n",
    "            #writer.stream = six.StringIO()\n",
    "            #tmp_df = stagerank_stage[stagerank_stage['code']==stage][cols].sort_values('position')\n",
    "            #tmp_df.columns=['Driver','Team','Elapsed Duration','Position','Class Rank' ,'diffFirst', 'diffPrev']\n",
    "            #writer.from_dataframe(tmp_df)\n",
    "            #writer.write_table()\n",
    "            stage_result_table = get_stage_results_table(stagerank_stage,stage)\n",
    "            sectionREADME = '{}\\n\\n##Stage Result - {}\\n\\n{}\\n\\n'.format(sectionREADME, stage, stage_result_table)\n",
    "\n",
    "\n",
    "        with open(out_file_name, 'a') as out_file:\n",
    "            out_file.write(sectionREADME)\n",
    "            \n",
    "            \n",
    "sectionStagesReport(sections, stagerank_overall, stagerank_stage, basepath,rebase=rebase)\n"
   ]
  },
  {
   "cell_type": "markdown",
   "metadata": {},
   "source": [
    "### Stage progression chart"
   ]
  },
  {
   "cell_type": "code",
   "execution_count": 422,
   "metadata": {},
   "outputs": [],
   "source": [
    "%%capture\n",
    "fn='{}/spchart_full.png'.format(imgdirfull)\n",
    "fig, ax = sr.plotStageProgressionChart( stagerank_overall, linecolor='lightgrey' , deltalabels=True, \n",
    "                                        progress=True, stageAnnotate=False, filename=fn);\n",
    "\n",
    "README='''\\n![]({})'''.format('{}/spchart_full.png'.format(imgdir))\n",
    "with open('{}/README.md'.format(basepath), 'a') as out_file:\n",
    "    out_file.write(README)"
   ]
  },
  {
   "cell_type": "code",
   "execution_count": 423,
   "metadata": {},
   "outputs": [
    {
     "name": "stdout",
     "output_type": "stream",
     "text": [
      "README.md           SS7_report.md       Section 4_report.md entries_RC3.md\r\n",
      "SS1_report.md       SS8_report.md       Section 5_report.md entries_RC4.md\r\n",
      "SS2_report.md       SS9_report.md       Section 6_report.md \u001b[34mimages\u001b[m\u001b[m\r\n",
      "SS3_report.md       SUMMARY.md          Section 7_report.md \u001b[34mmaps\u001b[m\u001b[m\r\n",
      "SS4_report.md       Section 1_report.md \u001b[34mdocs\u001b[m\u001b[m\r\n",
      "SS5_report.md       Section 2_report.md entries_RC1.md\r\n",
      "SS6_report.md       Section 3_report.md entries_RC2.md\r\n"
     ]
    }
   ],
   "source": [
    "!ls report"
   ]
  },
  {
   "cell_type": "markdown",
   "metadata": {},
   "source": [
    "## Stage Reports"
   ]
  },
  {
   "cell_type": "code",
   "execution_count": 424,
   "metadata": {},
   "outputs": [],
   "source": [
    "#overallleader = stagerank_overall[stagerank_overall['position']==1].set_index('code')[['driver.code']].to_dict(orient='dict')['driver.code']\n",
    "#overallleader"
   ]
  },
  {
   "cell_type": "code",
   "execution_count": 425,
   "metadata": {},
   "outputs": [
    {
     "data": {
      "text/plain": [
       "dict_keys(['Section 1', 'Section 2', 'Section 3', 'Section 4', 'Section 5', 'Section 6', 'Section 7'])"
      ]
     },
     "execution_count": 425,
     "metadata": {},
     "output_type": "execute_result"
    }
   ],
   "source": [
    "sections.groups.keys()"
   ]
  },
  {
   "cell_type": "code",
   "execution_count": 426,
   "metadata": {
    "scrolled": true
   },
   "outputs": [
    {
     "data": {
      "text/plain": [
       "{'SS18': 'SS18.png',\n",
       " 'SS3': 'SS03-06.png',\n",
       " 'SS6': 'SS03-06.png',\n",
       " 'SS16': 'SS16-19.png',\n",
       " 'SS19': 'SS16-19.png',\n",
       " 'SS8': 'SS08-09.png',\n",
       " 'SS9': 'SS08-09.png',\n",
       " 'SS11': 'SS11-14.png',\n",
       " 'SS14': 'SS11-14.png',\n",
       " 'SS4': 'SS04-07.png',\n",
       " 'SS7': 'SS04-07.png',\n",
       " 'SS2': 'SS17-20.png',\n",
       " 'SS5': 'SS02-05.png',\n",
       " 'SS12': 'SS12-15.png',\n",
       " 'SS15': 'SS12-15.png',\n",
       " 'SS1': 'SSS1.png',\n",
       " 'SS13': 'SS10-13.png',\n",
       " 'SS17': 'SS17-20.png'}"
      ]
     },
     "execution_count": 426,
     "metadata": {},
     "output_type": "execute_result"
    }
   ],
   "source": [
    "#Look for maps\n",
    "maps={}\n",
    "for i in os.listdir('report/maps'):\n",
    "    maps[i] = i.split('.')[0].replace('0','').replace('-','-SS').replace('SSS','SS')\n",
    "smaps = {}\n",
    "for m in maps:\n",
    "    for i in maps[m].split('-'):\n",
    "        smaps[i] = m\n",
    "smaps"
   ]
  },
  {
   "cell_type": "code",
   "execution_count": 427,
   "metadata": {},
   "outputs": [
    {
     "name": "stdout",
     "output_type": "stream",
     "text": [
      "SS1\n",
      "SS2\n",
      "SS3\n",
      "SS4\n",
      "SS5\n",
      "SS6\n",
      "SS7\n",
      "SS8\n",
      "SS9\n"
     ]
    }
   ],
   "source": [
    "import matplotlib.pyplot as plt\n",
    "import unidecode\n",
    "\n",
    "stagecodes = stageresults['code']\n",
    "\n",
    "def stageReport(stagerank_overall,stagerank_stage, stagecodes, stage_status, rebase='overallleader'  ):\n",
    "    drivercodes = stagerank_overall['driver.code'].unique()\n",
    "    links=[]\n",
    "    overallleader = stagerank_overall[stagerank_overall['position']==1].set_index('code')[['driver.code']].to_dict(orient='dict')['driver.code']\n",
    "    for ss in stagecodes:\n",
    "        #Check section stages - if TORUN, then break\n",
    "        if stage_status[ss]['status']=='ToRun': break\n",
    "\n",
    "        print(ss)\n",
    "        \n",
    "        dn=''\n",
    "        invert_colours=False\n",
    "        if rebase=='overallleader':\n",
    "            dc = overallleader[ss]\n",
    "        elif rebase in drivercodes:\n",
    "            dc = rebase\n",
    "            dn = '_'+dc\n",
    "            invert_colours=True\n",
    "        else:\n",
    "            dc = overallleader[ss]\n",
    "            \n",
    "        #Should we avoid SS1?\n",
    "        #SS1 stage bars are borked - disable for now?\n",
    "        #if ss=='SS1': continue\n",
    "        currprevstagerank = sp.getCurrPrevStageRank(conn, rally, rc, ss)\n",
    "        splitdurations = ssd.getSplitDurationsFromSplits(conn,rally,ss,rc)\n",
    "        # TO DO - SS1 stage bars are borked - disable for now?\n",
    "        #Need to sort them acc. to driver who ends up first at SS1 end?\n",
    "        if ss=='SS1': splitdurations=None\n",
    "        with open('{}/{}_report{}.md'.format(basepath, ss, dn), 'w') as f:\n",
    "            #stage map\n",
    "            if ss in smaps:\n",
    "                f.write('# Stage Map - {rally}, {year} - SS{ss}\\n\\n'.format(year=year,rally=rally,\n",
    "                                                                                  ss=str(ss).replace('SS','')))\n",
    "                img='maps/{}'.format(smaps[ss])\n",
    "                f.write('![]({})\\n'.format(img))\n",
    "\n",
    "            #for dc in currprevstagerank['driver.code'].unique():\n",
    "            \n",
    "            fig, ax = sp.rebaseStageProgressBar(currprevstagerank,dc, splitdurations=splitdurations,\n",
    "                                                neg='lightgreen',pos='pink',invert_colours=invert_colours,\n",
    "                                     title='Stage Progress Chart - {rally}, {year} - SS{ss}'.format(year=year,\n",
    "                                                                                                    rally=rally,\n",
    "                                                                                                    ss=str(ss).replace('SS','')));\n",
    "            img='{}/stage_report_{}_{}.png'.format(imgdir,str(ss).replace('SS',''), unidecode.unidecode(dc))\n",
    "            fig.savefig('{}/{}'.format(basepath,img))   # save the figure to file\n",
    "            plt.close(fig)  \n",
    "            f.write('# Stage Progress Chart - {rally}, {year} - {dc} - SS{ss}\\n\\n'.format(year=year,rally=rally,\n",
    "                                                                                  dc=dc,\n",
    "                                                                                  ss=str(ss).replace('SS','')))\n",
    "            f.write('![]({})\\n'.format(img))\n",
    "\n",
    "            splits = ssd. dbGetSplits(conn,rally,ss,rc)\n",
    "            if splits is not None and not splits.empty :\n",
    "                #print(splits)\n",
    "                elapseddurations=ssd.getElapsedDurations(splits)\n",
    "                try:\n",
    "                    if elapseddurations is not None and not elapseddurations.empty:\n",
    "                        fig, ax = ssd.plotSplitOverallDelta(elapseddurations,dc,invert_colours=invert_colours)\n",
    "                        img='{}/stage_report_split_delta_{}_{}.png'.format(imgdir,str(ss).replace('SS',''), unidecode.unidecode(dc))\n",
    "                        fig.savefig('{}/{}'.format(basepath,img))   # save the figure to file\n",
    "                        plt.close(fig)  \n",
    "                        f.write('# Stage Overall Split Delta Chart - {rally}, {year} - {dc} - SS{ss}\\n\\n'.format(year=year,rally=rally,\n",
    "                                                                                              dc=dc,\n",
    "                                                                                              ss=str(ss).replace('SS','')))\n",
    "                        f.write('![]({})\\n'.format(img))\n",
    "                except:\n",
    "                    print(\"Error with Overall Split Delta Chart {}\".format(ss))\n",
    "\n",
    "                #try:\n",
    "                splitdurations = ssd.getSplitDurationsFromSplits(conn,rally,ss,rc)\n",
    "                if splitdurations is not None and not splitdurations.empty:\n",
    "                    fig, ax = ssd.plotSplitSectionDelta(splitdurations,dc,invert_colours=invert_colours)\n",
    "                    img='{}/stage_report_individual_split_delta_{}_{}.png'.format(imgdir,str(ss).replace('SS',''), unidecode.unidecode(dc))\n",
    "                    fig.savefig('{}/{}'.format(basepath,img))   # save the figure to file\n",
    "                    plt.close(fig)  \n",
    "                    f.write('# Stage Within Split Delta Chart - {rally}, {year} - {dc} - SS{ss}\\n\\n'.format(year=year,rally=rally,\n",
    "                                                                                          dc=dc,\n",
    "                                                                                          ss=str(ss).replace('SS','')))\n",
    "                    f.write('![]({})\\n'.format(img))\n",
    "                #except:\n",
    "                #    print(\"Error with Within Split Delta Chart {}\".format(ss))\n",
    "                \n",
    "            stage_result_table = get_stage_results_table(stagerank_stage,ss)\n",
    "            f.write(stage_result_table)\n",
    "\n",
    "\n",
    "                \n",
    "#stageReport(stagerank_overall, stagecodes, stage_status, rebase='overallleader'  )\n",
    "#stageReport(stagerank_overall, stagecodes, stage_status, rebase='PAD'  )\n",
    "stageReport(stagerank_overall, stagerank_stage, stagecodes, stage_status, rebase=  rebase)\n"
   ]
  },
  {
   "cell_type": "code",
   "execution_count": 428,
   "metadata": {},
   "outputs": [
    {
     "data": {
      "text/plain": [
       "True"
      ]
     },
     "execution_count": 428,
     "metadata": {},
     "output_type": "execute_result"
    }
   ],
   "source": [
    "ssd.dbGetSplits(conn,rally,'SS10',rc='RC1').empty\n",
    "#ssd.getSplitDurationsFromSplits(conn,rally,'SS9',rc)"
   ]
  },
  {
   "cell_type": "code",
   "execution_count": 429,
   "metadata": {},
   "outputs": [
    {
     "name": "stdout",
     "output_type": "stream",
     "text": [
      "/Users/ajh59/Documents/code/github forks/WRC_sketches/doodles\r\n"
     ]
    }
   ],
   "source": [
    "!pwd"
   ]
  },
  {
   "cell_type": "code",
   "execution_count": 430,
   "metadata": {},
   "outputs": [],
   "source": [
    "#!/Users/ajh59/anaconda3/bin/pip install pytablewriter"
   ]
  },
  {
   "cell_type": "code",
   "execution_count": 431,
   "metadata": {},
   "outputs": [],
   "source": [
    "#splitdurations.head()"
   ]
  },
  {
   "cell_type": "code",
   "execution_count": 432,
   "metadata": {},
   "outputs": [],
   "source": [
    "#import pytablewriter\n",
    "\n",
    "#writer = pytablewriter.MarkdownTableWriter()\n",
    "#writer.from_dataframe(splitdurations.head())\n",
    "#writer.write_table()"
   ]
  },
  {
   "cell_type": "code",
   "execution_count": null,
   "metadata": {},
   "outputs": [],
   "source": []
  },
  {
   "cell_type": "code",
   "execution_count": 433,
   "metadata": {},
   "outputs": [
    {
     "name": "stdout",
     "output_type": "stream",
     "text": [
      "\u001b[0;36minfo:\u001b[0m 7 plugins are installed \n",
      "\u001b[0;36minfo:\u001b[0m 6 explicitly listed \n",
      "\u001b[0;36minfo:\u001b[0m loading plugin \"highlight\"... \u001b[0;32mOK\u001b[0m \n",
      "\u001b[0;36minfo:\u001b[0m loading plugin \"search\"... \u001b[0;32mOK\u001b[0m \n",
      "\u001b[0;36minfo:\u001b[0m loading plugin \"lunr\"... \u001b[0;32mOK\u001b[0m \n",
      "\u001b[0;36minfo:\u001b[0m loading plugin \"sharing\"... \u001b[0;32mOK\u001b[0m \n",
      "\u001b[0;36minfo:\u001b[0m loading plugin \"fontsettings\"... \u001b[0;32mOK\u001b[0m \n",
      "\u001b[0;36minfo:\u001b[0m loading plugin \"theme-default\"... \u001b[0;32mOK\u001b[0m \n",
      "\u001b[0;36minfo:\u001b[0m found 21 pages \n",
      "\u001b[0;36minfo:\u001b[0m found 42 asset files \n",
      "\u001b[0;36minfo:\u001b[0m \u001b[0;32m>> \u001b[0mgeneration finished with success in 2.9s ! \n"
     ]
    }
   ],
   "source": [
    "#In reports directory\n",
    "!(cd report/; rm -rf docs; gitbook build;  mv _book docs)\n",
    "\n",
    "#gitbook serve"
   ]
  },
  {
   "cell_type": "code",
   "execution_count": 434,
   "metadata": {},
   "outputs": [
    {
     "name": "stdout",
     "output_type": "stream",
     "text": [
      "SS1_report.html       Section 1_report.html entries_RC3.html\r\n",
      "SS2_report.html       Section 2_report.html entries_RC4.html\r\n",
      "SS3_report.html       Section 3_report.html \u001b[34mgitbook\u001b[m\u001b[m\r\n",
      "SS4_report.html       Section 4_report.html \u001b[34mimages\u001b[m\u001b[m\r\n",
      "SS5_report.html       Section 5_report.html index.html\r\n",
      "SS6_report.html       Section 6_report.html \u001b[34mmaps\u001b[m\u001b[m\r\n",
      "SS7_report.html       Section 7_report.html search_index.json\r\n",
      "SS8_report.html       entries_RC1.html\r\n",
      "SS9_report.html       entries_RC2.html\r\n"
     ]
    }
   ],
   "source": [
    "!ls report/docs"
   ]
  },
  {
   "cell_type": "code",
   "execution_count": null,
   "metadata": {},
   "outputs": [],
   "source": []
  }
 ],
 "metadata": {
  "kernelspec": {
   "display_name": "Python 3",
   "language": "python",
   "name": "python3"
  },
  "language_info": {
   "codemirror_mode": {
    "name": "ipython",
    "version": 3
   },
   "file_extension": ".py",
   "mimetype": "text/x-python",
   "name": "python",
   "nbconvert_exporter": "python",
   "pygments_lexer": "ipython3",
   "version": "3.6.4"
  }
 },
 "nbformat": 4,
 "nbformat_minor": 2
}
