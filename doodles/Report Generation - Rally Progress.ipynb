{
 "cells": [
  {
   "cell_type": "code",
   "execution_count": 1,
   "metadata": {},
   "outputs": [],
   "source": [
    "import notebookimport"
   ]
  },
  {
   "cell_type": "code",
   "execution_count": 2,
   "metadata": {},
   "outputs": [
    {
     "name": "stdout",
     "output_type": "stream",
     "text": [
      "importing Jupyter notebook from Charts - Stage Results.ipynb\n",
      "importing Jupyter notebook from Charts - Split Sector Delta.ipynb\n",
      "importing Jupyter notebook from Charts - Stage Progress.ipynb\n"
     ]
    }
   ],
   "source": [
    "sr = __import__(\"Charts - Stage Results\")\n",
    "ssd = __import__(\"Charts - Split Sector Delta\")\n",
    "sp = __import__(\"Charts - Stage Progress\")\n"
   ]
  },
  {
   "cell_type": "code",
   "execution_count": 3,
   "metadata": {},
   "outputs": [],
   "source": [
    "import os\n",
    "import sqlite3\n",
    "import pandas as pd\n",
    "\n",
    "#dbname='wrc18.db'\n",
    "dbname='mexico18.db'\n",
    "conn = sqlite3.connect(dbname)"
   ]
  },
  {
   "cell_type": "code",
   "execution_count": 4,
   "metadata": {},
   "outputs": [],
   "source": [
    "rally='Mexico'"
   ]
  },
  {
   "cell_type": "code",
   "execution_count": 5,
   "metadata": {},
   "outputs": [
    {
     "data": {
      "text/plain": [
       "\"year=2018\\nrc='RC2'\\nss='SS4'\\n\\n\\ntyp='stage_times_stage' #stage_times_stage stage_times_overall\\ntyp='stage_times_overall\""
      ]
     },
     "execution_count": 5,
     "metadata": {},
     "output_type": "execute_result"
    }
   ],
   "source": [
    "'''year=2018\n",
    "rc='RC2'\n",
    "ss='SS4'\n",
    "\n",
    "\n",
    "typ='stage_times_stage' #stage_times_stage stage_times_overall\n",
    "typ='stage_times_overall'''"
   ]
  },
  {
   "cell_type": "code",
   "execution_count": 6,
   "metadata": {},
   "outputs": [],
   "source": [
    "stageresults = sr.dbGetRallyStages(conn, rally)\n",
    "stagerank_overall = sr.getEnrichedStageRank(conn,rally, typ='overall')\n",
    "\n",
    "stagerank_stage = sr.getEnrichedStageRank(conn,rally, typ='stage')"
   ]
  },
  {
   "cell_type": "code",
   "execution_count": 7,
   "metadata": {},
   "outputs": [],
   "source": [
    "basepath = 'report'\n",
    "imgdir = 'images'\n",
    "imgdirfull = '{}/{}'.format(basepath, imgdir)\n"
   ]
  },
  {
   "cell_type": "code",
   "execution_count": 7,
   "metadata": {},
   "outputs": [
    {
     "name": "stdout",
     "output_type": "stream",
     "text": [
      "Section 1 ['SS1']\n",
      "Section 2 ['SS2', 'SS3', 'SS4', 'SS5']\n",
      "Section 3 ['SS6', 'SS7', 'SS8', 'SS9', 'SS10']\n",
      "Section 4 ['SS11', 'SS13', 'SS12']\n",
      "Section 5 ['SS14', 'SS15', 'SS16', 'SS17', 'SS18', 'SS19']\n",
      "Section 6 ['SS20', 'SS21']\n",
      "Section 7 ['SS22']\n"
     ]
    }
   ],
   "source": [
    "sections = stageresults.groupby('section')\n",
    "\n",
    "#Generate list from group: stageresults.groupby('section')['code'].apply(list)\n",
    "\n",
    "#Generate group then iterate through groups\n",
    "for key in sections.groups.keys():\n",
    "    print(key, sections.get_group(key)['code'].tolist())\n"
   ]
  },
  {
   "cell_type": "code",
   "execution_count": 9,
   "metadata": {},
   "outputs": [],
   "source": [
    "sectionREADME_base = '''\\n### {section} Report\n",
    "'''"
   ]
  },
  {
   "cell_type": "markdown",
   "metadata": {},
   "source": [
    "## Section Reports"
   ]
  },
  {
   "cell_type": "code",
   "execution_count": 10,
   "metadata": {},
   "outputs": [],
   "source": [
    "%%capture\n",
    "if not os.path.exists(imgdirfull):\n",
    "    os.makedirs(imgdirfull)\n",
    "\n",
    "def sectionRankingChart(data, fn,sectionREADME, key, deltalabels=True, elaborate=True):\n",
    "    data = sr.stageOverallEnrichers(data)\n",
    "    ss = data[data['code'].isin(sectionStages)].copy()\n",
    "    ss = sr.stageLegEnrichers(ss)\n",
    "    fn='{}/{}'.format(imgdirfull, fn_core)\n",
    "    fig, ax = sr.plotStageProgressionChart( ss, linecolor='lightgrey' , deltalabels=deltalabels, elaborate=elaborate,\n",
    "                                        progress=True, stageAnnotate=False, filename=fn, title = title); \n",
    "    if fig is not None:\n",
    "        fn='{}/{}'.format(imgdir, fn_core)\n",
    "        sectionREADME = '''{s}{key}\\n\\n![]({img})'''.format(s=sectionREADME, key=key,img=fn)\n",
    "    return sectionREADME\n",
    "\n",
    "for key in sections.groups.keys():\n",
    "    #path = '{}/{}'.format(basepath,key)\n",
    "    #if not os.path.exists(path):\n",
    "    #    os.makedirs(path)\n",
    "    sectionStages = sections.get_group(key)['code'].tolist()\n",
    "    \n",
    "    sectionREADME = sectionREADME_base.format(section=key)\n",
    "        \n",
    "    #Stage rank chart\n",
    "    fn_core='spchart_stage_{}.png'.format( key)\n",
    "    title = '{} - Stage Ranking'.format(key)\n",
    "    print(key)\n",
    "    sectionREADME = sectionRankingChart(stagerank_stage, title, sectionREADME, key, deltalabels=False, elaborate=False)\n",
    "    \n",
    "    #Overall rally ranking chart\n",
    "    fn_core='spchart_overall_{}.png'.format( key)\n",
    "    title = '{} - Overall Rally Ranking Evolution'.format(key)\n",
    "    sectionREADME = sectionRankingChart(stagerank_overall, title, sectionREADME, key, deltalabels=True, elaborate=True )\n",
    "    \n",
    "    with open('{bp}/{key}_report.md'.format(bp=basepath,key=key), 'a') as out_file:\n",
    "        out_file.write(sectionREADME)\n"
   ]
  },
  {
   "cell_type": "code",
   "execution_count": 11,
   "metadata": {},
   "outputs": [
    {
     "data": {
      "text/plain": [
       "'Section 7'"
      ]
     },
     "execution_count": 11,
     "metadata": {},
     "output_type": "execute_result"
    }
   ],
   "source": [
    "key"
   ]
  },
  {
   "cell_type": "markdown",
   "metadata": {},
   "source": [
    "### Stage progression chart"
   ]
  },
  {
   "cell_type": "code",
   "execution_count": 8,
   "metadata": {},
   "outputs": [],
   "source": [
    "%%capture\n",
    "fn='{}/spchart_full.png'.format(imgdirfull)\n",
    "fig, ax = sr.plotStageProgressionChart( stagerank_overall, linecolor='lightgrey' , deltalabels=True, \n",
    "                                        progress=True, stageAnnotate=False, filename=fn);\n",
    "\n",
    "README='''\\n![]({})'''.format('{}/spchart_full.png'.format(imgdir))\n",
    "with open('{}/README.md'.format(basepath), 'a') as out_file:\n",
    "    out_file.write(README)"
   ]
  },
  {
   "cell_type": "code",
   "execution_count": 9,
   "metadata": {},
   "outputs": [
    {
     "name": "stdout",
     "output_type": "stream",
     "text": [
      "README.md           Section 2_report.md Section 5_report.md \u001b[34mimages\u001b[m\u001b[m\r\n",
      "SS1_report.md       Section 3_report.md Section 6_report.md\r\n",
      "Section 1_report.md Section 4_report.md Section 7_report.md\r\n"
     ]
    }
   ],
   "source": [
    "!ls report"
   ]
  },
  {
   "cell_type": "markdown",
   "metadata": {},
   "source": [
    "## Stage Reports"
   ]
  },
  {
   "cell_type": "code",
   "execution_count": 8,
   "metadata": {},
   "outputs": [
    {
     "data": {
      "text/plain": [
       "{'SS1': 'NEU',\n",
       " 'SS10': 'SOR',\n",
       " 'SS11': 'LOE',\n",
       " 'SS12': 'LOE',\n",
       " 'SS13': 'LOE',\n",
       " 'SS14': 'OGI',\n",
       " 'SS15': 'OGI',\n",
       " 'SS16': 'OGI',\n",
       " 'SS17': 'OGI',\n",
       " 'SS18': 'OGI',\n",
       " 'SS19': 'OGI',\n",
       " 'SS2': 'MEE',\n",
       " 'SS20': 'OGI',\n",
       " 'SS21': 'OGI',\n",
       " 'SS22': 'OGI',\n",
       " 'SS3': 'SOR',\n",
       " 'SS4': 'SOR',\n",
       " 'SS5': 'SOR',\n",
       " 'SS6': 'SOR',\n",
       " 'SS7': 'SOR',\n",
       " 'SS8': 'SOR',\n",
       " 'SS9': 'SOR'}"
      ]
     },
     "execution_count": 8,
     "metadata": {},
     "output_type": "execute_result"
    }
   ],
   "source": [
    "overallleader = stagerank_overall[stagerank_overall['position']==1].set_index('code')[['driver.code']].to_dict(orient='dict')['driver.code']\n",
    "overallleader"
   ]
  },
  {
   "cell_type": "code",
   "execution_count": 9,
   "metadata": {},
   "outputs": [],
   "source": [
    "rc='RC1'\n",
    "year=2018\n",
    "ss='SS4'"
   ]
  },
  {
   "cell_type": "code",
   "execution_count": 10,
   "metadata": {},
   "outputs": [
    {
     "name": "stdout",
     "output_type": "stream",
     "text": [
      "SS1\n",
      "SS2\n",
      "SS3\n",
      "SS4\n",
      "SS5\n",
      "SS6\n",
      "SS7\n",
      "SS8\n",
      "SS9\n",
      "SS10\n",
      "SS11\n",
      "SS13\n",
      "SS12\n",
      "SS14\n",
      "SS15\n",
      "SS16\n",
      "SS17\n",
      "SS18\n",
      "SS19\n",
      "SS20\n",
      "SS21\n",
      "SS22\n"
     ]
    }
   ],
   "source": [
    "import matplotlib.pyplot as plt\n",
    "import unidecode\n",
    "\n",
    "links=[]\n",
    "for ss in stageresults['code']:\n",
    "    print(ss)\n",
    "    #if ss=='SS1': continue\n",
    "    currprevstagerank = sp.getCurrPrevStageRank(conn, rally, rc, ss)\n",
    "    splitdurations = ssd.getSplitDurationsFromSplits(conn,rally,ss,rc)\n",
    "    with open('{}/{}_report.md'.format(basepath, ss), 'w') as f:\n",
    "        #for dc in currprevstagerank['driver.code'].unique():\n",
    "        dc = overallleader[ss]\n",
    "        fig, ax = sp.rebaseStageProgressBar(currprevstagerank,dc, splitdurations=splitdurations,\n",
    "                                            neg='lightgreen',pos='pink',\n",
    "                                 title='Stage Progress Chart - {rally}, {year} - SS{ss}'.format(year=year,\n",
    "                                                                                                rally=rally,\n",
    "                                                                                                ss=str(ss).replace('SS','')));\n",
    "        img='{}/stage_report_{}_{}.png'.format(imgdir,str(ss).replace('SS',''), unidecode.unidecode(dc))\n",
    "        fig.savefig('{}/{}'.format(basepath,img))   # save the figure to file\n",
    "        plt.close(fig)  \n",
    "        f.write('# Stage Progress Chart - {rally}, {year} - {dc} - SS{ss}\\n\\n'.format(year=year,rally=rally,\n",
    "                                                                              dc=dc,\n",
    "                                                                              ss=str(ss).replace('SS','')))\n",
    "        f.write('![]({})\\n'.format(img))"
   ]
  },
  {
   "cell_type": "code",
   "execution_count": 11,
   "metadata": {},
   "outputs": [
    {
     "data": {
      "text/plain": [
       "True"
      ]
     },
     "execution_count": 11,
     "metadata": {},
     "output_type": "execute_result"
    }
   ],
   "source": [
    "ssd.dbGetSplits(conn,rally,'SS10',rc='RC1').empty\n",
    "#ssd.getSplitDurationsFromSplits(conn,rally,'SS9',rc)"
   ]
  },
  {
   "cell_type": "code",
   "execution_count": null,
   "metadata": {},
   "outputs": [],
   "source": []
  },
  {
   "cell_type": "code",
   "execution_count": null,
   "metadata": {},
   "outputs": [],
   "source": []
  }
 ],
 "metadata": {
  "kernelspec": {
   "display_name": "Python 3",
   "language": "python",
   "name": "python3"
  },
  "language_info": {
   "codemirror_mode": {
    "name": "ipython",
    "version": 3
   },
   "file_extension": ".py",
   "mimetype": "text/x-python",
   "name": "python",
   "nbconvert_exporter": "python",
   "pygments_lexer": "ipython3",
   "version": "3.6.4"
  }
 },
 "nbformat": 4,
 "nbformat_minor": 2
}
