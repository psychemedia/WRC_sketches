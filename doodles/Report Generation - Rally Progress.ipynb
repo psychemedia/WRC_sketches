{
 "cells": [
  {
   "cell_type": "code",
   "execution_count": 136,
   "metadata": {},
   "outputs": [],
   "source": [
    "import notebookimport"
   ]
  },
  {
   "cell_type": "code",
   "execution_count": 137,
   "metadata": {},
   "outputs": [],
   "source": [
    "sr = __import__(\"Charts - Stage Results\")\n",
    "ssd = __import__(\"Charts - Split Sector Delta\")\n",
    "sp = __import__(\"Charts - Stage Progress\")\n"
   ]
  },
  {
   "cell_type": "code",
   "execution_count": 138,
   "metadata": {},
   "outputs": [],
   "source": [
    "#need to get db builder -\n",
    "#eg http://localhost:8888/notebooks/Documents/code/github%20forks/WRC_sketches/doodles/WRC%20API%202018%20Base.ipynb"
   ]
  },
  {
   "cell_type": "code",
   "execution_count": 139,
   "metadata": {},
   "outputs": [],
   "source": [
    "import os\n",
    "import sqlite3\n",
    "import pandas as pd\n",
    "\n",
    "#dbname='wrc18.db'\n",
    "dbname='france18.db'\n",
    "conn = sqlite3.connect(dbname)"
   ]
  },
  {
   "cell_type": "code",
   "execution_count": 140,
   "metadata": {},
   "outputs": [],
   "source": [
    "rally='France'"
   ]
  },
  {
   "cell_type": "code",
   "execution_count": 141,
   "metadata": {},
   "outputs": [
    {
     "data": {
      "text/plain": [
       "\"year=2018\\nrc='RC2'\\nss='SS4'\\n\\n\\ntyp='stage_times_stage' #stage_times_stage stage_times_overall\\ntyp='stage_times_overall\""
      ]
     },
     "execution_count": 141,
     "metadata": {},
     "output_type": "execute_result"
    }
   ],
   "source": [
    "'''year=2018\n",
    "rc='RC2'\n",
    "ss='SS4'\n",
    "\n",
    "\n",
    "typ='stage_times_stage' #stage_times_stage stage_times_overall\n",
    "typ='stage_times_overall'''"
   ]
  },
  {
   "cell_type": "code",
   "execution_count": 142,
   "metadata": {},
   "outputs": [],
   "source": [
    "stageresults = sr.dbGetRallyStages(conn, rally).sort_values('number')\n",
    "stagerank_overall = sr.getEnrichedStageRank(conn,rally, typ='overall')\n",
    "\n",
    "stagerank_stage = sr.getEnrichedStageRank(conn,rally, typ='stage')"
   ]
  },
  {
   "cell_type": "code",
   "execution_count": 143,
   "metadata": {},
   "outputs": [],
   "source": [
    "basepath = 'report'\n",
    "imgdir = 'images'\n",
    "imgdirfull = '{}/{}'.format(basepath, imgdir)\n"
   ]
  },
  {
   "cell_type": "code",
   "execution_count": 144,
   "metadata": {},
   "outputs": [
    {
     "name": "stdout",
     "output_type": "stream",
     "text": [
      "Section 1 ['SS1', 'SS2']\n",
      "Section 2 ['SS3', 'SS4']\n",
      "Section 3 ['SS5', 'SS6']\n",
      "Section 4 ['SS7']\n",
      "Section 5 ['SS8', 'SS9']\n",
      "Section 6 ['SS10']\n",
      "Section 7 ['SS11']\n",
      "Section 8 ['SS12']\n"
     ]
    }
   ],
   "source": [
    "sections = stageresults.groupby('section')\n",
    "\n",
    "#Generate list from group: stageresults.groupby('section')['code'].apply(list)\n",
    "\n",
    "#Generate group then iterate through groups\n",
    "for key in sections.groups.keys():\n",
    "    print(key, sections.get_group(key)['code'].tolist())\n"
   ]
  },
  {
   "cell_type": "code",
   "execution_count": 145,
   "metadata": {},
   "outputs": [],
   "source": [
    "sectionREADME_base = '''\\n### {section} Report\n",
    "'''"
   ]
  },
  {
   "cell_type": "markdown",
   "metadata": {},
   "source": [
    "## Section Reports\n",
    "\n",
    "Can these be limited to e.g. just RC1?"
   ]
  },
  {
   "cell_type": "code",
   "execution_count": 146,
   "metadata": {},
   "outputs": [
    {
     "data": {
      "text/plain": [
       "{'SS1': {'status': 'Interrupted'},\n",
       " 'SS10': {'status': 'ToRun'},\n",
       " 'SS11': {'status': 'ToRun'},\n",
       " 'SS12': {'status': 'ToRun'},\n",
       " 'SS2': {'status': 'Completed'},\n",
       " 'SS3': {'status': 'Interrupted'},\n",
       " 'SS4': {'status': 'Completed'},\n",
       " 'SS5': {'status': 'ToRun'},\n",
       " 'SS6': {'status': 'ToRun'},\n",
       " 'SS7': {'status': 'ToRun'},\n",
       " 'SS8': {'status': 'ToRun'},\n",
       " 'SS9': {'status': 'ToRun'}}"
      ]
     },
     "execution_count": 146,
     "metadata": {},
     "output_type": "execute_result"
    }
   ],
   "source": [
    "q='''\n",
    "    SELECT itc.code, itc.status\n",
    "    FROM itinerary_controls itc\n",
    "    JOIN championship_events ce ON itc.eventId=ce.eventId\n",
    "    JOIN itinerary_sections isc ON itc.`itinerarySections.itinerarySectionId`=isc.itinerarySectionId\n",
    "    JOIN itinerary_legs il ON isc.itineraryLegId=il.itineraryLegId\n",
    "    WHERE ce.`country.name`=\"{rally}\" AND itc.code LIKE \"SS%\" \n",
    "    '''.format(rally=rally)\n",
    "stage_status=pd.read_sql(q,conn).set_index('code').to_dict(orient='index')\n",
    "stage_status"
   ]
  },
  {
   "cell_type": "code",
   "execution_count": 147,
   "metadata": {},
   "outputs": [],
   "source": [
    "%%capture\n",
    "if not os.path.exists(imgdirfull):\n",
    "    os.makedirs(imgdirfull)\n",
    "\n",
    "def sectionRankingChart(data, fn,sectionREADME, key, sectionStages, deltalabels=True, elaborate=True):\n",
    "    data = sr.stageOverallEnrichers(data)\n",
    "    ss = data[data['code'].isin(sectionStages)].copy()\n",
    "    ss = sr.stageLegEnrichers(ss)\n",
    "    if ss.empty: return sectionREADME\n",
    "    fn='{}/{}'.format(imgdirfull, fn_core)\n",
    "    fig, ax = sr.plotStageProgressionChart( ss, linecolor='lightgrey' , deltalabels=deltalabels, elaborate=elaborate,\n",
    "                                        progress=True, stageAnnotate=False, filename=fn, title = title); \n",
    "    if fig is not None:\n",
    "        fn='{}/{}'.format(imgdir, fn_core)\n",
    "        sectionREADME = '''{s}{key}\\n\\n![]({img})'''.format(s=sectionREADME, key=key,img=fn)\n",
    "    return sectionREADME\n",
    "\n",
    "for key in sections.groups.keys():\n",
    "    #path = '{}/{}'.format(basepath,key)\n",
    "    #if not os.path.exists(path):\n",
    "    #    os.makedirs(path)\n",
    "    sectionStages = sections.get_group(key)['code'].tolist()\n",
    "    #Check section stages - if TORUN, then break\n",
    "    for sectionStage in sectionStages:\n",
    "        if stage_status[sectionStage]['status']=='ToRun': break\n",
    "        \n",
    "    sectionREADME = sectionREADME_base.format(section=key)\n",
    "        \n",
    "    #Stage rank chart\n",
    "    fn_core='spchart_stage_{}.png'.format( key)\n",
    "    title = '{} - Stage Ranking'.format(key)\n",
    "    \n",
    "    sectionREADME = sectionRankingChart(stagerank_stage, title, sectionREADME, key, sectionStages, deltalabels=False, elaborate=False)\n",
    "    \n",
    "    #Overall rally ranking chart\n",
    "    fn_core='spchart_overall_{}.png'.format( key)\n",
    "    title = '{} - Overall Rally Ranking Evolution'.format(key)\n",
    "    sectionREADME = sectionRankingChart(stagerank_overall, title, sectionREADME, key, sectionStages, deltalabels=True, elaborate=True )\n",
    "    \n",
    "    with open('{bp}/{key}_report.md'.format(bp=basepath,key=key), 'a') as out_file:\n",
    "        out_file.write(sectionREADME)\n"
   ]
  },
  {
   "cell_type": "markdown",
   "metadata": {},
   "source": [
    "### Stage progression chart"
   ]
  },
  {
   "cell_type": "code",
   "execution_count": 148,
   "metadata": {},
   "outputs": [],
   "source": [
    "%%capture\n",
    "fn='{}/spchart_full.png'.format(imgdirfull)\n",
    "fig, ax = sr.plotStageProgressionChart( stagerank_overall, linecolor='lightgrey' , deltalabels=True, \n",
    "                                        progress=True, stageAnnotate=False, filename=fn);\n",
    "\n",
    "README='''\\n![]({})'''.format('{}/spchart_full.png'.format(imgdir))\n",
    "with open('{}/README.md'.format(basepath), 'a') as out_file:\n",
    "    out_file.write(README)"
   ]
  },
  {
   "cell_type": "code",
   "execution_count": 149,
   "metadata": {},
   "outputs": [
    {
     "name": "stdout",
     "output_type": "stream",
     "text": [
      "README.md           SS18_report.md      SS9_report.md       Section 8_report.md\r\n",
      "SS10_report.md      SS19_report.md      SUMMARY.md          entries_RC1.md\r\n",
      "SS11_report.md      SS20_report.md      Section 1_report.md entries_RC2.md\r\n",
      "SS12_report.md      SS21_report.md      Section 2_report.md entries_RC3.md\r\n",
      "SS13_report.md      SS22_report.md      Section 3_report.md entries_RC4.md\r\n",
      "SS14_report.md      SS5_report.md       Section 4_report.md entries_RGT.md\r\n",
      "SS15_report.md      SS6_report.md       Section 5_report.md \u001b[34mimages\u001b[m\u001b[m\r\n",
      "SS16_report.md      SS7_report.md       Section 6_report.md\r\n",
      "SS17_report.md      SS8_report.md       Section 7_report.md\r\n"
     ]
    }
   ],
   "source": [
    "!ls report"
   ]
  },
  {
   "cell_type": "markdown",
   "metadata": {},
   "source": [
    "## Stage Reports"
   ]
  },
  {
   "cell_type": "code",
   "execution_count": 150,
   "metadata": {},
   "outputs": [
    {
     "data": {
      "text/plain": [
       "{'SS1': 'OGI', 'SS2': 'OGI', 'SS3': 'OGI', 'SS4': 'OGI'}"
      ]
     },
     "execution_count": 150,
     "metadata": {},
     "output_type": "execute_result"
    }
   ],
   "source": [
    "overallleader = stagerank_overall[stagerank_overall['position']==1].set_index('code')[['driver.code']].to_dict(orient='dict')['driver.code']\n",
    "overallleader"
   ]
  },
  {
   "cell_type": "code",
   "execution_count": 151,
   "metadata": {},
   "outputs": [],
   "source": [
    "rc='RC1'\n",
    "year=2018\n",
    "ss='SS4'"
   ]
  },
  {
   "cell_type": "code",
   "execution_count": 152,
   "metadata": {},
   "outputs": [
    {
     "name": "stdout",
     "output_type": "stream",
     "text": [
      "SS1\n",
      "SS2\n",
      "SS3\n",
      "SS4\n"
     ]
    }
   ],
   "source": [
    "import matplotlib.pyplot as plt\n",
    "import unidecode\n",
    "\n",
    "links=[]\n",
    "for ss in stageresults['code']:\n",
    "    #Check section stages - if TORUN, then break\n",
    "    if stage_status[ss]['status']=='ToRun': break\n",
    "\n",
    "    print(ss)\n",
    "    #Should we avoid SS1?\n",
    "    #SS1 stage bars are borked - disable for now?\n",
    "    #if ss=='SS1': continue\n",
    "    currprevstagerank = sp.getCurrPrevStageRank(conn, rally, rc, ss)\n",
    "    splitdurations = ssd.getSplitDurationsFromSplits(conn,rally,ss,rc)\n",
    "    # TO DO - SS1 stage bars are borked - disable for now?\n",
    "    #Need to sort them acc. to driver who ends up first at SS1 end?\n",
    "    if ss=='SS1': splitdurations=None\n",
    "    with open('{}/{}_report.md'.format(basepath, ss), 'w') as f:\n",
    "        #for dc in currprevstagerank['driver.code'].unique():\n",
    "        dc = overallleader[ss]\n",
    "        fig, ax = sp.rebaseStageProgressBar(currprevstagerank,dc, splitdurations=splitdurations,\n",
    "                                            neg='lightgreen',pos='pink',\n",
    "                                 title='Stage Progress Chart - {rally}, {year} - SS{ss}'.format(year=year,\n",
    "                                                                                                rally=rally,\n",
    "                                                                                                ss=str(ss).replace('SS','')));\n",
    "        img='{}/stage_report_{}_{}.png'.format(imgdir,str(ss).replace('SS',''), unidecode.unidecode(dc))\n",
    "        fig.savefig('{}/{}'.format(basepath,img))   # save the figure to file\n",
    "        plt.close(fig)  \n",
    "        f.write('# Stage Progress Chart - {rally}, {year} - {dc} - SS{ss}\\n\\n'.format(year=year,rally=rally,\n",
    "                                                                              dc=dc,\n",
    "                                                                              ss=str(ss).replace('SS','')))\n",
    "        f.write('![]({})\\n'.format(img))"
   ]
  },
  {
   "cell_type": "code",
   "execution_count": 153,
   "metadata": {},
   "outputs": [
    {
     "data": {
      "text/plain": [
       "True"
      ]
     },
     "execution_count": 153,
     "metadata": {},
     "output_type": "execute_result"
    }
   ],
   "source": [
    "ssd.dbGetSplits(conn,rally,'SS10',rc='RC1').empty\n",
    "#ssd.getSplitDurationsFromSplits(conn,rally,'SS9',rc)"
   ]
  },
  {
   "cell_type": "code",
   "execution_count": 154,
   "metadata": {},
   "outputs": [
    {
     "name": "stdout",
     "output_type": "stream",
     "text": [
      "/Users/ajh59/Documents/code/github forks/WRC_sketches/doodles\r\n"
     ]
    }
   ],
   "source": [
    "!pwd"
   ]
  },
  {
   "cell_type": "code",
   "execution_count": null,
   "metadata": {},
   "outputs": [],
   "source": []
  }
 ],
 "metadata": {
  "kernelspec": {
   "display_name": "Python 3",
   "language": "python",
   "name": "python3"
  },
  "language_info": {
   "codemirror_mode": {
    "name": "ipython",
    "version": 3
   },
   "file_extension": ".py",
   "mimetype": "text/x-python",
   "name": "python",
   "nbconvert_exporter": "python",
   "pygments_lexer": "ipython3",
   "version": "3.6.4"
  }
 },
 "nbformat": 4,
 "nbformat_minor": 2
}
